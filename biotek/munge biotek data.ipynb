{
 "cells": [
  {
   "cell_type": "code",
   "execution_count": 108,
   "metadata": {},
   "outputs": [],
   "source": [
    "#workhorses\n",
    "import numpy as np\n",
    "import pandas as pd\n"
   ]
  },
  {
   "cell_type": "markdown",
   "metadata": {},
   "source": [
    "## Get the data"
   ]
  },
  {
   "cell_type": "code",
   "execution_count": 109,
   "metadata": {},
   "outputs": [],
   "source": [
    "directory = 'Z:/Reed/Projects/micro_consortia/DARPA_biocon/Task 1.1/A=B/20181128 A=B cfp yfp screen 1/'\n",
    "\n",
    "filename = '20181128 cfp yfp A=B screen 1.xlsx'"
   ]
  },
  {
   "cell_type": "code",
   "execution_count": 110,
   "metadata": {},
   "outputs": [],
   "source": [
    "data_dict = pd.read_excel(directory + filename, sheet_name=None)"
   ]
  },
  {
   "cell_type": "code",
   "execution_count": 111,
   "metadata": {},
   "outputs": [
    {
     "data": {
      "text/plain": [
       "odict_keys(['OD700', 'CFP61', 'CFP100', 'YFP61', 'YFP100', 'Exp', 'IDs'])"
      ]
     },
     "execution_count": 111,
     "metadata": {},
     "output_type": "execute_result"
    }
   ],
   "source": [
    "data_dict.keys()"
   ]
  },
  {
   "cell_type": "markdown",
   "metadata": {},
   "source": [
    "## Concat multiple plates over time"
   ]
  },
  {
   "cell_type": "code",
   "execution_count": 10,
   "metadata": {},
   "outputs": [],
   "source": [
    "def fix_columns (dataframe):\n",
    "    \n",
    "    renames = {curr_name : dataframe.loc[min(dataframe.index), curr_name] for curr_name in dataframe.columns}\n",
    "    \n",
    "    dataframe = dataframe.rename(columns = renames)\n",
    "    \n",
    "    dataframe = dataframe.drop(min(dataframe.index))\n",
    "    \n",
    "    return dataframe"
   ]
  },
  {
   "cell_type": "code",
   "execution_count": 30,
   "metadata": {},
   "outputs": [],
   "source": [
    "def get_plate_dfs (multiplate_df):\n",
    "    \n",
    "    #gets the indices where the row says \"time\" which is the header row for that plate's table\n",
    "    times = multiplate_df.loc[multiplate_df['Time'] == 'Time'].index\n",
    "    \n",
    "    #since the first one has it's header as the column titles already, add this index to capture the first one\n",
    "    timesn = [0] + list(times) + [max(multiplate_df.index) + 1]\n",
    "    \n",
    "    #get number of indices to add to the \"Times\" header row to get this plate's table\n",
    "    timediffs = np.diff(np.array(timesn))\n",
    "    \n",
    "    #get the start and end indices for each table you want\n",
    "    start_end_idxs = [(i, i+j) for i,j in zip(timesn, timediffs)]\n",
    "    \n",
    "    #select the data from the big composite set\n",
    "    datas = [multiplate_df.iloc[x[0]:x[1]] for x in start_end_idxs]\n",
    "    \n",
    "    #the first set has proper column labels, the others have the column labels as the first row\n",
    "    #replace the existing columns with the first row entries to get proper column labels\n",
    "    alls = [datas[0]] + [fix_columns(data) for data in datas[1:]]\n",
    "    \n",
    "    #put them all together in order to get the final df\n",
    "    #concat joins them on matching columns, so order of columns doesn't matter, just that they are present in all dfs\n",
    "    output = pd.concat(alls).reset_index(drop=True)\n",
    "    \n",
    "    return output"
   ]
  },
  {
   "cell_type": "code",
   "execution_count": 31,
   "metadata": {},
   "outputs": [],
   "source": [
    "keys = [x for x in data_dict.keys() if x not in ['Exp', 'IDs']]"
   ]
  },
  {
   "cell_type": "code",
   "execution_count": 33,
   "metadata": {},
   "outputs": [
    {
     "name": "stderr",
     "output_type": "stream",
     "text": [
      "C:\\Users\\geeze\\Anaconda3\\lib\\site-packages\\ipykernel_launcher.py:24: FutureWarning: Sorting because non-concatenation axis is not aligned. A future version\n",
      "of pandas will change to not sort by default.\n",
      "\n",
      "To accept the future behavior, pass 'sort=False'.\n",
      "\n",
      "To retain the current behavior and silence the warning, pass 'sort=True'.\n",
      "\n"
     ]
    }
   ],
   "source": [
    "for k in keys:\n",
    "    get_plate_dfs(data_dict[k]).to_csv(directory + k + '_condensed.csv', index=False)"
   ]
  },
  {
   "cell_type": "markdown",
   "metadata": {},
   "source": [
    "## Munge the data"
   ]
  },
  {
   "cell_type": "markdown",
   "metadata": {},
   "source": [
    "### Functions"
   ]
  },
  {
   "cell_type": "code",
   "execution_count": 112,
   "metadata": {},
   "outputs": [],
   "source": [
    "def get_sec (datetimeTime_obj):\n",
    "    \n",
    "    return (datetimeTime_obj.hour * 60 + datetimeTime_obj.minute) * 60 + datetimeTime_obj.second"
   ]
  },
  {
   "cell_type": "code",
   "execution_count": 113,
   "metadata": {},
   "outputs": [],
   "source": [
    "def replace_time (data_sheet):\n",
    "    \n",
    "    df = data_sheet.copy()\n",
    "    \n",
    "    df['Time'] = df['Time'].apply(get_sec).divide(3600)\n",
    "    \n",
    "    return df"
   ]
  },
  {
   "cell_type": "code",
   "execution_count": 130,
   "metadata": {},
   "outputs": [],
   "source": [
    "def replace_time_sequential (data_sheet):\n",
    "    \n",
    "    df = data_sheet.copy()\n",
    "    \n",
    "    df['Time'] = df['Time'].apply(get_sec).divide(3600)\n",
    "    \n",
    "    first = df.loc[0, 'Time']\n",
    "    second = df.loc[1, 'Time']\n",
    "    \n",
    "    diff = second - first\n",
    "    \n",
    "    too_long = np.arange(first, 1000, diff)\n",
    "    \n",
    "    proper_length = too_long[:(len(df['Time']))]\n",
    "    \n",
    "    df['Time'] = proper_length\n",
    "    \n",
    "    return df"
   ]
  },
  {
   "cell_type": "code",
   "execution_count": 115,
   "metadata": {},
   "outputs": [],
   "source": [
    "def replace_temp (data_sheet):\n",
    "    \n",
    "    df = data_sheet.copy()\n",
    "    \n",
    "    c = ['Temp C' if '°' in x else x for x in df.columns]\n",
    "    \n",
    "    df.columns = c\n",
    "    \n",
    "    return df"
   ]
  },
  {
   "cell_type": "code",
   "execution_count": 116,
   "metadata": {},
   "outputs": [],
   "source": [
    "def add_id_info (data_sheet_melted, df_id):\n",
    "    \n",
    "    #make a copy of the dataframe so you can return the new one and set whatever name you want\n",
    "    df = data_sheet_melted.copy()\n",
    "\n",
    "    #initialize the columns to be used to store ID info\n",
    "    all_id_columns = [col for col in df_id.columns if col not in 'well']\n",
    "\n",
    "    for c in all_id_columns:\n",
    "        df[c] = np.nan\n",
    "\n",
    "    #get the list of all the wells you want to annotate\n",
    "    wells = np.unique(df_id['well'])\n",
    "\n",
    "    #loop over these wells and add the information to the initialized columns\n",
    "    for w in wells:\n",
    "        #get the ID information for this well\n",
    "        append_this = df_id.loc[df_id['well'] == w, :]\n",
    "\n",
    "        #loop over each column containing a unique piece of ID info\n",
    "        for c in all_id_columns:\n",
    "\n",
    "            #set the value for that column for that well\n",
    "            df.loc[df['well'] == w, c] = append_this[c].values\n",
    "                                                                #have to use .values otherwise index carries along and only\n",
    "                                                                #sets the value for the data table index equal to the\n",
    "                                                                #id table index\n",
    "\n",
    "    return df"
   ]
  },
  {
   "cell_type": "markdown",
   "metadata": {},
   "source": [
    "## Do the munging"
   ]
  },
  {
   "cell_type": "code",
   "execution_count": 131,
   "metadata": {},
   "outputs": [
    {
     "name": "stdout",
     "output_type": "stream",
     "text": [
      "130\n",
      "130\n",
      "130\n",
      "130\n",
      "130\n"
     ]
    }
   ],
   "source": [
    "keys_to_munge = [x for x in data_dict.keys() if x not in ['Exp', 'IDs']]\n",
    "\n",
    "#replace time and temp by overwriting the original data\n",
    "for key in keys_to_munge:\n",
    "    \n",
    "#     data_dict[key] = replace_time(data_dict[key])\n",
    "    data_dict[key] = replace_time_sequential(data_dict[key])\n",
    "    data_dict[key] = replace_temp(data_dict[key])"
   ]
  },
  {
   "cell_type": "markdown",
   "metadata": {},
   "source": [
    "### Assign well IDs"
   ]
  },
  {
   "cell_type": "code",
   "execution_count": 133,
   "metadata": {},
   "outputs": [],
   "source": [
    "#get the well identifying information\n",
    "ids = data_dict['IDs']\n",
    "\n",
    "#get the data you want\n",
    "od_raw = data_dict['OD700']\n",
    "cfp61_raw = data_dict['CFP61']\n",
    "cfp100_raw = data_dict['CFP100']\n",
    "yfp61_raw = data_dict['YFP61']\n",
    "yfp100_raw = data_dict['YFP100']"
   ]
  },
  {
   "cell_type": "code",
   "execution_count": 134,
   "metadata": {},
   "outputs": [],
   "source": [
    "#independently melt the data so you can check and control the ID vars and value vars since that might differ per expt\n",
    "od = pd.melt(od_raw, id_vars=['Time', 'Temp C'], var_name=['well'])\n",
    "\n",
    "cfp61 = pd.melt(cfp61_raw, id_vars=['Time', 'Temp C'], var_name=['well'])\n",
    "\n",
    "cfp100 = pd.melt(cfp100_raw, id_vars=['Time', 'Temp C'], var_name=['well'])\n",
    "\n",
    "yfp61 = pd.melt(yfp61_raw, id_vars=['Time', 'Temp C'], var_name=['well'])\n",
    "\n",
    "yfp100 = pd.melt(yfp100_raw, id_vars=['Time', 'Temp C'], var_name=['well'])"
   ]
  },
  {
   "cell_type": "code",
   "execution_count": 135,
   "metadata": {},
   "outputs": [],
   "source": [
    "od_final = add_id_info(od, ids)\n",
    "\n",
    "cfp61 = add_id_info(cfp61, ids)\n",
    "\n",
    "cfp100 = add_id_info(cfp100, ids)\n",
    "\n",
    "yfp61 = add_id_info(yfp61, ids)\n",
    "\n",
    "yfp100 = add_id_info(yfp100, ids)"
   ]
  },
  {
   "cell_type": "markdown",
   "metadata": {},
   "source": [
    "## Write the data to a new file"
   ]
  },
  {
   "cell_type": "code",
   "execution_count": 136,
   "metadata": {},
   "outputs": [],
   "source": [
    "to_write = [od_final, cfp61, cfp100, yfp61, yfp100]\n",
    "names = ['OD700_final', 'CFP61', 'CFP100', 'YFP61', 'YFP100']"
   ]
  },
  {
   "cell_type": "code",
   "execution_count": 137,
   "metadata": {},
   "outputs": [],
   "source": [
    "for df, name in zip(to_write, names):\n",
    "    df.to_csv(directory + name + '_tidy.csv', index=False)"
   ]
  },
  {
   "cell_type": "code",
   "execution_count": null,
   "metadata": {},
   "outputs": [],
   "source": []
  }
 ],
 "metadata": {
  "kernelspec": {
   "display_name": "Python 3",
   "language": "python",
   "name": "python3"
  },
  "language_info": {
   "codemirror_mode": {
    "name": "ipython",
    "version": 3
   },
   "file_extension": ".py",
   "mimetype": "text/x-python",
   "name": "python",
   "nbconvert_exporter": "python",
   "pygments_lexer": "ipython3",
   "version": "3.6.7"
  }
 },
 "nbformat": 4,
 "nbformat_minor": 2
}
