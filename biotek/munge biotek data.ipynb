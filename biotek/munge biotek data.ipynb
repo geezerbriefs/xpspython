{
 "cells": [
  {
   "cell_type": "code",
   "execution_count": 1,
   "metadata": {},
   "outputs": [],
   "source": [
    "#workhorses\n",
    "import numpy as np\n",
    "import pandas as pd\n"
   ]
  },
  {
   "cell_type": "markdown",
   "metadata": {},
   "source": [
    "## Get the data"
   ]
  },
  {
   "cell_type": "code",
   "execution_count": 2,
   "metadata": {},
   "outputs": [],
   "source": [
    "data_dict = pd.read_excel('../../Local Data/20181009 top 4 A B cell variants A=B sampling exp 1.xlsx', sheet_name=None)"
   ]
  },
  {
   "cell_type": "code",
   "execution_count": 3,
   "metadata": {},
   "outputs": [
    {
     "data": {
      "text/plain": [
       "odict_keys(['OD700', 'YFP', 'BFP', 'IDs', 'Exp-btek'])"
      ]
     },
     "execution_count": 3,
     "metadata": {},
     "output_type": "execute_result"
    }
   ],
   "source": [
    "data_dict.keys()"
   ]
  },
  {
   "cell_type": "markdown",
   "metadata": {},
   "source": [
    "## Munge the data"
   ]
  },
  {
   "cell_type": "markdown",
   "metadata": {},
   "source": [
    "### Functions"
   ]
  },
  {
   "cell_type": "code",
   "execution_count": 4,
   "metadata": {},
   "outputs": [],
   "source": [
    "def get_sec (datetimeTime_obj):\n",
    "    \n",
    "    return (datetimeTime_obj.hour * 60 + datetimeTime_obj.minute) * 60 + datetimeTime_obj.second"
   ]
  },
  {
   "cell_type": "code",
   "execution_count": 5,
   "metadata": {},
   "outputs": [],
   "source": [
    "def replace_time (data_sheet):\n",
    "    \n",
    "    df = data_sheet.copy()\n",
    "    \n",
    "    df['Time'] = df['Time'].apply(get_sec).divide(3600)\n",
    "    \n",
    "    return df"
   ]
  },
  {
   "cell_type": "code",
   "execution_count": 6,
   "metadata": {},
   "outputs": [],
   "source": [
    "def replace_temp (data_sheet):\n",
    "    \n",
    "    df = data_sheet.copy()\n",
    "    \n",
    "    c = ['Temp C' if '°' in x else x for x in df.columns]\n",
    "    \n",
    "    df.columns = c\n",
    "    \n",
    "    return df"
   ]
  },
  {
   "cell_type": "code",
   "execution_count": 7,
   "metadata": {},
   "outputs": [],
   "source": [
    "def add_id_info (data_sheet_melted, df_id):\n",
    "    \n",
    "    #make a copy of the dataframe so you can return the new one and set whatever name you want\n",
    "    df = data_sheet_melted.copy()\n",
    "\n",
    "    #initialize the columns to be used to store ID info\n",
    "    all_id_columns = [col for col in df_id.columns if col not in 'well']\n",
    "\n",
    "    for c in all_id_columns:\n",
    "        df[c] = np.nan\n",
    "\n",
    "    #get the list of all the wells you want to annotate\n",
    "    wells = np.unique(df_id['well'])\n",
    "\n",
    "    #loop over these wells and add the information to the initialized columns\n",
    "    for w in wells:\n",
    "        #get the ID information for this well\n",
    "        append_this = df_id.loc[df_id['well'] == w, :]\n",
    "\n",
    "        #loop over each column containing a unique piece of ID info\n",
    "        for c in all_id_columns:\n",
    "\n",
    "            #set the value for that column for that well\n",
    "            df.loc[df['well'] == w, c] = append_this[c].values\n",
    "                                                                #have to use .values otherwise index carries along and only\n",
    "                                                                #sets the value for the data table index equal to the\n",
    "                                                                #id table index\n",
    "\n",
    "    return df"
   ]
  },
  {
   "cell_type": "markdown",
   "metadata": {},
   "source": [
    "## Do the munging"
   ]
  },
  {
   "cell_type": "code",
   "execution_count": 8,
   "metadata": {},
   "outputs": [],
   "source": [
    "keys_to_munge = ['OD700', 'YFP', 'BFP']\n",
    "\n",
    "#replace time and temp by overwriting the original data\n",
    "for key in keys_to_munge:\n",
    "    \n",
    "    data_dict[key] = replace_time(data_dict[key])\n",
    "    data_dict[key] = replace_temp(data_dict[key])"
   ]
  },
  {
   "cell_type": "markdown",
   "metadata": {},
   "source": [
    "### Assign well IDs"
   ]
  },
  {
   "cell_type": "code",
   "execution_count": 9,
   "metadata": {},
   "outputs": [],
   "source": [
    "#get the well identifying information\n",
    "ids = data_dict['IDs']\n",
    "\n",
    "#get the data you want\n",
    "od_raw = data_dict['OD700']\n",
    "bfp_raw = data_dict['BFP']\n",
    "yfp_raw = data_dict['YFP']"
   ]
  },
  {
   "cell_type": "code",
   "execution_count": 10,
   "metadata": {},
   "outputs": [],
   "source": [
    "#independently melt the data so you can check and control the ID vars and value vars since that might differ per expt\n",
    "od = pd.melt(od_raw, id_vars=['Time', 'Temp C'], var_name=['well'])\n",
    "\n",
    "bfp = pd.melt(bfp_raw, id_vars=['Time', 'Temp C'], var_name=['well'])\n",
    "\n",
    "yfp = pd.melt(yfp_raw, id_vars=['Time', 'Temp C'], var_name=['well'])"
   ]
  },
  {
   "cell_type": "code",
   "execution_count": 11,
   "metadata": {},
   "outputs": [],
   "source": [
    "od_final = add_id_info(od, ids)\n",
    "\n",
    "bfp_final = add_id_info(bfp, ids)\n",
    "\n",
    "yfp_final = add_id_info(yfp, ids)"
   ]
  },
  {
   "cell_type": "markdown",
   "metadata": {},
   "source": [
    "## Write the data to a new file"
   ]
  },
  {
   "cell_type": "code",
   "execution_count": 14,
   "metadata": {},
   "outputs": [],
   "source": [
    "od_final.to_csv('../../Local Data/od700_tidy.csv', index=False)\n",
    "bfp_final.to_csv('../../Local Data/bfp_tidy.csv', index=False)\n",
    "yfp_final.to_csv('../../Local Data/yfp_tidy.csv', index=False)"
   ]
  },
  {
   "cell_type": "code",
   "execution_count": null,
   "metadata": {},
   "outputs": [],
   "source": []
  }
 ],
 "metadata": {
  "kernelspec": {
   "display_name": "Python 3",
   "language": "python",
   "name": "python3"
  },
  "language_info": {
   "codemirror_mode": {
    "name": "ipython",
    "version": 3
   },
   "file_extension": ".py",
   "mimetype": "text/x-python",
   "name": "python",
   "nbconvert_exporter": "python",
   "pygments_lexer": "ipython3",
   "version": "3.6.7"
  }
 },
 "nbformat": 4,
 "nbformat_minor": 2
}
