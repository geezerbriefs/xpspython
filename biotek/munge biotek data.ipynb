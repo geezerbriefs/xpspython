{
 "cells": [
  {
   "cell_type": "code",
   "execution_count": 56,
   "metadata": {},
   "outputs": [],
   "source": [
    "#workhorses\n",
    "import numpy as np\n",
    "import pandas as pd\n",
    "\n",
    "#for writing to excel files\n",
    "from openpyxl import load_workbook"
   ]
  },
  {
   "cell_type": "markdown",
   "metadata": {},
   "source": [
    "## Get the data"
   ]
  },
  {
   "cell_type": "code",
   "execution_count": 57,
   "metadata": {},
   "outputs": [],
   "source": [
    "directory = 'C:/Users/geeze/Box/biocircuits/Reed/projects/DARPA_biocon/Task 1.1/A+pTet-ccdA/20200917 capnresc 4 fresh trans full96 set 1/'\n",
    "\n",
    "filename = '20200917 capnresc 4 fresh trans full96 set 1.xlsx'"
   ]
  },
  {
   "cell_type": "code",
   "execution_count": 58,
   "metadata": {},
   "outputs": [],
   "source": [
    "data_dict = pd.read_excel(directory + filename, sheet_name=None)"
   ]
  },
  {
   "cell_type": "code",
   "execution_count": 59,
   "metadata": {},
   "outputs": [
    {
     "data": {
      "text/plain": [
       "dict_keys(['1', '2', '3', '4', '5', 'IDs', 'Exp', 'OD700,_tidy'])"
      ]
     },
     "execution_count": 59,
     "metadata": {},
     "output_type": "execute_result"
    }
   ],
   "source": [
    "data_dict.keys()"
   ]
  },
  {
   "cell_type": "markdown",
   "metadata": {},
   "source": [
    "## do you have multiple plates you need to concat?"
   ]
  },
  {
   "cell_type": "code",
   "execution_count": 60,
   "metadata": {},
   "outputs": [],
   "source": [
    "many_plates = True"
   ]
  },
  {
   "cell_type": "markdown",
   "metadata": {},
   "source": [
    "## Concat multiple plates over time"
   ]
  },
  {
   "cell_type": "code",
   "execution_count": 61,
   "metadata": {},
   "outputs": [
    {
     "name": "stdout",
     "output_type": "stream",
     "text": [
      "['1', '2', '3', '4', '5', 'OD700,_tidy']\n"
     ]
    }
   ],
   "source": [
    "plate_keys = [x for x in data_dict.keys() if x not in ['Exp', 'IDs']]\n",
    "print(plate_keys)"
   ]
  },
  {
   "cell_type": "code",
   "execution_count": 62,
   "metadata": {},
   "outputs": [],
   "source": [
    "if many_plates:\n",
    "    plate_data = []\n",
    "\n",
    "    for k in keys:\n",
    "        plate_data.append(data_dict[k])\n",
    "        \n",
    "    full_data = pd.concat(plate_data)"
   ]
  },
  {
   "cell_type": "code",
   "execution_count": 63,
   "metadata": {},
   "outputs": [],
   "source": [
    "# look for the temperature column, it contains the channel information\n",
    "channel_label = [x for x in full_data.columns if ('°' in x)]\n",
    "\n",
    "#make sure it's unique\n",
    "if len(channel_label) == 1:\n",
    "    channel_label = channel_label[0]\n",
    "else:\n",
    "    raise ValueError('you have not identified the unique Temp column that contains the channel info')\n",
    "    \n",
    "# get the channel info\n",
    "channel_label = channel_label.lstrip('T° ')\n",
    "\n",
    "#colons are not allowed, neither are brackets\n",
    "channel_label = channel_label.replace(':', '')\n",
    "channel_label = channel_label.replace('[', '')\n",
    "channel_label = channel_label.replace(']', '')"
   ]
  },
  {
   "cell_type": "code",
   "execution_count": 65,
   "metadata": {},
   "outputs": [],
   "source": [
    "path = directory + filename\n",
    "\n",
    "book = load_workbook(path)\n",
    "writer = pd.ExcelWriter(path, engine = 'openpyxl')\n",
    "writer.book = book\n",
    "\n",
    "full_data.to_excel(writer, sheet_name = channel_label + '_concat', index=False)\n",
    "\n",
    "\n",
    "writer.save()\n",
    "writer.close()"
   ]
  },
  {
   "cell_type": "markdown",
   "metadata": {},
   "source": [
    "## Munge the data"
   ]
  },
  {
   "cell_type": "markdown",
   "metadata": {},
   "source": [
    "### Functions"
   ]
  },
  {
   "cell_type": "code",
   "execution_count": 112,
   "metadata": {},
   "outputs": [],
   "source": [
    "def get_sec (obj):\n",
    "    \n",
    "    #pandas seems to read the biotek time column as strings sometimes, sometimes as datetime objects\n",
    "    if isinstance(obj, str):\n",
    "        hour, minute, sec = [int(x) for x in obj.split(':')]\n",
    "        total = (hour * 60 * 60) + (minute * 60) + sec\n",
    "    else:\n",
    "        #if it's read as datetime\n",
    "        total = (obj.hour * 60 + obj.minute) * 60 + obj.second\n",
    "    \n",
    "    return total"
   ]
  },
  {
   "cell_type": "code",
   "execution_count": 113,
   "metadata": {},
   "outputs": [],
   "source": [
    "def replace_time (data_sheet):\n",
    "    \n",
    "    df = data_sheet.copy()\n",
    "    \n",
    "    df['Time'] = df['Time'].apply(get_sec).divide(3600)\n",
    "    \n",
    "    return df"
   ]
  },
  {
   "cell_type": "code",
   "execution_count": 114,
   "metadata": {},
   "outputs": [],
   "source": [
    "def replace_time_sequential (data_sheet):\n",
    "    \n",
    "    df = data_sheet.copy()\n",
    "    \n",
    "    df['Time'] = df['Time'].apply(get_sec).divide(3600)\n",
    "    \n",
    "    first = df.loc[0, 'Time']\n",
    "    second = df.loc[1, 'Time']\n",
    "    \n",
    "    diff = second - first\n",
    "    \n",
    "    too_long = np.arange(first, 1000, diff)\n",
    "    \n",
    "    #should just put the len(df) part above, but whatever this already does the job\n",
    "    #20201009 actually that doesn't work! the second argument to arange is the actual time value, not the length in entries\n",
    "    #so keep it this way\n",
    "    proper_length = too_long[:(len(df['Time']))]\n",
    "    \n",
    "    df['Time'] = proper_length\n",
    "    \n",
    "    return df"
   ]
  },
  {
   "cell_type": "code",
   "execution_count": 131,
   "metadata": {},
   "outputs": [],
   "source": [
    "def replace_temp (data_sheet):\n",
    "    \n",
    "    df = data_sheet.copy()\n",
    "    \n",
    "    c = ['Temp C' if '°' in x else x for x in df.columns]\n",
    "    \n",
    "    df.columns = c\n",
    "    \n",
    "    return df"
   ]
  },
  {
   "cell_type": "code",
   "execution_count": 124,
   "metadata": {},
   "outputs": [],
   "source": [
    "def add_id_info (data_sheet_melted, df_id):\n",
    "    \n",
    "    #make a copy of the dataframe so you can return the new one and set whatever name you want\n",
    "    df = data_sheet_melted.copy()\n",
    "\n",
    "    #initialize the columns to be used to store ID info\n",
    "    all_id_columns = [col for col in df_id.columns if col not in 'well']\n",
    "\n",
    "    for c in all_id_columns:\n",
    "        df[c] = np.nan\n",
    "\n",
    "    #get the list of all the wells you want to annotate\n",
    "    wells = np.unique(df_id['well'])\n",
    "\n",
    "    #loop over these wells and add the information to the initialized columns\n",
    "    for w in wells:\n",
    "        #get the ID information for this well\n",
    "        append_this = df_id.loc[df_id['well'] == w, :]\n",
    "\n",
    "        #loop over each column containing a unique piece of ID info\n",
    "        for c in all_id_columns:\n",
    "\n",
    "            #set the value for that column for that well\n",
    "            df.loc[df['well'] == w, c] = append_this[c].values\n",
    "                                                                #have to use .values otherwise index carries along and only\n",
    "                                                                #sets the value for the data table index equal to the\n",
    "                                                                #id table index\n",
    "\n",
    "    return df"
   ]
  },
  {
   "cell_type": "markdown",
   "metadata": {},
   "source": [
    "## Do the munging"
   ]
  },
  {
   "cell_type": "code",
   "execution_count": 146,
   "metadata": {},
   "outputs": [],
   "source": [
    "# reload the data since you may have just edited it above. This is necessary rather then passing the data\n",
    "# through from above because not every use of this code will concat multiple plate sheets together\n",
    "# in which case you need to find the right sheet right here\n",
    "\n",
    "data_dict = pd.read_excel(directory + filename, sheet_name=None)"
   ]
  },
  {
   "cell_type": "code",
   "execution_count": 147,
   "metadata": {},
   "outputs": [
    {
     "data": {
      "text/plain": [
       "dict_keys(['1', '2', '3', '4', '5', 'OD700_concat', 'IDs', 'Exp'])"
      ]
     },
     "execution_count": 147,
     "metadata": {},
     "output_type": "execute_result"
    }
   ],
   "source": [
    "data_dict.keys()"
   ]
  },
  {
   "cell_type": "code",
   "execution_count": 148,
   "metadata": {},
   "outputs": [],
   "source": [
    "keys_to_munge = [x for x in data_dict.keys() if '_' in x]"
   ]
  },
  {
   "cell_type": "code",
   "execution_count": 149,
   "metadata": {},
   "outputs": [
    {
     "data": {
      "text/plain": [
       "['OD700_concat']"
      ]
     },
     "execution_count": 149,
     "metadata": {},
     "output_type": "execute_result"
    }
   ],
   "source": [
    "keys_to_munge"
   ]
  },
  {
   "cell_type": "code",
   "execution_count": 150,
   "metadata": {},
   "outputs": [],
   "source": [
    "#replace time and temp by overwriting the original data\n",
    "for key in keys_to_munge:\n",
    "    \n",
    "    if many_plates:\n",
    "        # the reason you need this sequential replace time is because you sometimes concat multiple plates\n",
    "        # so if that value is true you know you need to do it. There aren't any other circumstances for using this\n",
    "        # function I don't think\n",
    "        data_dict[key] = replace_time_sequential(data_dict[key])\n",
    "    else:\n",
    "        data_dict[key] = replace_time(data_dict[key])\n",
    "\n",
    "    data_dict[key] = replace_temp(data_dict[key])"
   ]
  },
  {
   "cell_type": "markdown",
   "metadata": {},
   "source": [
    "### Assign well IDs"
   ]
  },
  {
   "cell_type": "code",
   "execution_count": 151,
   "metadata": {},
   "outputs": [],
   "source": [
    "#get the well identifying information\n",
    "ids = data_dict['IDs']"
   ]
  },
  {
   "cell_type": "code",
   "execution_count": 152,
   "metadata": {},
   "outputs": [],
   "source": [
    "#independently melt the data so you can check and control the ID vars and value vars since that might differ per expt\n",
    "melted_dict = {key : pd.melt(data_dict[key], id_vars=['Time', 'Temp C'], var_name=['well'])\n",
    "              for key in keys_to_munge}"
   ]
  },
  {
   "cell_type": "code",
   "execution_count": 153,
   "metadata": {},
   "outputs": [],
   "source": [
    "#then assign all the well information\n",
    "final_dict = {key : add_id_info(melted_dict[key], ids)\n",
    "             for key in keys_to_munge}"
   ]
  },
  {
   "cell_type": "markdown",
   "metadata": {},
   "source": [
    "## Write the data to the file"
   ]
  },
  {
   "cell_type": "code",
   "execution_count": 155,
   "metadata": {},
   "outputs": [],
   "source": [
    "for key in final_dict:\n",
    "    path = directory + filename\n",
    "\n",
    "    book = load_workbook(path)\n",
    "    writer = pd.ExcelWriter(path, engine = 'openpyxl')\n",
    "    writer.book = book\n",
    "\n",
    "\n",
    "    final_dict[key].to_excel(writer, sheet_name = key + '_tidy', index=False)\n",
    "\n",
    "\n",
    "    writer.save()\n",
    "    writer.close()"
   ]
  },
  {
   "cell_type": "code",
   "execution_count": null,
   "metadata": {},
   "outputs": [],
   "source": []
  }
 ],
 "metadata": {
  "kernelspec": {
   "display_name": "Python 3",
   "language": "python",
   "name": "python3"
  },
  "language_info": {
   "codemirror_mode": {
    "name": "ipython",
    "version": 3
   },
   "file_extension": ".py",
   "mimetype": "text/x-python",
   "name": "python",
   "nbconvert_exporter": "python",
   "pygments_lexer": "ipython3",
   "version": "3.7.6"
  }
 },
 "nbformat": 4,
 "nbformat_minor": 2
}
