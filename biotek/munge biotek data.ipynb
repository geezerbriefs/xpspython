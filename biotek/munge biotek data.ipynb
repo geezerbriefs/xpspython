{
 "cells": [
  {
   "cell_type": "code",
   "execution_count": 22,
   "metadata": {},
   "outputs": [],
   "source": [
    "#workhorses\n",
    "import numpy as np\n",
    "import pandas as pd\n",
    "\n",
    "#for writing to excel files\n",
    "from openpyxl import load_workbook"
   ]
  },
  {
   "cell_type": "markdown",
   "metadata": {},
   "source": [
    "## Get the data"
   ]
  },
  {
   "cell_type": "code",
   "execution_count": 23,
   "metadata": {},
   "outputs": [],
   "source": [
    "directory = 'C:/Users/geeze/Box/biocircuits/Reed/projects/DARPA_biocon/task 4.1/20201129 cin las response 3 two step trans/'\n",
    "\n",
    "filename = '20201129 cin las response 3 two step trans.xlsx'"
   ]
  },
  {
   "cell_type": "code",
   "execution_count": 24,
   "metadata": {},
   "outputs": [],
   "source": [
    "data_dict = pd.read_excel(directory + filename, sheet_name=None)"
   ]
  },
  {
   "cell_type": "code",
   "execution_count": 25,
   "metadata": {},
   "outputs": [
    {
     "data": {
      "text/plain": [
       "dict_keys(['plate1', 'plate2', 'IDs-1', 'IDs-2', 'Exp', 'plate1_tidy'])"
      ]
     },
     "execution_count": 25,
     "metadata": {},
     "output_type": "execute_result"
    }
   ],
   "source": [
    "data_dict.keys()"
   ]
  },
  {
   "cell_type": "markdown",
   "metadata": {},
   "source": [
    "## do you have multiple plates you need to concat?"
   ]
  },
  {
   "cell_type": "code",
   "execution_count": 26,
   "metadata": {},
   "outputs": [],
   "source": [
    "many_plates = False"
   ]
  },
  {
   "cell_type": "markdown",
   "metadata": {},
   "source": [
    "## Concat multiple plates over time"
   ]
  },
  {
   "cell_type": "code",
   "execution_count": 16,
   "metadata": {},
   "outputs": [
    {
     "name": "stdout",
     "output_type": "stream",
     "text": [
      "['OD700', 'OD600']\n"
     ]
    }
   ],
   "source": [
    "plate_keys = [x for x in data_dict.keys() if x not in ['Exp', 'IDs']]\n",
    "print(plate_keys)"
   ]
  },
  {
   "cell_type": "code",
   "execution_count": 17,
   "metadata": {},
   "outputs": [],
   "source": [
    "if many_plates:\n",
    "    plate_data = []\n",
    "\n",
    "    for k in plate_keys:\n",
    "        plate_data.append(data_dict[k])\n",
    "        \n",
    "    full_data = {'data_concat' : pd.concat(plate_data)}"
   ]
  },
  {
   "cell_type": "code",
   "execution_count": 13,
   "metadata": {},
   "outputs": [
    {
     "ename": "NameError",
     "evalue": "name 'full_data' is not defined",
     "output_type": "error",
     "traceback": [
      "\u001b[1;31m---------------------------------------------------------------------------\u001b[0m",
      "\u001b[1;31mNameError\u001b[0m                                 Traceback (most recent call last)",
      "\u001b[1;32m<ipython-input-13-b3197c133f2d>\u001b[0m in \u001b[0;36m<module>\u001b[1;34m\u001b[0m\n\u001b[0;32m      1\u001b[0m \u001b[0mkey_channel_associations\u001b[0m \u001b[1;33m=\u001b[0m \u001b[1;33m{\u001b[0m\u001b[1;33m}\u001b[0m\u001b[1;33m\u001b[0m\u001b[1;33m\u001b[0m\u001b[0m\n\u001b[1;32m----> 2\u001b[1;33m \u001b[1;32mfor\u001b[0m \u001b[0mk\u001b[0m \u001b[1;32min\u001b[0m \u001b[0mfull_data\u001b[0m\u001b[1;33m.\u001b[0m\u001b[0mkeys\u001b[0m\u001b[1;33m(\u001b[0m\u001b[1;33m)\u001b[0m\u001b[1;33m:\u001b[0m\u001b[1;33m\u001b[0m\u001b[1;33m\u001b[0m\u001b[0m\n\u001b[0m\u001b[0;32m      3\u001b[0m \u001b[1;33m\u001b[0m\u001b[0m\n\u001b[0;32m      4\u001b[0m     \u001b[0mdf\u001b[0m \u001b[1;33m=\u001b[0m \u001b[0mfull_data\u001b[0m\u001b[1;33m[\u001b[0m\u001b[0mk\u001b[0m\u001b[1;33m]\u001b[0m\u001b[1;33m\u001b[0m\u001b[1;33m\u001b[0m\u001b[0m\n\u001b[0;32m      5\u001b[0m \u001b[1;33m\u001b[0m\u001b[0m\n",
      "\u001b[1;31mNameError\u001b[0m: name 'full_data' is not defined"
     ]
    }
   ],
   "source": [
    "key_channel_associations = {}\n",
    "for k in full_data.keys():\n",
    "    \n",
    "    df = full_data[k]\n",
    "    \n",
    "    # look for the temperature column, it contains the channel information\n",
    "    channel_label = [x for x in df.columns if ('°' in x)]\n",
    "\n",
    "    #make sure it's unique\n",
    "    if len(channel_label) == 1:\n",
    "        channel_label = channel_label[0]\n",
    "    else:\n",
    "        raise ValueError('you have not identified the unique Temp column that contains the channel info')\n",
    "\n",
    "    # get the channel info\n",
    "    channel_label = channel_label.lstrip('T° ')\n",
    "\n",
    "    #colons are not allowed, neither are brackets\n",
    "    channel_label = channel_label.replace(':', '')\n",
    "    channel_label = channel_label.replace('[', '')\n",
    "    channel_label = channel_label.replace(']', '')\n",
    "    \n",
    "    key_channel_associations.update({k : channel_label})"
   ]
  },
  {
   "cell_type": "code",
   "execution_count": 14,
   "metadata": {},
   "outputs": [
    {
     "ename": "NameError",
     "evalue": "name 'full_data' is not defined",
     "output_type": "error",
     "traceback": [
      "\u001b[1;31m---------------------------------------------------------------------------\u001b[0m",
      "\u001b[1;31mNameError\u001b[0m                                 Traceback (most recent call last)",
      "\u001b[1;32m<ipython-input-14-1eab6ca7435e>\u001b[0m in \u001b[0;36m<module>\u001b[1;34m\u001b[0m\n\u001b[0;32m      1\u001b[0m \u001b[1;31m# by design, both the data dictionary and the channel name dictionary should have the same keys, so you should be able\u001b[0m\u001b[1;33m\u001b[0m\u001b[1;33m\u001b[0m\u001b[1;33m\u001b[0m\u001b[0m\n\u001b[0;32m      2\u001b[0m \u001b[1;31m# to go through one or the other and get the right info from both\u001b[0m\u001b[1;33m\u001b[0m\u001b[1;33m\u001b[0m\u001b[1;33m\u001b[0m\u001b[0m\n\u001b[1;32m----> 3\u001b[1;33m \u001b[1;32mfor\u001b[0m \u001b[0mk\u001b[0m \u001b[1;32min\u001b[0m \u001b[0mfull_data\u001b[0m\u001b[1;33m.\u001b[0m\u001b[0mkeys\u001b[0m\u001b[1;33m(\u001b[0m\u001b[1;33m)\u001b[0m\u001b[1;33m:\u001b[0m\u001b[1;33m\u001b[0m\u001b[1;33m\u001b[0m\u001b[0m\n\u001b[0m\u001b[0;32m      4\u001b[0m \u001b[1;33m\u001b[0m\u001b[0m\n\u001b[0;32m      5\u001b[0m     \u001b[0mdf\u001b[0m \u001b[1;33m=\u001b[0m \u001b[0mfull_data\u001b[0m\u001b[1;33m[\u001b[0m\u001b[0mk\u001b[0m\u001b[1;33m]\u001b[0m\u001b[1;33m\u001b[0m\u001b[1;33m\u001b[0m\u001b[0m\n",
      "\u001b[1;31mNameError\u001b[0m: name 'full_data' is not defined"
     ]
    }
   ],
   "source": [
    "# by design, both the data dictionary and the channel name dictionary should have the same keys, so you should be able\n",
    "# to go through one or the other and get the right info from both\n",
    "for k in full_data.keys():\n",
    "    \n",
    "    df = full_data[k]\n",
    "    name = key_channel_associations[k]\n",
    "    \n",
    "    path = directory + filename\n",
    "\n",
    "    book = load_workbook(path)\n",
    "    writer = pd.ExcelWriter(path, engine = 'openpyxl')\n",
    "    writer.book = book\n",
    "\n",
    "    # so this doesn't run and add a \"concat\" sheet when there weren't multiple plates to concat\n",
    "    if many_plates:\n",
    "        df.to_excel(writer, sheet_name = name + '_concat', index=False)\n",
    "\n",
    "\n",
    "    writer.save()\n",
    "    writer.close()"
   ]
  },
  {
   "cell_type": "markdown",
   "metadata": {},
   "source": [
    "## Munge the data"
   ]
  },
  {
   "cell_type": "markdown",
   "metadata": {},
   "source": [
    "### Functions"
   ]
  },
  {
   "cell_type": "code",
   "execution_count": 27,
   "metadata": {},
   "outputs": [],
   "source": [
    "def get_sec (obj):\n",
    "    \n",
    "    #pandas seems to read the biotek time column as strings sometimes, sometimes as datetime objects\n",
    "    if isinstance(obj, str):\n",
    "        hour, minute, sec = [int(x) for x in obj.split(':')]\n",
    "        total = (hour * 60 * 60) + (minute * 60) + sec\n",
    "    else:\n",
    "        #if it's read as datetime\n",
    "        total = (obj.hour * 60 + obj.minute) * 60 + obj.second\n",
    "    \n",
    "    return total"
   ]
  },
  {
   "cell_type": "code",
   "execution_count": 28,
   "metadata": {},
   "outputs": [],
   "source": [
    "def replace_time (data_sheet):\n",
    "    \n",
    "    df = data_sheet.copy()\n",
    "    \n",
    "    df['Time'] = df['Time'].apply(get_sec).divide(3600)\n",
    "    \n",
    "    return df"
   ]
  },
  {
   "cell_type": "code",
   "execution_count": 29,
   "metadata": {},
   "outputs": [],
   "source": [
    "def replace_time_sequential (data_sheet):\n",
    "    \n",
    "    df = data_sheet.copy()\n",
    "    \n",
    "    df['Time'] = df['Time'].apply(get_sec).divide(3600)\n",
    "    \n",
    "    first = df.loc[0, 'Time']\n",
    "    second = df.loc[1, 'Time']\n",
    "    \n",
    "    diff = second - first\n",
    "    \n",
    "    too_long = np.arange(first, 1000, diff)\n",
    "    \n",
    "    #should just put the len(df) part above, but whatever this already does the job\n",
    "    #20201009 actually that doesn't work! the second argument to arange is the actual time value, not the length in entries\n",
    "    #so keep it this way\n",
    "    proper_length = too_long[:(len(df['Time']))]\n",
    "    \n",
    "    df['Time'] = proper_length\n",
    "    \n",
    "    return df"
   ]
  },
  {
   "cell_type": "code",
   "execution_count": 30,
   "metadata": {},
   "outputs": [],
   "source": [
    "def replace_temp (data_sheet):\n",
    "    \n",
    "    df = data_sheet.copy()\n",
    "    \n",
    "    c = ['Temp C' if '°' in x else x for x in df.columns]\n",
    "    \n",
    "    df.columns = c\n",
    "    \n",
    "    return df"
   ]
  },
  {
   "cell_type": "code",
   "execution_count": 31,
   "metadata": {},
   "outputs": [],
   "source": [
    "def add_id_info (data_sheet_melted, df_id):\n",
    "    \n",
    "    #make a copy of the dataframe so you can return the new one and set whatever name you want\n",
    "    df = data_sheet_melted.copy()\n",
    "\n",
    "    #initialize the columns to be used to store ID info\n",
    "    all_id_columns = [col for col in df_id.columns if col not in 'well']\n",
    "\n",
    "    for c in all_id_columns:\n",
    "        df[c] = np.nan\n",
    "\n",
    "    #get the list of all the wells you want to annotate\n",
    "    wells = np.unique(df_id['well'])\n",
    "\n",
    "    #loop over these wells and add the information to the initialized columns\n",
    "    for w in wells:\n",
    "        #get the ID information for this well\n",
    "        append_this = df_id.loc[df_id['well'] == w, :]\n",
    "\n",
    "        #loop over each column containing a unique piece of ID info\n",
    "        for c in all_id_columns:\n",
    "\n",
    "            #set the value for that column for that well\n",
    "            df.loc[df['well'] == w, c] = append_this[c].values\n",
    "                                                                #have to use .values otherwise index carries along and only\n",
    "                                                                #sets the value for the data table index equal to the\n",
    "                                                                #id table index\n",
    "\n",
    "    return df"
   ]
  },
  {
   "cell_type": "markdown",
   "metadata": {},
   "source": [
    "## Do the munging"
   ]
  },
  {
   "cell_type": "code",
   "execution_count": 32,
   "metadata": {},
   "outputs": [],
   "source": [
    "# reload the data since you may have just edited it above. This is necessary rather then passing the data\n",
    "# through from above because not every use of this code will concat multiple plate sheets together\n",
    "# in which case you need to find the right sheet right here\n",
    "\n",
    "data_dict = pd.read_excel(directory + filename, sheet_name=None)"
   ]
  },
  {
   "cell_type": "code",
   "execution_count": 33,
   "metadata": {},
   "outputs": [
    {
     "data": {
      "text/plain": [
       "dict_keys(['plate1', 'plate2', 'IDs-1', 'IDs-2', 'Exp', 'plate1_tidy'])"
      ]
     },
     "execution_count": 33,
     "metadata": {},
     "output_type": "execute_result"
    }
   ],
   "source": [
    "data_dict.keys()"
   ]
  },
  {
   "cell_type": "code",
   "execution_count": 34,
   "metadata": {},
   "outputs": [],
   "source": [
    "keys_to_munge = [x for x in data_dict.keys() if '_' in x]"
   ]
  },
  {
   "cell_type": "code",
   "execution_count": 35,
   "metadata": {},
   "outputs": [],
   "source": [
    "keys_to_munge = ['plate2']"
   ]
  },
  {
   "cell_type": "code",
   "execution_count": 36,
   "metadata": {},
   "outputs": [],
   "source": [
    "#replace time and temp by overwriting the original data\n",
    "for key in keys_to_munge:\n",
    "    \n",
    "    if many_plates:\n",
    "        # the reason you need this sequential replace time is because you sometimes concat multiple plates\n",
    "        # so if that value is true you know you need to do it. There aren't any other circumstances for using this\n",
    "        # function I don't think\n",
    "        data_dict[key] = replace_time_sequential(data_dict[key])\n",
    "    else:\n",
    "        data_dict[key] = replace_time(data_dict[key])\n",
    "\n",
    "    data_dict[key] = replace_temp(data_dict[key])"
   ]
  },
  {
   "cell_type": "markdown",
   "metadata": {},
   "source": [
    "### Assign well IDs"
   ]
  },
  {
   "cell_type": "code",
   "execution_count": 37,
   "metadata": {},
   "outputs": [],
   "source": [
    "#get the well identifying information\n",
    "ids = data_dict['IDs-2']"
   ]
  },
  {
   "cell_type": "code",
   "execution_count": 38,
   "metadata": {},
   "outputs": [],
   "source": [
    "#independently melt the data so you can check and control the ID vars and value vars since that might differ per expt\n",
    "melted_dict = {key : pd.melt(data_dict[key], id_vars=['Time', 'Temp C'], var_name=['well'])\n",
    "              for key in keys_to_munge}"
   ]
  },
  {
   "cell_type": "code",
   "execution_count": 39,
   "metadata": {},
   "outputs": [],
   "source": [
    "#then assign all the well information\n",
    "final_dict = {key : add_id_info(melted_dict[key], ids)\n",
    "             for key in keys_to_munge}"
   ]
  },
  {
   "cell_type": "markdown",
   "metadata": {},
   "source": [
    "## Write the data to the file"
   ]
  },
  {
   "cell_type": "code",
   "execution_count": 40,
   "metadata": {},
   "outputs": [],
   "source": [
    "for key in final_dict:\n",
    "    path = directory + filename\n",
    "\n",
    "    book = load_workbook(path)\n",
    "    writer = pd.ExcelWriter(path, engine = 'openpyxl')\n",
    "    writer.book = book\n",
    "\n",
    "\n",
    "    final_dict[key].to_excel(writer, sheet_name = key + '_tidy', index=False)\n",
    "\n",
    "\n",
    "    writer.save()\n",
    "    writer.close()"
   ]
  },
  {
   "cell_type": "code",
   "execution_count": null,
   "metadata": {},
   "outputs": [],
   "source": []
  }
 ],
 "metadata": {
  "kernelspec": {
   "display_name": "Python 3",
   "language": "python",
   "name": "python3"
  },
  "language_info": {
   "codemirror_mode": {
    "name": "ipython",
    "version": 3
   },
   "file_extension": ".py",
   "mimetype": "text/x-python",
   "name": "python",
   "nbconvert_exporter": "python",
   "pygments_lexer": "ipython3",
   "version": "3.7.6"
  }
 },
 "nbformat": 4,
 "nbformat_minor": 2
}
