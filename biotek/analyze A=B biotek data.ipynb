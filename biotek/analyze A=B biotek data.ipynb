{
 "cells": [
  {
   "cell_type": "code",
   "execution_count": 3,
   "metadata": {},
   "outputs": [],
   "source": [
    "import numpy as np\n",
    "import pandas as pd\n",
    "\n",
    "import os\n",
    "import glob"
   ]
  },
  {
   "cell_type": "code",
   "execution_count": 4,
   "metadata": {},
   "outputs": [],
   "source": [
    "#plotting things\n",
    "\n",
    "#%matplotlib qt5 -- I don't know what this is\n",
    "import matplotlib.pyplot as plt\n",
    "import matplotlib as mpl\n",
    "import seaborn as sns\n",
    "\n",
    "from cycler import cycler\n",
    "\n",
    "\n",
    "#All of Anandh's customized seaborn/matplotlib settings\n",
    "\n",
    "sns.set_context(\"talk\", font_scale=1.5, rc={\"lines.linewidth\": 1.5})\n",
    "sns.set_style(\"ticks\")\n",
    "sns.set_style({\"xtick.direction\": \"in\",\"ytick.direction\": \"in\"})\n",
    "\n",
    "#%config InlineBackend.figure_f.ormats=['svg']\n",
    "\n",
    "mpl.rc('axes', prop_cycle=(cycler('color', ['r', 'k', 'b','g','y','m','c']) ))\n",
    "\n",
    "mpl.rcParams['pdf.fonttype'] = 42\n",
    "mpl.rcParams['ps.fonttype'] = 42\n",
    "\n",
    "#mpl.rc('text', usetex=False)\n",
    "#mpl.rc('text.latex', preamble=r'\\usepackage{helvet}\n",
    "#\\renewcommand\\familydefault{\\sfdefault}\\usepackage{sansmath}\\sansmath')\n",
    "\n",
    "    #If you want to use a different font\n",
    "# mpl.rc('font',**{'family':'sans-serif','sans-serif':['Helvetica'], \n",
    "#                  'serif': ['Helvetica']})\n",
    "\n",
    "tw = 1.5\n",
    "sns.set_style({\"xtick.major.size\": 3, \"ytick.major.size\": 3,\n",
    "               \"xtick.minor.size\": 2, \"ytick.minor.size\": 2,\n",
    "               'axes.labelsize': 16, 'axes.titlesize': 16,\n",
    "               'xtick.major.width': tw, 'xtick.minor.width': tw,\n",
    "               'ytick.major.width': tw, 'ytick.minor.width': tw})\n",
    "\n",
    "mpl.rc('xtick', labelsize=14) \n",
    "mpl.rc('ytick', labelsize=14)\n",
    "mpl.rc('axes', linewidth=1.5)\n",
    "mpl.rc('legend', fontsize=14)\n",
    "mpl.rc('figure', figsize=(9,8))"
   ]
  },
  {
   "cell_type": "markdown",
   "metadata": {},
   "source": [
    "## Get data"
   ]
  },
  {
   "cell_type": "code",
   "execution_count": 66,
   "metadata": {},
   "outputs": [],
   "source": [
    "directory = 'Z:/Reed/Projects/micro_consortia/DARPA_biocon/Task 1.1/A=B/20181128 A=B cfp yfp screen 1/'\n",
    "\n",
    "filename = '20181128 cfp yfp A=B screen 1.xlsx'"
   ]
  },
  {
   "cell_type": "code",
   "execution_count": 67,
   "metadata": {},
   "outputs": [
    {
     "data": {
      "text/plain": [
       "odict_keys(['OD700', 'CFP61', 'CFP100', 'YFP61', 'YFP100', 'Exp', 'IDs', 'OD700_tidy', 'CFP61_tidy', 'CFP100_tidy', 'YFP61_tidy', 'YFP100_tidy'])"
      ]
     },
     "execution_count": 67,
     "metadata": {},
     "output_type": "execute_result"
    }
   ],
   "source": [
    "data_dict = pd.read_excel(directory + filename, sheet_name=None)\n",
    "\n",
    "data_dict.keys()"
   ]
  },
  {
   "cell_type": "code",
   "execution_count": 68,
   "metadata": {},
   "outputs": [],
   "source": [
    "sheets_to_plot = [x for x in data_dict.keys() if '_tidy' in x]"
   ]
  },
  {
   "cell_type": "code",
   "execution_count": 94,
   "metadata": {},
   "outputs": [],
   "source": [
    "ot, c61, c100, y61, y100 = [data_dict[sheet] for sheet in sheets_to_plot]"
   ]
  },
  {
   "cell_type": "markdown",
   "metadata": {},
   "source": [
    "## Create normalized fluorescence"
   ]
  },
  {
   "cell_type": "code",
   "execution_count": 119,
   "metadata": {},
   "outputs": [],
   "source": [
    "def join_fluor_and_od700 (od700_df, fluor_df):\n",
    "    \n",
    "    #get the time columns\n",
    "    ft = np.sort(np.unique(fluor_df['Time']))\n",
    "    ot = np.sort(np.unique(od700_df['Time']))\n",
    "    \n",
    "    #create dict to identify fluor time column entries with od time columns entries\n",
    "    #every time you see time (cfp time entry), replace it with (od time entry)\n",
    "    time_replacement_dict = {x : y for x,y in zip(ft,ot)}\n",
    "    \n",
    "    #add the time identifier column in the fluor df\n",
    "    fluor_df['Time'] = fluor_df['Time'].map(time_replacement_dict)\n",
    "    \n",
    "    #merge the dfs, just merge the relevant entries in the fluor df though\n",
    "    od700_df = od700_df.merge(fluor_df,\n",
    "                              on=['Time', 'well'],\n",
    "                              how='inner')\n",
    "    \n",
    "    #the merge adds duplicate columns with suffixes for columns that exist in both merge df's\n",
    "    #this list removes the ones from the right (fluor_df) df\n",
    "    cols_no_dup = [x for x in od700_df.columns if '_y' not in x]\n",
    "    od700_df = od700_df.loc[:, cols_no_dup]\n",
    "    \n",
    "    #now get rid of the left suffixes in the remaining columns\n",
    "    cols_no_suff = [x.strip('_x') for x in cols_no_dup]\n",
    "    od700_df.columns = cols_no_suff\n",
    "    \n",
    "    return od700_df"
   ]
  },
  {
   "cell_type": "code",
   "execution_count": 120,
   "metadata": {},
   "outputs": [],
   "source": [
    "#initial sheet to hold all normalization\n",
    "od_norm_data = ot.copy()"
   ]
  },
  {
   "cell_type": "code",
   "execution_count": 121,
   "metadata": {},
   "outputs": [],
   "source": [
    "all_fluor = [c61, c100, y61, y100]\n",
    "\n",
    "#append all the fluorescence readings\n",
    "for data in all_fluor:\n",
    "    od_norm_data = join_fluor_and_od700(od_norm_data, data)\n",
    "\n",
    "#some of the values have overflowed, replace them with highest recordable number\n",
    "od_norm_data = od_norm_data.replace('OVRFLW', 99999)"
   ]
  },
  {
   "cell_type": "code",
   "execution_count": 124,
   "metadata": {},
   "outputs": [],
   "source": [
    "fluor_cols = [c for c in od_norm_data.columns if 'fp' in c]\n",
    "\n",
    "for fluor_col in fluor_cols:\n",
    "    div = od_norm_data[fluor_col] / od_norm_data['od700']\n",
    "    \n",
    "    od_norm_data[fluor_col + '_odnorm'] = div"
   ]
  },
  {
   "cell_type": "code",
   "execution_count": 126,
   "metadata": {},
   "outputs": [],
   "source": [
    "od_norm_data.to_csv(directory + 'od_norm_fluor.csv')"
   ]
  }
 ],
 "metadata": {
  "kernelspec": {
   "display_name": "Python 3",
   "language": "python",
   "name": "python3"
  },
  "language_info": {
   "codemirror_mode": {
    "name": "ipython",
    "version": 3
   },
   "file_extension": ".py",
   "mimetype": "text/x-python",
   "name": "python",
   "nbconvert_exporter": "python",
   "pygments_lexer": "ipython3",
   "version": "3.6.7"
  }
 },
 "nbformat": 4,
 "nbformat_minor": 2
}
