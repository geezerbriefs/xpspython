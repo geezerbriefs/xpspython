{
 "cells": [
  {
   "cell_type": "code",
   "execution_count": 1,
   "metadata": {},
   "outputs": [],
   "source": [
    "import numpy as np\n",
    "import pandas as pd\n",
    "\n",
    "import os\n",
    "import glob"
   ]
  },
  {
   "cell_type": "code",
   "execution_count": 2,
   "metadata": {},
   "outputs": [],
   "source": [
    "#plotting things\n",
    "\n",
    "#%matplotlib qt5 -- I don't know what this is\n",
    "import matplotlib.pyplot as plt\n",
    "import matplotlib as mpl\n",
    "import seaborn as sns\n",
    "\n",
    "from cycler import cycler\n",
    "\n",
    "\n",
    "#All of Anandh's customized seaborn/matplotlib settings\n",
    "\n",
    "sns.set_context(\"talk\", font_scale=1.5, rc={\"lines.linewidth\": 1.5})\n",
    "sns.set_style(\"ticks\")\n",
    "sns.set_style({\"xtick.direction\": \"in\",\"ytick.direction\": \"in\"})\n",
    "\n",
    "#%config InlineBackend.figure_f.ormats=['svg']\n",
    "\n",
    "mpl.rc('axes', prop_cycle=(cycler('color', ['r', 'k', 'b','g','y','m','c']) ))\n",
    "\n",
    "mpl.rcParams['pdf.fonttype'] = 42\n",
    "mpl.rcParams['ps.fonttype'] = 42\n",
    "\n",
    "#mpl.rc('text', usetex=False)\n",
    "#mpl.rc('text.latex', preamble=r'\\usepackage{helvet}\n",
    "#\\renewcommand\\familydefault{\\sfdefault}\\usepackage{sansmath}\\sansmath')\n",
    "\n",
    "    #If you want to use a different font\n",
    "# mpl.rc('font',**{'family':'sans-serif','sans-serif':['Helvetica'], \n",
    "#                  'serif': ['Helvetica']})\n",
    "\n",
    "tw = 1.5\n",
    "sns.set_style({\"xtick.major.size\": 3, \"ytick.major.size\": 3,\n",
    "               \"xtick.minor.size\": 2, \"ytick.minor.size\": 2,\n",
    "               'axes.labelsize': 16, 'axes.titlesize': 16,\n",
    "               'xtick.major.width': tw, 'xtick.minor.width': tw,\n",
    "               'ytick.major.width': tw, 'ytick.minor.width': tw})\n",
    "\n",
    "mpl.rc('xtick', labelsize=14) \n",
    "mpl.rc('ytick', labelsize=14)\n",
    "mpl.rc('axes', linewidth=1.5)\n",
    "mpl.rc('legend', fontsize=14)\n",
    "mpl.rc('figure', figsize=(9,8))"
   ]
  },
  {
   "cell_type": "markdown",
   "metadata": {},
   "source": [
    "## Get data"
   ]
  },
  {
   "cell_type": "code",
   "execution_count": 3,
   "metadata": {},
   "outputs": [],
   "source": [
    "directory = 'Z:/Reed/Projects/micro_consortia/DARPA_biocon/Task 1.1/A=B/20190910 a=b manual dil degorig 1/'\n",
    "\n",
    "filename = '20190910 a=b manual dil deg orig 1.xlsx'"
   ]
  },
  {
   "cell_type": "code",
   "execution_count": 4,
   "metadata": {
    "scrolled": true
   },
   "outputs": [
    {
     "data": {
      "text/plain": [
       "odict_keys(['Plate 1_raw', 'Plate 2_raw', 'Plate 3_raw', 'Plate 4_raw', 'Plate 5_raw', 'Plate 6_raw', 'Plate 7_raw', 'Plate 8_raw', 'CFP60_raw', 'CFP100_raw', 'YFP60_raw', 'YFP100_raw', 'OD700_raw', 'OD700_condensed', 'CFP60_condensed', 'CFP100_condensed', 'YFP60_condensed', 'YFP100_condensed', 'OD700_tidy', 'CFP60_tidy', 'CFP100_tidy', 'YFP60_tidy', 'YFP100_tidy', 'all_tidy', 'IDs', 'Exp'])"
      ]
     },
     "execution_count": 4,
     "metadata": {},
     "output_type": "execute_result"
    }
   ],
   "source": [
    "dd = pd.read_excel(directory + filename, sheet_name=None)\n",
    "\n",
    "dd.keys()"
   ]
  },
  {
   "cell_type": "markdown",
   "metadata": {},
   "source": [
    "## Create condensed data"
   ]
  },
  {
   "cell_type": "code",
   "execution_count": 5,
   "metadata": {},
   "outputs": [],
   "source": [
    "def join_fluor_and_od700 (dict_of_data):\n",
    "    \n",
    "    #get the data sheets you want to join\n",
    "    useful_sheets = [x for x in dd.keys() if '_tidy' in x]\n",
    "\n",
    "    #find the od sheet, which will be the master one\n",
    "    od_sheet = [x for x in useful_sheets if 'OD700' in x]\n",
    "\n",
    "    #get the others using od_sheet\n",
    "    others = [x for x in useful_sheets if x not in od_sheet]\n",
    "    \n",
    "    #now that od_sheet is used, pop the value out of the list\n",
    "    if len(od_sheet) == 1:\n",
    "        od_sheet = od_sheet[0]\n",
    "    else:\n",
    "        raise ValueError(\"looking for the od_sheet with 'OD700' found more than one data sheet\")\n",
    "\n",
    "    \n",
    "    #get the od time column\n",
    "    ot = np.sort(np.unique(dict_of_data[od_sheet]['Time']))\n",
    "    \n",
    "    #rename od stuff\n",
    "    dict_of_data[od_sheet] = dict_of_data[od_sheet].rename({'value' : od_sheet.lower().replace('_tidy', '')}, axis='columns')\n",
    "    \n",
    "    #for the remaining sheets of data you want to join\n",
    "    for sheet in others:\n",
    "        #get this one's time values\n",
    "        ft = np.sort(np.unique(dict_of_data[sheet]['Time']))\n",
    "        \n",
    "        #create dict to identify fluor time column entries with od time columns entries\n",
    "        #every time you see time (fluor time entry), replace it with (od time entry)\n",
    "        time_replacement_dict = {x : y for x,y in zip(ft,ot)}\n",
    "    \n",
    "        #replace the time identifier column in the fluor df\n",
    "        dict_of_data[sheet]['Time'] = dict_of_data[sheet]['Time'].map(time_replacement_dict)\n",
    "        \n",
    "        #do some renaming\n",
    "        dict_of_data[sheet] = dict_of_data[sheet].rename({'value' : sheet.lower().replace('_tidy', '')}, axis='columns')\n",
    "    \n",
    "\n",
    "    #load all data for joining\n",
    "    dataframes = [dict_of_data[sheet] for sheet in useful_sheets]\n",
    "    \n",
    "    all_data_joined = pd.concat(dataframes, axis='columns')\n",
    "    \n",
    "    all_data_joined = all_data_joined.loc[:,~all_data_joined.columns.duplicated()]\n",
    "    \n",
    "    #fix overflow errors\n",
    "    all_data_joined = all_data_joined.replace(\"OVRFLW\", 99999)\n",
    "    \n",
    "    return all_data_joined"
   ]
  },
  {
   "cell_type": "code",
   "execution_count": 6,
   "metadata": {},
   "outputs": [],
   "source": [
    "dense = join_fluor_and_od700(dd)"
   ]
  },
  {
   "cell_type": "code",
   "execution_count": 7,
   "metadata": {},
   "outputs": [],
   "source": [
    "dense.to_csv(directory + 'dense.csv', index=False)"
   ]
  },
  {
   "cell_type": "markdown",
   "metadata": {},
   "source": [
    "## Create od normalized fluorescence"
   ]
  },
  {
   "cell_type": "code",
   "execution_count": 7,
   "metadata": {},
   "outputs": [],
   "source": [
    "fluor_cols = [x for x in dense.columns if 'fp' in x]"
   ]
  },
  {
   "cell_type": "code",
   "execution_count": 8,
   "metadata": {},
   "outputs": [
    {
     "data": {
      "text/plain": [
       "['cfp60', 'cfp100', 'yfp60', 'yfp100']"
      ]
     },
     "execution_count": 8,
     "metadata": {},
     "output_type": "execute_result"
    }
   ],
   "source": [
    "fluor_cols"
   ]
  },
  {
   "cell_type": "code",
   "execution_count": 9,
   "metadata": {},
   "outputs": [],
   "source": [
    "#create od normalized fluor data\n",
    "\n",
    "dense_n = dense.copy()\n",
    "\n",
    "new_cols = [x + '_norm' for x in fluor_cols]\n",
    "\n",
    "odnormdata = [(dense_n[x]/dense_n['od700']) for x in fluor_cols]\n",
    "\n",
    "for title,data in zip(new_cols, odnormdata):\n",
    "    dense_n[title] = data"
   ]
  },
  {
   "cell_type": "code",
   "execution_count": 10,
   "metadata": {},
   "outputs": [],
   "source": [
    "dense_n.to_csv(directory + 'dense_odnorm.csv', index=False)"
   ]
  },
  {
   "cell_type": "markdown",
   "metadata": {},
   "source": [
    "## Create trace over many dilutions"
   ]
  },
  {
   "cell_type": "code",
   "execution_count": 5,
   "metadata": {},
   "outputs": [],
   "source": [
    "df = dd['all_tidy']"
   ]
  },
  {
   "cell_type": "code",
   "execution_count": 11,
   "metadata": {},
   "outputs": [
    {
     "data": {
      "image/png": "[encoded data removed]",
      "text/plain": [
       "<Figure size 432x288 with 1 Axes>"
      ]
     },
     "metadata": {
      "needs_background": "light"
     },
     "output_type": "display_data"
    }
   ],
   "source": [
    "plt.plot(df['Time'], df['od700'].diff())\n",
    "plt.ylim([0, 0.5])\n",
    "#from the plot, we can see that all dilution events cause od700 spikes that exceed 0.125 (choose value), which\n",
    "#are more than any background changes due to growth or noise. If we look for places where the differences exceed\n",
    "#this value, we should be able to extract all the places where a new growth curve should start\n",
    "\n",
    "thresh = 0.125\n",
    "\n",
    "plt.axhline(thresh, color='b')\n",
    "\n",
    "\n",
    "xx = df['od700'].diff()\n",
    "i = xx > thresh"
   ]
  },
  {
   "cell_type": "code",
   "execution_count": 12,
   "metadata": {},
   "outputs": [],
   "source": [
    "#these should be the first time points after dilutions\n",
    "dil_t = df.loc[i, 'Time'].sort_values().unique()\n",
    "#update this to include t=0 which is the start time for dil 0\n",
    "dil_t = np.insert(dil_t, 0, 0)\n",
    "#add final time point to make later iteration steps that look between ranges of data easier\n",
    "dil_t = np.append(dil_t, max(df['Time']))\n",
    "\n",
    "#create the list of dils too\n",
    "dils = df['dil'].sort_values().unique()\n",
    "\n",
    "\n",
    "\n",
    "dil_to_t = {d:t for d, t in zip(dils, dil_t)}"
   ]
  },
  {
   "cell_type": "code",
   "execution_count": 13,
   "metadata": {},
   "outputs": [
    {
     "data": {
      "text/plain": [
       "{0: 0.0,\n",
       " 1: 1.09472222222222,\n",
       " 2: 2.26138888888888,\n",
       " 3: 3.26138888888888,\n",
       " 4: 4.26138888888888,\n",
       " 5: 5.26138888888888,\n",
       " 6: 5.42805555555555,\n",
       " 7: 5.92805555555555}"
      ]
     },
     "execution_count": 13,
     "metadata": {},
     "output_type": "execute_result"
    }
   ],
   "source": [
    "dil_to_t"
   ]
  },
  {
   "cell_type": "code",
   "execution_count": 18,
   "metadata": {},
   "outputs": [],
   "source": [
    "dil_to_t[6] = 6.26138888888888\n",
    "dil_to_t[7] = 7.42805555555555"
   ]
  },
  {
   "cell_type": "code",
   "execution_count": 20,
   "metadata": {
    "scrolled": true
   },
   "outputs": [],
   "source": [
    "###Working on concatenating all the sliced 1 hour growth sections into a continuous data set by adding concat\n",
    "#statements to the loop below\n",
    "\n",
    "sections = []\n",
    "\n",
    "for d in dil_to_t:\n",
    "    if d == max(dils):\n",
    "        high_time = max(df['Time'])\n",
    "    else:\n",
    "        high_time = dil_to_t[d+1]\n",
    "    \n",
    "    take = df.loc[(df['dil'] == d) & (df['Time'] >= dil_to_t[d]) & (df['Time'] < high_time)]\n",
    "    \n",
    "    sections.append(take)"
   ]
  },
  {
   "cell_type": "code",
   "execution_count": 21,
   "metadata": {},
   "outputs": [],
   "source": [
    "trace_data = pd.concat(sections)"
   ]
  },
  {
   "cell_type": "code",
   "execution_count": 25,
   "metadata": {},
   "outputs": [],
   "source": [
    "trace_data.to_csv(directory + 'dil_trace_tidy.csv', index=False)"
   ]
  },
  {
   "cell_type": "markdown",
   "metadata": {},
   "source": [
    "## calculate fraction of total fluor that is one fluor or another"
   ]
  },
  {
   "cell_type": "code",
   "execution_count": 470,
   "metadata": {},
   "outputs": [],
   "source": [
    "def nearest_neigbors (target, target_type, search_df):\n",
    "    \n",
    "    #split the dataset into greater and less than\n",
    "    above = search_df[target_type] >= target\n",
    "    below = search_df[target_type] <= target\n",
    "    \n",
    "    grouped_inds = {'ab' : above, 'bel' : below}\n",
    "    \n",
    "    #checks for any indices that are all false, indicating that above or below is empty,\n",
    "    #just saves the ones that have some values\n",
    "    neighbor_inds = {key : grouped_inds[key] for key in grouped_inds if any(grouped_inds[key])}\n",
    "    \n",
    "    #find the nearest neighbor values in the split sets\n",
    "    neighbor_vals = []\n",
    "    for key in neighbor_inds:\n",
    "        if key == 'ab':\n",
    "            neighbor_vals.append(min(search_df.loc[neighbor_inds[key], target_type]))\n",
    "            \n",
    "        elif key == 'bel':\n",
    "            neighbor_vals.append(max(search_df.loc[neighbor_inds[key], target_type]))\n",
    "            \n",
    "        else:\n",
    "            raise ValueError('the keys accessing the indices of the nearest neighbors to the search value are not expected')\n",
    "\n",
    "\n",
    "    #get all the indices for the nearest neighbors values in the control datas so you can get all their data,\n",
    "    #they may be the same in an exact match due to the \"or equal\" logic above\n",
    "    indices_of_neighbors = []\n",
    "    for value in neighbor_vals:\n",
    "        indices_of_neighbors.append(search_df[target_type] == value)\n",
    "    \n",
    "    #get ALL the data of the nearest neighbors using the nearest neighbor indices created just previously\n",
    "    composite_data_for_neighbors = []\n",
    "    for index in indices_of_neighbors:\n",
    "        composite_data_for_neighbors.append(search_df.loc[index])\n",
    "    \n",
    "\n",
    "    ctrl_neigh_for_exp_value = pd.concat(composite_data_for_neighbors, axis='index')\n",
    "    \n",
    "    return ctrl_neigh_for_exp_value"
   ]
  },
  {
   "cell_type": "code",
   "execution_count": 471,
   "metadata": {},
   "outputs": [],
   "source": [
    "def nearest_by_well (target_od, target_type, search_df):\n",
    "    \n",
    "    wells = np.unique(search_df['well'])\n",
    "    \n",
    "    nearest = []\n",
    "    for well in wells:\n",
    "        \n",
    "        this_well_ctrl_data = search_df.loc[search_df['well'] == well]\n",
    "        \n",
    "        nearest.append(nearest_neigbors(target_od, target_type, search_df))\n",
    "        \n",
    "    neighs_by_well = pd.concat(nearest, axis='index')\n",
    "    \n",
    "    return neighs_by_well"
   ]
  },
  {
   "cell_type": "code",
   "execution_count": 472,
   "metadata": {},
   "outputs": [],
   "source": [
    "def calc_frac (time, exp_well_data, dict_of_ctrl_datas, fluor_str_list):\n",
    "    \n",
    "    \"\"\"\n",
    "    searches each unique well of control monoculture data within a time window for a \n",
    "    target OD700 value taken from an experimental growth curve.\n",
    "    \n",
    "    Then takes fluorescence values associated with those control cultures OD700\n",
    "    and compares experimental fluorescence to control fluorescence to estimate\n",
    "    population fraction\n",
    "    \n",
    "    \n",
    "    time = the time point in the experimental dataset you are using\n",
    "    \n",
    "    exp_well_data = a dataframe of all the time course data taken from the experimental well, contains od, fluorescences\n",
    "                    and some processed data like fluor/OD and such\n",
    "                    \n",
    "    dict_of_ctrl_datas = a dictionary with keys ['a', 'b'] and values that are all the control monoculture replicate well\n",
    "                        data that have either monoculture a cells (key 'a') or b cells (key 'b'). There can be multiple\n",
    "                        replicate wells in these data\n",
    "                        \n",
    "    fluor_str_list = the type of fluorescence data you want to use to calculate fractions. probably either\n",
    "                    ['cfp', 'yfp'] (order is important, cfp goes with a data, yfp goes with b) or normalized\n",
    "                    ['cfp_norm', 'yfp_norm']\n",
    "    \n",
    "    \"\"\"\n",
    "    \n",
    "    #extract target_od from the experimental well data\n",
    "    i = exp_well_data['Time'] == time\n",
    "    target_od = exp_well_data.loc[i, 'od700'].values[0]\n",
    "    \n",
    "    \n",
    "    #get nearest neighbors in only a_data and only b_data, but do so for each unique well in each of those\n",
    "    #control monoculture sets\n",
    "    nearest = [nearest_by_well(target_od, 'od700', dict_of_ctrl_datas[key]) for key in dict_of_ctrl_datas]\n",
    "\n",
    "    #control neighbor fluor means\n",
    "    mean_ctrl_fluor_val_at_od = {fluor : np.mean(near[fluor]) for near, fluor in zip(nearest, fluor_str_list)}\n",
    "\n",
    "    #compare the exp fluorescences to the identified control fluor means just calculated\n",
    "    exp_fluor_vals_at_od = exp_well_data.loc[exp_well_data['Time'] == time, fluor_str_list]\n",
    "\n",
    "    fracs_of_ctrl_fluor = {fluor : (exp_fluor_vals_at_od[fluor] / mean_ctrl_fluor_val_at_od[fluor]) for fluor in fluor_str_list}\n",
    "\n",
    "    fracs_df = pd.DataFrame.from_dict(fracs_of_ctrl_fluor).rename(columns=lambda x: x+'_expctrl_frac')\n",
    "    \n",
    "    return fracs_df"
   ]
  },
  {
   "cell_type": "code",
   "execution_count": 473,
   "metadata": {},
   "outputs": [],
   "source": [
    "def df_frac_by_fluor (df_full, indices_list, ids, well_id_info_cols, fluor_data_str_list):\n",
    "\n",
    "    \"\"\"\n",
    "    takes a full dataframe of biotek data that has mixed experimental cultures and control monocultures in identical setup\n",
    "    environments and adds columns to the dataframe that are the estimates of population fraction by the chosen fluorescence\n",
    "    data\n",
    "\n",
    "    indices_list = [indices of mixed cultures, indices of A only controls, indices of B only controls]\n",
    "\n",
    "    \"\"\"\n",
    "    #unpack indices\n",
    "    mix, i_a, i_b = indices_list\n",
    "    \n",
    "    #instantiate the columns to hold the calculated fraction data\n",
    "    for fluor in fluor_data_str_list:\n",
    "        df_full[fluor + '_expctrl_frac'] = np.nan\n",
    "\n",
    "    #just iterate on the mixed wells, since these are the only ones you want to calc for\n",
    "    for well in np.unique(df_full.loc[mix, 'well']):\n",
    "\n",
    "        for dil in np.unique(df_full.loc[mix, 'dil']):\n",
    "\n",
    "                ### experimental data\n",
    "            #exp data indices\n",
    "            iwell = df_full['well'] == well\n",
    "\n",
    "            #dil indices\n",
    "            idil = df_full['dil'] == dil\n",
    "\n",
    "            #get all the exp data\n",
    "            well_data = df_full.loc[iwell & idil]\n",
    "\n",
    "\n",
    "                ### control monoculture data\n",
    "            #id info indices\n",
    "            idwell = ids['well'] == well\n",
    "\n",
    "            #get the identifying inducer information so you know what control cultures to compare this well to\n",
    "            id_info = ids.loc[idwell]\n",
    "\n",
    "            #get the control culture data for the appropriate id information (inducer conditions and cell types)\n",
    "                #creating the indices for the identifying well info\n",
    "                #NOTE: YOU NEED TO SEARCH FOR THE INFORMATION INSIDE OF DF_FULL BECAUSE CTRLS AREN'T IN THE MIX WELLS\n",
    "            a_cell, b_cell, iptg, sal = [df_full[info] == id_info[info].values[0] for info in ['a', 'b', 'iptg', 'sal']]\n",
    "\n",
    "\n",
    "            #find the indices for the appropriate control culture at the experimental well's inducer information\n",
    "            crrct_a_ctrl_idx = i_a & a_cell & iptg & sal\n",
    "            crrct_b_ctrl_idx = i_b & b_cell & iptg & sal\n",
    "\n",
    "        \n",
    "            #get control culture data\n",
    "            a_data = df_full.loc[crrct_a_ctrl_idx & (df_full['dil'] == dil)]\n",
    "            b_data = df_full.loc[crrct_b_ctrl_idx & (df_full['dil'] == dil)]\n",
    "\n",
    "            ctrl_culture_datas = {'a' : a_data, 'b' : b_data}\n",
    "\n",
    "                ### now that all appropriate data is selected, do the calculations\n",
    "\n",
    "            all_frac_calcs_list = []\n",
    "            times = np.unique(well_data['Time'])\n",
    "            t_max = max(times)\n",
    "\n",
    "            for time in times: \n",
    "\n",
    "                #create time window, this code is ugly as hell, should create a time:time window dict outside the loop\n",
    "                wid = 0.5\n",
    "                time_window = [(t-wid, t+wid) if (t-wid)>=0 else (0, t+wid) for t in [time]]\n",
    "                #because i think it makes cleaner comprehensions\n",
    "                time_window = [(t[0], t[1]) if (t[1]+wid)<=t_max else (t[0]-wid, t_max) for t in time_window][0]\n",
    "\n",
    "                #window the control data\n",
    "                l_t = time_window[0]\n",
    "                u_t = time_window[1]\n",
    "\n",
    "                windowed_ctrl_datas = {key : (ctrl_culture_datas[key].loc[(ctrl_culture_datas[key]['Time'] >= l_t) & (ctrl_culture_datas[key]['Time'] <= u_t)])\n",
    "                                       for key in ctrl_culture_datas}\n",
    "\n",
    "                #add the caculation\n",
    "                all_frac_calcs_list.append(calc_frac(time, well_data, windowed_ctrl_datas, fluor_data_str_list))\n",
    "\n",
    "\n",
    "            all_frac_calcs = pd.concat(all_frac_calcs_list, axis='index').sort_index()\n",
    "\n",
    "            #concat the newly calculated fractions to the full dataframe of data by column\n",
    "            #will hopefully just fill in the columns as more concats are done\n",
    "            df_full.loc[all_frac_calcs.index, all_frac_calcs.columns] = all_frac_calcs\n",
    "\n",
    "\n",
    "    return df_full"
   ]
  },
  {
   "cell_type": "code",
   "execution_count": 476,
   "metadata": {},
   "outputs": [],
   "source": [
    "#df\n",
    "df = dd['dense_norm_rcntr_normfrac'].copy()\n",
    "\n",
    "#ids\n",
    "ids = dd['IDs'].copy()\n",
    "\n",
    "#well_id_info_cols, all the unique pieces of info you need to find the control wells with matching\n",
    "#experimental conditions to a target experimental well\n",
    "well_info_cols = ['a', 'b', 'iptg', 'sal']\n",
    "\n",
    "#which fluorescence data you want to use\n",
    "fluors = ['cfp', 'yfp']\n",
    "norm_fluors = ['cfp_norm', 'yfp_norm']"
   ]
  },
  {
   "cell_type": "code",
   "execution_count": 477,
   "metadata": {},
   "outputs": [],
   "source": [
    "#indices\n",
    "\n",
    "#all wells with just B (YFP)\n",
    "i_b = df['a'] == 'x'\n",
    "\n",
    "#all wells with just A (CFP)\n",
    "i_a = df['b'] == 'x'\n",
    "\n",
    "#all empty wells with just media\n",
    "lb = df['a'] == 'lb'\n",
    "\n",
    "#all wells with control GFP expressing cells in them\n",
    "ctrl = df['a'] == 'ctrl'\n",
    "\n",
    "#zeroth dilution\n",
    "zero = df['dil'] == 0\n",
    "\n",
    "#all that are mixed cultures\n",
    "mix = ~i_a & ~i_b & ~lb & ~ctrl"
   ]
  },
  {
   "cell_type": "code",
   "execution_count": 478,
   "metadata": {},
   "outputs": [],
   "source": [
    "#package the relevant indices\n",
    "\n",
    "rel_indices = [mix, i_a, i_b]"
   ]
  },
  {
   "cell_type": "code",
   "execution_count": 479,
   "metadata": {},
   "outputs": [],
   "source": [
    "output = df_frac_by_fluor (df, rel_indices, ids, well_info_cols, fluors)"
   ]
  },
  {
   "cell_type": "code",
   "execution_count": 480,
   "metadata": {},
   "outputs": [],
   "source": [
    "output.to_csv(directory + 'dense_norm_rcntr_expctrl_frac.csv')"
   ]
  },
  {
   "cell_type": "code",
   "execution_count": 394,
   "metadata": {},
   "outputs": [
    {
     "data": {
      "text/plain": [
       "<matplotlib.axes._subplots.AxesSubplot at 0x1ac7ab4dc50>"
      ]
     },
     "execution_count": 394,
     "metadata": {},
     "output_type": "execute_result"
    },
    {
     "data": {
      "image/png": "[encoded data removed]",
      "text/plain": [
       "<Figure size 432x288 with 1 Axes>"
      ]
     },
     "metadata": {
      "needs_background": "light"
     },
     "output_type": "display_data"
    }
   ],
   "source": [
    "#tested well A1, the fractions seem to indicate that culture ends up looking like ctrl only B(yfp) cells\n",
    "#checked the raw cfp and yfp values and this confirms it. A1 cfp value is much lower than ctrl A only cfp\n",
    "#A1 yfp is very close to ctrl B only yfp value\n",
    "\n",
    "# output.loc[output['well'] == 'A1'].plot(x='Time', y=['cfp_expctrl_frac', 'yfp_expctrl_frac'])"
   ]
  }
 ],
 "metadata": {
  "kernelspec": {
   "display_name": "Python 3",
   "language": "python",
   "name": "python3"
  },
  "language_info": {
   "codemirror_mode": {
    "name": "ipython",
    "version": 3
   },
   "file_extension": ".py",
   "mimetype": "text/x-python",
   "name": "python",
   "nbconvert_exporter": "python",
   "pygments_lexer": "ipython3",
   "version": "3.6.7"
  }
 },
 "nbformat": 4,
 "nbformat_minor": 2
}
