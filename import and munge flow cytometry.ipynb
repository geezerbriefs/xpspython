{
 "cells": [
  {
   "cell_type": "code",
   "execution_count": 1,
   "metadata": {},
   "outputs": [],
   "source": [
    "import numpy as np\n",
    "import pandas as pd\n",
    "\n",
    "#get all the files from your experiment\n",
    "import glob\n",
    "\n",
    "#deal with the .fcs file format\n",
    "import fcsparser\n",
    "\n",
    "#for writing info back to excel ID sheet\n",
    "import openpyxl"
   ]
  },
  {
   "cell_type": "markdown",
   "metadata": {},
   "source": [
    "## Use glob to get all the fcs files you want to deal with"
   ]
  },
  {
   "cell_type": "markdown",
   "metadata": {},
   "source": [
    "### functions"
   ]
  },
  {
   "cell_type": "code",
   "execution_count": 2,
   "metadata": {},
   "outputs": [],
   "source": [
    "def write_file_assoc_to_xlsx (ids_frame_w_fnames, ids_xlsx_path):\n",
    "\n",
    "    #the check to see if the ids xlsx file already has filenames is done in the function that calls this one [assoc_fname_well]\n",
    "    \n",
    "    #open the workbook\n",
    "    book = openpyxl.load_workbook(ids_xlsx_path)\n",
    "\n",
    "    #get the worksheet you want to edit by name. Assumes standard sheet naming where single sheet in book is called 'Sheet1'\n",
    "    sheet = book[\"Sheet1\"]\n",
    "\n",
    "    #initialize row counter (because lazy)\n",
    "    r = 1\n",
    "    #set the file column name in row 1\n",
    "    sheet.cell(row=r, column=4).value = \"file\"\n",
    "\n",
    "    #loop over file dataframe column entries and assign to the xlsx in successive rows (r) in same column\n",
    "    for filename in ids_frame_w_fnames['file']:\n",
    "        #go to the next row\n",
    "        r += 1\n",
    "\n",
    "        #assign the values of successive cells in the col\n",
    "        sheet.cell(row=r, column=4).value = filename\n",
    "\n",
    "    #save it to same place so its overwritten with new good file\n",
    "    book.save(ids_xlsx_path)\n",
    "    \n",
    "    print (\"filename associations are written to the ids xlsx file\")\n",
    "    \n",
    "    return None"
   ]
  },
  {
   "cell_type": "code",
   "execution_count": 3,
   "metadata": {},
   "outputs": [],
   "source": [
    "def assoc_fname_well (ids_frame, fcs_filename_list, ids_xlsx_path):\n",
    "\n",
    "    #make copy so you aren't editing the original id frame in the function\n",
    "    ids = ids_frame.copy()\n",
    "\n",
    "    #if the ids dataframe loaded from xlsx doesn't already have a \"file\" column with associated filenames\n",
    "    if 'file' not in ids.columns:\n",
    "\n",
    "        #add the filename to the IDs dataframe so you can look for well and get filename for analysis\n",
    "\n",
    "        #get the index and the fcs file num as a tuple.\n",
    "        #I'm pretty sure if the index was noncontinuous, this would still associate correct index to fcs num entry\n",
    "        for idx, num in zip(ids['fcs num'].index, ids['fcs num']):\n",
    "\n",
    "\n",
    "            #get the list of filenames that contain the fcs num you're looking for\n",
    "            #this list should ideally be len = 1\n",
    "            fname = [f for f in fcs_filename_list if num in f]\n",
    "\n",
    "            #this list that will be added to the 'file' column is sometimes just a string, sometimes a list with one element\n",
    "            #I want just the value inside the list\n",
    "            if len(fname) == 1:\n",
    "                add = fname[0]\n",
    "            elif len(fname) == 0:\n",
    "                add = 'NO MATCH'\n",
    "            elif len(fname) > 1:\n",
    "                add = '> 1 MATCH'\n",
    "\n",
    "\n",
    "            ids.loc[idx, 'file'] = add\n",
    "\n",
    "        \n",
    "        #check how the filename assignment went\n",
    "        \n",
    "        #if the value of these statements are TRUE, then there's a non-assignment or a multiple assignment of filenames\n",
    "        if any(ids['file'] == 'NO MATCH'):\n",
    "            print(\"there's a non-assignment of at least one well and filename!!!\")\n",
    "\n",
    "        elif any(ids['file'] == '> 1 MATCH'):\n",
    "            print(\"there's an assignment of multiple filenames to at least one well!!!\")\n",
    "\n",
    "        else:\n",
    "            print(\"assignment completed without issue, all wells have a single filaname assignment\")\n",
    "\n",
    "            \n",
    "        #write the new IDs frame with file associations to the original ids xlsx file\n",
    "        write_file_assoc_to_xlsx(ids, ids_xlsx_path)    \n",
    "        \n",
    "        #return the frame with the new filename associations\n",
    "        return ids\n",
    "\n",
    "    #if the ids dataframe already has the filename associations\n",
    "    else:\n",
    "        #do nothing\n",
    "        print (\"the id dataframe and its parent xlsx file already contain a column called 'file' that has the fcs filename associations, the id dataframe and its parent file have not been modified\")\n",
    "        #return it as is\n",
    "        return ids"
   ]
  },
  {
   "cell_type": "markdown",
   "metadata": {},
   "source": [
    "### work"
   ]
  },
  {
   "cell_type": "code",
   "execution_count": 4,
   "metadata": {},
   "outputs": [],
   "source": [
    "dir_with_fcs_files_path = '../Local Data/20181009 top 4 A B cell vars A=B flow samples/10min'\n",
    "\n",
    "#get all the .fcs files in the directory (doesn't walk down directories to aggregate all further along dir tree)\n",
    "allfcs = glob.glob(dir_with_fcs_files_path + '/*.fcs')"
   ]
  },
  {
   "cell_type": "code",
   "execution_count": 5,
   "metadata": {},
   "outputs": [
    {
     "data": {
      "text/plain": [
       "['../Local Data/20181009 top 4 A B cell vars A=B flow samples/10min\\\\10min-bfp-RDM2018-10-23.0001.fcs',\n",
       " '../Local Data/20181009 top 4 A B cell vars A=B flow samples/10min\\\\10min-bfpfinal-RDM2018-10-23.0001.fcs',\n",
       " '../Local Data/20181009 top 4 A B cell vars A=B flow samples/10min\\\\10min-blank-RDM2018-10-23.0001.fcs',\n",
       " '../Local Data/20181009 top 4 A B cell vars A=B flow samples/10min\\\\10min-blank10k-RDM2018-10-23.0001.fcs',\n",
       " '../Local Data/20181009 top 4 A B cell vars A=B flow samples/10min\\\\10min-blankfinal-RDM2018-10-23.0001.fcs',\n",
       " '../Local Data/20181009 top 4 A B cell vars A=B flow samples/10min\\\\10min-DI-RDM2018-10-23.0001.fcs',\n",
       " '../Local Data/20181009 top 4 A B cell vars A=B flow samples/10min\\\\10min-preplateDI-RDM2018-10-23.0001.fcs',\n",
       " '../Local Data/20181009 top 4 A B cell vars A=B flow samples/10min\\\\10min-RDM2018-10-23.0001.fcs',\n",
       " '../Local Data/20181009 top 4 A B cell vars A=B flow samples/10min\\\\10min-RDM2018-10-23.0002.fcs']"
      ]
     },
     "execution_count": 5,
     "metadata": {},
     "output_type": "execute_result"
    }
   ],
   "source": [
    "allfcs[0:9]"
   ]
  },
  {
   "cell_type": "code",
   "execution_count": 6,
   "metadata": {},
   "outputs": [],
   "source": [
    "#ugly nested list comprehension to get all the non control files\n",
    "\n",
    "#using list comprehensionn to exclude files that have ctrl information in them\n",
    "expfcs = [c for c in \n",
    " [b for b in \n",
    "  [a for a in \n",
    "   [s for s in allfcs if 'bfp' not in s]\n",
    "  if 'yfp' not in a]\n",
    " if 'DI' not in b]\n",
    "if 'blank' not in c]\n",
    "\n",
    "#nicer way to use previous list to get ctrls out of allfcs\n",
    "\n",
    "ctrlfcs = [d for d in allfcs if d not in expfcs]\n",
    "\n",
    "finalctrlfcs = [f for f in ctrlfcs if 'final' in f]"
   ]
  },
  {
   "cell_type": "code",
   "execution_count": 8,
   "metadata": {},
   "outputs": [],
   "source": [
    "#I created a csv file that correlates fcs file number to well and volume flowed\n",
    "ids_xlsx_path = dir_with_fcs_files_path + '/10min-fcs num to well ID.xlsx'\n",
    "\n",
    "ids = pd.read_excel(ids_xlsx_path, dtype=str)"
   ]
  },
  {
   "cell_type": "code",
   "execution_count": 9,
   "metadata": {
    "scrolled": false
   },
   "outputs": [
    {
     "data": {
      "text/html": [
       "<div>\n",
       "<style scoped>\n",
       "    .dataframe tbody tr th:only-of-type {\n",
       "        vertical-align: middle;\n",
       "    }\n",
       "\n",
       "    .dataframe tbody tr th {\n",
       "        vertical-align: top;\n",
       "    }\n",
       "\n",
       "    .dataframe thead th {\n",
       "        text-align: right;\n",
       "    }\n",
       "</style>\n",
       "<table border=\"1\" class=\"dataframe\">\n",
       "  <thead>\n",
       "    <tr style=\"text-align: right;\">\n",
       "      <th></th>\n",
       "      <th>fcs num</th>\n",
       "      <th>well</th>\n",
       "      <th>vol</th>\n",
       "      <th>file</th>\n",
       "    </tr>\n",
       "  </thead>\n",
       "  <tbody>\n",
       "    <tr>\n",
       "      <th>0</th>\n",
       "      <td>0001</td>\n",
       "      <td>BAD</td>\n",
       "      <td>x</td>\n",
       "      <td>../Local Data/20181009 top 4 A B cell vars A=B...</td>\n",
       "    </tr>\n",
       "    <tr>\n",
       "      <th>1</th>\n",
       "      <td>0002</td>\n",
       "      <td>A1</td>\n",
       "      <td>x</td>\n",
       "      <td>../Local Data/20181009 top 4 A B cell vars A=B...</td>\n",
       "    </tr>\n",
       "    <tr>\n",
       "      <th>2</th>\n",
       "      <td>0003</td>\n",
       "      <td>B1</td>\n",
       "      <td>x</td>\n",
       "      <td>../Local Data/20181009 top 4 A B cell vars A=B...</td>\n",
       "    </tr>\n",
       "    <tr>\n",
       "      <th>3</th>\n",
       "      <td>0004</td>\n",
       "      <td>C1</td>\n",
       "      <td>x</td>\n",
       "      <td>../Local Data/20181009 top 4 A B cell vars A=B...</td>\n",
       "    </tr>\n",
       "    <tr>\n",
       "      <th>4</th>\n",
       "      <td>0005</td>\n",
       "      <td>D1</td>\n",
       "      <td>x</td>\n",
       "      <td>../Local Data/20181009 top 4 A B cell vars A=B...</td>\n",
       "    </tr>\n",
       "    <tr>\n",
       "      <th>5</th>\n",
       "      <td>0006</td>\n",
       "      <td>E1</td>\n",
       "      <td>x</td>\n",
       "      <td>../Local Data/20181009 top 4 A B cell vars A=B...</td>\n",
       "    </tr>\n",
       "    <tr>\n",
       "      <th>6</th>\n",
       "      <td>0007</td>\n",
       "      <td>BAD</td>\n",
       "      <td>x</td>\n",
       "      <td>../Local Data/20181009 top 4 A B cell vars A=B...</td>\n",
       "    </tr>\n",
       "    <tr>\n",
       "      <th>7</th>\n",
       "      <td>0008</td>\n",
       "      <td>F1</td>\n",
       "      <td>35</td>\n",
       "      <td>../Local Data/20181009 top 4 A B cell vars A=B...</td>\n",
       "    </tr>\n",
       "    <tr>\n",
       "      <th>8</th>\n",
       "      <td>0009</td>\n",
       "      <td>G1</td>\n",
       "      <td>35</td>\n",
       "      <td>../Local Data/20181009 top 4 A B cell vars A=B...</td>\n",
       "    </tr>\n",
       "    <tr>\n",
       "      <th>9</th>\n",
       "      <td>0010</td>\n",
       "      <td>H1</td>\n",
       "      <td>35</td>\n",
       "      <td>../Local Data/20181009 top 4 A B cell vars A=B...</td>\n",
       "    </tr>\n",
       "    <tr>\n",
       "      <th>10</th>\n",
       "      <td>0011</td>\n",
       "      <td>A2</td>\n",
       "      <td>35</td>\n",
       "      <td>../Local Data/20181009 top 4 A B cell vars A=B...</td>\n",
       "    </tr>\n",
       "  </tbody>\n",
       "</table>\n",
       "</div>"
      ],
      "text/plain": [
       "   fcs num well vol                                               file\n",
       "0     0001  BAD   x  ../Local Data/20181009 top 4 A B cell vars A=B...\n",
       "1     0002   A1   x  ../Local Data/20181009 top 4 A B cell vars A=B...\n",
       "2     0003   B1   x  ../Local Data/20181009 top 4 A B cell vars A=B...\n",
       "3     0004   C1   x  ../Local Data/20181009 top 4 A B cell vars A=B...\n",
       "4     0005   D1   x  ../Local Data/20181009 top 4 A B cell vars A=B...\n",
       "5     0006   E1   x  ../Local Data/20181009 top 4 A B cell vars A=B...\n",
       "6     0007  BAD   x  ../Local Data/20181009 top 4 A B cell vars A=B...\n",
       "7     0008   F1  35  ../Local Data/20181009 top 4 A B cell vars A=B...\n",
       "8     0009   G1  35  ../Local Data/20181009 top 4 A B cell vars A=B...\n",
       "9     0010   H1  35  ../Local Data/20181009 top 4 A B cell vars A=B...\n",
       "10    0011   A2  35  ../Local Data/20181009 top 4 A B cell vars A=B..."
      ]
     },
     "execution_count": 9,
     "metadata": {},
     "output_type": "execute_result"
    }
   ],
   "source": [
    "ids.head(11)"
   ]
  },
  {
   "cell_type": "code",
   "execution_count": 10,
   "metadata": {},
   "outputs": [
    {
     "name": "stdout",
     "output_type": "stream",
     "text": [
      "the id dataframe and its parent xlsx file already contain a column called 'file' that has the fcs filename associations, the id dataframe and its parent file have not been modified\n"
     ]
    }
   ],
   "source": [
    "ids = assoc_fname_well (ids, expfcs, ids_xlsx_path)"
   ]
  },
  {
   "cell_type": "markdown",
   "metadata": {},
   "source": [
    "### Now create some csv files"
   ]
  },
  {
   "cell_type": "code",
   "execution_count": null,
   "metadata": {},
   "outputs": [],
   "source": [
    "#for all the experimental wells, create a csv file called \"[well name].csv\""
   ]
  }
 ],
 "metadata": {
  "kernelspec": {
   "display_name": "Python 3",
   "language": "python",
   "name": "python3"
  },
  "language_info": {
   "codemirror_mode": {
    "name": "ipython",
    "version": 3
   },
   "file_extension": ".py",
   "mimetype": "text/x-python",
   "name": "python",
   "nbconvert_exporter": "python",
   "pygments_lexer": "ipython3",
   "version": "3.6.7"
  }
 },
 "nbformat": 4,
 "nbformat_minor": 2
}
