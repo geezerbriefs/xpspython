{
 "cells": [
  {
   "cell_type": "code",
   "execution_count": 11,
   "metadata": {},
   "outputs": [],
   "source": [
    "import pandas as pd\n",
    "import numpy as np\n",
    "\n",
    "#for all your http queries\n",
    "import requests\n",
    "\n",
    "#to deal with time stuff\n",
    "import datetime"
   ]
  },
  {
   "cell_type": "code",
   "execution_count": 12,
   "metadata": {},
   "outputs": [],
   "source": [
    "#you can get this file by opening \"network\" in developer tools\n",
    "#in your Robinhood \"history\" tab and \"copy response\" on \"orders/\"\n",
    "#there are 3 \"orders/\", one is your stock trade history, one is\n",
    "#your option trade history, one is unknown because it's empty\n",
    "\n",
    "#then go to json-csv.com, past the copied json and download the csv\n",
    "#name it what you want and open it here\n",
    "\n",
    "directory = r'C:\\Users\\geeze\\Documents\\Finances\\stocks'\n",
    "file = '\\\\20181211_rh_hist.csv'\n",
    "\n",
    "raw_hist = pd.read_csv(directory + file)"
   ]
  },
  {
   "cell_type": "code",
   "execution_count": 13,
   "metadata": {},
   "outputs": [],
   "source": [
    "#there is a persistent row that doesn't have any useful information, just a single non NaN value somewhere in it\n",
    "#I want to drop it. When asked what type it is, it says \"float\", a real entry is \"str\", so drop the non-str.\n",
    "idx_to_keep = raw_hist['results__updated_at'].apply(type) == str\n",
    "\n",
    "raw_hist = raw_hist.loc[idx_to_keep, :].reset_index(drop=True)"
   ]
  },
  {
   "cell_type": "code",
   "execution_count": 14,
   "metadata": {},
   "outputs": [],
   "source": [
    "def get_date_and_time (series_of_times):\n",
    "    #expand splits the string at the delimiter and creates 2 new dataframe columns with the results\n",
    "    #the 'T' character separates the date and the time parts of these entries\n",
    "    date_and_time = series_of_times.str.split('T', expand=True)\n",
    "    \n",
    "    #the date is in column 0\n",
    "    date = date_and_time[0]\n",
    "    #the time is in 1, but needs splitting to get rid of decimal seconds that follow a '.'\n",
    "    time = date_and_time[1].str.split('.', expand=True)[0]\n",
    "    \n",
    "    return date, time"
   ]
  },
  {
   "cell_type": "code",
   "execution_count": 15,
   "metadata": {},
   "outputs": [],
   "source": [
    "#Start building the dataframe with information you actually want\n",
    "\n",
    "place_date, place_time = get_date_and_time(raw_hist['results__updated_at'])\n",
    "exec_date, exec_time = get_date_and_time(raw_hist['results__executions__timestamp'])\n",
    "\n",
    "            #first add the times in\n",
    "raw_hist = (raw_hist.assign(place_date = place_date, place_time = place_time, exec_date = exec_date, exec_time = exec_time)\n",
    "            #then rename all the columns you'll want to keep\n",
    "            .rename(columns={'results__state' : 'state',\n",
    "                             'results__time_in_force' : 'time in force',\n",
    "                             'results__type' : 'order type',\n",
    "                             'results__price' : 'entered price',\n",
    "                             'results__executions__price' : 'executed price',\n",
    "                             'results__average_price' : 'avg price',\n",
    "                             'results__quantity' : 'num shares',\n",
    "                             'results__side' : 'side',\n",
    "                             'results__fees' : 'fees',\n",
    "                             'place_date' : 'date placed',\n",
    "                             'place_time' : 'time placed',\n",
    "                             'exec_date' : 'date executed',\n",
    "                             'exec_time' : 'time executed'\n",
    "                            })\n",
    "            #get the ticker symbols by getting the json text from the api.robinhood.com/instruments url\n",
    "            .assign(symbol = [requests.get(url).json()['symbol'] for url in raw_hist['results__instrument']])\n",
    "            #get rid of misc columns that dont contribute\n",
    "            .drop(labels=['previous', 'next'], axis='columns')\n",
    "           )"
   ]
  },
  {
   "cell_type": "code",
   "execution_count": 16,
   "metadata": {},
   "outputs": [],
   "source": [
    "#all the raw column names have \"results__\" in them, remove these and get just the mature df you will use\n",
    "history = raw_hist[[col for col in raw_hist.columns if 'results__' not in col]]"
   ]
  },
  {
   "cell_type": "code",
   "execution_count": 18,
   "metadata": {},
   "outputs": [],
   "source": [
    "#save result\n",
    "\n",
    "now = datetime.datetime.now()\n",
    "\n",
    "history.to_csv('{}_tidy_rh_hist.csv'.format(now.strftime(\"%Y%m%d\")), index=False)"
   ]
  },
  {
   "cell_type": "markdown",
   "metadata": {},
   "source": [
    "### next step is to read in existing history sheet, compare what you have just processed to what you already have and see if there are mismatches or something. If robinhood always gives you everything every time, then I guess it's no big deal and you can just save more and more recent files"
   ]
  },
  {
   "cell_type": "markdown",
   "metadata": {},
   "source": [
    "### I want to be able to automatically log in to robinhood and then download this orders json so I don't have to manually do it."
   ]
  },
  {
   "cell_type": "code",
   "execution_count": 195,
   "metadata": {},
   "outputs": [],
   "source": [
    "test = requests.get('https://robinhood.com/login', auth=('drreedmccardell@gmail.com', '01011991Rm'))"
   ]
  },
  {
   "cell_type": "code",
   "execution_count": 196,
   "metadata": {
    "collapsed": true
   },
   "outputs": [
    {
     "data": {
      "text/plain": [
       "b'\\n\\n\\n\\n\\n\\n<!DOCTYPE html>\\n<html lang=\"en\">\\n  <head>\\n    <link\\n      href=\"https://d2ue93q3u507c2.cloudfront.net/assets/favicon.ico\"\\n      rel=\"shortcut icon\"\\n    >\\n\\n    <link rel=\"stylesheet\" href=\"https://d2ue93q3u507c2.cloudfront.net/assets/generated_assets/App.3baafbb38f75ef7ecfab.css\" type=\"text/css\" media=\"all\"/>\\n  </head>\\n\\n  <body class=\"theme-open-up\">\\n    \\n      <div id=\"react_root\">\\n        <div id=\"application_loading\"></div>\\n      </div>\\n      <script nonce=\"j9ksjo+7c+3GYfcBHi9SEB/WhjJnfTUw\">\\n        setTimeout(function() {\\n          const loadingBlock = document.getElementById(\"application_loading\")\\n          if (loadingBlock) {\\n            loadingBlock.innerHTML = \\'<div style=\"height: 100vh; display: flex; align-items: center; justify-content: center;\">\\'+\\n              \\'<?xml version=\"1.0\" encoding=\"UTF-8\" standalone=\"no\"?><svg width=\"21px\" height=\"28px\" viewBox=\"0 0 21 28\" version=\"1.1\" xmlns=\"http://www.w3.org/2000/svg\" xmlns:xlink=\"http://www.w3.org/1999/xlink\"><g stroke=\"none\" stroke-width=\"1\" fill=\"#21ce99\" fill-rule=\"evenodd\"><path d=\"M8.723625,21.7500267 L8.5395,21.8112533 C7.35375,22.2036267 5.60025,22.8073067 4.025625,23.5282133 C3.94125,23.5674133 3.886125,23.6771733 3.886125,23.6771733 C3.8565,23.74512 3.81975,23.828 3.778125,23.9217067 L3.77325,23.9336533 C3.595875,24.3334933 3.3525,24.9349333 3.24975,25.1790933 L3.168,25.3721067 C3.15525,25.4030933 3.163125,25.4381867 3.186375,25.46096 C3.201375,25.4751467 3.2205,25.4829867 3.240375,25.4837333 C3.25275,25.4837333 3.265125,25.48112 3.27675,25.4751467 L3.4665,25.3855467 C3.8985,25.1813333 4.44225,24.87184 5.014875,24.6011733 L5.034375,24.5922133 C6.12225,24.07888 7.349625,23.4990933 8.087625,23.14816 C8.088375,23.1477867 8.20725,23.0850667 8.266875,22.9663467 L8.820375,21.8616533 C8.835,21.8329067 8.8305,21.7981867 8.809125,21.7735467 C8.788875,21.7489067 8.753625,21.74032 8.723625,21.7500267\"></path><path d=\"M4.303125,20.03792 C4.380375,19.8863467 4.738875,19.1994133 4.82025,19.0456 L4.83525,19.0194667 C7.236375,14.5096 10.162875,10.25584 13.531875,6.37690667 L13.62525,6.26938667 C13.6545,6.23578667 13.659375,6.18837333 13.638,6.14917333 C13.616625,6.10997333 13.57275,6.08869333 13.528875,6.09429333 L13.388625,6.11370667 C11.17725,6.41685333 8.940375,6.83648 6.736125,7.36101333 C6.5175,7.42149333 6.37575,7.56373333 6.345375,7.59696 C4.69575,9.56330667 3.133125,11.6341867 1.70025,13.7550933 C1.62825,13.8618667 1.620375,14.11872 1.620375,14.11872 C1.620375,14.11872 1.981875,16.88064 2.507625,18.9164267 C1.204125,22.6471467 0.04125,27.5628267 0.04125,27.5628267 C0.03225,27.59456 0.03825,27.62928 0.058125,27.6557867 C0.078,27.6822933 0.10875,27.6983467 0.142125,27.69984 L0.88425,27.69984 C0.930375,27.7005867 0.972,27.6725867 0.987375,27.6296533 L1.03875,27.4911467 C1.796625,25.4352 2.65875,23.40576 3.6135,21.42784 C3.835875,20.96752 4.303125,20.03792 4.303125,20.03792\"></path><path d=\"M14.61975,7.18293333 L14.61825,7.04256 C14.617125,6.99813333 14.58975,6.95856 14.54775,6.94362667 C14.506125,6.92832 14.458875,6.93989333 14.429625,6.97349333 L14.337,7.08026667 C10.408875,11.6032 7.10775,16.62416 4.523625,22.0016533 L4.463625,22.1274667 C4.44525,22.16704 4.452375,22.2148267 4.48275,22.2461867 C4.503,22.26784 4.53,22.2794133 4.5585,22.28016 C4.57275,22.28016 4.58775,22.2775467 4.601625,22.2719467 L4.731,22.21856 C6.937125,21.3087467 9.19125,20.51952 11.42925,19.87552 C11.5635,19.83744 11.676375,19.7441067 11.7405,19.6205333 C12.723,17.7165333 14.999625,14.03024 14.999625,14.03024 C15.05775,13.9466133 15.0435,13.8237867 15.0435,13.8237867 C15.0435,13.8237867 14.644875,9.41434667 14.61975,7.18293333\" id=\"Fill-3\"></path><path d=\"M17.075625,0.0888533333 C15.93525,0.0645866667 14.579625,0.308746667 13.043625,0.81312 C12.813375,0.89376 12.6315,1.02032 12.466875,1.18122667 C10.906125,2.64096 9.38625,4.18917333 7.95,5.78890667 L7.840125,5.91061333 C7.809,5.94496 7.8045,5.99536 7.82775,6.03530667 C7.851375,6.07525333 7.8975,6.09578667 7.942875,6.08608 L8.102625,6.05173333 C10.418625,5.55893333 12.754125,5.18224 15.046125,4.93285333 C15.19725,4.91642667 15.352875,4.96682667 15.465375,5.06912 C15.579375,5.17216 15.643125,5.31925333 15.640125,5.47232 C15.6015,7.73696 15.684375,10.0131733 15.887625,12.2374933 L15.901125,12.38272 C15.90525,12.42752 15.936375,12.46448 15.979875,12.4760533 C16.040625,12.4809067 16.074375,12.4641067 16.09575,12.43424 L16.17975,12.3151467 C17.472,10.48096 18.876375,8.69717333 20.356125,7.0112 C20.51925,6.82304 20.5635,6.70469333 20.594625,6.53408 C21.06,3.56981333 20.341125,1.37834667 19.69875,0.823573333 C19.141125,0.34272 18.331875,0.116106667 17.075625,0.0888533333 Z\"></path></g></svg>\\' +\\n              \\'</div>\\'\\n          }\\n        }, 500)\\n      </script>\\n      <div id=\"ethnio\"></div>\\n    \\n\\n    \\n      <script nonce=\"j9ksjo+7c+3GYfcBHi9SEB/WhjJnfTUw\">\\n        window.oauthClientId = \\'c82SH0WZOsabOXGP2sxqcj34FxkvfnWRZBKlBjFS\\';\\n        window.brokebackUrl = \\'https://api.robinhood.com\\';\\n        window.midlandsUrl = \\'https://api.robinhood.com/midlands\\';\\n        window.marketdataUrl = \\'https://api.robinhood.com/marketdata\\';\\n        window.nummusUrl = \\'https://nummus.robinhood.com\\';\\n        window.vegetaUrl = \\'https://analytics.robinhood.com/vegeta/experiments\\';\\n        window.analyticsUrl = \\'https://analytics.robinhood.com\\';\\n        window.staticUrl = \\'https://d2ue93q3u507c2.cloudfront.net/assets/generated_assets\\';\\n        window.releaseVersion = \\'0.5.205\\';\\n        window.invisibleRecaptchaSiteKey = \\'6LdiYSUUAAAAAA3Ap7TaAPrH04ef2mYpjy050oz2\\';\\n        window.cspNonce = \\'j9ksjo+7c+3GYfcBHi9SEB/WhjJnfTUw\\';\\n      </script>\\n      <script src=\"https://d2ue93q3u507c2.cloudfront.net/assets/generated_assets/Vendor-f2ed7233a65c2bf45c34.js\" nonce=\"j9ksjo+7c+3GYfcBHi9SEB/WhjJnfTUw\"></script>\\n      <script src=\"https://d2ue93q3u507c2.cloudfront.net/assets/generated_assets/App-540e304d5b339b3afaa8.js\" nonce=\"j9ksjo+7c+3GYfcBHi9SEB/WhjJnfTUw\"></script>\\n    \\n\\n    <script nonce=\"j9ksjo+7c+3GYfcBHi9SEB/WhjJnfTUw\">\\n      window.ga=window.ga||function(){(ga.q=ga.q||[]).push(arguments)};ga.l=+new Date;\\n    </script>\\n    <script nonce=\"j9ksjo+7c+3GYfcBHi9SEB/WhjJnfTUw\" async src=\\'https://www.google-analytics.com/analytics.js\\'></script>\\n    \\n      \\n      \\n        <script nonce=\"j9ksjo+7c+3GYfcBHi9SEB/WhjJnfTUw\">\\n          ga(\\'create\\', \\'UA-46330882-9\\', \\'robinhood.com\\', {\\n            appName: \\'Robinhood Web App\\',\\n            appVersion: \\'0.5.205\\',\\n            clientId: \\'7d0d5fa5-aaa9-4e30-b098-14695b29a542\\'\\n          });\\n        </script>\\n      \\n      \\n    \\n    \\n    <script nonce=\"j9ksjo+7c+3GYfcBHi9SEB/WhjJnfTUw\">\\n      ga(\\'set\\', \\'transport\\', \\'xhr\\');\\n      ga(\\'require\\', \\'displayfeatures\\');\\n      \\n        ga(\\'send\\', \\'pageview\\', location.pathname);\\n      \\n\\n      window.fbAsyncInit = function() {\\n        FB.init({\\n          appId            : \\'674753905956192\\',\\n          autoLogAppEvents : true,\\n          xfbml            : true,\\n          version          : \\'v3.0\\'\\n        });\\n      };\\n\\n    (function(d, s, id){\\n        var js, fjs = d.getElementsByTagName(s)[0];\\n        if (d.getElementById(id)) {return;}\\n        js = d.createElement(s); js.id = id;\\n        js.src = \"https://connect.facebook.net/en_US/sdk.js\";\\n        fjs.parentNode.insertBefore(js, fjs);\\n      }(document, \\'script\\', \\'facebook-jssdk\\'));\\n    </script>\\n    <script type=\"text/javascript\" async src=\"https://platform.twitter.com/widgets.js\" nonce=\"j9ksjo+7c+3GYfcBHi9SEB/WhjJnfTUw\"></script>\\n  </body>\\n</html>\\n'"
      ]
     },
     "execution_count": 196,
     "metadata": {},
     "output_type": "execute_result"
    }
   ],
   "source": [
    "test.content"
   ]
  },
  {
   "cell_type": "markdown",
   "metadata": {},
   "source": []
  }
 ],
 "metadata": {
  "kernelspec": {
   "display_name": "Python 3",
   "language": "python",
   "name": "python3"
  },
  "language_info": {
   "codemirror_mode": {
    "name": "ipython",
    "version": 3
   },
   "file_extension": ".py",
   "mimetype": "text/x-python",
   "name": "python",
   "nbconvert_exporter": "python",
   "pygments_lexer": "ipython3",
   "version": "3.6.7"
  }
 },
 "nbformat": 4,
 "nbformat_minor": 2
}
