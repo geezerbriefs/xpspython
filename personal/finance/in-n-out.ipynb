{
 "cells": [
  {
   "cell_type": "code",
   "execution_count": 1,
   "metadata": {},
   "outputs": [],
   "source": [
    "import pandas as pd\n",
    "import numpy as np\n",
    "\n",
    "import datetime\n",
    "\n",
    "import matplotlib.pyplot as plt"
   ]
  },
  {
   "cell_type": "markdown",
   "metadata": {},
   "source": [
    "# get the data and make it nice"
   ]
  },
  {
   "cell_type": "code",
   "execution_count": 2,
   "metadata": {},
   "outputs": [],
   "source": [
    "df = pd.read_excel('C:/Users/geeze/Documents/finances/ins_n_outs.xlsx')"
   ]
  },
  {
   "cell_type": "code",
   "execution_count": 3,
   "metadata": {},
   "outputs": [
    {
     "data": {
      "text/html": [
       "<div>\n",
       "<style scoped>\n",
       "    .dataframe tbody tr th:only-of-type {\n",
       "        vertical-align: middle;\n",
       "    }\n",
       "\n",
       "    .dataframe tbody tr th {\n",
       "        vertical-align: top;\n",
       "    }\n",
       "\n",
       "    .dataframe thead th {\n",
       "        text-align: right;\n",
       "    }\n",
       "</style>\n",
       "<table border=\"1\" class=\"dataframe\">\n",
       "  <thead>\n",
       "    <tr style=\"text-align: right;\">\n",
       "      <th></th>\n",
       "      <th>month</th>\n",
       "      <th>year</th>\n",
       "      <th>rent</th>\n",
       "      <th>utilsCurt</th>\n",
       "      <th>utilsFair</th>\n",
       "      <th>income</th>\n",
       "      <th>cc spend</th>\n",
       "      <th>venmo</th>\n",
       "      <th>reimburse</th>\n",
       "      <th>misc corrections</th>\n",
       "      <th>note</th>\n",
       "    </tr>\n",
       "  </thead>\n",
       "  <tbody>\n",
       "    <tr>\n",
       "      <th>0</th>\n",
       "      <td>8</td>\n",
       "      <td>2013</td>\n",
       "      <td>0.0</td>\n",
       "      <td>49.5</td>\n",
       "      <td>NaN</td>\n",
       "      <td>2000.0</td>\n",
       "      <td>NaN</td>\n",
       "      <td>NaN</td>\n",
       "      <td>NaN</td>\n",
       "      <td>NaN</td>\n",
       "      <td>NaN</td>\n",
       "    </tr>\n",
       "    <tr>\n",
       "      <th>1</th>\n",
       "      <td>9</td>\n",
       "      <td>2013</td>\n",
       "      <td>0.0</td>\n",
       "      <td>53.0</td>\n",
       "      <td>NaN</td>\n",
       "      <td>2000.0</td>\n",
       "      <td>NaN</td>\n",
       "      <td>NaN</td>\n",
       "      <td>NaN</td>\n",
       "      <td>NaN</td>\n",
       "      <td>NaN</td>\n",
       "    </tr>\n",
       "    <tr>\n",
       "      <th>2</th>\n",
       "      <td>10</td>\n",
       "      <td>2013</td>\n",
       "      <td>0.0</td>\n",
       "      <td>23.5</td>\n",
       "      <td>NaN</td>\n",
       "      <td>2000.0</td>\n",
       "      <td>NaN</td>\n",
       "      <td>NaN</td>\n",
       "      <td>NaN</td>\n",
       "      <td>NaN</td>\n",
       "      <td>NaN</td>\n",
       "    </tr>\n",
       "    <tr>\n",
       "      <th>3</th>\n",
       "      <td>11</td>\n",
       "      <td>2013</td>\n",
       "      <td>0.0</td>\n",
       "      <td>24.5</td>\n",
       "      <td>NaN</td>\n",
       "      <td>2000.0</td>\n",
       "      <td>NaN</td>\n",
       "      <td>NaN</td>\n",
       "      <td>NaN</td>\n",
       "      <td>NaN</td>\n",
       "      <td>NaN</td>\n",
       "    </tr>\n",
       "    <tr>\n",
       "      <th>4</th>\n",
       "      <td>12</td>\n",
       "      <td>2013</td>\n",
       "      <td>0.0</td>\n",
       "      <td>25.5</td>\n",
       "      <td>NaN</td>\n",
       "      <td>2000.0</td>\n",
       "      <td>4.79</td>\n",
       "      <td>NaN</td>\n",
       "      <td>NaN</td>\n",
       "      <td>NaN</td>\n",
       "      <td>NaN</td>\n",
       "    </tr>\n",
       "  </tbody>\n",
       "</table>\n",
       "</div>"
      ],
      "text/plain": [
       "   month  year  rent  utilsCurt  utilsFair  income  cc spend  venmo  \\\n",
       "0      8  2013   0.0       49.5        NaN  2000.0       NaN    NaN   \n",
       "1      9  2013   0.0       53.0        NaN  2000.0       NaN    NaN   \n",
       "2     10  2013   0.0       23.5        NaN  2000.0       NaN    NaN   \n",
       "3     11  2013   0.0       24.5        NaN  2000.0       NaN    NaN   \n",
       "4     12  2013   0.0       25.5        NaN  2000.0      4.79    NaN   \n",
       "\n",
       "   reimburse  misc corrections note  \n",
       "0        NaN               NaN  NaN  \n",
       "1        NaN               NaN  NaN  \n",
       "2        NaN               NaN  NaN  \n",
       "3        NaN               NaN  NaN  \n",
       "4        NaN               NaN  NaN  "
      ]
     },
     "execution_count": 3,
     "metadata": {},
     "output_type": "execute_result"
    }
   ],
   "source": [
    "df.head()"
   ]
  },
  {
   "cell_type": "code",
   "execution_count": 4,
   "metadata": {},
   "outputs": [],
   "source": [
    "df = df.fillna(value=0)"
   ]
  },
  {
   "cell_type": "markdown",
   "metadata": {},
   "source": [
    "# set up the things that are ins and things that are outs"
   ]
  },
  {
   "cell_type": "code",
   "execution_count": 5,
   "metadata": {},
   "outputs": [],
   "source": [
    "def plus_minus (df):\n",
    "    \n",
    "    #standard stuff like income, reimbursements and the misc corrections that are right now (02/05/2020) just internet\n",
    "    ins = df['income'] + df['reimburse'] + df['misc corrections']\n",
    "    \n",
    "    #since venmo can go pos or neg, just use it to offset negs if positive or add to negs if neg\n",
    "    outs = df['venmo'] - df['utilsCurt'] - df['utilsFair'] - df['cc spend'] - df['rent']\n",
    "    \n",
    "    #define required spending (like living expenses)\n",
    "    req_out = df['rent'] + df['utilsCurt'] + df['utilsFair']\n",
    "    \n",
    "    #define discretionary spending. This obviously doesn't account for like checks written and stuff\n",
    "    #these untracked things are assumed to be small\n",
    "    disc_out = -(df['venmo'] - df['cc spend']) #this assumes that venmo will always be less than credit card spending\n",
    "    \n",
    "    net = ins + outs\n",
    "    \n",
    "    return net, req_out, disc_out, ins"
   ]
  },
  {
   "cell_type": "code",
   "execution_count": 6,
   "metadata": {},
   "outputs": [],
   "source": [
    "df['unspent'], df['req spend'], df['disc spend'], df['total ins']= plus_minus(df)"
   ]
  },
  {
   "cell_type": "code",
   "execution_count": 7,
   "metadata": {},
   "outputs": [
    {
     "data": {
      "text/html": [
       "<div>\n",
       "<style scoped>\n",
       "    .dataframe tbody tr th:only-of-type {\n",
       "        vertical-align: middle;\n",
       "    }\n",
       "\n",
       "    .dataframe tbody tr th {\n",
       "        vertical-align: top;\n",
       "    }\n",
       "\n",
       "    .dataframe thead th {\n",
       "        text-align: right;\n",
       "    }\n",
       "</style>\n",
       "<table border=\"1\" class=\"dataframe\">\n",
       "  <thead>\n",
       "    <tr style=\"text-align: right;\">\n",
       "      <th></th>\n",
       "      <th>month</th>\n",
       "      <th>year</th>\n",
       "      <th>rent</th>\n",
       "      <th>utilsCurt</th>\n",
       "      <th>utilsFair</th>\n",
       "      <th>income</th>\n",
       "      <th>cc spend</th>\n",
       "      <th>venmo</th>\n",
       "      <th>reimburse</th>\n",
       "      <th>misc corrections</th>\n",
       "      <th>note</th>\n",
       "      <th>unspent</th>\n",
       "      <th>req spend</th>\n",
       "      <th>disc spend</th>\n",
       "      <th>total ins</th>\n",
       "    </tr>\n",
       "  </thead>\n",
       "  <tbody>\n",
       "    <tr>\n",
       "      <th>0</th>\n",
       "      <td>8</td>\n",
       "      <td>2013</td>\n",
       "      <td>0.0</td>\n",
       "      <td>49.5</td>\n",
       "      <td>0.0000</td>\n",
       "      <td>2000.00</td>\n",
       "      <td>0.00</td>\n",
       "      <td>0.00</td>\n",
       "      <td>0.00</td>\n",
       "      <td>0.00</td>\n",
       "      <td>0</td>\n",
       "      <td>1950.5000</td>\n",
       "      <td>49.5000</td>\n",
       "      <td>-0.00</td>\n",
       "      <td>2000.00</td>\n",
       "    </tr>\n",
       "    <tr>\n",
       "      <th>1</th>\n",
       "      <td>9</td>\n",
       "      <td>2013</td>\n",
       "      <td>0.0</td>\n",
       "      <td>53.0</td>\n",
       "      <td>0.0000</td>\n",
       "      <td>2000.00</td>\n",
       "      <td>0.00</td>\n",
       "      <td>0.00</td>\n",
       "      <td>0.00</td>\n",
       "      <td>0.00</td>\n",
       "      <td>0</td>\n",
       "      <td>1947.0000</td>\n",
       "      <td>53.0000</td>\n",
       "      <td>-0.00</td>\n",
       "      <td>2000.00</td>\n",
       "    </tr>\n",
       "    <tr>\n",
       "      <th>2</th>\n",
       "      <td>10</td>\n",
       "      <td>2013</td>\n",
       "      <td>0.0</td>\n",
       "      <td>23.5</td>\n",
       "      <td>0.0000</td>\n",
       "      <td>2000.00</td>\n",
       "      <td>0.00</td>\n",
       "      <td>0.00</td>\n",
       "      <td>0.00</td>\n",
       "      <td>0.00</td>\n",
       "      <td>0</td>\n",
       "      <td>1976.5000</td>\n",
       "      <td>23.5000</td>\n",
       "      <td>-0.00</td>\n",
       "      <td>2000.00</td>\n",
       "    </tr>\n",
       "    <tr>\n",
       "      <th>3</th>\n",
       "      <td>11</td>\n",
       "      <td>2013</td>\n",
       "      <td>0.0</td>\n",
       "      <td>24.5</td>\n",
       "      <td>0.0000</td>\n",
       "      <td>2000.00</td>\n",
       "      <td>0.00</td>\n",
       "      <td>0.00</td>\n",
       "      <td>0.00</td>\n",
       "      <td>0.00</td>\n",
       "      <td>0</td>\n",
       "      <td>1975.5000</td>\n",
       "      <td>24.5000</td>\n",
       "      <td>-0.00</td>\n",
       "      <td>2000.00</td>\n",
       "    </tr>\n",
       "    <tr>\n",
       "      <th>4</th>\n",
       "      <td>12</td>\n",
       "      <td>2013</td>\n",
       "      <td>0.0</td>\n",
       "      <td>25.5</td>\n",
       "      <td>0.0000</td>\n",
       "      <td>2000.00</td>\n",
       "      <td>4.79</td>\n",
       "      <td>0.00</td>\n",
       "      <td>0.00</td>\n",
       "      <td>0.00</td>\n",
       "      <td>0</td>\n",
       "      <td>1969.7100</td>\n",
       "      <td>25.5000</td>\n",
       "      <td>4.79</td>\n",
       "      <td>2000.00</td>\n",
       "    </tr>\n",
       "    <tr>\n",
       "      <th>...</th>\n",
       "      <td>...</td>\n",
       "      <td>...</td>\n",
       "      <td>...</td>\n",
       "      <td>...</td>\n",
       "      <td>...</td>\n",
       "      <td>...</td>\n",
       "      <td>...</td>\n",
       "      <td>...</td>\n",
       "      <td>...</td>\n",
       "      <td>...</td>\n",
       "      <td>...</td>\n",
       "      <td>...</td>\n",
       "      <td>...</td>\n",
       "      <td>...</td>\n",
       "      <td>...</td>\n",
       "    </tr>\n",
       "    <tr>\n",
       "      <th>80</th>\n",
       "      <td>4</td>\n",
       "      <td>2020</td>\n",
       "      <td>1125.0</td>\n",
       "      <td>0.0</td>\n",
       "      <td>35.8025</td>\n",
       "      <td>2666.67</td>\n",
       "      <td>460.09</td>\n",
       "      <td>-84.50</td>\n",
       "      <td>0.00</td>\n",
       "      <td>44.99</td>\n",
       "      <td>0</td>\n",
       "      <td>1006.2675</td>\n",
       "      <td>1160.8025</td>\n",
       "      <td>544.59</td>\n",
       "      <td>2711.66</td>\n",
       "    </tr>\n",
       "    <tr>\n",
       "      <th>81</th>\n",
       "      <td>5</td>\n",
       "      <td>2020</td>\n",
       "      <td>1125.0</td>\n",
       "      <td>0.0</td>\n",
       "      <td>52.7950</td>\n",
       "      <td>2666.67</td>\n",
       "      <td>314.90</td>\n",
       "      <td>735.50</td>\n",
       "      <td>0.00</td>\n",
       "      <td>44.99</td>\n",
       "      <td>0</td>\n",
       "      <td>1954.4650</td>\n",
       "      <td>1177.7950</td>\n",
       "      <td>-420.60</td>\n",
       "      <td>2711.66</td>\n",
       "    </tr>\n",
       "    <tr>\n",
       "      <th>82</th>\n",
       "      <td>6</td>\n",
       "      <td>2020</td>\n",
       "      <td>1125.0</td>\n",
       "      <td>0.0</td>\n",
       "      <td>59.5775</td>\n",
       "      <td>2666.67</td>\n",
       "      <td>721.12</td>\n",
       "      <td>3.00</td>\n",
       "      <td>359.88</td>\n",
       "      <td>44.99</td>\n",
       "      <td>illustrator license is the reimbursement</td>\n",
       "      <td>1168.8425</td>\n",
       "      <td>1184.5775</td>\n",
       "      <td>718.12</td>\n",
       "      <td>3071.54</td>\n",
       "    </tr>\n",
       "    <tr>\n",
       "      <th>83</th>\n",
       "      <td>7</td>\n",
       "      <td>2020</td>\n",
       "      <td>1125.0</td>\n",
       "      <td>0.0</td>\n",
       "      <td>34.1150</td>\n",
       "      <td>2666.67</td>\n",
       "      <td>738.62</td>\n",
       "      <td>212.64</td>\n",
       "      <td>0.00</td>\n",
       "      <td>59.99</td>\n",
       "      <td>internet cost increases to 59.99 since first y...</td>\n",
       "      <td>1041.5650</td>\n",
       "      <td>1159.1150</td>\n",
       "      <td>525.98</td>\n",
       "      <td>2726.66</td>\n",
       "    </tr>\n",
       "    <tr>\n",
       "      <th>84</th>\n",
       "      <td>8</td>\n",
       "      <td>2020</td>\n",
       "      <td>1125.0</td>\n",
       "      <td>0.0</td>\n",
       "      <td>29.9950</td>\n",
       "      <td>2666.67</td>\n",
       "      <td>0.00</td>\n",
       "      <td>0.00</td>\n",
       "      <td>0.00</td>\n",
       "      <td>59.99</td>\n",
       "      <td>0</td>\n",
       "      <td>1571.6650</td>\n",
       "      <td>1154.9950</td>\n",
       "      <td>-0.00</td>\n",
       "      <td>2726.66</td>\n",
       "    </tr>\n",
       "  </tbody>\n",
       "</table>\n",
       "<p>85 rows × 15 columns</p>\n",
       "</div>"
      ],
      "text/plain": [
       "    month  year    rent  utilsCurt  utilsFair   income  cc spend   venmo  \\\n",
       "0       8  2013     0.0       49.5     0.0000  2000.00      0.00    0.00   \n",
       "1       9  2013     0.0       53.0     0.0000  2000.00      0.00    0.00   \n",
       "2      10  2013     0.0       23.5     0.0000  2000.00      0.00    0.00   \n",
       "3      11  2013     0.0       24.5     0.0000  2000.00      0.00    0.00   \n",
       "4      12  2013     0.0       25.5     0.0000  2000.00      4.79    0.00   \n",
       "..    ...   ...     ...        ...        ...      ...       ...     ...   \n",
       "80      4  2020  1125.0        0.0    35.8025  2666.67    460.09  -84.50   \n",
       "81      5  2020  1125.0        0.0    52.7950  2666.67    314.90  735.50   \n",
       "82      6  2020  1125.0        0.0    59.5775  2666.67    721.12    3.00   \n",
       "83      7  2020  1125.0        0.0    34.1150  2666.67    738.62  212.64   \n",
       "84      8  2020  1125.0        0.0    29.9950  2666.67      0.00    0.00   \n",
       "\n",
       "    reimburse  misc corrections  \\\n",
       "0        0.00              0.00   \n",
       "1        0.00              0.00   \n",
       "2        0.00              0.00   \n",
       "3        0.00              0.00   \n",
       "4        0.00              0.00   \n",
       "..        ...               ...   \n",
       "80       0.00             44.99   \n",
       "81       0.00             44.99   \n",
       "82     359.88             44.99   \n",
       "83       0.00             59.99   \n",
       "84       0.00             59.99   \n",
       "\n",
       "                                                 note    unspent  req spend  \\\n",
       "0                                                   0  1950.5000    49.5000   \n",
       "1                                                   0  1947.0000    53.0000   \n",
       "2                                                   0  1976.5000    23.5000   \n",
       "3                                                   0  1975.5000    24.5000   \n",
       "4                                                   0  1969.7100    25.5000   \n",
       "..                                                ...        ...        ...   \n",
       "80                                                  0  1006.2675  1160.8025   \n",
       "81                                                  0  1954.4650  1177.7950   \n",
       "82           illustrator license is the reimbursement  1168.8425  1184.5775   \n",
       "83  internet cost increases to 59.99 since first y...  1041.5650  1159.1150   \n",
       "84                                                  0  1571.6650  1154.9950   \n",
       "\n",
       "    disc spend  total ins  \n",
       "0        -0.00    2000.00  \n",
       "1        -0.00    2000.00  \n",
       "2        -0.00    2000.00  \n",
       "3        -0.00    2000.00  \n",
       "4         4.79    2000.00  \n",
       "..         ...        ...  \n",
       "80      544.59    2711.66  \n",
       "81     -420.60    2711.66  \n",
       "82      718.12    3071.54  \n",
       "83      525.98    2726.66  \n",
       "84       -0.00    2726.66  \n",
       "\n",
       "[85 rows x 15 columns]"
      ]
     },
     "execution_count": 7,
     "metadata": {},
     "output_type": "execute_result"
    }
   ],
   "source": [
    "df"
   ]
  },
  {
   "cell_type": "code",
   "execution_count": 8,
   "metadata": {},
   "outputs": [],
   "source": [
    "def make_dtime (df):\n",
    "\n",
    "    date_info = df.loc[:, ['month', 'year']]\n",
    "    \n",
    "    date_info['day'] = 1\n",
    "        \n",
    "    date = pd.to_datetime(date_info)\n",
    "    \n",
    "    return date"
   ]
  },
  {
   "cell_type": "code",
   "execution_count": 9,
   "metadata": {},
   "outputs": [],
   "source": [
    "df['date'] = make_dtime(df)"
   ]
  },
  {
   "cell_type": "code",
   "execution_count": 10,
   "metadata": {},
   "outputs": [
    {
     "data": {
      "text/plain": [
       "<matplotlib.axes._subplots.AxesSubplot at 0x136fddaae48>"
      ]
     },
     "execution_count": 10,
     "metadata": {},
     "output_type": "execute_result"
    },
    {
     "data": {
      "image/png": "[encoded data removed]",
      "text/plain": [
       "<Figure size 432x288 with 1 Axes>"
      ]
     },
     "metadata": {
      "needs_background": "light"
     },
     "output_type": "display_data"
    }
   ],
   "source": [
    "### absolute unspent money\n",
    "df.plot(x='date', y='unspent')"
   ]
  },
  {
   "cell_type": "code",
   "execution_count": 11,
   "metadata": {},
   "outputs": [
    {
     "data": {
      "text/plain": [
       "127504.63333333004"
      ]
     },
     "execution_count": 11,
     "metadata": {},
     "output_type": "execute_result"
    }
   ],
   "source": [
    "### total saved cash over whole time\n",
    "\n",
    "df['unspent'].sum()"
   ]
  },
  {
   "cell_type": "code",
   "execution_count": 12,
   "metadata": {},
   "outputs": [
    {
     "data": {
      "text/plain": [
       "[<matplotlib.lines.Line2D at 0x136fe679988>]"
      ]
     },
     "execution_count": 12,
     "metadata": {},
     "output_type": "execute_result"
    },
    {
     "data": {
      "image/png": "[encoded data removed]",
      "text/plain": [
       "<Figure size 432x288 with 1 Axes>"
      ]
     },
     "metadata": {
      "needs_background": "light"
     },
     "output_type": "display_data"
    }
   ],
   "source": [
    "### ABSOLUTE SPENDING VS INFLOW\n",
    "\n",
    "#put income on there\n",
    "plt.plot(df['date'], df['income'], '--')\n",
    "\n",
    "#put income plus other sources of money that month on there\n",
    "plt.plot(df['date'], df['total ins'], '--')\n",
    "\n",
    "#now add required spending\n",
    "plt.plot(df['date'], df['req spend'])\n",
    "\n",
    "#now add discretionary spending above required.\n",
    "plt.plot(df['date'], df['req spend']+df['disc spend'])\n",
    "\n",
    "\n"
   ]
  },
  {
   "cell_type": "code",
   "execution_count": 13,
   "metadata": {},
   "outputs": [
    {
     "data": {
      "text/plain": [
       "<matplotlib.lines.Line2D at 0x136fe6be088>"
      ]
     },
     "execution_count": 13,
     "metadata": {},
     "output_type": "execute_result"
    },
    {
     "data": {
      "image/png": "[encoded data removed]",
      "text/plain": [
       "<Figure size 432x288 with 1 Axes>"
      ]
     },
     "metadata": {
      "needs_background": "light"
     },
     "output_type": "display_data"
    }
   ],
   "source": [
    "### SPENDING AS PERCENT OF INFLOW\n",
    "\n",
    "#required spending as percentage of total inflow\n",
    "plt.plot(df['date'], df['req spend'] / df['total ins'])\n",
    "\n",
    "#now add discretionary spending above required as percentage of total inflow\n",
    "plt.plot(df['date'], (df['req spend']+df['disc spend']) / df['total ins'])\n",
    "\n",
    "plt.axhline(1, linestyle = '--')"
   ]
  },
  {
   "cell_type": "code",
   "execution_count": 14,
   "metadata": {
    "scrolled": true
   },
   "outputs": [
    {
     "data": {
      "text/plain": [
       "<matplotlib.lines.Line2D at 0x136fe72f448>"
      ]
     },
     "execution_count": 14,
     "metadata": {},
     "output_type": "execute_result"
    },
    {
     "data": {
      "image/png": "[encoded data removed]",
      "text/plain": [
       "<Figure size 432x288 with 1 Axes>"
      ]
     },
     "metadata": {
      "needs_background": "light"
     },
     "output_type": "display_data"
    }
   ],
   "source": [
    "### PERCENT OF INFLOW SAVED\n",
    "\n",
    "plt.plot(df['date'], df['unspent'] / df['total ins'])\n",
    "\n",
    "plt.axhline(0.2, color='r',linestyle='--')\n",
    "plt.axhline(0.5, color='g', linestyle='--')"
   ]
  },
  {
   "cell_type": "code",
   "execution_count": 15,
   "metadata": {},
   "outputs": [
    {
     "name": "stdout",
     "output_type": "stream",
     "text": [
      "The mean percent of inflow saved after  2019-10-01 00:00:00  is  31.452485468140452\n"
     ]
    }
   ],
   "source": [
    "### MEAN SAVINGS BEFORE AND AFTER A CERTAIN DATE, PERCENT OF INFLOW\n",
    "\n",
    "#set date\n",
    "d = datetime.datetime(2019, 10, 1)\n",
    "\n",
    "i = df['date'] >= d\n",
    "\n",
    "#amounts unspend AFTER date d\n",
    "not_spent_after_d = df.loc[i, 'unspent']\n",
    "             \n",
    "#total amounts in AFTER date d\n",
    "all_in_after_d = df.loc[i, 'total ins']\n",
    "             \n",
    "print('The mean percent of inflow saved after ', d, ' is ', 100*(not_spent_after_d / all_in_after_d).mean())"
   ]
  },
  {
   "cell_type": "code",
   "execution_count": 16,
   "metadata": {},
   "outputs": [
    {
     "name": "stdout",
     "output_type": "stream",
     "text": [
      "You have saved this much  from start until 2020-01-01 00:00:00: 120071.51083333003\n"
     ]
    }
   ],
   "source": [
    "### absolute savings before or after a certain date\n",
    "\n",
    "#set date\n",
    "d = datetime.datetime(2020, 1, 1)\n",
    "\n",
    "i = df['date'] >= d\n",
    "\n",
    "#if 1, you want the total AFTER date d, 0 means you want total from beginning UP TO date d (before)\n",
    "after = 0\n",
    "\n",
    "if after == 1:\n",
    "    pass\n",
    "    word = ' from {} until present:'.format(d)\n",
    "else:\n",
    "    i = ~i\n",
    "    word = ' from start until {}:'.format(d)\n",
    "\n",
    "\n",
    "#sum up the unspent monies before or after date d. Use the ~ operator to determine before or after\n",
    "# ~ makes it the sum from the beginning up until date d, regular means after date d\n",
    "print('You have saved this much', word, df.loc[i, 'unspent'].sum())"
   ]
  },
  {
   "cell_type": "code",
   "execution_count": null,
   "metadata": {},
   "outputs": [],
   "source": []
  }
 ],
 "metadata": {
  "kernelspec": {
   "display_name": "Python 3",
   "language": "python",
   "name": "python3"
  },
  "language_info": {
   "codemirror_mode": {
    "name": "ipython",
    "version": 3
   },
   "file_extension": ".py",
   "mimetype": "text/x-python",
   "name": "python",
   "nbconvert_exporter": "python",
   "pygments_lexer": "ipython3",
   "version": "3.7.6"
  }
 },
 "nbformat": 4,
 "nbformat_minor": 2
}
