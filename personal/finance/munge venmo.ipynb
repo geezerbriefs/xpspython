{
 "cells": [
  {
   "cell_type": "code",
   "execution_count": 1,
   "metadata": {},
   "outputs": [],
   "source": [
    "import pandas as pd\n",
    "import numpy as np\n",
    "\n",
    "import seaborn as sns\n",
    "\n",
    "import datetime\n",
    "\n",
    "import glob"
   ]
  },
  {
   "cell_type": "code",
   "execution_count": 2,
   "metadata": {},
   "outputs": [],
   "source": [
    "directory = 'C:/Users/geeze/Documents/finances/venmo/'"
   ]
  },
  {
   "cell_type": "code",
   "execution_count": 3,
   "metadata": {},
   "outputs": [],
   "source": [
    "def make_venmo_list (directory):\n",
    "    files = glob.glob(directory + '*.csv')\n",
    "    \n",
    "    dfs = []\n",
    "    \n",
    "    for f in files:\n",
    "        if '_full_hist' not in f:\n",
    "            d = pd.read_csv(f)\n",
    "\n",
    "            dfs.append(d)\n",
    "        \n",
    "    df = pd.concat(dfs)\n",
    "        \n",
    "    return df"
   ]
  },
  {
   "cell_type": "code",
   "execution_count": 4,
   "metadata": {},
   "outputs": [],
   "source": [
    "df = make_venmo_list(directory)"
   ]
  },
  {
   "cell_type": "code",
   "execution_count": 5,
   "metadata": {},
   "outputs": [],
   "source": [
    "#get rid of random rows\n",
    "null_cols = pd.isnull(df['ID'])\n",
    "\n",
    "df = df.loc[~null_cols]"
   ]
  },
  {
   "cell_type": "code",
   "execution_count": 6,
   "metadata": {},
   "outputs": [],
   "source": [
    "#remove standard transfer rows since they just go to my bank, we just want trasactions\n",
    "std_trans = df['Type'] == \"Standard Transfer\"\n",
    "\n",
    "\n",
    "df = df.loc[~std_trans]\n",
    "df = df.reset_index(drop=True)"
   ]
  },
  {
   "cell_type": "code",
   "execution_count": 7,
   "metadata": {},
   "outputs": [],
   "source": [
    "#looks like the amount column always has a \"+\" if it goes to me and always has a \"-\" if it goes away from me\n",
    "#so we can just use that to give the values +/- signs\n",
    "\n",
    "# ins = df.loc[:, 'Amount (total)'].str.contains('+', regex=False)\n",
    "outs = df.loc[:, 'Amount (total)'].str.contains('-', regex=False)\n",
    "\n",
    "positive = df.loc[~outs, 'Amount (total)'].str.split(\"$\", expand=True)[1].rename('pos').str.replace(',','').astype('float64')\n",
    "negative = df.loc[outs, 'Amount (total)'].str.split(\"$\", expand=True)[1].rename('neg').str.replace(',','').astype('float64') * (-1)"
   ]
  },
  {
   "cell_type": "code",
   "execution_count": 8,
   "metadata": {},
   "outputs": [],
   "source": [
    "df = pd.concat([df, positive, negative], axis=1).fillna(0)"
   ]
  },
  {
   "cell_type": "code",
   "execution_count": 9,
   "metadata": {},
   "outputs": [],
   "source": [
    "df['amnt'] = df['pos'] + df['neg']"
   ]
  },
  {
   "cell_type": "code",
   "execution_count": 10,
   "metadata": {},
   "outputs": [],
   "source": [
    "def get_dtime (string):\n",
    "    \n",
    "    value = datetime.datetime.strptime(string, '%Y-%m-%dT%H:%M:%S')\n",
    "    \n",
    "    return value"
   ]
  },
  {
   "cell_type": "code",
   "execution_count": 11,
   "metadata": {},
   "outputs": [],
   "source": [
    "df['Datetime'] = df['Datetime'].apply(get_dtime)"
   ]
  },
  {
   "cell_type": "code",
   "execution_count": 12,
   "metadata": {},
   "outputs": [],
   "source": [
    "df = df.loc[:, ['Datetime', 'Note', 'From', 'To', 'amnt']]"
   ]
  },
  {
   "cell_type": "code",
   "execution_count": 13,
   "metadata": {},
   "outputs": [
    {
     "data": {
      "text/plain": [
       "<matplotlib.axes._subplots.AxesSubplot at 0x1f30230a288>"
      ]
     },
     "execution_count": 13,
     "metadata": {},
     "output_type": "execute_result"
    },
    {
     "data": {
      "image/png": "[encoded data removed]",
      "text/plain": [
       "<Figure size 432x288 with 1 Axes>"
      ]
     },
     "metadata": {
      "needs_background": "light"
     },
     "output_type": "display_data"
    }
   ],
   "source": [
    "sns.stripplot(x=df['amnt'])"
   ]
  },
  {
   "cell_type": "code",
   "execution_count": 14,
   "metadata": {},
   "outputs": [],
   "source": [
    "df.loc[df['From'] == 'Lauren Malone']\n",
    "\n",
    "#all of laurens non-rent transfers to me, for debt or otherwise, are below 1100 dollars, so set a cutoff there and exclude\n",
    "#all transfers from Lauren above that limit, this avoids including rent payments in the final in-n-out tracker\n",
    "#the tracker already assumes she's paid that.\n",
    "i1 = df['From'] == 'Lauren Malone'\n",
    "i2 = df['amnt'] > 1100\n",
    "\n",
    "i = i1&i2\n",
    "\n",
    "df_no_big_lauren = df.loc[~i]"
   ]
  },
  {
   "cell_type": "code",
   "execution_count": 15,
   "metadata": {
    "scrolled": true
   },
   "outputs": [],
   "source": [
    "df = df.sort_values(by='Datetime')"
   ]
  },
  {
   "cell_type": "code",
   "execution_count": 16,
   "metadata": {},
   "outputs": [],
   "source": [
    "df.to_csv(directory + 'venmo_full_hist.csv')\n",
    "\n",
    "# df_no_big_lauren.to_csv(directory + 'venmo_nobigLauren_hist.csv')"
   ]
  },
  {
   "cell_type": "code",
   "execution_count": 17,
   "metadata": {},
   "outputs": [],
   "source": [
    "df.resample('M', on='Datetime').sum().to_csv(directory + 'venmo_monthly_hist.csv')\n",
    "df_no_big_lauren.resample('M', on='Datetime').sum().to_csv(directory + 'venmo_nobigLauren_monthly_hist.csv')"
   ]
  },
  {
   "cell_type": "code",
   "execution_count": null,
   "metadata": {},
   "outputs": [],
   "source": []
  }
 ],
 "metadata": {
  "kernelspec": {
   "display_name": "Python 3",
   "language": "python",
   "name": "python3"
  },
  "language_info": {
   "codemirror_mode": {
    "name": "ipython",
    "version": 3
   },
   "file_extension": ".py",
   "mimetype": "text/x-python",
   "name": "python",
   "nbconvert_exporter": "python",
   "pygments_lexer": "ipython3",
   "version": "3.7.6"
  }
 },
 "nbformat": 4,
 "nbformat_minor": 2
}
