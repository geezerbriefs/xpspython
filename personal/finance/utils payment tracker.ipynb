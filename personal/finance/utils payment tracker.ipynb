{
 "cells": [
  {
   "cell_type": "code",
   "execution_count": 9,
   "metadata": {},
   "outputs": [],
   "source": [
    "\"\"\"\n",
    "This script will sum up utilities by month and indicate how much is to be paid by each roommate.\n",
    "It should track outstanding balances too\n",
    "\"\"\";"
   ]
  },
  {
   "cell_type": "code",
   "execution_count": 10,
   "metadata": {},
   "outputs": [],
   "source": [
    "import pandas as pd\n",
    "from openpyxl import load_workbook\n",
    "\n",
    "import numpy as np\n",
    "\n",
    "import os\n",
    "import glob\n",
    "\n",
    "import datetime"
   ]
  },
  {
   "cell_type": "markdown",
   "metadata": {},
   "source": [
    "## General I/O"
   ]
  },
  {
   "cell_type": "code",
   "execution_count": 11,
   "metadata": {},
   "outputs": [],
   "source": [
    "def get_dtime (string):\n",
    "    \"\"\"\n",
    "    converts strings to datetime objects using datetime.strptime mostly just wrote this so I could .apply() it in pandas\n",
    "    method chains\n",
    "    \n",
    "    takes (string) which is the full date of format mm/dd/yyyy (can't be 2 digit year)\n",
    "    \"\"\"\n",
    "    return datetime.datetime.strptime(string, '%m/%d/%Y')"
   ]
  },
  {
   "cell_type": "code",
   "execution_count": 12,
   "metadata": {},
   "outputs": [],
   "source": [
    "def open_hist (filepath):\n",
    "    \n",
    "    sheet_dict = pd.read_excel(filepath, sheet_name=None)\n",
    "    \n",
    "#     hist['open'] = hist['open'].apply(get_dtime)\n",
    "#     hist['close'] = hist['close'].apply(get_dtime)\n",
    "    \n",
    "#     hist['date'] = hist['date'].apply(get_dtime)\n",
    "    \n",
    "#     hist['st close'] = hist['st close'].apply(get_dtime)\n",
    "#     hist['st open'] = hist['st open'].apply(get_dtime)\n",
    "    \n",
    "    return sheet_dict"
   ]
  },
  {
   "cell_type": "markdown",
   "metadata": {},
   "source": [
    "## Calculating new balances"
   ]
  },
  {
   "cell_type": "code",
   "execution_count": 44,
   "metadata": {},
   "outputs": [],
   "source": [
    "def roomie0_bal (utils_history_tidy):\n",
    "    \"\"\"\n",
    "    ARAZIN\n",
    "    \"\"\"\n",
    "    \n",
    "    #get all the utils charges that roomie1 hasn't paid his share yet\n",
    "    zero_unpaid = utils_history_tidy.loc[utils_history_tidy['arazin paid'].astype(str) == '0', :]\n",
    "    \n",
    "    #when it is just arazin and I, so total is split evenly by 2\n",
    "    just_2_roomies = sum(zero_unpaid.loc[zero_unpaid['alex paid'].astype(str) == 'na', 'amnt'])/2\n",
    "    \n",
    "    #when we have the full 3 roommates\n",
    "    full_house = sum(zero_unpaid.loc[zero_unpaid['alex paid'].astype(str) != 'na', 'amnt'])/3\n",
    "    \n",
    "    return (just_2_roomies + full_house, zero_unpaid)"
   ]
  },
  {
   "cell_type": "code",
   "execution_count": 45,
   "metadata": {},
   "outputs": [],
   "source": [
    "def roomie1_bal (utils_history_tidy):\n",
    "    \"\"\"\n",
    "    ALEX\n",
    "    \"\"\"\n",
    "    \n",
    "    #get all the utils charges that roomie2 hasn't paid his share yet\n",
    "    one_unpaid = utils_history_tidy.loc[utils_history_tidy['alex paid'].astype(str) == '0', :]\n",
    "    \n",
    "    #when it is just alex and I, so total is split evenly by 2\n",
    "    just_2_roomies = sum(one_unpaid.loc[one_unpaid['arazin paid'].astype(str) == 'na', 'amnt'])/2\n",
    "    \n",
    "    #when we have the full 3 roommates\n",
    "    full_house = sum(one_unpaid.loc[one_unpaid['arazin paid'].astype(str) != 'na', 'amnt'])/3\n",
    "    \n",
    "    return (just_2_roomies + full_house, one_unpaid)"
   ]
  },
  {
   "cell_type": "code",
   "execution_count": 46,
   "metadata": {},
   "outputs": [],
   "source": [
    "def bal_and_dates (utils_history_tidy, who):\n",
    "    \n",
    "    if who == 'arazin':\n",
    "        bal, dates = roomie0_bal(utils_history_tidy)\n",
    "    \n",
    "    elif who == 'alex':\n",
    "        bal, dates = roomie1_bal(utils_history_tidy)\n",
    "        \n",
    "    else:\n",
    "        raise NameError('This is not a valid roommate')\n",
    "    \n",
    "    latest_unpaid_periods = pd.DataFrame()\n",
    "    \n",
    "    for util in np.unique(dates['util']):\n",
    "    \n",
    "        idx = dates['util'] == util\n",
    "\n",
    "        open_per_util = dates.loc[idx, 'open']\n",
    "\n",
    "        ma = max(open_per_util)\n",
    "\n",
    "        idx_of_max = dates['open'] == ma\n",
    "\n",
    "        max_per = dates.loc[idx_of_max, ['open', 'close']]\n",
    "        \n",
    "        max_per = max_per.assign(util = util)\n",
    "        \n",
    "        latest_unpaid_periods = pd.concat([latest_unpaid_periods, max_per])\n",
    "    \n",
    "    #get the date you did the calculation for reference\n",
    "    now = datetime.datetime.now()\n",
    "    \n",
    "    latest_unpaid_periods = latest_unpaid_periods.assign(date_calc = datetime.datetime(now.year, now.month, now.day), \n",
    "                                                         who = who,\n",
    "                                                         balance = bal)\n",
    "        \n",
    "    return latest_unpaid_periods"
   ]
  },
  {
   "cell_type": "code",
   "execution_count": 34,
   "metadata": {},
   "outputs": [],
   "source": [
    "def write_current_balances (curr_bals_for_all, utils_hist_file):\n",
    "    \n",
    "    #load this file as an openpyxl workbook\n",
    "    book = load_workbook(utils_hist_file)\n",
    "    \n",
    "    #create pandas writer object with the openpyxl engine\n",
    "    writer = pd.ExcelWriter(utils_hist_file, engine='openpyxl')\n",
    "    \n",
    "    #tell the writer object the pertinent information about the openpyxl workbook\n",
    "    #so it can do operations (write) in the right places in the file\n",
    "    writer.book = book\n",
    "    writer.sheets = dict((ws.title, ws) for ws in book.worksheets)\n",
    "\n",
    "    #because we told the excel writer object the workbook and names of the sheets\n",
    "    #it can write to the correct sheet and maintain all the data without deleting worksheets etc\n",
    "    curr_bals_for_all.to_excel(writer, \"balances\", index=False)\n",
    "    \n",
    "    #save it\n",
    "    writer.save()\n",
    "    \n",
    "    return None"
   ]
  },
  {
   "cell_type": "code",
   "execution_count": 35,
   "metadata": {},
   "outputs": [],
   "source": [
    "def update_balances (file, roommates):\n",
    "    #get the file and separate the sheets\n",
    "    \n",
    "    utils_dict = open_hist(file)\n",
    "\n",
    "    utils_hist = utils_dict['utils']\n",
    "    balances = utils_dict['balances']\n",
    "    \n",
    "    #get the new balances due\n",
    "    all_new_bals = pd.DataFrame()\n",
    "    for roomie in roommates:\n",
    "\n",
    "        new_balance = bal_and_dates(utils_hist, roomie)\n",
    "\n",
    "        all_new_bals = pd.concat([all_new_bals, new_balance], axis='index', sort=False)\n",
    "\n",
    "    balances = pd.concat([balances, all_new_bals], axis=0, sort=False)\n",
    "    \n",
    "    \n",
    "    #write it back\n",
    "    \n",
    "    #this does not currently check if I'm duplicating a balance\n",
    "    #for now this is ok because balances calculated on different days still differ in their\n",
    "    #'date calc' column and this is a good record of nonpayment and nonincrease over a period of time\n",
    "    #also, the payment update function should erase all identical, and previous nonidentical balance amount entries\n",
    "    write_current_balances(balances, file)\n",
    "    \n",
    "    print(\"The new balances have been calculated for {} and {} and are recorded in the 'balances' sheet of the tidy utils xlsx\"\n",
    "         .format(roommates[0], roommates[1]))\n",
    "    \n",
    "    return balances"
   ]
  },
  {
   "cell_type": "code",
   "execution_count": 36,
   "metadata": {},
   "outputs": [],
   "source": [
    "def show_simple_bal (balances_df):\n",
    "    \n",
    "    simple = {}\n",
    "    \n",
    "    for person in np.unique(balances_df['who']):\n",
    "        \n",
    "        p_idx = balances_df['who'] == person\n",
    "        \n",
    "        max_calc_date_idx = balances_df.loc[:, 'date_calc'] == max(balances_df.loc[p_idx, 'date_calc'])\n",
    "        \n",
    "        amount = max(balances_df.loc[p_idx & max_calc_date_idx, 'balance'])\n",
    "        \n",
    "        simple.update({person : amount})\n",
    "        \n",
    "    for key in simple.keys():\n",
    "        print(\"{} owes {}\".format(key, simple[key]))\n",
    "        \n",
    "    return simple"
   ]
  },
  {
   "cell_type": "markdown",
   "metadata": {},
   "source": [
    "## Deal with a payment"
   ]
  },
  {
   "cell_type": "code",
   "execution_count": 37,
   "metadata": {},
   "outputs": [],
   "source": [
    "def update_util_hist_w_payment (amount_paid, who_paid, balances, utils_hist):\n",
    "    \n",
    "    #get all the balance sheet entries for the amount paid\n",
    "    #(should be a single instance of each utility with open/close dates,\n",
    "    #these dates are the latest unpaid period for that util at that balance amount)\n",
    "\n",
    "    amnt_idx = balances['balance'] == amount_paid\n",
    "    who_idx = balances['who'] == who_paid\n",
    "\n",
    "    entries_for_amount = balances.loc[amnt_idx & who_idx, ['open', 'close', 'util']]\n",
    "    \n",
    "    \n",
    "    #for each utility associated with the paid balance\n",
    "    for util in np.unique(entries_for_amount['util']):\n",
    "\n",
    "        #get the latest entry for a particular utility for the amount paid\n",
    "        latest_unpaid_entry = entries_for_amount.loc[entries_for_amount['util'] == util, :]\n",
    "\n",
    "        #find which entry, and all previous, in the utilities history is being paid in this amount\n",
    "        #use the max() function in case the balance sheet has a history of multiple calculations of the same balance\n",
    "        #Just in case the dates of the utility open/close have changed, I want to take the latest one of these and update\n",
    "        #back from there\n",
    "        open_idx = utils_hist['open'] <= max(latest_unpaid_entry['open'].values)\n",
    "        close_idx = utils_hist['close'] <= max(latest_unpaid_entry['close'].values) #probably redundant\n",
    "        util_idx = utils_hist['util'] == util\n",
    "\n",
    "                  #don't update to 1 the places where the roommate didn't live there ('na')\n",
    "        not_na_idx = (utils_hist[who_paid + ' paid'].astype(str) != 'na')\n",
    "\n",
    "\n",
    "        #update this and all previous entries for this utility to 'paid' for this roommate\n",
    "        utils_hist.loc[open_idx & close_idx & util_idx & not_na_idx, who_paid + ' paid'] = 1\n",
    "        \n",
    "    return utils_hist"
   ]
  },
  {
   "cell_type": "code",
   "execution_count": 38,
   "metadata": {},
   "outputs": [],
   "source": [
    "def update_balances_w_payment (amount_paid, who_paid, balances):\n",
    "    \n",
    "    #find all the places in the balance sheet that are associated with the balance being paid\n",
    "    amnt_idx = balances['balance'] == amount_paid\n",
    "    who_idx = balances['who'] == who_paid\n",
    "    \n",
    "    #I don't want to remove just the balance entries with this value, because previous entries\n",
    "    #that should get erased by this payment may have amounts less than this.\n",
    "    #so let's get the latest balances calculation date for this amount and delete everything before this\n",
    "    #this assumes there's never a case in which balances before the latest balance calc date won't be erased.\n",
    "    latest_bal_calc_date = max(balances.loc[amnt_idx & who_idx, 'date_calc'])\n",
    "    \n",
    "    date_idx = balances['date_calc'] <= latest_bal_calc_date\n",
    "    \n",
    "    #the idxs above will allow me to access all the balance rows that correspond with this payment\n",
    "    #but I want to get all the ones that ARENT this payment, and thereby drop those that are, so reverse it\n",
    "    oppo = [not x for x in (amnt_idx & who_idx & date_idx)]\n",
    "    \n",
    "    balances = balances.loc[oppo]\n",
    "    \n",
    "    return balances"
   ]
  },
  {
   "cell_type": "code",
   "execution_count": 39,
   "metadata": {},
   "outputs": [],
   "source": [
    "def write_hist_balances_w_payment (updated_utils_hist_df, updated_balances_df, utils_hist_file):\n",
    "    \n",
    "    #load this file as an openpyxl workbook\n",
    "    book = load_workbook(utils_hist_file)\n",
    "    \n",
    "    #since we're overwriting this worksheet, let's get rid of it.\n",
    "    #if you don't, it will only overwrite some of the data or none at all.\n",
    "    #don't do this with the utilities hist because the length of that one doesn't change in this fxn\n",
    "    book.remove(book['balances'])\n",
    "    \n",
    "    #create pandas writer object with the openpyxl engine\n",
    "    writer = pd.ExcelWriter(utils_hist_file, engine='openpyxl')\n",
    "    \n",
    "    #tell the writer object the pertinent information about the openpyxl workbook\n",
    "    #so it can do operations (write) in the right places in the file\n",
    "    writer.book = book\n",
    "    writer.sheets = dict((ws.title, ws) for ws in book.worksheets)\n",
    "\n",
    "    #because we told the excel writer object the workbook and names of the sheets\n",
    "    #it can write to the correct sheet and maintain all the data without deleting worksheets etc\n",
    "    updated_utils_hist_df.to_excel(writer, \"utils\", index=False)\n",
    "    updated_balances_df.to_excel(writer, \"balances\", index=False)\n",
    "    \n",
    "    #save it\n",
    "    writer.save()\n",
    "    \n",
    "    return None"
   ]
  },
  {
   "cell_type": "code",
   "execution_count": 40,
   "metadata": {},
   "outputs": [],
   "source": [
    "def process_payment (amount_paid, who_paid, utils_xlsx_filepath):\n",
    "    \n",
    "    #get the file you want to update with a payment\n",
    "    utils_dict = open_hist(utils_xlsx_filepath)\n",
    "\n",
    "    utils_hist = utils_dict['utils']\n",
    "    balances = utils_dict['balances']\n",
    "    \n",
    "    #update the \"paid\" column for the person paying in the long utilities history sheet\n",
    "    new_utils_hist = update_util_hist_w_payment (amount_paid, who_paid, balances, utils_hist)\n",
    "    \n",
    "    #delete the balances that exist for this amount for this person\n",
    "    new_balances = update_balances_w_payment (amount_paid, who_paid, balances)\n",
    "    \n",
    "    #write it all to the file\n",
    "    write_hist_balances_w_payment (new_utils_hist, new_balances, utils_xlsx_filepath)\n",
    "    \n",
    "    print('The payment in amount ${} from {} was processed. The utilities history reflects this payment and associated balances have been removed.'\n",
    "         .format(amount_paid, who_paid))\n",
    "    \n",
    "    return new_utils_hist, new_balances"
   ]
  },
  {
   "cell_type": "markdown",
   "metadata": {},
   "source": [
    "## Run below to calculate new balances"
   ]
  },
  {
   "cell_type": "code",
   "execution_count": 47,
   "metadata": {},
   "outputs": [],
   "source": [
    "file = 'C:/Users/geeze/Documents/finances/utils/utilities_tidy.xlsx'\n",
    "\n",
    "roommates = ['alex', 'arazin']"
   ]
  },
  {
   "cell_type": "code",
   "execution_count": 48,
   "metadata": {
    "scrolled": true
   },
   "outputs": [
    {
     "name": "stdout",
     "output_type": "stream",
     "text": [
      "The new balances have been calculated for alex and arazin and are recorded in the 'balances' sheet of the tidy utils xlsx\n"
     ]
    }
   ],
   "source": [
    "balances = update_balances(file, roommates)"
   ]
  },
  {
   "cell_type": "code",
   "execution_count": 49,
   "metadata": {},
   "outputs": [
    {
     "name": "stdout",
     "output_type": "stream",
     "text": [
      "alex owes 81.05666666666667\n",
      "arazin owes 237.23000000000002\n"
     ]
    },
    {
     "data": {
      "text/plain": [
       "{'alex': 81.05666666666667, 'arazin': 237.23000000000002}"
      ]
     },
     "execution_count": 49,
     "metadata": {},
     "output_type": "execute_result"
    }
   ],
   "source": [
    "show_simple_bal(balances)"
   ]
  },
  {
   "cell_type": "markdown",
   "metadata": {},
   "source": [
    "## Run below when taking payments"
   ]
  },
  {
   "cell_type": "code",
   "execution_count": 62,
   "metadata": {},
   "outputs": [],
   "source": [
    "file = 'C:/Users/geeze/Documents/finances/utils/utilities_tidy.xlsx'\n",
    "\n",
    "#how much was paid\n",
    "amount_paid = 155.84\n",
    "#who paid you\n",
    "roomie = 'arazin'"
   ]
  },
  {
   "cell_type": "code",
   "execution_count": 63,
   "metadata": {},
   "outputs": [
    {
     "name": "stdout",
     "output_type": "stream",
     "text": [
      "The payment in amount $155.84 from arazin was processed. The utilities history reflects this payment and associated balances have been removed.\n"
     ]
    }
   ],
   "source": [
    "new_utils_hist, new_balances = process_payment (amount_paid, roomie, file)"
   ]
  },
  {
   "cell_type": "code",
   "execution_count": null,
   "metadata": {},
   "outputs": [],
   "source": []
  }
 ],
 "metadata": {
  "kernelspec": {
   "display_name": "Python 3",
   "language": "python",
   "name": "python3"
  },
  "language_info": {
   "codemirror_mode": {
    "name": "ipython",
    "version": 3
   },
   "file_extension": ".py",
   "mimetype": "text/x-python",
   "name": "python",
   "nbconvert_exporter": "python",
   "pygments_lexer": "ipython3",
   "version": "3.6.7"
  }
 },
 "nbformat": 4,
 "nbformat_minor": 2
}
