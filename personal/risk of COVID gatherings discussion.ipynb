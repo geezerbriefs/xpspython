{
 "cells": [
  {
   "cell_type": "code",
   "execution_count": 72,
   "metadata": {},
   "outputs": [],
   "source": [
    "import numpy as np\n",
    "import pandas as pd\n",
    "\n",
    "import matplotlib.pyplot as plt\n",
    "\n",
    "from datetime import datetime"
   ]
  },
  {
   "cell_type": "markdown",
   "metadata": {},
   "source": [
    "In the course of planning previous gatherings during the COVID-19 pandemic, I have had two different discussions with myself and others: \"can we gather people safely in the context of this pandemic?\" and, \"regardless of safety, is it *appropriate* to gather people during the pandemic?\". The first is a more quantitative question, while the second is more moral. For the benefit of those who might be invited to gather during COVID-19, I'd like to put forth some thoughts on these topics&mdash;hopefully provoke discussion&mdash;in the order they appear.\n",
    "\n",
    "It may already seem biased to consider the quantitative safety of gathering before the hierarchically dominant question of whether gathering is approprate *at all*, but I think it better represents the normal decision making process we humans undertake to contextualize larger moral decisions with specific estimates of the risks and benefits of the options."
   ]
  },
  {
   "cell_type": "markdown",
   "metadata": {},
   "source": [
    "To decide whether we can gather people \"safely\" during this COVID-19 pandemic, we first have to acknowledge that any gathering will incur some additional risk of COVID exposure/spread/infection beyond the normal risks inherent in daily (quarantined) life. So the question is *really*, what is the additional risk of exposure/spread/infection posed by gathering and do we feel that that risk is low enough to call a gathering \"safe\"? It's much easier to work out a number estimate of risk than it is to decide if that number is \"low\", \"high\", \"scary\" or \"safe\", but we can draw from our own instinct as well as decision making criteria in science to help with that determination."
   ]
  },
  {
   "cell_type": "markdown",
   "metadata": {},
   "source": [
    "I argue that the relevant number to estimate is the percent chance that one or more people at a gathering are COVID (+). The main point of quarantine behavior is to avoid contact with COVID (+) people&mdash;that's the only way to assure there is zero chance of having COVID transmitted to you&mdash;, so we ought to try to calculate the probability that we are successful in avoiding COVID (+) people despite gathering together. To begin, let's get some data. As an example, I'll work with data provided for Los Angeles county on their COVID19 Surveillance website (http://dashboard.publichealth.lacounty.gov/covid19_surveillance_dashboard/)"
   ]
  },
  {
   "cell_type": "code",
   "execution_count": 73,
   "metadata": {},
   "outputs": [],
   "source": [
    "#file downloaded from source above\n",
    "file = '20201207_LA_County_Covid19_cases_deaths_date_table.csv'\n",
    "\n",
    "#open the data here\n",
    "df = pd.read_csv(file)\n",
    "\n",
    "#get rid of possibly unreliable most recent information\n",
    "df = df.drop(0, 'index')"
   ]
  },
  {
   "cell_type": "code",
   "execution_count": 74,
   "metadata": {},
   "outputs": [],
   "source": [
    "def get_date (string):\n",
    "    \"\"\"\n",
    "    This takes a text string date and turns it into a more useful datetime format\n",
    "    \"\"\"\n",
    "    try:\n",
    "        time = datetime.strptime(string, '%m/%d/%Y')\n",
    "    except:\n",
    "        time = datetime.strptime(string, '%Y-%m-%d')\n",
    "    return time"
   ]
  },
  {
   "cell_type": "code",
   "execution_count": 75,
   "metadata": {},
   "outputs": [],
   "source": [
    "#convert the dates in the original data to something easier to use\n",
    "df['date'] = df['date_use'].apply(get_date)\n",
    "\n",
    "#get rid of unnecessary columns and make it look nice\n",
    "df = df.drop([\"Unnamed: 0\", \"date_use\"], axis=1)\n",
    "cols = list(df.columns)\n",
    "df = df[[cols[-1]] + cols[:-1]]"
   ]
  },
  {
   "cell_type": "markdown",
   "metadata": {},
   "source": [
    "Here's the most recent case and death data from LA county. I've excluded the most recent date's entry (possibly today) since it may be incomplete. We can see a distinct periodicity to the results. Approximately every 7th day (10/18, 10/25, 11/2, 11/8, 11/15, 11/22) there is a drop in confirmed COVID cases for reasons I don't understand and won't try to explain. During the intervening days, case numbers are more or less constant. This trend is broken during Thanksgiving week (11/23-11/29), when we can assume people were either gathering&mdash;\"safely\" or otherwise&mdash;or having a quarantined Thanksgiving, **not** getting tested. The huge spike in COVID cases observed in the following week (~9k cases on 11/30 and 12/1) may be interpreted as the shifting of the cases we might have observed in Thanksgiving week onto those days, not necessarily a massive travel and unsafe gathering induced case wave."
   ]
  },
  {
   "cell_type": "code",
   "execution_count": 80,
   "metadata": {},
   "outputs": [
    {
     "data": {
      "text/html": [
       "<div>\n",
       "<style scoped>\n",
       "    .dataframe tbody tr th:only-of-type {\n",
       "        vertical-align: middle;\n",
       "    }\n",
       "\n",
       "    .dataframe tbody tr th {\n",
       "        vertical-align: top;\n",
       "    }\n",
       "\n",
       "    .dataframe thead th {\n",
       "        text-align: right;\n",
       "    }\n",
       "</style>\n",
       "<table border=\"1\" class=\"dataframe\">\n",
       "  <thead>\n",
       "    <tr style=\"text-align: right;\">\n",
       "      <th></th>\n",
       "      <th>date</th>\n",
       "      <th>total_cases</th>\n",
       "      <th>new_case</th>\n",
       "      <th>avg_cases</th>\n",
       "      <th>total_deaths</th>\n",
       "      <th>new_deaths</th>\n",
       "      <th>avg_deaths</th>\n",
       "    </tr>\n",
       "  </thead>\n",
       "  <tbody>\n",
       "    <tr>\n",
       "      <th>1</th>\n",
       "      <td>2020-12-04</td>\n",
       "      <td>427545</td>\n",
       "      <td>1494</td>\n",
       "      <td>6201.0</td>\n",
       "      <td>7489</td>\n",
       "      <td>10</td>\n",
       "      <td>25.0</td>\n",
       "    </tr>\n",
       "    <tr>\n",
       "      <th>2</th>\n",
       "      <td>2020-12-03</td>\n",
       "      <td>426051</td>\n",
       "      <td>5529</td>\n",
       "      <td>6532.0</td>\n",
       "      <td>7479</td>\n",
       "      <td>30</td>\n",
       "      <td>26.0</td>\n",
       "    </tr>\n",
       "    <tr>\n",
       "      <th>3</th>\n",
       "      <td>2020-12-02</td>\n",
       "      <td>420522</td>\n",
       "      <td>8964</td>\n",
       "      <td>5924.0</td>\n",
       "      <td>7449</td>\n",
       "      <td>25</td>\n",
       "      <td>25.0</td>\n",
       "    </tr>\n",
       "    <tr>\n",
       "      <th>4</th>\n",
       "      <td>2020-12-01</td>\n",
       "      <td>411558</td>\n",
       "      <td>9727</td>\n",
       "      <td>5490.0</td>\n",
       "      <td>7424</td>\n",
       "      <td>35</td>\n",
       "      <td>25.0</td>\n",
       "    </tr>\n",
       "    <tr>\n",
       "      <th>5</th>\n",
       "      <td>2020-11-30</td>\n",
       "      <td>401831</td>\n",
       "      <td>9443</td>\n",
       "      <td>4887.0</td>\n",
       "      <td>7389</td>\n",
       "      <td>25</td>\n",
       "      <td>24.0</td>\n",
       "    </tr>\n",
       "    <tr>\n",
       "      <th>6</th>\n",
       "      <td>2020-11-29</td>\n",
       "      <td>392388</td>\n",
       "      <td>2550</td>\n",
       "      <td>4261.0</td>\n",
       "      <td>7364</td>\n",
       "      <td>23</td>\n",
       "      <td>26.0</td>\n",
       "    </tr>\n",
       "    <tr>\n",
       "      <th>7</th>\n",
       "      <td>2020-11-28</td>\n",
       "      <td>389838</td>\n",
       "      <td>5699</td>\n",
       "      <td>4210.0</td>\n",
       "      <td>7341</td>\n",
       "      <td>26</td>\n",
       "      <td>27.0</td>\n",
       "    </tr>\n",
       "    <tr>\n",
       "      <th>8</th>\n",
       "      <td>2020-11-27</td>\n",
       "      <td>384139</td>\n",
       "      <td>3815</td>\n",
       "      <td>3868.0</td>\n",
       "      <td>7315</td>\n",
       "      <td>20</td>\n",
       "      <td>27.0</td>\n",
       "    </tr>\n",
       "    <tr>\n",
       "      <th>9</th>\n",
       "      <td>2020-11-26</td>\n",
       "      <td>380324</td>\n",
       "      <td>1273</td>\n",
       "      <td>4019.0</td>\n",
       "      <td>7295</td>\n",
       "      <td>22</td>\n",
       "      <td>27.0</td>\n",
       "    </tr>\n",
       "    <tr>\n",
       "      <th>10</th>\n",
       "      <td>2020-11-25</td>\n",
       "      <td>379051</td>\n",
       "      <td>5920</td>\n",
       "      <td>4472.0</td>\n",
       "      <td>7273</td>\n",
       "      <td>24</td>\n",
       "      <td>29.0</td>\n",
       "    </tr>\n",
       "    <tr>\n",
       "      <th>11</th>\n",
       "      <td>2020-11-24</td>\n",
       "      <td>373131</td>\n",
       "      <td>5507</td>\n",
       "      <td>4345.0</td>\n",
       "      <td>7249</td>\n",
       "      <td>29</td>\n",
       "      <td>28.0</td>\n",
       "    </tr>\n",
       "    <tr>\n",
       "      <th>12</th>\n",
       "      <td>2020-11-23</td>\n",
       "      <td>367624</td>\n",
       "      <td>5063</td>\n",
       "      <td>4283.0</td>\n",
       "      <td>7220</td>\n",
       "      <td>39</td>\n",
       "      <td>29.0</td>\n",
       "    </tr>\n",
       "    <tr>\n",
       "      <th>13</th>\n",
       "      <td>2020-11-22</td>\n",
       "      <td>362561</td>\n",
       "      <td>2193</td>\n",
       "      <td>4238.0</td>\n",
       "      <td>7181</td>\n",
       "      <td>31</td>\n",
       "      <td>27.0</td>\n",
       "    </tr>\n",
       "    <tr>\n",
       "      <th>14</th>\n",
       "      <td>2020-11-21</td>\n",
       "      <td>360368</td>\n",
       "      <td>3305</td>\n",
       "      <td>4187.0</td>\n",
       "      <td>7150</td>\n",
       "      <td>25</td>\n",
       "      <td>25.0</td>\n",
       "    </tr>\n",
       "  </tbody>\n",
       "</table>\n",
       "</div>"
      ],
      "text/plain": [
       "         date  total_cases  new_case  avg_cases  total_deaths  new_deaths  \\\n",
       "1  2020-12-04       427545      1494     6201.0          7489          10   \n",
       "2  2020-12-03       426051      5529     6532.0          7479          30   \n",
       "3  2020-12-02       420522      8964     5924.0          7449          25   \n",
       "4  2020-12-01       411558      9727     5490.0          7424          35   \n",
       "5  2020-11-30       401831      9443     4887.0          7389          25   \n",
       "6  2020-11-29       392388      2550     4261.0          7364          23   \n",
       "7  2020-11-28       389838      5699     4210.0          7341          26   \n",
       "8  2020-11-27       384139      3815     3868.0          7315          20   \n",
       "9  2020-11-26       380324      1273     4019.0          7295          22   \n",
       "10 2020-11-25       379051      5920     4472.0          7273          24   \n",
       "11 2020-11-24       373131      5507     4345.0          7249          29   \n",
       "12 2020-11-23       367624      5063     4283.0          7220          39   \n",
       "13 2020-11-22       362561      2193     4238.0          7181          31   \n",
       "14 2020-11-21       360368      3305     4187.0          7150          25   \n",
       "\n",
       "    avg_deaths  \n",
       "1         25.0  \n",
       "2         26.0  \n",
       "3         25.0  \n",
       "4         25.0  \n",
       "5         24.0  \n",
       "6         26.0  \n",
       "7         27.0  \n",
       "8         27.0  \n",
       "9         27.0  \n",
       "10        29.0  \n",
       "11        28.0  \n",
       "12        29.0  \n",
       "13        27.0  \n",
       "14        25.0  "
      ]
     },
     "execution_count": 80,
     "metadata": {},
     "output_type": "execute_result"
    }
   ],
   "source": [
    "df.head(14)"
   ]
  },
  {
   "cell_type": "code",
   "execution_count": 88,
   "metadata": {},
   "outputs": [
    {
     "data": {
      "text/plain": [
       "<matplotlib.axes._subplots.AxesSubplot at 0x15048eb98c8>"
      ]
     },
     "execution_count": 88,
     "metadata": {},
     "output_type": "execute_result"
    },
    {
     "data": {
      "image/png": "[encoded data removed]",
      "text/plain": [
       "<Figure size 432x288 with 1 Axes>"
      ]
     },
     "metadata": {
      "needs_background": "light"
     },
     "output_type": "display_data"
    }
   ],
   "source": [
    "df.head(70).plot(x='date', y='new_case')"
   ]
  },
  {
   "cell_type": "code",
   "execution_count": 28,
   "metadata": {},
   "outputs": [],
   "source": [
    "#get total number of new cases over last 14 days as number of \"active cases\" if event was today\n",
    "tot = 0\n",
    "for i in range(14):\n",
    "    num = df.loc[i+1, 'new_case']\n",
    "    tot+=num"
   ]
  },
  {
   "cell_type": "code",
   "execution_count": 29,
   "metadata": {},
   "outputs": [
    {
     "data": {
      "text/plain": [
       "70482"
      ]
     },
     "execution_count": 29,
     "metadata": {},
     "output_type": "execute_result"
    }
   ],
   "source": [
    "tot"
   ]
  },
  {
   "cell_type": "code",
   "execution_count": 30,
   "metadata": {},
   "outputs": [],
   "source": [
    "#modifiers of new case numbers, multiplies number of confirmed cases to estimate pre-test probability in total pop\n",
    "mods = [1, 3, 5, 10]"
   ]
  },
  {
   "cell_type": "code",
   "execution_count": 31,
   "metadata": {},
   "outputs": [],
   "source": [
    "#roughly LA county population\n",
    "la_pop= 10*10**6"
   ]
  },
  {
   "cell_type": "code",
   "execution_count": 32,
   "metadata": {},
   "outputs": [],
   "source": [
    "#pre test probability\n",
    "pre_prob = tot/la_pop"
   ]
  },
  {
   "cell_type": "code",
   "execution_count": 47,
   "metadata": {},
   "outputs": [],
   "source": [
    "#group size\n",
    "sizes = np.linspace(1,30,20)"
   ]
  },
  {
   "cell_type": "code",
   "execution_count": 48,
   "metadata": {},
   "outputs": [],
   "source": [
    "def prob_nobody_has (rate, group_size):\n",
    "    \n",
    "    return (1-(rate))**group_size"
   ]
  },
  {
   "cell_type": "code",
   "execution_count": 49,
   "metadata": {},
   "outputs": [],
   "source": [
    "full = []\n",
    "for s in sizes:\n",
    "    data = {mod: prob_nobody_has(pre_prob*mod, s) for mod in mods}\n",
    "    full.append(pd.DataFrame(data, np.array([s])))"
   ]
  },
  {
   "cell_type": "code",
   "execution_count": 50,
   "metadata": {},
   "outputs": [],
   "source": [
    "df = pd.concat(full)"
   ]
  },
  {
   "cell_type": "code",
   "execution_count": 51,
   "metadata": {},
   "outputs": [],
   "source": [
    "df.index.name = 'group_size'\n",
    "df.rename_axis(\"rate_mult\", axis=\"columns\", inplace=True)"
   ]
  },
  {
   "cell_type": "code",
   "execution_count": 52,
   "metadata": {},
   "outputs": [
    {
     "data": {
      "text/plain": [
       "[[<matplotlib.lines.Line2D at 0x1504894a208>],\n",
       " [<matplotlib.lines.Line2D at 0x1504894aec8>],\n",
       " [<matplotlib.lines.Line2D at 0x15048955648>],\n",
       " [<matplotlib.lines.Line2D at 0x15048959f08>]]"
      ]
     },
     "execution_count": 52,
     "metadata": {},
     "output_type": "execute_result"
    },
    {
     "data": {
      "image/png": "[encoded data removed]",
      "text/plain": [
       "<Figure size 432x288 with 1 Axes>"
      ]
     },
     "metadata": {
      "needs_background": "light"
     },
     "output_type": "display_data"
    }
   ],
   "source": [
    "[plt.plot(df.index, df[m], marker='o') for m in mods]"
   ]
  }
 ],
 "metadata": {
  "kernelspec": {
   "display_name": "Python 3",
   "language": "python",
   "name": "python3"
  },
  "language_info": {
   "codemirror_mode": {
    "name": "ipython",
    "version": 3
   },
   "file_extension": ".py",
   "mimetype": "text/x-python",
   "name": "python",
   "nbconvert_exporter": "python",
   "pygments_lexer": "ipython3",
   "version": "3.7.6"
  }
 },
 "nbformat": 4,
 "nbformat_minor": 4
}
