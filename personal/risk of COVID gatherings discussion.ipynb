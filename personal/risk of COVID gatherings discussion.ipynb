{
 "cells": [
  {
   "cell_type": "code",
   "execution_count": 1,
   "metadata": {},
   "outputs": [],
   "source": [
    "import numpy as np\n",
    "import pandas as pd\n",
    "\n",
    "import matplotlib.pyplot as plt\n",
    "\n",
    "from datetime import datetime"
   ]
  },
  {
   "cell_type": "markdown",
   "metadata": {},
   "source": [
    "In the course of planning previous gatherings during the COVID-19 pandemic, I have had two different discussions with myself and others: \"can we gather people safely in the context of this pandemic?\" and, \"regardless of safety, is it *appropriate* to gather people during the pandemic?\". The first is a more quantitative question, while the second is more moral. For the benefit of those who might be invited to gather during COVID-19, I'd like to put forth some thoughts on these topics&mdash;hopefully provoke discussion&mdash;in the order they appear.\n",
    "\n",
    "It may seem biased to consider the quantitative safety of gathering before the superseding question of whether gathering is approprate *at all*, but I think numbers provide helpful context when determining just how rigid our morals are. Regardless, COVID-19 data in particular&mdash;and how it might be usefully interpreted by regular folks&mdash;is frustratingly opaque and we might learn something beyond the safety of a gathering by its analysis."
   ]
  },
  {
   "cell_type": "markdown",
   "metadata": {},
   "source": [
    "To decide whether we can gather people \"safely\" during this COVID-19 pandemic, we first have to acknowledge that any gathering will incur some additional risk of COVID exposure/spread/infection beyond the normal risks inherent in daily (quarantined) life. So the question is *really*, what is the risk of exposure/spread/infection posed by gathering and do we feel that that risk is low enough to call a gathering \"safe\"? It's much easier to work out a number estimate of risk than it is to decide if that number is \"low\", \"high\", \"scary\" or \"safe\", but we can draw from our own instinct as well as decision making criteria in science to help with that determination."
   ]
  },
  {
   "cell_type": "markdown",
   "metadata": {},
   "source": [
    "The main point of quarantine behavior is to avoid contact with COVID (+) people&mdash;that's the only way to assure there is zero chance of having COVID transmitted to you, or you transmitting it to someone else&mdash;so we ought to try to calculate the probability that we are successful or unsuccessful in avoiding COVID (+) people despite gathering together. To begin, let's get some data. As an example, I'll work with data provided for Los Angeles county on their COVID19 Surveillance website (http://dashboard.publichealth.lacounty.gov/covid19_surveillance_dashboard/)"
   ]
  },
  {
   "cell_type": "code",
   "execution_count": 2,
   "metadata": {},
   "outputs": [],
   "source": [
    "#file downloaded from source above\n",
    "file = '20201207_LA_County_Covid19_cases_deaths_date_table.csv'\n",
    "\n",
    "#open the data here\n",
    "df = pd.read_csv(file)\n",
    "\n",
    "#get rid of possibly unreliable most recent information\n",
    "df = df.drop(0, 'index')"
   ]
  },
  {
   "cell_type": "code",
   "execution_count": 3,
   "metadata": {},
   "outputs": [],
   "source": [
    "def get_date (string):\n",
    "    \"\"\"\n",
    "    This takes a text string date and turns it into a more useful datetime format\n",
    "    \"\"\"\n",
    "    try:\n",
    "        time = datetime.strptime(string, '%m/%d/%Y')\n",
    "    except:\n",
    "        time = datetime.strptime(string, '%Y-%m-%d')\n",
    "    return time"
   ]
  },
  {
   "cell_type": "code",
   "execution_count": 4,
   "metadata": {},
   "outputs": [],
   "source": [
    "#convert the dates in the original data to something easier to use\n",
    "df['date'] = df['date_use'].apply(get_date)\n",
    "\n",
    "#get rid of unnecessary columns and make it look nice\n",
    "df = df.drop([\"Unnamed: 0\", \"date_use\"], axis=1)\n",
    "cols = list(df.columns)\n",
    "df = df[[cols[-1]] + cols[:-1]]"
   ]
  },
  {
   "cell_type": "markdown",
   "metadata": {},
   "source": [
    "Below is a plot of the most recent case and death data from LA county. I've excluded the most recent date's entry (possibly today) since it may be incomplete. We can see a distinct periodicity to the results. Approximately every 7th day (10/18, 10/25, 11/2, 11/8, 11/15, 11/22) there is a drop in confirmed COVID cases for reasons I don't understand and won't try to explain. During the intervening days, case numbers are more or less constant. This trend is broken during Thanksgiving week (11/23-11/29), when we can assume people were either gathering&mdash;\"safely\" or otherwise&mdash;or having a quarantined Thanksgiving, **not** getting tested. The huge spike in COVID cases observed in the following week (~9k cases on 11/30 and 12/1) could be interpreted as the shifting of the cases we might have observed in Thanksgiving week onto those days, not *necessarily* a massive travel and unsafe gathering-induced case wave."
   ]
  },
  {
   "cell_type": "code",
   "execution_count": 5,
   "metadata": {},
   "outputs": [
    {
     "data": {
      "text/plain": [
       "Text(0, 0.5, 'daily new cases')"
      ]
     },
     "execution_count": 5,
     "metadata": {},
     "output_type": "execute_result"
    },
    {
     "data": {
      "image/png": "[encoded data removed]",
      "text/plain": [
       "<Figure size 432x288 with 1 Axes>"
      ]
     },
     "metadata": {
      "needs_background": "light"
     },
     "output_type": "display_data"
    }
   ],
   "source": [
    "df.head(55).plot(x='date', y='new_case')\n",
    "plt.ylabel('daily new cases')"
   ]
  },
  {
   "cell_type": "markdown",
   "metadata": {},
   "source": [
    "Here's a look at the raw numbers as well as the other values being tracked over the last 14 days. The media and most COVID surveillance websites that I've seen overemphasize the total number of COVID-19 cases reported over *all time* (\"total_cases\" in the table below), which looks big and scary, but is not actually an informative piece of information. The value we care about when planning a gathering is \"daily new cases\" (\"new_case\" in the table below), but only new cases over the last couple weeks. The infectious period for someone with COVID 19 is ~14 days, meaning only people who tested positive within the last 14 days could be *active* spreaders of disease."
   ]
  },
  {
   "cell_type": "code",
   "execution_count": 6,
   "metadata": {},
   "outputs": [
    {
     "name": "stdout",
     "output_type": "stream",
     "text": [
      "Total new cases (considered currently active cases) over the last 14 days:  70482\n"
     ]
    },
    {
     "data": {
      "text/html": [
       "<div>\n",
       "<style scoped>\n",
       "    .dataframe tbody tr th:only-of-type {\n",
       "        vertical-align: middle;\n",
       "    }\n",
       "\n",
       "    .dataframe tbody tr th {\n",
       "        vertical-align: top;\n",
       "    }\n",
       "\n",
       "    .dataframe thead th {\n",
       "        text-align: right;\n",
       "    }\n",
       "</style>\n",
       "<table border=\"1\" class=\"dataframe\">\n",
       "  <thead>\n",
       "    <tr style=\"text-align: right;\">\n",
       "      <th></th>\n",
       "      <th>date</th>\n",
       "      <th>total_cases</th>\n",
       "      <th>new_case</th>\n",
       "      <th>avg_cases</th>\n",
       "      <th>total_deaths</th>\n",
       "      <th>new_deaths</th>\n",
       "      <th>avg_deaths</th>\n",
       "    </tr>\n",
       "  </thead>\n",
       "  <tbody>\n",
       "    <tr>\n",
       "      <th>1</th>\n",
       "      <td>2020-12-04</td>\n",
       "      <td>427545</td>\n",
       "      <td>1494</td>\n",
       "      <td>6201.0</td>\n",
       "      <td>7489</td>\n",
       "      <td>10</td>\n",
       "      <td>25.0</td>\n",
       "    </tr>\n",
       "    <tr>\n",
       "      <th>2</th>\n",
       "      <td>2020-12-03</td>\n",
       "      <td>426051</td>\n",
       "      <td>5529</td>\n",
       "      <td>6532.0</td>\n",
       "      <td>7479</td>\n",
       "      <td>30</td>\n",
       "      <td>26.0</td>\n",
       "    </tr>\n",
       "    <tr>\n",
       "      <th>3</th>\n",
       "      <td>2020-12-02</td>\n",
       "      <td>420522</td>\n",
       "      <td>8964</td>\n",
       "      <td>5924.0</td>\n",
       "      <td>7449</td>\n",
       "      <td>25</td>\n",
       "      <td>25.0</td>\n",
       "    </tr>\n",
       "    <tr>\n",
       "      <th>4</th>\n",
       "      <td>2020-12-01</td>\n",
       "      <td>411558</td>\n",
       "      <td>9727</td>\n",
       "      <td>5490.0</td>\n",
       "      <td>7424</td>\n",
       "      <td>35</td>\n",
       "      <td>25.0</td>\n",
       "    </tr>\n",
       "    <tr>\n",
       "      <th>5</th>\n",
       "      <td>2020-11-30</td>\n",
       "      <td>401831</td>\n",
       "      <td>9443</td>\n",
       "      <td>4887.0</td>\n",
       "      <td>7389</td>\n",
       "      <td>25</td>\n",
       "      <td>24.0</td>\n",
       "    </tr>\n",
       "    <tr>\n",
       "      <th>6</th>\n",
       "      <td>2020-11-29</td>\n",
       "      <td>392388</td>\n",
       "      <td>2550</td>\n",
       "      <td>4261.0</td>\n",
       "      <td>7364</td>\n",
       "      <td>23</td>\n",
       "      <td>26.0</td>\n",
       "    </tr>\n",
       "    <tr>\n",
       "      <th>7</th>\n",
       "      <td>2020-11-28</td>\n",
       "      <td>389838</td>\n",
       "      <td>5699</td>\n",
       "      <td>4210.0</td>\n",
       "      <td>7341</td>\n",
       "      <td>26</td>\n",
       "      <td>27.0</td>\n",
       "    </tr>\n",
       "    <tr>\n",
       "      <th>8</th>\n",
       "      <td>2020-11-27</td>\n",
       "      <td>384139</td>\n",
       "      <td>3815</td>\n",
       "      <td>3868.0</td>\n",
       "      <td>7315</td>\n",
       "      <td>20</td>\n",
       "      <td>27.0</td>\n",
       "    </tr>\n",
       "    <tr>\n",
       "      <th>9</th>\n",
       "      <td>2020-11-26</td>\n",
       "      <td>380324</td>\n",
       "      <td>1273</td>\n",
       "      <td>4019.0</td>\n",
       "      <td>7295</td>\n",
       "      <td>22</td>\n",
       "      <td>27.0</td>\n",
       "    </tr>\n",
       "    <tr>\n",
       "      <th>10</th>\n",
       "      <td>2020-11-25</td>\n",
       "      <td>379051</td>\n",
       "      <td>5920</td>\n",
       "      <td>4472.0</td>\n",
       "      <td>7273</td>\n",
       "      <td>24</td>\n",
       "      <td>29.0</td>\n",
       "    </tr>\n",
       "    <tr>\n",
       "      <th>11</th>\n",
       "      <td>2020-11-24</td>\n",
       "      <td>373131</td>\n",
       "      <td>5507</td>\n",
       "      <td>4345.0</td>\n",
       "      <td>7249</td>\n",
       "      <td>29</td>\n",
       "      <td>28.0</td>\n",
       "    </tr>\n",
       "    <tr>\n",
       "      <th>12</th>\n",
       "      <td>2020-11-23</td>\n",
       "      <td>367624</td>\n",
       "      <td>5063</td>\n",
       "      <td>4283.0</td>\n",
       "      <td>7220</td>\n",
       "      <td>39</td>\n",
       "      <td>29.0</td>\n",
       "    </tr>\n",
       "    <tr>\n",
       "      <th>13</th>\n",
       "      <td>2020-11-22</td>\n",
       "      <td>362561</td>\n",
       "      <td>2193</td>\n",
       "      <td>4238.0</td>\n",
       "      <td>7181</td>\n",
       "      <td>31</td>\n",
       "      <td>27.0</td>\n",
       "    </tr>\n",
       "    <tr>\n",
       "      <th>14</th>\n",
       "      <td>2020-11-21</td>\n",
       "      <td>360368</td>\n",
       "      <td>3305</td>\n",
       "      <td>4187.0</td>\n",
       "      <td>7150</td>\n",
       "      <td>25</td>\n",
       "      <td>25.0</td>\n",
       "    </tr>\n",
       "  </tbody>\n",
       "</table>\n",
       "</div>"
      ],
      "text/plain": [
       "         date  total_cases  new_case  avg_cases  total_deaths  new_deaths  \\\n",
       "1  2020-12-04       427545      1494     6201.0          7489          10   \n",
       "2  2020-12-03       426051      5529     6532.0          7479          30   \n",
       "3  2020-12-02       420522      8964     5924.0          7449          25   \n",
       "4  2020-12-01       411558      9727     5490.0          7424          35   \n",
       "5  2020-11-30       401831      9443     4887.0          7389          25   \n",
       "6  2020-11-29       392388      2550     4261.0          7364          23   \n",
       "7  2020-11-28       389838      5699     4210.0          7341          26   \n",
       "8  2020-11-27       384139      3815     3868.0          7315          20   \n",
       "9  2020-11-26       380324      1273     4019.0          7295          22   \n",
       "10 2020-11-25       379051      5920     4472.0          7273          24   \n",
       "11 2020-11-24       373131      5507     4345.0          7249          29   \n",
       "12 2020-11-23       367624      5063     4283.0          7220          39   \n",
       "13 2020-11-22       362561      2193     4238.0          7181          31   \n",
       "14 2020-11-21       360368      3305     4187.0          7150          25   \n",
       "\n",
       "    avg_deaths  \n",
       "1         25.0  \n",
       "2         26.0  \n",
       "3         25.0  \n",
       "4         25.0  \n",
       "5         24.0  \n",
       "6         26.0  \n",
       "7         27.0  \n",
       "8         27.0  \n",
       "9         27.0  \n",
       "10        29.0  \n",
       "11        28.0  \n",
       "12        29.0  \n",
       "13        27.0  \n",
       "14        25.0  "
      ]
     },
     "execution_count": 6,
     "metadata": {},
     "output_type": "execute_result"
    }
   ],
   "source": [
    "tot = df.head(14)['new_case'].sum()\n",
    "print('Total new cases (considered currently active cases) over the last 14 days: ', tot)\n",
    "df.head(14)"
   ]
  },
  {
   "cell_type": "markdown",
   "metadata": {},
   "source": [
    "Now that we have the raw data for the county, we can start estimating the risks of gathering people together. The way we will do this is:\n",
    "\n",
    "-**First**, calculate the probability that a person in a region (in this case LA county) is an *active* COVID case using the 14 day new case total we found above. We assume that every person in the county is just like every other person and thus has the same probability of being COVID (+). Whether or not we would consider ourselves or other groups a privileged group (based on socioeconomic status, job type etc.) with lower than average risk of being COVID (+), the determination of increased/decreased risk would be arbitrary, overcomplicated, and introduce significant risk of *MAN'S HUBRIS* blinding us to true risks we all face as residents of our region. Thus we assume that \"I am he as you are he as you are me and we are all\"...the same.\n",
    "\n",
    "The data reported around the country for COVID is almost always *confirmed cases*, which means the number of positive tests reported in the region. But the number of *actual* cases in a region will almost certainly be greater than the number of *confirmed* cases due to the possibility of asymptomatic (probably *un*tested) infection, poor test availability, or social factors that would keep people&mdash;even sick people&mdash;from getting tested. So we'll make a guess at how many times more actual cases there are than confirmed cases and multiply our calculated infection probability by that number. This is usually called an *ascertainment bias*.\n",
    "\n",
    "-**Second**, we treat the gathering of many people like a collection of flipped coins, in which each person's COVID-19 status is the result of a very biased coin flip (not 50-50) with heads representing COVID (+) and tails COVID (-). The bias of the coin&mdash;the probability of a head&mdash;is exactly the probability of active infection we calculated in the first step. In the language of probability and statistics, this is called drawing from a binomial distribution or modeling a system using a binomial distribution.\n",
    "\n",
    "The calculation we'll make using this model is:\n",
    "\n",
    "    What is the probability that NOBODY at a gathering is an active COVID case?\n",
    "    \n",
    "The opposite side of this calculation is, \"what is the probability that AT LEAST one person at a gathering is an active COVID case?\"\n",
    "\n",
    "Up to this point, the steps taken are not the first analysis of this type to be publicly available. There is a great tool available from Georgia Tech (Georgia Institute of Technology) that implements this exact process to determine gathering risk in every county in America (https://covid19risk.biosci.gatech.edu).\n",
    "\n",
    "-**Third**, we look to medical statistics literature (which is really just regular statistics literature) about disease screening tests&mdash;the ones you can hopefully get in your region&mdash;and calculate the probability that someone is an active COVID case even *after* they have received a negative test result. It is important to emphasize that all tests have the possibility to return false positives or negatives, and a negative test is *not* a confirmation that someone is not infected. This step will tell us just how much a negative test tells us about our COVID status.\n",
    "\n",
    "Then we will rerun the binomial model to answer the new question:\n",
    "\n",
    "    What is the probability that NOBODY at a gathering is an active COVID case after everyone has tested negative for COVID?"
   ]
  },
  {
   "cell_type": "markdown",
   "metadata": {},
   "source": [
    "## First, probabillity that a person is an active case"
   ]
  },
  {
   "cell_type": "code",
   "execution_count": 7,
   "metadata": {},
   "outputs": [],
   "source": [
    "#total number of active cases is determined above\n",
    "\n",
    "#roughly LA county population\n",
    "la_pop= 10*10**6 #that's 10 million\n",
    "\n",
    "#probability of active case, also known as pre test probability\n",
    "pre_prob = tot/la_pop\n",
    "\n",
    "#ascertainment biases, multipliers of confirmed cases to estimate actual pre-test probability in total pop\n",
    "    #GA Tech estimates from blood test data a bias of 10, meaning there are 10x more actual cases than positive tests\n",
    "a_biases = [1, 5, 10, 20]"
   ]
  },
  {
   "cell_type": "code",
   "execution_count": 8,
   "metadata": {},
   "outputs": [
    {
     "name": "stdout",
     "output_type": "stream",
     "text": [
      "1) Probability that anyone in LA county is an active COVID case:  0.70482 % \n",
      "\n",
      "2) Probability that anyone is an active COVID case assuming 10x more cases than positive tests:  7.0482000000000005 %\n"
     ]
    }
   ],
   "source": [
    "print('1) Probability that anyone in LA county is an active COVID case: ', pre_prob * 100, '% \\n')\n",
    "print('2) Probability that anyone is an active COVID case assuming 10x more cases than positive tests: ', pre_prob * 10 * 100, '%')"
   ]
  },
  {
   "cell_type": "markdown",
   "metadata": {},
   "source": [
    "We've divided the number of active cases in LA county by the population of LA county to get the probability that any one person in the county is an active covid case. That number is \"1)\" above and it's pretty small! With the recent rise in daily case rate, this is probably the highest probability of being a COVID-19 case we have seen yet. Even when cases are on a scary rising trend, still less than 1% of the population are testing COVID (+).\n",
    "\n",
    "That's not the whole story. The probability in \"1)\" is actually something less impactful, nothing more than \"the probability of being someone who has received a positive COVID test\" or something like that. That doesn't say much. So now let's take Georgia Tech's assumption that there are 10x more *actual* cases than *confirmed* cases, see \"2)\". That gives us a probability of being actively COVID (+) nearer to 10%. That's big! Percentages are sometimes hard to interpret; this would mean that in an ideal sample of LA county people, 7 of 100 would be COVID (+). That might make you feel a bit suspicious of any people you interact with day to day."
   ]
  },
  {
   "cell_type": "markdown",
   "metadata": {},
   "source": [
    "## Second, probability that NOBODY in a group is COVID (+)"
   ]
  },
  {
   "cell_type": "markdown",
   "metadata": {},
   "source": [
    "The story told by an event or system can guide you to the best choice of probability distribution to use to model the event/system. In the case of a COVID gathering, we have a bunch of independent people who have two possible states: COVID (+) or COVID (-), we have an estimate of the probability of each state in each individual and we want to model the probability that various numbers of people in the group are COVID (+). That sounds like a group of flipped coins to me, and we want to model the probability that various numbers of coins turn up heads. That's the story of the binomial distribution. The distribution is pictured below, we'll consider a \"success\" in this case to be COVID (+) status.\n",
    "\n",
    "![binom equation](binomial-distribution-formula.png)"
   ]
  },
  {
   "cell_type": "markdown",
   "metadata": {},
   "source": [
    "In the limiting case we're considering, that of 0 \"successes\" or 0 COVID (+) people in a group of size *n*, the equation reduces to:\n",
    "\n",
    "![binom equation](binomial-0_eq.png)"
   ]
  },
  {
   "cell_type": "code",
   "execution_count": 9,
   "metadata": {},
   "outputs": [],
   "source": [
    "#define a function to calculate the probability of 0 COVID cases in a group\n",
    "def prob_nobody_has (rate, group_size):\n",
    "    \n",
    "    return (1-(rate))**group_size"
   ]
  },
  {
   "cell_type": "code",
   "execution_count": 16,
   "metadata": {},
   "outputs": [],
   "source": [
    "#calculate probabilities for a range of group sizes and ascertainment biases\n",
    "\n",
    "full = []\n",
    "for s in range(1,31):\n",
    "    data = {bias: prob_nobody_has(pre_prob*bias, s) for bias in a_biases}\n",
    "    full.append(pd.DataFrame(data, np.array([s])))\n",
    "    \n",
    "df = pd.concat(full)\n",
    "df.index.name = 'group_size'\n",
    "df.rename_axis(\"ascert_bias\", axis=\"columns\", inplace=True)"
   ]
  },
  {
   "cell_type": "markdown",
   "metadata": {},
   "source": [
    "Here's a plot of group size and the probability of having ZERO COVID (+) group members, using the probabilities we just esimated in section 1 and the equation pictured above. Each curve is calculated using a different ascertainment bias, the <span style=\"color:blue\">blue</span> one is a bias of 1 or no bias at all, just using the raw probability of being a *confirmed* case by testing. The <span style=\"color:green\">green</span> curve represents a bias of 10x, the value assumed by GA Tech. The <span style=\"color:purple\">purple</span> line is set at 95% probability of the group being fully COVID free.\n",
    "\n",
    "We can see that with increasing group size, the probability of being fully COVID free drops precipitously. As we assume that *actual* cases exceed *confirmed* cases by larger ascertainment biases, even a single person is less than 95% certain to be COVID (-) by themselves. 95% certainty is an arbitrary threshold to meet to say a group is \"safely\" COVID free&mdash;it's frequently used in science, but usually for garbage reasons or no reason at all."
   ]
  },
  {
   "cell_type": "code",
   "execution_count": 34,
   "metadata": {},
   "outputs": [
    {
     "data": {
      "text/plain": [
       "<matplotlib.lines.Line2D at 0x2220cbddd08>"
      ]
     },
     "execution_count": 34,
     "metadata": {},
     "output_type": "execute_result"
    },
    {
     "data": {
      "image/png": "[encoded data removed]",
      "text/plain": [
       "<Figure size 432x288 with 1 Axes>"
      ]
     },
     "metadata": {
      "needs_background": "light"
     },
     "output_type": "display_data"
    }
   ],
   "source": [
    "#draw a plot\n",
    "[plt.plot(df.index, df[b], marker='o') for b in a_biases]\n",
    "plt.legend(title='Ascertainment Bias', labels=a_biases)\n",
    "plt.xlabel('Group Size')\n",
    "plt.ylabel('SAFETY: prob of ZERO COVID (+) people')\n",
    "\n",
    "plt.axhline(0.95, linestyle='--', color='purple', linewidth=3)"
   ]
  },
  {
   "cell_type": "markdown",
   "metadata": {},
   "source": [
    "Let's pin a specific number on our gathering and its probability of safety.\n",
    "\n",
    "Our gathering has an invite list of 13, which with an acertainment bias of 10x, has only a"
   ]
  },
  {
   "cell_type": "code",
   "execution_count": 45,
   "metadata": {},
   "outputs": [
    {
     "data": {
      "text/plain": [
       "38.66797732244768"
      ]
     },
     "execution_count": 45,
     "metadata": {},
     "output_type": "execute_result"
    }
   ],
   "source": [
    "df.loc[13,10]*100"
   ]
  },
  {
   "cell_type": "markdown",
   "metadata": {},
   "source": [
    "percent chance of being safely COVID free.\n",
    "\n",
    "That probability of safety is really low and definitely outside my personal comfort zone. Only a bias of 1, or the assumption that there are *no* additional cases beyond those confirmed by testing (not very realistic), has a remotely comfortable probability of leaving our gathering COVID free.\n",
    "\n",
    "If this were the end of the story, the gathering would be too unsafe for comfort and it would be terminated, before considering any moral quandary."
   ]
  },
  {
   "cell_type": "markdown",
   "metadata": {},
   "source": [
    "## Third, what if everyone has tested COVID (-)?"
   ]
  },
  {
   "cell_type": "markdown",
   "metadata": {},
   "source": [
    "Now onto the most terribly explained topic in all of medical school education: sensitivity, specificity, positive/negative predictive value and the larger world of diagnostic statistics."
   ]
  },
  {
   "cell_type": "markdown",
   "metadata": {},
   "source": [
    "show the chart and say a small piece about what this means. Then talk about odds ratios and likelihood ratios and how theres no reasonable derivation of these that you've ever seen and then run them through and explain what you get on the other side, as if by magic. But also explain that for things that are fairly rare, a negative test doesn't make you very much less likely to have a thing than you were before the test, since that prob was really low at the start."
   ]
  },
  {
   "cell_type": "code",
   "execution_count": null,
   "metadata": {},
   "outputs": [],
   "source": []
  }
 ],
 "metadata": {
  "kernelspec": {
   "display_name": "Python 3",
   "language": "python",
   "name": "python3"
  },
  "language_info": {
   "codemirror_mode": {
    "name": "ipython",
    "version": 3
   },
   "file_extension": ".py",
   "mimetype": "text/x-python",
   "name": "python",
   "nbconvert_exporter": "python",
   "pygments_lexer": "ipython3",
   "version": "3.7.6"
  }
 },
 "nbformat": 4,
 "nbformat_minor": 4
}
