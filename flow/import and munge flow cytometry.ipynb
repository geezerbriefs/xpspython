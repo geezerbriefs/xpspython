{
 "cells": [
  {
   "cell_type": "code",
   "execution_count": 1,
   "metadata": {},
   "outputs": [],
   "source": [
    "import numpy as np\n",
    "import pandas as pd\n",
    "\n",
    "#get all the files from your experiment\n",
    "import glob\n",
    "\n",
    "#deal with the .fcs file format\n",
    "import fcsparser\n",
    "\n",
    "#for writing info back to excel ID sheet\n",
    "import openpyxl\n"
   ]
  },
  {
   "cell_type": "markdown",
   "metadata": {},
   "source": [
    "## Use glob to get all the fcs files you want to deal with"
   ]
  },
  {
   "cell_type": "markdown",
   "metadata": {},
   "source": [
    "### functions"
   ]
  },
  {
   "cell_type": "code",
   "execution_count": 2,
   "metadata": {},
   "outputs": [],
   "source": [
    "def write_file_assoc_to_xlsx (ids_frame_w_fnames, ids_xlsx_path):\n",
    "\n",
    "    #the check to see if the ids xlsx file already has filenames is done in the function that calls this one [assoc_fname_well]\n",
    "    \n",
    "    #open the workbook\n",
    "    book = openpyxl.load_workbook(ids_xlsx_path)\n",
    "\n",
    "    #get the worksheet you want to edit by name. Assumes standard sheet naming where single sheet in book is called 'Sheet1'\n",
    "    sheet = book[\"Sheet1\"]\n",
    "\n",
    "    #initialize row counter (because lazy)\n",
    "    r = 1\n",
    "    #set the file column name in row 1\n",
    "    sheet.cell(row=r, column=4).value = \"file\"\n",
    "\n",
    "    #loop over file dataframe column entries and assign to the xlsx in successive rows (r) in same column\n",
    "    for filename in ids_frame_w_fnames['file']:\n",
    "        #go to the next row\n",
    "        r += 1\n",
    "\n",
    "        #assign the values of successive cells in the col\n",
    "        sheet.cell(row=r, column=4).value = filename\n",
    "\n",
    "    #save it to same place so its overwritten with new good file\n",
    "    book.save(ids_xlsx_path)\n",
    "    \n",
    "    print (\"filename associations are written to the ids xlsx file\")\n",
    "    \n",
    "    return None"
   ]
  },
  {
   "cell_type": "code",
   "execution_count": 3,
   "metadata": {},
   "outputs": [],
   "source": [
    "def assoc_fname_well (ids_frame, fcs_filename_list, ids_xlsx_path):\n",
    "\n",
    "    #make copy so you aren't editing the original id frame in the function\n",
    "    ids = ids_frame.copy()\n",
    "\n",
    "    #if the ids dataframe loaded from xlsx doesn't already have a \"file\" column with associated filenames\n",
    "    if 'file' not in ids.columns:\n",
    "\n",
    "        #add the filename to the IDs dataframe so you can look for well and get filename for analysis\n",
    "\n",
    "        #get the index and the fcs file num as a tuple.\n",
    "        #I'm pretty sure if the index was noncontinuous, this would still associate correct index to fcs num entry\n",
    "        for idx, num in zip(ids['fcs num'].index, ids['fcs num']):\n",
    "\n",
    "\n",
    "            #get the list of filenames that contain the fcs num you're looking for\n",
    "            #this list should ideally be len = 1\n",
    "            fname = [f for f in fcs_filename_list if num in f]\n",
    "\n",
    "            #this list that will be added to the 'file' column is sometimes just a string, sometimes a list with one element\n",
    "            #I want just the value inside the list\n",
    "            if len(fname) == 1:\n",
    "                add = fname[0]\n",
    "            elif len(fname) == 0:\n",
    "                add = 'NO MATCH'\n",
    "            elif len(fname) > 1:\n",
    "                add = '> 1 MATCH'\n",
    "\n",
    "\n",
    "            ids.loc[idx, 'file'] = add\n",
    "\n",
    "        \n",
    "        #check how the filename assignment went\n",
    "        \n",
    "        #if the value of these statements are TRUE, then there's a non-assignment or a multiple assignment of filenames\n",
    "        if any(ids['file'] == 'NO MATCH'):\n",
    "            print(\"there's a non-assignment of at least one well and filename!!!\")\n",
    "\n",
    "        elif any(ids['file'] == '> 1 MATCH'):\n",
    "            print(\"there's an assignment of multiple filenames to at least one well!!!\")\n",
    "\n",
    "        else:\n",
    "            print(\"assignment completed without issue, all wells have a single filaname assignment\")\n",
    "\n",
    "            \n",
    "        #write the new IDs frame with file associations to the original ids xlsx file\n",
    "        write_file_assoc_to_xlsx(ids, ids_xlsx_path)    \n",
    "        \n",
    "        #return the frame with the new filename associations\n",
    "        return ids\n",
    "\n",
    "    #if the ids dataframe already has the filename associations\n",
    "    else:\n",
    "        #do nothing\n",
    "        print (\"the id dataframe and its parent xlsx file already contain a column called 'file' that has the fcs filename associations, the id dataframe and its parent file have not been modified\")\n",
    "        #return it as is\n",
    "        return ids"
   ]
  },
  {
   "cell_type": "markdown",
   "metadata": {},
   "source": [
    "### work"
   ]
  },
  {
   "cell_type": "code",
   "execution_count": 28,
   "metadata": {},
   "outputs": [],
   "source": [
    "tpt = '19.5hr'\n",
    "dir_with_fcs_files_path = ('Z:/Reed/Projects/micro_consortia/DARPA_biocon/Task 1.1/A=B/20181128 A=B cfp yfp screen 1/flow/' \n",
    "                           + tpt + '/raw/')\n",
    "\n",
    "#get all the .fcs files in the directory (doesn't walk down directories to aggregate all further along dir tree)\n",
    "allfcs = glob.glob(dir_with_fcs_files_path + '/*.fcs')"
   ]
  },
  {
   "cell_type": "code",
   "execution_count": 29,
   "metadata": {},
   "outputs": [
    {
     "data": {
      "text/plain": [
       "['Z:/Reed/Projects/micro_consortia/DARPA_biocon/Task 1.1/A=B/20181128 A=B cfp yfp screen 1/flow/19.5hr/raw\\\\bfp-RDM2018-12-04.0001.fcs',\n",
       " 'Z:/Reed/Projects/micro_consortia/DARPA_biocon/Task 1.1/A=B/20181128 A=B cfp yfp screen 1/flow/19.5hr/raw\\\\blank-RDM2018-12-04.0001.fcs',\n",
       " 'Z:/Reed/Projects/micro_consortia/DARPA_biocon/Task 1.1/A=B/20181128 A=B cfp yfp screen 1/flow/19.5hr/raw\\\\blankNOstain-RDM2018-12-04.0001.fcs',\n",
       " 'Z:/Reed/Projects/micro_consortia/DARPA_biocon/Task 1.1/A=B/20181128 A=B cfp yfp screen 1/flow/19.5hr/raw\\\\DI-RDM2018-12-04.0001.fcs',\n",
       " 'Z:/Reed/Projects/micro_consortia/DARPA_biocon/Task 1.1/A=B/20181128 A=B cfp yfp screen 1/flow/19.5hr/raw\\\\di-RDM2018-12-04.0002.fcs',\n",
       " 'Z:/Reed/Projects/micro_consortia/DARPA_biocon/Task 1.1/A=B/20181128 A=B cfp yfp screen 1/flow/19.5hr/raw\\\\RDM2018-12-04.0001.fcs',\n",
       " 'Z:/Reed/Projects/micro_consortia/DARPA_biocon/Task 1.1/A=B/20181128 A=B cfp yfp screen 1/flow/19.5hr/raw\\\\RDM2018-12-04.0002.fcs',\n",
       " 'Z:/Reed/Projects/micro_consortia/DARPA_biocon/Task 1.1/A=B/20181128 A=B cfp yfp screen 1/flow/19.5hr/raw\\\\RDM2018-12-04.0003.fcs',\n",
       " 'Z:/Reed/Projects/micro_consortia/DARPA_biocon/Task 1.1/A=B/20181128 A=B cfp yfp screen 1/flow/19.5hr/raw\\\\RDM2018-12-04.0004.fcs']"
      ]
     },
     "execution_count": 29,
     "metadata": {},
     "output_type": "execute_result"
    }
   ],
   "source": [
    "allfcs[0:9]"
   ]
  },
  {
   "cell_type": "code",
   "execution_count": 33,
   "metadata": {},
   "outputs": [],
   "source": [
    "#ugly nested list comprehension to get all the non control files\n",
    "\n",
    "#using list comprehensionn to exclude files that have ctrl information in them\n",
    "expfcs = [d for d in\n",
    "[c for c in \n",
    " [b for b in \n",
    "  [a for a in \n",
    "   [s for s in allfcs if 'bfp-' not in s]\n",
    "  if 'yfp-' not in a]\n",
    " if 'di' not in b]\n",
    "if 'blank' not in c]\n",
    "if 'DI' not in d]\n",
    "\n",
    "#nicer way to use previous list to get ctrls out of allfcs\n",
    "\n",
    "ctrlfcs = [d for d in allfcs if d not in expfcs]\n",
    "\n",
    "finalctrlfcs = [f for f in ctrlfcs if 'final' in f]"
   ]
  },
  {
   "cell_type": "code",
   "execution_count": 34,
   "metadata": {},
   "outputs": [
    {
     "data": {
      "text/plain": [
       "['Z:/Reed/Projects/micro_consortia/DARPA_biocon/Task 1.1/A=B/20181128 A=B cfp yfp screen 1/flow/19.5hr/raw\\\\bfp-RDM2018-12-04.0001.fcs',\n",
       " 'Z:/Reed/Projects/micro_consortia/DARPA_biocon/Task 1.1/A=B/20181128 A=B cfp yfp screen 1/flow/19.5hr/raw\\\\blank-RDM2018-12-04.0001.fcs',\n",
       " 'Z:/Reed/Projects/micro_consortia/DARPA_biocon/Task 1.1/A=B/20181128 A=B cfp yfp screen 1/flow/19.5hr/raw\\\\blankNOstain-RDM2018-12-04.0001.fcs',\n",
       " 'Z:/Reed/Projects/micro_consortia/DARPA_biocon/Task 1.1/A=B/20181128 A=B cfp yfp screen 1/flow/19.5hr/raw\\\\DI-RDM2018-12-04.0001.fcs',\n",
       " 'Z:/Reed/Projects/micro_consortia/DARPA_biocon/Task 1.1/A=B/20181128 A=B cfp yfp screen 1/flow/19.5hr/raw\\\\di-RDM2018-12-04.0002.fcs',\n",
       " 'Z:/Reed/Projects/micro_consortia/DARPA_biocon/Task 1.1/A=B/20181128 A=B cfp yfp screen 1/flow/19.5hr/raw\\\\yfp-RDM2018-12-04.0001.fcs']"
      ]
     },
     "execution_count": 34,
     "metadata": {},
     "output_type": "execute_result"
    }
   ],
   "source": [
    "ctrlfcs"
   ]
  },
  {
   "cell_type": "code",
   "execution_count": 35,
   "metadata": {},
   "outputs": [
    {
     "data": {
      "text/plain": [
       "['Z:/Reed/Projects/micro_consortia/DARPA_biocon/Task 1.1/A=B/20181128 A=B cfp yfp screen 1/flow/19.5hr/raw\\\\RDM2018-12-04.0001.fcs',\n",
       " 'Z:/Reed/Projects/micro_consortia/DARPA_biocon/Task 1.1/A=B/20181128 A=B cfp yfp screen 1/flow/19.5hr/raw\\\\RDM2018-12-04.0002.fcs',\n",
       " 'Z:/Reed/Projects/micro_consortia/DARPA_biocon/Task 1.1/A=B/20181128 A=B cfp yfp screen 1/flow/19.5hr/raw\\\\RDM2018-12-04.0003.fcs',\n",
       " 'Z:/Reed/Projects/micro_consortia/DARPA_biocon/Task 1.1/A=B/20181128 A=B cfp yfp screen 1/flow/19.5hr/raw\\\\RDM2018-12-04.0004.fcs',\n",
       " 'Z:/Reed/Projects/micro_consortia/DARPA_biocon/Task 1.1/A=B/20181128 A=B cfp yfp screen 1/flow/19.5hr/raw\\\\RDM2018-12-04.0005.fcs',\n",
       " 'Z:/Reed/Projects/micro_consortia/DARPA_biocon/Task 1.1/A=B/20181128 A=B cfp yfp screen 1/flow/19.5hr/raw\\\\RDM2018-12-04.0006.fcs',\n",
       " 'Z:/Reed/Projects/micro_consortia/DARPA_biocon/Task 1.1/A=B/20181128 A=B cfp yfp screen 1/flow/19.5hr/raw\\\\RDM2018-12-04.0007.fcs',\n",
       " 'Z:/Reed/Projects/micro_consortia/DARPA_biocon/Task 1.1/A=B/20181128 A=B cfp yfp screen 1/flow/19.5hr/raw\\\\RDM2018-12-04.0008.fcs',\n",
       " 'Z:/Reed/Projects/micro_consortia/DARPA_biocon/Task 1.1/A=B/20181128 A=B cfp yfp screen 1/flow/19.5hr/raw\\\\RDM2018-12-04.0009.fcs',\n",
       " 'Z:/Reed/Projects/micro_consortia/DARPA_biocon/Task 1.1/A=B/20181128 A=B cfp yfp screen 1/flow/19.5hr/raw\\\\RDM2018-12-04.0010.fcs',\n",
       " 'Z:/Reed/Projects/micro_consortia/DARPA_biocon/Task 1.1/A=B/20181128 A=B cfp yfp screen 1/flow/19.5hr/raw\\\\RDM2018-12-04.0011.fcs',\n",
       " 'Z:/Reed/Projects/micro_consortia/DARPA_biocon/Task 1.1/A=B/20181128 A=B cfp yfp screen 1/flow/19.5hr/raw\\\\RDM2018-12-04.0012.fcs',\n",
       " 'Z:/Reed/Projects/micro_consortia/DARPA_biocon/Task 1.1/A=B/20181128 A=B cfp yfp screen 1/flow/19.5hr/raw\\\\RDM2018-12-04.0013.fcs',\n",
       " 'Z:/Reed/Projects/micro_consortia/DARPA_biocon/Task 1.1/A=B/20181128 A=B cfp yfp screen 1/flow/19.5hr/raw\\\\RDM2018-12-04.0014.fcs',\n",
       " 'Z:/Reed/Projects/micro_consortia/DARPA_biocon/Task 1.1/A=B/20181128 A=B cfp yfp screen 1/flow/19.5hr/raw\\\\RDM2018-12-04.0015.fcs',\n",
       " 'Z:/Reed/Projects/micro_consortia/DARPA_biocon/Task 1.1/A=B/20181128 A=B cfp yfp screen 1/flow/19.5hr/raw\\\\RDM2018-12-04.0016.fcs',\n",
       " 'Z:/Reed/Projects/micro_consortia/DARPA_biocon/Task 1.1/A=B/20181128 A=B cfp yfp screen 1/flow/19.5hr/raw\\\\RDM2018-12-04.0017.fcs',\n",
       " 'Z:/Reed/Projects/micro_consortia/DARPA_biocon/Task 1.1/A=B/20181128 A=B cfp yfp screen 1/flow/19.5hr/raw\\\\RDM2018-12-04.0018.fcs',\n",
       " 'Z:/Reed/Projects/micro_consortia/DARPA_biocon/Task 1.1/A=B/20181128 A=B cfp yfp screen 1/flow/19.5hr/raw\\\\RDM2018-12-04.0019.fcs',\n",
       " 'Z:/Reed/Projects/micro_consortia/DARPA_biocon/Task 1.1/A=B/20181128 A=B cfp yfp screen 1/flow/19.5hr/raw\\\\RDM2018-12-04.0020.fcs',\n",
       " 'Z:/Reed/Projects/micro_consortia/DARPA_biocon/Task 1.1/A=B/20181128 A=B cfp yfp screen 1/flow/19.5hr/raw\\\\RDM2018-12-04.0021.fcs',\n",
       " 'Z:/Reed/Projects/micro_consortia/DARPA_biocon/Task 1.1/A=B/20181128 A=B cfp yfp screen 1/flow/19.5hr/raw\\\\RDM2018-12-04.0022.fcs',\n",
       " 'Z:/Reed/Projects/micro_consortia/DARPA_biocon/Task 1.1/A=B/20181128 A=B cfp yfp screen 1/flow/19.5hr/raw\\\\RDM2018-12-04.0023.fcs',\n",
       " 'Z:/Reed/Projects/micro_consortia/DARPA_biocon/Task 1.1/A=B/20181128 A=B cfp yfp screen 1/flow/19.5hr/raw\\\\RDM2018-12-04.0024.fcs',\n",
       " 'Z:/Reed/Projects/micro_consortia/DARPA_biocon/Task 1.1/A=B/20181128 A=B cfp yfp screen 1/flow/19.5hr/raw\\\\RDM2018-12-04.0025.fcs',\n",
       " 'Z:/Reed/Projects/micro_consortia/DARPA_biocon/Task 1.1/A=B/20181128 A=B cfp yfp screen 1/flow/19.5hr/raw\\\\RDM2018-12-04.0026.fcs',\n",
       " 'Z:/Reed/Projects/micro_consortia/DARPA_biocon/Task 1.1/A=B/20181128 A=B cfp yfp screen 1/flow/19.5hr/raw\\\\RDM2018-12-04.0027.fcs',\n",
       " 'Z:/Reed/Projects/micro_consortia/DARPA_biocon/Task 1.1/A=B/20181128 A=B cfp yfp screen 1/flow/19.5hr/raw\\\\RDM2018-12-04.0028.fcs',\n",
       " 'Z:/Reed/Projects/micro_consortia/DARPA_biocon/Task 1.1/A=B/20181128 A=B cfp yfp screen 1/flow/19.5hr/raw\\\\RDM2018-12-04.0029.fcs',\n",
       " 'Z:/Reed/Projects/micro_consortia/DARPA_biocon/Task 1.1/A=B/20181128 A=B cfp yfp screen 1/flow/19.5hr/raw\\\\RDM2018-12-04.0030.fcs',\n",
       " 'Z:/Reed/Projects/micro_consortia/DARPA_biocon/Task 1.1/A=B/20181128 A=B cfp yfp screen 1/flow/19.5hr/raw\\\\RDM2018-12-04.0031.fcs',\n",
       " 'Z:/Reed/Projects/micro_consortia/DARPA_biocon/Task 1.1/A=B/20181128 A=B cfp yfp screen 1/flow/19.5hr/raw\\\\RDM2018-12-04.0032.fcs',\n",
       " 'Z:/Reed/Projects/micro_consortia/DARPA_biocon/Task 1.1/A=B/20181128 A=B cfp yfp screen 1/flow/19.5hr/raw\\\\RDM2018-12-04.0033.fcs',\n",
       " 'Z:/Reed/Projects/micro_consortia/DARPA_biocon/Task 1.1/A=B/20181128 A=B cfp yfp screen 1/flow/19.5hr/raw\\\\RDM2018-12-04.0034.fcs',\n",
       " 'Z:/Reed/Projects/micro_consortia/DARPA_biocon/Task 1.1/A=B/20181128 A=B cfp yfp screen 1/flow/19.5hr/raw\\\\RDM2018-12-04.0035.fcs',\n",
       " 'Z:/Reed/Projects/micro_consortia/DARPA_biocon/Task 1.1/A=B/20181128 A=B cfp yfp screen 1/flow/19.5hr/raw\\\\RDM2018-12-04.0036.fcs',\n",
       " 'Z:/Reed/Projects/micro_consortia/DARPA_biocon/Task 1.1/A=B/20181128 A=B cfp yfp screen 1/flow/19.5hr/raw\\\\RDM2018-12-04.0037.fcs',\n",
       " 'Z:/Reed/Projects/micro_consortia/DARPA_biocon/Task 1.1/A=B/20181128 A=B cfp yfp screen 1/flow/19.5hr/raw\\\\RDM2018-12-04.0038.fcs',\n",
       " 'Z:/Reed/Projects/micro_consortia/DARPA_biocon/Task 1.1/A=B/20181128 A=B cfp yfp screen 1/flow/19.5hr/raw\\\\RDM2018-12-04.0039.fcs',\n",
       " 'Z:/Reed/Projects/micro_consortia/DARPA_biocon/Task 1.1/A=B/20181128 A=B cfp yfp screen 1/flow/19.5hr/raw\\\\RDM2018-12-04.0040.fcs',\n",
       " 'Z:/Reed/Projects/micro_consortia/DARPA_biocon/Task 1.1/A=B/20181128 A=B cfp yfp screen 1/flow/19.5hr/raw\\\\RDM2018-12-04.0041.fcs',\n",
       " 'Z:/Reed/Projects/micro_consortia/DARPA_biocon/Task 1.1/A=B/20181128 A=B cfp yfp screen 1/flow/19.5hr/raw\\\\RDM2018-12-04.0042.fcs',\n",
       " 'Z:/Reed/Projects/micro_consortia/DARPA_biocon/Task 1.1/A=B/20181128 A=B cfp yfp screen 1/flow/19.5hr/raw\\\\RDM2018-12-04.0043.fcs',\n",
       " 'Z:/Reed/Projects/micro_consortia/DARPA_biocon/Task 1.1/A=B/20181128 A=B cfp yfp screen 1/flow/19.5hr/raw\\\\RDM2018-12-04.0044.fcs',\n",
       " 'Z:/Reed/Projects/micro_consortia/DARPA_biocon/Task 1.1/A=B/20181128 A=B cfp yfp screen 1/flow/19.5hr/raw\\\\RDM2018-12-04.0045.fcs',\n",
       " 'Z:/Reed/Projects/micro_consortia/DARPA_biocon/Task 1.1/A=B/20181128 A=B cfp yfp screen 1/flow/19.5hr/raw\\\\RDM2018-12-04.0046.fcs',\n",
       " 'Z:/Reed/Projects/micro_consortia/DARPA_biocon/Task 1.1/A=B/20181128 A=B cfp yfp screen 1/flow/19.5hr/raw\\\\RDM2018-12-04.0047.fcs',\n",
       " 'Z:/Reed/Projects/micro_consortia/DARPA_biocon/Task 1.1/A=B/20181128 A=B cfp yfp screen 1/flow/19.5hr/raw\\\\RDM2018-12-04.0048.fcs',\n",
       " 'Z:/Reed/Projects/micro_consortia/DARPA_biocon/Task 1.1/A=B/20181128 A=B cfp yfp screen 1/flow/19.5hr/raw\\\\RDM2018-12-04.0049.fcs',\n",
       " 'Z:/Reed/Projects/micro_consortia/DARPA_biocon/Task 1.1/A=B/20181128 A=B cfp yfp screen 1/flow/19.5hr/raw\\\\RDM2018-12-04.0050.fcs',\n",
       " 'Z:/Reed/Projects/micro_consortia/DARPA_biocon/Task 1.1/A=B/20181128 A=B cfp yfp screen 1/flow/19.5hr/raw\\\\RDM2018-12-04.0051.fcs',\n",
       " 'Z:/Reed/Projects/micro_consortia/DARPA_biocon/Task 1.1/A=B/20181128 A=B cfp yfp screen 1/flow/19.5hr/raw\\\\RDM2018-12-04.0052.fcs',\n",
       " 'Z:/Reed/Projects/micro_consortia/DARPA_biocon/Task 1.1/A=B/20181128 A=B cfp yfp screen 1/flow/19.5hr/raw\\\\RDM2018-12-04.0053.fcs',\n",
       " 'Z:/Reed/Projects/micro_consortia/DARPA_biocon/Task 1.1/A=B/20181128 A=B cfp yfp screen 1/flow/19.5hr/raw\\\\RDM2018-12-04.0054.fcs',\n",
       " 'Z:/Reed/Projects/micro_consortia/DARPA_biocon/Task 1.1/A=B/20181128 A=B cfp yfp screen 1/flow/19.5hr/raw\\\\RDM2018-12-04.0055.fcs',\n",
       " 'Z:/Reed/Projects/micro_consortia/DARPA_biocon/Task 1.1/A=B/20181128 A=B cfp yfp screen 1/flow/19.5hr/raw\\\\RDM2018-12-04.0056.fcs',\n",
       " 'Z:/Reed/Projects/micro_consortia/DARPA_biocon/Task 1.1/A=B/20181128 A=B cfp yfp screen 1/flow/19.5hr/raw\\\\RDM2018-12-04.0057.fcs',\n",
       " 'Z:/Reed/Projects/micro_consortia/DARPA_biocon/Task 1.1/A=B/20181128 A=B cfp yfp screen 1/flow/19.5hr/raw\\\\RDM2018-12-04.0058.fcs',\n",
       " 'Z:/Reed/Projects/micro_consortia/DARPA_biocon/Task 1.1/A=B/20181128 A=B cfp yfp screen 1/flow/19.5hr/raw\\\\RDM2018-12-04.0059.fcs',\n",
       " 'Z:/Reed/Projects/micro_consortia/DARPA_biocon/Task 1.1/A=B/20181128 A=B cfp yfp screen 1/flow/19.5hr/raw\\\\RDM2018-12-04.0060.fcs',\n",
       " 'Z:/Reed/Projects/micro_consortia/DARPA_biocon/Task 1.1/A=B/20181128 A=B cfp yfp screen 1/flow/19.5hr/raw\\\\RDM2018-12-04.0061.fcs',\n",
       " 'Z:/Reed/Projects/micro_consortia/DARPA_biocon/Task 1.1/A=B/20181128 A=B cfp yfp screen 1/flow/19.5hr/raw\\\\RDM2018-12-04.0062.fcs',\n",
       " 'Z:/Reed/Projects/micro_consortia/DARPA_biocon/Task 1.1/A=B/20181128 A=B cfp yfp screen 1/flow/19.5hr/raw\\\\RDM2018-12-04.0063.fcs',\n",
       " 'Z:/Reed/Projects/micro_consortia/DARPA_biocon/Task 1.1/A=B/20181128 A=B cfp yfp screen 1/flow/19.5hr/raw\\\\RDM2018-12-04.0064.fcs',\n",
       " 'Z:/Reed/Projects/micro_consortia/DARPA_biocon/Task 1.1/A=B/20181128 A=B cfp yfp screen 1/flow/19.5hr/raw\\\\RDM2018-12-04.0065.fcs',\n",
       " 'Z:/Reed/Projects/micro_consortia/DARPA_biocon/Task 1.1/A=B/20181128 A=B cfp yfp screen 1/flow/19.5hr/raw\\\\RDM2018-12-04.0066.fcs',\n",
       " 'Z:/Reed/Projects/micro_consortia/DARPA_biocon/Task 1.1/A=B/20181128 A=B cfp yfp screen 1/flow/19.5hr/raw\\\\RDM2018-12-04.0067.fcs',\n",
       " 'Z:/Reed/Projects/micro_consortia/DARPA_biocon/Task 1.1/A=B/20181128 A=B cfp yfp screen 1/flow/19.5hr/raw\\\\RDM2018-12-04.0068.fcs',\n",
       " 'Z:/Reed/Projects/micro_consortia/DARPA_biocon/Task 1.1/A=B/20181128 A=B cfp yfp screen 1/flow/19.5hr/raw\\\\RDM2018-12-04.0069.fcs',\n",
       " 'Z:/Reed/Projects/micro_consortia/DARPA_biocon/Task 1.1/A=B/20181128 A=B cfp yfp screen 1/flow/19.5hr/raw\\\\RDM2018-12-04.0070.fcs',\n",
       " 'Z:/Reed/Projects/micro_consortia/DARPA_biocon/Task 1.1/A=B/20181128 A=B cfp yfp screen 1/flow/19.5hr/raw\\\\RDM2018-12-04.0071.fcs',\n",
       " 'Z:/Reed/Projects/micro_consortia/DARPA_biocon/Task 1.1/A=B/20181128 A=B cfp yfp screen 1/flow/19.5hr/raw\\\\RDM2018-12-04.0072.fcs',\n",
       " 'Z:/Reed/Projects/micro_consortia/DARPA_biocon/Task 1.1/A=B/20181128 A=B cfp yfp screen 1/flow/19.5hr/raw\\\\RDM2018-12-04.0073.fcs',\n",
       " 'Z:/Reed/Projects/micro_consortia/DARPA_biocon/Task 1.1/A=B/20181128 A=B cfp yfp screen 1/flow/19.5hr/raw\\\\RDM2018-12-04.0074.fcs',\n",
       " 'Z:/Reed/Projects/micro_consortia/DARPA_biocon/Task 1.1/A=B/20181128 A=B cfp yfp screen 1/flow/19.5hr/raw\\\\RDM2018-12-04.0075.fcs',\n",
       " 'Z:/Reed/Projects/micro_consortia/DARPA_biocon/Task 1.1/A=B/20181128 A=B cfp yfp screen 1/flow/19.5hr/raw\\\\RDM2018-12-04.0076.fcs',\n",
       " 'Z:/Reed/Projects/micro_consortia/DARPA_biocon/Task 1.1/A=B/20181128 A=B cfp yfp screen 1/flow/19.5hr/raw\\\\RDM2018-12-04.0077.fcs',\n",
       " 'Z:/Reed/Projects/micro_consortia/DARPA_biocon/Task 1.1/A=B/20181128 A=B cfp yfp screen 1/flow/19.5hr/raw\\\\RDM2018-12-04.0078.fcs',\n",
       " 'Z:/Reed/Projects/micro_consortia/DARPA_biocon/Task 1.1/A=B/20181128 A=B cfp yfp screen 1/flow/19.5hr/raw\\\\RDM2018-12-04.0079.fcs',\n",
       " 'Z:/Reed/Projects/micro_consortia/DARPA_biocon/Task 1.1/A=B/20181128 A=B cfp yfp screen 1/flow/19.5hr/raw\\\\RDM2018-12-04.0080.fcs',\n",
       " 'Z:/Reed/Projects/micro_consortia/DARPA_biocon/Task 1.1/A=B/20181128 A=B cfp yfp screen 1/flow/19.5hr/raw\\\\RDM2018-12-04.0081.fcs',\n",
       " 'Z:/Reed/Projects/micro_consortia/DARPA_biocon/Task 1.1/A=B/20181128 A=B cfp yfp screen 1/flow/19.5hr/raw\\\\RDM2018-12-04.0082.fcs',\n",
       " 'Z:/Reed/Projects/micro_consortia/DARPA_biocon/Task 1.1/A=B/20181128 A=B cfp yfp screen 1/flow/19.5hr/raw\\\\RDM2018-12-04.0083.fcs',\n",
       " 'Z:/Reed/Projects/micro_consortia/DARPA_biocon/Task 1.1/A=B/20181128 A=B cfp yfp screen 1/flow/19.5hr/raw\\\\RDM2018-12-04.0084.fcs',\n",
       " 'Z:/Reed/Projects/micro_consortia/DARPA_biocon/Task 1.1/A=B/20181128 A=B cfp yfp screen 1/flow/19.5hr/raw\\\\RDM2018-12-04.0085.fcs',\n",
       " 'Z:/Reed/Projects/micro_consortia/DARPA_biocon/Task 1.1/A=B/20181128 A=B cfp yfp screen 1/flow/19.5hr/raw\\\\RDM2018-12-04.0086.fcs',\n",
       " 'Z:/Reed/Projects/micro_consortia/DARPA_biocon/Task 1.1/A=B/20181128 A=B cfp yfp screen 1/flow/19.5hr/raw\\\\RDM2018-12-04.0087.fcs',\n",
       " 'Z:/Reed/Projects/micro_consortia/DARPA_biocon/Task 1.1/A=B/20181128 A=B cfp yfp screen 1/flow/19.5hr/raw\\\\RDM2018-12-04.0088.fcs',\n",
       " 'Z:/Reed/Projects/micro_consortia/DARPA_biocon/Task 1.1/A=B/20181128 A=B cfp yfp screen 1/flow/19.5hr/raw\\\\RDM2018-12-04.0089.fcs',\n",
       " 'Z:/Reed/Projects/micro_consortia/DARPA_biocon/Task 1.1/A=B/20181128 A=B cfp yfp screen 1/flow/19.5hr/raw\\\\RDM2018-12-04.0090.fcs',\n",
       " 'Z:/Reed/Projects/micro_consortia/DARPA_biocon/Task 1.1/A=B/20181128 A=B cfp yfp screen 1/flow/19.5hr/raw\\\\RDM2018-12-04.0091.fcs',\n",
       " 'Z:/Reed/Projects/micro_consortia/DARPA_biocon/Task 1.1/A=B/20181128 A=B cfp yfp screen 1/flow/19.5hr/raw\\\\RDM2018-12-04.0092.fcs',\n",
       " 'Z:/Reed/Projects/micro_consortia/DARPA_biocon/Task 1.1/A=B/20181128 A=B cfp yfp screen 1/flow/19.5hr/raw\\\\RDM2018-12-04.0093.fcs',\n",
       " 'Z:/Reed/Projects/micro_consortia/DARPA_biocon/Task 1.1/A=B/20181128 A=B cfp yfp screen 1/flow/19.5hr/raw\\\\RDM2018-12-04.0094.fcs',\n",
       " 'Z:/Reed/Projects/micro_consortia/DARPA_biocon/Task 1.1/A=B/20181128 A=B cfp yfp screen 1/flow/19.5hr/raw\\\\RDM2018-12-04.0095.fcs',\n",
       " 'Z:/Reed/Projects/micro_consortia/DARPA_biocon/Task 1.1/A=B/20181128 A=B cfp yfp screen 1/flow/19.5hr/raw\\\\RDM2018-12-04.0096.fcs',\n",
       " 'Z:/Reed/Projects/micro_consortia/DARPA_biocon/Task 1.1/A=B/20181128 A=B cfp yfp screen 1/flow/19.5hr/raw\\\\RDM2018-12-04.0097.fcs',\n",
       " 'Z:/Reed/Projects/micro_consortia/DARPA_biocon/Task 1.1/A=B/20181128 A=B cfp yfp screen 1/flow/19.5hr/raw\\\\RDM2018-12-04.0098.fcs',\n",
       " 'Z:/Reed/Projects/micro_consortia/DARPA_biocon/Task 1.1/A=B/20181128 A=B cfp yfp screen 1/flow/19.5hr/raw\\\\RDM2018-12-04.0099.fcs',\n",
       " 'Z:/Reed/Projects/micro_consortia/DARPA_biocon/Task 1.1/A=B/20181128 A=B cfp yfp screen 1/flow/19.5hr/raw\\\\RDM2018-12-04.0100.fcs']"
      ]
     },
     "execution_count": 35,
     "metadata": {},
     "output_type": "execute_result"
    }
   ],
   "source": [
    "expfcs"
   ]
  },
  {
   "cell_type": "code",
   "execution_count": 36,
   "metadata": {},
   "outputs": [],
   "source": [
    "#I created a csv file that correlates fcs file number to well and volume flowed\n",
    "ids_xlsx_path = dir_with_fcs_files_path + '/' + tpt + '-fcs num to well ID.xlsx'\n",
    "\n",
    "ids = pd.read_excel(ids_xlsx_path, dtype=str)"
   ]
  },
  {
   "cell_type": "code",
   "execution_count": 37,
   "metadata": {
    "scrolled": false
   },
   "outputs": [
    {
     "data": {
      "text/html": [
       "<div>\n",
       "<style scoped>\n",
       "    .dataframe tbody tr th:only-of-type {\n",
       "        vertical-align: middle;\n",
       "    }\n",
       "\n",
       "    .dataframe tbody tr th {\n",
       "        vertical-align: top;\n",
       "    }\n",
       "\n",
       "    .dataframe thead th {\n",
       "        text-align: right;\n",
       "    }\n",
       "</style>\n",
       "<table border=\"1\" class=\"dataframe\">\n",
       "  <thead>\n",
       "    <tr style=\"text-align: right;\">\n",
       "      <th></th>\n",
       "      <th>fcs num</th>\n",
       "      <th>well</th>\n",
       "      <th>vol</th>\n",
       "      <th>sampling_dil</th>\n",
       "      <th>flow_dil</th>\n",
       "    </tr>\n",
       "  </thead>\n",
       "  <tbody>\n",
       "    <tr>\n",
       "      <th>0</th>\n",
       "      <td>0001</td>\n",
       "      <td>BEADS</td>\n",
       "      <td>nan</td>\n",
       "      <td>4</td>\n",
       "      <td>35</td>\n",
       "    </tr>\n",
       "    <tr>\n",
       "      <th>1</th>\n",
       "      <td>0002</td>\n",
       "      <td>a1-V2-710</td>\n",
       "      <td>35</td>\n",
       "      <td>4</td>\n",
       "      <td>35</td>\n",
       "    </tr>\n",
       "    <tr>\n",
       "      <th>2</th>\n",
       "      <td>0003</td>\n",
       "      <td>a2-BAD</td>\n",
       "      <td>35</td>\n",
       "      <td>4</td>\n",
       "      <td>35</td>\n",
       "    </tr>\n",
       "    <tr>\n",
       "      <th>3</th>\n",
       "      <td>0004</td>\n",
       "      <td>A1</td>\n",
       "      <td>30</td>\n",
       "      <td>4</td>\n",
       "      <td>35</td>\n",
       "    </tr>\n",
       "    <tr>\n",
       "      <th>4</th>\n",
       "      <td>0005</td>\n",
       "      <td>B1</td>\n",
       "      <td>30</td>\n",
       "      <td>4</td>\n",
       "      <td>35</td>\n",
       "    </tr>\n",
       "    <tr>\n",
       "      <th>5</th>\n",
       "      <td>0006</td>\n",
       "      <td>C1</td>\n",
       "      <td>30</td>\n",
       "      <td>4</td>\n",
       "      <td>35</td>\n",
       "    </tr>\n",
       "    <tr>\n",
       "      <th>6</th>\n",
       "      <td>0007</td>\n",
       "      <td>D1</td>\n",
       "      <td>30</td>\n",
       "      <td>4</td>\n",
       "      <td>35</td>\n",
       "    </tr>\n",
       "    <tr>\n",
       "      <th>7</th>\n",
       "      <td>0008</td>\n",
       "      <td>E1</td>\n",
       "      <td>30</td>\n",
       "      <td>4</td>\n",
       "      <td>35</td>\n",
       "    </tr>\n",
       "    <tr>\n",
       "      <th>8</th>\n",
       "      <td>0009</td>\n",
       "      <td>F1</td>\n",
       "      <td>30</td>\n",
       "      <td>4</td>\n",
       "      <td>35</td>\n",
       "    </tr>\n",
       "    <tr>\n",
       "      <th>9</th>\n",
       "      <td>0010</td>\n",
       "      <td>G1</td>\n",
       "      <td>30</td>\n",
       "      <td>4</td>\n",
       "      <td>35</td>\n",
       "    </tr>\n",
       "    <tr>\n",
       "      <th>10</th>\n",
       "      <td>0011</td>\n",
       "      <td>H1</td>\n",
       "      <td>30</td>\n",
       "      <td>4</td>\n",
       "      <td>35</td>\n",
       "    </tr>\n",
       "  </tbody>\n",
       "</table>\n",
       "</div>"
      ],
      "text/plain": [
       "   fcs num       well  vol sampling_dil flow_dil\n",
       "0     0001      BEADS  nan            4       35\n",
       "1     0002  a1-V2-710   35            4       35\n",
       "2     0003     a2-BAD   35            4       35\n",
       "3     0004         A1   30            4       35\n",
       "4     0005         B1   30            4       35\n",
       "5     0006         C1   30            4       35\n",
       "6     0007         D1   30            4       35\n",
       "7     0008         E1   30            4       35\n",
       "8     0009         F1   30            4       35\n",
       "9     0010         G1   30            4       35\n",
       "10    0011         H1   30            4       35"
      ]
     },
     "execution_count": 37,
     "metadata": {},
     "output_type": "execute_result"
    }
   ],
   "source": [
    "ids.head(11)"
   ]
  },
  {
   "cell_type": "code",
   "execution_count": 38,
   "metadata": {},
   "outputs": [
    {
     "name": "stdout",
     "output_type": "stream",
     "text": [
      "assignment completed without issue, all wells have a single filaname assignment\n",
      "filename associations are written to the ids xlsx file\n"
     ]
    }
   ],
   "source": [
    "ids = assoc_fname_well (ids, expfcs, ids_xlsx_path)"
   ]
  },
  {
   "cell_type": "markdown",
   "metadata": {},
   "source": [
    "### Now create some csv files"
   ]
  },
  {
   "cell_type": "code",
   "execution_count": 39,
   "metadata": {},
   "outputs": [],
   "source": [
    "def get_dataframe_from_fcs (desired_well, ids_frame):\n",
    "    \n",
    "    #get the index of the well you want in the ids frame\n",
    "    idx = ids_frame['well'] == desired_well\n",
    "    \n",
    "    #if the idx list is empty (no well matches), return None\n",
    "    if not any(idx):\n",
    "        return None\n",
    "    \n",
    "    #gotta get values, which is an array, hence the [0], to get the actual string inside the array\n",
    "    #because fcsparser only takes string input, can't deal with dataframe slices or arrays\n",
    "    path = ids_frame.loc[idx, 'file'].values[0]\n",
    "    \n",
    "    #use fcsparser to unpack fcs file to dataframe, get both the metadata and dataframe in case you want both\n",
    "    meta, data = fcsparser.parse(path, meta_data_only=False, reformat_meta=True)\n",
    "    \n",
    "    return meta, data"
   ]
  },
  {
   "cell_type": "code",
   "execution_count": 40,
   "metadata": {},
   "outputs": [],
   "source": [
    "def save_as_csv (well_data_dict, dir_to_save):\n",
    "    \n",
    "    for key in well_data_dict.keys():\n",
    "        #meta data stored in [0] of tuple, data in [1]\n",
    "        data = well_data_dict[key]\n",
    "        \n",
    "        #for entries that aren't matched\n",
    "        if data is None:\n",
    "            pass\n",
    "        #if it is a match\n",
    "        else:\n",
    "            data = data[1]\n",
    "            data.to_csv(dir_to_save + '/' + key + '.csv', index=False)\n",
    "        \n",
    "    return None"
   ]
  },
  {
   "cell_type": "code",
   "execution_count": 41,
   "metadata": {},
   "outputs": [],
   "source": [
    "wells = [i+j for i in ['A', 'B', 'C', 'D', 'E', 'F', 'G', 'H'] for j in ['1','2','3', '4', '5', '6', '7', '8', '9', '10', '11', '12']]"
   ]
  },
  {
   "cell_type": "code",
   "execution_count": 42,
   "metadata": {},
   "outputs": [],
   "source": [
    "well_data_dictionary = {well : get_dataframe_from_fcs(well, ids) for well in wells}"
   ]
  },
  {
   "cell_type": "code",
   "execution_count": 43,
   "metadata": {},
   "outputs": [],
   "source": [
    "save_as_csv(well_data_dictionary, dir_with_fcs_files_path)"
   ]
  },
  {
   "cell_type": "code",
   "execution_count": null,
   "metadata": {},
   "outputs": [],
   "source": []
  },
  {
   "cell_type": "code",
   "execution_count": null,
   "metadata": {},
   "outputs": [],
   "source": []
  }
 ],
 "metadata": {
  "kernelspec": {
   "display_name": "Python 3",
   "language": "python",
   "name": "python3"
  },
  "language_info": {
   "codemirror_mode": {
    "name": "ipython",
    "version": 3
   },
   "file_extension": ".py",
   "mimetype": "text/x-python",
   "name": "python",
   "nbconvert_exporter": "python",
   "pygments_lexer": "ipython3",
   "version": "3.6.7"
  }
 },
 "nbformat": 4,
 "nbformat_minor": 2
}
