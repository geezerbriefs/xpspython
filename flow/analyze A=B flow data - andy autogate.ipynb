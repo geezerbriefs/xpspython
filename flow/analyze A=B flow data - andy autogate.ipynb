{
 "cells": [
  {
   "cell_type": "code",
   "execution_count": 1,
   "metadata": {},
   "outputs": [],
   "source": [
    "# Standard imports \n",
    "import collections\n",
    "import glob\n",
    "import os\n",
    "import numpy as np\n",
    "import pandas as pd \n",
    "import matplotlib.pyplot as plt\n",
    "import seaborn as sns\n",
    "from matplotlib.backends.backend_pdf import PdfPages\n",
    "import scipy.stats as stats\n",
    "import matplotlib.pyplot as plt\n",
    "import matplotlib as mpl\n",
    "import seaborn as sns\n",
    "from cycler import cycler\n",
    "import numpy as np\n",
    "import time\n",
    "\n",
    "# Formatting to make the plots look a bit nicer. \n",
    "sns.set_context(\"talk\", font_scale=1.5, rc={\"lines.linewidth\": 3.0})\n",
    "sns.set_style(\"ticks\")\n",
    "sns.set_style({\"xtick.direction\": \"in\",\"ytick.direction\": \"in\"})\n",
    "mpl.rc('axes', prop_cycle=(cycler('color', ['r', 'k', 'b','g','y','m','c']) ))\n",
    "mpl.rc('text', usetex=False)\n",
    "#mpl.rc('font',**{'family':'sans-serif','sans-serif':['HelveticaNeueThin']})\n",
    "#plt.tick_params(top=False, bottom=False, right=False, left=False)\n",
    "tw = 1.5\n",
    "sns.set_style({\"xtick.major.size\": 6, \"ytick.major.size\": 6,\n",
    "               \"xtick.minor.size\": 4, \"ytick.minor.size\": 4,\n",
    "               'axes.labelsize': 24,\n",
    "               'xtick.major.width': tw, 'xtick.minor.width': tw,\n",
    "               'ytick.major.width': tw, 'ytick.minor.width': tw})\n",
    "\n",
    "mpl.rc('xtick', labelsize=18) \n",
    "mpl.rc('ytick', labelsize=18)\n",
    "mpl.rc('axes', linewidth=1.75)\n",
    "plt.gcf().subplots_adjust(bottom=0.15)\n",
    "sns.set_style({'axes.labelsize': 24})"
   ]
  },
  {
   "cell_type": "code",
   "execution_count": 2,
   "metadata": {},
   "outputs": [],
   "source": [
    "def gate(data, firstChannel, secondChannel, lowPercentile, highPercentile):\n",
    "    \"\"\"Main function used in the script. \n",
    "    Filter (gate) cells based on a percentile gating method. This function\n",
    "    takes the intersection of cells that are within the lowPercentile and\n",
    "    highPercentile you set for both channels and returns those cells for \n",
    "    further analysis. Channel must match the channel name on your tidy data file.\"\"\"\n",
    "\n",
    "    first = np.array(data[firstChannel])\n",
    "    second = np.array(data[secondChannel])\n",
    "\n",
    "    firstLow = np.percentile(first, lowPercentile)\n",
    "    firstHigh = np.percentile(first, highPercentile)\n",
    "    secondLow = np.percentile(second, lowPercentile)\n",
    "    secondHigh = np.percentile(second, highPercentile)\n",
    "\n",
    "    zipped = zip(first, second) \n",
    "\n",
    "    gated = []\n",
    "    ungated = []\n",
    "\n",
    "    gatingResults = []\n",
    "    for entry in zipped: \n",
    "        if firstLow < entry[0] < firstHigh: \n",
    "            if secondLow < entry[1] < secondHigh: \n",
    "                gated.append(entry) \n",
    "                gatingResults.append(1)\n",
    "            else: \n",
    "                ungated.append(entry)\n",
    "                gatingResults.append(0)\n",
    "        else:\n",
    "            ungated.append(entry)\n",
    "            gatingResults.append(0)\n",
    "\n",
    "    gatingResults = np.array(gatingResults)\n",
    "\n",
    "    data['Gates'] = gatingResults\n",
    "\n",
    "    return data"
   ]
  },
  {
   "cell_type": "code",
   "execution_count": 3,
   "metadata": {},
   "outputs": [],
   "source": [
    "def getGates(data, low_percentile, high_percentile, \n",
    "             first_channel='FSC-A', second_channel='SSC-A'):\n",
    "    \"\"\"It takes data, a csv file location\n",
    "    with your data in tidy format, low_percentile, your lower threshold, high_percentile,\n",
    "    your higher threshold, first_channel and second channel. The channels are defaulted to\n",
    "    FSC-A and SSC-A.\"\"\"\n",
    "\n",
    "    # Read in the data\n",
    "    df = pd.read_csv(data)\n",
    "    \n",
    "    # Get the intersection of cells on first channel and second channel.\n",
    "    gatedOutput = gate(df, first_channel, second_channel, low_percentile, high_percentile)\n",
    "    return gatedOutput"
   ]
  },
  {
   "cell_type": "code",
   "execution_count": 12,
   "metadata": {},
   "outputs": [],
   "source": [
    "\n",
    "def plotGating(data, output_name, output_directory, lowPercentile, highPercentile,\n",
    "              first_channel='FSC-A', second_channel='SSC-A'):\n",
    "    \"\"\" This function is if you want to check what your gating looks like. \n",
    "    It is a good idea to run this a few times per dataset to make sure all of the\n",
    "    flow cytometry data looks accurate. It defaults to assume you want to gate on\n",
    "    FSC-A and SSC-A, as these are the most likely to be used for \n",
    "    \"quality assurance.\"\"\"\n",
    "    \n",
    "    df = pd.read_csv(data)\n",
    "    #mask0 = df['mKate/APC-A'] > 100\n",
    "    gatedOutput = gate(df, first_channel, second_channel,\n",
    "        lowPercentile, highPercentile)\n",
    "    mask = gatedOutput['Gates'] == 1\n",
    "    \n",
    "    plt.figure(figsize=(8,8))\n",
    "    plt.loglog(df[first_channel], df[second_channel], '.', \n",
    "        markersize=6, rasterized=True, color='k')\n",
    "    plt.loglog(gatedOutput[~mask][first_channel], gatedOutput[~mask][second_channel], '.',\n",
    "    markersize=6, rasterized=True, color='k', basex=10, basey=10)\n",
    "    plt.loglog(gatedOutput[mask][first_channel], gatedOutput[mask][second_channel], '.',\n",
    "        markersize=6, rasterized=True, color='b', basex=10, basey=10)\n",
    "    plt.ylabel(second_channel)\n",
    "    plt.xlabel(first_channel)\n",
    "    plt.savefig(output_directory + output_name + '.png')\n",
    "    plt.close()"
   ]
  },
  {
   "cell_type": "code",
   "execution_count": 5,
   "metadata": {},
   "outputs": [],
   "source": [
    "def generate_csv_with_gates(file_name, output_name, plot_output_name, output_directory,\n",
    "                           low_percentile, high_percentile, first_channel, second_channel):\n",
    "    \n",
    "    data = getGates(file_name, low_percentile, high_percentile)\n",
    "    plotGating(file_name, output_name, plot_output_name, low_percentile, high_percentile)\n",
    "    \n",
    "    # Get all of the cells that have passed gating\n",
    "    # NOTE - it's frequently a good idea to remove all cells with a negative fluorescence. \n",
    "    # This was recommended by Justin Bois, so you know that it is as good as Gospel.\n",
    "    data_gated = data.loc[(data['Gates'] == 1)]\n",
    "    \n",
    "    # Write the data to a csv \n",
    "    data_gated.to_csv(output_directory + output_name + '.csv', index=False)"
   ]
  },
  {
   "cell_type": "code",
   "execution_count": 6,
   "metadata": {},
   "outputs": [],
   "source": [
    "def get_all_gates(file_directory, output_directory, plot_output_name,\n",
    "                  low_percentile, high_percentile, wells, \n",
    "                  first_channel='FSC-A', second_channel='SSC-A'):\n",
    "    all_files = glob.glob(file_directory)\n",
    "    all_files.sort()\n",
    "    for i in range(0, len(all_files)):\n",
    "        generate_csv_with_gates(all_files[i], wells[i],\n",
    "                                plot_output_name, output_directory, low_percentile,\n",
    "                               high_percentile, first_channel, second_channel)"
   ]
  },
  {
   "cell_type": "code",
   "execution_count": 15,
   "metadata": {},
   "outputs": [],
   "source": [
    "wells = [i+j for i in ['A', 'B', 'C', 'D', 'E', 'F', 'G', 'H'] for j in ['1','2','3', '4', '5', '6', '7', '8', '9', '10', '11', '12']]"
   ]
  },
  {
   "cell_type": "code",
   "execution_count": 13,
   "metadata": {},
   "outputs": [],
   "source": [
    "first = [i+j for i in ['A', 'B', 'C'] for j in ['1','2','3', '4', '5', '6', '7', '8', '9']]\n",
    "second = [i+j for i in ['D', 'E', 'F', 'G', 'H'] for j in ['1','2','3', '4', '5', '6', '7', '8']]\n",
    "\n",
    "wells_10 = first + second\n"
   ]
  },
  {
   "cell_type": "code",
   "execution_count": 18,
   "metadata": {},
   "outputs": [
    {
     "name": "stdout",
     "output_type": "stream",
     "text": [
      "94.32810735702515\n"
     ]
    }
   ],
   "source": [
    "start = time.time()\n",
    "\n",
    "# Call get_all_gates by pointing to\n",
    "# 1. your tidy data location (string of file loc)\n",
    "# 2. where you want gated files to go (string of file loc)\n",
    "# 3. where you want the plots with the gates to go (string of file loc)\n",
    "# 4. low percentile (int)\n",
    "# 5. high percentile (int)\n",
    "# 6. list of wells you want to use (list of strings)\n",
    "# 7. first_channel (name must match exactly to tidy column header, str format)\n",
    "# 8. second_channel (name must match exactly to tidy column header, str format)\n",
    "get_all_gates('../Local Data/20181009 top 4 A B cell vars A=B flow samples/23hr/*.csv',\n",
    "              '../Local Data/20181009 top 4 A B cell vars A=B flow samples/23hr/gated_data',\n",
    "              '../Local Data/20181009 top 4 A B cell vars A=B flow samples/23hr/gated_data',\n",
    "             40, 90, wells)\n",
    "end = time.time()\n",
    "print(end-start)"
   ]
  },
  {
   "cell_type": "code",
   "execution_count": null,
   "metadata": {},
   "outputs": [],
   "source": []
  }
 ],
 "metadata": {
  "kernelspec": {
   "display_name": "Python 3",
   "language": "python",
   "name": "python3"
  },
  "language_info": {
   "codemirror_mode": {
    "name": "ipython",
    "version": 3
   },
   "file_extension": ".py",
   "mimetype": "text/x-python",
   "name": "python",
   "nbconvert_exporter": "python",
   "pygments_lexer": "ipython3",
   "version": "3.6.7"
  }
 },
 "nbformat": 4,
 "nbformat_minor": 2
}
