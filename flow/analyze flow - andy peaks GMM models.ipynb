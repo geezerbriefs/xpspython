{
 "cells": [
  {
   "cell_type": "code",
   "execution_count": 178,
   "metadata": {},
   "outputs": [],
   "source": [
    "import collections\n",
    "import bisect\n",
    "import glob\n",
    "import os\n",
    "import numpy as np\n",
    "import pandas as pd\n",
    "import matplotlib.pyplot as plt\n",
    "import scipy.stats as stats\n",
    "import matplotlib.pyplot as plt\n",
    "import matplotlib as mpl\n",
    "import scipy.signal as signal\n",
    "\n",
    "from sklearn.neighbors import KernelDensity\n",
    "from sklearn.mixture import GaussianMixture"
   ]
  },
  {
   "cell_type": "code",
   "execution_count": 179,
   "metadata": {},
   "outputs": [],
   "source": [
    "#plotting things\n",
    "\n",
    "#%matplotlib qt5 -- I don't know what this is\n",
    "import matplotlib.pyplot as plt\n",
    "import matplotlib as mpl\n",
    "import seaborn as sns\n",
    "\n",
    "from cycler import cycler\n",
    "\n",
    "\n",
    "#All of Anandh's customized seaborn/matplotlib settings\n",
    "\n",
    "sns.set_context(\"talk\", font_scale=1.5, rc={\"lines.linewidth\": 1.5})\n",
    "sns.set_style(\"ticks\")\n",
    "sns.set_style({\"xtick.direction\": \"in\",\"ytick.direction\": \"in\"})\n",
    "\n",
    "#%config InlineBackend.figure_f.ormats=['svg']\n",
    "\n",
    "mpl.rc('axes', prop_cycle=(cycler('color', ['r', 'k', 'b','g','y','m','c']) ))\n",
    "\n",
    "mpl.rcParams['pdf.fonttype'] = 42\n",
    "mpl.rcParams['ps.fonttype'] = 42\n",
    "\n",
    "#mpl.rc('text', usetex=False)\n",
    "#mpl.rc('text.latex', preamble=r'\\usepackage{helvet}\n",
    "#\\renewcommand\\familydefault{\\sfdefault}\\usepackage{sansmath}\\sansmath')\n",
    "\n",
    "    #If you want to use a different font\n",
    "# mpl.rc('font',**{'family':'sans-serif','sans-serif':['Helvetica'], \n",
    "#                  'serif': ['Helvetica']})\n",
    "\n",
    "tw = 1.5\n",
    "sns.set_style({\"xtick.major.size\": 3, \"ytick.major.size\": 3,\n",
    "               \"xtick.minor.size\": 2, \"ytick.minor.size\": 2,\n",
    "               'axes.labelsize': 16, 'axes.titlesize': 16,\n",
    "               'xtick.major.width': tw, 'xtick.minor.width': tw,\n",
    "               'ytick.major.width': tw, 'ytick.minor.width': tw})\n",
    "\n",
    "mpl.rc('xtick', labelsize=14) \n",
    "mpl.rc('ytick', labelsize=14)\n",
    "mpl.rc('axes', linewidth=1.5)\n",
    "mpl.rc('legend', fontsize=14)\n",
    "mpl.rc('figure', figsize=(9,8))"
   ]
  },
  {
   "cell_type": "code",
   "execution_count": 180,
   "metadata": {},
   "outputs": [],
   "source": [
    "def get_values(file_directory, channel='GFP/FITC-A', gate = None):\n",
    "    '''\n",
    "    Reads in the values from a specific channel for a given flow file.\n",
    "    Defaults to taking GFP/FITC-A. If you want to get the values inside a certain gate,\n",
    "    the gate argument is the STR name of the column with the gate 0/1 values; defaults to None\n",
    "    '''\n",
    "    flow_data = pd.read_csv(file_directory)\n",
    "    \n",
    "    #allowing us to use a gate we have assigned using other scripts\n",
    "    #if no gate desired\n",
    "    if gate==None:\n",
    "        pass\n",
    "    #if you give it a gate, subselect all the data where the gate == 1\n",
    "    else:\n",
    "        flow_data = flow_data.loc[flow_data[gate] == 1, :]\n",
    "    \n",
    "    #apply the log transform\n",
    "    flow_data_channel_values = np.log10(flow_data[channel].values)\n",
    "    \n",
    "    return flow_data_channel_values"
   ]
  },
  {
   "cell_type": "code",
   "execution_count": 181,
   "metadata": {},
   "outputs": [],
   "source": [
    "def make_df(file_directory, channel='GFP/FITC-A', gate = None):\n",
    "    '''\n",
    "    Creates a dataframe from the given file directory. Reads in all csvs, \n",
    "    extracts the data from the channel of interest (defaults to GFP/FITC-A), \n",
    "    and returns one dataframe. If you want to get the values inside a certain gate,\n",
    "    the gate argument is the STR name of the column with the gate 0/1 values; defaults to None\n",
    "    '''\n",
    "    all_files = glob.glob(file_directory)\n",
    "    all_files.sort()\n",
    "    \n",
    "    all_data = []\n",
    "    for file in all_files:\n",
    "        data = get_values(file, channel, gate)\n",
    "        all_data.append(data)\n",
    "    \n",
    "    labels = []\n",
    "    for i in range(0, len(all_files)):\n",
    "        #this won't get the well label right in the output df unless the file format is:\n",
    "        #'../../../..\\'(letter)(number).csv'\n",
    "        #the forward slash is from glob filenames. this can't handle 'gated_data' at the beginning of the filename\n",
    "        mini_label = str(all_files[i].split('/')[-1].split('\\\\')[1].split('.')[0])\n",
    "        #print(mini_label)\n",
    "        label = [mini_label]*len(all_data[i])\n",
    "        labels.append(label)\n",
    "    \n",
    "    flat_all_data = [item for sublist in all_data for item in sublist]\n",
    "    flat_labels = [item for sublist in labels for item in sublist]\n",
    "    \n",
    "    df = pd.DataFrame(dict(well=flat_labels, log10values=flat_all_data))\n",
    "    return df"
   ]
  },
  {
   "cell_type": "code",
   "execution_count": 193,
   "metadata": {},
   "outputs": [],
   "source": [
    "def get_peak_locations_from_KDE_fit(data):\n",
    "    ''' Performs a KDE fit and then uses scipy.signal.find_peaks_cwt to get peaks.\n",
    "        The KDE bandwith parameter is critical, and 0.25 has worked well in the past.\n",
    "        If it feels like you are missing many peak calls, decrease the bandwith. If it feels\n",
    "        like you are having too many peak calls, increase the bandwith. \n",
    "        \n",
    "        Don't change the bandwith without good reason, it took awhile to decide on 0.25. '''\n",
    "    \n",
    "    kde = KernelDensity(bandwidth=0.25, kernel='gaussian')\n",
    "\n",
    "    kde.fit(data[:, None]);\n",
    "\n",
    "    x_range = np.linspace(0, 6, 1200)\n",
    "    kde_estimates = np.exp(kde.score_samples(x_range[:, None]))\n",
    "\n",
    "    #Use the SciPy function to get the KDE peaks\n",
    "    peaks = signal.find_peaks_cwt(kde_estimates, np.arange(30, 200), min_snr=1)\n",
    "\n",
    "    means_init = []\n",
    "    \n",
    "    for peak in peaks:\n",
    "        means_init.append(x_range[peak])\n",
    "    \n",
    "    return means_init"
   ]
  },
  {
   "cell_type": "code",
   "execution_count": 183,
   "metadata": {},
   "outputs": [],
   "source": [
    "def fit_GMM_KDE(data, peaks, threshold = 0.01): \n",
    "    \"\"\"Generate a Gaussian mixture model from the output\n",
    "    of a Gaussian Kernel Density Estimation. \n",
    "    Outputs the mean of the on peak, fraction on, mean of the off peak, \n",
    "    and fraction off. This version of the code assumes all cells not in the on peak are off!\n",
    "    This is obviously only a good assumption for uni/bimodal data. If you have multimodal data,\n",
    "    do not use this code.\"\"\"\n",
    "    \n",
    "    data = data.reshape(len(data), 1)\n",
    "\n",
    "    peaks = np.array(peaks).reshape(len(peaks), 1)\n",
    "    opt_gmm = GaussianMixture(n_components = len(peaks) , means_init = peaks).fit(data)  \n",
    "\n",
    "    labels = opt_gmm.predict(data)\n",
    "    labels = np.ravel(labels.reshape(len(labels), 1))\n",
    "\n",
    "    means = opt_gmm.means_\n",
    "    \n",
    "    #this df contains each measurement value and the gaussian it is associated with.\n",
    "    #you can use this to pull out the measurements that fall into the desired gaussian for gating.\n",
    "    df = pd.DataFrame({'fluor value': np.ravel(data), 'which_gaussian': labels})\n",
    "\n",
    "\n",
    "    #df.head(10)\n",
    "    counts = []\n",
    "    means = []\n",
    "\n",
    "\n",
    "\n",
    "    for i in range(0, len(peaks)):\n",
    "        df_distro = df.loc[df['which_gaussian']==i]\n",
    "        counts.append(len(df_distro))\n",
    "        means.append(np.mean(df_distro['fluor value'].values))\n",
    "\n",
    "    print('peaks identified in the kde fit of data: ', peaks)\n",
    "    print('means of the gaussians the GMM optimized: ', means)\n",
    "    print('counts in each gaussian: ', counts)\n",
    "    total = len(df)\n",
    "    # print('total: ', total)\n",
    "\n",
    "    fractions = np.array(counts)/total\n",
    "    print('raw fractions of data in each gaussian: ', fractions)\n",
    "\n",
    "    ##Initializing corrected lists of means and fractions of subpopulations\n",
    "    GMM_accepted_means = []\n",
    "\n",
    "    GMM_corrected_fractions = []\n",
    "\n",
    "    for i in range(0, len(fractions)):\n",
    "        if fractions[i] > threshold: \n",
    "            GMM_accepted_means.append(means[i])\n",
    "            GMM_corrected_fractions.append(fractions[i])    \n",
    "\n",
    "    print('means of gaussians that contain fraction of data above thresh ({}): '.format(threshold), GMM_accepted_means)\n",
    "    print('fraction of data in above-thresh gaussians: ', GMM_corrected_fractions)\n",
    "\n",
    "    #uses the gaussian with the highest mean (the last one in the accepted means) as the ON gaussian\n",
    "    index_of_on = GMM_accepted_means.index(max(GMM_accepted_means))\n",
    "\n",
    "    #the threshold collects all the fractions that are above threshold, meaning its possible for the sum\n",
    "    #of the collected fractions to be less than 1. This is fine because this line tosses everything except\n",
    "    #the fraction of measurements in the ON gaussian and calculates the fraction in the OFF as 1-this, \n",
    "    #saying that any sub-threshold counts above this are OFF and everything below this is also OFF\n",
    "    fraction_of_highest_peak = GMM_corrected_fractions[index_of_on]\n",
    "\n",
    "    fraction_off = 1 - fraction_of_highest_peak\n",
    "\n",
    "#     print('fraction in highest gaussian: ', fraction_of_highest_peak)\n",
    "#     print('1 - fraction_in_highest_gaussian: ', fraction_off)\n",
    "\n",
    "    mean_of_highest_peak = GMM_accepted_means[index_of_on]\n",
    "\n",
    "    #because there can be many possible above-threshold means that are OFF (below the highest mean-ed gaussian (ON) )\n",
    "    #we want to come up with an appropriate summary statistic for their value. This can be their mean mean, weighted by\n",
    "    #the fraction of the data they represent\n",
    "    #This means we multiply the mean of each non-ON gaussian by the fraction of measurements in that gaussian, then\n",
    "    #take the average of these weighted values and divide by the total fraction of data represented in all these \n",
    "    #gaussians to get the weighted average value for all the non-ON data.\n",
    "    weighted_peak_means = []\n",
    "    fracs_to_use = []\n",
    "    for i in range(0, len(GMM_corrected_fractions)):\n",
    "        #if its the one corresponding to the highest gaussian, do nothing\n",
    "        if i == index_of_on:\n",
    "            pass\n",
    "        #otherwise, compute the weighted average using this gaussian's data too.\n",
    "        else: \n",
    "            #we retransform out of log space because avg of 2 and 3 in log is 2.5,\n",
    "            #but real average is scaled by log 10 and avg value is not 10**2.5\n",
    "            weighted_mean = GMM_corrected_fractions[i] * np.power(10, GMM_accepted_means[i])\n",
    "            fracs_to_use.append(GMM_corrected_fractions[i])\n",
    "            weighted_peak_means.append(weighted_mean)\n",
    "            \n",
    "\n",
    "    mean_of_off_population = np.log10(np.sum(weighted_peak_means)/np.sum(fracs_to_use))\n",
    "\n",
    "    return mean_of_highest_peak, fraction_of_highest_peak, mean_of_off_population, fraction_off, df"
   ]
  },
  {
   "cell_type": "code",
   "execution_count": 184,
   "metadata": {},
   "outputs": [],
   "source": [
    "def fit_GMM_KDE_wrapper (data):\n",
    "    \"\"\"Wrapper function to get both the peaks from a KDE fit, and then \n",
    "    from the Gaussian mixture model. Returns the mean of the broken cells, \n",
    "    and the fraction of broken cells.\"\"\"\n",
    "    \n",
    "    peak_locations = get_peak_locations_from_KDE_fit(data)\n",
    "    \n",
    "    mean_of_highest_peak, fraction_of_highest_peak, \\\n",
    "        mean_of_off_population, fraction_off, \\\n",
    "        df_gaussian_distros = fit_GMM_KDE(data, peak_locations, threshold = 0.01)\n",
    "    \n",
    "    return mean_of_highest_peak, fraction_of_highest_peak, mean_of_off_population, fraction_off, df_gaussian_distros"
   ]
  },
  {
   "cell_type": "code",
   "execution_count": 185,
   "metadata": {},
   "outputs": [],
   "source": [
    "def GMM_method(df_, wells, gate = None):\n",
    "    '''Wrapper function for the the entire generation of the final output df. \n",
    "    Takes the input dataframe and a list of all wells you want to perform GMM fitting on.\n",
    "    Adds a column for gate used, which is a shared input variable for the data INPUT stuff\n",
    "    and this data analysis stuff.\n",
    "    '''\n",
    "    means_on = []\n",
    "    fractions_on = []\n",
    "    means_off = []\n",
    "    fractions_off = []\n",
    "    wells_df = []\n",
    "    dfs_gaussian_distros = []\n",
    "    \n",
    "    for well in wells:\n",
    "        data = df_.loc[df_['well'] == well]\n",
    "        \n",
    "        vals = data['log10values'].values\n",
    "        \n",
    "        mean_of_highest_peak, fraction_of_highest_peak, mean_of_off_population, \\\n",
    "                        fraction_off, df_gaussian_distros = fit_GMM_KDE_wrapper(vals)\n",
    "        \n",
    "        means_on.append(mean_of_highest_peak)\n",
    "        fractions_on.append(fraction_of_highest_peak)\n",
    "        means_off.append(mean_of_off_population)\n",
    "        fractions_off.append(fraction_off)\n",
    "        dfs_gaussian_distros.append(df_gaussian_distros)\n",
    "        wells_df.append(well) \n",
    "\n",
    "    plt_df = pd.DataFrame({'mean ON': means_on, 'fraction ON' : fractions_on,\n",
    "                           'mean OFF':means_off, 'fraction OFF' : fractions_off,\n",
    "                           'well': wells_df})#, 'df_gaussian_distros': dfs_gaussian_distros})\n",
    "                                                #dont need ^^^ these anymore now that I've implemented GMM gating\n",
    "                                                #somewhere else\n",
    "    plt_df['gate'] = gate\n",
    "    \n",
    "    return plt_df"
   ]
  },
  {
   "cell_type": "code",
   "execution_count": 218,
   "metadata": {},
   "outputs": [],
   "source": [
    "def run_GMM_frac_analysis (file_exp, channel, wells, gate = None):\n",
    "    \"\"\"\n",
    "    Runs the whole GMM fractional analysis on a bunch of files, getting you location and fraction ON and OFF\n",
    "    in a particular channel\n",
    "    \n",
    "    Takes:\n",
    "    \n",
    "    file_exp  :  regular expression that tells glob what files to run\n",
    "    channel  :  the fluorescence channel data you want to analyze\n",
    "    wells  :  the list of wells you want to analyze, allows analysis of subset of the files in file_exp\n",
    "    gate  :  the gate inside which you want to do the analysis, DEF to None\n",
    "    \n",
    "    ------------\n",
    "    Returns\n",
    "    \n",
    "    output_df  :  a dataframe that has mean locations ON/OFF, fractions of reads in the ON/OFF gaussians,\n",
    "                    the corresponding well, the gate in which the analysis was applied to this well\n",
    "    \"\"\"\n",
    "    \n",
    "    #Read in the tidied data generated by any of your gating scripts\n",
    "    # The input for make_df is the directory that you want automatic fractions generated for. \n",
    "    input_df = make_df(file_exp, channel=channel, gate=gate)\n",
    "    \n",
    "    input_df = input_df.dropna()\n",
    "    \n",
    "    #now we have our mature input data, channel selected and gated\n",
    "    \n",
    "    #check if it looks right\n",
    "    print(input_df.head())\n",
    "    \n",
    "    ######## now do the analysis #########\n",
    "    \n",
    "    # Generate an output_df by running GMM method. The inputs are the input_df and\n",
    "    # the list of all wells you want generated\n",
    "    output_df = GMM_method(input_df, wells, gate=gate)\n",
    "    \n",
    "    return output_df"
   ]
  },
  {
   "cell_type": "code",
   "execution_count": 219,
   "metadata": {},
   "outputs": [],
   "source": [
    "# Initialize the list of wells that you have data files for and wish to fit with GMMs\n",
    "first = [i+j for i in ['A', 'B', 'C'] for j in ['1','2','3', '4', '5', '6', '7', '8', '9']]\n",
    "second = [i+j for i in ['D', 'E', 'F', 'G', 'H'] for j in ['1','2','3', '4', '5', '6', '7', '8']]\n",
    "\n",
    "wells_10 = first + second\n",
    "\n",
    "\n",
    "#all 96 wells\n",
    "wells = [i+j for i in ['A', 'B', 'C', 'D', 'E', 'F', 'G', 'H'] for j in ['1','2','3', '4', '5', '6', '7', '8', '9', '10', '11', '12']]"
   ]
  },
  {
   "cell_type": "code",
   "execution_count": 220,
   "metadata": {},
   "outputs": [],
   "source": [
    "#set some static variables\n",
    "\n",
    "channels = {'syto' : 'mKate/APC-A', 'yfp' : 'GFP/FITC-A', 'bfp' : 'CFP/VioBlue-A'}\n"
   ]
  },
  {
   "cell_type": "code",
   "execution_count": 237,
   "metadata": {},
   "outputs": [],
   "source": [
    "#set important variables\n",
    "tpt = '0hr'\n",
    "f = '../../Local Data/20181009 top 4 A B cell vars A=B flow samples/' + tpt + '/*.csv'\n",
    "\n",
    "key = 'yfp'\n",
    "c = channels[key]\n",
    "\n",
    "w = wells_10\n",
    "\n",
    "gt = ['mKate/APC-A_GMMgate', 'AH_perc_gate']"
   ]
  },
  {
   "cell_type": "code",
   "execution_count": 238,
   "metadata": {},
   "outputs": [
    {
     "name": "stderr",
     "output_type": "stream",
     "text": [
      "C:\\Users\\geeze\\Anaconda3\\lib\\site-packages\\ipykernel_launcher.py:18: RuntimeWarning: invalid value encountered in log10\n"
     ]
    },
    {
     "name": "stdout",
     "output_type": "stream",
     "text": [
      "  well  log10values\n",
      "0   A1     1.989833\n",
      "1   A1     1.940255\n",
      "2   A1     3.963069\n",
      "3   A1     1.554798\n",
      "4   A1     3.926121\n",
      "peaks identified in the kde fit of data:  [[1.76146789]\n",
      " [4.16346956]]\n",
      "means of the gaussians the GMM optimized:  [1.61623358496242, 3.6969027661479714]\n",
      "counts in each gaussian:  [721, 36]\n",
      "raw fractions of data in each gaussian:  [0.95244386 0.04755614]\n",
      "means of gaussians that contain fraction of data above thresh (0.01):  [1.61623358496242, 3.6969027661479714]\n",
      "fraction of data in above-thresh gaussians:  [0.952443857331572, 0.047556142668428]\n"
     ]
    },
    {
     "name": "stderr",
     "output_type": "stream",
     "text": [
      "C:\\Users\\geeze\\Anaconda3\\lib\\site-packages\\scipy\\stats\\stats.py:1713: FutureWarning: Using a non-tuple sequence for multidimensional indexing is deprecated; use `arr[tuple(seq)]` instead of `arr[seq]`. In the future this will be interpreted as an array index, `arr[np.array(seq)]`, which will result either in an error or a different result.\n",
      "  return np.add.reduce(sorted[indexer] * weights, axis=axis) / sumval\n",
      "C:\\Users\\geeze\\Anaconda3\\lib\\site-packages\\scipy\\stats\\stats.py:1713: FutureWarning: Using a non-tuple sequence for multidimensional indexing is deprecated; use `arr[tuple(seq)]` instead of `arr[seq]`. In the future this will be interpreted as an array index, `arr[np.array(seq)]`, which will result either in an error or a different result.\n",
      "  return np.add.reduce(sorted[indexer] * weights, axis=axis) / sumval\n"
     ]
    },
    {
     "name": "stdout",
     "output_type": "stream",
     "text": [
      "peaks identified in the kde fit of data:  [[2.22185154]\n",
      " [3.79316097]]\n",
      "means of the gaussians the GMM optimized:  [2.023583500762975, 3.8646389793268563]\n",
      "counts in each gaussian:  [4341, 469]\n",
      "raw fractions of data in each gaussian:  [0.9024948 0.0975052]\n",
      "means of gaussians that contain fraction of data above thresh (0.01):  [2.023583500762975, 3.8646389793268563]\n",
      "fraction of data in above-thresh gaussians:  [0.9024948024948025, 0.09750519750519751]\n"
     ]
    },
    {
     "name": "stderr",
     "output_type": "stream",
     "text": [
      "C:\\Users\\geeze\\Anaconda3\\lib\\site-packages\\scipy\\stats\\stats.py:1713: FutureWarning: Using a non-tuple sequence for multidimensional indexing is deprecated; use `arr[tuple(seq)]` instead of `arr[seq]`. In the future this will be interpreted as an array index, `arr[np.array(seq)]`, which will result either in an error or a different result.\n",
      "  return np.add.reduce(sorted[indexer] * weights, axis=axis) / sumval\n"
     ]
    },
    {
     "name": "stdout",
     "output_type": "stream",
     "text": [
      "peaks identified in the kde fit of data:  [[2.35195997]\n",
      " [3.81818182]]\n",
      "means of the gaussians the GMM optimized:  [2.155375985317617, 3.8741303155627267]\n",
      "counts in each gaussian:  [4152, 441]\n",
      "raw fractions of data in each gaussian:  [0.90398432 0.09601568]\n",
      "means of gaussians that contain fraction of data above thresh (0.01):  [2.155375985317617, 3.8741303155627267]\n",
      "fraction of data in above-thresh gaussians:  [0.9039843239712606, 0.09601567602873938]\n"
     ]
    },
    {
     "name": "stderr",
     "output_type": "stream",
     "text": [
      "C:\\Users\\geeze\\Anaconda3\\lib\\site-packages\\scipy\\stats\\stats.py:1713: FutureWarning: Using a non-tuple sequence for multidimensional indexing is deprecated; use `arr[tuple(seq)]` instead of `arr[seq]`. In the future this will be interpreted as an array index, `arr[np.array(seq)]`, which will result either in an error or a different result.\n",
      "  return np.add.reduce(sorted[indexer] * weights, axis=axis) / sumval\n"
     ]
    },
    {
     "name": "stdout",
     "output_type": "stream",
     "text": [
      "peaks identified in the kde fit of data:  [[2.35696414]\n",
      " [3.81818182]]\n",
      "means of the gaussians the GMM optimized:  [2.2290363490810043, 2.646384326492536]\n",
      "counts in each gaussian:  [3356, 878]\n",
      "raw fractions of data in each gaussian:  [0.79263108 0.20736892]\n",
      "means of gaussians that contain fraction of data above thresh (0.01):  [2.2290363490810043, 2.646384326492536]\n",
      "fraction of data in above-thresh gaussians:  [0.7926310817194142, 0.20736891828058573]\n"
     ]
    },
    {
     "name": "stderr",
     "output_type": "stream",
     "text": [
      "C:\\Users\\geeze\\Anaconda3\\lib\\site-packages\\scipy\\stats\\stats.py:1713: FutureWarning: Using a non-tuple sequence for multidimensional indexing is deprecated; use `arr[tuple(seq)]` instead of `arr[seq]`. In the future this will be interpreted as an array index, `arr[np.array(seq)]`, which will result either in an error or a different result.\n",
      "  return np.add.reduce(sorted[indexer] * weights, axis=axis) / sumval\n"
     ]
    },
    {
     "name": "stdout",
     "output_type": "stream",
     "text": [
      "peaks identified in the kde fit of data:  [[2.37197665]\n",
      " [3.85821518]]\n",
      "means of the gaussians the GMM optimized:  [2.1783508506028184, 3.931514397566992]\n",
      "counts in each gaussian:  [3614, 351]\n",
      "raw fractions of data in each gaussian:  [0.91147541 0.08852459]\n",
      "means of gaussians that contain fraction of data above thresh (0.01):  [2.1783508506028184, 3.931514397566992]\n",
      "fraction of data in above-thresh gaussians:  [0.9114754098360656, 0.08852459016393442]\n"
     ]
    },
    {
     "name": "stderr",
     "output_type": "stream",
     "text": [
      "C:\\Users\\geeze\\Anaconda3\\lib\\site-packages\\scipy\\stats\\stats.py:1713: FutureWarning: Using a non-tuple sequence for multidimensional indexing is deprecated; use `arr[tuple(seq)]` instead of `arr[seq]`. In the future this will be interpreted as an array index, `arr[np.array(seq)]`, which will result either in an error or a different result.\n",
      "  return np.add.reduce(sorted[indexer] * weights, axis=axis) / sumval\n"
     ]
    },
    {
     "name": "stdout",
     "output_type": "stream",
     "text": [
      "peaks identified in the kde fit of data:  [[2.36697248]\n",
      " [3.81317765]]\n",
      "means of the gaussians the GMM optimized:  [2.2558892409176945, 2.671243812417896]\n",
      "counts in each gaussian:  [2764, 708]\n",
      "raw fractions of data in each gaussian:  [0.79608295 0.20391705]\n",
      "means of gaussians that contain fraction of data above thresh (0.01):  [2.2558892409176945, 2.671243812417896]\n",
      "fraction of data in above-thresh gaussians:  [0.7960829493087558, 0.20391705069124424]\n"
     ]
    },
    {
     "name": "stderr",
     "output_type": "stream",
     "text": [
      "C:\\Users\\geeze\\Anaconda3\\lib\\site-packages\\scipy\\stats\\stats.py:1713: FutureWarning: Using a non-tuple sequence for multidimensional indexing is deprecated; use `arr[tuple(seq)]` instead of `arr[seq]`. In the future this will be interpreted as an array index, `arr[np.array(seq)]`, which will result either in an error or a different result.\n",
      "  return np.add.reduce(sorted[indexer] * weights, axis=axis) / sumval\n"
     ]
    },
    {
     "name": "stdout",
     "output_type": "stream",
     "text": [
      "peaks identified in the kde fit of data:  [[2.35696414]\n",
      " [3.85821518]]\n",
      "means of the gaussians the GMM optimized:  [2.166821487496731, 3.938114824306223]\n",
      "counts in each gaussian:  [3180, 320]\n",
      "raw fractions of data in each gaussian:  [0.90857143 0.09142857]\n",
      "means of gaussians that contain fraction of data above thresh (0.01):  [2.166821487496731, 3.938114824306223]\n",
      "fraction of data in above-thresh gaussians:  [0.9085714285714286, 0.09142857142857143]\n"
     ]
    },
    {
     "name": "stderr",
     "output_type": "stream",
     "text": [
      "C:\\Users\\geeze\\Anaconda3\\lib\\site-packages\\scipy\\stats\\stats.py:1713: FutureWarning: Using a non-tuple sequence for multidimensional indexing is deprecated; use `arr[tuple(seq)]` instead of `arr[seq]`. In the future this will be interpreted as an array index, `arr[np.array(seq)]`, which will result either in an error or a different result.\n",
      "  return np.add.reduce(sorted[indexer] * weights, axis=axis) / sumval\n"
     ]
    },
    {
     "name": "stdout",
     "output_type": "stream",
     "text": [
      "peaks identified in the kde fit of data:  [[2.37698082]\n",
      " [3.87823186]]\n",
      "means of the gaussians the GMM optimized:  [2.292337044797684, 2.4122413513657177]\n",
      "counts in each gaussian:  [2850, 951]\n",
      "raw fractions of data in each gaussian:  [0.74980268 0.25019732]\n",
      "means of gaussians that contain fraction of data above thresh (0.01):  [2.292337044797684, 2.4122413513657177]\n",
      "fraction of data in above-thresh gaussians:  [0.749802683504341, 0.250197316495659]\n"
     ]
    },
    {
     "name": "stderr",
     "output_type": "stream",
     "text": [
      "C:\\Users\\geeze\\Anaconda3\\lib\\site-packages\\scipy\\stats\\stats.py:1713: FutureWarning: Using a non-tuple sequence for multidimensional indexing is deprecated; use `arr[tuple(seq)]` instead of `arr[seq]`. In the future this will be interpreted as an array index, `arr[np.array(seq)]`, which will result either in an error or a different result.\n",
      "  return np.add.reduce(sorted[indexer] * weights, axis=axis) / sumval\n",
      "C:\\Users\\geeze\\Anaconda3\\lib\\site-packages\\scipy\\stats\\stats.py:1713: FutureWarning: Using a non-tuple sequence for multidimensional indexing is deprecated; use `arr[tuple(seq)]` instead of `arr[seq]`. In the future this will be interpreted as an array index, `arr[np.array(seq)]`, which will result either in an error or a different result.\n",
      "  return np.add.reduce(sorted[indexer] * weights, axis=axis) / sumval\n"
     ]
    },
    {
     "name": "stdout",
     "output_type": "stream",
     "text": [
      "peaks identified in the kde fit of data:  [[2.37197665]\n",
      " [3.84320267]]\n",
      "means of the gaussians the GMM optimized:  [2.265283279722467, 2.6471733273573324]\n",
      "counts in each gaussian:  [6518, 2111]\n",
      "raw fractions of data in each gaussian:  [0.75535983 0.24464017]\n",
      "means of gaussians that contain fraction of data above thresh (0.01):  [2.265283279722467, 2.6471733273573324]\n",
      "fraction of data in above-thresh gaussians:  [0.7553598331208715, 0.2446401668791285]\n",
      "peaks identified in the kde fit of data:  [[1.79649708]\n",
      " [3.95329441]]\n",
      "means of the gaussians the GMM optimized:  [1.6894023968703693, 3.711816751047623]\n",
      "counts in each gaussian:  [839, 60]\n",
      "raw fractions of data in each gaussian:  [0.93325918 0.06674082]\n",
      "means of gaussians that contain fraction of data above thresh (0.01):  [1.6894023968703693, 3.711816751047623]\n",
      "fraction of data in above-thresh gaussians:  [0.9332591768631813, 0.06674082313681869]\n"
     ]
    },
    {
     "name": "stderr",
     "output_type": "stream",
     "text": [
      "C:\\Users\\geeze\\Anaconda3\\lib\\site-packages\\scipy\\stats\\stats.py:1713: FutureWarning: Using a non-tuple sequence for multidimensional indexing is deprecated; use `arr[tuple(seq)]` instead of `arr[seq]`. In the future this will be interpreted as an array index, `arr[np.array(seq)]`, which will result either in an error or a different result.\n",
      "  return np.add.reduce(sorted[indexer] * weights, axis=axis) / sumval\n"
     ]
    },
    {
     "name": "stdout",
     "output_type": "stream",
     "text": [
      "peaks identified in the kde fit of data:  [[2.25187656]\n",
      " [3.81818182]]\n",
      "means of the gaussians the GMM optimized:  [2.0515241124964123, 3.8712180204041426]\n",
      "counts in each gaussian:  [3141, 380]\n",
      "raw fractions of data in each gaussian:  [0.89207611 0.10792389]\n",
      "means of gaussians that contain fraction of data above thresh (0.01):  [2.0515241124964123, 3.8712180204041426]\n",
      "fraction of data in above-thresh gaussians:  [0.8920761147401306, 0.10792388525986936]\n"
     ]
    },
    {
     "name": "stderr",
     "output_type": "stream",
     "text": [
      "C:\\Users\\geeze\\Anaconda3\\lib\\site-packages\\scipy\\stats\\stats.py:1713: FutureWarning: Using a non-tuple sequence for multidimensional indexing is deprecated; use `arr[tuple(seq)]` instead of `arr[seq]`. In the future this will be interpreted as an array index, `arr[np.array(seq)]`, which will result either in an error or a different result.\n",
      "  return np.add.reduce(sorted[indexer] * weights, axis=axis) / sumval\n"
     ]
    },
    {
     "name": "stdout",
     "output_type": "stream",
     "text": [
      "peaks identified in the kde fit of data:  [[2.34195163]\n",
      " [3.89824854]]\n",
      "means of the gaussians the GMM optimized:  [2.23395424413938, 2.433663022596165]\n",
      "counts in each gaussian:  [3396, 944]\n",
      "raw fractions of data in each gaussian:  [0.78248848 0.21751152]\n",
      "means of gaussians that contain fraction of data above thresh (0.01):  [2.23395424413938, 2.433663022596165]\n",
      "fraction of data in above-thresh gaussians:  [0.7824884792626728, 0.21751152073732719]\n"
     ]
    },
    {
     "name": "stderr",
     "output_type": "stream",
     "text": [
      "C:\\Users\\geeze\\Anaconda3\\lib\\site-packages\\scipy\\stats\\stats.py:1713: FutureWarning: Using a non-tuple sequence for multidimensional indexing is deprecated; use `arr[tuple(seq)]` instead of `arr[seq]`. In the future this will be interpreted as an array index, `arr[np.array(seq)]`, which will result either in an error or a different result.\n",
      "  return np.add.reduce(sorted[indexer] * weights, axis=axis) / sumval\n"
     ]
    },
    {
     "name": "stdout",
     "output_type": "stream",
     "text": [
      "peaks identified in the kde fit of data:  [[2.37698082]\n",
      " [3.81818182]]\n",
      "means of the gaussians the GMM optimized:  [2.159091718629672, 3.8106833860267435]\n",
      "counts in each gaussian:  [2611, 311]\n",
      "raw fractions of data in each gaussian:  [0.89356605 0.10643395]\n",
      "means of gaussians that contain fraction of data above thresh (0.01):  [2.159091718629672, 3.8106833860267435]\n",
      "fraction of data in above-thresh gaussians:  [0.8935660506502395, 0.10643394934976044]\n"
     ]
    },
    {
     "name": "stderr",
     "output_type": "stream",
     "text": [
      "C:\\Users\\geeze\\Anaconda3\\lib\\site-packages\\scipy\\stats\\stats.py:1713: FutureWarning: Using a non-tuple sequence for multidimensional indexing is deprecated; use `arr[tuple(seq)]` instead of `arr[seq]`. In the future this will be interpreted as an array index, `arr[np.array(seq)]`, which will result either in an error or a different result.\n",
      "  return np.add.reduce(sorted[indexer] * weights, axis=axis) / sumval\n"
     ]
    },
    {
     "name": "stdout",
     "output_type": "stream",
     "text": [
      "peaks identified in the kde fit of data:  [[2.36196831]\n",
      " [3.81317765]]\n",
      "means of the gaussians the GMM optimized:  [2.260092034145289, 2.5256356187396136]\n",
      "counts in each gaussian:  [3138, 864]\n",
      "raw fractions of data in each gaussian:  [0.78410795 0.21589205]\n",
      "means of gaussians that contain fraction of data above thresh (0.01):  [2.260092034145289, 2.5256356187396136]\n",
      "fraction of data in above-thresh gaussians:  [0.7841079460269865, 0.2158920539730135]\n"
     ]
    },
    {
     "name": "stderr",
     "output_type": "stream",
     "text": [
      "C:\\Users\\geeze\\Anaconda3\\lib\\site-packages\\scipy\\stats\\stats.py:1713: FutureWarning: Using a non-tuple sequence for multidimensional indexing is deprecated; use `arr[tuple(seq)]` instead of `arr[seq]`. In the future this will be interpreted as an array index, `arr[np.array(seq)]`, which will result either in an error or a different result.\n",
      "  return np.add.reduce(sorted[indexer] * weights, axis=axis) / sumval\n"
     ]
    },
    {
     "name": "stdout",
     "output_type": "stream",
     "text": [
      "peaks identified in the kde fit of data:  [[2.37698082]\n",
      " [3.85321101]]\n",
      "means of the gaussians the GMM optimized:  [2.2618300513306417, 2.5705211110770136]\n",
      "counts in each gaussian:  [3267, 996]\n",
      "raw fractions of data in each gaussian:  [0.76636172 0.23363828]\n",
      "means of gaussians that contain fraction of data above thresh (0.01):  [2.2618300513306417, 2.5705211110770136]\n",
      "fraction of data in above-thresh gaussians:  [0.7663617171006334, 0.23363828289936664]\n"
     ]
    },
    {
     "name": "stderr",
     "output_type": "stream",
     "text": [
      "C:\\Users\\geeze\\Anaconda3\\lib\\site-packages\\scipy\\stats\\stats.py:1713: FutureWarning: Using a non-tuple sequence for multidimensional indexing is deprecated; use `arr[tuple(seq)]` instead of `arr[seq]`. In the future this will be interpreted as an array index, `arr[np.array(seq)]`, which will result either in an error or a different result.\n",
      "  return np.add.reduce(sorted[indexer] * weights, axis=axis) / sumval\n"
     ]
    },
    {
     "name": "stdout",
     "output_type": "stream",
     "text": [
      "peaks identified in the kde fit of data:  [[2.36196831]\n",
      " [3.8882402 ]]\n",
      "means of the gaussians the GMM optimized:  [2.250530731712293, 2.6017632730799023]\n",
      "counts in each gaussian:  [2761, 676]\n",
      "raw fractions of data in each gaussian:  [0.80331685 0.19668315]\n",
      "means of gaussians that contain fraction of data above thresh (0.01):  [2.250530731712293, 2.6017632730799023]\n",
      "fraction of data in above-thresh gaussians:  [0.8033168460867035, 0.19668315391329647]\n"
     ]
    },
    {
     "name": "stderr",
     "output_type": "stream",
     "text": [
      "C:\\Users\\geeze\\Anaconda3\\lib\\site-packages\\scipy\\stats\\stats.py:1713: FutureWarning: Using a non-tuple sequence for multidimensional indexing is deprecated; use `arr[tuple(seq)]` instead of `arr[seq]`. In the future this will be interpreted as an array index, `arr[np.array(seq)]`, which will result either in an error or a different result.\n",
      "  return np.add.reduce(sorted[indexer] * weights, axis=axis) / sumval\n"
     ]
    },
    {
     "name": "stdout",
     "output_type": "stream",
     "text": [
      "peaks identified in the kde fit of data:  [[2.3469558 ]\n",
      " [3.80817348]]\n",
      "means of the gaussians the GMM optimized:  [2.1687276557427944, 3.868414411404136]\n",
      "counts in each gaussian:  [3766, 451]\n",
      "raw fractions of data in each gaussian:  [0.89305193 0.10694807]\n",
      "means of gaussians that contain fraction of data above thresh (0.01):  [2.1687276557427944, 3.868414411404136]\n",
      "fraction of data in above-thresh gaussians:  [0.8930519326535452, 0.10694806734645483]\n"
     ]
    },
    {
     "name": "stderr",
     "output_type": "stream",
     "text": [
      "C:\\Users\\geeze\\Anaconda3\\lib\\site-packages\\scipy\\stats\\stats.py:1713: FutureWarning: Using a non-tuple sequence for multidimensional indexing is deprecated; use `arr[tuple(seq)]` instead of `arr[seq]`. In the future this will be interpreted as an array index, `arr[np.array(seq)]`, which will result either in an error or a different result.\n",
      "  return np.add.reduce(sorted[indexer] * weights, axis=axis) / sumval\n"
     ]
    },
    {
     "name": "stdout",
     "output_type": "stream",
     "text": [
      "peaks identified in the kde fit of data:  [[2.35696414]\n",
      " [3.82819016]]\n",
      "means of the gaussians the GMM optimized:  [2.1597793119467674, 3.955041948500177]\n",
      "counts in each gaussian:  [5062, 487]\n",
      "raw fractions of data in each gaussian:  [0.91223644 0.08776356]\n",
      "means of gaussians that contain fraction of data above thresh (0.01):  [2.1597793119467674, 3.955041948500177]\n",
      "fraction of data in above-thresh gaussians:  [0.9122364389980177, 0.08776356100198233]\n"
     ]
    },
    {
     "name": "stderr",
     "output_type": "stream",
     "text": [
      "C:\\Users\\geeze\\Anaconda3\\lib\\site-packages\\scipy\\stats\\stats.py:1713: FutureWarning: Using a non-tuple sequence for multidimensional indexing is deprecated; use `arr[tuple(seq)]` instead of `arr[seq]`. In the future this will be interpreted as an array index, `arr[np.array(seq)]`, which will result either in an error or a different result.\n",
      "  return np.add.reduce(sorted[indexer] * weights, axis=axis) / sumval\n"
     ]
    },
    {
     "name": "stdout",
     "output_type": "stream",
     "text": [
      "peaks identified in the kde fit of data:  [[1.82151793]\n",
      " [3.99833194]]\n",
      "means of the gaussians the GMM optimized:  [1.759484839570874, 3.6838215030576738]\n",
      "counts in each gaussian:  [2515, 254]\n",
      "raw fractions of data in each gaussian:  [0.90827013 0.09172987]\n",
      "means of gaussians that contain fraction of data above thresh (0.01):  [1.759484839570874, 3.6838215030576738]\n",
      "fraction of data in above-thresh gaussians:  [0.9082701336222463, 0.0917298663777537]\n"
     ]
    },
    {
     "name": "stderr",
     "output_type": "stream",
     "text": [
      "C:\\Users\\geeze\\Anaconda3\\lib\\site-packages\\scipy\\stats\\stats.py:1713: FutureWarning: Using a non-tuple sequence for multidimensional indexing is deprecated; use `arr[tuple(seq)]` instead of `arr[seq]`. In the future this will be interpreted as an array index, `arr[np.array(seq)]`, which will result either in an error or a different result.\n",
      "  return np.add.reduce(sorted[indexer] * weights, axis=axis) / sumval\n"
     ]
    },
    {
     "name": "stdout",
     "output_type": "stream",
     "text": [
      "peaks identified in the kde fit of data:  [[2.25187656]\n",
      " [3.71809842]]\n",
      "means of the gaussians the GMM optimized:  [2.0967547192967384, 3.814331657710197]\n",
      "counts in each gaussian:  [4088, 478]\n",
      "raw fractions of data in each gaussian:  [0.89531318 0.10468682]\n",
      "means of gaussians that contain fraction of data above thresh (0.01):  [2.0967547192967384, 3.814331657710197]\n",
      "fraction of data in above-thresh gaussians:  [0.8953131844064827, 0.10468681559351731]\n"
     ]
    },
    {
     "name": "stderr",
     "output_type": "stream",
     "text": [
      "C:\\Users\\geeze\\Anaconda3\\lib\\site-packages\\scipy\\stats\\stats.py:1713: FutureWarning: Using a non-tuple sequence for multidimensional indexing is deprecated; use `arr[tuple(seq)]` instead of `arr[seq]`. In the future this will be interpreted as an array index, `arr[np.array(seq)]`, which will result either in an error or a different result.\n",
      "  return np.add.reduce(sorted[indexer] * weights, axis=axis) / sumval\n"
     ]
    },
    {
     "name": "stdout",
     "output_type": "stream",
     "text": [
      "peaks identified in the kde fit of data:  [[2.34195163]\n",
      " [3.8381985 ]]\n",
      "means of the gaussians the GMM optimized:  [2.1359355155442272, 3.8164091810218115]\n",
      "counts in each gaussian:  [3613, 413]\n",
      "raw fractions of data in each gaussian:  [0.89741679 0.10258321]\n",
      "means of gaussians that contain fraction of data above thresh (0.01):  [2.1359355155442272, 3.8164091810218115]\n",
      "fraction of data in above-thresh gaussians:  [0.8974167908594138, 0.10258320914058619]\n"
     ]
    },
    {
     "name": "stderr",
     "output_type": "stream",
     "text": [
      "C:\\Users\\geeze\\Anaconda3\\lib\\site-packages\\scipy\\stats\\stats.py:1713: FutureWarning: Using a non-tuple sequence for multidimensional indexing is deprecated; use `arr[tuple(seq)]` instead of `arr[seq]`. In the future this will be interpreted as an array index, `arr[np.array(seq)]`, which will result either in an error or a different result.\n",
      "  return np.add.reduce(sorted[indexer] * weights, axis=axis) / sumval\n"
     ]
    },
    {
     "name": "stdout",
     "output_type": "stream",
     "text": [
      "peaks identified in the kde fit of data:  [[2.36196831]\n",
      " [3.84320267]]\n",
      "means of the gaussians the GMM optimized:  [2.1604467968876184, 3.824006299854388]\n",
      "counts in each gaussian:  [3630, 428]\n",
      "raw fractions of data in each gaussian:  [0.89452932 0.10547068]\n",
      "means of gaussians that contain fraction of data above thresh (0.01):  [2.1604467968876184, 3.824006299854388]\n",
      "fraction of data in above-thresh gaussians:  [0.8945293247905373, 0.1054706752094628]\n"
     ]
    },
    {
     "name": "stderr",
     "output_type": "stream",
     "text": [
      "C:\\Users\\geeze\\Anaconda3\\lib\\site-packages\\scipy\\stats\\stats.py:1713: FutureWarning: Using a non-tuple sequence for multidimensional indexing is deprecated; use `arr[tuple(seq)]` instead of `arr[seq]`. In the future this will be interpreted as an array index, `arr[np.array(seq)]`, which will result either in an error or a different result.\n",
      "  return np.add.reduce(sorted[indexer] * weights, axis=axis) / sumval\n"
     ]
    },
    {
     "name": "stdout",
     "output_type": "stream",
     "text": [
      "peaks identified in the kde fit of data:  [[2.36196831]\n",
      " [3.82819016]]\n",
      "means of the gaussians the GMM optimized:  [2.1710292236443216, 3.934110080589734]\n",
      "counts in each gaussian:  [4134, 398]\n",
      "raw fractions of data in each gaussian:  [0.91218005 0.08781995]\n",
      "means of gaussians that contain fraction of data above thresh (0.01):  [2.1710292236443216, 3.934110080589734]\n",
      "fraction of data in above-thresh gaussians:  [0.912180052956752, 0.08781994704324801]\n"
     ]
    },
    {
     "name": "stderr",
     "output_type": "stream",
     "text": [
      "C:\\Users\\geeze\\Anaconda3\\lib\\site-packages\\scipy\\stats\\stats.py:1713: FutureWarning: Using a non-tuple sequence for multidimensional indexing is deprecated; use `arr[tuple(seq)]` instead of `arr[seq]`. In the future this will be interpreted as an array index, `arr[np.array(seq)]`, which will result either in an error or a different result.\n",
      "  return np.add.reduce(sorted[indexer] * weights, axis=axis) / sumval\n"
     ]
    },
    {
     "name": "stdout",
     "output_type": "stream",
     "text": [
      "peaks identified in the kde fit of data:  [[2.35696414]\n",
      " [3.86822352]]\n",
      "means of the gaussians the GMM optimized:  [2.2513904031940086, 2.7340174588199897]\n",
      "counts in each gaussian:  [2646, 670]\n",
      "raw fractions of data in each gaussian:  [0.79794934 0.20205066]\n",
      "means of gaussians that contain fraction of data above thresh (0.01):  [2.2513904031940086, 2.7340174588199897]\n",
      "fraction of data in above-thresh gaussians:  [0.7979493365500603, 0.2020506634499397]\n"
     ]
    },
    {
     "name": "stderr",
     "output_type": "stream",
     "text": [
      "C:\\Users\\geeze\\Anaconda3\\lib\\site-packages\\scipy\\stats\\stats.py:1713: FutureWarning: Using a non-tuple sequence for multidimensional indexing is deprecated; use `arr[tuple(seq)]` instead of `arr[seq]`. In the future this will be interpreted as an array index, `arr[np.array(seq)]`, which will result either in an error or a different result.\n",
      "  return np.add.reduce(sorted[indexer] * weights, axis=axis) / sumval\n"
     ]
    },
    {
     "name": "stdout",
     "output_type": "stream",
     "text": [
      "peaks identified in the kde fit of data:  [[2.35195997]\n",
      " [3.88323603]]\n",
      "means of the gaussians the GMM optimized:  [2.275357594990117, 2.4272563295772906]\n",
      "counts in each gaussian:  [3796, 1196]\n",
      "raw fractions of data in each gaussian:  [0.76041667 0.23958333]\n",
      "means of gaussians that contain fraction of data above thresh (0.01):  [2.275357594990117, 2.4272563295772906]\n",
      "fraction of data in above-thresh gaussians:  [0.7604166666666666, 0.23958333333333334]\n"
     ]
    },
    {
     "name": "stderr",
     "output_type": "stream",
     "text": [
      "C:\\Users\\geeze\\Anaconda3\\lib\\site-packages\\scipy\\stats\\stats.py:1713: FutureWarning: Using a non-tuple sequence for multidimensional indexing is deprecated; use `arr[tuple(seq)]` instead of `arr[seq]`. In the future this will be interpreted as an array index, `arr[np.array(seq)]`, which will result either in an error or a different result.\n",
      "  return np.add.reduce(sorted[indexer] * weights, axis=axis) / sumval\n"
     ]
    },
    {
     "name": "stdout",
     "output_type": "stream",
     "text": [
      "peaks identified in the kde fit of data:  [[2.36196831]\n",
      " [3.77314429]]\n",
      "means of the gaussians the GMM optimized:  [2.177676914176303, 3.894303753795039]\n",
      "counts in each gaussian:  [3104, 294]\n",
      "raw fractions of data in each gaussian:  [0.91347852 0.08652148]\n",
      "means of gaussians that contain fraction of data above thresh (0.01):  [2.177676914176303, 3.894303753795039]\n",
      "fraction of data in above-thresh gaussians:  [0.9134785167745733, 0.08652148322542672]\n"
     ]
    },
    {
     "name": "stderr",
     "output_type": "stream",
     "text": [
      "C:\\Users\\geeze\\Anaconda3\\lib\\site-packages\\scipy\\stats\\stats.py:1713: FutureWarning: Using a non-tuple sequence for multidimensional indexing is deprecated; use `arr[tuple(seq)]` instead of `arr[seq]`. In the future this will be interpreted as an array index, `arr[np.array(seq)]`, which will result either in an error or a different result.\n",
      "  return np.add.reduce(sorted[indexer] * weights, axis=axis) / sumval\n"
     ]
    },
    {
     "name": "stdout",
     "output_type": "stream",
     "text": [
      "peaks identified in the kde fit of data:  [[2.35195997]\n",
      " [3.86321935]]\n",
      "means of the gaussians the GMM optimized:  [2.2364815510682114, 2.4919470005877478]\n",
      "counts in each gaussian:  [3502, 864]\n",
      "raw fractions of data in each gaussian:  [0.80210719 0.19789281]\n",
      "means of gaussians that contain fraction of data above thresh (0.01):  [2.2364815510682114, 2.4919470005877478]\n",
      "fraction of data in above-thresh gaussians:  [0.8021071919377004, 0.19789280806229959]\n"
     ]
    },
    {
     "name": "stderr",
     "output_type": "stream",
     "text": [
      "C:\\Users\\geeze\\Anaconda3\\lib\\site-packages\\scipy\\stats\\stats.py:1713: FutureWarning: Using a non-tuple sequence for multidimensional indexing is deprecated; use `arr[tuple(seq)]` instead of `arr[seq]`. In the future this will be interpreted as an array index, `arr[np.array(seq)]`, which will result either in an error or a different result.\n",
      "  return np.add.reduce(sorted[indexer] * weights, axis=axis) / sumval\n"
     ]
    },
    {
     "name": "stdout",
     "output_type": "stream",
     "text": [
      "peaks identified in the kde fit of data:  [[1.81651376]\n",
      " [3.28273561]]\n",
      "means of the gaussians the GMM optimized:  [1.7116329096979364, 3.472491117838188]\n",
      "counts in each gaussian:  [2990, 387]\n",
      "raw fractions of data in each gaussian:  [0.88540124 0.11459876]\n",
      "means of gaussians that contain fraction of data above thresh (0.01):  [1.7116329096979364, 3.472491117838188]\n",
      "fraction of data in above-thresh gaussians:  [0.8854012437074327, 0.11459875629256737]\n"
     ]
    },
    {
     "name": "stderr",
     "output_type": "stream",
     "text": [
      "C:\\Users\\geeze\\Anaconda3\\lib\\site-packages\\scipy\\stats\\stats.py:1713: FutureWarning: Using a non-tuple sequence for multidimensional indexing is deprecated; use `arr[tuple(seq)]` instead of `arr[seq]`. In the future this will be interpreted as an array index, `arr[np.array(seq)]`, which will result either in an error or a different result.\n",
      "  return np.add.reduce(sorted[indexer] * weights, axis=axis) / sumval\n"
     ]
    },
    {
     "name": "stdout",
     "output_type": "stream",
     "text": [
      "peaks identified in the kde fit of data:  [[2.27689741]\n",
      " [3.74311927]]\n",
      "means of the gaussians the GMM optimized:  [2.133323555305023, 3.789949440342361]\n",
      "counts in each gaussian:  [3431, 491]\n",
      "raw fractions of data in each gaussian:  [0.87480877 0.12519123]\n",
      "means of gaussians that contain fraction of data above thresh (0.01):  [2.133323555305023, 3.789949440342361]\n",
      "fraction of data in above-thresh gaussians:  [0.8748087710351862, 0.12519122896481388]\n"
     ]
    },
    {
     "name": "stderr",
     "output_type": "stream",
     "text": [
      "C:\\Users\\geeze\\Anaconda3\\lib\\site-packages\\scipy\\stats\\stats.py:1713: FutureWarning: Using a non-tuple sequence for multidimensional indexing is deprecated; use `arr[tuple(seq)]` instead of `arr[seq]`. In the future this will be interpreted as an array index, `arr[np.array(seq)]`, which will result either in an error or a different result.\n",
      "  return np.add.reduce(sorted[indexer] * weights, axis=axis) / sumval\n"
     ]
    },
    {
     "name": "stdout",
     "output_type": "stream",
     "text": [
      "peaks identified in the kde fit of data:  [[2.33194329]\n",
      " [3.85321101]]\n",
      "means of the gaussians the GMM optimized:  [2.152237104366502, 3.813315857399236]\n",
      "counts in each gaussian:  [4022, 432]\n",
      "raw fractions of data in each gaussian:  [0.90300853 0.09699147]\n",
      "means of gaussians that contain fraction of data above thresh (0.01):  [2.152237104366502, 3.813315857399236]\n",
      "fraction of data in above-thresh gaussians:  [0.9030085316569376, 0.09699146834306241]\n"
     ]
    },
    {
     "name": "stderr",
     "output_type": "stream",
     "text": [
      "C:\\Users\\geeze\\Anaconda3\\lib\\site-packages\\scipy\\stats\\stats.py:1713: FutureWarning: Using a non-tuple sequence for multidimensional indexing is deprecated; use `arr[tuple(seq)]` instead of `arr[seq]`. In the future this will be interpreted as an array index, `arr[np.array(seq)]`, which will result either in an error or a different result.\n",
      "  return np.add.reduce(sorted[indexer] * weights, axis=axis) / sumval\n"
     ]
    },
    {
     "name": "stdout",
     "output_type": "stream",
     "text": [
      "peaks identified in the kde fit of data:  [[2.35195997]\n",
      " [3.80817348]]\n",
      "means of the gaussians the GMM optimized:  [2.1545943167241908, 3.797979456656944]\n",
      "counts in each gaussian:  [3723, 493]\n",
      "raw fractions of data in each gaussian:  [0.88306452 0.11693548]\n",
      "means of gaussians that contain fraction of data above thresh (0.01):  [2.1545943167241908, 3.797979456656944]\n",
      "fraction of data in above-thresh gaussians:  [0.8830645161290323, 0.11693548387096774]\n"
     ]
    },
    {
     "name": "stderr",
     "output_type": "stream",
     "text": [
      "C:\\Users\\geeze\\Anaconda3\\lib\\site-packages\\scipy\\stats\\stats.py:1713: FutureWarning: Using a non-tuple sequence for multidimensional indexing is deprecated; use `arr[tuple(seq)]` instead of `arr[seq]`. In the future this will be interpreted as an array index, `arr[np.array(seq)]`, which will result either in an error or a different result.\n",
      "  return np.add.reduce(sorted[indexer] * weights, axis=axis) / sumval\n"
     ]
    },
    {
     "name": "stdout",
     "output_type": "stream",
     "text": [
      "peaks identified in the kde fit of data:  [[2.37698082]\n",
      " [3.80817348]]\n",
      "means of the gaussians the GMM optimized:  [2.1828584416329653, 3.8950587705312687]\n",
      "counts in each gaussian:  [3883, 342]\n",
      "raw fractions of data in each gaussian:  [0.91905325 0.08094675]\n",
      "means of gaussians that contain fraction of data above thresh (0.01):  [2.1828584416329653, 3.8950587705312687]\n",
      "fraction of data in above-thresh gaussians:  [0.9190532544378698, 0.08094674556213018]\n"
     ]
    },
    {
     "name": "stderr",
     "output_type": "stream",
     "text": [
      "C:\\Users\\geeze\\Anaconda3\\lib\\site-packages\\scipy\\stats\\stats.py:1713: FutureWarning: Using a non-tuple sequence for multidimensional indexing is deprecated; use `arr[tuple(seq)]` instead of `arr[seq]`. In the future this will be interpreted as an array index, `arr[np.array(seq)]`, which will result either in an error or a different result.\n",
      "  return np.add.reduce(sorted[indexer] * weights, axis=axis) / sumval\n"
     ]
    },
    {
     "name": "stdout",
     "output_type": "stream",
     "text": [
      "peaks identified in the kde fit of data:  [[2.37197665]\n",
      " [3.82318599]]\n",
      "means of the gaussians the GMM optimized:  [2.173891388975455, 3.9469625898025864]\n",
      "counts in each gaussian:  [3180, 321]\n",
      "raw fractions of data in each gaussian:  [0.90831191 0.09168809]\n",
      "means of gaussians that contain fraction of data above thresh (0.01):  [2.173891388975455, 3.9469625898025864]\n",
      "fraction of data in above-thresh gaussians:  [0.908311910882605, 0.09168808911739502]\n"
     ]
    },
    {
     "name": "stderr",
     "output_type": "stream",
     "text": [
      "C:\\Users\\geeze\\Anaconda3\\lib\\site-packages\\scipy\\stats\\stats.py:1713: FutureWarning: Using a non-tuple sequence for multidimensional indexing is deprecated; use `arr[tuple(seq)]` instead of `arr[seq]`. In the future this will be interpreted as an array index, `arr[np.array(seq)]`, which will result either in an error or a different result.\n",
      "  return np.add.reduce(sorted[indexer] * weights, axis=axis) / sumval\n"
     ]
    },
    {
     "name": "stdout",
     "output_type": "stream",
     "text": [
      "peaks identified in the kde fit of data:  [[2.38198499]\n",
      " [3.84820684]]\n",
      "means of the gaussians the GMM optimized:  [2.1843461141117175, 3.917639400773936]\n",
      "counts in each gaussian:  [3755, 314]\n",
      "raw fractions of data in each gaussian:  [0.92283116 0.07716884]\n",
      "means of gaussians that contain fraction of data above thresh (0.01):  [2.1843461141117175, 3.917639400773936]\n",
      "fraction of data in above-thresh gaussians:  [0.9228311624477759, 0.07716883755222413]\n"
     ]
    },
    {
     "name": "stderr",
     "output_type": "stream",
     "text": [
      "C:\\Users\\geeze\\Anaconda3\\lib\\site-packages\\scipy\\stats\\stats.py:1713: FutureWarning: Using a non-tuple sequence for multidimensional indexing is deprecated; use `arr[tuple(seq)]` instead of `arr[seq]`. In the future this will be interpreted as an array index, `arr[np.array(seq)]`, which will result either in an error or a different result.\n",
      "  return np.add.reduce(sorted[indexer] * weights, axis=axis) / sumval\n"
     ]
    },
    {
     "name": "stdout",
     "output_type": "stream",
     "text": [
      "peaks identified in the kde fit of data:  [[2.36196831]\n",
      " [3.80316931]]\n",
      "means of the gaussians the GMM optimized:  [2.1814295364004885, 3.8589330272205635]\n",
      "counts in each gaussian:  [4221, 629]\n",
      "raw fractions of data in each gaussian:  [0.87030928 0.12969072]\n",
      "means of gaussians that contain fraction of data above thresh (0.01):  [2.1814295364004885, 3.8589330272205635]\n",
      "fraction of data in above-thresh gaussians:  [0.8703092783505154, 0.12969072164948453]\n"
     ]
    },
    {
     "name": "stderr",
     "output_type": "stream",
     "text": [
      "C:\\Users\\geeze\\Anaconda3\\lib\\site-packages\\scipy\\stats\\stats.py:1713: FutureWarning: Using a non-tuple sequence for multidimensional indexing is deprecated; use `arr[tuple(seq)]` instead of `arr[seq]`. In the future this will be interpreted as an array index, `arr[np.array(seq)]`, which will result either in an error or a different result.\n",
      "  return np.add.reduce(sorted[indexer] * weights, axis=axis) / sumval\n"
     ]
    },
    {
     "name": "stdout",
     "output_type": "stream",
     "text": [
      "peaks identified in the kde fit of data:  [[1.88657214]\n",
      " [3.82318599]]\n",
      "means of the gaussians the GMM optimized:  [1.8104813512507874, 3.7040831548231643]\n",
      "counts in each gaussian:  [2816, 260]\n",
      "raw fractions of data in each gaussian:  [0.91547464 0.08452536]\n",
      "means of gaussians that contain fraction of data above thresh (0.01):  [1.8104813512507874, 3.7040831548231643]\n",
      "fraction of data in above-thresh gaussians:  [0.9154746423927178, 0.08452535760728218]\n"
     ]
    },
    {
     "name": "stderr",
     "output_type": "stream",
     "text": [
      "C:\\Users\\geeze\\Anaconda3\\lib\\site-packages\\scipy\\stats\\stats.py:1713: FutureWarning: Using a non-tuple sequence for multidimensional indexing is deprecated; use `arr[tuple(seq)]` instead of `arr[seq]`. In the future this will be interpreted as an array index, `arr[np.array(seq)]`, which will result either in an error or a different result.\n",
      "  return np.add.reduce(sorted[indexer] * weights, axis=axis) / sumval\n"
     ]
    },
    {
     "name": "stdout",
     "output_type": "stream",
     "text": [
      "peaks identified in the kde fit of data:  [[2.28690575]\n",
      " [3.79816514]]\n",
      "means of the gaussians the GMM optimized:  [2.109344247506873, 3.7501714296848663]\n",
      "counts in each gaussian:  [2928, 397]\n",
      "raw fractions of data in each gaussian:  [0.8806015 0.1193985]\n",
      "means of gaussians that contain fraction of data above thresh (0.01):  [2.109344247506873, 3.7501714296848663]\n",
      "fraction of data in above-thresh gaussians:  [0.8806015037593985, 0.1193984962406015]\n"
     ]
    },
    {
     "name": "stderr",
     "output_type": "stream",
     "text": [
      "C:\\Users\\geeze\\Anaconda3\\lib\\site-packages\\scipy\\stats\\stats.py:1713: FutureWarning: Using a non-tuple sequence for multidimensional indexing is deprecated; use `arr[tuple(seq)]` instead of `arr[seq]`. In the future this will be interpreted as an array index, `arr[np.array(seq)]`, which will result either in an error or a different result.\n",
      "  return np.add.reduce(sorted[indexer] * weights, axis=axis) / sumval\n"
     ]
    },
    {
     "name": "stdout",
     "output_type": "stream",
     "text": [
      "peaks identified in the kde fit of data:  [[2.34195163]\n",
      " [3.82318599]]\n",
      "means of the gaussians the GMM optimized:  [2.1448751913030053, 3.905550908929685]\n",
      "counts in each gaussian:  [3031, 280]\n",
      "raw fractions of data in each gaussian:  [0.9154334 0.0845666]\n",
      "means of gaussians that contain fraction of data above thresh (0.01):  [2.1448751913030053, 3.905550908929685]\n",
      "fraction of data in above-thresh gaussians:  [0.9154334038054969, 0.08456659619450317]\n"
     ]
    },
    {
     "name": "stderr",
     "output_type": "stream",
     "text": [
      "C:\\Users\\geeze\\Anaconda3\\lib\\site-packages\\scipy\\stats\\stats.py:1713: FutureWarning: Using a non-tuple sequence for multidimensional indexing is deprecated; use `arr[tuple(seq)]` instead of `arr[seq]`. In the future this will be interpreted as an array index, `arr[np.array(seq)]`, which will result either in an error or a different result.\n",
      "  return np.add.reduce(sorted[indexer] * weights, axis=axis) / sumval\n"
     ]
    },
    {
     "name": "stdout",
     "output_type": "stream",
     "text": [
      "peaks identified in the kde fit of data:  [[2.36196831]\n",
      " [3.79316097]]\n",
      "means of the gaussians the GMM optimized:  [2.1657053691621626, 3.8874576172246544]\n",
      "counts in each gaussian:  [3742, 459]\n",
      "raw fractions of data in each gaussian:  [0.8907403 0.1092597]\n",
      "means of gaussians that contain fraction of data above thresh (0.01):  [2.1657053691621626, 3.8874576172246544]\n",
      "fraction of data in above-thresh gaussians:  [0.8907402999285884, 0.10925970007141157]\n"
     ]
    },
    {
     "name": "stderr",
     "output_type": "stream",
     "text": [
      "C:\\Users\\geeze\\Anaconda3\\lib\\site-packages\\scipy\\stats\\stats.py:1713: FutureWarning: Using a non-tuple sequence for multidimensional indexing is deprecated; use `arr[tuple(seq)]` instead of `arr[seq]`. In the future this will be interpreted as an array index, `arr[np.array(seq)]`, which will result either in an error or a different result.\n",
      "  return np.add.reduce(sorted[indexer] * weights, axis=axis) / sumval\n"
     ]
    },
    {
     "name": "stdout",
     "output_type": "stream",
     "text": [
      "peaks identified in the kde fit of data:  [[2.3469558 ]\n",
      " [3.86321935]]\n",
      "means of the gaussians the GMM optimized:  [2.181257156922889, 3.908877170387672]\n",
      "counts in each gaussian:  [3269, 347]\n",
      "raw fractions of data in each gaussian:  [0.90403761 0.09596239]\n",
      "means of gaussians that contain fraction of data above thresh (0.01):  [2.181257156922889, 3.908877170387672]\n",
      "fraction of data in above-thresh gaussians:  [0.9040376106194691, 0.09596238938053098]\n"
     ]
    },
    {
     "name": "stderr",
     "output_type": "stream",
     "text": [
      "C:\\Users\\geeze\\Anaconda3\\lib\\site-packages\\scipy\\stats\\stats.py:1713: FutureWarning: Using a non-tuple sequence for multidimensional indexing is deprecated; use `arr[tuple(seq)]` instead of `arr[seq]`. In the future this will be interpreted as an array index, `arr[np.array(seq)]`, which will result either in an error or a different result.\n",
      "  return np.add.reduce(sorted[indexer] * weights, axis=axis) / sumval\n"
     ]
    },
    {
     "name": "stdout",
     "output_type": "stream",
     "text": [
      "peaks identified in the kde fit of data:  [[2.35195997]\n",
      " [3.76814012]]\n",
      "means of the gaussians the GMM optimized:  [2.2713104072936017, 2.554169905968995]\n",
      "counts in each gaussian:  [2973, 839]\n",
      "raw fractions of data in each gaussian:  [0.77990556 0.22009444]\n",
      "means of gaussians that contain fraction of data above thresh (0.01):  [2.2713104072936017, 2.554169905968995]\n",
      "fraction of data in above-thresh gaussians:  [0.7799055613850997, 0.22009443861490033]\n"
     ]
    },
    {
     "name": "stderr",
     "output_type": "stream",
     "text": [
      "C:\\Users\\geeze\\Anaconda3\\lib\\site-packages\\scipy\\stats\\stats.py:1713: FutureWarning: Using a non-tuple sequence for multidimensional indexing is deprecated; use `arr[tuple(seq)]` instead of `arr[seq]`. In the future this will be interpreted as an array index, `arr[np.array(seq)]`, which will result either in an error or a different result.\n",
      "  return np.add.reduce(sorted[indexer] * weights, axis=axis) / sumval\n"
     ]
    },
    {
     "name": "stdout",
     "output_type": "stream",
     "text": [
      "peaks identified in the kde fit of data:  [[2.38198499]\n",
      " [3.82318599]]\n",
      "means of the gaussians the GMM optimized:  [2.2716871411800463, 2.4830127771686463]\n",
      "counts in each gaussian:  [3371, 945]\n",
      "raw fractions of data in each gaussian:  [0.78104727 0.21895273]\n",
      "means of gaussians that contain fraction of data above thresh (0.01):  [2.2716871411800463, 2.4830127771686463]\n",
      "fraction of data in above-thresh gaussians:  [0.781047265987025, 0.21895273401297496]\n"
     ]
    },
    {
     "name": "stderr",
     "output_type": "stream",
     "text": [
      "C:\\Users\\geeze\\Anaconda3\\lib\\site-packages\\scipy\\stats\\stats.py:1713: FutureWarning: Using a non-tuple sequence for multidimensional indexing is deprecated; use `arr[tuple(seq)]` instead of `arr[seq]`. In the future this will be interpreted as an array index, `arr[np.array(seq)]`, which will result either in an error or a different result.\n",
      "  return np.add.reduce(sorted[indexer] * weights, axis=axis) / sumval\n"
     ]
    },
    {
     "name": "stdout",
     "output_type": "stream",
     "text": [
      "peaks identified in the kde fit of data:  [[2.36697248]\n",
      " [3.82819016]]\n",
      "means of the gaussians the GMM optimized:  [2.1626077486125657, 3.9519321408153583]\n",
      "counts in each gaussian:  [6538, 776]\n",
      "raw fractions of data in each gaussian:  [0.89390211 0.10609789]\n",
      "means of gaussians that contain fraction of data above thresh (0.01):  [2.1626077486125657, 3.9519321408153583]\n",
      "fraction of data in above-thresh gaussians:  [0.8939021055509981, 0.10609789444900192]\n"
     ]
    },
    {
     "name": "stderr",
     "output_type": "stream",
     "text": [
      "C:\\Users\\geeze\\Anaconda3\\lib\\site-packages\\scipy\\stats\\stats.py:1713: FutureWarning: Using a non-tuple sequence for multidimensional indexing is deprecated; use `arr[tuple(seq)]` instead of `arr[seq]`. In the future this will be interpreted as an array index, `arr[np.array(seq)]`, which will result either in an error or a different result.\n",
      "  return np.add.reduce(sorted[indexer] * weights, axis=axis) / sumval\n"
     ]
    },
    {
     "name": "stdout",
     "output_type": "stream",
     "text": [
      "peaks identified in the kde fit of data:  [[2.07172644]\n",
      " [3.81818182]]\n",
      "means of the gaussians the GMM optimized:  [1.9166050132978332, 3.8252887548316994]\n",
      "counts in each gaussian:  [11503, 1343]\n",
      "raw fractions of data in each gaussian:  [0.89545384 0.10454616]\n",
      "means of gaussians that contain fraction of data above thresh (0.01):  [1.9166050132978332, 3.8252887548316994]\n",
      "fraction of data in above-thresh gaussians:  [0.8954538377705122, 0.10454616222948777]\n"
     ]
    },
    {
     "name": "stderr",
     "output_type": "stream",
     "text": [
      "C:\\Users\\geeze\\Anaconda3\\lib\\site-packages\\scipy\\stats\\stats.py:1713: FutureWarning: Using a non-tuple sequence for multidimensional indexing is deprecated; use `arr[tuple(seq)]` instead of `arr[seq]`. In the future this will be interpreted as an array index, `arr[np.array(seq)]`, which will result either in an error or a different result.\n",
      "  return np.add.reduce(sorted[indexer] * weights, axis=axis) / sumval\n"
     ]
    },
    {
     "name": "stdout",
     "output_type": "stream",
     "text": [
      "peaks identified in the kde fit of data:  [[2.2969141 ]\n",
      " [3.77814846]]\n",
      "means of the gaussians the GMM optimized:  [2.140004519569213, 3.7164446584954693]\n",
      "counts in each gaussian:  [4331, 654]\n",
      "raw fractions of data in each gaussian:  [0.86880642 0.13119358]\n",
      "means of gaussians that contain fraction of data above thresh (0.01):  [2.140004519569213, 3.7164446584954693]\n",
      "fraction of data in above-thresh gaussians:  [0.8688064192577734, 0.13119358074222667]\n"
     ]
    },
    {
     "name": "stderr",
     "output_type": "stream",
     "text": [
      "C:\\Users\\geeze\\Anaconda3\\lib\\site-packages\\scipy\\stats\\stats.py:1713: FutureWarning: Using a non-tuple sequence for multidimensional indexing is deprecated; use `arr[tuple(seq)]` instead of `arr[seq]`. In the future this will be interpreted as an array index, `arr[np.array(seq)]`, which will result either in an error or a different result.\n",
      "  return np.add.reduce(sorted[indexer] * weights, axis=axis) / sumval\n"
     ]
    },
    {
     "name": "stdout",
     "output_type": "stream",
     "text": [
      "peaks identified in the kde fit of data:  [[2.3469558 ]\n",
      " [3.77814846]]\n",
      "means of the gaussians the GMM optimized:  [2.238729722634223, 2.502916973202224]\n",
      "counts in each gaussian:  [3320, 950]\n",
      "raw fractions of data in each gaussian:  [0.77751756 0.22248244]\n",
      "means of gaussians that contain fraction of data above thresh (0.01):  [2.238729722634223, 2.502916973202224]\n",
      "fraction of data in above-thresh gaussians:  [0.7775175644028103, 0.2224824355971897]\n"
     ]
    },
    {
     "name": "stderr",
     "output_type": "stream",
     "text": [
      "C:\\Users\\geeze\\Anaconda3\\lib\\site-packages\\scipy\\stats\\stats.py:1713: FutureWarning: Using a non-tuple sequence for multidimensional indexing is deprecated; use `arr[tuple(seq)]` instead of `arr[seq]`. In the future this will be interpreted as an array index, `arr[np.array(seq)]`, which will result either in an error or a different result.\n",
      "  return np.add.reduce(sorted[indexer] * weights, axis=axis) / sumval\n"
     ]
    },
    {
     "name": "stdout",
     "output_type": "stream",
     "text": [
      "peaks identified in the kde fit of data:  [[2.37698082]\n",
      " [3.86822352]]\n",
      "means of the gaussians the GMM optimized:  [2.247046588873945, 2.6378813794175446]\n",
      "counts in each gaussian:  [3456, 1052]\n",
      "raw fractions of data in each gaussian:  [0.76663709 0.23336291]\n",
      "means of gaussians that contain fraction of data above thresh (0.01):  [2.247046588873945, 2.6378813794175446]\n",
      "fraction of data in above-thresh gaussians:  [0.7666370896184561, 0.23336291038154391]\n"
     ]
    },
    {
     "name": "stderr",
     "output_type": "stream",
     "text": [
      "C:\\Users\\geeze\\Anaconda3\\lib\\site-packages\\scipy\\stats\\stats.py:1713: FutureWarning: Using a non-tuple sequence for multidimensional indexing is deprecated; use `arr[tuple(seq)]` instead of `arr[seq]`. In the future this will be interpreted as an array index, `arr[np.array(seq)]`, which will result either in an error or a different result.\n",
      "  return np.add.reduce(sorted[indexer] * weights, axis=axis) / sumval\n"
     ]
    },
    {
     "name": "stdout",
     "output_type": "stream",
     "text": [
      "peaks identified in the kde fit of data:  [[2.38698916]\n",
      " [3.81317765]]\n",
      "means of the gaussians the GMM optimized:  [2.178171942012571, 3.929433799555389]\n",
      "counts in each gaussian:  [4017, 309]\n",
      "raw fractions of data in each gaussian:  [0.92857143 0.07142857]\n",
      "means of gaussians that contain fraction of data above thresh (0.01):  [2.178171942012571, 3.929433799555389]\n",
      "fraction of data in above-thresh gaussians:  [0.9285714285714286, 0.07142857142857142]\n"
     ]
    },
    {
     "name": "stderr",
     "output_type": "stream",
     "text": [
      "C:\\Users\\geeze\\Anaconda3\\lib\\site-packages\\scipy\\stats\\stats.py:1713: FutureWarning: Using a non-tuple sequence for multidimensional indexing is deprecated; use `arr[tuple(seq)]` instead of `arr[seq]`. In the future this will be interpreted as an array index, `arr[np.array(seq)]`, which will result either in an error or a different result.\n",
      "  return np.add.reduce(sorted[indexer] * weights, axis=axis) / sumval\n"
     ]
    },
    {
     "name": "stdout",
     "output_type": "stream",
     "text": [
      "peaks identified in the kde fit of data:  [[2.36196831]\n",
      " [3.81818182]]\n",
      "means of the gaussians the GMM optimized:  [2.2520065699442378, 2.6420850590996987]\n",
      "counts in each gaussian:  [2721, 748]\n",
      "raw fractions of data in each gaussian:  [0.7843759 0.2156241]\n",
      "means of gaussians that contain fraction of data above thresh (0.01):  [2.2520065699442378, 2.6420850590996987]\n",
      "fraction of data in above-thresh gaussians:  [0.7843759008359757, 0.21562409916402422]\n"
     ]
    },
    {
     "name": "stderr",
     "output_type": "stream",
     "text": [
      "C:\\Users\\geeze\\Anaconda3\\lib\\site-packages\\scipy\\stats\\stats.py:1713: FutureWarning: Using a non-tuple sequence for multidimensional indexing is deprecated; use `arr[tuple(seq)]` instead of `arr[seq]`. In the future this will be interpreted as an array index, `arr[np.array(seq)]`, which will result either in an error or a different result.\n",
      "  return np.add.reduce(sorted[indexer] * weights, axis=axis) / sumval\n"
     ]
    },
    {
     "name": "stdout",
     "output_type": "stream",
     "text": [
      "peaks identified in the kde fit of data:  [[2.3969975 ]\n",
      " [3.87823186]]\n",
      "means of the gaussians the GMM optimized:  [2.2674635233021285, 2.59362513589526]\n",
      "counts in each gaussian:  [2721, 704]\n",
      "raw fractions of data in each gaussian:  [0.79445255 0.20554745]\n",
      "means of gaussians that contain fraction of data above thresh (0.01):  [2.2674635233021285, 2.59362513589526]\n",
      "fraction of data in above-thresh gaussians:  [0.7944525547445256, 0.20554744525547444]\n"
     ]
    },
    {
     "name": "stderr",
     "output_type": "stream",
     "text": [
      "C:\\Users\\geeze\\Anaconda3\\lib\\site-packages\\scipy\\stats\\stats.py:1713: FutureWarning: Using a non-tuple sequence for multidimensional indexing is deprecated; use `arr[tuple(seq)]` instead of `arr[seq]`. In the future this will be interpreted as an array index, `arr[np.array(seq)]`, which will result either in an error or a different result.\n",
      "  return np.add.reduce(sorted[indexer] * weights, axis=axis) / sumval\n"
     ]
    },
    {
     "name": "stdout",
     "output_type": "stream",
     "text": [
      "peaks identified in the kde fit of data:  [[2.37698082]\n",
      " [3.81818182]]\n",
      "means of the gaussians the GMM optimized:  [2.174114402004718, 3.938278823815576]\n",
      "counts in each gaussian:  [3172, 298]\n",
      "raw fractions of data in each gaussian:  [0.91412104 0.08587896]\n",
      "means of gaussians that contain fraction of data above thresh (0.01):  [2.174114402004718, 3.938278823815576]\n",
      "fraction of data in above-thresh gaussians:  [0.914121037463977, 0.08587896253602305]\n"
     ]
    },
    {
     "name": "stderr",
     "output_type": "stream",
     "text": [
      "C:\\Users\\geeze\\Anaconda3\\lib\\site-packages\\scipy\\stats\\stats.py:1713: FutureWarning: Using a non-tuple sequence for multidimensional indexing is deprecated; use `arr[tuple(seq)]` instead of `arr[seq]`. In the future this will be interpreted as an array index, `arr[np.array(seq)]`, which will result either in an error or a different result.\n",
      "  return np.add.reduce(sorted[indexer] * weights, axis=axis) / sumval\n"
     ]
    },
    {
     "name": "stdout",
     "output_type": "stream",
     "text": [
      "peaks identified in the kde fit of data:  [[2.15679733]\n",
      " [3.80817348]]\n",
      "means of the gaussians the GMM optimized:  [1.971872226030758, 3.8259061030645882]\n",
      "counts in each gaussian:  [4392, 471]\n",
      "raw fractions of data in each gaussian:  [0.90314621 0.09685379]\n",
      "means of gaussians that contain fraction of data above thresh (0.01):  [1.971872226030758, 3.8259061030645882]\n",
      "fraction of data in above-thresh gaussians:  [0.9031462060456509, 0.09685379395434916]\n"
     ]
    },
    {
     "name": "stderr",
     "output_type": "stream",
     "text": [
      "C:\\Users\\geeze\\Anaconda3\\lib\\site-packages\\scipy\\stats\\stats.py:1713: FutureWarning: Using a non-tuple sequence for multidimensional indexing is deprecated; use `arr[tuple(seq)]` instead of `arr[seq]`. In the future this will be interpreted as an array index, `arr[np.array(seq)]`, which will result either in an error or a different result.\n",
      "  return np.add.reduce(sorted[indexer] * weights, axis=axis) / sumval\n"
     ]
    },
    {
     "name": "stdout",
     "output_type": "stream",
     "text": [
      "peaks identified in the kde fit of data:  [[2.31192661]\n",
      " [3.86321935]]\n",
      "means of the gaussians the GMM optimized:  [2.1331299344534647, 3.904076692800158]\n",
      "counts in each gaussian:  [2767, 294]\n",
      "raw fractions of data in each gaussian:  [0.90395296 0.09604704]\n",
      "means of gaussians that contain fraction of data above thresh (0.01):  [2.1331299344534647, 3.904076692800158]\n",
      "fraction of data in above-thresh gaussians:  [0.903952956550147, 0.09604704344985299]\n"
     ]
    },
    {
     "name": "stderr",
     "output_type": "stream",
     "text": [
      "C:\\Users\\geeze\\Anaconda3\\lib\\site-packages\\scipy\\stats\\stats.py:1713: FutureWarning: Using a non-tuple sequence for multidimensional indexing is deprecated; use `arr[tuple(seq)]` instead of `arr[seq]`. In the future this will be interpreted as an array index, `arr[np.array(seq)]`, which will result either in an error or a different result.\n",
      "  return np.add.reduce(sorted[indexer] * weights, axis=axis) / sumval\n"
     ]
    },
    {
     "name": "stdout",
     "output_type": "stream",
     "text": [
      "peaks identified in the kde fit of data:  [[2.35696414]\n",
      " [3.84820684]]\n",
      "means of the gaussians the GMM optimized:  [2.1331765083015934, 3.8170733215572965]\n",
      "counts in each gaussian:  [4102, 523]\n",
      "raw fractions of data in each gaussian:  [0.88691892 0.11308108]\n",
      "means of gaussians that contain fraction of data above thresh (0.01):  [2.1331765083015934, 3.8170733215572965]\n",
      "fraction of data in above-thresh gaussians:  [0.8869189189189189, 0.11308108108108109]\n"
     ]
    },
    {
     "name": "stderr",
     "output_type": "stream",
     "text": [
      "C:\\Users\\geeze\\Anaconda3\\lib\\site-packages\\scipy\\stats\\stats.py:1713: FutureWarning: Using a non-tuple sequence for multidimensional indexing is deprecated; use `arr[tuple(seq)]` instead of `arr[seq]`. In the future this will be interpreted as an array index, `arr[np.array(seq)]`, which will result either in an error or a different result.\n",
      "  return np.add.reduce(sorted[indexer] * weights, axis=axis) / sumval\n"
     ]
    },
    {
     "name": "stdout",
     "output_type": "stream",
     "text": [
      "peaks identified in the kde fit of data:  [[2.36697248]\n",
      " [3.76814012]]\n",
      "means of the gaussians the GMM optimized:  [2.256275941905957, 2.6114814073219446]\n",
      "counts in each gaussian:  [2864, 832]\n",
      "raw fractions of data in each gaussian:  [0.77489177 0.22510823]\n",
      "means of gaussians that contain fraction of data above thresh (0.01):  [2.256275941905957, 2.6114814073219446]\n",
      "fraction of data in above-thresh gaussians:  [0.7748917748917749, 0.22510822510822512]\n"
     ]
    },
    {
     "name": "stderr",
     "output_type": "stream",
     "text": [
      "C:\\Users\\geeze\\Anaconda3\\lib\\site-packages\\scipy\\stats\\stats.py:1713: FutureWarning: Using a non-tuple sequence for multidimensional indexing is deprecated; use `arr[tuple(seq)]` instead of `arr[seq]`. In the future this will be interpreted as an array index, `arr[np.array(seq)]`, which will result either in an error or a different result.\n",
      "  return np.add.reduce(sorted[indexer] * weights, axis=axis) / sumval\n"
     ]
    },
    {
     "name": "stdout",
     "output_type": "stream",
     "text": [
      "peaks identified in the kde fit of data:  [[2.37197665]\n",
      " [3.80316931]]\n",
      "means of the gaussians the GMM optimized:  [2.1841824257822915, 3.877438830931467]\n",
      "counts in each gaussian:  [3795, 376]\n",
      "raw fractions of data in each gaussian:  [0.90985375 0.09014625]\n",
      "means of gaussians that contain fraction of data above thresh (0.01):  [2.1841824257822915, 3.877438830931467]\n",
      "fraction of data in above-thresh gaussians:  [0.9098537520978183, 0.09014624790218173]\n"
     ]
    },
    {
     "name": "stderr",
     "output_type": "stream",
     "text": [
      "C:\\Users\\geeze\\Anaconda3\\lib\\site-packages\\scipy\\stats\\stats.py:1713: FutureWarning: Using a non-tuple sequence for multidimensional indexing is deprecated; use `arr[tuple(seq)]` instead of `arr[seq]`. In the future this will be interpreted as an array index, `arr[np.array(seq)]`, which will result either in an error or a different result.\n",
      "  return np.add.reduce(sorted[indexer] * weights, axis=axis) / sumval\n"
     ]
    },
    {
     "name": "stdout",
     "output_type": "stream",
     "text": [
      "peaks identified in the kde fit of data:  [[2.35696414]\n",
      " [3.85821518]]\n",
      "means of the gaussians the GMM optimized:  [2.1656823929471787, 3.8340644644103024]\n",
      "counts in each gaussian:  [3278, 359]\n",
      "raw fractions of data in each gaussian:  [0.90129227 0.09870773]\n",
      "means of gaussians that contain fraction of data above thresh (0.01):  [2.1656823929471787, 3.8340644644103024]\n",
      "fraction of data in above-thresh gaussians:  [0.9012922738520759, 0.09870772614792411]\n"
     ]
    },
    {
     "name": "stderr",
     "output_type": "stream",
     "text": [
      "C:\\Users\\geeze\\Anaconda3\\lib\\site-packages\\scipy\\stats\\stats.py:1713: FutureWarning: Using a non-tuple sequence for multidimensional indexing is deprecated; use `arr[tuple(seq)]` instead of `arr[seq]`. In the future this will be interpreted as an array index, `arr[np.array(seq)]`, which will result either in an error or a different result.\n",
      "  return np.add.reduce(sorted[indexer] * weights, axis=axis) / sumval\n"
     ]
    },
    {
     "name": "stdout",
     "output_type": "stream",
     "text": [
      "peaks identified in the kde fit of data:  [[2.36196831]\n",
      " [3.85821518]]\n",
      "means of the gaussians the GMM optimized:  [2.164870892487982, 3.907361667194272]\n",
      "counts in each gaussian:  [4213, 386]\n",
      "raw fractions of data in each gaussian:  [0.91606871 0.08393129]\n",
      "means of gaussians that contain fraction of data above thresh (0.01):  [2.164870892487982, 3.907361667194272]\n",
      "fraction of data in above-thresh gaussians:  [0.9160687105892585, 0.08393128941074146]\n"
     ]
    },
    {
     "name": "stderr",
     "output_type": "stream",
     "text": [
      "C:\\Users\\geeze\\Anaconda3\\lib\\site-packages\\scipy\\stats\\stats.py:1713: FutureWarning: Using a non-tuple sequence for multidimensional indexing is deprecated; use `arr[tuple(seq)]` instead of `arr[seq]`. In the future this will be interpreted as an array index, `arr[np.array(seq)]`, which will result either in an error or a different result.\n",
      "  return np.add.reduce(sorted[indexer] * weights, axis=axis) / sumval\n"
     ]
    },
    {
     "name": "stdout",
     "output_type": "stream",
     "text": [
      "peaks identified in the kde fit of data:  [[2.33694746]\n",
      " [3.86321935]]\n",
      "means of the gaussians the GMM optimized:  [2.1704572590058833, 3.8998295516675507]\n",
      "counts in each gaussian:  [3414, 424]\n",
      "raw fractions of data in each gaussian:  [0.88952579 0.11047421]\n",
      "means of gaussians that contain fraction of data above thresh (0.01):  [2.1704572590058833, 3.8998295516675507]\n",
      "fraction of data in above-thresh gaussians:  [0.8895257946847316, 0.11047420531526837]\n"
     ]
    },
    {
     "name": "stderr",
     "output_type": "stream",
     "text": [
      "C:\\Users\\geeze\\Anaconda3\\lib\\site-packages\\scipy\\stats\\stats.py:1713: FutureWarning: Using a non-tuple sequence for multidimensional indexing is deprecated; use `arr[tuple(seq)]` instead of `arr[seq]`. In the future this will be interpreted as an array index, `arr[np.array(seq)]`, which will result either in an error or a different result.\n",
      "  return np.add.reduce(sorted[indexer] * weights, axis=axis) / sumval\n"
     ]
    },
    {
     "name": "stdout",
     "output_type": "stream",
     "text": [
      "peaks identified in the kde fit of data:  [[2.20183486]\n",
      " [3.81818182]]\n",
      "means of the gaussians the GMM optimized:  [2.027513043809389, 3.8167142023763407]\n",
      "counts in each gaussian:  [4145, 433]\n",
      "raw fractions of data in each gaussian:  [0.90541721 0.09458279]\n",
      "means of gaussians that contain fraction of data above thresh (0.01):  [2.027513043809389, 3.8167142023763407]\n",
      "fraction of data in above-thresh gaussians:  [0.9054172127566623, 0.0945827872433377]\n"
     ]
    },
    {
     "name": "stderr",
     "output_type": "stream",
     "text": [
      "C:\\Users\\geeze\\Anaconda3\\lib\\site-packages\\scipy\\stats\\stats.py:1713: FutureWarning: Using a non-tuple sequence for multidimensional indexing is deprecated; use `arr[tuple(seq)]` instead of `arr[seq]`. In the future this will be interpreted as an array index, `arr[np.array(seq)]`, which will result either in an error or a different result.\n",
      "  return np.add.reduce(sorted[indexer] * weights, axis=axis) / sumval\n"
     ]
    },
    {
     "name": "stdout",
     "output_type": "stream",
     "text": [
      "peaks identified in the kde fit of data:  [[2.32193495]\n",
      " [3.81818182]]\n",
      "means of the gaussians the GMM optimized:  [2.142478523816712, 3.9079304465514495]\n",
      "counts in each gaussian:  [3078, 340]\n",
      "raw fractions of data in each gaussian:  [0.90052662 0.09947338]\n",
      "means of gaussians that contain fraction of data above thresh (0.01):  [2.142478523816712, 3.9079304465514495]\n",
      "fraction of data in above-thresh gaussians:  [0.9005266237565828, 0.0994733762434172]\n"
     ]
    },
    {
     "name": "stderr",
     "output_type": "stream",
     "text": [
      "C:\\Users\\geeze\\Anaconda3\\lib\\site-packages\\scipy\\stats\\stats.py:1713: FutureWarning: Using a non-tuple sequence for multidimensional indexing is deprecated; use `arr[tuple(seq)]` instead of `arr[seq]`. In the future this will be interpreted as an array index, `arr[np.array(seq)]`, which will result either in an error or a different result.\n",
      "  return np.add.reduce(sorted[indexer] * weights, axis=axis) / sumval\n"
     ]
    },
    {
     "name": "stdout",
     "output_type": "stream",
     "text": [
      "peaks identified in the kde fit of data:  [[2.37197665]\n",
      " [3.8381985 ]]\n",
      "means of the gaussians the GMM optimized:  [2.159325029458406, 3.853961360861172]\n",
      "counts in each gaussian:  [4279, 508]\n",
      "raw fractions of data in each gaussian:  [0.89387926 0.10612074]\n",
      "means of gaussians that contain fraction of data above thresh (0.01):  [2.159325029458406, 3.853961360861172]\n",
      "fraction of data in above-thresh gaussians:  [0.8938792563191978, 0.10612074368080217]\n"
     ]
    },
    {
     "name": "stderr",
     "output_type": "stream",
     "text": [
      "C:\\Users\\geeze\\Anaconda3\\lib\\site-packages\\scipy\\stats\\stats.py:1713: FutureWarning: Using a non-tuple sequence for multidimensional indexing is deprecated; use `arr[tuple(seq)]` instead of `arr[seq]`. In the future this will be interpreted as an array index, `arr[np.array(seq)]`, which will result either in an error or a different result.\n",
      "  return np.add.reduce(sorted[indexer] * weights, axis=axis) / sumval\n"
     ]
    },
    {
     "name": "stdout",
     "output_type": "stream",
     "text": [
      "peaks identified in the kde fit of data:  [[2.3469558 ]\n",
      " [3.76313595]]\n",
      "means of the gaussians the GMM optimized:  [2.167846709592008, 3.8621958836546115]\n",
      "counts in each gaussian:  [3974, 451]\n",
      "raw fractions of data in each gaussian:  [0.8980791 0.1019209]\n",
      "means of gaussians that contain fraction of data above thresh (0.01):  [2.167846709592008, 3.8621958836546115]\n",
      "fraction of data in above-thresh gaussians:  [0.8980790960451978, 0.10192090395480226]\n"
     ]
    },
    {
     "name": "stderr",
     "output_type": "stream",
     "text": [
      "C:\\Users\\geeze\\Anaconda3\\lib\\site-packages\\scipy\\stats\\stats.py:1713: FutureWarning: Using a non-tuple sequence for multidimensional indexing is deprecated; use `arr[tuple(seq)]` instead of `arr[seq]`. In the future this will be interpreted as an array index, `arr[np.array(seq)]`, which will result either in an error or a different result.\n",
      "  return np.add.reduce(sorted[indexer] * weights, axis=axis) / sumval\n"
     ]
    },
    {
     "name": "stdout",
     "output_type": "stream",
     "text": [
      "peaks identified in the kde fit of data:  [[2.35696414]\n",
      " [3.81317765]]\n",
      "means of the gaussians the GMM optimized:  [2.1805413981082653, 3.886651188062653]\n",
      "counts in each gaussian:  [3464, 389]\n",
      "raw fractions of data in each gaussian:  [0.89903971 0.10096029]\n",
      "means of gaussians that contain fraction of data above thresh (0.01):  [2.1805413981082653, 3.886651188062653]\n",
      "fraction of data in above-thresh gaussians:  [0.899039709317415, 0.100960290682585]\n"
     ]
    },
    {
     "name": "stderr",
     "output_type": "stream",
     "text": [
      "C:\\Users\\geeze\\Anaconda3\\lib\\site-packages\\scipy\\stats\\stats.py:1713: FutureWarning: Using a non-tuple sequence for multidimensional indexing is deprecated; use `arr[tuple(seq)]` instead of `arr[seq]`. In the future this will be interpreted as an array index, `arr[np.array(seq)]`, which will result either in an error or a different result.\n",
      "  return np.add.reduce(sorted[indexer] * weights, axis=axis) / sumval\n"
     ]
    },
    {
     "name": "stdout",
     "output_type": "stream",
     "text": [
      "peaks identified in the kde fit of data:  [[2.36196831]\n",
      " [3.7881568 ]]\n",
      "means of the gaussians the GMM optimized:  [2.289290407801026, 2.550441439066757]\n",
      "counts in each gaussian:  [3356, 1227]\n",
      "raw fractions of data in each gaussian:  [0.73227144 0.26772856]\n",
      "means of gaussians that contain fraction of data above thresh (0.01):  [2.289290407801026, 2.550441439066757]\n",
      "fraction of data in above-thresh gaussians:  [0.7322714379227581, 0.267728562077242]\n"
     ]
    },
    {
     "name": "stderr",
     "output_type": "stream",
     "text": [
      "C:\\Users\\geeze\\Anaconda3\\lib\\site-packages\\scipy\\stats\\stats.py:1713: FutureWarning: Using a non-tuple sequence for multidimensional indexing is deprecated; use `arr[tuple(seq)]` instead of `arr[seq]`. In the future this will be interpreted as an array index, `arr[np.array(seq)]`, which will result either in an error or a different result.\n",
      "  return np.add.reduce(sorted[indexer] * weights, axis=axis) / sumval\n"
     ]
    },
    {
     "name": "stdout",
     "output_type": "stream",
     "text": [
      "peaks identified in the kde fit of data:  [[2.37698082]\n",
      " [3.80817348]]\n",
      "means of the gaussians the GMM optimized:  [2.177891234939538, 3.900796016362591]\n",
      "counts in each gaussian:  [3564, 318]\n",
      "raw fractions of data in each gaussian:  [0.91808346 0.08191654]\n",
      "means of gaussians that contain fraction of data above thresh (0.01):  [2.177891234939538, 3.900796016362591]\n",
      "fraction of data in above-thresh gaussians:  [0.9180834621329211, 0.08191653786707882]\n"
     ]
    },
    {
     "name": "stderr",
     "output_type": "stream",
     "text": [
      "C:\\Users\\geeze\\Anaconda3\\lib\\site-packages\\scipy\\stats\\stats.py:1713: FutureWarning: Using a non-tuple sequence for multidimensional indexing is deprecated; use `arr[tuple(seq)]` instead of `arr[seq]`. In the future this will be interpreted as an array index, `arr[np.array(seq)]`, which will result either in an error or a different result.\n",
      "  return np.add.reduce(sorted[indexer] * weights, axis=axis) / sumval\n",
      "C:\\Users\\geeze\\Anaconda3\\lib\\site-packages\\ipykernel_launcher.py:18: RuntimeWarning: invalid value encountered in log10\n"
     ]
    },
    {
     "name": "stdout",
     "output_type": "stream",
     "text": [
      "peaks identified in the kde fit of data:  [[2.36697248]\n",
      " [3.84320267]]\n",
      "means of the gaussians the GMM optimized:  [2.167711085940659, 3.894363344969552]\n",
      "counts in each gaussian:  [6991, 966]\n",
      "raw fractions of data in each gaussian:  [0.87859746 0.12140254]\n",
      "means of gaussians that contain fraction of data above thresh (0.01):  [2.167711085940659, 3.894363344969552]\n",
      "fraction of data in above-thresh gaussians:  [0.878597461354782, 0.12140253864521805]\n",
      "  well  log10values\n",
      "0   A1     1.693451\n",
      "1   A1     1.251505\n",
      "3   A1     1.439331\n",
      "5   A1     2.011425\n",
      "6   A1     1.592742\n"
     ]
    },
    {
     "name": "stderr",
     "output_type": "stream",
     "text": [
      "C:\\Users\\geeze\\Anaconda3\\lib\\site-packages\\scipy\\stats\\stats.py:1713: FutureWarning: Using a non-tuple sequence for multidimensional indexing is deprecated; use `arr[tuple(seq)]` instead of `arr[seq]`. In the future this will be interpreted as an array index, `arr[np.array(seq)]`, which will result either in an error or a different result.\n",
      "  return np.add.reduce(sorted[indexer] * weights, axis=axis) / sumval\n",
      "C:\\Users\\geeze\\Anaconda3\\lib\\site-packages\\ipykernel_launcher.py:94: RuntimeWarning: invalid value encountered in double_scalars\n"
     ]
    },
    {
     "name": "stdout",
     "output_type": "stream",
     "text": [
      "peaks identified in the kde fit of data:  [[1.7264387 ]\n",
      " [4.16346956]]\n",
      "means of the gaussians the GMM optimized:  [1.546921233538795, 3.93685877239223]\n",
      "counts in each gaussian:  [3092, 13]\n",
      "raw fractions of data in each gaussian:  [0.9958132 0.0041868]\n",
      "means of gaussians that contain fraction of data above thresh (0.01):  [1.546921233538795]\n",
      "fraction of data in above-thresh gaussians:  [0.9958132045088567]\n"
     ]
    },
    {
     "name": "stderr",
     "output_type": "stream",
     "text": [
      "C:\\Users\\geeze\\Anaconda3\\lib\\site-packages\\scipy\\stats\\stats.py:1713: FutureWarning: Using a non-tuple sequence for multidimensional indexing is deprecated; use `arr[tuple(seq)]` instead of `arr[seq]`. In the future this will be interpreted as an array index, `arr[np.array(seq)]`, which will result either in an error or a different result.\n",
      "  return np.add.reduce(sorted[indexer] * weights, axis=axis) / sumval\n"
     ]
    },
    {
     "name": "stdout",
     "output_type": "stream",
     "text": [
      "peaks identified in the kde fit of data:  [[2.20183486]\n",
      " [3.80817348]]\n",
      "means of the gaussians the GMM optimized:  [2.0064490816659943, 3.908056841730021]\n",
      "counts in each gaussian:  [3486, 421]\n",
      "raw fractions of data in each gaussian:  [0.89224469 0.10775531]\n",
      "means of gaussians that contain fraction of data above thresh (0.01):  [2.0064490816659943, 3.908056841730021]\n",
      "fraction of data in above-thresh gaussians:  [0.8922446890197082, 0.10775531098029179]\n"
     ]
    },
    {
     "name": "stderr",
     "output_type": "stream",
     "text": [
      "C:\\Users\\geeze\\Anaconda3\\lib\\site-packages\\scipy\\stats\\stats.py:1713: FutureWarning: Using a non-tuple sequence for multidimensional indexing is deprecated; use `arr[tuple(seq)]` instead of `arr[seq]`. In the future this will be interpreted as an array index, `arr[np.array(seq)]`, which will result either in an error or a different result.\n",
      "  return np.add.reduce(sorted[indexer] * weights, axis=axis) / sumval\n"
     ]
    },
    {
     "name": "stdout",
     "output_type": "stream",
     "text": [
      "peaks identified in the kde fit of data:  [[2.3469558 ]\n",
      " [3.84820684]]\n",
      "means of the gaussians the GMM optimized:  [2.1450427935283027, 3.94094582497174]\n",
      "counts in each gaussian:  [3238, 461]\n",
      "raw fractions of data in each gaussian:  [0.87537172 0.12462828]\n",
      "means of gaussians that contain fraction of data above thresh (0.01):  [2.1450427935283027, 3.94094582497174]\n",
      "fraction of data in above-thresh gaussians:  [0.8753717220870506, 0.12462827791294945]\n"
     ]
    },
    {
     "name": "stderr",
     "output_type": "stream",
     "text": [
      "C:\\Users\\geeze\\Anaconda3\\lib\\site-packages\\scipy\\stats\\stats.py:1713: FutureWarning: Using a non-tuple sequence for multidimensional indexing is deprecated; use `arr[tuple(seq)]` instead of `arr[seq]`. In the future this will be interpreted as an array index, `arr[np.array(seq)]`, which will result either in an error or a different result.\n",
      "  return np.add.reduce(sorted[indexer] * weights, axis=axis) / sumval\n"
     ]
    },
    {
     "name": "stdout",
     "output_type": "stream",
     "text": [
      "peaks identified in the kde fit of data:  [[2.36697248]\n",
      " [3.84820684]]\n",
      "means of the gaussians the GMM optimized:  [2.1360092327784668, 3.9257993656782406]\n",
      "counts in each gaussian:  [3099, 452]\n",
      "raw fractions of data in each gaussian:  [0.87271191 0.12728809]\n",
      "means of gaussians that contain fraction of data above thresh (0.01):  [2.1360092327784668, 3.9257993656782406]\n",
      "fraction of data in above-thresh gaussians:  [0.872711912137426, 0.12728808786257392]\n"
     ]
    },
    {
     "name": "stderr",
     "output_type": "stream",
     "text": [
      "C:\\Users\\geeze\\Anaconda3\\lib\\site-packages\\scipy\\stats\\stats.py:1713: FutureWarning: Using a non-tuple sequence for multidimensional indexing is deprecated; use `arr[tuple(seq)]` instead of `arr[seq]`. In the future this will be interpreted as an array index, `arr[np.array(seq)]`, which will result either in an error or a different result.\n",
      "  return np.add.reduce(sorted[indexer] * weights, axis=axis) / sumval\n"
     ]
    },
    {
     "name": "stdout",
     "output_type": "stream",
     "text": [
      "peaks identified in the kde fit of data:  [[2.35696414]\n",
      " [3.86822352]]\n",
      "means of the gaussians the GMM optimized:  [2.13849471198894, 3.915031866727183]\n",
      "counts in each gaussian:  [2955, 415]\n",
      "raw fractions of data in each gaussian:  [0.8768546 0.1231454]\n",
      "means of gaussians that contain fraction of data above thresh (0.01):  [2.13849471198894, 3.915031866727183]\n",
      "fraction of data in above-thresh gaussians:  [0.8768545994065282, 0.12314540059347182]\n"
     ]
    },
    {
     "name": "stderr",
     "output_type": "stream",
     "text": [
      "C:\\Users\\geeze\\Anaconda3\\lib\\site-packages\\scipy\\stats\\stats.py:1713: FutureWarning: Using a non-tuple sequence for multidimensional indexing is deprecated; use `arr[tuple(seq)]` instead of `arr[seq]`. In the future this will be interpreted as an array index, `arr[np.array(seq)]`, which will result either in an error or a different result.\n",
      "  return np.add.reduce(sorted[indexer] * weights, axis=axis) / sumval\n"
     ]
    },
    {
     "name": "stdout",
     "output_type": "stream",
     "text": [
      "peaks identified in the kde fit of data:  [[2.34195163]\n",
      " [3.82318599]]\n",
      "means of the gaussians the GMM optimized:  [2.1471532522788253, 3.8423611555170436]\n",
      "counts in each gaussian:  [2653, 369]\n",
      "raw fractions of data in each gaussian:  [0.87789543 0.12210457]\n",
      "means of gaussians that contain fraction of data above thresh (0.01):  [2.1471532522788253, 3.8423611555170436]\n",
      "fraction of data in above-thresh gaussians:  [0.8778954334877564, 0.12210456651224355]\n"
     ]
    },
    {
     "name": "stderr",
     "output_type": "stream",
     "text": [
      "C:\\Users\\geeze\\Anaconda3\\lib\\site-packages\\scipy\\stats\\stats.py:1713: FutureWarning: Using a non-tuple sequence for multidimensional indexing is deprecated; use `arr[tuple(seq)]` instead of `arr[seq]`. In the future this will be interpreted as an array index, `arr[np.array(seq)]`, which will result either in an error or a different result.\n",
      "  return np.add.reduce(sorted[indexer] * weights, axis=axis) / sumval\n"
     ]
    },
    {
     "name": "stdout",
     "output_type": "stream",
     "text": [
      "peaks identified in the kde fit of data:  [[2.35696414]\n",
      " [3.85821518]]\n",
      "means of the gaussians the GMM optimized:  [2.159198825776278, 3.968190897779369]\n",
      "counts in each gaussian:  [2735, 351]\n",
      "raw fractions of data in each gaussian:  [0.88626053 0.11373947]\n",
      "means of gaussians that contain fraction of data above thresh (0.01):  [2.159198825776278, 3.968190897779369]\n",
      "fraction of data in above-thresh gaussians:  [0.8862605314322748, 0.11373946856772521]\n"
     ]
    },
    {
     "name": "stderr",
     "output_type": "stream",
     "text": [
      "C:\\Users\\geeze\\Anaconda3\\lib\\site-packages\\scipy\\stats\\stats.py:1713: FutureWarning: Using a non-tuple sequence for multidimensional indexing is deprecated; use `arr[tuple(seq)]` instead of `arr[seq]`. In the future this will be interpreted as an array index, `arr[np.array(seq)]`, which will result either in an error or a different result.\n",
      "  return np.add.reduce(sorted[indexer] * weights, axis=axis) / sumval\n"
     ]
    },
    {
     "name": "stdout",
     "output_type": "stream",
     "text": [
      "peaks identified in the kde fit of data:  [[2.35696414]\n",
      " [3.85321101]]\n",
      "means of the gaussians the GMM optimized:  [2.2579031671973824, 2.665544110577033]\n",
      "counts in each gaussian:  [2534, 873]\n",
      "raw fractions of data in each gaussian:  [0.74376284 0.25623716]\n",
      "means of gaussians that contain fraction of data above thresh (0.01):  [2.2579031671973824, 2.665544110577033]\n",
      "fraction of data in above-thresh gaussians:  [0.743762841209275, 0.25623715879072495]\n"
     ]
    },
    {
     "name": "stderr",
     "output_type": "stream",
     "text": [
      "C:\\Users\\geeze\\Anaconda3\\lib\\site-packages\\scipy\\stats\\stats.py:1713: FutureWarning: Using a non-tuple sequence for multidimensional indexing is deprecated; use `arr[tuple(seq)]` instead of `arr[seq]`. In the future this will be interpreted as an array index, `arr[np.array(seq)]`, which will result either in an error or a different result.\n",
      "  return np.add.reduce(sorted[indexer] * weights, axis=axis) / sumval\n"
     ]
    },
    {
     "name": "stdout",
     "output_type": "stream",
     "text": [
      "peaks identified in the kde fit of data:  [[2.38198499]\n",
      " [3.85821518]]\n",
      "means of the gaussians the GMM optimized:  [2.159434644513307, 3.8717216191486066]\n",
      "counts in each gaussian:  [3329, 491]\n",
      "raw fractions of data in each gaussian:  [0.87146597 0.12853403]\n",
      "means of gaussians that contain fraction of data above thresh (0.01):  [2.159434644513307, 3.8717216191486066]\n",
      "fraction of data in above-thresh gaussians:  [0.8714659685863875, 0.12853403141361255]\n"
     ]
    },
    {
     "name": "stderr",
     "output_type": "stream",
     "text": [
      "C:\\Users\\geeze\\Anaconda3\\lib\\site-packages\\scipy\\stats\\stats.py:1713: FutureWarning: Using a non-tuple sequence for multidimensional indexing is deprecated; use `arr[tuple(seq)]` instead of `arr[seq]`. In the future this will be interpreted as an array index, `arr[np.array(seq)]`, which will result either in an error or a different result.\n",
      "  return np.add.reduce(sorted[indexer] * weights, axis=axis) / sumval\n"
     ]
    },
    {
     "name": "stdout",
     "output_type": "stream",
     "text": [
      "peaks identified in the kde fit of data:  [[1.71142619]\n",
      " [3.86321935]]\n",
      "means of the gaussians the GMM optimized:  [1.5460234337399352, 3.8202558072594175]\n",
      "counts in each gaussian:  [3133, 43]\n",
      "raw fractions of data in each gaussian:  [0.98646096 0.01353904]\n",
      "means of gaussians that contain fraction of data above thresh (0.01):  [1.5460234337399352, 3.8202558072594175]\n",
      "fraction of data in above-thresh gaussians:  [0.9864609571788413, 0.01353904282115869]\n"
     ]
    },
    {
     "name": "stderr",
     "output_type": "stream",
     "text": [
      "C:\\Users\\geeze\\Anaconda3\\lib\\site-packages\\scipy\\stats\\stats.py:1713: FutureWarning: Using a non-tuple sequence for multidimensional indexing is deprecated; use `arr[tuple(seq)]` instead of `arr[seq]`. In the future this will be interpreted as an array index, `arr[np.array(seq)]`, which will result either in an error or a different result.\n",
      "  return np.add.reduce(sorted[indexer] * weights, axis=axis) / sumval\n"
     ]
    },
    {
     "name": "stdout",
     "output_type": "stream",
     "text": [
      "peaks identified in the kde fit of data:  [[2.23185988]\n",
      " [3.79816514]]\n",
      "means of the gaussians the GMM optimized:  [2.014208739405664, 3.9106915051351145]\n",
      "counts in each gaussian:  [2756, 361]\n",
      "raw fractions of data in each gaussian:  [0.88418351 0.11581649]\n",
      "means of gaussians that contain fraction of data above thresh (0.01):  [2.014208739405664, 3.9106915051351145]\n",
      "fraction of data in above-thresh gaussians:  [0.8841835097850498, 0.11581649021495027]\n"
     ]
    },
    {
     "name": "stderr",
     "output_type": "stream",
     "text": [
      "C:\\Users\\geeze\\Anaconda3\\lib\\site-packages\\scipy\\stats\\stats.py:1713: FutureWarning: Using a non-tuple sequence for multidimensional indexing is deprecated; use `arr[tuple(seq)]` instead of `arr[seq]`. In the future this will be interpreted as an array index, `arr[np.array(seq)]`, which will result either in an error or a different result.\n",
      "  return np.add.reduce(sorted[indexer] * weights, axis=axis) / sumval\n"
     ]
    },
    {
     "name": "stdout",
     "output_type": "stream",
     "text": [
      "peaks identified in the kde fit of data:  [[2.34195163]\n",
      " [3.8882402 ]]\n",
      "means of the gaussians the GMM optimized:  [2.1378515937261704, 3.9937239035762104]\n",
      "counts in each gaussian:  [3218, 397]\n",
      "raw fractions of data in each gaussian:  [0.89017981 0.10982019]\n",
      "means of gaussians that contain fraction of data above thresh (0.01):  [2.1378515937261704, 3.9937239035762104]\n",
      "fraction of data in above-thresh gaussians:  [0.8901798063623789, 0.10982019363762102]\n"
     ]
    },
    {
     "name": "stderr",
     "output_type": "stream",
     "text": [
      "C:\\Users\\geeze\\Anaconda3\\lib\\site-packages\\scipy\\stats\\stats.py:1713: FutureWarning: Using a non-tuple sequence for multidimensional indexing is deprecated; use `arr[tuple(seq)]` instead of `arr[seq]`. In the future this will be interpreted as an array index, `arr[np.array(seq)]`, which will result either in an error or a different result.\n",
      "  return np.add.reduce(sorted[indexer] * weights, axis=axis) / sumval\n"
     ]
    },
    {
     "name": "stdout",
     "output_type": "stream",
     "text": [
      "peaks identified in the kde fit of data:  [[2.36697248]\n",
      " [3.81818182]]\n",
      "means of the gaussians the GMM optimized:  [2.1360883915293893, 3.843099254528758]\n",
      "counts in each gaussian:  [2434, 325]\n",
      "raw fractions of data in each gaussian:  [0.8822037 0.1177963]\n",
      "means of gaussians that contain fraction of data above thresh (0.01):  [2.1360883915293893, 3.843099254528758]\n",
      "fraction of data in above-thresh gaussians:  [0.8822036969916637, 0.11779630300833635]\n"
     ]
    },
    {
     "name": "stderr",
     "output_type": "stream",
     "text": [
      "C:\\Users\\geeze\\Anaconda3\\lib\\site-packages\\scipy\\stats\\stats.py:1713: FutureWarning: Using a non-tuple sequence for multidimensional indexing is deprecated; use `arr[tuple(seq)]` instead of `arr[seq]`. In the future this will be interpreted as an array index, `arr[np.array(seq)]`, which will result either in an error or a different result.\n",
      "  return np.add.reduce(sorted[indexer] * weights, axis=axis) / sumval\n"
     ]
    },
    {
     "name": "stdout",
     "output_type": "stream",
     "text": [
      "peaks identified in the kde fit of data:  [[2.37197665]\n",
      " [3.85321101]]\n",
      "means of the gaussians the GMM optimized:  [2.1698392691941595, 3.9529878806746805]\n",
      "counts in each gaussian:  [3009, 380]\n",
      "raw fractions of data in each gaussian:  [0.88787253 0.11212747]\n",
      "means of gaussians that contain fraction of data above thresh (0.01):  [2.1698392691941595, 3.9529878806746805]\n",
      "fraction of data in above-thresh gaussians:  [0.8878725287695486, 0.11212747123045146]\n"
     ]
    },
    {
     "name": "stderr",
     "output_type": "stream",
     "text": [
      "C:\\Users\\geeze\\Anaconda3\\lib\\site-packages\\scipy\\stats\\stats.py:1713: FutureWarning: Using a non-tuple sequence for multidimensional indexing is deprecated; use `arr[tuple(seq)]` instead of `arr[seq]`. In the future this will be interpreted as an array index, `arr[np.array(seq)]`, which will result either in an error or a different result.\n",
      "  return np.add.reduce(sorted[indexer] * weights, axis=axis) / sumval\n"
     ]
    },
    {
     "name": "stdout",
     "output_type": "stream",
     "text": [
      "peaks identified in the kde fit of data:  [[2.35696414]\n",
      " [3.83319433]]\n",
      "means of the gaussians the GMM optimized:  [2.1499139565204892, 3.9682909442191137]\n",
      "counts in each gaussian:  [3029, 413]\n",
      "raw fractions of data in each gaussian:  [0.88001162 0.11998838]\n",
      "means of gaussians that contain fraction of data above thresh (0.01):  [2.1499139565204892, 3.9682909442191137]\n",
      "fraction of data in above-thresh gaussians:  [0.8800116211504939, 0.1199883788495061]\n"
     ]
    },
    {
     "name": "stderr",
     "output_type": "stream",
     "text": [
      "C:\\Users\\geeze\\Anaconda3\\lib\\site-packages\\scipy\\stats\\stats.py:1713: FutureWarning: Using a non-tuple sequence for multidimensional indexing is deprecated; use `arr[tuple(seq)]` instead of `arr[seq]`. In the future this will be interpreted as an array index, `arr[np.array(seq)]`, which will result either in an error or a different result.\n",
      "  return np.add.reduce(sorted[indexer] * weights, axis=axis) / sumval\n"
     ]
    },
    {
     "name": "stdout",
     "output_type": "stream",
     "text": [
      "peaks identified in the kde fit of data:  [[2.3469558 ]\n",
      " [3.86321935]]\n",
      "means of the gaussians the GMM optimized:  [2.154263705060875, 3.8411983035176336]\n",
      "counts in each gaussian:  [2689, 344]\n",
      "raw fractions of data in each gaussian:  [0.88658094 0.11341906]\n",
      "means of gaussians that contain fraction of data above thresh (0.01):  [2.154263705060875, 3.8411983035176336]\n",
      "fraction of data in above-thresh gaussians:  [0.886580942960765, 0.11341905703923508]\n"
     ]
    },
    {
     "name": "stderr",
     "output_type": "stream",
     "text": [
      "C:\\Users\\geeze\\Anaconda3\\lib\\site-packages\\scipy\\stats\\stats.py:1713: FutureWarning: Using a non-tuple sequence for multidimensional indexing is deprecated; use `arr[tuple(seq)]` instead of `arr[seq]`. In the future this will be interpreted as an array index, `arr[np.array(seq)]`, which will result either in an error or a different result.\n",
      "  return np.add.reduce(sorted[indexer] * weights, axis=axis) / sumval\n"
     ]
    },
    {
     "name": "stdout",
     "output_type": "stream",
     "text": [
      "peaks identified in the kde fit of data:  [[2.3469558 ]\n",
      " [3.80316931]]\n",
      "means of the gaussians the GMM optimized:  [2.1544864994705373, 3.8054805954958537]\n",
      "counts in each gaussian:  [3080, 490]\n",
      "raw fractions of data in each gaussian:  [0.8627451 0.1372549]\n",
      "means of gaussians that contain fraction of data above thresh (0.01):  [2.1544864994705373, 3.8054805954958537]\n",
      "fraction of data in above-thresh gaussians:  [0.8627450980392157, 0.13725490196078433]\n"
     ]
    },
    {
     "name": "stderr",
     "output_type": "stream",
     "text": [
      "C:\\Users\\geeze\\Anaconda3\\lib\\site-packages\\scipy\\stats\\stats.py:1713: FutureWarning: Using a non-tuple sequence for multidimensional indexing is deprecated; use `arr[tuple(seq)]` instead of `arr[seq]`. In the future this will be interpreted as an array index, `arr[np.array(seq)]`, which will result either in an error or a different result.\n",
      "  return np.add.reduce(sorted[indexer] * weights, axis=axis) / sumval\n"
     ]
    },
    {
     "name": "stdout",
     "output_type": "stream",
     "text": [
      "peaks identified in the kde fit of data:  [[2.33194329]\n",
      " [3.80817348]]\n",
      "means of the gaussians the GMM optimized:  [2.2457675939054877, 2.5190661526952702]\n",
      "counts in each gaussian:  [1967, 580]\n",
      "raw fractions of data in each gaussian:  [0.77228112 0.22771888]\n",
      "means of gaussians that contain fraction of data above thresh (0.01):  [2.2457675939054877, 2.5190661526952702]\n",
      "fraction of data in above-thresh gaussians:  [0.7722811150372988, 0.2277188849627012]\n"
     ]
    },
    {
     "name": "stderr",
     "output_type": "stream",
     "text": [
      "C:\\Users\\geeze\\Anaconda3\\lib\\site-packages\\scipy\\stats\\stats.py:1713: FutureWarning: Using a non-tuple sequence for multidimensional indexing is deprecated; use `arr[tuple(seq)]` instead of `arr[seq]`. In the future this will be interpreted as an array index, `arr[np.array(seq)]`, which will result either in an error or a different result.\n",
      "  return np.add.reduce(sorted[indexer] * weights, axis=axis) / sumval\n"
     ]
    },
    {
     "name": "stdout",
     "output_type": "stream",
     "text": [
      "peaks identified in the kde fit of data:  [[1.75145955]\n",
      " [3.92326939]]\n",
      "means of the gaussians the GMM optimized:  [1.6344073868775113, 3.811598476070962]\n",
      "counts in each gaussian:  [3091, 217]\n",
      "raw fractions of data in each gaussian:  [0.93440145 0.06559855]\n",
      "means of gaussians that contain fraction of data above thresh (0.01):  [1.6344073868775113, 3.811598476070962]\n",
      "fraction of data in above-thresh gaussians:  [0.9344014510278114, 0.06559854897218863]\n"
     ]
    },
    {
     "name": "stderr",
     "output_type": "stream",
     "text": [
      "C:\\Users\\geeze\\Anaconda3\\lib\\site-packages\\scipy\\stats\\stats.py:1713: FutureWarning: Using a non-tuple sequence for multidimensional indexing is deprecated; use `arr[tuple(seq)]` instead of `arr[seq]`. In the future this will be interpreted as an array index, `arr[np.array(seq)]`, which will result either in an error or a different result.\n",
      "  return np.add.reduce(sorted[indexer] * weights, axis=axis) / sumval\n"
     ]
    },
    {
     "name": "stdout",
     "output_type": "stream",
     "text": [
      "peaks identified in the kde fit of data:  [[2.26688907]\n",
      " [3.75312761]]\n",
      "means of the gaussians the GMM optimized:  [2.0680344986390327, 3.773697408412863]\n",
      "counts in each gaussian:  [3176, 512]\n",
      "raw fractions of data in each gaussian:  [0.86117137 0.13882863]\n",
      "means of gaussians that contain fraction of data above thresh (0.01):  [2.0680344986390327, 3.773697408412863]\n",
      "fraction of data in above-thresh gaussians:  [0.8611713665943601, 0.13882863340563992]\n"
     ]
    },
    {
     "name": "stderr",
     "output_type": "stream",
     "text": [
      "C:\\Users\\geeze\\Anaconda3\\lib\\site-packages\\scipy\\stats\\stats.py:1713: FutureWarning: Using a non-tuple sequence for multidimensional indexing is deprecated; use `arr[tuple(seq)]` instead of `arr[seq]`. In the future this will be interpreted as an array index, `arr[np.array(seq)]`, which will result either in an error or a different result.\n",
      "  return np.add.reduce(sorted[indexer] * weights, axis=axis) / sumval\n"
     ]
    },
    {
     "name": "stdout",
     "output_type": "stream",
     "text": [
      "peaks identified in the kde fit of data:  [[2.3469558 ]\n",
      " [3.86822352]]\n",
      "means of the gaussians the GMM optimized:  [2.129899246178853, 3.940329543836357]\n",
      "counts in each gaussian:  [2898, 376]\n",
      "raw fractions of data in each gaussian:  [0.88515577 0.11484423]\n",
      "means of gaussians that contain fraction of data above thresh (0.01):  [2.129899246178853, 3.940329543836357]\n",
      "fraction of data in above-thresh gaussians:  [0.8851557727550398, 0.1148442272449603]\n"
     ]
    },
    {
     "name": "stderr",
     "output_type": "stream",
     "text": [
      "C:\\Users\\geeze\\Anaconda3\\lib\\site-packages\\scipy\\stats\\stats.py:1713: FutureWarning: Using a non-tuple sequence for multidimensional indexing is deprecated; use `arr[tuple(seq)]` instead of `arr[seq]`. In the future this will be interpreted as an array index, `arr[np.array(seq)]`, which will result either in an error or a different result.\n",
      "  return np.add.reduce(sorted[indexer] * weights, axis=axis) / sumval\n"
     ]
    },
    {
     "name": "stdout",
     "output_type": "stream",
     "text": [
      "peaks identified in the kde fit of data:  [[2.3469558 ]\n",
      " [3.83319433]]\n",
      "means of the gaussians the GMM optimized:  [2.139794520544943, 3.913926029089536]\n",
      "counts in each gaussian:  [2979, 394]\n",
      "raw fractions of data in each gaussian:  [0.88319004 0.11680996]\n",
      "means of gaussians that contain fraction of data above thresh (0.01):  [2.139794520544943, 3.913926029089536]\n",
      "fraction of data in above-thresh gaussians:  [0.8831900385413578, 0.11680996145864216]\n"
     ]
    },
    {
     "name": "stderr",
     "output_type": "stream",
     "text": [
      "C:\\Users\\geeze\\Anaconda3\\lib\\site-packages\\scipy\\stats\\stats.py:1713: FutureWarning: Using a non-tuple sequence for multidimensional indexing is deprecated; use `arr[tuple(seq)]` instead of `arr[seq]`. In the future this will be interpreted as an array index, `arr[np.array(seq)]`, which will result either in an error or a different result.\n",
      "  return np.add.reduce(sorted[indexer] * weights, axis=axis) / sumval\n"
     ]
    },
    {
     "name": "stdout",
     "output_type": "stream",
     "text": [
      "peaks identified in the kde fit of data:  [[2.36697248]\n",
      " [3.86321935]]\n",
      "means of the gaussians the GMM optimized:  [2.142225632363763, 3.9222504930994853]\n",
      "counts in each gaussian:  [3150, 480]\n",
      "raw fractions of data in each gaussian:  [0.8677686 0.1322314]\n",
      "means of gaussians that contain fraction of data above thresh (0.01):  [2.142225632363763, 3.9222504930994853]\n",
      "fraction of data in above-thresh gaussians:  [0.8677685950413223, 0.1322314049586777]\n"
     ]
    },
    {
     "name": "stderr",
     "output_type": "stream",
     "text": [
      "C:\\Users\\geeze\\Anaconda3\\lib\\site-packages\\scipy\\stats\\stats.py:1713: FutureWarning: Using a non-tuple sequence for multidimensional indexing is deprecated; use `arr[tuple(seq)]` instead of `arr[seq]`. In the future this will be interpreted as an array index, `arr[np.array(seq)]`, which will result either in an error or a different result.\n",
      "  return np.add.reduce(sorted[indexer] * weights, axis=axis) / sumval\n"
     ]
    },
    {
     "name": "stdout",
     "output_type": "stream",
     "text": [
      "peaks identified in the kde fit of data:  [[2.35696414]\n",
      " [3.87322769]]\n",
      "means of the gaussians the GMM optimized:  [2.157758875977077, 3.9473648488239643]\n",
      "counts in each gaussian:  [2508, 349]\n",
      "raw fractions of data in each gaussian:  [0.87784389 0.12215611]\n",
      "means of gaussians that contain fraction of data above thresh (0.01):  [2.157758875977077, 3.9473648488239643]\n",
      "fraction of data in above-thresh gaussians:  [0.8778438921946097, 0.12215610780539027]\n"
     ]
    },
    {
     "name": "stderr",
     "output_type": "stream",
     "text": [
      "C:\\Users\\geeze\\Anaconda3\\lib\\site-packages\\scipy\\stats\\stats.py:1713: FutureWarning: Using a non-tuple sequence for multidimensional indexing is deprecated; use `arr[tuple(seq)]` instead of `arr[seq]`. In the future this will be interpreted as an array index, `arr[np.array(seq)]`, which will result either in an error or a different result.\n",
      "  return np.add.reduce(sorted[indexer] * weights, axis=axis) / sumval\n"
     ]
    },
    {
     "name": "stdout",
     "output_type": "stream",
     "text": [
      "peaks identified in the kde fit of data:  [[2.35195997]\n",
      " [3.85321101]]\n",
      "means of the gaussians the GMM optimized:  [2.1623322290206697, 3.943505477203759]\n",
      "counts in each gaussian:  [3384, 487]\n",
      "raw fractions of data in each gaussian:  [0.87419272 0.12580728]\n",
      "means of gaussians that contain fraction of data above thresh (0.01):  [2.1623322290206697, 3.943505477203759]\n",
      "fraction of data in above-thresh gaussians:  [0.8741927150607078, 0.12580728493929216]\n"
     ]
    },
    {
     "name": "stderr",
     "output_type": "stream",
     "text": [
      "C:\\Users\\geeze\\Anaconda3\\lib\\site-packages\\scipy\\stats\\stats.py:1713: FutureWarning: Using a non-tuple sequence for multidimensional indexing is deprecated; use `arr[tuple(seq)]` instead of `arr[seq]`. In the future this will be interpreted as an array index, `arr[np.array(seq)]`, which will result either in an error or a different result.\n",
      "  return np.add.reduce(sorted[indexer] * weights, axis=axis) / sumval\n"
     ]
    },
    {
     "name": "stdout",
     "output_type": "stream",
     "text": [
      "peaks identified in the kde fit of data:  [[2.37698082]\n",
      " [3.82318599]]\n",
      "means of the gaussians the GMM optimized:  [2.1594001458206464, 3.952158939152579]\n",
      "counts in each gaussian:  [2899, 428]\n",
      "raw fractions of data in each gaussian:  [0.87135558 0.12864442]\n",
      "means of gaussians that contain fraction of data above thresh (0.01):  [2.1594001458206464, 3.952158939152579]\n",
      "fraction of data in above-thresh gaussians:  [0.8713555755936279, 0.1286444244063721]\n"
     ]
    },
    {
     "name": "stderr",
     "output_type": "stream",
     "text": [
      "C:\\Users\\geeze\\Anaconda3\\lib\\site-packages\\scipy\\stats\\stats.py:1713: FutureWarning: Using a non-tuple sequence for multidimensional indexing is deprecated; use `arr[tuple(seq)]` instead of `arr[seq]`. In the future this will be interpreted as an array index, `arr[np.array(seq)]`, which will result either in an error or a different result.\n",
      "  return np.add.reduce(sorted[indexer] * weights, axis=axis) / sumval\n"
     ]
    },
    {
     "name": "stdout",
     "output_type": "stream",
     "text": [
      "peaks identified in the kde fit of data:  [[2.35195997]\n",
      " [3.85821518]]\n",
      "means of the gaussians the GMM optimized:  [2.119492080543379, 3.9466979616022697]\n",
      "counts in each gaussian:  [1976, 173]\n",
      "raw fractions of data in each gaussian:  [0.91949744 0.08050256]\n",
      "means of gaussians that contain fraction of data above thresh (0.01):  [2.119492080543379, 3.9466979616022697]\n",
      "fraction of data in above-thresh gaussians:  [0.9194974406700791, 0.0805025593299209]\n"
     ]
    },
    {
     "name": "stderr",
     "output_type": "stream",
     "text": [
      "C:\\Users\\geeze\\Anaconda3\\lib\\site-packages\\scipy\\stats\\stats.py:1713: FutureWarning: Using a non-tuple sequence for multidimensional indexing is deprecated; use `arr[tuple(seq)]` instead of `arr[seq]`. In the future this will be interpreted as an array index, `arr[np.array(seq)]`, which will result either in an error or a different result.\n",
      "  return np.add.reduce(sorted[indexer] * weights, axis=axis) / sumval\n"
     ]
    },
    {
     "name": "stdout",
     "output_type": "stream",
     "text": [
      "peaks identified in the kde fit of data:  [[1.79649708]\n",
      " [3.85821518]]\n",
      "means of the gaussians the GMM optimized:  [1.6585980982759647, 3.7091151613301334]\n",
      "counts in each gaussian:  [2963, 267]\n",
      "raw fractions of data in each gaussian:  [0.91733746 0.08266254]\n",
      "means of gaussians that contain fraction of data above thresh (0.01):  [1.6585980982759647, 3.7091151613301334]\n",
      "fraction of data in above-thresh gaussians:  [0.9173374613003096, 0.0826625386996904]\n"
     ]
    },
    {
     "name": "stderr",
     "output_type": "stream",
     "text": [
      "C:\\Users\\geeze\\Anaconda3\\lib\\site-packages\\scipy\\stats\\stats.py:1713: FutureWarning: Using a non-tuple sequence for multidimensional indexing is deprecated; use `arr[tuple(seq)]` instead of `arr[seq]`. In the future this will be interpreted as an array index, `arr[np.array(seq)]`, which will result either in an error or a different result.\n",
      "  return np.add.reduce(sorted[indexer] * weights, axis=axis) / sumval\n"
     ]
    },
    {
     "name": "stdout",
     "output_type": "stream",
     "text": [
      "peaks identified in the kde fit of data:  [[2.2618849 ]\n",
      " [3.81818182]]\n",
      "means of the gaussians the GMM optimized:  [2.1113046315043293, 3.8675771811750024]\n",
      "counts in each gaussian:  [2787, 421]\n",
      "raw fractions of data in each gaussian:  [0.86876559 0.13123441]\n",
      "means of gaussians that contain fraction of data above thresh (0.01):  [2.1113046315043293, 3.8675771811750024]\n",
      "fraction of data in above-thresh gaussians:  [0.8687655860349127, 0.13123441396508728]\n"
     ]
    },
    {
     "name": "stderr",
     "output_type": "stream",
     "text": [
      "C:\\Users\\geeze\\Anaconda3\\lib\\site-packages\\scipy\\stats\\stats.py:1713: FutureWarning: Using a non-tuple sequence for multidimensional indexing is deprecated; use `arr[tuple(seq)]` instead of `arr[seq]`. In the future this will be interpreted as an array index, `arr[np.array(seq)]`, which will result either in an error or a different result.\n",
      "  return np.add.reduce(sorted[indexer] * weights, axis=axis) / sumval\n"
     ]
    },
    {
     "name": "stdout",
     "output_type": "stream",
     "text": [
      "peaks identified in the kde fit of data:  [[2.33694746]\n",
      " [3.85321101]]\n",
      "means of the gaussians the GMM optimized:  [2.1428711007212713, 3.9343840785059565]\n",
      "counts in each gaussian:  [3158, 454]\n",
      "raw fractions of data in each gaussian:  [0.87430786 0.12569214]\n",
      "means of gaussians that contain fraction of data above thresh (0.01):  [2.1428711007212713, 3.9343840785059565]\n",
      "fraction of data in above-thresh gaussians:  [0.8743078626799557, 0.1256921373200443]\n"
     ]
    },
    {
     "name": "stderr",
     "output_type": "stream",
     "text": [
      "C:\\Users\\geeze\\Anaconda3\\lib\\site-packages\\scipy\\stats\\stats.py:1713: FutureWarning: Using a non-tuple sequence for multidimensional indexing is deprecated; use `arr[tuple(seq)]` instead of `arr[seq]`. In the future this will be interpreted as an array index, `arr[np.array(seq)]`, which will result either in an error or a different result.\n",
      "  return np.add.reduce(sorted[indexer] * weights, axis=axis) / sumval\n"
     ]
    },
    {
     "name": "stdout",
     "output_type": "stream",
     "text": [
      "peaks identified in the kde fit of data:  [[2.36697248]\n",
      " [3.82819016]]\n",
      "means of the gaussians the GMM optimized:  [2.156217542227193, 3.91347979673737]\n",
      "counts in each gaussian:  [2974, 425]\n",
      "raw fractions of data in each gaussian:  [0.87496322 0.12503678]\n",
      "means of gaussians that contain fraction of data above thresh (0.01):  [2.156217542227193, 3.91347979673737]\n",
      "fraction of data in above-thresh gaussians:  [0.8749632244777876, 0.12503677552221243]\n"
     ]
    },
    {
     "name": "stderr",
     "output_type": "stream",
     "text": [
      "C:\\Users\\geeze\\Anaconda3\\lib\\site-packages\\scipy\\stats\\stats.py:1713: FutureWarning: Using a non-tuple sequence for multidimensional indexing is deprecated; use `arr[tuple(seq)]` instead of `arr[seq]`. In the future this will be interpreted as an array index, `arr[np.array(seq)]`, which will result either in an error or a different result.\n",
      "  return np.add.reduce(sorted[indexer] * weights, axis=axis) / sumval\n"
     ]
    },
    {
     "name": "stdout",
     "output_type": "stream",
     "text": [
      "peaks identified in the kde fit of data:  [[2.33694746]\n",
      " [3.85321101]]\n",
      "means of the gaussians the GMM optimized:  [2.1582311232203875, 3.9334565434384494]\n",
      "counts in each gaussian:  [2950, 385]\n",
      "raw fractions of data in each gaussian:  [0.88455772 0.11544228]\n",
      "means of gaussians that contain fraction of data above thresh (0.01):  [2.1582311232203875, 3.9334565434384494]\n",
      "fraction of data in above-thresh gaussians:  [0.8845577211394303, 0.11544227886056972]\n"
     ]
    },
    {
     "name": "stderr",
     "output_type": "stream",
     "text": [
      "C:\\Users\\geeze\\Anaconda3\\lib\\site-packages\\scipy\\stats\\stats.py:1713: FutureWarning: Using a non-tuple sequence for multidimensional indexing is deprecated; use `arr[tuple(seq)]` instead of `arr[seq]`. In the future this will be interpreted as an array index, `arr[np.array(seq)]`, which will result either in an error or a different result.\n",
      "  return np.add.reduce(sorted[indexer] * weights, axis=axis) / sumval\n"
     ]
    },
    {
     "name": "stdout",
     "output_type": "stream",
     "text": [
      "peaks identified in the kde fit of data:  [[2.35696414]\n",
      " [3.83319433]]\n",
      "means of the gaussians the GMM optimized:  [2.1569593502940205, 3.9808173008493655]\n",
      "counts in each gaussian:  [2714, 346]\n",
      "raw fractions of data in each gaussian:  [0.8869281 0.1130719]\n",
      "means of gaussians that contain fraction of data above thresh (0.01):  [2.1569593502940205, 3.9808173008493655]\n",
      "fraction of data in above-thresh gaussians:  [0.8869281045751634, 0.1130718954248366]\n"
     ]
    },
    {
     "name": "stderr",
     "output_type": "stream",
     "text": [
      "C:\\Users\\geeze\\Anaconda3\\lib\\site-packages\\scipy\\stats\\stats.py:1713: FutureWarning: Using a non-tuple sequence for multidimensional indexing is deprecated; use `arr[tuple(seq)]` instead of `arr[seq]`. In the future this will be interpreted as an array index, `arr[np.array(seq)]`, which will result either in an error or a different result.\n",
      "  return np.add.reduce(sorted[indexer] * weights, axis=axis) / sumval\n"
     ]
    },
    {
     "name": "stdout",
     "output_type": "stream",
     "text": [
      "peaks identified in the kde fit of data:  [[2.38698916]\n",
      " [3.86321935]]\n",
      "means of the gaussians the GMM optimized:  [2.1694497290440893, 3.9709790075159943]\n",
      "counts in each gaussian:  [3145, 388]\n",
      "raw fractions of data in each gaussian:  [0.89017832 0.10982168]\n",
      "means of gaussians that contain fraction of data above thresh (0.01):  [2.1694497290440893, 3.9709790075159943]\n",
      "fraction of data in above-thresh gaussians:  [0.8901783187093122, 0.1098216812906878]\n"
     ]
    },
    {
     "name": "stderr",
     "output_type": "stream",
     "text": [
      "C:\\Users\\geeze\\Anaconda3\\lib\\site-packages\\scipy\\stats\\stats.py:1713: FutureWarning: Using a non-tuple sequence for multidimensional indexing is deprecated; use `arr[tuple(seq)]` instead of `arr[seq]`. In the future this will be interpreted as an array index, `arr[np.array(seq)]`, which will result either in an error or a different result.\n",
      "  return np.add.reduce(sorted[indexer] * weights, axis=axis) / sumval\n"
     ]
    },
    {
     "name": "stdout",
     "output_type": "stream",
     "text": [
      "peaks identified in the kde fit of data:  [[2.36196831]\n",
      " [3.80316931]]\n",
      "means of the gaussians the GMM optimized:  [2.1697020587702736, 3.912005859109724]\n",
      "counts in each gaussian:  [3394, 561]\n",
      "raw fractions of data in each gaussian:  [0.85815424 0.14184576]\n",
      "means of gaussians that contain fraction of data above thresh (0.01):  [2.1697020587702736, 3.912005859109724]\n",
      "fraction of data in above-thresh gaussians:  [0.8581542351453856, 0.14184576485461442]\n"
     ]
    },
    {
     "name": "stderr",
     "output_type": "stream",
     "text": [
      "C:\\Users\\geeze\\Anaconda3\\lib\\site-packages\\scipy\\stats\\stats.py:1713: FutureWarning: Using a non-tuple sequence for multidimensional indexing is deprecated; use `arr[tuple(seq)]` instead of `arr[seq]`. In the future this will be interpreted as an array index, `arr[np.array(seq)]`, which will result either in an error or a different result.\n",
      "  return np.add.reduce(sorted[indexer] * weights, axis=axis) / sumval\n"
     ]
    },
    {
     "name": "stdout",
     "output_type": "stream",
     "text": [
      "peaks identified in the kde fit of data:  [[1.84153461]\n",
      " [3.80817348]]\n",
      "means of the gaussians the GMM optimized:  [1.7193792465207023, 3.8267983311675744]\n",
      "counts in each gaussian:  [2627, 215]\n",
      "raw fractions of data in each gaussian:  [0.92434905 0.07565095]\n",
      "means of gaussians that contain fraction of data above thresh (0.01):  [1.7193792465207023, 3.8267983311675744]\n",
      "fraction of data in above-thresh gaussians:  [0.9243490499648135, 0.07565095003518649]\n"
     ]
    },
    {
     "name": "stderr",
     "output_type": "stream",
     "text": [
      "C:\\Users\\geeze\\Anaconda3\\lib\\site-packages\\scipy\\stats\\stats.py:1713: FutureWarning: Using a non-tuple sequence for multidimensional indexing is deprecated; use `arr[tuple(seq)]` instead of `arr[seq]`. In the future this will be interpreted as an array index, `arr[np.array(seq)]`, which will result either in an error or a different result.\n",
      "  return np.add.reduce(sorted[indexer] * weights, axis=axis) / sumval\n"
     ]
    },
    {
     "name": "stdout",
     "output_type": "stream",
     "text": [
      "peaks identified in the kde fit of data:  [[2.30191827]\n",
      " [3.80817348]]\n",
      "means of the gaussians the GMM optimized:  [2.1061882650907564, 3.9172665884280353]\n",
      "counts in each gaussian:  [2599, 326]\n",
      "raw fractions of data in each gaussian:  [0.88854701 0.11145299]\n",
      "means of gaussians that contain fraction of data above thresh (0.01):  [2.1061882650907564, 3.9172665884280353]\n",
      "fraction of data in above-thresh gaussians:  [0.8885470085470085, 0.11145299145299145]\n"
     ]
    },
    {
     "name": "stderr",
     "output_type": "stream",
     "text": [
      "C:\\Users\\geeze\\Anaconda3\\lib\\site-packages\\scipy\\stats\\stats.py:1713: FutureWarning: Using a non-tuple sequence for multidimensional indexing is deprecated; use `arr[tuple(seq)]` instead of `arr[seq]`. In the future this will be interpreted as an array index, `arr[np.array(seq)]`, which will result either in an error or a different result.\n",
      "  return np.add.reduce(sorted[indexer] * weights, axis=axis) / sumval\n"
     ]
    },
    {
     "name": "stdout",
     "output_type": "stream",
     "text": [
      "peaks identified in the kde fit of data:  [[2.34195163]\n",
      " [3.84820684]]\n",
      "means of the gaussians the GMM optimized:  [2.2027327266588292, 2.761953816516941]\n",
      "counts in each gaussian:  [2345, 550]\n",
      "raw fractions of data in each gaussian:  [0.81001727 0.18998273]\n",
      "means of gaussians that contain fraction of data above thresh (0.01):  [2.2027327266588292, 2.761953816516941]\n",
      "fraction of data in above-thresh gaussians:  [0.8100172711571675, 0.18998272884283246]\n"
     ]
    },
    {
     "name": "stderr",
     "output_type": "stream",
     "text": [
      "C:\\Users\\geeze\\Anaconda3\\lib\\site-packages\\scipy\\stats\\stats.py:1713: FutureWarning: Using a non-tuple sequence for multidimensional indexing is deprecated; use `arr[tuple(seq)]` instead of `arr[seq]`. In the future this will be interpreted as an array index, `arr[np.array(seq)]`, which will result either in an error or a different result.\n",
      "  return np.add.reduce(sorted[indexer] * weights, axis=axis) / sumval\n"
     ]
    },
    {
     "name": "stdout",
     "output_type": "stream",
     "text": [
      "peaks identified in the kde fit of data:  [[2.3469558]\n",
      " [3.8381985]]\n",
      "means of the gaussians the GMM optimized:  [2.147478444945397, 3.908644887690684]\n",
      "counts in each gaussian:  [2902, 454]\n",
      "raw fractions of data in each gaussian:  [0.8647199 0.1352801]\n",
      "means of gaussians that contain fraction of data above thresh (0.01):  [2.147478444945397, 3.908644887690684]\n",
      "fraction of data in above-thresh gaussians:  [0.864719904648391, 0.13528009535160906]\n"
     ]
    },
    {
     "name": "stderr",
     "output_type": "stream",
     "text": [
      "C:\\Users\\geeze\\Anaconda3\\lib\\site-packages\\scipy\\stats\\stats.py:1713: FutureWarning: Using a non-tuple sequence for multidimensional indexing is deprecated; use `arr[tuple(seq)]` instead of `arr[seq]`. In the future this will be interpreted as an array index, `arr[np.array(seq)]`, which will result either in an error or a different result.\n",
      "  return np.add.reduce(sorted[indexer] * weights, axis=axis) / sumval\n"
     ]
    },
    {
     "name": "stdout",
     "output_type": "stream",
     "text": [
      "peaks identified in the kde fit of data:  [[2.3469558 ]\n",
      " [3.90325271]]\n",
      "means of the gaussians the GMM optimized:  [2.1640230842982144, 3.985728853591433]\n",
      "counts in each gaussian:  [2757, 379]\n",
      "raw fractions of data in each gaussian:  [0.87914541 0.12085459]\n",
      "means of gaussians that contain fraction of data above thresh (0.01):  [2.1640230842982144, 3.985728853591433]\n",
      "fraction of data in above-thresh gaussians:  [0.8791454081632653, 0.12085459183673469]\n"
     ]
    },
    {
     "name": "stderr",
     "output_type": "stream",
     "text": [
      "C:\\Users\\geeze\\Anaconda3\\lib\\site-packages\\scipy\\stats\\stats.py:1713: FutureWarning: Using a non-tuple sequence for multidimensional indexing is deprecated; use `arr[tuple(seq)]` instead of `arr[seq]`. In the future this will be interpreted as an array index, `arr[np.array(seq)]`, which will result either in an error or a different result.\n",
      "  return np.add.reduce(sorted[indexer] * weights, axis=axis) / sumval\n"
     ]
    },
    {
     "name": "stdout",
     "output_type": "stream",
     "text": [
      "peaks identified in the kde fit of data:  [[2.35195997]\n",
      " [3.82819016]]\n",
      "means of the gaussians the GMM optimized:  [2.1771836514321783, 3.9051382071548546]\n",
      "counts in each gaussian:  [2827, 415]\n",
      "raw fractions of data in each gaussian:  [0.8719926 0.1280074]\n",
      "means of gaussians that contain fraction of data above thresh (0.01):  [2.1771836514321783, 3.9051382071548546]\n",
      "fraction of data in above-thresh gaussians:  [0.8719925971622455, 0.12800740283775447]\n"
     ]
    },
    {
     "name": "stderr",
     "output_type": "stream",
     "text": [
      "C:\\Users\\geeze\\Anaconda3\\lib\\site-packages\\scipy\\stats\\stats.py:1713: FutureWarning: Using a non-tuple sequence for multidimensional indexing is deprecated; use `arr[tuple(seq)]` instead of `arr[seq]`. In the future this will be interpreted as an array index, `arr[np.array(seq)]`, which will result either in an error or a different result.\n",
      "  return np.add.reduce(sorted[indexer] * weights, axis=axis) / sumval\n"
     ]
    },
    {
     "name": "stdout",
     "output_type": "stream",
     "text": [
      "peaks identified in the kde fit of data:  [[2.36196831]\n",
      " [3.80817348]]\n",
      "means of the gaussians the GMM optimized:  [2.2551065123531795, 2.760025422659742]\n",
      "counts in each gaussian:  [2651, 892]\n",
      "raw fractions of data in each gaussian:  [0.74823596 0.25176404]\n",
      "means of gaussians that contain fraction of data above thresh (0.01):  [2.2551065123531795, 2.760025422659742]\n",
      "fraction of data in above-thresh gaussians:  [0.7482359582274908, 0.25176404177250916]\n"
     ]
    },
    {
     "name": "stderr",
     "output_type": "stream",
     "text": [
      "C:\\Users\\geeze\\Anaconda3\\lib\\site-packages\\scipy\\stats\\stats.py:1713: FutureWarning: Using a non-tuple sequence for multidimensional indexing is deprecated; use `arr[tuple(seq)]` instead of `arr[seq]`. In the future this will be interpreted as an array index, `arr[np.array(seq)]`, which will result either in an error or a different result.\n",
      "  return np.add.reduce(sorted[indexer] * weights, axis=axis) / sumval\n"
     ]
    },
    {
     "name": "stdout",
     "output_type": "stream",
     "text": [
      "peaks identified in the kde fit of data:  [[2.36196831]\n",
      " [3.86321935]]\n",
      "means of the gaussians the GMM optimized:  [2.1619885788571644, 3.9838571086744965]\n",
      "counts in each gaussian:  [2875, 370]\n",
      "raw fractions of data in each gaussian:  [0.88597843 0.11402157]\n",
      "means of gaussians that contain fraction of data above thresh (0.01):  [2.1619885788571644, 3.9838571086744965]\n",
      "fraction of data in above-thresh gaussians:  [0.8859784283513097, 0.1140215716486903]\n"
     ]
    },
    {
     "name": "stderr",
     "output_type": "stream",
     "text": [
      "C:\\Users\\geeze\\Anaconda3\\lib\\site-packages\\scipy\\stats\\stats.py:1713: FutureWarning: Using a non-tuple sequence for multidimensional indexing is deprecated; use `arr[tuple(seq)]` instead of `arr[seq]`. In the future this will be interpreted as an array index, `arr[np.array(seq)]`, which will result either in an error or a different result.\n",
      "  return np.add.reduce(sorted[indexer] * weights, axis=axis) / sumval\n"
     ]
    },
    {
     "name": "stdout",
     "output_type": "stream",
     "text": [
      "peaks identified in the kde fit of data:  [[2.06672227]\n",
      " [3.84320267]]\n",
      "means of the gaussians the GMM optimized:  [1.909089788580087, 3.9038743969232788]\n",
      "counts in each gaussian:  [7148, 1131]\n",
      "raw fractions of data in each gaussian:  [0.8633893 0.1366107]\n",
      "means of gaussians that contain fraction of data above thresh (0.01):  [1.909089788580087, 3.9038743969232788]\n",
      "fraction of data in above-thresh gaussians:  [0.8633892982244232, 0.13661070177557677]\n"
     ]
    },
    {
     "name": "stderr",
     "output_type": "stream",
     "text": [
      "C:\\Users\\geeze\\Anaconda3\\lib\\site-packages\\scipy\\stats\\stats.py:1713: FutureWarning: Using a non-tuple sequence for multidimensional indexing is deprecated; use `arr[tuple(seq)]` instead of `arr[seq]`. In the future this will be interpreted as an array index, `arr[np.array(seq)]`, which will result either in an error or a different result.\n",
      "  return np.add.reduce(sorted[indexer] * weights, axis=axis) / sumval\n"
     ]
    },
    {
     "name": "stdout",
     "output_type": "stream",
     "text": [
      "peaks identified in the kde fit of data:  [[2.30692244]\n",
      " [3.79816514]]\n",
      "means of the gaussians the GMM optimized:  [2.144125375747153, 3.879166831566015]\n",
      "counts in each gaussian:  [3468, 501]\n",
      "raw fractions of data in each gaussian:  [0.87377173 0.12622827]\n",
      "means of gaussians that contain fraction of data above thresh (0.01):  [2.144125375747153, 3.879166831566015]\n",
      "fraction of data in above-thresh gaussians:  [0.873771730914588, 0.12622826908541193]\n"
     ]
    },
    {
     "name": "stderr",
     "output_type": "stream",
     "text": [
      "C:\\Users\\geeze\\Anaconda3\\lib\\site-packages\\scipy\\stats\\stats.py:1713: FutureWarning: Using a non-tuple sequence for multidimensional indexing is deprecated; use `arr[tuple(seq)]` instead of `arr[seq]`. In the future this will be interpreted as an array index, `arr[np.array(seq)]`, which will result either in an error or a different result.\n",
      "  return np.add.reduce(sorted[indexer] * weights, axis=axis) / sumval\n"
     ]
    },
    {
     "name": "stdout",
     "output_type": "stream",
     "text": [
      "peaks identified in the kde fit of data:  [[2.33694746]\n",
      " [3.84820684]]\n",
      "means of the gaussians the GMM optimized:  [2.2366702176712536, 2.7108318497963793]\n",
      "counts in each gaussian:  [2647, 808]\n",
      "raw fractions of data in each gaussian:  [0.76613603 0.23386397]\n",
      "means of gaussians that contain fraction of data above thresh (0.01):  [2.2366702176712536, 2.7108318497963793]\n",
      "fraction of data in above-thresh gaussians:  [0.7661360347322721, 0.23386396526772793]\n"
     ]
    },
    {
     "name": "stderr",
     "output_type": "stream",
     "text": [
      "C:\\Users\\geeze\\Anaconda3\\lib\\site-packages\\scipy\\stats\\stats.py:1713: FutureWarning: Using a non-tuple sequence for multidimensional indexing is deprecated; use `arr[tuple(seq)]` instead of `arr[seq]`. In the future this will be interpreted as an array index, `arr[np.array(seq)]`, which will result either in an error or a different result.\n",
      "  return np.add.reduce(sorted[indexer] * weights, axis=axis) / sumval\n"
     ]
    },
    {
     "name": "stdout",
     "output_type": "stream",
     "text": [
      "peaks identified in the kde fit of data:  [[2.36196831]\n",
      " [3.81818182]]\n",
      "means of the gaussians the GMM optimized:  [2.141821086245346, 3.9585581971158392]\n",
      "counts in each gaussian:  [3147, 470]\n",
      "raw fractions of data in each gaussian:  [0.87005806 0.12994194]\n",
      "means of gaussians that contain fraction of data above thresh (0.01):  [2.141821086245346, 3.9585581971158392]\n",
      "fraction of data in above-thresh gaussians:  [0.870058059165054, 0.1299419408349461]\n"
     ]
    },
    {
     "name": "stderr",
     "output_type": "stream",
     "text": [
      "C:\\Users\\geeze\\Anaconda3\\lib\\site-packages\\scipy\\stats\\stats.py:1713: FutureWarning: Using a non-tuple sequence for multidimensional indexing is deprecated; use `arr[tuple(seq)]` instead of `arr[seq]`. In the future this will be interpreted as an array index, `arr[np.array(seq)]`, which will result either in an error or a different result.\n",
      "  return np.add.reduce(sorted[indexer] * weights, axis=axis) / sumval\n"
     ]
    },
    {
     "name": "stdout",
     "output_type": "stream",
     "text": [
      "peaks identified in the kde fit of data:  [[2.36697248]\n",
      " [3.84820684]]\n",
      "means of the gaussians the GMM optimized:  [2.1547798175765966, 3.956142067003573]\n",
      "counts in each gaussian:  [3122, 425]\n",
      "raw fractions of data in each gaussian:  [0.88018043 0.11981957]\n",
      "means of gaussians that contain fraction of data above thresh (0.01):  [2.1547798175765966, 3.956142067003573]\n",
      "fraction of data in above-thresh gaussians:  [0.8801804341697209, 0.11981956583027911]\n"
     ]
    },
    {
     "name": "stderr",
     "output_type": "stream",
     "text": [
      "C:\\Users\\geeze\\Anaconda3\\lib\\site-packages\\scipy\\stats\\stats.py:1713: FutureWarning: Using a non-tuple sequence for multidimensional indexing is deprecated; use `arr[tuple(seq)]` instead of `arr[seq]`. In the future this will be interpreted as an array index, `arr[np.array(seq)]`, which will result either in an error or a different result.\n",
      "  return np.add.reduce(sorted[indexer] * weights, axis=axis) / sumval\n"
     ]
    },
    {
     "name": "stdout",
     "output_type": "stream",
     "text": [
      "peaks identified in the kde fit of data:  [[2.36196831]\n",
      " [3.83319433]]\n",
      "means of the gaussians the GMM optimized:  [2.1596711368287957, 3.918537194280718]\n",
      "counts in each gaussian:  [2718, 389]\n",
      "raw fractions of data in each gaussian:  [0.87479884 0.12520116]\n",
      "means of gaussians that contain fraction of data above thresh (0.01):  [2.1596711368287957, 3.918537194280718]\n",
      "fraction of data in above-thresh gaussians:  [0.874798841326038, 0.12520115867396203]\n"
     ]
    },
    {
     "name": "stderr",
     "output_type": "stream",
     "text": [
      "C:\\Users\\geeze\\Anaconda3\\lib\\site-packages\\scipy\\stats\\stats.py:1713: FutureWarning: Using a non-tuple sequence for multidimensional indexing is deprecated; use `arr[tuple(seq)]` instead of `arr[seq]`. In the future this will be interpreted as an array index, `arr[np.array(seq)]`, which will result either in an error or a different result.\n",
      "  return np.add.reduce(sorted[indexer] * weights, axis=axis) / sumval\n"
     ]
    },
    {
     "name": "stdout",
     "output_type": "stream",
     "text": [
      "peaks identified in the kde fit of data:  [[2.37698082]\n",
      " [3.85321101]]\n",
      "means of the gaussians the GMM optimized:  [2.1632647866073875, 3.9801249658603557]\n",
      "counts in each gaussian:  [2693, 294]\n",
      "raw fractions of data in each gaussian:  [0.90157349 0.09842651]\n",
      "means of gaussians that contain fraction of data above thresh (0.01):  [2.1632647866073875, 3.9801249658603557]\n",
      "fraction of data in above-thresh gaussians:  [0.9015734851021091, 0.09842651489789087]\n"
     ]
    },
    {
     "name": "stderr",
     "output_type": "stream",
     "text": [
      "C:\\Users\\geeze\\Anaconda3\\lib\\site-packages\\scipy\\stats\\stats.py:1713: FutureWarning: Using a non-tuple sequence for multidimensional indexing is deprecated; use `arr[tuple(seq)]` instead of `arr[seq]`. In the future this will be interpreted as an array index, `arr[np.array(seq)]`, which will result either in an error or a different result.\n",
      "  return np.add.reduce(sorted[indexer] * weights, axis=axis) / sumval\n"
     ]
    },
    {
     "name": "stdout",
     "output_type": "stream",
     "text": [
      "peaks identified in the kde fit of data:  [[2.36196831]\n",
      " [3.8381985 ]]\n",
      "means of the gaussians the GMM optimized:  [2.2496201074681728, 2.7101360687268077]\n",
      "counts in each gaussian:  [2482, 839]\n",
      "raw fractions of data in each gaussian:  [0.74736525 0.25263475]\n",
      "means of gaussians that contain fraction of data above thresh (0.01):  [2.2496201074681728, 2.7101360687268077]\n",
      "fraction of data in above-thresh gaussians:  [0.7473652514302921, 0.2526347485697079]\n"
     ]
    },
    {
     "name": "stderr",
     "output_type": "stream",
     "text": [
      "C:\\Users\\geeze\\Anaconda3\\lib\\site-packages\\scipy\\stats\\stats.py:1713: FutureWarning: Using a non-tuple sequence for multidimensional indexing is deprecated; use `arr[tuple(seq)]` instead of `arr[seq]`. In the future this will be interpreted as an array index, `arr[np.array(seq)]`, which will result either in an error or a different result.\n",
      "  return np.add.reduce(sorted[indexer] * weights, axis=axis) / sumval\n"
     ]
    },
    {
     "name": "stdout",
     "output_type": "stream",
     "text": [
      "peaks identified in the kde fit of data:  [[2.13678065]\n",
      " [3.84320267]]\n",
      "means of the gaussians the GMM optimized:  [1.9436381735972958, 3.8940238992694276]\n",
      "counts in each gaussian:  [3249, 460]\n",
      "raw fractions of data in each gaussian:  [0.87597735 0.12402265]\n",
      "means of gaussians that contain fraction of data above thresh (0.01):  [1.9436381735972958, 3.8940238992694276]\n",
      "fraction of data in above-thresh gaussians:  [0.8759773523860879, 0.1240226476139121]\n"
     ]
    },
    {
     "name": "stderr",
     "output_type": "stream",
     "text": [
      "C:\\Users\\geeze\\Anaconda3\\lib\\site-packages\\scipy\\stats\\stats.py:1713: FutureWarning: Using a non-tuple sequence for multidimensional indexing is deprecated; use `arr[tuple(seq)]` instead of `arr[seq]`. In the future this will be interpreted as an array index, `arr[np.array(seq)]`, which will result either in an error or a different result.\n",
      "  return np.add.reduce(sorted[indexer] * weights, axis=axis) / sumval\n"
     ]
    },
    {
     "name": "stdout",
     "output_type": "stream",
     "text": [
      "peaks identified in the kde fit of data:  [[2.31693078]\n",
      " [3.88323603]]\n",
      "means of the gaussians the GMM optimized:  [2.1146486542000504, 3.948335874116006]\n",
      "counts in each gaussian:  [2605, 287]\n",
      "raw fractions of data in each gaussian:  [0.90076072 0.09923928]\n",
      "means of gaussians that contain fraction of data above thresh (0.01):  [2.1146486542000504, 3.948335874116006]\n",
      "fraction of data in above-thresh gaussians:  [0.9007607192254495, 0.09923928077455048]\n"
     ]
    },
    {
     "name": "stderr",
     "output_type": "stream",
     "text": [
      "C:\\Users\\geeze\\Anaconda3\\lib\\site-packages\\scipy\\stats\\stats.py:1713: FutureWarning: Using a non-tuple sequence for multidimensional indexing is deprecated; use `arr[tuple(seq)]` instead of `arr[seq]`. In the future this will be interpreted as an array index, `arr[np.array(seq)]`, which will result either in an error or a different result.\n",
      "  return np.add.reduce(sorted[indexer] * weights, axis=axis) / sumval\n"
     ]
    },
    {
     "name": "stdout",
     "output_type": "stream",
     "text": [
      "peaks identified in the kde fit of data:  [[2.35696414]\n",
      " [3.88323603]]\n",
      "means of the gaussians the GMM optimized:  [2.1386305271970474, 3.9476676839322353]\n",
      "counts in each gaussian:  [3113, 443]\n",
      "raw fractions of data in each gaussian:  [0.87542182 0.12457818]\n",
      "means of gaussians that contain fraction of data above thresh (0.01):  [2.1386305271970474, 3.9476676839322353]\n",
      "fraction of data in above-thresh gaussians:  [0.875421822272216, 0.12457817772778403]\n"
     ]
    },
    {
     "name": "stderr",
     "output_type": "stream",
     "text": [
      "C:\\Users\\geeze\\Anaconda3\\lib\\site-packages\\scipy\\stats\\stats.py:1713: FutureWarning: Using a non-tuple sequence for multidimensional indexing is deprecated; use `arr[tuple(seq)]` instead of `arr[seq]`. In the future this will be interpreted as an array index, `arr[np.array(seq)]`, which will result either in an error or a different result.\n",
      "  return np.add.reduce(sorted[indexer] * weights, axis=axis) / sumval\n"
     ]
    },
    {
     "name": "stdout",
     "output_type": "stream",
     "text": [
      "peaks identified in the kde fit of data:  [[2.37197665]\n",
      " [3.85321101]]\n",
      "means of the gaussians the GMM optimized:  [2.1549467396073307, 3.956607638840362]\n",
      "counts in each gaussian:  [2749, 335]\n",
      "raw fractions of data in each gaussian:  [0.89137484 0.10862516]\n",
      "means of gaussians that contain fraction of data above thresh (0.01):  [2.1549467396073307, 3.956607638840362]\n",
      "fraction of data in above-thresh gaussians:  [0.8913748378728924, 0.10862516212710766]\n"
     ]
    },
    {
     "name": "stderr",
     "output_type": "stream",
     "text": [
      "C:\\Users\\geeze\\Anaconda3\\lib\\site-packages\\scipy\\stats\\stats.py:1713: FutureWarning: Using a non-tuple sequence for multidimensional indexing is deprecated; use `arr[tuple(seq)]` instead of `arr[seq]`. In the future this will be interpreted as an array index, `arr[np.array(seq)]`, which will result either in an error or a different result.\n",
      "  return np.add.reduce(sorted[indexer] * weights, axis=axis) / sumval\n"
     ]
    },
    {
     "name": "stdout",
     "output_type": "stream",
     "text": [
      "peaks identified in the kde fit of data:  [[2.36196831]\n",
      " [3.81317765]]\n",
      "means of the gaussians the GMM optimized:  [2.1514166169919866, 3.9511511729934634]\n",
      "counts in each gaussian:  [2951, 395]\n",
      "raw fractions of data in each gaussian:  [0.8819486 0.1180514]\n",
      "means of gaussians that contain fraction of data above thresh (0.01):  [2.1514166169919866, 3.9511511729934634]\n",
      "fraction of data in above-thresh gaussians:  [0.8819485953377166, 0.11805140466228332]\n"
     ]
    },
    {
     "name": "stderr",
     "output_type": "stream",
     "text": [
      "C:\\Users\\geeze\\Anaconda3\\lib\\site-packages\\scipy\\stats\\stats.py:1713: FutureWarning: Using a non-tuple sequence for multidimensional indexing is deprecated; use `arr[tuple(seq)]` instead of `arr[seq]`. In the future this will be interpreted as an array index, `arr[np.array(seq)]`, which will result either in an error or a different result.\n",
      "  return np.add.reduce(sorted[indexer] * weights, axis=axis) / sumval\n"
     ]
    },
    {
     "name": "stdout",
     "output_type": "stream",
     "text": [
      "peaks identified in the kde fit of data:  [[2.36697248]\n",
      " [3.86822352]]\n",
      "means of the gaussians the GMM optimized:  [2.1681546672074923, 3.929407354055493]\n",
      "counts in each gaussian:  [2776, 387]\n",
      "raw fractions of data in each gaussian:  [0.8776478 0.1223522]\n",
      "means of gaussians that contain fraction of data above thresh (0.01):  [2.1681546672074923, 3.929407354055493]\n",
      "fraction of data in above-thresh gaussians:  [0.8776478027189377, 0.12235219728106228]\n"
     ]
    },
    {
     "name": "stderr",
     "output_type": "stream",
     "text": [
      "C:\\Users\\geeze\\Anaconda3\\lib\\site-packages\\scipy\\stats\\stats.py:1713: FutureWarning: Using a non-tuple sequence for multidimensional indexing is deprecated; use `arr[tuple(seq)]` instead of `arr[seq]`. In the future this will be interpreted as an array index, `arr[np.array(seq)]`, which will result either in an error or a different result.\n",
      "  return np.add.reduce(sorted[indexer] * weights, axis=axis) / sumval\n"
     ]
    },
    {
     "name": "stdout",
     "output_type": "stream",
     "text": [
      "peaks identified in the kde fit of data:  [[2.36196831]\n",
      " [3.82819016]]\n",
      "means of the gaussians the GMM optimized:  [2.1560900211911784, 3.9242945557420255]\n",
      "counts in each gaussian:  [3380, 412]\n",
      "raw fractions of data in each gaussian:  [0.89135021 0.10864979]\n",
      "means of gaussians that contain fraction of data above thresh (0.01):  [2.1560900211911784, 3.9242945557420255]\n",
      "fraction of data in above-thresh gaussians:  [0.8913502109704642, 0.10864978902953587]\n"
     ]
    },
    {
     "name": "stderr",
     "output_type": "stream",
     "text": [
      "C:\\Users\\geeze\\Anaconda3\\lib\\site-packages\\scipy\\stats\\stats.py:1713: FutureWarning: Using a non-tuple sequence for multidimensional indexing is deprecated; use `arr[tuple(seq)]` instead of `arr[seq]`. In the future this will be interpreted as an array index, `arr[np.array(seq)]`, which will result either in an error or a different result.\n",
      "  return np.add.reduce(sorted[indexer] * weights, axis=axis) / sumval\n"
     ]
    },
    {
     "name": "stdout",
     "output_type": "stream",
     "text": [
      "peaks identified in the kde fit of data:  [[2.33694746]\n",
      " [3.8381985 ]]\n",
      "means of the gaussians the GMM optimized:  [2.148992648932853, 3.939509409513813]\n",
      "counts in each gaussian:  [2937, 500]\n",
      "raw fractions of data in each gaussian:  [0.85452429 0.14547571]\n",
      "means of gaussians that contain fraction of data above thresh (0.01):  [2.148992648932853, 3.939509409513813]\n",
      "fraction of data in above-thresh gaussians:  [0.8545242944428281, 0.14547570555717196]\n"
     ]
    },
    {
     "name": "stderr",
     "output_type": "stream",
     "text": [
      "C:\\Users\\geeze\\Anaconda3\\lib\\site-packages\\scipy\\stats\\stats.py:1713: FutureWarning: Using a non-tuple sequence for multidimensional indexing is deprecated; use `arr[tuple(seq)]` instead of `arr[seq]`. In the future this will be interpreted as an array index, `arr[np.array(seq)]`, which will result either in an error or a different result.\n",
      "  return np.add.reduce(sorted[indexer] * weights, axis=axis) / sumval\n"
     ]
    },
    {
     "name": "stdout",
     "output_type": "stream",
     "text": [
      "peaks identified in the kde fit of data:  [[2.18682235]\n",
      " [3.83319433]]\n",
      "means of the gaussians the GMM optimized:  [1.990022651956916, 3.8917986377895057]\n",
      "counts in each gaussian:  [3151, 408]\n",
      "raw fractions of data in each gaussian:  [0.88536106 0.11463894]\n",
      "means of gaussians that contain fraction of data above thresh (0.01):  [1.990022651956916, 3.8917986377895057]\n",
      "fraction of data in above-thresh gaussians:  [0.8853610564765384, 0.11463894352346164]\n"
     ]
    },
    {
     "name": "stderr",
     "output_type": "stream",
     "text": [
      "C:\\Users\\geeze\\Anaconda3\\lib\\site-packages\\scipy\\stats\\stats.py:1713: FutureWarning: Using a non-tuple sequence for multidimensional indexing is deprecated; use `arr[tuple(seq)]` instead of `arr[seq]`. In the future this will be interpreted as an array index, `arr[np.array(seq)]`, which will result either in an error or a different result.\n",
      "  return np.add.reduce(sorted[indexer] * weights, axis=axis) / sumval\n"
     ]
    },
    {
     "name": "stdout",
     "output_type": "stream",
     "text": [
      "peaks identified in the kde fit of data:  [[2.30692244]\n",
      " [3.85321101]]\n",
      "means of the gaussians the GMM optimized:  [2.1276057131899084, 3.953196391379926]\n",
      "counts in each gaussian:  [2705, 293]\n",
      "raw fractions of data in each gaussian:  [0.90226818 0.09773182]\n",
      "means of gaussians that contain fraction of data above thresh (0.01):  [2.1276057131899084, 3.953196391379926]\n",
      "fraction of data in above-thresh gaussians:  [0.9022681787858572, 0.09773182121414276]\n"
     ]
    },
    {
     "name": "stderr",
     "output_type": "stream",
     "text": [
      "C:\\Users\\geeze\\Anaconda3\\lib\\site-packages\\scipy\\stats\\stats.py:1713: FutureWarning: Using a non-tuple sequence for multidimensional indexing is deprecated; use `arr[tuple(seq)]` instead of `arr[seq]`. In the future this will be interpreted as an array index, `arr[np.array(seq)]`, which will result either in an error or a different result.\n",
      "  return np.add.reduce(sorted[indexer] * weights, axis=axis) / sumval\n"
     ]
    },
    {
     "name": "stdout",
     "output_type": "stream",
     "text": [
      "peaks identified in the kde fit of data:  [[2.36196831]\n",
      " [3.87322769]]\n",
      "means of the gaussians the GMM optimized:  [2.1569878243658724, 3.963863268068872]\n",
      "counts in each gaussian:  [3300, 480]\n",
      "raw fractions of data in each gaussian:  [0.87301587 0.12698413]\n",
      "means of gaussians that contain fraction of data above thresh (0.01):  [2.1569878243658724, 3.963863268068872]\n",
      "fraction of data in above-thresh gaussians:  [0.873015873015873, 0.12698412698412698]\n"
     ]
    },
    {
     "name": "stderr",
     "output_type": "stream",
     "text": [
      "C:\\Users\\geeze\\Anaconda3\\lib\\site-packages\\scipy\\stats\\stats.py:1713: FutureWarning: Using a non-tuple sequence for multidimensional indexing is deprecated; use `arr[tuple(seq)]` instead of `arr[seq]`. In the future this will be interpreted as an array index, `arr[np.array(seq)]`, which will result either in an error or a different result.\n",
      "  return np.add.reduce(sorted[indexer] * weights, axis=axis) / sumval\n"
     ]
    },
    {
     "name": "stdout",
     "output_type": "stream",
     "text": [
      "peaks identified in the kde fit of data:  [[2.33694746]\n",
      " [3.81818182]]\n",
      "means of the gaussians the GMM optimized:  [2.149260820665925, 3.91081619388668]\n",
      "counts in each gaussian:  [3212, 479]\n",
      "raw fractions of data in each gaussian:  [0.87022487 0.12977513]\n",
      "means of gaussians that contain fraction of data above thresh (0.01):  [2.149260820665925, 3.91081619388668]\n",
      "fraction of data in above-thresh gaussians:  [0.8702248713085885, 0.12977512869141153]\n"
     ]
    },
    {
     "name": "stderr",
     "output_type": "stream",
     "text": [
      "C:\\Users\\geeze\\Anaconda3\\lib\\site-packages\\scipy\\stats\\stats.py:1713: FutureWarning: Using a non-tuple sequence for multidimensional indexing is deprecated; use `arr[tuple(seq)]` instead of `arr[seq]`. In the future this will be interpreted as an array index, `arr[np.array(seq)]`, which will result either in an error or a different result.\n",
      "  return np.add.reduce(sorted[indexer] * weights, axis=axis) / sumval\n"
     ]
    },
    {
     "name": "stdout",
     "output_type": "stream",
     "text": [
      "peaks identified in the kde fit of data:  [[2.36697248]\n",
      " [3.84320267]]\n",
      "means of the gaussians the GMM optimized:  [2.1506507114931734, 3.982880542731947]\n",
      "counts in each gaussian:  [2821, 387]\n",
      "raw fractions of data in each gaussian:  [0.87936409 0.12063591]\n",
      "means of gaussians that contain fraction of data above thresh (0.01):  [2.1506507114931734, 3.982880542731947]\n",
      "fraction of data in above-thresh gaussians:  [0.8793640897755611, 0.1206359102244389]\n"
     ]
    },
    {
     "name": "stderr",
     "output_type": "stream",
     "text": [
      "C:\\Users\\geeze\\Anaconda3\\lib\\site-packages\\scipy\\stats\\stats.py:1713: FutureWarning: Using a non-tuple sequence for multidimensional indexing is deprecated; use `arr[tuple(seq)]` instead of `arr[seq]`. In the future this will be interpreted as an array index, `arr[np.array(seq)]`, which will result either in an error or a different result.\n",
      "  return np.add.reduce(sorted[indexer] * weights, axis=axis) / sumval\n"
     ]
    },
    {
     "name": "stdout",
     "output_type": "stream",
     "text": [
      "peaks identified in the kde fit of data:  [[2.36196831]\n",
      " [3.8381985 ]]\n",
      "means of the gaussians the GMM optimized:  [2.169305493355204, 3.927290922695765]\n",
      "counts in each gaussian:  [3114, 498]\n",
      "raw fractions of data in each gaussian:  [0.86212625 0.13787375]\n",
      "means of gaussians that contain fraction of data above thresh (0.01):  [2.169305493355204, 3.927290922695765]\n",
      "fraction of data in above-thresh gaussians:  [0.8621262458471761, 0.1378737541528239]\n"
     ]
    },
    {
     "name": "stderr",
     "output_type": "stream",
     "text": [
      "C:\\Users\\geeze\\Anaconda3\\lib\\site-packages\\scipy\\stats\\stats.py:1713: FutureWarning: Using a non-tuple sequence for multidimensional indexing is deprecated; use `arr[tuple(seq)]` instead of `arr[seq]`. In the future this will be interpreted as an array index, `arr[np.array(seq)]`, which will result either in an error or a different result.\n",
      "  return np.add.reduce(sorted[indexer] * weights, axis=axis) / sumval\n"
     ]
    },
    {
     "name": "stdout",
     "output_type": "stream",
     "text": [
      "peaks identified in the kde fit of data:  [[2.38198499]\n",
      " [3.84820684]]\n",
      "means of the gaussians the GMM optimized:  [2.1668864301105937, 3.961362902229681]\n",
      "counts in each gaussian:  [2982, 371]\n",
      "raw fractions of data in each gaussian:  [0.88935282 0.11064718]\n",
      "means of gaussians that contain fraction of data above thresh (0.01):  [2.1668864301105937, 3.961362902229681]\n",
      "fraction of data in above-thresh gaussians:  [0.8893528183716075, 0.11064718162839249]\n",
      "peaks identified in the kde fit of data:  [[2.37698082]\n",
      " [3.84820684]]\n",
      "means of the gaussians the GMM optimized:  [2.184251343749645, 3.8944030731139496]\n",
      "counts in each gaussian:  [3053, 438]\n",
      "raw fractions of data in each gaussian:  [0.87453452 0.12546548]\n",
      "means of gaussians that contain fraction of data above thresh (0.01):  [2.184251343749645, 3.8944030731139496]\n",
      "fraction of data in above-thresh gaussians:  [0.8745345173302779, 0.12546548266972216]\n"
     ]
    },
    {
     "name": "stderr",
     "output_type": "stream",
     "text": [
      "C:\\Users\\geeze\\Anaconda3\\lib\\site-packages\\scipy\\stats\\stats.py:1713: FutureWarning: Using a non-tuple sequence for multidimensional indexing is deprecated; use `arr[tuple(seq)]` instead of `arr[seq]`. In the future this will be interpreted as an array index, `arr[np.array(seq)]`, which will result either in an error or a different result.\n",
      "  return np.add.reduce(sorted[indexer] * weights, axis=axis) / sumval\n"
     ]
    }
   ],
   "source": [
    "all_analysis = []\n",
    "\n",
    "for g in gt:\n",
    "    add = run_GMM_frac_analysis(f, c, w, g)\n",
    "    \n",
    "    all_analysis.append(add)\n",
    "    \n",
    "analysis = pd.concat(all_analysis, axis='index')"
   ]
  },
  {
   "cell_type": "code",
   "execution_count": 239,
   "metadata": {
    "scrolled": true
   },
   "outputs": [
    {
     "data": {
      "text/html": [
       "<div>\n",
       "<style scoped>\n",
       "    .dataframe tbody tr th:only-of-type {\n",
       "        vertical-align: middle;\n",
       "    }\n",
       "\n",
       "    .dataframe tbody tr th {\n",
       "        vertical-align: top;\n",
       "    }\n",
       "\n",
       "    .dataframe thead th {\n",
       "        text-align: right;\n",
       "    }\n",
       "</style>\n",
       "<table border=\"1\" class=\"dataframe\">\n",
       "  <thead>\n",
       "    <tr style=\"text-align: right;\">\n",
       "      <th></th>\n",
       "      <th>mean ON</th>\n",
       "      <th>fraction ON</th>\n",
       "      <th>mean OFF</th>\n",
       "      <th>fraction OFF</th>\n",
       "      <th>well</th>\n",
       "      <th>gate</th>\n",
       "    </tr>\n",
       "  </thead>\n",
       "  <tbody>\n",
       "    <tr>\n",
       "      <th>0</th>\n",
       "      <td>3.696903</td>\n",
       "      <td>0.047556</td>\n",
       "      <td>1.616234</td>\n",
       "      <td>0.952444</td>\n",
       "      <td>A1</td>\n",
       "      <td>mKate/APC-A_GMMgate</td>\n",
       "    </tr>\n",
       "    <tr>\n",
       "      <th>1</th>\n",
       "      <td>3.864639</td>\n",
       "      <td>0.097505</td>\n",
       "      <td>2.023584</td>\n",
       "      <td>0.902495</td>\n",
       "      <td>A2</td>\n",
       "      <td>mKate/APC-A_GMMgate</td>\n",
       "    </tr>\n",
       "    <tr>\n",
       "      <th>2</th>\n",
       "      <td>3.874130</td>\n",
       "      <td>0.096016</td>\n",
       "      <td>2.155376</td>\n",
       "      <td>0.903984</td>\n",
       "      <td>A3</td>\n",
       "      <td>mKate/APC-A_GMMgate</td>\n",
       "    </tr>\n",
       "    <tr>\n",
       "      <th>3</th>\n",
       "      <td>2.646384</td>\n",
       "      <td>0.207369</td>\n",
       "      <td>2.229036</td>\n",
       "      <td>0.792631</td>\n",
       "      <td>A4</td>\n",
       "      <td>mKate/APC-A_GMMgate</td>\n",
       "    </tr>\n",
       "    <tr>\n",
       "      <th>4</th>\n",
       "      <td>3.931514</td>\n",
       "      <td>0.088525</td>\n",
       "      <td>2.178351</td>\n",
       "      <td>0.911475</td>\n",
       "      <td>A5</td>\n",
       "      <td>mKate/APC-A_GMMgate</td>\n",
       "    </tr>\n",
       "    <tr>\n",
       "      <th>5</th>\n",
       "      <td>2.671244</td>\n",
       "      <td>0.203917</td>\n",
       "      <td>2.255889</td>\n",
       "      <td>0.796083</td>\n",
       "      <td>A6</td>\n",
       "      <td>mKate/APC-A_GMMgate</td>\n",
       "    </tr>\n",
       "    <tr>\n",
       "      <th>6</th>\n",
       "      <td>3.938115</td>\n",
       "      <td>0.091429</td>\n",
       "      <td>2.166821</td>\n",
       "      <td>0.908571</td>\n",
       "      <td>A7</td>\n",
       "      <td>mKate/APC-A_GMMgate</td>\n",
       "    </tr>\n",
       "    <tr>\n",
       "      <th>7</th>\n",
       "      <td>2.412241</td>\n",
       "      <td>0.250197</td>\n",
       "      <td>2.292337</td>\n",
       "      <td>0.749803</td>\n",
       "      <td>A8</td>\n",
       "      <td>mKate/APC-A_GMMgate</td>\n",
       "    </tr>\n",
       "    <tr>\n",
       "      <th>8</th>\n",
       "      <td>2.647173</td>\n",
       "      <td>0.244640</td>\n",
       "      <td>2.265283</td>\n",
       "      <td>0.755360</td>\n",
       "      <td>A9</td>\n",
       "      <td>mKate/APC-A_GMMgate</td>\n",
       "    </tr>\n",
       "    <tr>\n",
       "      <th>9</th>\n",
       "      <td>3.711817</td>\n",
       "      <td>0.066741</td>\n",
       "      <td>1.689402</td>\n",
       "      <td>0.933259</td>\n",
       "      <td>B1</td>\n",
       "      <td>mKate/APC-A_GMMgate</td>\n",
       "    </tr>\n",
       "    <tr>\n",
       "      <th>10</th>\n",
       "      <td>3.871218</td>\n",
       "      <td>0.107924</td>\n",
       "      <td>2.051524</td>\n",
       "      <td>0.892076</td>\n",
       "      <td>B2</td>\n",
       "      <td>mKate/APC-A_GMMgate</td>\n",
       "    </tr>\n",
       "    <tr>\n",
       "      <th>11</th>\n",
       "      <td>2.433663</td>\n",
       "      <td>0.217512</td>\n",
       "      <td>2.233954</td>\n",
       "      <td>0.782488</td>\n",
       "      <td>B3</td>\n",
       "      <td>mKate/APC-A_GMMgate</td>\n",
       "    </tr>\n",
       "    <tr>\n",
       "      <th>12</th>\n",
       "      <td>3.810683</td>\n",
       "      <td>0.106434</td>\n",
       "      <td>2.159092</td>\n",
       "      <td>0.893566</td>\n",
       "      <td>B4</td>\n",
       "      <td>mKate/APC-A_GMMgate</td>\n",
       "    </tr>\n",
       "    <tr>\n",
       "      <th>13</th>\n",
       "      <td>2.525636</td>\n",
       "      <td>0.215892</td>\n",
       "      <td>2.260092</td>\n",
       "      <td>0.784108</td>\n",
       "      <td>B5</td>\n",
       "      <td>mKate/APC-A_GMMgate</td>\n",
       "    </tr>\n",
       "    <tr>\n",
       "      <th>14</th>\n",
       "      <td>2.570521</td>\n",
       "      <td>0.233638</td>\n",
       "      <td>2.261830</td>\n",
       "      <td>0.766362</td>\n",
       "      <td>B6</td>\n",
       "      <td>mKate/APC-A_GMMgate</td>\n",
       "    </tr>\n",
       "    <tr>\n",
       "      <th>15</th>\n",
       "      <td>2.601763</td>\n",
       "      <td>0.196683</td>\n",
       "      <td>2.250531</td>\n",
       "      <td>0.803317</td>\n",
       "      <td>B7</td>\n",
       "      <td>mKate/APC-A_GMMgate</td>\n",
       "    </tr>\n",
       "    <tr>\n",
       "      <th>16</th>\n",
       "      <td>3.868414</td>\n",
       "      <td>0.106948</td>\n",
       "      <td>2.168728</td>\n",
       "      <td>0.893052</td>\n",
       "      <td>B8</td>\n",
       "      <td>mKate/APC-A_GMMgate</td>\n",
       "    </tr>\n",
       "    <tr>\n",
       "      <th>17</th>\n",
       "      <td>3.955042</td>\n",
       "      <td>0.087764</td>\n",
       "      <td>2.159779</td>\n",
       "      <td>0.912236</td>\n",
       "      <td>B9</td>\n",
       "      <td>mKate/APC-A_GMMgate</td>\n",
       "    </tr>\n",
       "    <tr>\n",
       "      <th>18</th>\n",
       "      <td>3.683822</td>\n",
       "      <td>0.091730</td>\n",
       "      <td>1.759485</td>\n",
       "      <td>0.908270</td>\n",
       "      <td>C1</td>\n",
       "      <td>mKate/APC-A_GMMgate</td>\n",
       "    </tr>\n",
       "    <tr>\n",
       "      <th>19</th>\n",
       "      <td>3.814332</td>\n",
       "      <td>0.104687</td>\n",
       "      <td>2.096755</td>\n",
       "      <td>0.895313</td>\n",
       "      <td>C2</td>\n",
       "      <td>mKate/APC-A_GMMgate</td>\n",
       "    </tr>\n",
       "    <tr>\n",
       "      <th>20</th>\n",
       "      <td>3.816409</td>\n",
       "      <td>0.102583</td>\n",
       "      <td>2.135936</td>\n",
       "      <td>0.897417</td>\n",
       "      <td>C3</td>\n",
       "      <td>mKate/APC-A_GMMgate</td>\n",
       "    </tr>\n",
       "    <tr>\n",
       "      <th>21</th>\n",
       "      <td>3.824006</td>\n",
       "      <td>0.105471</td>\n",
       "      <td>2.160447</td>\n",
       "      <td>0.894529</td>\n",
       "      <td>C4</td>\n",
       "      <td>mKate/APC-A_GMMgate</td>\n",
       "    </tr>\n",
       "    <tr>\n",
       "      <th>22</th>\n",
       "      <td>3.934110</td>\n",
       "      <td>0.087820</td>\n",
       "      <td>2.171029</td>\n",
       "      <td>0.912180</td>\n",
       "      <td>C5</td>\n",
       "      <td>mKate/APC-A_GMMgate</td>\n",
       "    </tr>\n",
       "    <tr>\n",
       "      <th>23</th>\n",
       "      <td>2.734017</td>\n",
       "      <td>0.202051</td>\n",
       "      <td>2.251390</td>\n",
       "      <td>0.797949</td>\n",
       "      <td>C6</td>\n",
       "      <td>mKate/APC-A_GMMgate</td>\n",
       "    </tr>\n",
       "    <tr>\n",
       "      <th>24</th>\n",
       "      <td>2.427256</td>\n",
       "      <td>0.239583</td>\n",
       "      <td>2.275358</td>\n",
       "      <td>0.760417</td>\n",
       "      <td>C7</td>\n",
       "      <td>mKate/APC-A_GMMgate</td>\n",
       "    </tr>\n",
       "    <tr>\n",
       "      <th>25</th>\n",
       "      <td>3.894304</td>\n",
       "      <td>0.086521</td>\n",
       "      <td>2.177677</td>\n",
       "      <td>0.913479</td>\n",
       "      <td>C8</td>\n",
       "      <td>mKate/APC-A_GMMgate</td>\n",
       "    </tr>\n",
       "    <tr>\n",
       "      <th>26</th>\n",
       "      <td>2.491947</td>\n",
       "      <td>0.197893</td>\n",
       "      <td>2.236482</td>\n",
       "      <td>0.802107</td>\n",
       "      <td>C9</td>\n",
       "      <td>mKate/APC-A_GMMgate</td>\n",
       "    </tr>\n",
       "    <tr>\n",
       "      <th>27</th>\n",
       "      <td>3.472491</td>\n",
       "      <td>0.114599</td>\n",
       "      <td>1.711633</td>\n",
       "      <td>0.885401</td>\n",
       "      <td>D1</td>\n",
       "      <td>mKate/APC-A_GMMgate</td>\n",
       "    </tr>\n",
       "    <tr>\n",
       "      <th>28</th>\n",
       "      <td>3.789949</td>\n",
       "      <td>0.125191</td>\n",
       "      <td>2.133324</td>\n",
       "      <td>0.874809</td>\n",
       "      <td>D2</td>\n",
       "      <td>mKate/APC-A_GMMgate</td>\n",
       "    </tr>\n",
       "    <tr>\n",
       "      <th>29</th>\n",
       "      <td>3.813316</td>\n",
       "      <td>0.096991</td>\n",
       "      <td>2.152237</td>\n",
       "      <td>0.903009</td>\n",
       "      <td>D3</td>\n",
       "      <td>mKate/APC-A_GMMgate</td>\n",
       "    </tr>\n",
       "    <tr>\n",
       "      <th>...</th>\n",
       "      <td>...</td>\n",
       "      <td>...</td>\n",
       "      <td>...</td>\n",
       "      <td>...</td>\n",
       "      <td>...</td>\n",
       "      <td>...</td>\n",
       "    </tr>\n",
       "    <tr>\n",
       "      <th>37</th>\n",
       "      <td>2.761954</td>\n",
       "      <td>0.189983</td>\n",
       "      <td>2.202733</td>\n",
       "      <td>0.810017</td>\n",
       "      <td>E3</td>\n",
       "      <td>AH_perc_gate</td>\n",
       "    </tr>\n",
       "    <tr>\n",
       "      <th>38</th>\n",
       "      <td>3.908645</td>\n",
       "      <td>0.135280</td>\n",
       "      <td>2.147478</td>\n",
       "      <td>0.864720</td>\n",
       "      <td>E4</td>\n",
       "      <td>AH_perc_gate</td>\n",
       "    </tr>\n",
       "    <tr>\n",
       "      <th>39</th>\n",
       "      <td>3.985729</td>\n",
       "      <td>0.120855</td>\n",
       "      <td>2.164023</td>\n",
       "      <td>0.879145</td>\n",
       "      <td>E5</td>\n",
       "      <td>AH_perc_gate</td>\n",
       "    </tr>\n",
       "    <tr>\n",
       "      <th>40</th>\n",
       "      <td>3.905138</td>\n",
       "      <td>0.128007</td>\n",
       "      <td>2.177184</td>\n",
       "      <td>0.871993</td>\n",
       "      <td>E6</td>\n",
       "      <td>AH_perc_gate</td>\n",
       "    </tr>\n",
       "    <tr>\n",
       "      <th>41</th>\n",
       "      <td>2.760025</td>\n",
       "      <td>0.251764</td>\n",
       "      <td>2.255107</td>\n",
       "      <td>0.748236</td>\n",
       "      <td>E7</td>\n",
       "      <td>AH_perc_gate</td>\n",
       "    </tr>\n",
       "    <tr>\n",
       "      <th>42</th>\n",
       "      <td>3.983857</td>\n",
       "      <td>0.114022</td>\n",
       "      <td>2.161989</td>\n",
       "      <td>0.885978</td>\n",
       "      <td>E8</td>\n",
       "      <td>AH_perc_gate</td>\n",
       "    </tr>\n",
       "    <tr>\n",
       "      <th>43</th>\n",
       "      <td>3.903874</td>\n",
       "      <td>0.136611</td>\n",
       "      <td>1.909090</td>\n",
       "      <td>0.863389</td>\n",
       "      <td>F1</td>\n",
       "      <td>AH_perc_gate</td>\n",
       "    </tr>\n",
       "    <tr>\n",
       "      <th>44</th>\n",
       "      <td>3.879167</td>\n",
       "      <td>0.126228</td>\n",
       "      <td>2.144125</td>\n",
       "      <td>0.873772</td>\n",
       "      <td>F2</td>\n",
       "      <td>AH_perc_gate</td>\n",
       "    </tr>\n",
       "    <tr>\n",
       "      <th>45</th>\n",
       "      <td>2.710832</td>\n",
       "      <td>0.233864</td>\n",
       "      <td>2.236670</td>\n",
       "      <td>0.766136</td>\n",
       "      <td>F3</td>\n",
       "      <td>AH_perc_gate</td>\n",
       "    </tr>\n",
       "    <tr>\n",
       "      <th>46</th>\n",
       "      <td>3.958558</td>\n",
       "      <td>0.129942</td>\n",
       "      <td>2.141821</td>\n",
       "      <td>0.870058</td>\n",
       "      <td>F4</td>\n",
       "      <td>AH_perc_gate</td>\n",
       "    </tr>\n",
       "    <tr>\n",
       "      <th>47</th>\n",
       "      <td>3.956142</td>\n",
       "      <td>0.119820</td>\n",
       "      <td>2.154780</td>\n",
       "      <td>0.880180</td>\n",
       "      <td>F5</td>\n",
       "      <td>AH_perc_gate</td>\n",
       "    </tr>\n",
       "    <tr>\n",
       "      <th>48</th>\n",
       "      <td>3.918537</td>\n",
       "      <td>0.125201</td>\n",
       "      <td>2.159671</td>\n",
       "      <td>0.874799</td>\n",
       "      <td>F6</td>\n",
       "      <td>AH_perc_gate</td>\n",
       "    </tr>\n",
       "    <tr>\n",
       "      <th>49</th>\n",
       "      <td>3.980125</td>\n",
       "      <td>0.098427</td>\n",
       "      <td>2.163265</td>\n",
       "      <td>0.901573</td>\n",
       "      <td>F7</td>\n",
       "      <td>AH_perc_gate</td>\n",
       "    </tr>\n",
       "    <tr>\n",
       "      <th>50</th>\n",
       "      <td>2.710136</td>\n",
       "      <td>0.252635</td>\n",
       "      <td>2.249620</td>\n",
       "      <td>0.747365</td>\n",
       "      <td>F8</td>\n",
       "      <td>AH_perc_gate</td>\n",
       "    </tr>\n",
       "    <tr>\n",
       "      <th>51</th>\n",
       "      <td>3.894024</td>\n",
       "      <td>0.124023</td>\n",
       "      <td>1.943638</td>\n",
       "      <td>0.875977</td>\n",
       "      <td>G1</td>\n",
       "      <td>AH_perc_gate</td>\n",
       "    </tr>\n",
       "    <tr>\n",
       "      <th>52</th>\n",
       "      <td>3.948336</td>\n",
       "      <td>0.099239</td>\n",
       "      <td>2.114649</td>\n",
       "      <td>0.900761</td>\n",
       "      <td>G2</td>\n",
       "      <td>AH_perc_gate</td>\n",
       "    </tr>\n",
       "    <tr>\n",
       "      <th>53</th>\n",
       "      <td>3.947668</td>\n",
       "      <td>0.124578</td>\n",
       "      <td>2.138631</td>\n",
       "      <td>0.875422</td>\n",
       "      <td>G3</td>\n",
       "      <td>AH_perc_gate</td>\n",
       "    </tr>\n",
       "    <tr>\n",
       "      <th>54</th>\n",
       "      <td>3.956608</td>\n",
       "      <td>0.108625</td>\n",
       "      <td>2.154947</td>\n",
       "      <td>0.891375</td>\n",
       "      <td>G4</td>\n",
       "      <td>AH_perc_gate</td>\n",
       "    </tr>\n",
       "    <tr>\n",
       "      <th>55</th>\n",
       "      <td>3.951151</td>\n",
       "      <td>0.118051</td>\n",
       "      <td>2.151417</td>\n",
       "      <td>0.881949</td>\n",
       "      <td>G5</td>\n",
       "      <td>AH_perc_gate</td>\n",
       "    </tr>\n",
       "    <tr>\n",
       "      <th>56</th>\n",
       "      <td>3.929407</td>\n",
       "      <td>0.122352</td>\n",
       "      <td>2.168155</td>\n",
       "      <td>0.877648</td>\n",
       "      <td>G6</td>\n",
       "      <td>AH_perc_gate</td>\n",
       "    </tr>\n",
       "    <tr>\n",
       "      <th>57</th>\n",
       "      <td>3.924295</td>\n",
       "      <td>0.108650</td>\n",
       "      <td>2.156090</td>\n",
       "      <td>0.891350</td>\n",
       "      <td>G7</td>\n",
       "      <td>AH_perc_gate</td>\n",
       "    </tr>\n",
       "    <tr>\n",
       "      <th>58</th>\n",
       "      <td>3.939509</td>\n",
       "      <td>0.145476</td>\n",
       "      <td>2.148993</td>\n",
       "      <td>0.854524</td>\n",
       "      <td>G8</td>\n",
       "      <td>AH_perc_gate</td>\n",
       "    </tr>\n",
       "    <tr>\n",
       "      <th>59</th>\n",
       "      <td>3.891799</td>\n",
       "      <td>0.114639</td>\n",
       "      <td>1.990023</td>\n",
       "      <td>0.885361</td>\n",
       "      <td>H1</td>\n",
       "      <td>AH_perc_gate</td>\n",
       "    </tr>\n",
       "    <tr>\n",
       "      <th>60</th>\n",
       "      <td>3.953196</td>\n",
       "      <td>0.097732</td>\n",
       "      <td>2.127606</td>\n",
       "      <td>0.902268</td>\n",
       "      <td>H2</td>\n",
       "      <td>AH_perc_gate</td>\n",
       "    </tr>\n",
       "    <tr>\n",
       "      <th>61</th>\n",
       "      <td>3.963863</td>\n",
       "      <td>0.126984</td>\n",
       "      <td>2.156988</td>\n",
       "      <td>0.873016</td>\n",
       "      <td>H3</td>\n",
       "      <td>AH_perc_gate</td>\n",
       "    </tr>\n",
       "    <tr>\n",
       "      <th>62</th>\n",
       "      <td>3.910816</td>\n",
       "      <td>0.129775</td>\n",
       "      <td>2.149261</td>\n",
       "      <td>0.870225</td>\n",
       "      <td>H4</td>\n",
       "      <td>AH_perc_gate</td>\n",
       "    </tr>\n",
       "    <tr>\n",
       "      <th>63</th>\n",
       "      <td>3.982881</td>\n",
       "      <td>0.120636</td>\n",
       "      <td>2.150651</td>\n",
       "      <td>0.879364</td>\n",
       "      <td>H5</td>\n",
       "      <td>AH_perc_gate</td>\n",
       "    </tr>\n",
       "    <tr>\n",
       "      <th>64</th>\n",
       "      <td>3.927291</td>\n",
       "      <td>0.137874</td>\n",
       "      <td>2.169305</td>\n",
       "      <td>0.862126</td>\n",
       "      <td>H6</td>\n",
       "      <td>AH_perc_gate</td>\n",
       "    </tr>\n",
       "    <tr>\n",
       "      <th>65</th>\n",
       "      <td>3.961363</td>\n",
       "      <td>0.110647</td>\n",
       "      <td>2.166886</td>\n",
       "      <td>0.889353</td>\n",
       "      <td>H7</td>\n",
       "      <td>AH_perc_gate</td>\n",
       "    </tr>\n",
       "    <tr>\n",
       "      <th>66</th>\n",
       "      <td>3.894403</td>\n",
       "      <td>0.125465</td>\n",
       "      <td>2.184251</td>\n",
       "      <td>0.874535</td>\n",
       "      <td>H8</td>\n",
       "      <td>AH_perc_gate</td>\n",
       "    </tr>\n",
       "  </tbody>\n",
       "</table>\n",
       "<p>134 rows × 6 columns</p>\n",
       "</div>"
      ],
      "text/plain": [
       "     mean ON  fraction ON  mean OFF  fraction OFF well                 gate\n",
       "0   3.696903     0.047556  1.616234      0.952444   A1  mKate/APC-A_GMMgate\n",
       "1   3.864639     0.097505  2.023584      0.902495   A2  mKate/APC-A_GMMgate\n",
       "2   3.874130     0.096016  2.155376      0.903984   A3  mKate/APC-A_GMMgate\n",
       "3   2.646384     0.207369  2.229036      0.792631   A4  mKate/APC-A_GMMgate\n",
       "4   3.931514     0.088525  2.178351      0.911475   A5  mKate/APC-A_GMMgate\n",
       "5   2.671244     0.203917  2.255889      0.796083   A6  mKate/APC-A_GMMgate\n",
       "6   3.938115     0.091429  2.166821      0.908571   A7  mKate/APC-A_GMMgate\n",
       "7   2.412241     0.250197  2.292337      0.749803   A8  mKate/APC-A_GMMgate\n",
       "8   2.647173     0.244640  2.265283      0.755360   A9  mKate/APC-A_GMMgate\n",
       "9   3.711817     0.066741  1.689402      0.933259   B1  mKate/APC-A_GMMgate\n",
       "10  3.871218     0.107924  2.051524      0.892076   B2  mKate/APC-A_GMMgate\n",
       "11  2.433663     0.217512  2.233954      0.782488   B3  mKate/APC-A_GMMgate\n",
       "12  3.810683     0.106434  2.159092      0.893566   B4  mKate/APC-A_GMMgate\n",
       "13  2.525636     0.215892  2.260092      0.784108   B5  mKate/APC-A_GMMgate\n",
       "14  2.570521     0.233638  2.261830      0.766362   B6  mKate/APC-A_GMMgate\n",
       "15  2.601763     0.196683  2.250531      0.803317   B7  mKate/APC-A_GMMgate\n",
       "16  3.868414     0.106948  2.168728      0.893052   B8  mKate/APC-A_GMMgate\n",
       "17  3.955042     0.087764  2.159779      0.912236   B9  mKate/APC-A_GMMgate\n",
       "18  3.683822     0.091730  1.759485      0.908270   C1  mKate/APC-A_GMMgate\n",
       "19  3.814332     0.104687  2.096755      0.895313   C2  mKate/APC-A_GMMgate\n",
       "20  3.816409     0.102583  2.135936      0.897417   C3  mKate/APC-A_GMMgate\n",
       "21  3.824006     0.105471  2.160447      0.894529   C4  mKate/APC-A_GMMgate\n",
       "22  3.934110     0.087820  2.171029      0.912180   C5  mKate/APC-A_GMMgate\n",
       "23  2.734017     0.202051  2.251390      0.797949   C6  mKate/APC-A_GMMgate\n",
       "24  2.427256     0.239583  2.275358      0.760417   C7  mKate/APC-A_GMMgate\n",
       "25  3.894304     0.086521  2.177677      0.913479   C8  mKate/APC-A_GMMgate\n",
       "26  2.491947     0.197893  2.236482      0.802107   C9  mKate/APC-A_GMMgate\n",
       "27  3.472491     0.114599  1.711633      0.885401   D1  mKate/APC-A_GMMgate\n",
       "28  3.789949     0.125191  2.133324      0.874809   D2  mKate/APC-A_GMMgate\n",
       "29  3.813316     0.096991  2.152237      0.903009   D3  mKate/APC-A_GMMgate\n",
       "..       ...          ...       ...           ...  ...                  ...\n",
       "37  2.761954     0.189983  2.202733      0.810017   E3         AH_perc_gate\n",
       "38  3.908645     0.135280  2.147478      0.864720   E4         AH_perc_gate\n",
       "39  3.985729     0.120855  2.164023      0.879145   E5         AH_perc_gate\n",
       "40  3.905138     0.128007  2.177184      0.871993   E6         AH_perc_gate\n",
       "41  2.760025     0.251764  2.255107      0.748236   E7         AH_perc_gate\n",
       "42  3.983857     0.114022  2.161989      0.885978   E8         AH_perc_gate\n",
       "43  3.903874     0.136611  1.909090      0.863389   F1         AH_perc_gate\n",
       "44  3.879167     0.126228  2.144125      0.873772   F2         AH_perc_gate\n",
       "45  2.710832     0.233864  2.236670      0.766136   F3         AH_perc_gate\n",
       "46  3.958558     0.129942  2.141821      0.870058   F4         AH_perc_gate\n",
       "47  3.956142     0.119820  2.154780      0.880180   F5         AH_perc_gate\n",
       "48  3.918537     0.125201  2.159671      0.874799   F6         AH_perc_gate\n",
       "49  3.980125     0.098427  2.163265      0.901573   F7         AH_perc_gate\n",
       "50  2.710136     0.252635  2.249620      0.747365   F8         AH_perc_gate\n",
       "51  3.894024     0.124023  1.943638      0.875977   G1         AH_perc_gate\n",
       "52  3.948336     0.099239  2.114649      0.900761   G2         AH_perc_gate\n",
       "53  3.947668     0.124578  2.138631      0.875422   G3         AH_perc_gate\n",
       "54  3.956608     0.108625  2.154947      0.891375   G4         AH_perc_gate\n",
       "55  3.951151     0.118051  2.151417      0.881949   G5         AH_perc_gate\n",
       "56  3.929407     0.122352  2.168155      0.877648   G6         AH_perc_gate\n",
       "57  3.924295     0.108650  2.156090      0.891350   G7         AH_perc_gate\n",
       "58  3.939509     0.145476  2.148993      0.854524   G8         AH_perc_gate\n",
       "59  3.891799     0.114639  1.990023      0.885361   H1         AH_perc_gate\n",
       "60  3.953196     0.097732  2.127606      0.902268   H2         AH_perc_gate\n",
       "61  3.963863     0.126984  2.156988      0.873016   H3         AH_perc_gate\n",
       "62  3.910816     0.129775  2.149261      0.870225   H4         AH_perc_gate\n",
       "63  3.982881     0.120636  2.150651      0.879364   H5         AH_perc_gate\n",
       "64  3.927291     0.137874  2.169305      0.862126   H6         AH_perc_gate\n",
       "65  3.961363     0.110647  2.166886      0.889353   H7         AH_perc_gate\n",
       "66  3.894403     0.125465  2.184251      0.874535   H8         AH_perc_gate\n",
       "\n",
       "[134 rows x 6 columns]"
      ]
     },
     "execution_count": 239,
     "metadata": {},
     "output_type": "execute_result"
    }
   ],
   "source": [
    "analysis"
   ]
  },
  {
   "cell_type": "code",
   "execution_count": 240,
   "metadata": {},
   "outputs": [],
   "source": [
    "# Write the output file to a csv. \n",
    "analysis.to_csv('../../Local Data/20181009 top 4 A B cell vars A=B flow samples/'+ tpt +'/' + tpt + '_' + key + '_GMManalysis.csv', index = False)"
   ]
  },
  {
   "cell_type": "code",
   "execution_count": null,
   "metadata": {},
   "outputs": [],
   "source": []
  }
 ],
 "metadata": {
  "kernelspec": {
   "display_name": "Python 3",
   "language": "python",
   "name": "python3"
  },
  "language_info": {
   "codemirror_mode": {
    "name": "ipython",
    "version": 3
   },
   "file_extension": ".py",
   "mimetype": "text/x-python",
   "name": "python",
   "nbconvert_exporter": "python",
   "pygments_lexer": "ipython3",
   "version": "3.6.7"
  }
 },
 "nbformat": 4,
 "nbformat_minor": 2
}
