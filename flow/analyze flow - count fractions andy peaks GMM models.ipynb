{
 "cells": [
  {
   "cell_type": "code",
   "execution_count": 1,
   "metadata": {},
   "outputs": [],
   "source": [
    "import collections\n",
    "import bisect\n",
    "import glob\n",
    "import os\n",
    "import numpy as np\n",
    "import pandas as pd\n",
    "import matplotlib.pyplot as plt\n",
    "import scipy.stats as stats\n",
    "import matplotlib.pyplot as plt\n",
    "import matplotlib as mpl\n",
    "import scipy.signal as signal\n",
    "\n",
    "from sklearn.neighbors import KernelDensity\n",
    "from sklearn.mixture import GaussianMixture"
   ]
  },
  {
   "cell_type": "code",
   "execution_count": 2,
   "metadata": {},
   "outputs": [],
   "source": [
    "#plotting things\n",
    "\n",
    "#%matplotlib qt5 -- I don't know what this is\n",
    "import matplotlib.pyplot as plt\n",
    "import matplotlib as mpl\n",
    "import seaborn as sns\n",
    "\n",
    "from cycler import cycler\n",
    "\n",
    "\n",
    "#All of Anandh's customized seaborn/matplotlib settings\n",
    "\n",
    "sns.set_context(\"talk\", font_scale=1.5, rc={\"lines.linewidth\": 1.5})\n",
    "sns.set_style(\"ticks\")\n",
    "sns.set_style({\"xtick.direction\": \"in\",\"ytick.direction\": \"in\"})\n",
    "\n",
    "#%config InlineBackend.figure_f.ormats=['svg']\n",
    "\n",
    "mpl.rc('axes', prop_cycle=(cycler('color', ['r', 'k', 'b','g','y','m','c']) ))\n",
    "\n",
    "mpl.rcParams['pdf.fonttype'] = 42\n",
    "mpl.rcParams['ps.fonttype'] = 42\n",
    "\n",
    "#mpl.rc('text', usetex=False)\n",
    "#mpl.rc('text.latex', preamble=r'\\usepackage{helvet}\n",
    "#\\renewcommand\\familydefault{\\sfdefault}\\usepackage{sansmath}\\sansmath')\n",
    "\n",
    "    #If you want to use a different font\n",
    "# mpl.rc('font',**{'family':'sans-serif','sans-serif':['Helvetica'], \n",
    "#                  'serif': ['Helvetica']})\n",
    "\n",
    "tw = 1.5\n",
    "sns.set_style({\"xtick.major.size\": 3, \"ytick.major.size\": 3,\n",
    "               \"xtick.minor.size\": 2, \"ytick.minor.size\": 2,\n",
    "               'axes.labelsize': 16, 'axes.titlesize': 16,\n",
    "               'xtick.major.width': tw, 'xtick.minor.width': tw,\n",
    "               'ytick.major.width': tw, 'ytick.minor.width': tw})\n",
    "\n",
    "mpl.rc('xtick', labelsize=14) \n",
    "mpl.rc('ytick', labelsize=14)\n",
    "mpl.rc('axes', linewidth=1.5)\n",
    "mpl.rc('legend', fontsize=14)\n",
    "mpl.rc('figure', figsize=(9,8))"
   ]
  },
  {
   "cell_type": "code",
   "execution_count": 3,
   "metadata": {},
   "outputs": [],
   "source": [
    "def get_values(file_directory, channel='GFP/FITC-A', gate = None):\n",
    "    '''\n",
    "    Reads in the values from a specific channel for a given flow file.\n",
    "    Defaults to taking GFP/FITC-A. If you want to get the values inside a certain gate,\n",
    "    the gate argument is the STR name of the column with the gate 0/1 values; defaults to None\n",
    "    '''\n",
    "    flow_data = pd.read_csv(file_directory)\n",
    "    \n",
    "    #allowing us to use a gate we have assigned using other scripts\n",
    "    #if no gate desired\n",
    "    if gate==None:\n",
    "        pass\n",
    "    #if you give it a gate, subselect all the data where the gate == 1\n",
    "    else:\n",
    "        flow_data = flow_data.loc[flow_data[gate] == 1, :]\n",
    "    \n",
    "    #apply the log transform\n",
    "    flow_data_channel_values = np.log10(flow_data[channel].values)\n",
    "    \n",
    "    return flow_data_channel_values"
   ]
  },
  {
   "cell_type": "code",
   "execution_count": 4,
   "metadata": {},
   "outputs": [],
   "source": [
    "def make_df(file_directory, channel='GFP/FITC-A', gate = None):\n",
    "    '''\n",
    "    Creates a dataframe from the given file directory. Reads in all csvs, \n",
    "    extracts the data from the channel of interest (defaults to GFP/FITC-A), \n",
    "    and returns one dataframe. If you want to get the values inside a certain gate,\n",
    "    the gate argument is the STR name of the column with the gate 0/1 values; defaults to None\n",
    "    '''\n",
    "    all_files = glob.glob(file_directory)\n",
    "    all_files.sort()\n",
    "    \n",
    "    all_data = []\n",
    "    for file in all_files:\n",
    "        data = get_values(file, channel, gate)\n",
    "        all_data.append(data)\n",
    "    \n",
    "    labels = []\n",
    "    for i in range(0, len(all_files)):\n",
    "        #this won't get the well label right in the output df unless the file format is:\n",
    "        #'../../../..\\'(letter)(number).csv'\n",
    "        #the forward slash is from glob filenames. this can't handle 'gated_data' at the beginning of the filename\n",
    "        mini_label = str(all_files[i].split('/')[-1].split('\\\\')[1].split('.')[0])\n",
    "        #print(mini_label)\n",
    "        label = [mini_label]*len(all_data[i])\n",
    "        labels.append(label)\n",
    "    \n",
    "    flat_all_data = [item for sublist in all_data for item in sublist]\n",
    "    flat_labels = [item for sublist in labels for item in sublist]\n",
    "    \n",
    "    df = pd.DataFrame(dict(well=flat_labels, log10values=flat_all_data))\n",
    "    return df"
   ]
  },
  {
   "cell_type": "code",
   "execution_count": 5,
   "metadata": {},
   "outputs": [],
   "source": [
    "def get_peak_locations_from_KDE_fit(data):\n",
    "    ''' Performs a KDE fit and then uses scipy.signal.find_peaks_cwt to get peaks.\n",
    "        The KDE bandwith parameter is critical, and 0.25 has worked well in the past.\n",
    "        If it feels like you are missing many peak calls, decrease the bandwith. If it feels\n",
    "        like you are having too many peak calls, increase the bandwith. \n",
    "        \n",
    "        Don't change the bandwith without good reason, it took awhile to decide on 0.25. '''\n",
    "    \n",
    "    kde = KernelDensity(bandwidth=0.25, kernel='gaussian')\n",
    "\n",
    "    kde.fit(data[:, None]);\n",
    "\n",
    "    x_range = np.linspace(0, 6, 1200)\n",
    "    kde_estimates = np.exp(kde.score_samples(x_range[:, None]))\n",
    "\n",
    "    #Use the SciPy function to get the KDE peaks\n",
    "    peaks = signal.find_peaks_cwt(kde_estimates, np.arange(30, 200), min_snr=1)\n",
    "\n",
    "    means_init = []\n",
    "    \n",
    "    for peak in peaks:\n",
    "        means_init.append(x_range[peak])\n",
    "    \n",
    "    return means_init"
   ]
  },
  {
   "cell_type": "code",
   "execution_count": 6,
   "metadata": {},
   "outputs": [],
   "source": [
    "def fit_GMM_KDE(data, peaks, threshold = 0.01): \n",
    "    \"\"\"Generate a Gaussian mixture model from the output\n",
    "    of a Gaussian Kernel Density Estimation. \n",
    "    Outputs the mean of the on peak, fraction on, mean of the off peak, \n",
    "    and fraction off. This version of the code assumes all cells not in the on peak are off!\n",
    "    This is obviously only a good assumption for uni/bimodal data. If you have multimodal data,\n",
    "    do not use this code.\"\"\"\n",
    "    \n",
    "    data = data.reshape(len(data), 1)\n",
    "\n",
    "    peaks = np.array(peaks).reshape(len(peaks), 1)\n",
    "    opt_gmm = GaussianMixture(n_components = len(peaks) , means_init = peaks).fit(data)  \n",
    "\n",
    "    labels = opt_gmm.predict(data)\n",
    "    labels = np.ravel(labels.reshape(len(labels), 1))\n",
    "\n",
    "    means = opt_gmm.means_\n",
    "    \n",
    "    #this df contains each measurement value and the gaussian it is associated with.\n",
    "    #you can use this to pull out the measurements that fall into the desired gaussian for gating.\n",
    "    df = pd.DataFrame({'fluor value': np.ravel(data), 'which_gaussian': labels})\n",
    "\n",
    "\n",
    "    #df.head(10)\n",
    "    counts = []\n",
    "    means = []\n",
    "\n",
    "\n",
    "\n",
    "    for i in range(0, len(peaks)):\n",
    "        df_distro = df.loc[df['which_gaussian']==i]\n",
    "        counts.append(len(df_distro))\n",
    "        means.append(np.mean(df_distro['fluor value'].values))\n",
    "\n",
    "    print('peaks identified in the kde fit of data: ', peaks)\n",
    "    print('means of the gaussians the GMM optimized: ', means)\n",
    "    print('counts in each gaussian: ', counts)\n",
    "    total = len(df)\n",
    "    # print('total: ', total)\n",
    "\n",
    "    fractions = np.array(counts)/total\n",
    "    print('raw fractions of data in each gaussian: ', fractions)\n",
    "\n",
    "    ##Initializing corrected lists of means and fractions of subpopulations\n",
    "    GMM_accepted_means = []\n",
    "\n",
    "    GMM_corrected_fractions = []\n",
    "\n",
    "    for i in range(0, len(fractions)):\n",
    "        if fractions[i] > threshold: \n",
    "            GMM_accepted_means.append(means[i])\n",
    "            GMM_corrected_fractions.append(fractions[i])    \n",
    "\n",
    "    print('means of gaussians that contain fraction of data above thresh ({}): '.format(threshold), GMM_accepted_means)\n",
    "    print('fraction of data in above-thresh gaussians: ', GMM_corrected_fractions)\n",
    "\n",
    "    #uses the gaussian with the highest mean (the last one in the accepted means) as the ON gaussian\n",
    "    index_of_on = GMM_accepted_means.index(max(GMM_accepted_means))\n",
    "\n",
    "    #the threshold collects all the fractions that are above threshold, meaning its possible for the sum\n",
    "    #of the collected fractions to be less than 1. This is fine because this line tosses everything except\n",
    "    #the fraction of measurements in the ON gaussian and calculates the fraction in the OFF as 1-this, \n",
    "    #saying that any sub-threshold counts above this are OFF and everything below this is also OFF\n",
    "    fraction_of_highest_peak = GMM_corrected_fractions[index_of_on]\n",
    "\n",
    "    fraction_off = 1 - fraction_of_highest_peak\n",
    "\n",
    "#     print('fraction in highest gaussian: ', fraction_of_highest_peak)\n",
    "#     print('1 - fraction_in_highest_gaussian: ', fraction_off)\n",
    "\n",
    "    mean_of_highest_peak = GMM_accepted_means[index_of_on]\n",
    "\n",
    "    #because there can be many possible above-threshold means that are OFF (below the highest mean-ed gaussian (ON) )\n",
    "    #we want to come up with an appropriate summary statistic for their value. This can be their mean mean, weighted by\n",
    "    #the fraction of the data they represent\n",
    "    #This means we multiply the mean of each non-ON gaussian by the fraction of measurements in that gaussian, then\n",
    "    #take the average of these weighted values and divide by the total fraction of data represented in all these \n",
    "    #gaussians to get the weighted average value for all the non-ON data.\n",
    "    weighted_peak_means = []\n",
    "    fracs_to_use = []\n",
    "    for i in range(0, len(GMM_corrected_fractions)):\n",
    "        #if its the one corresponding to the highest gaussian, do nothing\n",
    "        if i == index_of_on:\n",
    "            pass\n",
    "        #otherwise, compute the weighted average using this gaussian's data too.\n",
    "        else: \n",
    "            #we retransform out of log space because avg of 2 and 3 in log is 2.5,\n",
    "            #but real average is scaled by log 10 and avg value is not 10**2.5\n",
    "            weighted_mean = GMM_corrected_fractions[i] * np.power(10, GMM_accepted_means[i])\n",
    "            fracs_to_use.append(GMM_corrected_fractions[i])\n",
    "            weighted_peak_means.append(weighted_mean)\n",
    "            \n",
    "\n",
    "    mean_of_off_population = np.log10(np.sum(weighted_peak_means)/np.sum(fracs_to_use))\n",
    "\n",
    "    return mean_of_highest_peak, fraction_of_highest_peak, mean_of_off_population, fraction_off, df"
   ]
  },
  {
   "cell_type": "code",
   "execution_count": 7,
   "metadata": {},
   "outputs": [],
   "source": [
    "def fit_GMM_KDE_wrapper (data):\n",
    "    \"\"\"Wrapper function to get both the peaks from a KDE fit, and then \n",
    "    from the Gaussian mixture model. Returns the mean of the broken cells, \n",
    "    and the fraction of broken cells.\"\"\"\n",
    "    \n",
    "    peak_locations = get_peak_locations_from_KDE_fit(data)\n",
    "    \n",
    "    mean_of_highest_peak, fraction_of_highest_peak, \\\n",
    "        mean_of_off_population, fraction_off, \\\n",
    "        df_gaussian_distros = fit_GMM_KDE(data, peak_locations, threshold = 0.01)\n",
    "    \n",
    "    return mean_of_highest_peak, fraction_of_highest_peak, mean_of_off_population, fraction_off, df_gaussian_distros"
   ]
  },
  {
   "cell_type": "code",
   "execution_count": 8,
   "metadata": {},
   "outputs": [],
   "source": [
    "def GMM_method(df_, wells, gate = None):\n",
    "    '''Wrapper function for the the entire generation of the final output df. \n",
    "    Takes the input dataframe and a list of all wells you want to perform GMM fitting on.\n",
    "    Adds a column for gate used, which is a shared input variable for the data INPUT stuff\n",
    "    and this data analysis stuff.\n",
    "    '''\n",
    "    means_on = []\n",
    "    fractions_on = []\n",
    "    means_off = []\n",
    "    fractions_off = []\n",
    "    wells_df = []\n",
    "    dfs_gaussian_distros = []\n",
    "    \n",
    "    for well in wells:\n",
    "        data = df_.loc[df_['well'] == well]\n",
    "        \n",
    "        vals = data['log10values'].values\n",
    "        \n",
    "        mean_of_highest_peak, fraction_of_highest_peak, mean_of_off_population, \\\n",
    "                        fraction_off, df_gaussian_distros = fit_GMM_KDE_wrapper(vals)\n",
    "        \n",
    "        means_on.append(mean_of_highest_peak)\n",
    "        fractions_on.append(fraction_of_highest_peak)\n",
    "        means_off.append(mean_of_off_population)\n",
    "        fractions_off.append(fraction_off)\n",
    "        dfs_gaussian_distros.append(df_gaussian_distros)\n",
    "        wells_df.append(well) \n",
    "\n",
    "    plt_df = pd.DataFrame({'mean ON': means_on, 'fraction ON' : fractions_on,\n",
    "                           'mean OFF':means_off, 'fraction OFF' : fractions_off,\n",
    "                           'well': wells_df})#, 'df_gaussian_distros': dfs_gaussian_distros})\n",
    "                                                #dont need ^^^ these anymore now that I've implemented GMM gating\n",
    "                                                #somewhere else\n",
    "    plt_df['gate'] = gate\n",
    "    \n",
    "    return plt_df"
   ]
  },
  {
   "cell_type": "code",
   "execution_count": 9,
   "metadata": {},
   "outputs": [],
   "source": [
    "def run_GMM_frac_analysis (file_exp, channel, wells, gate = None):\n",
    "    \"\"\"\n",
    "    Runs the whole GMM fractional analysis on a bunch of files, getting you location and fraction ON and OFF\n",
    "    in a particular channel\n",
    "    \n",
    "    Takes:\n",
    "    \n",
    "    file_exp  :  regular expression that tells glob what files to run\n",
    "    channel  :  the fluorescence channel data you want to analyze\n",
    "    wells  :  the list of wells you want to analyze, allows analysis of subset of the files in file_exp\n",
    "    gate  :  the gate inside which you want to do the analysis, DEF to None\n",
    "    \n",
    "    ------------\n",
    "    Returns\n",
    "    \n",
    "    output_df  :  a dataframe that has mean locations ON/OFF, fractions of reads in the ON/OFF gaussians,\n",
    "                    the corresponding well, the gate in which the analysis was applied to this well\n",
    "    \"\"\"\n",
    "    \n",
    "    #Read in the tidied data generated by any of your gating scripts\n",
    "    # The input for make_df is the directory that you want automatic fractions generated for. \n",
    "    input_df = make_df(file_exp, channel=channel, gate=gate)\n",
    "    \n",
    "    input_df = input_df.dropna()\n",
    "    \n",
    "    #now we have our mature input data, channel selected and gated\n",
    "    \n",
    "    #check if it looks right\n",
    "    print(input_df.head())\n",
    "    \n",
    "    ######## now do the analysis #########\n",
    "    \n",
    "    # Generate an output_df by running GMM method. The inputs are the input_df and\n",
    "    # the list of all wells you want generated\n",
    "    output_df = GMM_method(input_df, wells, gate=gate)\n",
    "    \n",
    "    return output_df"
   ]
  },
  {
   "cell_type": "code",
   "execution_count": 10,
   "metadata": {},
   "outputs": [],
   "source": [
    "# Initialize the list of wells that you have data files for and wish to fit with GMMs\n",
    "\n",
    "#all 96 wells\n",
    "wells = [i+j for i in ['A', 'B', 'C', 'D', 'E', 'F', 'G', 'H'] for j in ['1','2','3', '4', '5', '6', '7', '8', '9', '10', '11', '12']]"
   ]
  },
  {
   "cell_type": "code",
   "execution_count": 11,
   "metadata": {},
   "outputs": [],
   "source": [
    "#set some static variables\n",
    "\n",
    "channels = {'syto' : 'mKate/APC-A', 'yfp' : 'GFP/FITC-A', 'bfp' : 'CFP/VioBlue-A', 'cfp' : 'VioGreen-A'}\n"
   ]
  },
  {
   "cell_type": "code",
   "execution_count": 38,
   "metadata": {},
   "outputs": [],
   "source": [
    "#set important variables\n",
    "upper_dir = 'Z:/Reed/Projects/micro_consortia/DARPA_biocon/Task 1.1/A=B/20190214 A=B mar cfp yfp small screen 1/flow/'\n",
    "tpt = '18'\n",
    "f = upper_dir + tpt + '/*.csv'\n",
    "\n",
    "key = 'yfp'\n",
    "c = channels[key]\n",
    "\n",
    "w = wells\n",
    "\n",
    "gt = ['mKate/APC-A_GMMgate']"
   ]
  },
  {
   "cell_type": "code",
   "execution_count": 40,
   "metadata": {},
   "outputs": [
    {
     "name": "stderr",
     "output_type": "stream",
     "text": [
      "C:\\Users\\geeze\\Anaconda3\\lib\\site-packages\\ipykernel_launcher.py:18: RuntimeWarning: invalid value encountered in log10\n"
     ]
    },
    {
     "name": "stdout",
     "output_type": "stream",
     "text": [
      "  well  log10values\n",
      "0   A1     2.477515\n",
      "1   A1     3.092553\n",
      "2   A1     3.054189\n",
      "3   A1     2.251818\n",
      "4   A1     3.300649\n"
     ]
    },
    {
     "name": "stderr",
     "output_type": "stream",
     "text": [
      "C:\\Users\\geeze\\Anaconda3\\lib\\site-packages\\scipy\\stats\\stats.py:1713: FutureWarning: Using a non-tuple sequence for multidimensional indexing is deprecated; use `arr[tuple(seq)]` instead of `arr[seq]`. In the future this will be interpreted as an array index, `arr[np.array(seq)]`, which will result either in an error or a different result.\n",
      "  return np.add.reduce(sorted[indexer] * weights, axis=axis) / sumval\n",
      "C:\\Users\\geeze\\Anaconda3\\lib\\site-packages\\ipykernel_launcher.py:94: RuntimeWarning: invalid value encountered in double_scalars\n"
     ]
    },
    {
     "name": "stdout",
     "output_type": "stream",
     "text": [
      "peaks identified in the kde fit of data:  [[2.87239366]]\n",
      "means of the gaussians the GMM optimized:  [2.491311247539339]\n",
      "counts in each gaussian:  [63830]\n",
      "raw fractions of data in each gaussian:  [1.]\n",
      "means of gaussians that contain fraction of data above thresh (0.01):  [2.491311247539339]\n",
      "fraction of data in above-thresh gaussians:  [1.0]\n"
     ]
    },
    {
     "name": "stderr",
     "output_type": "stream",
     "text": [
      "C:\\Users\\geeze\\Anaconda3\\lib\\site-packages\\scipy\\stats\\stats.py:1713: FutureWarning: Using a non-tuple sequence for multidimensional indexing is deprecated; use `arr[tuple(seq)]` instead of `arr[seq]`. In the future this will be interpreted as an array index, `arr[np.array(seq)]`, which will result either in an error or a different result.\n",
      "  return np.add.reduce(sorted[indexer] * weights, axis=axis) / sumval\n"
     ]
    },
    {
     "name": "stdout",
     "output_type": "stream",
     "text": [
      "peaks identified in the kde fit of data:  [[2.1117598 ]\n",
      " [3.13261051]]\n",
      "means of the gaussians the GMM optimized:  [2.1187926029643767, 3.1304154903207824]\n",
      "counts in each gaussian:  [723, 357]\n",
      "raw fractions of data in each gaussian:  [0.66944444 0.33055556]\n",
      "means of gaussians that contain fraction of data above thresh (0.01):  [2.1187926029643767, 3.1304154903207824]\n",
      "fraction of data in above-thresh gaussians:  [0.6694444444444444, 0.33055555555555555]\n"
     ]
    },
    {
     "name": "stderr",
     "output_type": "stream",
     "text": [
      "C:\\Users\\geeze\\Anaconda3\\lib\\site-packages\\scipy\\stats\\stats.py:1713: FutureWarning: Using a non-tuple sequence for multidimensional indexing is deprecated; use `arr[tuple(seq)]` instead of `arr[seq]`. In the future this will be interpreted as an array index, `arr[np.array(seq)]`, which will result either in an error or a different result.\n",
      "  return np.add.reduce(sorted[indexer] * weights, axis=axis) / sumval\n",
      "C:\\Users\\geeze\\Anaconda3\\lib\\site-packages\\ipykernel_launcher.py:94: RuntimeWarning: invalid value encountered in double_scalars\n"
     ]
    },
    {
     "name": "stdout",
     "output_type": "stream",
     "text": [
      "peaks identified in the kde fit of data:  [[2.75729775]]\n",
      "means of the gaussians the GMM optimized:  [2.569425653080447]\n",
      "counts in each gaussian:  [111260]\n",
      "raw fractions of data in each gaussian:  [1.]\n",
      "means of gaussians that contain fraction of data above thresh (0.01):  [2.569425653080447]\n",
      "fraction of data in above-thresh gaussians:  [1.0]\n"
     ]
    },
    {
     "name": "stderr",
     "output_type": "stream",
     "text": [
      "C:\\Users\\geeze\\Anaconda3\\lib\\site-packages\\scipy\\stats\\stats.py:1713: FutureWarning: Using a non-tuple sequence for multidimensional indexing is deprecated; use `arr[tuple(seq)]` instead of `arr[seq]`. In the future this will be interpreted as an array index, `arr[np.array(seq)]`, which will result either in an error or a different result.\n",
      "  return np.add.reduce(sorted[indexer] * weights, axis=axis) / sumval\n",
      "C:\\Users\\geeze\\Anaconda3\\lib\\site-packages\\ipykernel_launcher.py:94: RuntimeWarning: invalid value encountered in double_scalars\n"
     ]
    },
    {
     "name": "stdout",
     "output_type": "stream",
     "text": [
      "peaks identified in the kde fit of data:  [[2.19683069]]\n",
      "means of the gaussians the GMM optimized:  [2.353397523337402]\n",
      "counts in each gaussian:  [21734]\n",
      "raw fractions of data in each gaussian:  [1.]\n",
      "means of gaussians that contain fraction of data above thresh (0.01):  [2.353397523337402]\n",
      "fraction of data in above-thresh gaussians:  [1.0]\n"
     ]
    },
    {
     "name": "stderr",
     "output_type": "stream",
     "text": [
      "C:\\Users\\geeze\\Anaconda3\\lib\\site-packages\\scipy\\stats\\stats.py:1713: FutureWarning: Using a non-tuple sequence for multidimensional indexing is deprecated; use `arr[tuple(seq)]` instead of `arr[seq]`. In the future this will be interpreted as an array index, `arr[np.array(seq)]`, which will result either in an error or a different result.\n",
      "  return np.add.reduce(sorted[indexer] * weights, axis=axis) / sumval\n",
      "C:\\Users\\geeze\\Anaconda3\\lib\\site-packages\\numpy\\core\\fromnumeric.py:2920: RuntimeWarning: Mean of empty slice.\n",
      "  out=out, **kwargs)\n",
      "C:\\Users\\geeze\\Anaconda3\\lib\\site-packages\\numpy\\core\\_methods.py:85: RuntimeWarning: invalid value encountered in double_scalars\n",
      "  ret = ret.dtype.type(ret / rcount)\n"
     ]
    },
    {
     "name": "stdout",
     "output_type": "stream",
     "text": [
      "peaks identified in the kde fit of data:  [[2.19182652]\n",
      " [5.76980817]\n",
      " [5.79983319]\n",
      " [5.98999166]]\n",
      "means of the gaussians the GMM optimized:  [2.1418315723013044, 1.207607469512837, nan, nan]\n",
      "counts in each gaussian:  [6644, 539, 0, 0]\n",
      "raw fractions of data in each gaussian:  [0.92496172 0.07503828 0.         0.        ]\n",
      "means of gaussians that contain fraction of data above thresh (0.01):  [2.1418315723013044, 1.207607469512837]\n",
      "fraction of data in above-thresh gaussians:  [0.9249617151607963, 0.07503828483920368]\n"
     ]
    },
    {
     "name": "stderr",
     "output_type": "stream",
     "text": [
      "C:\\Users\\geeze\\Anaconda3\\lib\\site-packages\\scipy\\stats\\stats.py:1713: FutureWarning: Using a non-tuple sequence for multidimensional indexing is deprecated; use `arr[tuple(seq)]` instead of `arr[seq]`. In the future this will be interpreted as an array index, `arr[np.array(seq)]`, which will result either in an error or a different result.\n",
      "  return np.add.reduce(sorted[indexer] * weights, axis=axis) / sumval\n",
      "C:\\Users\\geeze\\Anaconda3\\lib\\site-packages\\ipykernel_launcher.py:94: RuntimeWarning: invalid value encountered in double_scalars\n"
     ]
    },
    {
     "name": "stdout",
     "output_type": "stream",
     "text": [
      "peaks identified in the kde fit of data:  [[2.18181818]]\n",
      "means of the gaussians the GMM optimized:  [2.057832867439141]\n",
      "counts in each gaussian:  [55776]\n",
      "raw fractions of data in each gaussian:  [1.]\n",
      "means of gaussians that contain fraction of data above thresh (0.01):  [2.057832867439141]\n",
      "fraction of data in above-thresh gaussians:  [1.0]\n"
     ]
    },
    {
     "name": "stderr",
     "output_type": "stream",
     "text": [
      "C:\\Users\\geeze\\Anaconda3\\lib\\site-packages\\scipy\\stats\\stats.py:1713: FutureWarning: Using a non-tuple sequence for multidimensional indexing is deprecated; use `arr[tuple(seq)]` instead of `arr[seq]`. In the future this will be interpreted as an array index, `arr[np.array(seq)]`, which will result either in an error or a different result.\n",
      "  return np.add.reduce(sorted[indexer] * weights, axis=axis) / sumval\n"
     ]
    },
    {
     "name": "stdout",
     "output_type": "stream",
     "text": [
      "peaks identified in the kde fit of data:  [[2.70725605]]\n",
      "means of the gaussians the GMM optimized:  [2.7849974399585617]\n",
      "counts in each gaussian:  [207212]\n",
      "raw fractions of data in each gaussian:  [1.]\n",
      "means of gaussians that contain fraction of data above thresh (0.01):  [2.7849974399585617]\n",
      "fraction of data in above-thresh gaussians:  [1.0]\n"
     ]
    },
    {
     "name": "stderr",
     "output_type": "stream",
     "text": [
      "C:\\Users\\geeze\\Anaconda3\\lib\\site-packages\\ipykernel_launcher.py:94: RuntimeWarning: invalid value encountered in double_scalars\n",
      "C:\\Users\\geeze\\Anaconda3\\lib\\site-packages\\scipy\\stats\\stats.py:1713: FutureWarning: Using a non-tuple sequence for multidimensional indexing is deprecated; use `arr[tuple(seq)]` instead of `arr[seq]`. In the future this will be interpreted as an array index, `arr[np.array(seq)]`, which will result either in an error or a different result.\n",
      "  return np.add.reduce(sorted[indexer] * weights, axis=axis) / sumval\n",
      "C:\\Users\\geeze\\Anaconda3\\lib\\site-packages\\ipykernel_launcher.py:94: RuntimeWarning: invalid value encountered in double_scalars\n"
     ]
    },
    {
     "name": "stdout",
     "output_type": "stream",
     "text": [
      "peaks identified in the kde fit of data:  [[2.71226022]]\n",
      "means of the gaussians the GMM optimized:  [2.7052984505321085]\n",
      "counts in each gaussian:  [128820]\n",
      "raw fractions of data in each gaussian:  [1.]\n",
      "means of gaussians that contain fraction of data above thresh (0.01):  [2.7052984505321085]\n",
      "fraction of data in above-thresh gaussians:  [1.0]\n"
     ]
    },
    {
     "name": "stderr",
     "output_type": "stream",
     "text": [
      "C:\\Users\\geeze\\Anaconda3\\lib\\site-packages\\scipy\\stats\\stats.py:1713: FutureWarning: Using a non-tuple sequence for multidimensional indexing is deprecated; use `arr[tuple(seq)]` instead of `arr[seq]`. In the future this will be interpreted as an array index, `arr[np.array(seq)]`, which will result either in an error or a different result.\n",
      "  return np.add.reduce(sorted[indexer] * weights, axis=axis) / sumval\n",
      "C:\\Users\\geeze\\Anaconda3\\lib\\site-packages\\ipykernel_launcher.py:94: RuntimeWarning: invalid value encountered in double_scalars\n"
     ]
    },
    {
     "name": "stdout",
     "output_type": "stream",
     "text": [
      "peaks identified in the kde fit of data:  [[2.77231026]]\n",
      "means of the gaussians the GMM optimized:  [2.7712488218563767]\n",
      "counts in each gaussian:  [25779]\n",
      "raw fractions of data in each gaussian:  [1.]\n",
      "means of gaussians that contain fraction of data above thresh (0.01):  [2.7712488218563767]\n",
      "fraction of data in above-thresh gaussians:  [1.0]\n"
     ]
    },
    {
     "name": "stderr",
     "output_type": "stream",
     "text": [
      "C:\\Users\\geeze\\Anaconda3\\lib\\site-packages\\scipy\\stats\\stats.py:1713: FutureWarning: Using a non-tuple sequence for multidimensional indexing is deprecated; use `arr[tuple(seq)]` instead of `arr[seq]`. In the future this will be interpreted as an array index, `arr[np.array(seq)]`, which will result either in an error or a different result.\n",
      "  return np.add.reduce(sorted[indexer] * weights, axis=axis) / sumval\n",
      "C:\\Users\\geeze\\Anaconda3\\lib\\site-packages\\ipykernel_launcher.py:94: RuntimeWarning: invalid value encountered in double_scalars\n"
     ]
    },
    {
     "name": "stdout",
     "output_type": "stream",
     "text": [
      "peaks identified in the kde fit of data:  [[2.74228524]]\n",
      "means of the gaussians the GMM optimized:  [2.7105965872757802]\n",
      "counts in each gaussian:  [30451]\n",
      "raw fractions of data in each gaussian:  [1.]\n",
      "means of gaussians that contain fraction of data above thresh (0.01):  [2.7105965872757802]\n",
      "fraction of data in above-thresh gaussians:  [1.0]\n"
     ]
    },
    {
     "name": "stderr",
     "output_type": "stream",
     "text": [
      "C:\\Users\\geeze\\Anaconda3\\lib\\site-packages\\scipy\\stats\\stats.py:1713: FutureWarning: Using a non-tuple sequence for multidimensional indexing is deprecated; use `arr[tuple(seq)]` instead of `arr[seq]`. In the future this will be interpreted as an array index, `arr[np.array(seq)]`, which will result either in an error or a different result.\n",
      "  return np.add.reduce(sorted[indexer] * weights, axis=axis) / sumval\n"
     ]
    },
    {
     "name": "stdout",
     "output_type": "stream",
     "text": [
      "peaks identified in the kde fit of data:  [[2.00166806]\n",
      " [3.77814846]]\n",
      "means of the gaussians the GMM optimized:  [1.8600367905118023, 3.742317890989279]\n",
      "counts in each gaussian:  [39310, 7668]\n",
      "raw fractions of data in each gaussian:  [0.83677466 0.16322534]\n",
      "means of gaussians that contain fraction of data above thresh (0.01):  [1.8600367905118023, 3.742317890989279]\n",
      "fraction of data in above-thresh gaussians:  [0.8367746604793733, 0.16322533952062668]\n"
     ]
    },
    {
     "name": "stderr",
     "output_type": "stream",
     "text": [
      "C:\\Users\\geeze\\Anaconda3\\lib\\site-packages\\scipy\\stats\\stats.py:1713: FutureWarning: Using a non-tuple sequence for multidimensional indexing is deprecated; use `arr[tuple(seq)]` instead of `arr[seq]`. In the future this will be interpreted as an array index, `arr[np.array(seq)]`, which will result either in an error or a different result.\n",
      "  return np.add.reduce(sorted[indexer] * weights, axis=axis) / sumval\n"
     ]
    },
    {
     "name": "stdout",
     "output_type": "stream",
     "text": [
      "peaks identified in the kde fit of data:  [[2.01668057]\n",
      " [3.77314429]]\n",
      "means of the gaussians the GMM optimized:  [1.8912466196979454, 3.755013783377196]\n",
      "counts in each gaussian:  [17499, 3449]\n",
      "raw fractions of data in each gaussian:  [0.83535421 0.16464579]\n",
      "means of gaussians that contain fraction of data above thresh (0.01):  [1.8912466196979454, 3.755013783377196]\n",
      "fraction of data in above-thresh gaussians:  [0.8353542104258163, 0.1646457895741837]\n"
     ]
    },
    {
     "name": "stderr",
     "output_type": "stream",
     "text": [
      "C:\\Users\\geeze\\Anaconda3\\lib\\site-packages\\scipy\\stats\\stats.py:1713: FutureWarning: Using a non-tuple sequence for multidimensional indexing is deprecated; use `arr[tuple(seq)]` instead of `arr[seq]`. In the future this will be interpreted as an array index, `arr[np.array(seq)]`, which will result either in an error or a different result.\n",
      "  return np.add.reduce(sorted[indexer] * weights, axis=axis) / sumval\n",
      "C:\\Users\\geeze\\Anaconda3\\lib\\site-packages\\ipykernel_launcher.py:94: RuntimeWarning: invalid value encountered in double_scalars\n"
     ]
    },
    {
     "name": "stdout",
     "output_type": "stream",
     "text": [
      "peaks identified in the kde fit of data:  [[2.90241868]]\n",
      "means of the gaussians the GMM optimized:  [2.5059528299942064]\n",
      "counts in each gaussian:  [14486]\n",
      "raw fractions of data in each gaussian:  [1.]\n",
      "means of gaussians that contain fraction of data above thresh (0.01):  [2.5059528299942064]\n",
      "fraction of data in above-thresh gaussians:  [1.0]\n"
     ]
    },
    {
     "name": "stderr",
     "output_type": "stream",
     "text": [
      "C:\\Users\\geeze\\Anaconda3\\lib\\site-packages\\scipy\\stats\\stats.py:1713: FutureWarning: Using a non-tuple sequence for multidimensional indexing is deprecated; use `arr[tuple(seq)]` instead of `arr[seq]`. In the future this will be interpreted as an array index, `arr[np.array(seq)]`, which will result either in an error or a different result.\n",
      "  return np.add.reduce(sorted[indexer] * weights, axis=axis) / sumval\n"
     ]
    },
    {
     "name": "stdout",
     "output_type": "stream",
     "text": [
      "peaks identified in the kde fit of data:  [[2.14678899]\n",
      " [3.07756464]]\n",
      "means of the gaussians the GMM optimized:  [2.1231545559996308, 3.136404280574586]\n",
      "counts in each gaussian:  [1507, 1231]\n",
      "raw fractions of data in each gaussian:  [0.55040175 0.44959825]\n",
      "means of gaussians that contain fraction of data above thresh (0.01):  [2.1231545559996308, 3.136404280574586]\n",
      "fraction of data in above-thresh gaussians:  [0.5504017531044558, 0.4495982468955442]\n"
     ]
    },
    {
     "name": "stderr",
     "output_type": "stream",
     "text": [
      "C:\\Users\\geeze\\Anaconda3\\lib\\site-packages\\scipy\\stats\\stats.py:1713: FutureWarning: Using a non-tuple sequence for multidimensional indexing is deprecated; use `arr[tuple(seq)]` instead of `arr[seq]`. In the future this will be interpreted as an array index, `arr[np.array(seq)]`, which will result either in an error or a different result.\n",
      "  return np.add.reduce(sorted[indexer] * weights, axis=axis) / sumval\n",
      "C:\\Users\\geeze\\Anaconda3\\lib\\site-packages\\ipykernel_launcher.py:94: RuntimeWarning: invalid value encountered in double_scalars\n"
     ]
    },
    {
     "name": "stdout",
     "output_type": "stream",
     "text": [
      "peaks identified in the kde fit of data:  [[2.89241034]]\n",
      "means of the gaussians the GMM optimized:  [2.599528697694718]\n",
      "counts in each gaussian:  [10130]\n",
      "raw fractions of data in each gaussian:  [1.]\n",
      "means of gaussians that contain fraction of data above thresh (0.01):  [2.599528697694718]\n",
      "fraction of data in above-thresh gaussians:  [1.0]\n"
     ]
    },
    {
     "name": "stderr",
     "output_type": "stream",
     "text": [
      "C:\\Users\\geeze\\Anaconda3\\lib\\site-packages\\scipy\\stats\\stats.py:1713: FutureWarning: Using a non-tuple sequence for multidimensional indexing is deprecated; use `arr[tuple(seq)]` instead of `arr[seq]`. In the future this will be interpreted as an array index, `arr[np.array(seq)]`, which will result either in an error or a different result.\n",
      "  return np.add.reduce(sorted[indexer] * weights, axis=axis) / sumval\n",
      "C:\\Users\\geeze\\Anaconda3\\lib\\site-packages\\ipykernel_launcher.py:94: RuntimeWarning: invalid value encountered in double_scalars\n"
     ]
    },
    {
     "name": "stdout",
     "output_type": "stream",
     "text": [
      "peaks identified in the kde fit of data:  [[2.19182652]]\n",
      "means of the gaussians the GMM optimized:  [2.4520255490768936]\n",
      "counts in each gaussian:  [11085]\n",
      "raw fractions of data in each gaussian:  [1.]\n",
      "means of gaussians that contain fraction of data above thresh (0.01):  [2.4520255490768936]\n",
      "fraction of data in above-thresh gaussians:  [1.0]\n"
     ]
    },
    {
     "name": "stderr",
     "output_type": "stream",
     "text": [
      "C:\\Users\\geeze\\Anaconda3\\lib\\site-packages\\scipy\\stats\\stats.py:1713: FutureWarning: Using a non-tuple sequence for multidimensional indexing is deprecated; use `arr[tuple(seq)]` instead of `arr[seq]`. In the future this will be interpreted as an array index, `arr[np.array(seq)]`, which will result either in an error or a different result.\n",
      "  return np.add.reduce(sorted[indexer] * weights, axis=axis) / sumval\n"
     ]
    },
    {
     "name": "stdout",
     "output_type": "stream",
     "text": [
      "peaks identified in the kde fit of data:  [[2.24687239]\n",
      " [4.79899917]]\n",
      "means of the gaussians the GMM optimized:  [2.219407636682343, 1.1156351484487133]\n",
      "counts in each gaussian:  [10586, 348]\n",
      "raw fractions of data in each gaussian:  [0.96817267 0.03182733]\n",
      "means of gaussians that contain fraction of data above thresh (0.01):  [2.219407636682343, 1.1156351484487133]\n",
      "fraction of data in above-thresh gaussians:  [0.9681726723980245, 0.03182732760197549]\n"
     ]
    },
    {
     "name": "stderr",
     "output_type": "stream",
     "text": [
      "C:\\Users\\geeze\\Anaconda3\\lib\\site-packages\\scipy\\stats\\stats.py:1713: FutureWarning: Using a non-tuple sequence for multidimensional indexing is deprecated; use `arr[tuple(seq)]` instead of `arr[seq]`. In the future this will be interpreted as an array index, `arr[np.array(seq)]`, which will result either in an error or a different result.\n",
      "  return np.add.reduce(sorted[indexer] * weights, axis=axis) / sumval\n",
      "C:\\Users\\geeze\\Anaconda3\\lib\\site-packages\\ipykernel_launcher.py:94: RuntimeWarning: invalid value encountered in double_scalars\n"
     ]
    },
    {
     "name": "stdout",
     "output_type": "stream",
     "text": [
      "peaks identified in the kde fit of data:  [[2.27189324]]\n",
      "means of the gaussians the GMM optimized:  [2.239031870046253]\n",
      "counts in each gaussian:  [18928]\n",
      "raw fractions of data in each gaussian:  [1.]\n",
      "means of gaussians that contain fraction of data above thresh (0.01):  [2.239031870046253]\n",
      "fraction of data in above-thresh gaussians:  [1.0]\n"
     ]
    },
    {
     "name": "stderr",
     "output_type": "stream",
     "text": [
      "C:\\Users\\geeze\\Anaconda3\\lib\\site-packages\\scipy\\stats\\stats.py:1713: FutureWarning: Using a non-tuple sequence for multidimensional indexing is deprecated; use `arr[tuple(seq)]` instead of `arr[seq]`. In the future this will be interpreted as an array index, `arr[np.array(seq)]`, which will result either in an error or a different result.\n",
      "  return np.add.reduce(sorted[indexer] * weights, axis=axis) / sumval\n",
      "C:\\Users\\geeze\\Anaconda3\\lib\\site-packages\\ipykernel_launcher.py:94: RuntimeWarning: invalid value encountered in double_scalars\n"
     ]
    },
    {
     "name": "stdout",
     "output_type": "stream",
     "text": [
      "peaks identified in the kde fit of data:  [[2.74228524]]\n",
      "means of the gaussians the GMM optimized:  [2.769644780587153]\n",
      "counts in each gaussian:  [63029]\n",
      "raw fractions of data in each gaussian:  [1.]\n",
      "means of gaussians that contain fraction of data above thresh (0.01):  [2.769644780587153]\n",
      "fraction of data in above-thresh gaussians:  [1.0]\n"
     ]
    },
    {
     "name": "stderr",
     "output_type": "stream",
     "text": [
      "C:\\Users\\geeze\\Anaconda3\\lib\\site-packages\\scipy\\stats\\stats.py:1713: FutureWarning: Using a non-tuple sequence for multidimensional indexing is deprecated; use `arr[tuple(seq)]` instead of `arr[seq]`. In the future this will be interpreted as an array index, `arr[np.array(seq)]`, which will result either in an error or a different result.\n",
      "  return np.add.reduce(sorted[indexer] * weights, axis=axis) / sumval\n",
      "C:\\Users\\geeze\\Anaconda3\\lib\\site-packages\\ipykernel_launcher.py:94: RuntimeWarning: invalid value encountered in double_scalars\n"
     ]
    },
    {
     "name": "stdout",
     "output_type": "stream",
     "text": [
      "peaks identified in the kde fit of data:  [[2.77231026]]\n",
      "means of the gaussians the GMM optimized:  [2.8095689326777853]\n",
      "counts in each gaussian:  [22046]\n",
      "raw fractions of data in each gaussian:  [1.]\n",
      "means of gaussians that contain fraction of data above thresh (0.01):  [2.8095689326777853]\n",
      "fraction of data in above-thresh gaussians:  [1.0]\n"
     ]
    },
    {
     "name": "stderr",
     "output_type": "stream",
     "text": [
      "C:\\Users\\geeze\\Anaconda3\\lib\\site-packages\\scipy\\stats\\stats.py:1713: FutureWarning: Using a non-tuple sequence for multidimensional indexing is deprecated; use `arr[tuple(seq)]` instead of `arr[seq]`. In the future this will be interpreted as an array index, `arr[np.array(seq)]`, which will result either in an error or a different result.\n",
      "  return np.add.reduce(sorted[indexer] * weights, axis=axis) / sumval\n",
      "C:\\Users\\geeze\\Anaconda3\\lib\\site-packages\\ipykernel_launcher.py:94: RuntimeWarning: invalid value encountered in double_scalars\n"
     ]
    },
    {
     "name": "stdout",
     "output_type": "stream",
     "text": [
      "peaks identified in the kde fit of data:  [[2.80233528]]\n",
      "means of the gaussians the GMM optimized:  [2.9117384589762243]\n",
      "counts in each gaussian:  [22882]\n",
      "raw fractions of data in each gaussian:  [1.]\n",
      "means of gaussians that contain fraction of data above thresh (0.01):  [2.9117384589762243]\n",
      "fraction of data in above-thresh gaussians:  [1.0]\n"
     ]
    },
    {
     "name": "stderr",
     "output_type": "stream",
     "text": [
      "C:\\Users\\geeze\\Anaconda3\\lib\\site-packages\\scipy\\stats\\stats.py:1713: FutureWarning: Using a non-tuple sequence for multidimensional indexing is deprecated; use `arr[tuple(seq)]` instead of `arr[seq]`. In the future this will be interpreted as an array index, `arr[np.array(seq)]`, which will result either in an error or a different result.\n",
      "  return np.add.reduce(sorted[indexer] * weights, axis=axis) / sumval\n",
      "C:\\Users\\geeze\\Anaconda3\\lib\\site-packages\\ipykernel_launcher.py:94: RuntimeWarning: invalid value encountered in double_scalars\n"
     ]
    },
    {
     "name": "stdout",
     "output_type": "stream",
     "text": [
      "peaks identified in the kde fit of data:  [[2.80233528]]\n",
      "means of the gaussians the GMM optimized:  [2.7989399544842537]\n",
      "counts in each gaussian:  [9653]\n",
      "raw fractions of data in each gaussian:  [1.]\n",
      "means of gaussians that contain fraction of data above thresh (0.01):  [2.7989399544842537]\n",
      "fraction of data in above-thresh gaussians:  [1.0]\n"
     ]
    },
    {
     "name": "stderr",
     "output_type": "stream",
     "text": [
      "C:\\Users\\geeze\\Anaconda3\\lib\\site-packages\\scipy\\stats\\stats.py:1713: FutureWarning: Using a non-tuple sequence for multidimensional indexing is deprecated; use `arr[tuple(seq)]` instead of `arr[seq]`. In the future this will be interpreted as an array index, `arr[np.array(seq)]`, which will result either in an error or a different result.\n",
      "  return np.add.reduce(sorted[indexer] * weights, axis=axis) / sumval\n"
     ]
    },
    {
     "name": "stdout",
     "output_type": "stream",
     "text": [
      "peaks identified in the kde fit of data:  [[2.00667223]\n",
      " [3.87823186]]\n",
      "means of the gaussians the GMM optimized:  [1.8759433985755234, 3.871579917541624]\n",
      "counts in each gaussian:  [15838, 5817]\n",
      "raw fractions of data in each gaussian:  [0.73137843 0.26862157]\n",
      "means of gaussians that contain fraction of data above thresh (0.01):  [1.8759433985755234, 3.871579917541624]\n",
      "fraction of data in above-thresh gaussians:  [0.7313784345416763, 0.2686215654583237]\n"
     ]
    },
    {
     "name": "stderr",
     "output_type": "stream",
     "text": [
      "C:\\Users\\geeze\\Anaconda3\\lib\\site-packages\\scipy\\stats\\stats.py:1713: FutureWarning: Using a non-tuple sequence for multidimensional indexing is deprecated; use `arr[tuple(seq)]` instead of `arr[seq]`. In the future this will be interpreted as an array index, `arr[np.array(seq)]`, which will result either in an error or a different result.\n",
      "  return np.add.reduce(sorted[indexer] * weights, axis=axis) / sumval\n"
     ]
    },
    {
     "name": "stdout",
     "output_type": "stream",
     "text": [
      "peaks identified in the kde fit of data:  [[2.01668057]\n",
      " [3.82819016]]\n",
      "means of the gaussians the GMM optimized:  [1.9171598633647664, 3.678006427464023]\n",
      "counts in each gaussian:  [31927, 25662]\n",
      "raw fractions of data in each gaussian:  [0.55439407 0.44560593]\n",
      "means of gaussians that contain fraction of data above thresh (0.01):  [1.9171598633647664, 3.678006427464023]\n",
      "fraction of data in above-thresh gaussians:  [0.5543940683116567, 0.4456059316883433]\n"
     ]
    },
    {
     "name": "stderr",
     "output_type": "stream",
     "text": [
      "C:\\Users\\geeze\\Anaconda3\\lib\\site-packages\\scipy\\stats\\stats.py:1713: FutureWarning: Using a non-tuple sequence for multidimensional indexing is deprecated; use `arr[tuple(seq)]` instead of `arr[seq]`. In the future this will be interpreted as an array index, `arr[np.array(seq)]`, which will result either in an error or a different result.\n",
      "  return np.add.reduce(sorted[indexer] * weights, axis=axis) / sumval\n",
      "C:\\Users\\geeze\\Anaconda3\\lib\\site-packages\\ipykernel_launcher.py:94: RuntimeWarning: invalid value encountered in double_scalars\n"
     ]
    },
    {
     "name": "stdout",
     "output_type": "stream",
     "text": [
      "peaks identified in the kde fit of data:  [[2.19683069]]\n",
      "means of the gaussians the GMM optimized:  [2.480387400548761]\n",
      "counts in each gaussian:  [8101]\n",
      "raw fractions of data in each gaussian:  [1.]\n",
      "means of gaussians that contain fraction of data above thresh (0.01):  [2.480387400548761]\n",
      "fraction of data in above-thresh gaussians:  [1.0]\n"
     ]
    },
    {
     "name": "stderr",
     "output_type": "stream",
     "text": [
      "C:\\Users\\geeze\\Anaconda3\\lib\\site-packages\\scipy\\stats\\stats.py:1713: FutureWarning: Using a non-tuple sequence for multidimensional indexing is deprecated; use `arr[tuple(seq)]` instead of `arr[seq]`. In the future this will be interpreted as an array index, `arr[np.array(seq)]`, which will result either in an error or a different result.\n",
      "  return np.add.reduce(sorted[indexer] * weights, axis=axis) / sumval\n"
     ]
    },
    {
     "name": "stdout",
     "output_type": "stream",
     "text": [
      "peaks identified in the kde fit of data:  [[2.21684737]\n",
      " [3.19266055]]\n",
      "means of the gaussians the GMM optimized:  [2.1733270105662847, 3.204017871570997]\n",
      "counts in each gaussian:  [6629, 1521]\n",
      "raw fractions of data in each gaussian:  [0.81337423 0.18662577]\n",
      "means of gaussians that contain fraction of data above thresh (0.01):  [2.1733270105662847, 3.204017871570997]\n",
      "fraction of data in above-thresh gaussians:  [0.8133742331288344, 0.18662576687116564]\n"
     ]
    },
    {
     "name": "stderr",
     "output_type": "stream",
     "text": [
      "C:\\Users\\geeze\\Anaconda3\\lib\\site-packages\\scipy\\stats\\stats.py:1713: FutureWarning: Using a non-tuple sequence for multidimensional indexing is deprecated; use `arr[tuple(seq)]` instead of `arr[seq]`. In the future this will be interpreted as an array index, `arr[np.array(seq)]`, which will result either in an error or a different result.\n",
      "  return np.add.reduce(sorted[indexer] * weights, axis=axis) / sumval\n",
      "C:\\Users\\geeze\\Anaconda3\\lib\\site-packages\\ipykernel_launcher.py:94: RuntimeWarning: invalid value encountered in double_scalars\n"
     ]
    },
    {
     "name": "stdout",
     "output_type": "stream",
     "text": [
      "peaks identified in the kde fit of data:  [[2.91242702]]\n",
      "means of the gaussians the GMM optimized:  [2.6747060836850873]\n",
      "counts in each gaussian:  [13365]\n",
      "raw fractions of data in each gaussian:  [1.]\n",
      "means of gaussians that contain fraction of data above thresh (0.01):  [2.6747060836850873]\n",
      "fraction of data in above-thresh gaussians:  [1.0]\n"
     ]
    },
    {
     "name": "stderr",
     "output_type": "stream",
     "text": [
      "C:\\Users\\geeze\\Anaconda3\\lib\\site-packages\\scipy\\stats\\stats.py:1713: FutureWarning: Using a non-tuple sequence for multidimensional indexing is deprecated; use `arr[tuple(seq)]` instead of `arr[seq]`. In the future this will be interpreted as an array index, `arr[np.array(seq)]`, which will result either in an error or a different result.\n",
      "  return np.add.reduce(sorted[indexer] * weights, axis=axis) / sumval\n",
      "C:\\Users\\geeze\\Anaconda3\\lib\\site-packages\\ipykernel_launcher.py:94: RuntimeWarning: invalid value encountered in double_scalars\n"
     ]
    },
    {
     "name": "stdout",
     "output_type": "stream",
     "text": [
      "peaks identified in the kde fit of data:  [[2.22685571]]\n",
      "means of the gaussians the GMM optimized:  [2.370932367812545]\n",
      "counts in each gaussian:  [8118]\n",
      "raw fractions of data in each gaussian:  [1.]\n",
      "means of gaussians that contain fraction of data above thresh (0.01):  [2.370932367812545]\n",
      "fraction of data in above-thresh gaussians:  [1.0]\n"
     ]
    },
    {
     "name": "stderr",
     "output_type": "stream",
     "text": [
      "C:\\Users\\geeze\\Anaconda3\\lib\\site-packages\\scipy\\stats\\stats.py:1713: FutureWarning: Using a non-tuple sequence for multidimensional indexing is deprecated; use `arr[tuple(seq)]` instead of `arr[seq]`. In the future this will be interpreted as an array index, `arr[np.array(seq)]`, which will result either in an error or a different result.\n",
      "  return np.add.reduce(sorted[indexer] * weights, axis=axis) / sumval\n",
      "C:\\Users\\geeze\\Anaconda3\\lib\\site-packages\\ipykernel_launcher.py:94: RuntimeWarning: invalid value encountered in double_scalars\n"
     ]
    },
    {
     "name": "stdout",
     "output_type": "stream",
     "text": [
      "peaks identified in the kde fit of data:  [[2.24687239]]\n",
      "means of the gaussians the GMM optimized:  [2.1870683815324714]\n",
      "counts in each gaussian:  [5845]\n",
      "raw fractions of data in each gaussian:  [1.]\n",
      "means of gaussians that contain fraction of data above thresh (0.01):  [2.1870683815324714]\n",
      "fraction of data in above-thresh gaussians:  [1.0]\n"
     ]
    },
    {
     "name": "stderr",
     "output_type": "stream",
     "text": [
      "C:\\Users\\geeze\\Anaconda3\\lib\\site-packages\\scipy\\stats\\stats.py:1713: FutureWarning: Using a non-tuple sequence for multidimensional indexing is deprecated; use `arr[tuple(seq)]` instead of `arr[seq]`. In the future this will be interpreted as an array index, `arr[np.array(seq)]`, which will result either in an error or a different result.\n",
      "  return np.add.reduce(sorted[indexer] * weights, axis=axis) / sumval\n",
      "C:\\Users\\geeze\\Anaconda3\\lib\\site-packages\\ipykernel_launcher.py:94: RuntimeWarning: invalid value encountered in double_scalars\n"
     ]
    },
    {
     "name": "stdout",
     "output_type": "stream",
     "text": [
      "peaks identified in the kde fit of data:  [[2.27189324]]\n",
      "means of the gaussians the GMM optimized:  [2.224075835785167]\n",
      "counts in each gaussian:  [12352]\n",
      "raw fractions of data in each gaussian:  [1.]\n",
      "means of gaussians that contain fraction of data above thresh (0.01):  [2.224075835785167]\n",
      "fraction of data in above-thresh gaussians:  [1.0]\n"
     ]
    },
    {
     "name": "stderr",
     "output_type": "stream",
     "text": [
      "C:\\Users\\geeze\\Anaconda3\\lib\\site-packages\\scipy\\stats\\stats.py:1713: FutureWarning: Using a non-tuple sequence for multidimensional indexing is deprecated; use `arr[tuple(seq)]` instead of `arr[seq]`. In the future this will be interpreted as an array index, `arr[np.array(seq)]`, which will result either in an error or a different result.\n",
      "  return np.add.reduce(sorted[indexer] * weights, axis=axis) / sumval\n",
      "C:\\Users\\geeze\\Anaconda3\\lib\\site-packages\\ipykernel_launcher.py:94: RuntimeWarning: invalid value encountered in double_scalars\n"
     ]
    },
    {
     "name": "stdout",
     "output_type": "stream",
     "text": [
      "peaks identified in the kde fit of data:  [[2.72727273]]\n",
      "means of the gaussians the GMM optimized:  [2.9492740309084997]\n",
      "counts in each gaussian:  [99391]\n",
      "raw fractions of data in each gaussian:  [1.]\n",
      "means of gaussians that contain fraction of data above thresh (0.01):  [2.9492740309084997]\n",
      "fraction of data in above-thresh gaussians:  [1.0]\n"
     ]
    },
    {
     "name": "stderr",
     "output_type": "stream",
     "text": [
      "C:\\Users\\geeze\\Anaconda3\\lib\\site-packages\\scipy\\stats\\stats.py:1713: FutureWarning: Using a non-tuple sequence for multidimensional indexing is deprecated; use `arr[tuple(seq)]` instead of `arr[seq]`. In the future this will be interpreted as an array index, `arr[np.array(seq)]`, which will result either in an error or a different result.\n",
      "  return np.add.reduce(sorted[indexer] * weights, axis=axis) / sumval\n",
      "C:\\Users\\geeze\\Anaconda3\\lib\\site-packages\\ipykernel_launcher.py:94: RuntimeWarning: invalid value encountered in double_scalars\n"
     ]
    },
    {
     "name": "stdout",
     "output_type": "stream",
     "text": [
      "peaks identified in the kde fit of data:  [[2.75229358]]\n",
      "means of the gaussians the GMM optimized:  [2.7401911232922984]\n",
      "counts in each gaussian:  [18631]\n",
      "raw fractions of data in each gaussian:  [1.]\n",
      "means of gaussians that contain fraction of data above thresh (0.01):  [2.7401911232922984]\n",
      "fraction of data in above-thresh gaussians:  [1.0]\n"
     ]
    },
    {
     "name": "stderr",
     "output_type": "stream",
     "text": [
      "C:\\Users\\geeze\\Anaconda3\\lib\\site-packages\\scipy\\stats\\stats.py:1713: FutureWarning: Using a non-tuple sequence for multidimensional indexing is deprecated; use `arr[tuple(seq)]` instead of `arr[seq]`. In the future this will be interpreted as an array index, `arr[np.array(seq)]`, which will result either in an error or a different result.\n",
      "  return np.add.reduce(sorted[indexer] * weights, axis=axis) / sumval\n",
      "C:\\Users\\geeze\\Anaconda3\\lib\\site-packages\\ipykernel_launcher.py:94: RuntimeWarning: invalid value encountered in double_scalars\n"
     ]
    },
    {
     "name": "stdout",
     "output_type": "stream",
     "text": [
      "peaks identified in the kde fit of data:  [[2.79232694]]\n",
      "means of the gaussians the GMM optimized:  [2.8156493762127357]\n",
      "counts in each gaussian:  [12040]\n",
      "raw fractions of data in each gaussian:  [1.]\n",
      "means of gaussians that contain fraction of data above thresh (0.01):  [2.8156493762127357]\n",
      "fraction of data in above-thresh gaussians:  [1.0]\n"
     ]
    },
    {
     "name": "stderr",
     "output_type": "stream",
     "text": [
      "C:\\Users\\geeze\\Anaconda3\\lib\\site-packages\\scipy\\stats\\stats.py:1713: FutureWarning: Using a non-tuple sequence for multidimensional indexing is deprecated; use `arr[tuple(seq)]` instead of `arr[seq]`. In the future this will be interpreted as an array index, `arr[np.array(seq)]`, which will result either in an error or a different result.\n",
      "  return np.add.reduce(sorted[indexer] * weights, axis=axis) / sumval\n",
      "C:\\Users\\geeze\\Anaconda3\\lib\\site-packages\\ipykernel_launcher.py:94: RuntimeWarning: invalid value encountered in double_scalars\n"
     ]
    },
    {
     "name": "stdout",
     "output_type": "stream",
     "text": [
      "peaks identified in the kde fit of data:  [[2.79733111]]\n",
      "means of the gaussians the GMM optimized:  [2.8445059942424233]\n",
      "counts in each gaussian:  [11481]\n",
      "raw fractions of data in each gaussian:  [1.]\n",
      "means of gaussians that contain fraction of data above thresh (0.01):  [2.8445059942424233]\n",
      "fraction of data in above-thresh gaussians:  [1.0]\n"
     ]
    },
    {
     "name": "stderr",
     "output_type": "stream",
     "text": [
      "C:\\Users\\geeze\\Anaconda3\\lib\\site-packages\\scipy\\stats\\stats.py:1713: FutureWarning: Using a non-tuple sequence for multidimensional indexing is deprecated; use `arr[tuple(seq)]` instead of `arr[seq]`. In the future this will be interpreted as an array index, `arr[np.array(seq)]`, which will result either in an error or a different result.\n",
      "  return np.add.reduce(sorted[indexer] * weights, axis=axis) / sumval\n"
     ]
    },
    {
     "name": "stdout",
     "output_type": "stream",
     "text": [
      "peaks identified in the kde fit of data:  [[2.0116764 ]\n",
      " [4.08840701]]\n",
      "means of the gaussians the GMM optimized:  [1.9301115059891358, 3.9410254620876937]\n",
      "counts in each gaussian:  [24219, 44943]\n",
      "raw fractions of data in each gaussian:  [0.35017784 0.64982216]\n",
      "means of gaussians that contain fraction of data above thresh (0.01):  [1.9301115059891358, 3.9410254620876937]\n",
      "fraction of data in above-thresh gaussians:  [0.35017784332436885, 0.6498221566756311]\n"
     ]
    },
    {
     "name": "stderr",
     "output_type": "stream",
     "text": [
      "C:\\Users\\geeze\\Anaconda3\\lib\\site-packages\\scipy\\stats\\stats.py:1713: FutureWarning: Using a non-tuple sequence for multidimensional indexing is deprecated; use `arr[tuple(seq)]` instead of `arr[seq]`. In the future this will be interpreted as an array index, `arr[np.array(seq)]`, which will result either in an error or a different result.\n",
      "  return np.add.reduce(sorted[indexer] * weights, axis=axis) / sumval\n"
     ]
    },
    {
     "name": "stdout",
     "output_type": "stream",
     "text": [
      "peaks identified in the kde fit of data:  [[2.0617181 ]\n",
      " [4.06338616]]\n",
      "means of the gaussians the GMM optimized:  [1.9467993305099458, 3.970708432660387]\n",
      "counts in each gaussian:  [58550, 69806]\n",
      "raw fractions of data in each gaussian:  [0.4561532 0.5438468]\n",
      "means of gaussians that contain fraction of data above thresh (0.01):  [1.9467993305099458, 3.970708432660387]\n",
      "fraction of data in above-thresh gaussians:  [0.4561531989155162, 0.5438468010844838]\n"
     ]
    },
    {
     "name": "stderr",
     "output_type": "stream",
     "text": [
      "C:\\Users\\geeze\\Anaconda3\\lib\\site-packages\\scipy\\stats\\stats.py:1713: FutureWarning: Using a non-tuple sequence for multidimensional indexing is deprecated; use `arr[tuple(seq)]` instead of `arr[seq]`. In the future this will be interpreted as an array index, `arr[np.array(seq)]`, which will result either in an error or a different result.\n",
      "  return np.add.reduce(sorted[indexer] * weights, axis=axis) / sumval\n",
      "C:\\Users\\geeze\\Anaconda3\\lib\\site-packages\\ipykernel_launcher.py:94: RuntimeWarning: invalid value encountered in double_scalars\n"
     ]
    },
    {
     "name": "stdout",
     "output_type": "stream",
     "text": [
      "peaks identified in the kde fit of data:  [[2.92243536]]\n",
      "means of the gaussians the GMM optimized:  [2.6138875891324385]\n",
      "counts in each gaussian:  [9695]\n",
      "raw fractions of data in each gaussian:  [1.]\n",
      "means of gaussians that contain fraction of data above thresh (0.01):  [2.6138875891324385]\n",
      "fraction of data in above-thresh gaussians:  [1.0]\n"
     ]
    },
    {
     "name": "stderr",
     "output_type": "stream",
     "text": [
      "C:\\Users\\geeze\\Anaconda3\\lib\\site-packages\\scipy\\stats\\stats.py:1713: FutureWarning: Using a non-tuple sequence for multidimensional indexing is deprecated; use `arr[tuple(seq)]` instead of `arr[seq]`. In the future this will be interpreted as an array index, `arr[np.array(seq)]`, which will result either in an error or a different result.\n",
      "  return np.add.reduce(sorted[indexer] * weights, axis=axis) / sumval\n",
      "C:\\Users\\geeze\\Anaconda3\\lib\\site-packages\\ipykernel_launcher.py:94: RuntimeWarning: invalid value encountered in double_scalars\n"
     ]
    },
    {
     "name": "stdout",
     "output_type": "stream",
     "text": [
      "peaks identified in the kde fit of data:  [[2.23686405]]\n",
      "means of the gaussians the GMM optimized:  [2.372302722526963]\n",
      "counts in each gaussian:  [24458]\n",
      "raw fractions of data in each gaussian:  [1.]\n",
      "means of gaussians that contain fraction of data above thresh (0.01):  [2.372302722526963]\n",
      "fraction of data in above-thresh gaussians:  [1.0]\n"
     ]
    },
    {
     "name": "stderr",
     "output_type": "stream",
     "text": [
      "C:\\Users\\geeze\\Anaconda3\\lib\\site-packages\\scipy\\stats\\stats.py:1713: FutureWarning: Using a non-tuple sequence for multidimensional indexing is deprecated; use `arr[tuple(seq)]` instead of `arr[seq]`. In the future this will be interpreted as an array index, `arr[np.array(seq)]`, which will result either in an error or a different result.\n",
      "  return np.add.reduce(sorted[indexer] * weights, axis=axis) / sumval\n",
      "C:\\Users\\geeze\\Anaconda3\\lib\\site-packages\\ipykernel_launcher.py:94: RuntimeWarning: invalid value encountered in double_scalars\n"
     ]
    },
    {
     "name": "stdout",
     "output_type": "stream",
     "text": [
      "peaks identified in the kde fit of data:  [[2.97247706]]\n",
      "means of the gaussians the GMM optimized:  [2.657494329968979]\n",
      "counts in each gaussian:  [14712]\n",
      "raw fractions of data in each gaussian:  [1.]\n",
      "means of gaussians that contain fraction of data above thresh (0.01):  [2.657494329968979]\n",
      "fraction of data in above-thresh gaussians:  [1.0]\n"
     ]
    },
    {
     "name": "stderr",
     "output_type": "stream",
     "text": [
      "C:\\Users\\geeze\\Anaconda3\\lib\\site-packages\\scipy\\stats\\stats.py:1713: FutureWarning: Using a non-tuple sequence for multidimensional indexing is deprecated; use `arr[tuple(seq)]` instead of `arr[seq]`. In the future this will be interpreted as an array index, `arr[np.array(seq)]`, which will result either in an error or a different result.\n",
      "  return np.add.reduce(sorted[indexer] * weights, axis=axis) / sumval\n",
      "C:\\Users\\geeze\\Anaconda3\\lib\\site-packages\\ipykernel_launcher.py:94: RuntimeWarning: invalid value encountered in double_scalars\n"
     ]
    },
    {
     "name": "stdout",
     "output_type": "stream",
     "text": [
      "peaks identified in the kde fit of data:  [[2.24186822]]\n",
      "means of the gaussians the GMM optimized:  [2.390088274539584]\n",
      "counts in each gaussian:  [10222]\n",
      "raw fractions of data in each gaussian:  [1.]\n",
      "means of gaussians that contain fraction of data above thresh (0.01):  [2.390088274539584]\n",
      "fraction of data in above-thresh gaussians:  [1.0]\n"
     ]
    },
    {
     "name": "stderr",
     "output_type": "stream",
     "text": [
      "C:\\Users\\geeze\\Anaconda3\\lib\\site-packages\\scipy\\stats\\stats.py:1713: FutureWarning: Using a non-tuple sequence for multidimensional indexing is deprecated; use `arr[tuple(seq)]` instead of `arr[seq]`. In the future this will be interpreted as an array index, `arr[np.array(seq)]`, which will result either in an error or a different result.\n",
      "  return np.add.reduce(sorted[indexer] * weights, axis=axis) / sumval\n",
      "C:\\Users\\geeze\\Anaconda3\\lib\\site-packages\\ipykernel_launcher.py:94: RuntimeWarning: invalid value encountered in double_scalars\n"
     ]
    },
    {
     "name": "stdout",
     "output_type": "stream",
     "text": [
      "peaks identified in the kde fit of data:  [[2.27689741]]\n",
      "means of the gaussians the GMM optimized:  [2.220257269568114]\n",
      "counts in each gaussian:  [20006]\n",
      "raw fractions of data in each gaussian:  [1.]\n",
      "means of gaussians that contain fraction of data above thresh (0.01):  [2.220257269568114]\n",
      "fraction of data in above-thresh gaussians:  [1.0]\n"
     ]
    },
    {
     "name": "stderr",
     "output_type": "stream",
     "text": [
      "C:\\Users\\geeze\\Anaconda3\\lib\\site-packages\\scipy\\stats\\stats.py:1713: FutureWarning: Using a non-tuple sequence for multidimensional indexing is deprecated; use `arr[tuple(seq)]` instead of `arr[seq]`. In the future this will be interpreted as an array index, `arr[np.array(seq)]`, which will result either in an error or a different result.\n",
      "  return np.add.reduce(sorted[indexer] * weights, axis=axis) / sumval\n",
      "C:\\Users\\geeze\\Anaconda3\\lib\\site-packages\\ipykernel_launcher.py:94: RuntimeWarning: invalid value encountered in double_scalars\n"
     ]
    },
    {
     "name": "stdout",
     "output_type": "stream",
     "text": [
      "peaks identified in the kde fit of data:  [[2.28190158]]\n",
      "means of the gaussians the GMM optimized:  [2.2398640995061365]\n",
      "counts in each gaussian:  [12531]\n",
      "raw fractions of data in each gaussian:  [1.]\n",
      "means of gaussians that contain fraction of data above thresh (0.01):  [2.2398640995061365]\n",
      "fraction of data in above-thresh gaussians:  [1.0]\n"
     ]
    },
    {
     "name": "stderr",
     "output_type": "stream",
     "text": [
      "C:\\Users\\geeze\\Anaconda3\\lib\\site-packages\\scipy\\stats\\stats.py:1713: FutureWarning: Using a non-tuple sequence for multidimensional indexing is deprecated; use `arr[tuple(seq)]` instead of `arr[seq]`. In the future this will be interpreted as an array index, `arr[np.array(seq)]`, which will result either in an error or a different result.\n",
      "  return np.add.reduce(sorted[indexer] * weights, axis=axis) / sumval\n",
      "C:\\Users\\geeze\\Anaconda3\\lib\\site-packages\\ipykernel_launcher.py:94: RuntimeWarning: invalid value encountered in double_scalars\n"
     ]
    },
    {
     "name": "stdout",
     "output_type": "stream",
     "text": [
      "peaks identified in the kde fit of data:  [[2.74228524]]\n",
      "means of the gaussians the GMM optimized:  [2.6951662557765323]\n",
      "counts in each gaussian:  [12427]\n",
      "raw fractions of data in each gaussian:  [1.]\n",
      "means of gaussians that contain fraction of data above thresh (0.01):  [2.6951662557765323]\n",
      "fraction of data in above-thresh gaussians:  [1.0]\n"
     ]
    },
    {
     "name": "stderr",
     "output_type": "stream",
     "text": [
      "C:\\Users\\geeze\\Anaconda3\\lib\\site-packages\\scipy\\stats\\stats.py:1713: FutureWarning: Using a non-tuple sequence for multidimensional indexing is deprecated; use `arr[tuple(seq)]` instead of `arr[seq]`. In the future this will be interpreted as an array index, `arr[np.array(seq)]`, which will result either in an error or a different result.\n",
      "  return np.add.reduce(sorted[indexer] * weights, axis=axis) / sumval\n",
      "C:\\Users\\geeze\\Anaconda3\\lib\\site-packages\\ipykernel_launcher.py:94: RuntimeWarning: invalid value encountered in double_scalars\n"
     ]
    },
    {
     "name": "stdout",
     "output_type": "stream",
     "text": [
      "peaks identified in the kde fit of data:  [[2.75729775]]\n",
      "means of the gaussians the GMM optimized:  [2.7596092954792666]\n",
      "counts in each gaussian:  [15847]\n",
      "raw fractions of data in each gaussian:  [1.]\n",
      "means of gaussians that contain fraction of data above thresh (0.01):  [2.7596092954792666]\n",
      "fraction of data in above-thresh gaussians:  [1.0]\n"
     ]
    },
    {
     "name": "stderr",
     "output_type": "stream",
     "text": [
      "C:\\Users\\geeze\\Anaconda3\\lib\\site-packages\\scipy\\stats\\stats.py:1713: FutureWarning: Using a non-tuple sequence for multidimensional indexing is deprecated; use `arr[tuple(seq)]` instead of `arr[seq]`. In the future this will be interpreted as an array index, `arr[np.array(seq)]`, which will result either in an error or a different result.\n",
      "  return np.add.reduce(sorted[indexer] * weights, axis=axis) / sumval\n",
      "C:\\Users\\geeze\\Anaconda3\\lib\\site-packages\\ipykernel_launcher.py:94: RuntimeWarning: invalid value encountered in double_scalars\n"
     ]
    },
    {
     "name": "stdout",
     "output_type": "stream",
     "text": [
      "peaks identified in the kde fit of data:  [[2.80733945]]\n",
      "means of the gaussians the GMM optimized:  [2.8434798134030412]\n",
      "counts in each gaussian:  [11280]\n",
      "raw fractions of data in each gaussian:  [1.]\n",
      "means of gaussians that contain fraction of data above thresh (0.01):  [2.8434798134030412]\n",
      "fraction of data in above-thresh gaussians:  [1.0]\n"
     ]
    },
    {
     "name": "stderr",
     "output_type": "stream",
     "text": [
      "C:\\Users\\geeze\\Anaconda3\\lib\\site-packages\\scipy\\stats\\stats.py:1713: FutureWarning: Using a non-tuple sequence for multidimensional indexing is deprecated; use `arr[tuple(seq)]` instead of `arr[seq]`. In the future this will be interpreted as an array index, `arr[np.array(seq)]`, which will result either in an error or a different result.\n",
      "  return np.add.reduce(sorted[indexer] * weights, axis=axis) / sumval\n",
      "C:\\Users\\geeze\\Anaconda3\\lib\\site-packages\\ipykernel_launcher.py:94: RuntimeWarning: invalid value encountered in double_scalars\n"
     ]
    },
    {
     "name": "stdout",
     "output_type": "stream",
     "text": [
      "peaks identified in the kde fit of data:  [[2.7823186]]\n",
      "means of the gaussians the GMM optimized:  [2.8189620928251222]\n",
      "counts in each gaussian:  [15397]\n",
      "raw fractions of data in each gaussian:  [1.]\n",
      "means of gaussians that contain fraction of data above thresh (0.01):  [2.8189620928251222]\n",
      "fraction of data in above-thresh gaussians:  [1.0]\n"
     ]
    },
    {
     "name": "stderr",
     "output_type": "stream",
     "text": [
      "C:\\Users\\geeze\\Anaconda3\\lib\\site-packages\\scipy\\stats\\stats.py:1713: FutureWarning: Using a non-tuple sequence for multidimensional indexing is deprecated; use `arr[tuple(seq)]` instead of `arr[seq]`. In the future this will be interpreted as an array index, `arr[np.array(seq)]`, which will result either in an error or a different result.\n",
      "  return np.add.reduce(sorted[indexer] * weights, axis=axis) / sumval\n"
     ]
    },
    {
     "name": "stdout",
     "output_type": "stream",
     "text": [
      "peaks identified in the kde fit of data:  [[2.07673061]\n",
      " [4.1234362 ]]\n",
      "means of the gaussians the GMM optimized:  [1.9891554897448973, 3.9761754687741773]\n",
      "counts in each gaussian:  [22448, 22179]\n",
      "raw fractions of data in each gaussian:  [0.50301387 0.49698613]\n",
      "means of gaussians that contain fraction of data above thresh (0.01):  [1.9891554897448973, 3.9761754687741773]\n",
      "fraction of data in above-thresh gaussians:  [0.5030138705268111, 0.4969861294731889]\n"
     ]
    },
    {
     "name": "stderr",
     "output_type": "stream",
     "text": [
      "C:\\Users\\geeze\\Anaconda3\\lib\\site-packages\\scipy\\stats\\stats.py:1713: FutureWarning: Using a non-tuple sequence for multidimensional indexing is deprecated; use `arr[tuple(seq)]` instead of `arr[seq]`. In the future this will be interpreted as an array index, `arr[np.array(seq)]`, which will result either in an error or a different result.\n",
      "  return np.add.reduce(sorted[indexer] * weights, axis=axis) / sumval\n"
     ]
    },
    {
     "name": "stdout",
     "output_type": "stream",
     "text": [
      "peaks identified in the kde fit of data:  [[2.05671393]\n",
      " [4.12844037]]\n",
      "means of the gaussians the GMM optimized:  [1.9669579726926059, 4.093081670675345]\n",
      "counts in each gaussian:  [56301, 72888]\n",
      "raw fractions of data in each gaussian:  [0.43580336 0.56419664]\n",
      "means of gaussians that contain fraction of data above thresh (0.01):  [1.9669579726926059, 4.093081670675345]\n",
      "fraction of data in above-thresh gaussians:  [0.4358033578710262, 0.5641966421289738]\n"
     ]
    },
    {
     "name": "stderr",
     "output_type": "stream",
     "text": [
      "C:\\Users\\geeze\\Anaconda3\\lib\\site-packages\\scipy\\stats\\stats.py:1713: FutureWarning: Using a non-tuple sequence for multidimensional indexing is deprecated; use `arr[tuple(seq)]` instead of `arr[seq]`. In the future this will be interpreted as an array index, `arr[np.array(seq)]`, which will result either in an error or a different result.\n",
      "  return np.add.reduce(sorted[indexer] * weights, axis=axis) / sumval\n",
      "C:\\Users\\geeze\\Anaconda3\\lib\\site-packages\\ipykernel_launcher.py:94: RuntimeWarning: invalid value encountered in double_scalars\n"
     ]
    },
    {
     "name": "stdout",
     "output_type": "stream",
     "text": [
      "peaks identified in the kde fit of data:  [[2.82235196]]\n",
      "means of the gaussians the GMM optimized:  [2.599383136078015]\n",
      "counts in each gaussian:  [3057]\n",
      "raw fractions of data in each gaussian:  [1.]\n",
      "means of gaussians that contain fraction of data above thresh (0.01):  [2.599383136078015]\n",
      "fraction of data in above-thresh gaussians:  [1.0]\n"
     ]
    },
    {
     "name": "stderr",
     "output_type": "stream",
     "text": [
      "C:\\Users\\geeze\\Anaconda3\\lib\\site-packages\\scipy\\stats\\stats.py:1713: FutureWarning: Using a non-tuple sequence for multidimensional indexing is deprecated; use `arr[tuple(seq)]` instead of `arr[seq]`. In the future this will be interpreted as an array index, `arr[np.array(seq)]`, which will result either in an error or a different result.\n",
      "  return np.add.reduce(sorted[indexer] * weights, axis=axis) / sumval\n",
      "C:\\Users\\geeze\\Anaconda3\\lib\\site-packages\\ipykernel_launcher.py:94: RuntimeWarning: invalid value encountered in double_scalars\n"
     ]
    },
    {
     "name": "stdout",
     "output_type": "stream",
     "text": [
      "peaks identified in the kde fit of data:  [[2.19683069]]\n",
      "means of the gaussians the GMM optimized:  [2.484426363858926]\n",
      "counts in each gaussian:  [29877]\n",
      "raw fractions of data in each gaussian:  [1.]\n",
      "means of gaussians that contain fraction of data above thresh (0.01):  [2.484426363858926]\n",
      "fraction of data in above-thresh gaussians:  [1.0]\n"
     ]
    },
    {
     "name": "stderr",
     "output_type": "stream",
     "text": [
      "C:\\Users\\geeze\\Anaconda3\\lib\\site-packages\\scipy\\stats\\stats.py:1713: FutureWarning: Using a non-tuple sequence for multidimensional indexing is deprecated; use `arr[tuple(seq)]` instead of `arr[seq]`. In the future this will be interpreted as an array index, `arr[np.array(seq)]`, which will result either in an error or a different result.\n",
      "  return np.add.reduce(sorted[indexer] * weights, axis=axis) / sumval\n",
      "C:\\Users\\geeze\\Anaconda3\\lib\\site-packages\\ipykernel_launcher.py:94: RuntimeWarning: invalid value encountered in double_scalars\n"
     ]
    },
    {
     "name": "stdout",
     "output_type": "stream",
     "text": [
      "peaks identified in the kde fit of data:  [[2.87739783]]\n",
      "means of the gaussians the GMM optimized:  [2.6346332769523673]\n",
      "counts in each gaussian:  [12950]\n",
      "raw fractions of data in each gaussian:  [1.]\n",
      "means of gaussians that contain fraction of data above thresh (0.01):  [2.6346332769523673]\n",
      "fraction of data in above-thresh gaussians:  [1.0]\n"
     ]
    },
    {
     "name": "stderr",
     "output_type": "stream",
     "text": [
      "C:\\Users\\geeze\\Anaconda3\\lib\\site-packages\\scipy\\stats\\stats.py:1713: FutureWarning: Using a non-tuple sequence for multidimensional indexing is deprecated; use `arr[tuple(seq)]` instead of `arr[seq]`. In the future this will be interpreted as an array index, `arr[np.array(seq)]`, which will result either in an error or a different result.\n",
      "  return np.add.reduce(sorted[indexer] * weights, axis=axis) / sumval\n",
      "C:\\Users\\geeze\\Anaconda3\\lib\\site-packages\\ipykernel_launcher.py:94: RuntimeWarning: invalid value encountered in double_scalars\n"
     ]
    },
    {
     "name": "stdout",
     "output_type": "stream",
     "text": [
      "peaks identified in the kde fit of data:  [[2.2118432]]\n",
      "means of the gaussians the GMM optimized:  [2.4849787819324516]\n",
      "counts in each gaussian:  [15992]\n",
      "raw fractions of data in each gaussian:  [1.]\n",
      "means of gaussians that contain fraction of data above thresh (0.01):  [2.4849787819324516]\n",
      "fraction of data in above-thresh gaussians:  [1.0]\n"
     ]
    },
    {
     "name": "stderr",
     "output_type": "stream",
     "text": [
      "C:\\Users\\geeze\\Anaconda3\\lib\\site-packages\\scipy\\stats\\stats.py:1713: FutureWarning: Using a non-tuple sequence for multidimensional indexing is deprecated; use `arr[tuple(seq)]` instead of `arr[seq]`. In the future this will be interpreted as an array index, `arr[np.array(seq)]`, which will result either in an error or a different result.\n",
      "  return np.add.reduce(sorted[indexer] * weights, axis=axis) / sumval\n"
     ]
    },
    {
     "name": "stdout",
     "output_type": "stream",
     "text": [
      "peaks identified in the kde fit of data:  [[2.22685571]\n",
      " [5.33944954]]\n",
      "means of the gaussians the GMM optimized:  [2.1439500440360795, 5.337236406061013]\n",
      "counts in each gaussian:  [47970, 1]\n",
      "raw fractions of data in each gaussian:  [9.99979154e-01 2.08459277e-05]\n",
      "means of gaussians that contain fraction of data above thresh (0.01):  [2.1439500440360795]\n",
      "fraction of data in above-thresh gaussians:  [0.999979154072252]\n"
     ]
    },
    {
     "name": "stderr",
     "output_type": "stream",
     "text": [
      "C:\\Users\\geeze\\Anaconda3\\lib\\site-packages\\ipykernel_launcher.py:94: RuntimeWarning: invalid value encountered in double_scalars\n",
      "C:\\Users\\geeze\\Anaconda3\\lib\\site-packages\\scipy\\stats\\stats.py:1713: FutureWarning: Using a non-tuple sequence for multidimensional indexing is deprecated; use `arr[tuple(seq)]` instead of `arr[seq]`. In the future this will be interpreted as an array index, `arr[np.array(seq)]`, which will result either in an error or a different result.\n",
      "  return np.add.reduce(sorted[indexer] * weights, axis=axis) / sumval\n",
      "C:\\Users\\geeze\\Anaconda3\\lib\\site-packages\\ipykernel_launcher.py:94: RuntimeWarning: invalid value encountered in double_scalars\n"
     ]
    },
    {
     "name": "stdout",
     "output_type": "stream",
     "text": [
      "peaks identified in the kde fit of data:  [[2.23185988]\n",
      " [4.83903253]]\n",
      "means of the gaussians the GMM optimized:  [2.150638087250772, 4.837976100237882]\n",
      "counts in each gaussian:  [23698, 1]\n",
      "raw fractions of data in each gaussian:  [9.99957804e-01 4.21958732e-05]\n",
      "means of gaussians that contain fraction of data above thresh (0.01):  [2.150638087250772]\n",
      "fraction of data in above-thresh gaussians:  [0.9999578041267564]\n"
     ]
    },
    {
     "name": "stderr",
     "output_type": "stream",
     "text": [
      "C:\\Users\\geeze\\Anaconda3\\lib\\site-packages\\scipy\\stats\\stats.py:1713: FutureWarning: Using a non-tuple sequence for multidimensional indexing is deprecated; use `arr[tuple(seq)]` instead of `arr[seq]`. In the future this will be interpreted as an array index, `arr[np.array(seq)]`, which will result either in an error or a different result.\n",
      "  return np.add.reduce(sorted[indexer] * weights, axis=axis) / sumval\n",
      "C:\\Users\\geeze\\Anaconda3\\lib\\site-packages\\ipykernel_launcher.py:94: RuntimeWarning: invalid value encountered in double_scalars\n"
     ]
    },
    {
     "name": "stdout",
     "output_type": "stream",
     "text": [
      "peaks identified in the kde fit of data:  [[2.79733111]]\n",
      "means of the gaussians the GMM optimized:  [2.7918940452765213]\n",
      "counts in each gaussian:  [11098]\n",
      "raw fractions of data in each gaussian:  [1.]\n",
      "means of gaussians that contain fraction of data above thresh (0.01):  [2.7918940452765213]\n",
      "fraction of data in above-thresh gaussians:  [1.0]\n"
     ]
    },
    {
     "name": "stderr",
     "output_type": "stream",
     "text": [
      "C:\\Users\\geeze\\Anaconda3\\lib\\site-packages\\scipy\\stats\\stats.py:1713: FutureWarning: Using a non-tuple sequence for multidimensional indexing is deprecated; use `arr[tuple(seq)]` instead of `arr[seq]`. In the future this will be interpreted as an array index, `arr[np.array(seq)]`, which will result either in an error or a different result.\n",
      "  return np.add.reduce(sorted[indexer] * weights, axis=axis) / sumval\n",
      "C:\\Users\\geeze\\Anaconda3\\lib\\site-packages\\ipykernel_launcher.py:94: RuntimeWarning: invalid value encountered in double_scalars\n"
     ]
    },
    {
     "name": "stdout",
     "output_type": "stream",
     "text": [
      "peaks identified in the kde fit of data:  [[2.81734779]]\n",
      "means of the gaussians the GMM optimized:  [2.7752082248627215]\n",
      "counts in each gaussian:  [5796]\n",
      "raw fractions of data in each gaussian:  [1.]\n",
      "means of gaussians that contain fraction of data above thresh (0.01):  [2.7752082248627215]\n",
      "fraction of data in above-thresh gaussians:  [1.0]\n"
     ]
    },
    {
     "name": "stderr",
     "output_type": "stream",
     "text": [
      "C:\\Users\\geeze\\Anaconda3\\lib\\site-packages\\scipy\\stats\\stats.py:1713: FutureWarning: Using a non-tuple sequence for multidimensional indexing is deprecated; use `arr[tuple(seq)]` instead of `arr[seq]`. In the future this will be interpreted as an array index, `arr[np.array(seq)]`, which will result either in an error or a different result.\n",
      "  return np.add.reduce(sorted[indexer] * weights, axis=axis) / sumval\n",
      "C:\\Users\\geeze\\Anaconda3\\lib\\site-packages\\ipykernel_launcher.py:94: RuntimeWarning: invalid value encountered in double_scalars\n"
     ]
    },
    {
     "name": "stdout",
     "output_type": "stream",
     "text": [
      "peaks identified in the kde fit of data:  [[2.882402]]\n",
      "means of the gaussians the GMM optimized:  [2.8848249872236766]\n",
      "counts in each gaussian:  [4447]\n",
      "raw fractions of data in each gaussian:  [1.]\n",
      "means of gaussians that contain fraction of data above thresh (0.01):  [2.8848249872236766]\n",
      "fraction of data in above-thresh gaussians:  [1.0]\n"
     ]
    },
    {
     "name": "stderr",
     "output_type": "stream",
     "text": [
      "C:\\Users\\geeze\\Anaconda3\\lib\\site-packages\\scipy\\stats\\stats.py:1713: FutureWarning: Using a non-tuple sequence for multidimensional indexing is deprecated; use `arr[tuple(seq)]` instead of `arr[seq]`. In the future this will be interpreted as an array index, `arr[np.array(seq)]`, which will result either in an error or a different result.\n",
      "  return np.add.reduce(sorted[indexer] * weights, axis=axis) / sumval\n",
      "C:\\Users\\geeze\\Anaconda3\\lib\\site-packages\\ipykernel_launcher.py:94: RuntimeWarning: invalid value encountered in double_scalars\n"
     ]
    },
    {
     "name": "stdout",
     "output_type": "stream",
     "text": [
      "peaks identified in the kde fit of data:  [[2.85237698]]\n",
      "means of the gaussians the GMM optimized:  [2.909632447415046]\n",
      "counts in each gaussian:  [7335]\n",
      "raw fractions of data in each gaussian:  [1.]\n",
      "means of gaussians that contain fraction of data above thresh (0.01):  [2.909632447415046]\n",
      "fraction of data in above-thresh gaussians:  [1.0]\n"
     ]
    },
    {
     "name": "stderr",
     "output_type": "stream",
     "text": [
      "C:\\Users\\geeze\\Anaconda3\\lib\\site-packages\\scipy\\stats\\stats.py:1713: FutureWarning: Using a non-tuple sequence for multidimensional indexing is deprecated; use `arr[tuple(seq)]` instead of `arr[seq]`. In the future this will be interpreted as an array index, `arr[np.array(seq)]`, which will result either in an error or a different result.\n",
      "  return np.add.reduce(sorted[indexer] * weights, axis=axis) / sumval\n"
     ]
    },
    {
     "name": "stdout",
     "output_type": "stream",
     "text": [
      "peaks identified in the kde fit of data:  [[1.99666389]\n",
      " [4.10842369]]\n",
      "means of the gaussians the GMM optimized:  [1.920772748637801, 3.6707557189954123]\n",
      "counts in each gaussian:  [174, 37]\n",
      "raw fractions of data in each gaussian:  [0.82464455 0.17535545]\n",
      "means of gaussians that contain fraction of data above thresh (0.01):  [1.920772748637801, 3.6707557189954123]\n",
      "fraction of data in above-thresh gaussians:  [0.8246445497630331, 0.17535545023696683]\n"
     ]
    },
    {
     "name": "stderr",
     "output_type": "stream",
     "text": [
      "C:\\Users\\geeze\\Anaconda3\\lib\\site-packages\\scipy\\stats\\stats.py:1713: FutureWarning: Using a non-tuple sequence for multidimensional indexing is deprecated; use `arr[tuple(seq)]` instead of `arr[seq]`. In the future this will be interpreted as an array index, `arr[np.array(seq)]`, which will result either in an error or a different result.\n",
      "  return np.add.reduce(sorted[indexer] * weights, axis=axis) / sumval\n"
     ]
    },
    {
     "name": "stdout",
     "output_type": "stream",
     "text": [
      "peaks identified in the kde fit of data:  [[0.35529608]\n",
      " [2.02168474]\n",
      " [4.11342786]]\n",
      "means of the gaussians the GMM optimized:  [0.5092054543093593, 1.9705030849345841, 3.780222046918343]\n",
      "counts in each gaussian:  [7, 186, 34]\n",
      "raw fractions of data in each gaussian:  [0.030837   0.81938326 0.14977974]\n",
      "means of gaussians that contain fraction of data above thresh (0.01):  [0.5092054543093593, 1.9705030849345841, 3.780222046918343]\n",
      "fraction of data in above-thresh gaussians:  [0.030837004405286344, 0.8193832599118943, 0.14977973568281938]\n"
     ]
    },
    {
     "name": "stderr",
     "output_type": "stream",
     "text": [
      "C:\\Users\\geeze\\Anaconda3\\lib\\site-packages\\scipy\\stats\\stats.py:1713: FutureWarning: Using a non-tuple sequence for multidimensional indexing is deprecated; use `arr[tuple(seq)]` instead of `arr[seq]`. In the future this will be interpreted as an array index, `arr[np.array(seq)]`, which will result either in an error or a different result.\n",
      "  return np.add.reduce(sorted[indexer] * weights, axis=axis) / sumval\n",
      "C:\\Users\\geeze\\Anaconda3\\lib\\site-packages\\ipykernel_launcher.py:94: RuntimeWarning: invalid value encountered in double_scalars\n"
     ]
    },
    {
     "name": "stdout",
     "output_type": "stream",
     "text": [
      "peaks identified in the kde fit of data:  [[2.89741451]]\n",
      "means of the gaussians the GMM optimized:  [2.5856615813767037]\n",
      "counts in each gaussian:  [3298]\n",
      "raw fractions of data in each gaussian:  [1.]\n",
      "means of gaussians that contain fraction of data above thresh (0.01):  [2.5856615813767037]\n",
      "fraction of data in above-thresh gaussians:  [1.0]\n"
     ]
    },
    {
     "name": "stderr",
     "output_type": "stream",
     "text": [
      "C:\\Users\\geeze\\Anaconda3\\lib\\site-packages\\scipy\\stats\\stats.py:1713: FutureWarning: Using a non-tuple sequence for multidimensional indexing is deprecated; use `arr[tuple(seq)]` instead of `arr[seq]`. In the future this will be interpreted as an array index, `arr[np.array(seq)]`, which will result either in an error or a different result.\n",
      "  return np.add.reduce(sorted[indexer] * weights, axis=axis) / sumval\n"
     ]
    },
    {
     "name": "stdout",
     "output_type": "stream",
     "text": [
      "peaks identified in the kde fit of data:  [[2.17681401]\n",
      " [3.17264387]]\n",
      "means of the gaussians the GMM optimized:  [2.163717844037311, 3.214191285832004]\n",
      "counts in each gaussian:  [10277, 4148]\n",
      "raw fractions of data in each gaussian:  [0.71244367 0.28755633]\n",
      "means of gaussians that contain fraction of data above thresh (0.01):  [2.163717844037311, 3.214191285832004]\n",
      "fraction of data in above-thresh gaussians:  [0.7124436741767765, 0.28755632582322355]\n"
     ]
    },
    {
     "name": "stderr",
     "output_type": "stream",
     "text": [
      "C:\\Users\\geeze\\Anaconda3\\lib\\site-packages\\scipy\\stats\\stats.py:1713: FutureWarning: Using a non-tuple sequence for multidimensional indexing is deprecated; use `arr[tuple(seq)]` instead of `arr[seq]`. In the future this will be interpreted as an array index, `arr[np.array(seq)]`, which will result either in an error or a different result.\n",
      "  return np.add.reduce(sorted[indexer] * weights, axis=axis) / sumval\n",
      "C:\\Users\\geeze\\Anaconda3\\lib\\site-packages\\ipykernel_launcher.py:94: RuntimeWarning: invalid value encountered in double_scalars\n"
     ]
    },
    {
     "name": "stdout",
     "output_type": "stream",
     "text": [
      "peaks identified in the kde fit of data:  [[2.9324437]]\n",
      "means of the gaussians the GMM optimized:  [2.674886579193932]\n",
      "counts in each gaussian:  [22399]\n",
      "raw fractions of data in each gaussian:  [1.]\n",
      "means of gaussians that contain fraction of data above thresh (0.01):  [2.674886579193932]\n",
      "fraction of data in above-thresh gaussians:  [1.0]\n"
     ]
    },
    {
     "name": "stderr",
     "output_type": "stream",
     "text": [
      "C:\\Users\\geeze\\Anaconda3\\lib\\site-packages\\scipy\\stats\\stats.py:1713: FutureWarning: Using a non-tuple sequence for multidimensional indexing is deprecated; use `arr[tuple(seq)]` instead of `arr[seq]`. In the future this will be interpreted as an array index, `arr[np.array(seq)]`, which will result either in an error or a different result.\n",
      "  return np.add.reduce(sorted[indexer] * weights, axis=axis) / sumval\n",
      "C:\\Users\\geeze\\Anaconda3\\lib\\site-packages\\ipykernel_launcher.py:94: RuntimeWarning: invalid value encountered in double_scalars\n"
     ]
    },
    {
     "name": "stdout",
     "output_type": "stream",
     "text": [
      "peaks identified in the kde fit of data:  [[2.18682235]]\n",
      "means of the gaussians the GMM optimized:  [2.5613345196265143]\n",
      "counts in each gaussian:  [13451]\n",
      "raw fractions of data in each gaussian:  [1.]\n",
      "means of gaussians that contain fraction of data above thresh (0.01):  [2.5613345196265143]\n",
      "fraction of data in above-thresh gaussians:  [1.0]\n"
     ]
    },
    {
     "name": "stderr",
     "output_type": "stream",
     "text": [
      "C:\\Users\\geeze\\Anaconda3\\lib\\site-packages\\scipy\\stats\\stats.py:1713: FutureWarning: Using a non-tuple sequence for multidimensional indexing is deprecated; use `arr[tuple(seq)]` instead of `arr[seq]`. In the future this will be interpreted as an array index, `arr[np.array(seq)]`, which will result either in an error or a different result.\n",
      "  return np.add.reduce(sorted[indexer] * weights, axis=axis) / sumval\n",
      "C:\\Users\\geeze\\Anaconda3\\lib\\site-packages\\ipykernel_launcher.py:94: RuntimeWarning: invalid value encountered in double_scalars\n"
     ]
    },
    {
     "name": "stdout",
     "output_type": "stream",
     "text": [
      "peaks identified in the kde fit of data:  [[2.24687239]]\n",
      "means of the gaussians the GMM optimized:  [2.1814221688161077]\n",
      "counts in each gaussian:  [17425]\n",
      "raw fractions of data in each gaussian:  [1.]\n",
      "means of gaussians that contain fraction of data above thresh (0.01):  [2.1814221688161077]\n",
      "fraction of data in above-thresh gaussians:  [1.0]\n"
     ]
    },
    {
     "name": "stderr",
     "output_type": "stream",
     "text": [
      "C:\\Users\\geeze\\Anaconda3\\lib\\site-packages\\scipy\\stats\\stats.py:1713: FutureWarning: Using a non-tuple sequence for multidimensional indexing is deprecated; use `arr[tuple(seq)]` instead of `arr[seq]`. In the future this will be interpreted as an array index, `arr[np.array(seq)]`, which will result either in an error or a different result.\n",
      "  return np.add.reduce(sorted[indexer] * weights, axis=axis) / sumval\n",
      "C:\\Users\\geeze\\Anaconda3\\lib\\site-packages\\ipykernel_launcher.py:94: RuntimeWarning: invalid value encountered in double_scalars\n"
     ]
    },
    {
     "name": "stdout",
     "output_type": "stream",
     "text": [
      "peaks identified in the kde fit of data:  [[2.24186822]]\n",
      "means of the gaussians the GMM optimized:  [2.173061736007165]\n",
      "counts in each gaussian:  [20915]\n",
      "raw fractions of data in each gaussian:  [1.]\n",
      "means of gaussians that contain fraction of data above thresh (0.01):  [2.173061736007165]\n",
      "fraction of data in above-thresh gaussians:  [1.0]\n"
     ]
    },
    {
     "name": "stderr",
     "output_type": "stream",
     "text": [
      "C:\\Users\\geeze\\Anaconda3\\lib\\site-packages\\scipy\\stats\\stats.py:1713: FutureWarning: Using a non-tuple sequence for multidimensional indexing is deprecated; use `arr[tuple(seq)]` instead of `arr[seq]`. In the future this will be interpreted as an array index, `arr[np.array(seq)]`, which will result either in an error or a different result.\n",
      "  return np.add.reduce(sorted[indexer] * weights, axis=axis) / sumval\n",
      "C:\\Users\\geeze\\Anaconda3\\lib\\site-packages\\ipykernel_launcher.py:94: RuntimeWarning: invalid value encountered in double_scalars\n"
     ]
    },
    {
     "name": "stdout",
     "output_type": "stream",
     "text": [
      "peaks identified in the kde fit of data:  [[2.78732277]]\n",
      "means of the gaussians the GMM optimized:  [2.7886293101205015]\n",
      "counts in each gaussian:  [15351]\n",
      "raw fractions of data in each gaussian:  [1.]\n",
      "means of gaussians that contain fraction of data above thresh (0.01):  [2.7886293101205015]\n",
      "fraction of data in above-thresh gaussians:  [1.0]\n"
     ]
    },
    {
     "name": "stderr",
     "output_type": "stream",
     "text": [
      "C:\\Users\\geeze\\Anaconda3\\lib\\site-packages\\scipy\\stats\\stats.py:1713: FutureWarning: Using a non-tuple sequence for multidimensional indexing is deprecated; use `arr[tuple(seq)]` instead of `arr[seq]`. In the future this will be interpreted as an array index, `arr[np.array(seq)]`, which will result either in an error or a different result.\n",
      "  return np.add.reduce(sorted[indexer] * weights, axis=axis) / sumval\n",
      "C:\\Users\\geeze\\Anaconda3\\lib\\site-packages\\ipykernel_launcher.py:94: RuntimeWarning: invalid value encountered in double_scalars\n"
     ]
    },
    {
     "name": "stdout",
     "output_type": "stream",
     "text": [
      "peaks identified in the kde fit of data:  [[2.80733945]]\n",
      "means of the gaussians the GMM optimized:  [2.810573923335876]\n",
      "counts in each gaussian:  [11104]\n",
      "raw fractions of data in each gaussian:  [1.]\n",
      "means of gaussians that contain fraction of data above thresh (0.01):  [2.810573923335876]\n",
      "fraction of data in above-thresh gaussians:  [1.0]\n"
     ]
    },
    {
     "name": "stderr",
     "output_type": "stream",
     "text": [
      "C:\\Users\\geeze\\Anaconda3\\lib\\site-packages\\scipy\\stats\\stats.py:1713: FutureWarning: Using a non-tuple sequence for multidimensional indexing is deprecated; use `arr[tuple(seq)]` instead of `arr[seq]`. In the future this will be interpreted as an array index, `arr[np.array(seq)]`, which will result either in an error or a different result.\n",
      "  return np.add.reduce(sorted[indexer] * weights, axis=axis) / sumval\n"
     ]
    },
    {
     "name": "stdout",
     "output_type": "stream",
     "text": [
      "peaks identified in the kde fit of data:  [[2.82235196]\n",
      " [5.4295246 ]]\n",
      "means of the gaussians the GMM optimized:  [2.900327343778035, 1.5918803897096852]\n",
      "counts in each gaussian:  [9924, 273]\n",
      "raw fractions of data in each gaussian:  [0.97322742 0.02677258]\n",
      "means of gaussians that contain fraction of data above thresh (0.01):  [2.900327343778035, 1.5918803897096852]\n",
      "fraction of data in above-thresh gaussians:  [0.9732274198293616, 0.026772580170638424]\n"
     ]
    },
    {
     "name": "stderr",
     "output_type": "stream",
     "text": [
      "C:\\Users\\geeze\\Anaconda3\\lib\\site-packages\\scipy\\stats\\stats.py:1713: FutureWarning: Using a non-tuple sequence for multidimensional indexing is deprecated; use `arr[tuple(seq)]` instead of `arr[seq]`. In the future this will be interpreted as an array index, `arr[np.array(seq)]`, which will result either in an error or a different result.\n",
      "  return np.add.reduce(sorted[indexer] * weights, axis=axis) / sumval\n",
      "C:\\Users\\geeze\\Anaconda3\\lib\\site-packages\\ipykernel_launcher.py:94: RuntimeWarning: invalid value encountered in double_scalars\n"
     ]
    },
    {
     "name": "stdout",
     "output_type": "stream",
     "text": [
      "peaks identified in the kde fit of data:  [[2.8323603]]\n",
      "means of the gaussians the GMM optimized:  [2.9146184216460265]\n",
      "counts in each gaussian:  [11708]\n",
      "raw fractions of data in each gaussian:  [1.]\n",
      "means of gaussians that contain fraction of data above thresh (0.01):  [2.9146184216460265]\n",
      "fraction of data in above-thresh gaussians:  [1.0]\n"
     ]
    },
    {
     "name": "stderr",
     "output_type": "stream",
     "text": [
      "C:\\Users\\geeze\\Anaconda3\\lib\\site-packages\\scipy\\stats\\stats.py:1713: FutureWarning: Using a non-tuple sequence for multidimensional indexing is deprecated; use `arr[tuple(seq)]` instead of `arr[seq]`. In the future this will be interpreted as an array index, `arr[np.array(seq)]`, which will result either in an error or a different result.\n",
      "  return np.add.reduce(sorted[indexer] * weights, axis=axis) / sumval\n"
     ]
    },
    {
     "name": "stdout",
     "output_type": "stream",
     "text": [
      "peaks identified in the kde fit of data:  [[2.00166806]\n",
      " [3.60800667]]\n",
      "means of the gaussians the GMM optimized:  [1.8983396580593292, 3.9178745816896283]\n",
      "counts in each gaussian:  [173, 21]\n",
      "raw fractions of data in each gaussian:  [0.89175258 0.10824742]\n",
      "means of gaussians that contain fraction of data above thresh (0.01):  [1.8983396580593292, 3.9178745816896283]\n",
      "fraction of data in above-thresh gaussians:  [0.8917525773195877, 0.10824742268041238]\n"
     ]
    },
    {
     "name": "stderr",
     "output_type": "stream",
     "text": [
      "C:\\Users\\geeze\\Anaconda3\\lib\\site-packages\\scipy\\stats\\stats.py:1713: FutureWarning: Using a non-tuple sequence for multidimensional indexing is deprecated; use `arr[tuple(seq)]` instead of `arr[seq]`. In the future this will be interpreted as an array index, `arr[np.array(seq)]`, which will result either in an error or a different result.\n",
      "  return np.add.reduce(sorted[indexer] * weights, axis=axis) / sumval\n"
     ]
    },
    {
     "name": "stdout",
     "output_type": "stream",
     "text": [
      "peaks identified in the kde fit of data:  [[2.08673895]\n",
      " [3.9883236 ]]\n",
      "means of the gaussians the GMM optimized:  [1.9431081717839294, 3.74899479527123]\n",
      "counts in each gaussian:  [170, 18]\n",
      "raw fractions of data in each gaussian:  [0.90425532 0.09574468]\n",
      "means of gaussians that contain fraction of data above thresh (0.01):  [1.9431081717839294, 3.74899479527123]\n",
      "fraction of data in above-thresh gaussians:  [0.9042553191489362, 0.09574468085106383]\n"
     ]
    },
    {
     "name": "stderr",
     "output_type": "stream",
     "text": [
      "C:\\Users\\geeze\\Anaconda3\\lib\\site-packages\\scipy\\stats\\stats.py:1713: FutureWarning: Using a non-tuple sequence for multidimensional indexing is deprecated; use `arr[tuple(seq)]` instead of `arr[seq]`. In the future this will be interpreted as an array index, `arr[np.array(seq)]`, which will result either in an error or a different result.\n",
      "  return np.add.reduce(sorted[indexer] * weights, axis=axis) / sumval\n",
      "C:\\Users\\geeze\\Anaconda3\\lib\\site-packages\\ipykernel_launcher.py:94: RuntimeWarning: invalid value encountered in double_scalars\n"
     ]
    },
    {
     "name": "stdout",
     "output_type": "stream",
     "text": [
      "peaks identified in the kde fit of data:  [[2.97748123]]\n",
      "means of the gaussians the GMM optimized:  [2.6240616203774834]\n",
      "counts in each gaussian:  [5253]\n",
      "raw fractions of data in each gaussian:  [1.]\n",
      "means of gaussians that contain fraction of data above thresh (0.01):  [2.6240616203774834]\n",
      "fraction of data in above-thresh gaussians:  [1.0]\n"
     ]
    },
    {
     "name": "stderr",
     "output_type": "stream",
     "text": [
      "C:\\Users\\geeze\\Anaconda3\\lib\\site-packages\\scipy\\stats\\stats.py:1713: FutureWarning: Using a non-tuple sequence for multidimensional indexing is deprecated; use `arr[tuple(seq)]` instead of `arr[seq]`. In the future this will be interpreted as an array index, `arr[np.array(seq)]`, which will result either in an error or a different result.\n",
      "  return np.add.reduce(sorted[indexer] * weights, axis=axis) / sumval\n"
     ]
    },
    {
     "name": "stdout",
     "output_type": "stream",
     "text": [
      "peaks identified in the kde fit of data:  [[2.21684737]\n",
      " [3.49791493]]\n",
      "means of the gaussians the GMM optimized:  [2.1940661211711556, 3.3759691952783286]\n",
      "counts in each gaussian:  [16359, 3023]\n",
      "raw fractions of data in each gaussian:  [0.84403054 0.15596946]\n",
      "means of gaussians that contain fraction of data above thresh (0.01):  [2.1940661211711556, 3.3759691952783286]\n",
      "fraction of data in above-thresh gaussians:  [0.844030543803529, 0.15596945619647096]\n"
     ]
    },
    {
     "name": "stderr",
     "output_type": "stream",
     "text": [
      "C:\\Users\\geeze\\Anaconda3\\lib\\site-packages\\scipy\\stats\\stats.py:1713: FutureWarning: Using a non-tuple sequence for multidimensional indexing is deprecated; use `arr[tuple(seq)]` instead of `arr[seq]`. In the future this will be interpreted as an array index, `arr[np.array(seq)]`, which will result either in an error or a different result.\n",
      "  return np.add.reduce(sorted[indexer] * weights, axis=axis) / sumval\n",
      "C:\\Users\\geeze\\Anaconda3\\lib\\site-packages\\ipykernel_launcher.py:94: RuntimeWarning: invalid value encountered in double_scalars\n"
     ]
    },
    {
     "name": "stdout",
     "output_type": "stream",
     "text": [
      "peaks identified in the kde fit of data:  [[3.04753962]]\n",
      "means of the gaussians the GMM optimized:  [2.6997768518124365]\n",
      "counts in each gaussian:  [6575]\n",
      "raw fractions of data in each gaussian:  [1.]\n",
      "means of gaussians that contain fraction of data above thresh (0.01):  [2.6997768518124365]\n",
      "fraction of data in above-thresh gaussians:  [1.0]\n"
     ]
    },
    {
     "name": "stderr",
     "output_type": "stream",
     "text": [
      "C:\\Users\\geeze\\Anaconda3\\lib\\site-packages\\scipy\\stats\\stats.py:1713: FutureWarning: Using a non-tuple sequence for multidimensional indexing is deprecated; use `arr[tuple(seq)]` instead of `arr[seq]`. In the future this will be interpreted as an array index, `arr[np.array(seq)]`, which will result either in an error or a different result.\n",
      "  return np.add.reduce(sorted[indexer] * weights, axis=axis) / sumval\n"
     ]
    },
    {
     "name": "stdout",
     "output_type": "stream",
     "text": [
      "peaks identified in the kde fit of data:  [[2.19683069]\n",
      " [3.49791493]]\n",
      "means of the gaussians the GMM optimized:  [2.1801574374265678, 3.3554468668591007]\n",
      "counts in each gaussian:  [8262, 1769]\n",
      "raw fractions of data in each gaussian:  [0.8236467 0.1763533]\n",
      "means of gaussians that contain fraction of data above thresh (0.01):  [2.1801574374265678, 3.3554468668591007]\n",
      "fraction of data in above-thresh gaussians:  [0.8236466952447413, 0.1763533047552587]\n"
     ]
    },
    {
     "name": "stderr",
     "output_type": "stream",
     "text": [
      "C:\\Users\\geeze\\Anaconda3\\lib\\site-packages\\scipy\\stats\\stats.py:1713: FutureWarning: Using a non-tuple sequence for multidimensional indexing is deprecated; use `arr[tuple(seq)]` instead of `arr[seq]`. In the future this will be interpreted as an array index, `arr[np.array(seq)]`, which will result either in an error or a different result.\n",
      "  return np.add.reduce(sorted[indexer] * weights, axis=axis) / sumval\n",
      "C:\\Users\\geeze\\Anaconda3\\lib\\site-packages\\ipykernel_launcher.py:94: RuntimeWarning: invalid value encountered in double_scalars\n"
     ]
    },
    {
     "name": "stdout",
     "output_type": "stream",
     "text": [
      "peaks identified in the kde fit of data:  [[2.24687239]]\n",
      "means of the gaussians the GMM optimized:  [2.176735582085221]\n",
      "counts in each gaussian:  [11646]\n",
      "raw fractions of data in each gaussian:  [1.]\n",
      "means of gaussians that contain fraction of data above thresh (0.01):  [2.176735582085221]\n",
      "fraction of data in above-thresh gaussians:  [1.0]\n"
     ]
    },
    {
     "name": "stderr",
     "output_type": "stream",
     "text": [
      "C:\\Users\\geeze\\Anaconda3\\lib\\site-packages\\scipy\\stats\\stats.py:1713: FutureWarning: Using a non-tuple sequence for multidimensional indexing is deprecated; use `arr[tuple(seq)]` instead of `arr[seq]`. In the future this will be interpreted as an array index, `arr[np.array(seq)]`, which will result either in an error or a different result.\n",
      "  return np.add.reduce(sorted[indexer] * weights, axis=axis) / sumval\n",
      "C:\\Users\\geeze\\Anaconda3\\lib\\site-packages\\ipykernel_launcher.py:94: RuntimeWarning: invalid value encountered in double_scalars\n"
     ]
    },
    {
     "name": "stdout",
     "output_type": "stream",
     "text": [
      "peaks identified in the kde fit of data:  [[2.2618849]]\n",
      "means of the gaussians the GMM optimized:  [2.199734853263026]\n",
      "counts in each gaussian:  [25117]\n",
      "raw fractions of data in each gaussian:  [1.]\n",
      "means of gaussians that contain fraction of data above thresh (0.01):  [2.199734853263026]\n",
      "fraction of data in above-thresh gaussians:  [1.0]\n"
     ]
    },
    {
     "name": "stderr",
     "output_type": "stream",
     "text": [
      "C:\\Users\\geeze\\Anaconda3\\lib\\site-packages\\scipy\\stats\\stats.py:1713: FutureWarning: Using a non-tuple sequence for multidimensional indexing is deprecated; use `arr[tuple(seq)]` instead of `arr[seq]`. In the future this will be interpreted as an array index, `arr[np.array(seq)]`, which will result either in an error or a different result.\n",
      "  return np.add.reduce(sorted[indexer] * weights, axis=axis) / sumval\n",
      "C:\\Users\\geeze\\Anaconda3\\lib\\site-packages\\ipykernel_launcher.py:94: RuntimeWarning: invalid value encountered in double_scalars\n"
     ]
    },
    {
     "name": "stdout",
     "output_type": "stream",
     "text": [
      "peaks identified in the kde fit of data:  [[2.75229358]]\n",
      "means of the gaussians the GMM optimized:  [2.7526924121784706]\n",
      "counts in each gaussian:  [8513]\n",
      "raw fractions of data in each gaussian:  [1.]\n",
      "means of gaussians that contain fraction of data above thresh (0.01):  [2.7526924121784706]\n",
      "fraction of data in above-thresh gaussians:  [1.0]\n"
     ]
    },
    {
     "name": "stderr",
     "output_type": "stream",
     "text": [
      "C:\\Users\\geeze\\Anaconda3\\lib\\site-packages\\scipy\\stats\\stats.py:1713: FutureWarning: Using a non-tuple sequence for multidimensional indexing is deprecated; use `arr[tuple(seq)]` instead of `arr[seq]`. In the future this will be interpreted as an array index, `arr[np.array(seq)]`, which will result either in an error or a different result.\n",
      "  return np.add.reduce(sorted[indexer] * weights, axis=axis) / sumval\n",
      "C:\\Users\\geeze\\Anaconda3\\lib\\site-packages\\ipykernel_launcher.py:94: RuntimeWarning: invalid value encountered in double_scalars\n"
     ]
    },
    {
     "name": "stdout",
     "output_type": "stream",
     "text": [
      "peaks identified in the kde fit of data:  [[2.72727273]]\n",
      "means of the gaussians the GMM optimized:  [2.851897766934982]\n",
      "counts in each gaussian:  [15534]\n",
      "raw fractions of data in each gaussian:  [1.]\n",
      "means of gaussians that contain fraction of data above thresh (0.01):  [2.851897766934982]\n",
      "fraction of data in above-thresh gaussians:  [1.0]\n"
     ]
    },
    {
     "name": "stderr",
     "output_type": "stream",
     "text": [
      "C:\\Users\\geeze\\Anaconda3\\lib\\site-packages\\scipy\\stats\\stats.py:1713: FutureWarning: Using a non-tuple sequence for multidimensional indexing is deprecated; use `arr[tuple(seq)]` instead of `arr[seq]`. In the future this will be interpreted as an array index, `arr[np.array(seq)]`, which will result either in an error or a different result.\n",
      "  return np.add.reduce(sorted[indexer] * weights, axis=axis) / sumval\n",
      "C:\\Users\\geeze\\Anaconda3\\lib\\site-packages\\ipykernel_launcher.py:94: RuntimeWarning: invalid value encountered in double_scalars\n"
     ]
    },
    {
     "name": "stdout",
     "output_type": "stream",
     "text": [
      "peaks identified in the kde fit of data:  [[2.80233528]]\n",
      "means of the gaussians the GMM optimized:  [3.0191602222533755]\n",
      "counts in each gaussian:  [16475]\n",
      "raw fractions of data in each gaussian:  [1.]\n",
      "means of gaussians that contain fraction of data above thresh (0.01):  [3.0191602222533755]\n",
      "fraction of data in above-thresh gaussians:  [1.0]\n"
     ]
    },
    {
     "name": "stderr",
     "output_type": "stream",
     "text": [
      "C:\\Users\\geeze\\Anaconda3\\lib\\site-packages\\scipy\\stats\\stats.py:1713: FutureWarning: Using a non-tuple sequence for multidimensional indexing is deprecated; use `arr[tuple(seq)]` instead of `arr[seq]`. In the future this will be interpreted as an array index, `arr[np.array(seq)]`, which will result either in an error or a different result.\n",
      "  return np.add.reduce(sorted[indexer] * weights, axis=axis) / sumval\n",
      "C:\\Users\\geeze\\Anaconda3\\lib\\site-packages\\ipykernel_launcher.py:94: RuntimeWarning: invalid value encountered in double_scalars\n"
     ]
    },
    {
     "name": "stdout",
     "output_type": "stream",
     "text": [
      "peaks identified in the kde fit of data:  [[3.36780651]]\n",
      "means of the gaussians the GMM optimized:  [3.019915327098238]\n",
      "counts in each gaussian:  [15170]\n",
      "raw fractions of data in each gaussian:  [1.]\n",
      "means of gaussians that contain fraction of data above thresh (0.01):  [3.019915327098238]\n",
      "fraction of data in above-thresh gaussians:  [1.0]\n"
     ]
    },
    {
     "name": "stderr",
     "output_type": "stream",
     "text": [
      "C:\\Users\\geeze\\Anaconda3\\lib\\site-packages\\scipy\\stats\\stats.py:1713: FutureWarning: Using a non-tuple sequence for multidimensional indexing is deprecated; use `arr[tuple(seq)]` instead of `arr[seq]`. In the future this will be interpreted as an array index, `arr[np.array(seq)]`, which will result either in an error or a different result.\n",
      "  return np.add.reduce(sorted[indexer] * weights, axis=axis) / sumval\n",
      "C:\\Users\\geeze\\Anaconda3\\lib\\site-packages\\ipykernel_launcher.py:94: RuntimeWarning: invalid value encountered in double_scalars\n"
     ]
    },
    {
     "name": "stdout",
     "output_type": "stream",
     "text": [
      "peaks identified in the kde fit of data:  [[3.24270225]]\n",
      "means of the gaussians the GMM optimized:  [3.1598929144100607]\n",
      "counts in each gaussian:  [7]\n",
      "raw fractions of data in each gaussian:  [1.]\n",
      "means of gaussians that contain fraction of data above thresh (0.01):  [3.1598929144100607]\n",
      "fraction of data in above-thresh gaussians:  [1.0]\n"
     ]
    },
    {
     "name": "stderr",
     "output_type": "stream",
     "text": [
      "C:\\Users\\geeze\\Anaconda3\\lib\\site-packages\\scipy\\stats\\stats.py:1713: FutureWarning: Using a non-tuple sequence for multidimensional indexing is deprecated; use `arr[tuple(seq)]` instead of `arr[seq]`. In the future this will be interpreted as an array index, `arr[np.array(seq)]`, which will result either in an error or a different result.\n",
      "  return np.add.reduce(sorted[indexer] * weights, axis=axis) / sumval\n"
     ]
    },
    {
     "name": "stdout",
     "output_type": "stream",
     "text": [
      "peaks identified in the kde fit of data:  [[2.06672227]\n",
      " [4.17848207]]\n",
      "means of the gaussians the GMM optimized:  [1.8841971184013329, 4.134485873348768]\n",
      "counts in each gaussian:  [168, 9]\n",
      "raw fractions of data in each gaussian:  [0.94915254 0.05084746]\n",
      "means of gaussians that contain fraction of data above thresh (0.01):  [1.8841971184013329, 4.134485873348768]\n",
      "fraction of data in above-thresh gaussians:  [0.9491525423728814, 0.05084745762711865]\n"
     ]
    },
    {
     "name": "stderr",
     "output_type": "stream",
     "text": [
      "C:\\Users\\geeze\\Anaconda3\\lib\\site-packages\\scipy\\stats\\stats.py:1713: FutureWarning: Using a non-tuple sequence for multidimensional indexing is deprecated; use `arr[tuple(seq)]` instead of `arr[seq]`. In the future this will be interpreted as an array index, `arr[np.array(seq)]`, which will result either in an error or a different result.\n",
      "  return np.add.reduce(sorted[indexer] * weights, axis=axis) / sumval\n"
     ]
    },
    {
     "name": "stdout",
     "output_type": "stream",
     "text": [
      "peaks identified in the kde fit of data:  [[2.15679733]\n",
      " [3.17764804]]\n",
      "means of the gaussians the GMM optimized:  [2.140680575992739, 3.1331551280459284]\n",
      "counts in each gaussian:  [3817, 3722]\n",
      "raw fractions of data in each gaussian:  [0.50630057 0.49369943]\n",
      "means of gaussians that contain fraction of data above thresh (0.01):  [2.140680575992739, 3.1331551280459284]\n",
      "fraction of data in above-thresh gaussians:  [0.5063005703674227, 0.4936994296325773]\n"
     ]
    },
    {
     "name": "stderr",
     "output_type": "stream",
     "text": [
      "C:\\Users\\geeze\\Anaconda3\\lib\\site-packages\\scipy\\stats\\stats.py:1713: FutureWarning: Using a non-tuple sequence for multidimensional indexing is deprecated; use `arr[tuple(seq)]` instead of `arr[seq]`. In the future this will be interpreted as an array index, `arr[np.array(seq)]`, which will result either in an error or a different result.\n",
      "  return np.add.reduce(sorted[indexer] * weights, axis=axis) / sumval\n"
     ]
    },
    {
     "name": "stdout",
     "output_type": "stream",
     "text": [
      "peaks identified in the kde fit of data:  [[2.2618849 ]\n",
      " [3.53294412]]\n",
      "means of the gaussians the GMM optimized:  [2.25492765293528, 3.437570279696865]\n",
      "counts in each gaussian:  [10176, 2881]\n",
      "raw fractions of data in each gaussian:  [0.77935207 0.22064793]\n",
      "means of gaussians that contain fraction of data above thresh (0.01):  [2.25492765293528, 3.437570279696865]\n",
      "fraction of data in above-thresh gaussians:  [0.7793520716856859, 0.22064792831431415]\n"
     ]
    },
    {
     "name": "stderr",
     "output_type": "stream",
     "text": [
      "C:\\Users\\geeze\\Anaconda3\\lib\\site-packages\\scipy\\stats\\stats.py:1713: FutureWarning: Using a non-tuple sequence for multidimensional indexing is deprecated; use `arr[tuple(seq)]` instead of `arr[seq]`. In the future this will be interpreted as an array index, `arr[np.array(seq)]`, which will result either in an error or a different result.\n",
      "  return np.add.reduce(sorted[indexer] * weights, axis=axis) / sumval\n"
     ]
    },
    {
     "name": "stdout",
     "output_type": "stream",
     "text": [
      "peaks identified in the kde fit of data:  [[2.18682235]\n",
      " [3.39783153]]\n",
      "means of the gaussians the GMM optimized:  [2.2106518338647785, 3.25309676409173]\n",
      "counts in each gaussian:  [19493, 14875]\n",
      "raw fractions of data in each gaussian:  [0.56718459 0.43281541]\n",
      "means of gaussians that contain fraction of data above thresh (0.01):  [2.2106518338647785, 3.25309676409173]\n",
      "fraction of data in above-thresh gaussians:  [0.5671845903165735, 0.43281540968342647]\n"
     ]
    },
    {
     "name": "stderr",
     "output_type": "stream",
     "text": [
      "C:\\Users\\geeze\\Anaconda3\\lib\\site-packages\\scipy\\stats\\stats.py:1713: FutureWarning: Using a non-tuple sequence for multidimensional indexing is deprecated; use `arr[tuple(seq)]` instead of `arr[seq]`. In the future this will be interpreted as an array index, `arr[np.array(seq)]`, which will result either in an error or a different result.\n",
      "  return np.add.reduce(sorted[indexer] * weights, axis=axis) / sumval\n"
     ]
    },
    {
     "name": "stdout",
     "output_type": "stream",
     "text": [
      "peaks identified in the kde fit of data:  [[2.23686405]\n",
      " [3.53794829]]\n",
      "means of the gaussians the GMM optimized:  [2.2107943076200853, 3.3873696165463296]\n",
      "counts in each gaussian:  [7522, 1592]\n",
      "raw fractions of data in each gaussian:  [0.82532368 0.17467632]\n",
      "means of gaussians that contain fraction of data above thresh (0.01):  [2.2107943076200853, 3.3873696165463296]\n",
      "fraction of data in above-thresh gaussians:  [0.8253236778582401, 0.17467632214175993]\n"
     ]
    },
    {
     "name": "stderr",
     "output_type": "stream",
     "text": [
      "C:\\Users\\geeze\\Anaconda3\\lib\\site-packages\\scipy\\stats\\stats.py:1713: FutureWarning: Using a non-tuple sequence for multidimensional indexing is deprecated; use `arr[tuple(seq)]` instead of `arr[seq]`. In the future this will be interpreted as an array index, `arr[np.array(seq)]`, which will result either in an error or a different result.\n",
      "  return np.add.reduce(sorted[indexer] * weights, axis=axis) / sumval\n"
     ]
    },
    {
     "name": "stdout",
     "output_type": "stream",
     "text": [
      "peaks identified in the kde fit of data:  [[2.27189324]\n",
      " [5.30942452]]\n",
      "means of the gaussians the GMM optimized:  [2.245176247007544, 1.1708917793072358]\n",
      "counts in each gaussian:  [12723, 420]\n",
      "raw fractions of data in each gaussian:  [0.96804383 0.03195617]\n",
      "means of gaussians that contain fraction of data above thresh (0.01):  [2.245176247007544, 1.1708917793072358]\n",
      "fraction of data in above-thresh gaussians:  [0.9680438256105912, 0.03195617438940881]\n"
     ]
    },
    {
     "name": "stderr",
     "output_type": "stream",
     "text": [
      "C:\\Users\\geeze\\Anaconda3\\lib\\site-packages\\scipy\\stats\\stats.py:1713: FutureWarning: Using a non-tuple sequence for multidimensional indexing is deprecated; use `arr[tuple(seq)]` instead of `arr[seq]`. In the future this will be interpreted as an array index, `arr[np.array(seq)]`, which will result either in an error or a different result.\n",
      "  return np.add.reduce(sorted[indexer] * weights, axis=axis) / sumval\n"
     ]
    },
    {
     "name": "stdout",
     "output_type": "stream",
     "text": [
      "peaks identified in the kde fit of data:  [[2.24186822]\n",
      " [4.77397832]]\n",
      "means of the gaussians the GMM optimized:  [2.2136428370979186, 1.2655944884962114]\n",
      "counts in each gaussian:  [4569, 154]\n",
      "raw fractions of data in each gaussian:  [0.96739361 0.03260639]\n",
      "means of gaussians that contain fraction of data above thresh (0.01):  [2.2136428370979186, 1.2655944884962114]\n",
      "fraction of data in above-thresh gaussians:  [0.9673936057590514, 0.03260639424094855]\n"
     ]
    },
    {
     "name": "stderr",
     "output_type": "stream",
     "text": [
      "C:\\Users\\geeze\\Anaconda3\\lib\\site-packages\\scipy\\stats\\stats.py:1713: FutureWarning: Using a non-tuple sequence for multidimensional indexing is deprecated; use `arr[tuple(seq)]` instead of `arr[seq]`. In the future this will be interpreted as an array index, `arr[np.array(seq)]`, which will result either in an error or a different result.\n",
      "  return np.add.reduce(sorted[indexer] * weights, axis=axis) / sumval\n",
      "C:\\Users\\geeze\\Anaconda3\\lib\\site-packages\\ipykernel_launcher.py:94: RuntimeWarning: invalid value encountered in double_scalars\n"
     ]
    },
    {
     "name": "stdout",
     "output_type": "stream",
     "text": [
      "peaks identified in the kde fit of data:  [[2.72226856]]\n",
      "means of the gaussians the GMM optimized:  [2.7779052144792367]\n",
      "counts in each gaussian:  [12357]\n",
      "raw fractions of data in each gaussian:  [1.]\n",
      "means of gaussians that contain fraction of data above thresh (0.01):  [2.7779052144792367]\n",
      "fraction of data in above-thresh gaussians:  [1.0]\n"
     ]
    },
    {
     "name": "stderr",
     "output_type": "stream",
     "text": [
      "C:\\Users\\geeze\\Anaconda3\\lib\\site-packages\\scipy\\stats\\stats.py:1713: FutureWarning: Using a non-tuple sequence for multidimensional indexing is deprecated; use `arr[tuple(seq)]` instead of `arr[seq]`. In the future this will be interpreted as an array index, `arr[np.array(seq)]`, which will result either in an error or a different result.\n",
      "  return np.add.reduce(sorted[indexer] * weights, axis=axis) / sumval\n",
      "C:\\Users\\geeze\\Anaconda3\\lib\\site-packages\\ipykernel_launcher.py:94: RuntimeWarning: invalid value encountered in double_scalars\n"
     ]
    },
    {
     "name": "stdout",
     "output_type": "stream",
     "text": [
      "peaks identified in the kde fit of data:  [[3.35279399]]\n",
      "means of the gaussians the GMM optimized:  [2.907745653380726]\n",
      "counts in each gaussian:  [8916]\n",
      "raw fractions of data in each gaussian:  [1.]\n",
      "means of gaussians that contain fraction of data above thresh (0.01):  [2.907745653380726]\n",
      "fraction of data in above-thresh gaussians:  [1.0]\n"
     ]
    },
    {
     "name": "stderr",
     "output_type": "stream",
     "text": [
      "C:\\Users\\geeze\\Anaconda3\\lib\\site-packages\\scipy\\stats\\stats.py:1713: FutureWarning: Using a non-tuple sequence for multidimensional indexing is deprecated; use `arr[tuple(seq)]` instead of `arr[seq]`. In the future this will be interpreted as an array index, `arr[np.array(seq)]`, which will result either in an error or a different result.\n",
      "  return np.add.reduce(sorted[indexer] * weights, axis=axis) / sumval\n",
      "C:\\Users\\geeze\\Anaconda3\\lib\\site-packages\\ipykernel_launcher.py:94: RuntimeWarning: invalid value encountered in double_scalars\n"
     ]
    },
    {
     "name": "stdout",
     "output_type": "stream",
     "text": [
      "peaks identified in the kde fit of data:  [[3.36280234]]\n",
      "means of the gaussians the GMM optimized:  [2.9909954818747044]\n",
      "counts in each gaussian:  [12346]\n",
      "raw fractions of data in each gaussian:  [1.]\n",
      "means of gaussians that contain fraction of data above thresh (0.01):  [2.9909954818747044]\n",
      "fraction of data in above-thresh gaussians:  [1.0]\n"
     ]
    },
    {
     "name": "stderr",
     "output_type": "stream",
     "text": [
      "C:\\Users\\geeze\\Anaconda3\\lib\\site-packages\\scipy\\stats\\stats.py:1713: FutureWarning: Using a non-tuple sequence for multidimensional indexing is deprecated; use `arr[tuple(seq)]` instead of `arr[seq]`. In the future this will be interpreted as an array index, `arr[np.array(seq)]`, which will result either in an error or a different result.\n",
      "  return np.add.reduce(sorted[indexer] * weights, axis=axis) / sumval\n",
      "C:\\Users\\geeze\\Anaconda3\\lib\\site-packages\\ipykernel_launcher.py:94: RuntimeWarning: invalid value encountered in double_scalars\n"
     ]
    },
    {
     "name": "stdout",
     "output_type": "stream",
     "text": [
      "peaks identified in the kde fit of data:  [[3.34778982]]\n",
      "means of the gaussians the GMM optimized:  [3.0246343359083787]\n",
      "counts in each gaussian:  [10075]\n",
      "raw fractions of data in each gaussian:  [1.]\n",
      "means of gaussians that contain fraction of data above thresh (0.01):  [3.0246343359083787]\n",
      "fraction of data in above-thresh gaussians:  [1.0]\n"
     ]
    },
    {
     "name": "stderr",
     "output_type": "stream",
     "text": [
      "C:\\Users\\geeze\\Anaconda3\\lib\\site-packages\\scipy\\stats\\stats.py:1713: FutureWarning: Using a non-tuple sequence for multidimensional indexing is deprecated; use `arr[tuple(seq)]` instead of `arr[seq]`. In the future this will be interpreted as an array index, `arr[np.array(seq)]`, which will result either in an error or a different result.\n",
      "  return np.add.reduce(sorted[indexer] * weights, axis=axis) / sumval\n"
     ]
    },
    {
     "name": "stdout",
     "output_type": "stream",
     "text": [
      "peaks identified in the kde fit of data:  [[2.04170142]\n",
      " [3.89824854]]\n",
      "means of the gaussians the GMM optimized:  [1.877306402924504, 3.7646019480092754]\n",
      "counts in each gaussian:  [178, 6]\n",
      "raw fractions of data in each gaussian:  [0.9673913 0.0326087]\n",
      "means of gaussians that contain fraction of data above thresh (0.01):  [1.877306402924504, 3.7646019480092754]\n",
      "fraction of data in above-thresh gaussians:  [0.967391304347826, 0.03260869565217391]\n",
      "peaks identified in the kde fit of data:  [[2.07172644]\n",
      " [3.94328607]]\n",
      "means of the gaussians the GMM optimized:  [1.9265822993642225, 3.8321278020858482]\n",
      "counts in each gaussian:  [145, 11]\n",
      "raw fractions of data in each gaussian:  [0.92948718 0.07051282]\n",
      "means of gaussians that contain fraction of data above thresh (0.01):  [1.9265822993642225, 3.8321278020858482]\n",
      "fraction of data in above-thresh gaussians:  [0.9294871794871795, 0.07051282051282051]\n"
     ]
    },
    {
     "name": "stderr",
     "output_type": "stream",
     "text": [
      "C:\\Users\\geeze\\Anaconda3\\lib\\site-packages\\scipy\\stats\\stats.py:1713: FutureWarning: Using a non-tuple sequence for multidimensional indexing is deprecated; use `arr[tuple(seq)]` instead of `arr[seq]`. In the future this will be interpreted as an array index, `arr[np.array(seq)]`, which will result either in an error or a different result.\n",
      "  return np.add.reduce(sorted[indexer] * weights, axis=axis) / sumval\n"
     ]
    }
   ],
   "source": [
    "all_analysis = []\n",
    "\n",
    "for g in gt:\n",
    "    add = run_GMM_frac_analysis(f, c, w, g)\n",
    "    \n",
    "    all_analysis.append(add)\n",
    "    \n",
    "analysis = pd.concat(all_analysis, axis='index')"
   ]
  },
  {
   "cell_type": "code",
   "execution_count": 41,
   "metadata": {
    "scrolled": true
   },
   "outputs": [
    {
     "data": {
      "text/html": [
       "<div>\n",
       "<style scoped>\n",
       "    .dataframe tbody tr th:only-of-type {\n",
       "        vertical-align: middle;\n",
       "    }\n",
       "\n",
       "    .dataframe tbody tr th {\n",
       "        vertical-align: top;\n",
       "    }\n",
       "\n",
       "    .dataframe thead th {\n",
       "        text-align: right;\n",
       "    }\n",
       "</style>\n",
       "<table border=\"1\" class=\"dataframe\">\n",
       "  <thead>\n",
       "    <tr style=\"text-align: right;\">\n",
       "      <th></th>\n",
       "      <th>mean ON</th>\n",
       "      <th>fraction ON</th>\n",
       "      <th>mean OFF</th>\n",
       "      <th>fraction OFF</th>\n",
       "      <th>well</th>\n",
       "      <th>gate</th>\n",
       "    </tr>\n",
       "  </thead>\n",
       "  <tbody>\n",
       "    <tr>\n",
       "      <th>0</th>\n",
       "      <td>2.491311</td>\n",
       "      <td>1.000000</td>\n",
       "      <td>NaN</td>\n",
       "      <td>0.000000</td>\n",
       "      <td>A1</td>\n",
       "      <td>mKate/APC-A_GMMgate</td>\n",
       "    </tr>\n",
       "    <tr>\n",
       "      <th>1</th>\n",
       "      <td>3.130415</td>\n",
       "      <td>0.330556</td>\n",
       "      <td>2.118793</td>\n",
       "      <td>0.669444</td>\n",
       "      <td>A2</td>\n",
       "      <td>mKate/APC-A_GMMgate</td>\n",
       "    </tr>\n",
       "    <tr>\n",
       "      <th>2</th>\n",
       "      <td>2.569426</td>\n",
       "      <td>1.000000</td>\n",
       "      <td>NaN</td>\n",
       "      <td>0.000000</td>\n",
       "      <td>A3</td>\n",
       "      <td>mKate/APC-A_GMMgate</td>\n",
       "    </tr>\n",
       "    <tr>\n",
       "      <th>3</th>\n",
       "      <td>2.353398</td>\n",
       "      <td>1.000000</td>\n",
       "      <td>NaN</td>\n",
       "      <td>0.000000</td>\n",
       "      <td>A4</td>\n",
       "      <td>mKate/APC-A_GMMgate</td>\n",
       "    </tr>\n",
       "    <tr>\n",
       "      <th>4</th>\n",
       "      <td>2.141832</td>\n",
       "      <td>0.924962</td>\n",
       "      <td>1.207607</td>\n",
       "      <td>0.075038</td>\n",
       "      <td>A5</td>\n",
       "      <td>mKate/APC-A_GMMgate</td>\n",
       "    </tr>\n",
       "    <tr>\n",
       "      <th>5</th>\n",
       "      <td>2.057833</td>\n",
       "      <td>1.000000</td>\n",
       "      <td>NaN</td>\n",
       "      <td>0.000000</td>\n",
       "      <td>A6</td>\n",
       "      <td>mKate/APC-A_GMMgate</td>\n",
       "    </tr>\n",
       "    <tr>\n",
       "      <th>6</th>\n",
       "      <td>2.784997</td>\n",
       "      <td>1.000000</td>\n",
       "      <td>NaN</td>\n",
       "      <td>0.000000</td>\n",
       "      <td>A7</td>\n",
       "      <td>mKate/APC-A_GMMgate</td>\n",
       "    </tr>\n",
       "    <tr>\n",
       "      <th>7</th>\n",
       "      <td>2.705298</td>\n",
       "      <td>1.000000</td>\n",
       "      <td>NaN</td>\n",
       "      <td>0.000000</td>\n",
       "      <td>A8</td>\n",
       "      <td>mKate/APC-A_GMMgate</td>\n",
       "    </tr>\n",
       "    <tr>\n",
       "      <th>8</th>\n",
       "      <td>2.771249</td>\n",
       "      <td>1.000000</td>\n",
       "      <td>NaN</td>\n",
       "      <td>0.000000</td>\n",
       "      <td>A9</td>\n",
       "      <td>mKate/APC-A_GMMgate</td>\n",
       "    </tr>\n",
       "    <tr>\n",
       "      <th>9</th>\n",
       "      <td>2.710597</td>\n",
       "      <td>1.000000</td>\n",
       "      <td>NaN</td>\n",
       "      <td>0.000000</td>\n",
       "      <td>A10</td>\n",
       "      <td>mKate/APC-A_GMMgate</td>\n",
       "    </tr>\n",
       "    <tr>\n",
       "      <th>10</th>\n",
       "      <td>3.742318</td>\n",
       "      <td>0.163225</td>\n",
       "      <td>1.860037</td>\n",
       "      <td>0.836775</td>\n",
       "      <td>A11</td>\n",
       "      <td>mKate/APC-A_GMMgate</td>\n",
       "    </tr>\n",
       "    <tr>\n",
       "      <th>11</th>\n",
       "      <td>3.755014</td>\n",
       "      <td>0.164646</td>\n",
       "      <td>1.891247</td>\n",
       "      <td>0.835354</td>\n",
       "      <td>A12</td>\n",
       "      <td>mKate/APC-A_GMMgate</td>\n",
       "    </tr>\n",
       "    <tr>\n",
       "      <th>12</th>\n",
       "      <td>2.505953</td>\n",
       "      <td>1.000000</td>\n",
       "      <td>NaN</td>\n",
       "      <td>0.000000</td>\n",
       "      <td>B1</td>\n",
       "      <td>mKate/APC-A_GMMgate</td>\n",
       "    </tr>\n",
       "    <tr>\n",
       "      <th>13</th>\n",
       "      <td>3.136404</td>\n",
       "      <td>0.449598</td>\n",
       "      <td>2.123155</td>\n",
       "      <td>0.550402</td>\n",
       "      <td>B2</td>\n",
       "      <td>mKate/APC-A_GMMgate</td>\n",
       "    </tr>\n",
       "    <tr>\n",
       "      <th>14</th>\n",
       "      <td>2.599529</td>\n",
       "      <td>1.000000</td>\n",
       "      <td>NaN</td>\n",
       "      <td>0.000000</td>\n",
       "      <td>B3</td>\n",
       "      <td>mKate/APC-A_GMMgate</td>\n",
       "    </tr>\n",
       "    <tr>\n",
       "      <th>15</th>\n",
       "      <td>2.452026</td>\n",
       "      <td>1.000000</td>\n",
       "      <td>NaN</td>\n",
       "      <td>0.000000</td>\n",
       "      <td>B4</td>\n",
       "      <td>mKate/APC-A_GMMgate</td>\n",
       "    </tr>\n",
       "    <tr>\n",
       "      <th>16</th>\n",
       "      <td>2.219408</td>\n",
       "      <td>0.968173</td>\n",
       "      <td>1.115635</td>\n",
       "      <td>0.031827</td>\n",
       "      <td>B5</td>\n",
       "      <td>mKate/APC-A_GMMgate</td>\n",
       "    </tr>\n",
       "    <tr>\n",
       "      <th>17</th>\n",
       "      <td>2.239032</td>\n",
       "      <td>1.000000</td>\n",
       "      <td>NaN</td>\n",
       "      <td>0.000000</td>\n",
       "      <td>B6</td>\n",
       "      <td>mKate/APC-A_GMMgate</td>\n",
       "    </tr>\n",
       "    <tr>\n",
       "      <th>18</th>\n",
       "      <td>2.769645</td>\n",
       "      <td>1.000000</td>\n",
       "      <td>NaN</td>\n",
       "      <td>0.000000</td>\n",
       "      <td>B7</td>\n",
       "      <td>mKate/APC-A_GMMgate</td>\n",
       "    </tr>\n",
       "    <tr>\n",
       "      <th>19</th>\n",
       "      <td>2.809569</td>\n",
       "      <td>1.000000</td>\n",
       "      <td>NaN</td>\n",
       "      <td>0.000000</td>\n",
       "      <td>B8</td>\n",
       "      <td>mKate/APC-A_GMMgate</td>\n",
       "    </tr>\n",
       "    <tr>\n",
       "      <th>20</th>\n",
       "      <td>2.911738</td>\n",
       "      <td>1.000000</td>\n",
       "      <td>NaN</td>\n",
       "      <td>0.000000</td>\n",
       "      <td>B9</td>\n",
       "      <td>mKate/APC-A_GMMgate</td>\n",
       "    </tr>\n",
       "    <tr>\n",
       "      <th>21</th>\n",
       "      <td>2.798940</td>\n",
       "      <td>1.000000</td>\n",
       "      <td>NaN</td>\n",
       "      <td>0.000000</td>\n",
       "      <td>B10</td>\n",
       "      <td>mKate/APC-A_GMMgate</td>\n",
       "    </tr>\n",
       "    <tr>\n",
       "      <th>22</th>\n",
       "      <td>3.871580</td>\n",
       "      <td>0.268622</td>\n",
       "      <td>1.875943</td>\n",
       "      <td>0.731378</td>\n",
       "      <td>B11</td>\n",
       "      <td>mKate/APC-A_GMMgate</td>\n",
       "    </tr>\n",
       "    <tr>\n",
       "      <th>23</th>\n",
       "      <td>3.678006</td>\n",
       "      <td>0.445606</td>\n",
       "      <td>1.917160</td>\n",
       "      <td>0.554394</td>\n",
       "      <td>B12</td>\n",
       "      <td>mKate/APC-A_GMMgate</td>\n",
       "    </tr>\n",
       "    <tr>\n",
       "      <th>24</th>\n",
       "      <td>2.480387</td>\n",
       "      <td>1.000000</td>\n",
       "      <td>NaN</td>\n",
       "      <td>0.000000</td>\n",
       "      <td>C1</td>\n",
       "      <td>mKate/APC-A_GMMgate</td>\n",
       "    </tr>\n",
       "    <tr>\n",
       "      <th>25</th>\n",
       "      <td>3.204018</td>\n",
       "      <td>0.186626</td>\n",
       "      <td>2.173327</td>\n",
       "      <td>0.813374</td>\n",
       "      <td>C2</td>\n",
       "      <td>mKate/APC-A_GMMgate</td>\n",
       "    </tr>\n",
       "    <tr>\n",
       "      <th>26</th>\n",
       "      <td>2.674706</td>\n",
       "      <td>1.000000</td>\n",
       "      <td>NaN</td>\n",
       "      <td>0.000000</td>\n",
       "      <td>C3</td>\n",
       "      <td>mKate/APC-A_GMMgate</td>\n",
       "    </tr>\n",
       "    <tr>\n",
       "      <th>27</th>\n",
       "      <td>2.370932</td>\n",
       "      <td>1.000000</td>\n",
       "      <td>NaN</td>\n",
       "      <td>0.000000</td>\n",
       "      <td>C4</td>\n",
       "      <td>mKate/APC-A_GMMgate</td>\n",
       "    </tr>\n",
       "    <tr>\n",
       "      <th>28</th>\n",
       "      <td>2.187068</td>\n",
       "      <td>1.000000</td>\n",
       "      <td>NaN</td>\n",
       "      <td>0.000000</td>\n",
       "      <td>C5</td>\n",
       "      <td>mKate/APC-A_GMMgate</td>\n",
       "    </tr>\n",
       "    <tr>\n",
       "      <th>29</th>\n",
       "      <td>2.224076</td>\n",
       "      <td>1.000000</td>\n",
       "      <td>NaN</td>\n",
       "      <td>0.000000</td>\n",
       "      <td>C6</td>\n",
       "      <td>mKate/APC-A_GMMgate</td>\n",
       "    </tr>\n",
       "    <tr>\n",
       "      <th>...</th>\n",
       "      <td>...</td>\n",
       "      <td>...</td>\n",
       "      <td>...</td>\n",
       "      <td>...</td>\n",
       "      <td>...</td>\n",
       "      <td>...</td>\n",
       "    </tr>\n",
       "    <tr>\n",
       "      <th>66</th>\n",
       "      <td>2.788629</td>\n",
       "      <td>1.000000</td>\n",
       "      <td>NaN</td>\n",
       "      <td>0.000000</td>\n",
       "      <td>F7</td>\n",
       "      <td>mKate/APC-A_GMMgate</td>\n",
       "    </tr>\n",
       "    <tr>\n",
       "      <th>67</th>\n",
       "      <td>2.810574</td>\n",
       "      <td>1.000000</td>\n",
       "      <td>NaN</td>\n",
       "      <td>0.000000</td>\n",
       "      <td>F8</td>\n",
       "      <td>mKate/APC-A_GMMgate</td>\n",
       "    </tr>\n",
       "    <tr>\n",
       "      <th>68</th>\n",
       "      <td>2.900327</td>\n",
       "      <td>0.973227</td>\n",
       "      <td>1.591880</td>\n",
       "      <td>0.026773</td>\n",
       "      <td>F9</td>\n",
       "      <td>mKate/APC-A_GMMgate</td>\n",
       "    </tr>\n",
       "    <tr>\n",
       "      <th>69</th>\n",
       "      <td>2.914618</td>\n",
       "      <td>1.000000</td>\n",
       "      <td>NaN</td>\n",
       "      <td>0.000000</td>\n",
       "      <td>F10</td>\n",
       "      <td>mKate/APC-A_GMMgate</td>\n",
       "    </tr>\n",
       "    <tr>\n",
       "      <th>70</th>\n",
       "      <td>3.917875</td>\n",
       "      <td>0.108247</td>\n",
       "      <td>1.898340</td>\n",
       "      <td>0.891753</td>\n",
       "      <td>F11</td>\n",
       "      <td>mKate/APC-A_GMMgate</td>\n",
       "    </tr>\n",
       "    <tr>\n",
       "      <th>71</th>\n",
       "      <td>3.748995</td>\n",
       "      <td>0.095745</td>\n",
       "      <td>1.943108</td>\n",
       "      <td>0.904255</td>\n",
       "      <td>F12</td>\n",
       "      <td>mKate/APC-A_GMMgate</td>\n",
       "    </tr>\n",
       "    <tr>\n",
       "      <th>72</th>\n",
       "      <td>2.624062</td>\n",
       "      <td>1.000000</td>\n",
       "      <td>NaN</td>\n",
       "      <td>0.000000</td>\n",
       "      <td>G1</td>\n",
       "      <td>mKate/APC-A_GMMgate</td>\n",
       "    </tr>\n",
       "    <tr>\n",
       "      <th>73</th>\n",
       "      <td>3.375969</td>\n",
       "      <td>0.155969</td>\n",
       "      <td>2.194066</td>\n",
       "      <td>0.844031</td>\n",
       "      <td>G2</td>\n",
       "      <td>mKate/APC-A_GMMgate</td>\n",
       "    </tr>\n",
       "    <tr>\n",
       "      <th>74</th>\n",
       "      <td>2.699777</td>\n",
       "      <td>1.000000</td>\n",
       "      <td>NaN</td>\n",
       "      <td>0.000000</td>\n",
       "      <td>G3</td>\n",
       "      <td>mKate/APC-A_GMMgate</td>\n",
       "    </tr>\n",
       "    <tr>\n",
       "      <th>75</th>\n",
       "      <td>3.355447</td>\n",
       "      <td>0.176353</td>\n",
       "      <td>2.180157</td>\n",
       "      <td>0.823647</td>\n",
       "      <td>G4</td>\n",
       "      <td>mKate/APC-A_GMMgate</td>\n",
       "    </tr>\n",
       "    <tr>\n",
       "      <th>76</th>\n",
       "      <td>2.176736</td>\n",
       "      <td>1.000000</td>\n",
       "      <td>NaN</td>\n",
       "      <td>0.000000</td>\n",
       "      <td>G5</td>\n",
       "      <td>mKate/APC-A_GMMgate</td>\n",
       "    </tr>\n",
       "    <tr>\n",
       "      <th>77</th>\n",
       "      <td>2.199735</td>\n",
       "      <td>1.000000</td>\n",
       "      <td>NaN</td>\n",
       "      <td>0.000000</td>\n",
       "      <td>G6</td>\n",
       "      <td>mKate/APC-A_GMMgate</td>\n",
       "    </tr>\n",
       "    <tr>\n",
       "      <th>78</th>\n",
       "      <td>2.752692</td>\n",
       "      <td>1.000000</td>\n",
       "      <td>NaN</td>\n",
       "      <td>0.000000</td>\n",
       "      <td>G7</td>\n",
       "      <td>mKate/APC-A_GMMgate</td>\n",
       "    </tr>\n",
       "    <tr>\n",
       "      <th>79</th>\n",
       "      <td>2.851898</td>\n",
       "      <td>1.000000</td>\n",
       "      <td>NaN</td>\n",
       "      <td>0.000000</td>\n",
       "      <td>G8</td>\n",
       "      <td>mKate/APC-A_GMMgate</td>\n",
       "    </tr>\n",
       "    <tr>\n",
       "      <th>80</th>\n",
       "      <td>3.019160</td>\n",
       "      <td>1.000000</td>\n",
       "      <td>NaN</td>\n",
       "      <td>0.000000</td>\n",
       "      <td>G9</td>\n",
       "      <td>mKate/APC-A_GMMgate</td>\n",
       "    </tr>\n",
       "    <tr>\n",
       "      <th>81</th>\n",
       "      <td>3.019915</td>\n",
       "      <td>1.000000</td>\n",
       "      <td>NaN</td>\n",
       "      <td>0.000000</td>\n",
       "      <td>G10</td>\n",
       "      <td>mKate/APC-A_GMMgate</td>\n",
       "    </tr>\n",
       "    <tr>\n",
       "      <th>82</th>\n",
       "      <td>3.159893</td>\n",
       "      <td>1.000000</td>\n",
       "      <td>NaN</td>\n",
       "      <td>0.000000</td>\n",
       "      <td>G11</td>\n",
       "      <td>mKate/APC-A_GMMgate</td>\n",
       "    </tr>\n",
       "    <tr>\n",
       "      <th>83</th>\n",
       "      <td>4.134486</td>\n",
       "      <td>0.050847</td>\n",
       "      <td>1.884197</td>\n",
       "      <td>0.949153</td>\n",
       "      <td>G12</td>\n",
       "      <td>mKate/APC-A_GMMgate</td>\n",
       "    </tr>\n",
       "    <tr>\n",
       "      <th>84</th>\n",
       "      <td>3.133155</td>\n",
       "      <td>0.493699</td>\n",
       "      <td>2.140681</td>\n",
       "      <td>0.506301</td>\n",
       "      <td>H1</td>\n",
       "      <td>mKate/APC-A_GMMgate</td>\n",
       "    </tr>\n",
       "    <tr>\n",
       "      <th>85</th>\n",
       "      <td>3.437570</td>\n",
       "      <td>0.220648</td>\n",
       "      <td>2.254928</td>\n",
       "      <td>0.779352</td>\n",
       "      <td>H2</td>\n",
       "      <td>mKate/APC-A_GMMgate</td>\n",
       "    </tr>\n",
       "    <tr>\n",
       "      <th>86</th>\n",
       "      <td>3.253097</td>\n",
       "      <td>0.432815</td>\n",
       "      <td>2.210652</td>\n",
       "      <td>0.567185</td>\n",
       "      <td>H3</td>\n",
       "      <td>mKate/APC-A_GMMgate</td>\n",
       "    </tr>\n",
       "    <tr>\n",
       "      <th>87</th>\n",
       "      <td>3.387370</td>\n",
       "      <td>0.174676</td>\n",
       "      <td>2.210794</td>\n",
       "      <td>0.825324</td>\n",
       "      <td>H4</td>\n",
       "      <td>mKate/APC-A_GMMgate</td>\n",
       "    </tr>\n",
       "    <tr>\n",
       "      <th>88</th>\n",
       "      <td>2.245176</td>\n",
       "      <td>0.968044</td>\n",
       "      <td>1.170892</td>\n",
       "      <td>0.031956</td>\n",
       "      <td>H5</td>\n",
       "      <td>mKate/APC-A_GMMgate</td>\n",
       "    </tr>\n",
       "    <tr>\n",
       "      <th>89</th>\n",
       "      <td>2.213643</td>\n",
       "      <td>0.967394</td>\n",
       "      <td>1.265594</td>\n",
       "      <td>0.032606</td>\n",
       "      <td>H6</td>\n",
       "      <td>mKate/APC-A_GMMgate</td>\n",
       "    </tr>\n",
       "    <tr>\n",
       "      <th>90</th>\n",
       "      <td>2.777905</td>\n",
       "      <td>1.000000</td>\n",
       "      <td>NaN</td>\n",
       "      <td>0.000000</td>\n",
       "      <td>H7</td>\n",
       "      <td>mKate/APC-A_GMMgate</td>\n",
       "    </tr>\n",
       "    <tr>\n",
       "      <th>91</th>\n",
       "      <td>2.907746</td>\n",
       "      <td>1.000000</td>\n",
       "      <td>NaN</td>\n",
       "      <td>0.000000</td>\n",
       "      <td>H8</td>\n",
       "      <td>mKate/APC-A_GMMgate</td>\n",
       "    </tr>\n",
       "    <tr>\n",
       "      <th>92</th>\n",
       "      <td>2.990995</td>\n",
       "      <td>1.000000</td>\n",
       "      <td>NaN</td>\n",
       "      <td>0.000000</td>\n",
       "      <td>H9</td>\n",
       "      <td>mKate/APC-A_GMMgate</td>\n",
       "    </tr>\n",
       "    <tr>\n",
       "      <th>93</th>\n",
       "      <td>3.024634</td>\n",
       "      <td>1.000000</td>\n",
       "      <td>NaN</td>\n",
       "      <td>0.000000</td>\n",
       "      <td>H10</td>\n",
       "      <td>mKate/APC-A_GMMgate</td>\n",
       "    </tr>\n",
       "    <tr>\n",
       "      <th>94</th>\n",
       "      <td>3.764602</td>\n",
       "      <td>0.032609</td>\n",
       "      <td>1.877306</td>\n",
       "      <td>0.967391</td>\n",
       "      <td>H11</td>\n",
       "      <td>mKate/APC-A_GMMgate</td>\n",
       "    </tr>\n",
       "    <tr>\n",
       "      <th>95</th>\n",
       "      <td>3.832128</td>\n",
       "      <td>0.070513</td>\n",
       "      <td>1.926582</td>\n",
       "      <td>0.929487</td>\n",
       "      <td>H12</td>\n",
       "      <td>mKate/APC-A_GMMgate</td>\n",
       "    </tr>\n",
       "  </tbody>\n",
       "</table>\n",
       "<p>96 rows × 6 columns</p>\n",
       "</div>"
      ],
      "text/plain": [
       "     mean ON  fraction ON  mean OFF  fraction OFF well                 gate\n",
       "0   2.491311     1.000000       NaN      0.000000   A1  mKate/APC-A_GMMgate\n",
       "1   3.130415     0.330556  2.118793      0.669444   A2  mKate/APC-A_GMMgate\n",
       "2   2.569426     1.000000       NaN      0.000000   A3  mKate/APC-A_GMMgate\n",
       "3   2.353398     1.000000       NaN      0.000000   A4  mKate/APC-A_GMMgate\n",
       "4   2.141832     0.924962  1.207607      0.075038   A5  mKate/APC-A_GMMgate\n",
       "5   2.057833     1.000000       NaN      0.000000   A6  mKate/APC-A_GMMgate\n",
       "6   2.784997     1.000000       NaN      0.000000   A7  mKate/APC-A_GMMgate\n",
       "7   2.705298     1.000000       NaN      0.000000   A8  mKate/APC-A_GMMgate\n",
       "8   2.771249     1.000000       NaN      0.000000   A9  mKate/APC-A_GMMgate\n",
       "9   2.710597     1.000000       NaN      0.000000  A10  mKate/APC-A_GMMgate\n",
       "10  3.742318     0.163225  1.860037      0.836775  A11  mKate/APC-A_GMMgate\n",
       "11  3.755014     0.164646  1.891247      0.835354  A12  mKate/APC-A_GMMgate\n",
       "12  2.505953     1.000000       NaN      0.000000   B1  mKate/APC-A_GMMgate\n",
       "13  3.136404     0.449598  2.123155      0.550402   B2  mKate/APC-A_GMMgate\n",
       "14  2.599529     1.000000       NaN      0.000000   B3  mKate/APC-A_GMMgate\n",
       "15  2.452026     1.000000       NaN      0.000000   B4  mKate/APC-A_GMMgate\n",
       "16  2.219408     0.968173  1.115635      0.031827   B5  mKate/APC-A_GMMgate\n",
       "17  2.239032     1.000000       NaN      0.000000   B6  mKate/APC-A_GMMgate\n",
       "18  2.769645     1.000000       NaN      0.000000   B7  mKate/APC-A_GMMgate\n",
       "19  2.809569     1.000000       NaN      0.000000   B8  mKate/APC-A_GMMgate\n",
       "20  2.911738     1.000000       NaN      0.000000   B9  mKate/APC-A_GMMgate\n",
       "21  2.798940     1.000000       NaN      0.000000  B10  mKate/APC-A_GMMgate\n",
       "22  3.871580     0.268622  1.875943      0.731378  B11  mKate/APC-A_GMMgate\n",
       "23  3.678006     0.445606  1.917160      0.554394  B12  mKate/APC-A_GMMgate\n",
       "24  2.480387     1.000000       NaN      0.000000   C1  mKate/APC-A_GMMgate\n",
       "25  3.204018     0.186626  2.173327      0.813374   C2  mKate/APC-A_GMMgate\n",
       "26  2.674706     1.000000       NaN      0.000000   C3  mKate/APC-A_GMMgate\n",
       "27  2.370932     1.000000       NaN      0.000000   C4  mKate/APC-A_GMMgate\n",
       "28  2.187068     1.000000       NaN      0.000000   C5  mKate/APC-A_GMMgate\n",
       "29  2.224076     1.000000       NaN      0.000000   C6  mKate/APC-A_GMMgate\n",
       "..       ...          ...       ...           ...  ...                  ...\n",
       "66  2.788629     1.000000       NaN      0.000000   F7  mKate/APC-A_GMMgate\n",
       "67  2.810574     1.000000       NaN      0.000000   F8  mKate/APC-A_GMMgate\n",
       "68  2.900327     0.973227  1.591880      0.026773   F9  mKate/APC-A_GMMgate\n",
       "69  2.914618     1.000000       NaN      0.000000  F10  mKate/APC-A_GMMgate\n",
       "70  3.917875     0.108247  1.898340      0.891753  F11  mKate/APC-A_GMMgate\n",
       "71  3.748995     0.095745  1.943108      0.904255  F12  mKate/APC-A_GMMgate\n",
       "72  2.624062     1.000000       NaN      0.000000   G1  mKate/APC-A_GMMgate\n",
       "73  3.375969     0.155969  2.194066      0.844031   G2  mKate/APC-A_GMMgate\n",
       "74  2.699777     1.000000       NaN      0.000000   G3  mKate/APC-A_GMMgate\n",
       "75  3.355447     0.176353  2.180157      0.823647   G4  mKate/APC-A_GMMgate\n",
       "76  2.176736     1.000000       NaN      0.000000   G5  mKate/APC-A_GMMgate\n",
       "77  2.199735     1.000000       NaN      0.000000   G6  mKate/APC-A_GMMgate\n",
       "78  2.752692     1.000000       NaN      0.000000   G7  mKate/APC-A_GMMgate\n",
       "79  2.851898     1.000000       NaN      0.000000   G8  mKate/APC-A_GMMgate\n",
       "80  3.019160     1.000000       NaN      0.000000   G9  mKate/APC-A_GMMgate\n",
       "81  3.019915     1.000000       NaN      0.000000  G10  mKate/APC-A_GMMgate\n",
       "82  3.159893     1.000000       NaN      0.000000  G11  mKate/APC-A_GMMgate\n",
       "83  4.134486     0.050847  1.884197      0.949153  G12  mKate/APC-A_GMMgate\n",
       "84  3.133155     0.493699  2.140681      0.506301   H1  mKate/APC-A_GMMgate\n",
       "85  3.437570     0.220648  2.254928      0.779352   H2  mKate/APC-A_GMMgate\n",
       "86  3.253097     0.432815  2.210652      0.567185   H3  mKate/APC-A_GMMgate\n",
       "87  3.387370     0.174676  2.210794      0.825324   H4  mKate/APC-A_GMMgate\n",
       "88  2.245176     0.968044  1.170892      0.031956   H5  mKate/APC-A_GMMgate\n",
       "89  2.213643     0.967394  1.265594      0.032606   H6  mKate/APC-A_GMMgate\n",
       "90  2.777905     1.000000       NaN      0.000000   H7  mKate/APC-A_GMMgate\n",
       "91  2.907746     1.000000       NaN      0.000000   H8  mKate/APC-A_GMMgate\n",
       "92  2.990995     1.000000       NaN      0.000000   H9  mKate/APC-A_GMMgate\n",
       "93  3.024634     1.000000       NaN      0.000000  H10  mKate/APC-A_GMMgate\n",
       "94  3.764602     0.032609  1.877306      0.967391  H11  mKate/APC-A_GMMgate\n",
       "95  3.832128     0.070513  1.926582      0.929487  H12  mKate/APC-A_GMMgate\n",
       "\n",
       "[96 rows x 6 columns]"
      ]
     },
     "execution_count": 41,
     "metadata": {},
     "output_type": "execute_result"
    }
   ],
   "source": [
    "analysis"
   ]
  },
  {
   "cell_type": "code",
   "execution_count": 42,
   "metadata": {},
   "outputs": [],
   "source": [
    "# Write the output file to a csv. \n",
    "analysis.to_csv(upper_dir +'/' + tpt + '_' + key + '_GMManalysis.csv', index = False)"
   ]
  },
  {
   "cell_type": "code",
   "execution_count": null,
   "metadata": {},
   "outputs": [],
   "source": []
  }
 ],
 "metadata": {
  "kernelspec": {
   "display_name": "Python 3",
   "language": "python",
   "name": "python3"
  },
  "language_info": {
   "codemirror_mode": {
    "name": "ipython",
    "version": 3
   },
   "file_extension": ".py",
   "mimetype": "text/x-python",
   "name": "python",
   "nbconvert_exporter": "python",
   "pygments_lexer": "ipython3",
   "version": "3.6.7"
  }
 },
 "nbformat": 4,
 "nbformat_minor": 2
}
