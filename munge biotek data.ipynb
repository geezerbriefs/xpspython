{
 "cells": [
  {
   "cell_type": "code",
   "execution_count": 240,
   "metadata": {},
   "outputs": [],
   "source": [
    "#workhorses\n",
    "import numpy as np\n",
    "import pandas as pd\n",
    "\n",
    "\n",
    "#plotting things\n",
    "\n",
    "#%matplotlib qt5 -- I don't know what this is\n",
    "import matplotlib.pyplot as plt\n",
    "import matplotlib as mpl\n",
    "import seaborn as sns\n",
    "\n",
    "from cycler import cycler"
   ]
  },
  {
   "cell_type": "code",
   "execution_count": 241,
   "metadata": {},
   "outputs": [],
   "source": [
    "#All of Anandh's customized seaborn/matplotlib settings\n",
    "\n",
    "sns.set_context(\"talk\", font_scale=1.5, rc={\"lines.linewidth\": 1.5})\n",
    "sns.set_style(\"ticks\")\n",
    "sns.set_style({\"xtick.direction\": \"in\",\"ytick.direction\": \"in\"})\n",
    "\n",
    "#%config InlineBackend.figure_f.ormats=['svg']\n",
    "\n",
    "mpl.rc('axes', prop_cycle=(cycler('color', ['r', 'k', 'b','g','y','m','c']) ))\n",
    "\n",
    "mpl.rcParams['pdf.fonttype'] = 42\n",
    "mpl.rcParams['ps.fonttype'] = 42\n",
    "\n",
    "#mpl.rc('text', usetex=False)\n",
    "#mpl.rc('text.latex', preamble=r'\\usepackage{helvet}\n",
    "#\\renewcommand\\familydefault{\\sfdefault}\\usepackage{sansmath}\\sansmath')\n",
    "\n",
    "    #If you want to use a different font\n",
    "# mpl.rc('font',**{'family':'sans-serif','sans-serif':['Helvetica'], \n",
    "#                  'serif': ['Helvetica']})\n",
    "\n",
    "tw = 1.5\n",
    "sns.set_style({\"xtick.major.size\": 3, \"ytick.major.size\": 3,\n",
    "               \"xtick.minor.size\": 2, \"ytick.minor.size\": 2,\n",
    "               'axes.labelsize': 16, 'axes.titlesize': 16,\n",
    "               'xtick.major.width': tw, 'xtick.minor.width': tw,\n",
    "               'ytick.major.width': tw, 'ytick.minor.width': tw})\n",
    "\n",
    "mpl.rc('xtick', labelsize=14) \n",
    "mpl.rc('ytick', labelsize=14)\n",
    "mpl.rc('axes', linewidth=1.5)\n",
    "mpl.rc('legend', fontsize=14)\n",
    "mpl.rc('figure', figsize=(9,8))"
   ]
  },
  {
   "cell_type": "markdown",
   "metadata": {},
   "source": [
    "## Get the data"
   ]
  },
  {
   "cell_type": "code",
   "execution_count": 242,
   "metadata": {},
   "outputs": [],
   "source": [
    "data_dict = pd.read_excel('../Local Data/20181004 A=B community screen 1 no sample.xlsx', sheet_name=None)"
   ]
  },
  {
   "cell_type": "code",
   "execution_count": 243,
   "metadata": {},
   "outputs": [
    {
     "data": {
      "text/plain": [
       "odict_keys(['OD700', 'BFP', 'YFP', 'IDs', 'Exp'])"
      ]
     },
     "execution_count": 243,
     "metadata": {},
     "output_type": "execute_result"
    }
   ],
   "source": [
    "data_dict.keys()"
   ]
  },
  {
   "cell_type": "markdown",
   "metadata": {},
   "source": [
    "## Munge the data"
   ]
  },
  {
   "cell_type": "markdown",
   "metadata": {},
   "source": [
    "### Functions"
   ]
  },
  {
   "cell_type": "code",
   "execution_count": 244,
   "metadata": {},
   "outputs": [],
   "source": [
    "def get_sec (datetimeTime_obj):\n",
    "    \n",
    "    return (datetimeTime_obj.hour * 60 + datetimeTime_obj.minute) * 60 + datetimeTime_obj.second"
   ]
  },
  {
   "cell_type": "code",
   "execution_count": 245,
   "metadata": {},
   "outputs": [],
   "source": [
    "def replace_time (data_sheet):\n",
    "    \n",
    "    df = data_sheet.copy()\n",
    "    \n",
    "    df['Time'] = df['Time'].apply(get_sec).divide(3600)\n",
    "    \n",
    "    return df"
   ]
  },
  {
   "cell_type": "code",
   "execution_count": 246,
   "metadata": {},
   "outputs": [],
   "source": [
    "def replace_temp (data_sheet):\n",
    "    \n",
    "    df = data_sheet.copy()\n",
    "    \n",
    "    c = ['Temp C' if '°' in x else x for x in df.columns]\n",
    "    \n",
    "    df.columns = c\n",
    "    \n",
    "    return df"
   ]
  },
  {
   "cell_type": "code",
   "execution_count": 247,
   "metadata": {},
   "outputs": [],
   "source": [
    "def add_id_info (data_sheet_melted, df_id):\n",
    "    \n",
    "    #make a copy of the dataframe so you can return the new one and set whatever name you want\n",
    "    df = data_sheet_melted.copy()\n",
    "\n",
    "    #initialize the columns to be used to store ID info\n",
    "    all_id_columns = [col for col in df_id.columns if col not in 'well']\n",
    "\n",
    "    for c in all_id_columns:\n",
    "        df[c] = np.nan\n",
    "\n",
    "    #get the list of all the wells you want to annotate\n",
    "    wells = np.unique(df_id['well'])\n",
    "\n",
    "    #loop over these wells and add the information to the initialized columns\n",
    "    for w in wells:\n",
    "        #get the ID information for this well\n",
    "        append_this = df_id.loc[df_id['well'] == w, :]\n",
    "\n",
    "        #loop over each column containing a unique piece of ID info\n",
    "        for c in all_id_columns:\n",
    "\n",
    "            #set the value for that column for that well\n",
    "            df.loc[df['well'] == w, c] = append_this[c].values\n",
    "                                                                #have to use .values otherwise index carries along and only\n",
    "                                                                #sets the value for the data table index equal to the\n",
    "                                                                #id table index\n",
    "\n",
    "    return df"
   ]
  },
  {
   "cell_type": "markdown",
   "metadata": {},
   "source": [
    "## Do the munging"
   ]
  },
  {
   "cell_type": "code",
   "execution_count": 248,
   "metadata": {},
   "outputs": [],
   "source": [
    "keys_to_munge = ['OD700', 'BFP', 'YFP']\n",
    "\n",
    "#replace time and temp by overwriting the original data\n",
    "for key in keys_to_munge:\n",
    "    \n",
    "    data_dict[key] = replace_time(data_dict[key])\n",
    "    data_dict[key] = replace_temp(data_dict[key])"
   ]
  },
  {
   "cell_type": "markdown",
   "metadata": {},
   "source": [
    "### Assign well IDs"
   ]
  },
  {
   "cell_type": "code",
   "execution_count": 219,
   "metadata": {},
   "outputs": [],
   "source": [
    "#get the well identifying information\n",
    "ids = data_dict['IDs']\n",
    "\n",
    "#get the data you want\n",
    "od_raw = data_dict['OD700']\n",
    "bfp_raw = data_dict['BFP']\n",
    "yfp_raw = data_dict['YFP']"
   ]
  },
  {
   "cell_type": "code",
   "execution_count": 220,
   "metadata": {},
   "outputs": [],
   "source": [
    "#independently melt the data so you can check and control the ID vars and value vars since that might differ per expt\n",
    "od = pd.melt(od_raw, id_vars=['Time', 'Temp C'], var_name=['well'])\n",
    "\n",
    "bfp = pd.melt(bfp_raw, id_vars=['Time', 'Temp C'], var_name=['well'])\n",
    "\n",
    "yfp = pd.melt(yfp_raw, id_vars=['Time', 'Temp C'], var_name=['well'])"
   ]
  },
  {
   "cell_type": "code",
   "execution_count": 232,
   "metadata": {},
   "outputs": [],
   "source": [
    "od_final = add_id_info(od, ids)\n",
    "\n",
    "bfp_final = add_id_info(bfp, ids)\n",
    "\n",
    "yfp_final = add_id_info(yfp, ids)"
   ]
  },
  {
   "cell_type": "markdown",
   "metadata": {},
   "source": [
    "## Write the data to a new file"
   ]
  },
  {
   "cell_type": "code",
   "execution_count": null,
   "metadata": {},
   "outputs": [],
   "source": []
  }
 ],
 "metadata": {
  "kernelspec": {
   "display_name": "Python 3",
   "language": "python",
   "name": "python3"
  },
  "language_info": {
   "codemirror_mode": {
    "name": "ipython",
    "version": 3
   },
   "file_extension": ".py",
   "mimetype": "text/x-python",
   "name": "python",
   "nbconvert_exporter": "python",
   "pygments_lexer": "ipython3",
   "version": "3.6.5"
  }
 },
 "nbformat": 4,
 "nbformat_minor": 2
}
