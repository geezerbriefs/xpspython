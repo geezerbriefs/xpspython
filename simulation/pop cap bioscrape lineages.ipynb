{
 "cells": [
  {
   "cell_type": "code",
   "execution_count": null,
   "metadata": {},
   "outputs": [],
   "source": [
    "from bioscrape.lineage import LineageModel, LineageVolumeSplitter #For building our Model\n",
    "from bioscrape.lineage import py_SimulateCellLineage\n",
    "import numpy as np\n",
    "import pylab as plt\n",
    "# import time as pytime\n",
    "# from time import process_time "
   ]
  }
 ],
 "metadata": {
  "kernelspec": {
   "display_name": "Python 3",
   "language": "python",
   "name": "python3"
  },
  "language_info": {
   "codemirror_mode": {
    "name": "ipython",
    "version": 3
   },
   "file_extension": ".py",
   "mimetype": "text/x-python",
   "name": "python",
   "nbconvert_exporter": "python",
   "pygments_lexer": "ipython3",
   "version": "3.7.6"
  }
 },
 "nbformat": 4,
 "nbformat_minor": 4
}
