{
 "cells": [
  {
   "cell_type": "code",
   "execution_count": 1,
   "metadata": {},
   "outputs": [],
   "source": [
    "import biocrnpyler as bcp\n",
    "import numpy as np"
   ]
  },
  {
   "cell_type": "code",
   "execution_count": 2,
   "metadata": {},
   "outputs": [],
   "source": [
    "#I need 2 regulated promoters to express A and B\n",
    "\n",
    "#Create a RegulatedPromoter Object named \"B_reg\" with an \"activator\"\n",
    "B_reg = bcp.RegulatedPromoter(\"B_reg\", regulators=[\"actB\"], leak=True)\n",
    "\n",
    "#also for A\n",
    "A_reg = bcp.RegulatedPromoter(\"A_reg\", regulators=[\"actA\"], leak=True)\n",
    "\n",
    "\n",
    "\n",
    "#B will be like ccdB and be some reference species that can be sequestered by the expression of another species\n",
    "B_assembly = bcp.DNAassembly(name = \"B\", promoter = B_reg, rbs = \"BCD\", protein = \"B\")\n",
    "\n",
    "#A will sequester B\n",
    "A_assembly = bcp.DNAassembly(name = \"A\", promoter = A_reg, rbs = \"BCD\", protein = \"A\")\n",
    "\n",
    "prot_A = A_assembly.protein\n",
    "prot_B = B_assembly.protein\n",
    "\n",
    "#now we need the activator proteins for A and B DNA assemblies\n",
    "actA = bcp.Protein(\"actA\")\n",
    "actB = bcp.Protein(\"actB\")\n",
    "\n",
    "\n",
    "#create species that is the complex of A and B together\n",
    "AB_complex = bcp.ComplexSpecies([prot_A, prot_B], \"AB_complex\")\n",
    "\n",
    "#attempt to use the complex to regulate a promoter\n",
    "P_reg = bcp.RegulatedPromoter(\"P_regbyAB\", regulators=[AB_complex], leak=False)\n",
    "\n",
    "#use the promoter to make something you can track\n",
    "report_assembly = bcp.DNAassembly(name = \"test_report\", promoter = P_reg, rbs = \"BCD\", protein = \"reporter\")"
   ]
  },
  {
   "cell_type": "code",
   "execution_count": 3,
   "metadata": {},
   "outputs": [],
   "source": [
    "#All Necessary Parameters are passed in as a dictionary in the form: (mechanism, part_id, param_name):Val\n",
    "#These could also be loaded from a file, but are shown here to illustrate the required parameter keys.\n",
    "parameters = {\n",
    "    #B promoter Activator Binding Parameters. Note the part_id = [promoter_name]_[regulator_name]\n",
    "    ('one_step_cooperative_binding', \"B_reg_actB\", 'kb'):1000, #Promoter - Activator Binding\n",
    "    ('one_step_cooperative_binding', \"B_reg_actB\", 'ku'):5.0, #Unbinding\n",
    "    ('one_step_cooperative_binding',\"B_reg_actB\", 'cooperativity'):2.0, #Cooperativity\n",
    "    \n",
    "    #B activated Promoter Transcription. Note the part_id = [promoter_name]_[regulator_name]\n",
    "    #These regulate RNAP binding to an activated promoter and transcription\n",
    "    ('transcription_mm', 'B_reg_actB', 'kb'): 1000.0, #Binding to RNAP\n",
    "    ('transcription_mm', \"B_reg_actB\", 'ku'): 10.0, #Unbinding\n",
    "    ('transcription_mm', 'B_reg_actB', \"ktx\"): 1.25, #Transcription Rate\n",
    "    \n",
    "    #A Promoter activator Binding Parameters. Note the part_id = [promoter_name]_[regulator_name]\n",
    "    ('one_step_cooperative_binding', 'A_reg_actA', 'kb'):1000,\n",
    "    ('one_step_cooperative_binding',\"A_reg_actA\", 'ku'):5.0,\n",
    "    ('one_step_cooperative_binding',\"A_reg_actA\", 'cooperativity'):2.0,\n",
    "    \n",
    "    #A's activated promoter Transcription. Note the part_id = [promoter_name]_[regulator_name]\n",
    "    #These regulate RNAP binding to a repressed promoter and transcription\n",
    "    ('transcription_mm', 'A_reg_actA', 'kb'): 1000.0, #Binding to RNAP\n",
    "    ('transcription_mm', \"A_reg_actA\", 'ku'): 10.0, #Unbinding\n",
    "    ('transcription_mm', 'A_reg_actA', \"ktx\"): 1.25, #Transcription Rate\n",
    "    \n",
    "    #Leak Parameters for transcription\n",
    "    #These regulate expression of B's unbound promoter\n",
    "    ('transcription_mm', 'B_reg', \"kb\"): 100, #Binding to RNAP\n",
    "    ('transcription_mm', 'B_reg', \"ku\"): 100, #Unbinding\n",
    "    ('transcription_mm', 'B_reg', \"ktx\"): 1., #Transcription Rate\n",
    "    \n",
    "    #These regulate expression of A's unbound promoter\n",
    "    ('transcription_mm', 'A_reg', \"kb\"): 100, #Binding to RNAP\n",
    "    ('transcription_mm', 'A_reg', \"ku\"): 100, #Unbinding\n",
    "    ('transcription_mm', 'A_reg', \"ktx\"): 1., #Transcription Rate\n",
    "    \n",
    "    \n",
    "              \n",
    "    #Translation Parameters:\n",
    "    ('translation_mm', 'BCD', 'kb'): 50, #Binding to Ribosome\n",
    "    ('translation_mm', 'BCD', 'ku'): 10.0, #Unbinding\n",
    "    ('translation_mm', 'BCD', 'ktl'): 2.0, #Translation Rate\n",
    "    \n",
    "    #RNA Degredation Parameters\n",
    "    (\"rna_degredation_mm\", \"kb\"): 500, #RNAase-RNA binding (Default for RNA Degredation)\n",
    "    (\"rna_degredation_mm\", \"ku\"): 1.0, #RNAase-RNA unbinding (Default for RNA Degredation)\n",
    "    (\"rna_degredation_mm\", \"kdeg\"): 2.5, #Degredation Rate (Default for RNA Degredation)\n",
    "    \n",
    "    #For use with an ExpressionExtract\n",
    "    ('gene_expression', 'P_reg_repressor', \"kexpress\"): .05, \n",
    "    ('gene_expression', 'P_reg_activator', \"kexpress\"): 10.,\n",
    "    ('gene_expression', 'P_reg', \"kexpress\"): 1.0,\n",
    "    \n",
    "    #For the reporter regulated by the complexP_reg.name+'_'+repressor.name\n",
    "    ('one_step_cooperative_binding', P_reg.name+'_'+AB_complex.name, 'kb'):1000, #Promoter - Activator Binding\n",
    "    ('one_step_cooperative_binding', P_reg.name+'_'+AB_complex.name, 'ku'):5.0, #Unbinding\n",
    "    ('one_step_cooperative_binding', P_reg.name+'_'+AB_complex.name, 'cooperativity'):1.0, #Cooperativity\n",
    "    \n",
    "    #AB complex activated reporter promoter transcription. Note the part_id = [promoter_name]_[regulator_name]\n",
    "    #These regulate RNAP binding to an activated promoter and transcription\n",
    "    ('transcription_mm', P_reg.name+'_'+AB_complex.name, 'kb'): 1000.0, #Binding to RNAP\n",
    "    ('transcription_mm', P_reg.name+'_'+AB_complex.name, 'ku'): 10.0, #Unbinding\n",
    "    ('transcription_mm', P_reg.name+'_'+AB_complex.name, \"ktx\"): 1.25, #Transcription Rate\n",
    "}"
   ]
  },
  {
   "cell_type": "code",
   "execution_count": 4,
   "metadata": {},
   "outputs": [],
   "source": [
    "#Create a Mixture\n",
    "components = [B_assembly, A_assembly, actA, actB, report_assembly]\n",
    "myMixture = bcp.TxTlExtract(name=\"txtl\", parameters=parameters, components=components, parameter_warnings=True)"
   ]
  },
  {
   "cell_type": "code",
   "execution_count": 5,
   "metadata": {},
   "outputs": [],
   "source": [
    "myCRN = myMixture.compile_crn()"
   ]
  },
  {
   "cell_type": "code",
   "execution_count": 6,
   "metadata": {
    "scrolled": false
   },
   "outputs": [
    {
     "name": "stderr",
     "output_type": "stream",
     "text": [
      "C:\\Users\\geeze\\anaconda3\\lib\\site-packages\\html5lib\\_trie\\_base.py:3: DeprecationWarning: Using or importing the ABCs from 'collections' instead of from 'collections.abc' is deprecated since Python 3.3,and in 3.9 it will stop working\n",
      "  from collections import Mapping\n",
      "C:\\Users\\geeze\\anaconda3\\lib\\importlib\\_bootstrap.py:219: RuntimeWarning: numpy.ufunc size changed, may indicate binary incompatibility. Expected 192 from C header, got 216 from PyObject\n",
      "  return f(*args, **kwds)\n",
      "C:\\Users\\geeze\\anaconda3\\lib\\importlib\\_bootstrap.py:219: RuntimeWarning: numpy.ufunc size changed, may indicate binary incompatibility. Expected 192 from C header, got 216 from PyObject\n",
      "  return f(*args, **kwds)\n",
      "C:\\Users\\geeze\\anaconda3\\lib\\site-packages\\biocrnpyler-0.1-py3.7.egg\\biocrnpyler\\chemical_reaction_network.py:706: UserWarning: The following species are uninitialized and their value has been defaulted to 0: complex_AB_complex, \n"
     ]
    },
    {
     "data": {
      "text/plain": [
       "[<matplotlib.lines.Line2D at 0x24876743d88>]"
      ]
     },
     "execution_count": 6,
     "metadata": {},
     "output_type": "execute_result"
    },
    {
     "data": {
      "image/png": "[encoded data removed]",
      "text/plain": [
       "<Figure size 432x288 with 1 Axes>"
      ]
     },
     "metadata": {
      "needs_background": "light"
     },
     "output_type": "display_data"
    }
   ],
   "source": [
    "try:\n",
    "    import pylab as plt\n",
    "    time = np.arange(0, 20, .01)\n",
    "    #Simulate the CRN with some activators\n",
    "    x0 = {\"dna_B\":10, \"dna_A\":10, \"protein_actA\":5, \"protein_actB\":5, \"protein_Ribo\":100, \"protein_RNAP\":20, \"protein_RNAase\":10}\n",
    "    R_const = myCRN.simulate_with_bioscrape(time, stochastic = False, initial_condition_dict = x0)\n",
    "except ModuleNotFoundError:\n",
    "    pass\n",
    "\n",
    "\n",
    "plt.figure()\n",
    "plt.plot(time, R_const[\"protein_B\"])\n",
    "plt.plot(time, R_const[\"protein_A\"])\n",
    "\n",
    "# plt.plot(time, R_const[\"protein_reporter\"])"
   ]
  },
  {
   "cell_type": "code",
   "execution_count": null,
   "metadata": {},
   "outputs": [],
   "source": []
  }
 ],
 "metadata": {
  "kernelspec": {
   "display_name": "Python 3",
   "language": "python",
   "name": "python3"
  },
  "language_info": {
   "codemirror_mode": {
    "name": "ipython",
    "version": 3
   },
   "file_extension": ".py",
   "mimetype": "text/x-python",
   "name": "python",
   "nbconvert_exporter": "python",
   "pygments_lexer": "ipython3",
   "version": "3.7.6"
  }
 },
 "nbformat": 4,
 "nbformat_minor": 4
}
