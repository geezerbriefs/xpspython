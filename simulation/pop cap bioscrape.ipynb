{
 "cells": [
  {
   "cell_type": "markdown",
   "metadata": {},
   "source": [
    "## basic import setup for a bioscrape model"
   ]
  },
  {
   "cell_type": "code",
   "execution_count": 5,
   "metadata": {},
   "outputs": [],
   "source": [
    "#Using Bioscrape: Basic Imports\n",
    "\n",
    "#A Model is a CRN with some bells and whistles\n",
    "from bioscrape.types import Model\n",
    "\n",
    "#py_simulate_model is a helper function that takes care of may details for you\n",
    "from bioscrape.simulator import py_simulate_model\n",
    "\n",
    "#For arrays and plotting\n",
    "import numpy as np\n",
    "import pylab as plt"
   ]
  },
  {
   "cell_type": "markdown",
   "metadata": {},
   "source": [
    "I'm going to try to do a model of population capping, if that won't work, i'll just try doing cells that respond to an external source of ahl signal"
   ]
  },
  {
   "cell_type": "markdown",
   "metadata": {},
   "source": [
    "## Species"
   ]
  },
  {
   "cell_type": "code",
   "execution_count": 6,
   "metadata": {},
   "outputs": [],
   "source": [
    "#Species: A list of all the species\n",
    "species = [\"S\", \"T\", \"T:S\", \"G\", \"TSG\", \"P\", \"TSG:P\", \"M\", \"R\", \"M:R\", \"GFP\"]"
   ]
  },
  {
   "cell_type": "code",
   "execution_count": 37,
   "metadata": {},
   "outputs": [],
   "source": [
    "#Params\n",
    "params = [(\"kahlbind\", 100), (\"kahlunb\", 1), \n",
    "          (\"ktfbind\", 50), (\"ktfunb\", 10), \n",
    "          (\"kpolbind\", 50), (\"kpolunb\", 2), \n",
    "          (\"kribbind\", 40), (\"kribunb\", 10),\n",
    "          (\"ktx\", 2), (\"ktl\", 5), (\"delta\", .5),\n",
    "         (\"kahl\", 0.01), (\"ahldeg\", 0.25)]"
   ]
  },
  {
   "cell_type": "code",
   "execution_count": 38,
   "metadata": {},
   "outputs": [],
   "source": [
    "#Reactions: A list of reactions [rxn1, rxn2...]. Each reaction is a tuple ([Input Species], [Output Species], \"propensity_type\", {propensity_parameters})\n",
    "\n",
    "#make and degrade signal\n",
    "rxnS = ([], [\"S\"], \"massaction\", {\"k\":\"kahl\"})\n",
    "rxnDegS = ([\"S\"], [], \"massaction\", {\"k\":\"ahldeg\"})\n",
    "\n",
    "#ahl binds and unbinds transcription factor\n",
    "rxnAHL = ([\"T\", \"S\"], [\"T:S\"], \"massaction\", {\"k\":\"kahlbind\"})\n",
    "rxnAHL0 = ([\"T:S\"], [\"T\", \"S\"], \"massaction\", {\"k\":\"kahlunb\"})\n",
    "\n",
    "#active transcription factor binds dna\n",
    "rxnDNA = ([\"T:S\", \"G\"], [\"TSG\"], \"massaction\", {\"k\":\"ktfbind\"})\n",
    "rxnDNA0 = ([\"TSG\"], [\"T:S\", \"G\"], \"massaction\", {\"k\":\"ktfunb\"})\n",
    "\n",
    "#DNA transcription factor complex binds polymerase\n",
    "rxnPol = ([\"TSG\", \"P\"], [\"TSG:P\"], \"massaction\", {\"k\":\"kpolbind\"})\n",
    "rxnPol0 = ([\"TSG:P\"], [\"TSG\", \"P\"], \"massaction\", {\"k\":\"kpolunb\"})\n",
    "\n",
    "#transcription\n",
    "rxnTx = ([\"TSG:P\"], [\"TSG\", \"P\", \"M\"], \"massaction\", {\"k\":\"ktx\"})\n",
    "rxnDegM = ([\"M\"], [], \"massaction\", {\"k\":\"delta\"})\n",
    "\n",
    "#ribosome binds mrna\n",
    "rxnRib = ([\"M\", \"R\"], [\"M:R\"], \"massaction\", {\"k\":\"kribbind\"})\n",
    "rxnRib0 = ([\"M:R\"], [\"M\", \"R\"], \"massaction\", {\"k\":\"kribunb\"})\n",
    "\n",
    "#Translation\n",
    "rxntl = ([\"M:R\"], [\"M\", \"R\", \"GFP\"], \"massaction\", {\"k\":\"ktl\"})\n",
    "rxnDegGFP = ([\"GFP\"], [], \"massaction\", {\"k\":\"delta\"})\n",
    "\n",
    "\n",
    "\n",
    "reactions = [rxnS, rxnDegS, rxnAHL, rxnAHL0, rxnDNA, rxnDNA0, rxnPol, rxnPol0,\n",
    "             rxnTx, rxnRib, rxnRib0, rxntl, rxnDegS, rxnDegGFP, rxnDegM]"
   ]
  },
  {
   "cell_type": "code",
   "execution_count": 39,
   "metadata": {},
   "outputs": [],
   "source": [
    "#An initial condition for each species (uninitialized species default to 0)\n",
    "\n",
    "# species = [\"S\", \"T\", \"T:S\", \"G\", \"TSG\", \"TSG:P\", \"M\", \"R\", \"M:R\", \"GFP\"]\n",
    "\n",
    "x0 = {\n",
    "    \"T\":10,\n",
    "    \"G\":1,\n",
    "    \"P\":25,\n",
    "    \"R\":100,\n",
    "}"
   ]
  },
  {
   "cell_type": "code",
   "execution_count": 40,
   "metadata": {},
   "outputs": [
    {
     "name": "stderr",
     "output_type": "stream",
     "text": [
      "C:\\Users\\geeze\\anaconda3\\lib\\site-packages\\ipykernel_launcher.py:4: UserWarning: The following species are uninitialized and their value has been defaulted to 0: S, T:S, TSG, TSG:P, M, M:R, GFP, \n",
      "  after removing the cwd from sys.path.\n"
     ]
    }
   ],
   "source": [
    "#Bioscrape is Object Oritened: Models, Propensities, Simulators, etc. are all Objects\n",
    "\n",
    "#Instantiate the Model [The only object must of us will care about]\n",
    "M = Model(species = species, reactions = reactions, parameters = params, initial_condition_dict = x0)\n",
    "\n",
    "\n",
    "#Simulate the Model\n",
    "timepoints = np.linspace(0, 500, 50000)\n",
    "\n",
    "Results = py_simulate_model(timepoints, Model = M) #py_simulate_model takes care of all other objects for you"
   ]
  },
  {
   "cell_type": "code",
   "execution_count": 43,
   "metadata": {},
   "outputs": [
    {
     "data": {
      "text/plain": [
       "<matplotlib.legend.Legend at 0x14f3fa7ca88>"
      ]
     },
     "execution_count": 43,
     "metadata": {},
     "output_type": "execute_result"
    },
    {
     "data": {
      "image/png": "[encoded data removed]",
      "text/plain": [
       "<Figure size 432x288 with 1 Axes>"
      ]
     },
     "metadata": {
      "needs_background": "light"
     },
     "output_type": "display_data"
    }
   ],
   "source": [
    "#Bioscrape returns a Pandas Dataframe by default, so plotting is easy!\n",
    "\n",
    "plt.figure()\n",
    "\n",
    "plt.plot(timepoints, Results[\"S\"], label = \"S\")\n",
    "plt.plot(timepoints, Results[\"T\"], label = \"T\")\n",
    "plt.plot(timepoints, Results[\"GFP\"], label = \"GFP\")\n",
    "plt.legend()\n"
   ]
  },
  {
   "cell_type": "code",
   "execution_count": 44,
   "metadata": {},
   "outputs": [],
   "source": [
    "#Switching to Stochastic Simulation is easy!\n",
    "Results_stoch = py_simulate_model(timepoints, Model = M, stochastic = True) #py_simulate_model takes care of all other objects for you"
   ]
  },
  {
   "cell_type": "code",
   "execution_count": 45,
   "metadata": {},
   "outputs": [
    {
     "data": {
      "text/plain": [
       "<matplotlib.legend.Legend at 0x14f404cbd08>"
      ]
     },
     "execution_count": 45,
     "metadata": {},
     "output_type": "execute_result"
    },
    {
     "data": {
      "image/png": "[encoded data removed]",
      "text/plain": [
       "<Figure size 432x288 with 1 Axes>"
      ]
     },
     "metadata": {
      "needs_background": "light"
     },
     "output_type": "display_data"
    }
   ],
   "source": [
    "plt.figure()\n",
    "\n",
    "plt.plot(timepoints, Results_stoch[\"S\"], label = \"S\")\n",
    "plt.plot(timepoints, Results_stoch[\"T\"], label = \"T\")\n",
    "plt.plot(timepoints, Results_stoch[\"GFP\"], label = \"GFP\")\n",
    "plt.legend()"
   ]
  },
  {
   "cell_type": "code",
   "execution_count": null,
   "metadata": {},
   "outputs": [],
   "source": []
  }
 ],
 "metadata": {
  "kernelspec": {
   "display_name": "Python 3",
   "language": "python",
   "name": "python3"
  },
  "language_info": {
   "codemirror_mode": {
    "name": "ipython",
    "version": 3
   },
   "file_extension": ".py",
   "mimetype": "text/x-python",
   "name": "python",
   "nbconvert_exporter": "python",
   "pygments_lexer": "ipython3",
   "version": "3.7.6"
  }
 },
 "nbformat": 4,
 "nbformat_minor": 4
}
