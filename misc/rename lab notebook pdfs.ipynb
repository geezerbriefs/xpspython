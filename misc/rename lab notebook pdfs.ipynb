{
 "cells": [
  {
   "cell_type": "code",
   "execution_count": 32,
   "metadata": {},
   "outputs": [],
   "source": [
    "import numpy as np\n",
    "\n",
    "import os\n",
    "\n",
    "import glob"
   ]
  },
  {
   "cell_type": "code",
   "execution_count": 33,
   "metadata": {},
   "outputs": [],
   "source": [
    "directory_with_unprocessed_files = r'C:\\Users\\geeze\\Documents\\Local Data\\pending lab notebook'"
   ]
  },
  {
   "cell_type": "code",
   "execution_count": 34,
   "metadata": {},
   "outputs": [],
   "source": [
    "files = glob.glob(directory_with_unprocessed_files + '\\\\*.pdf')"
   ]
  },
  {
   "cell_type": "code",
   "execution_count": 40,
   "metadata": {},
   "outputs": [
    {
     "name": "stdout",
     "output_type": "stream",
     "text": [
      "['Apr', '11,', '2018', '']\n",
      "['Apr', '12,', '2018', '']\n",
      "['Apr', '13,', '2018', '']\n",
      "['Apr', '17,', '2018', '']\n",
      "['Apr', '18,', '2018', '']\n",
      "['Apr', '19,', '2018', '']\n",
      "['Apr', '20,', '2018', '']\n",
      "['Apr', '23,', '2018', '']\n",
      "['Apr', '25,', '2018', '']\n",
      "['Apr', '26,', '2018', '']\n",
      "['Apr', '30,', '2018', '']\n",
      "['Aug', '10,', '2018.pdf']\n",
      "['Aug', '15,', '2018.pdf']\n",
      "['Aug', '16,', '2018.pdf']\n",
      "['Aug', '2,', '2018.pdf']\n",
      "['Aug', '20,', '2018.pdf']\n",
      "['Aug', '21,', '2018.pdf']\n",
      "['Aug', '22,', '2018.pdf']\n",
      "['Aug', '23,', '2018.pdf']\n",
      "['Aug', '27,', '2018.pdf']\n",
      "['Aug', '28,', '2018.pdf']\n",
      "['Aug', '29,', '2018.pdf']\n",
      "['Aug', '30,', '2018', '']\n",
      "['Aug', '31,', '2018.pdf']\n",
      "['Aug', '6,', '2018.pdf']\n",
      "['Aug', '7,', '2018.pdf']\n",
      "['Aug', '8,', '2018.pdf']\n",
      "['Aug', '9,', '2018.pdf']\n",
      "['Dec', '3,', '2018.pdf']\n",
      "['Dec', '4,', '2018.pdf']\n",
      "['Dec', '5,', '2018.pdf']\n",
      "['Dec', '6,', '2018.pdf']\n",
      "['Jul', '10,', '2018.pdf']\n",
      "['Jul', '11,', '2018', '']\n",
      "['Jul', '12,', '2018.pdf']\n",
      "['Jul', '13,', '2018.pdf']\n",
      "['Jul', '16,', '2018.pdf']\n",
      "['Jul', '17,', '2018.pdf']\n",
      "['Jul', '18,', '2018.pdf']\n",
      "['Jul', '19,', '2018.pdf']\n",
      "['Jul', '2,', '2018.pdf']\n",
      "['Jul', '20,', '2018.pdf']\n",
      "['Jul', '23,', '2018.pdf']\n",
      "['Jul', '24,', '2018.pdf']\n",
      "['Jul', '26,', '2018.pdf']\n",
      "['Jul', '27,', '2018.pdf']\n",
      "['Jul', '3,', '2018.pdf']\n",
      "['Jul', '31,', '2018.pdf']\n",
      "['Jul', '4,', '2018.pdf']\n",
      "['Jul', '5,', '2018.pdf']\n",
      "['Jul', '6,', '2018.pdf']\n",
      "['Jul', '7,', '2018', '']\n",
      "['Jul', '9,', '2018', '.pdf']\n",
      "['Jun', '11,', '2018', '']\n",
      "['Jun', '12,', '2018', '']\n",
      "['Jun', '14,', '2018', '']\n",
      "['Jun', '15,', '2018', '']\n",
      "['Jun', '18,', '2018', '']\n",
      "['Jun', '19,', '2018', '']\n",
      "['Jun', '20,', '2018', '']\n",
      "['Jun', '21,', '2018', '']\n",
      "['Jun', '22,', '2018', '']\n",
      "['Jun', '25,', '2018.pdf']\n",
      "['Jun', '26,', '2018', '']\n",
      "['Jun', '28,', '2018.pdf']\n",
      "['Jun', '4,', '2018', '']\n",
      "['Jun', '5,', '2018', '']\n",
      "['Jun', '6,', '2018', '']\n",
      "['Jun', '7,', '2018', '']\n",
      "['May', '1,', '2018', '']\n",
      "['May', '10,', '2018', '']\n",
      "['May', '11,', '2018', '']\n",
      "['May', '15,', '2018', '']\n",
      "['May', '16,', '2018', '']\n",
      "['May', '17,', '2018', '']\n",
      "['May', '18,', '2018', '']\n",
      "['May', '19,', '2018', '']\n",
      "['May', '2,', '2018', '']\n",
      "['May', '22,', '2018', '']\n",
      "['May', '23,', '2018', '']\n",
      "['May', '24,', '2018', '']\n",
      "['May', '25,', '2018', '']\n",
      "['May', '29,', '2018', '']\n",
      "['May', '3,', '2018', '']\n",
      "['May', '30,', '2018', '']\n",
      "['May', '31,', '2018', '']\n",
      "['May', '7,', '2018', '']\n",
      "['May', '8,', '2018', '']\n",
      "['May', '9,', '2018', '']\n",
      "['Nov', '12,', '2018.pdf']\n",
      "['Nov', '15,', '2018.pdf']\n",
      "['Nov', '16,', '2018.pdf']\n",
      "['Nov', '26,', '2018.pdf']\n",
      "['Nov', '29,', '2018.pdf']\n",
      "['Nov', '7,', '2018.pdf']\n",
      "['Oct', '1,', '2018.pdf']\n",
      "['Oct', '10,', '2018.pdf']\n",
      "['Oct', '2,', '2018.pdf']\n",
      "['Oct', '22,', '2018.pdf']\n",
      "['Oct', '23,', '2018.pdf']\n",
      "['Oct', '25,', '2018.pdf']\n",
      "['Oct', '3,', '2018.pdf']\n",
      "['Oct', '30,', '2018', '']\n",
      "['Oct', '31,', '2018.pdf']\n",
      "['Oct', '4,', '2018.pdf']\n",
      "['Oct', '8,', '2018.pdf']\n",
      "['Oct', '9,', '2018.pdf']\n",
      "['Sep', '17,', '2018.pdf']\n",
      "['Sep', '18,', '2018.pdf']\n",
      "['Sep', '19,', '2018.pdf']\n",
      "['Sep', '24,', '2018.pdf']\n",
      "['Sep', '25,', '2018.pdf']\n",
      "['Sep', '26,', '2018.pdf']\n",
      "['Sep', '27,', '2018.pdf']\n",
      "['Sep', '28,', '2018.pdf']\n",
      "['Sep', '4,', '2018.pdf']\n",
      "['Sep', '7,', '2018.pdf']\n"
     ]
    }
   ],
   "source": [
    "for file in files:\n",
    "    z = file.split('Entry ')[1]\n",
    "    \n",
    "    zz = z.split('-')\n",
    "    \n",
    "    print(zz[0].split(' '))"
   ]
  },
  {
   "cell_type": "code",
   "execution_count": 52,
   "metadata": {},
   "outputs": [],
   "source": [
    "def convert_month (string):\n",
    "    \n",
    "    nums = ['01','02','03','04','05','06','07','08','09','10','11','12']\n",
    "    mos = ['Jan', 'Feb', 'Mar', 'Apr', 'May', 'Jun', 'Jul', 'Aug', 'Sep', 'Oct', 'Nov', 'Dec']\n",
    "    \n",
    "    convert = {x:y for x,y in zip(mos, nums)}\n",
    "    \n",
    "    return convert[string]"
   ]
  },
  {
   "cell_type": "code",
   "execution_count": 75,
   "metadata": {},
   "outputs": [],
   "source": [
    "def convert_day (string):\n",
    "    \n",
    "    no_comma = string.split(',')\n",
    "    num = no_comma[0]\n",
    "    \n",
    "    if len(num) == 1:\n",
    "        num = '0' + num\n",
    "        \n",
    "    return num"
   ]
  },
  {
   "cell_type": "code",
   "execution_count": 71,
   "metadata": {},
   "outputs": [],
   "source": [
    "def convert_year(string):\n",
    "    \n",
    "    no_dot = string.split('.')\n",
    "    \n",
    "    return no_dot[0]"
   ]
  },
  {
   "cell_type": "code",
   "execution_count": 82,
   "metadata": {},
   "outputs": [],
   "source": [
    "def numeric_date(file_string):\n",
    "\n",
    "    no_directory_path = file_string.split('Entry ')[1]\n",
    "    \n",
    "    pieces = no_directory_path.split(' ')\n",
    "    \n",
    "    month = convert_month(pieces[0])\n",
    "    day = convert_day(pieces[1])\n",
    "    year = convert_year(pieces[2])\n",
    "    \n",
    "    return year + month + day"
   ]
  },
  {
   "cell_type": "code",
   "execution_count": null,
   "metadata": {},
   "outputs": [],
   "source": []
  }
 ],
 "metadata": {
  "kernelspec": {
   "display_name": "Python 3",
   "language": "python",
   "name": "python3"
  },
  "language_info": {
   "codemirror_mode": {
    "name": "ipython",
    "version": 3
   },
   "file_extension": ".py",
   "mimetype": "text/x-python",
   "name": "python",
   "nbconvert_exporter": "python",
   "pygments_lexer": "ipython3",
   "version": "3.6.7"
  }
 },
 "nbformat": 4,
 "nbformat_minor": 2
}
