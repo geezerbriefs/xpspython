{
 "cells": [
  {
   "cell_type": "code",
   "execution_count": 69,
   "metadata": {},
   "outputs": [],
   "source": [
    "import numpy as np\n",
    "\n",
    "import os\n",
    "\n",
    "import glob"
   ]
  },
  {
   "cell_type": "code",
   "execution_count": 70,
   "metadata": {},
   "outputs": [],
   "source": [
    "directory_with_unprocessed_files = 'C:/Users/geeze/Desktop/surf'"
   ]
  },
  {
   "cell_type": "code",
   "execution_count": 71,
   "metadata": {},
   "outputs": [],
   "source": [
    "files = glob.glob(directory_with_unprocessed_files + '\\\\*.pdf')"
   ]
  },
  {
   "cell_type": "code",
   "execution_count": 72,
   "metadata": {},
   "outputs": [
    {
     "name": "stdout",
     "output_type": "stream",
     "text": [
      " Building surfboard shaping rack.pdf\n",
      " Fish shaping notes.pdf\n",
      " logo art.pdf\n",
      " Fish board no marks upright.pdf\n",
      " planning foam block surfboards.pdf\n",
      " single fin box thru rope hole diagram.pdf\n",
      " Shaped board for art testing.pdf\n"
     ]
    }
   ],
   "source": [
    "for file in files:\n",
    "    #\n",
    "    z = file.split('Entry ')[1]\n",
    "    \n",
    "    zz = z.split('-')\n",
    "    \n",
    "    print(zz[1])"
   ]
  },
  {
   "cell_type": "code",
   "execution_count": 73,
   "metadata": {},
   "outputs": [],
   "source": [
    "def convert_month (string):\n",
    "    \n",
    "    #convert between the named months Notability uses to numbers\n",
    "    nums = ['01','02','03','04','05','06','07','08','09','10','11','12']\n",
    "    mos = ['Jan', 'Feb', 'Mar', 'Apr', 'May', 'Jun', 'Jul', 'Aug', 'Sep', 'Oct', 'Nov', 'Dec']\n",
    "    \n",
    "    convert = {x:y for x,y in zip(mos, nums)}\n",
    "    \n",
    "    return convert[string]"
   ]
  },
  {
   "cell_type": "code",
   "execution_count": 74,
   "metadata": {},
   "outputs": [],
   "source": [
    "def convert_day (string):\n",
    "    \n",
    "    #notability writes the date as \"Entry Month day, year\" strip the comma from the day\n",
    "    no_comma = string.split(',')\n",
    "    num = no_comma[0]\n",
    "    \n",
    "    if len(num) == 1:\n",
    "        num = '0' + num\n",
    "        \n",
    "    return num"
   ]
  },
  {
   "cell_type": "code",
   "execution_count": 75,
   "metadata": {},
   "outputs": [],
   "source": [
    "def convert_year(string):\n",
    "    \n",
    "    #the last part of the date string is sometimes the end of the file and is followed by \".pdf\", strip that\n",
    "    no_dot = string.split('.')\n",
    "    \n",
    "    return no_dot[0]"
   ]
  },
  {
   "cell_type": "code",
   "execution_count": 76,
   "metadata": {},
   "outputs": [],
   "source": [
    "def numeric_date(file_string):\n",
    "    \n",
    "    #cut off the \"Entry\" tag each file has at the beginning of its name\n",
    "    no_directory_path = file_string.split('Entry ')[1]\n",
    "    \n",
    "    #split by spaces to get the numbers\n",
    "    pieces = no_directory_path.split(' ')\n",
    "    \n",
    "    #convert all to numeric strings\n",
    "    month = convert_month(pieces[0])\n",
    "    day = convert_day(pieces[1])\n",
    "    year = convert_year(pieces[2])\n",
    "    \n",
    "    #put together in the format I like\n",
    "    return year + month + day"
   ]
  },
  {
   "cell_type": "code",
   "execution_count": 77,
   "metadata": {},
   "outputs": [],
   "source": [
    "def rename_notability_pdf (file_string):\n",
    "    \n",
    "    number_date = numeric_date(file_string)\n",
    "    \n",
    "    try:\n",
    "        title_tag = ' -' + file_string.split('-')[1]\n",
    "    except:\n",
    "        title_tag = ''\n",
    "        \n",
    "    new_title = number_date + title_tag.rstrip('.pdf').rstrip(' ')\n",
    "    \n",
    "    return new_title + '.pdf'"
   ]
  },
  {
   "cell_type": "code",
   "execution_count": 78,
   "metadata": {},
   "outputs": [],
   "source": [
    "new_names = [directory_with_unprocessed_files + \"/\" + rename_notability_pdf(f) for f in files]"
   ]
  },
  {
   "cell_type": "code",
   "execution_count": 79,
   "metadata": {},
   "outputs": [],
   "source": [
    "rename_dict = {o:n for o,n in zip(files, new_names)}"
   ]
  },
  {
   "cell_type": "code",
   "execution_count": 80,
   "metadata": {},
   "outputs": [
    {
     "data": {
      "text/plain": [
       "{'C:/Users/geeze/Desktop/surf\\\\Entry Dec 12, 2018 - Building surfboard shaping rack.pdf': 'C:/Users/geeze/Desktop/surf/20181212 - Building surfboard shaping rack.pdf',\n",
       " 'C:/Users/geeze/Desktop/surf\\\\Entry Dec 26, 2018 - Fish shaping notes.pdf': 'C:/Users/geeze/Desktop/surf/20181226 - Fish shaping notes.pdf',\n",
       " 'C:/Users/geeze/Desktop/surf\\\\Entry Dec 9, 2019 - logo art.pdf': 'C:/Users/geeze/Desktop/surf/20191209 - logo art.pdf',\n",
       " 'C:/Users/geeze/Desktop/surf\\\\Entry Feb 20, 2019 - Fish board no marks upright.pdf': 'C:/Users/geeze/Desktop/surf/20190220 - Fish board no marks upright.pdf',\n",
       " 'C:/Users/geeze/Desktop/surf\\\\Entry Jan 3, 2020 - planning foam block surfboards.pdf': 'C:/Users/geeze/Desktop/surf/20200103 - planning foam block surfboards.pdf',\n",
       " 'C:/Users/geeze/Desktop/surf\\\\Entry May 20, 2020 - single fin box thru rope hole diagram.pdf': 'C:/Users/geeze/Desktop/surf/20200520 - single fin box thru rope hole diagram.pdf',\n",
       " 'C:/Users/geeze/Desktop/surf\\\\Entry Nov 19, 2019 - Shaped board for art testing.pdf': 'C:/Users/geeze/Desktop/surf/20191119 - Shaped board for art testing.pdf'}"
      ]
     },
     "execution_count": 80,
     "metadata": {},
     "output_type": "execute_result"
    }
   ],
   "source": [
    "rename_dict"
   ]
  },
  {
   "cell_type": "code",
   "execution_count": 81,
   "metadata": {},
   "outputs": [],
   "source": [
    "for f in files:\n",
    "    os.rename(f, rename_dict[f])"
   ]
  },
  {
   "cell_type": "code",
   "execution_count": null,
   "metadata": {},
   "outputs": [],
   "source": []
  }
 ],
 "metadata": {
  "kernelspec": {
   "display_name": "Python 3",
   "language": "python",
   "name": "python3"
  },
  "language_info": {
   "codemirror_mode": {
    "name": "ipython",
    "version": 3
   },
   "file_extension": ".py",
   "mimetype": "text/x-python",
   "name": "python",
   "nbconvert_exporter": "python",
   "pygments_lexer": "ipython3",
   "version": "3.7.6"
  }
 },
 "nbformat": 4,
 "nbformat_minor": 2
}
