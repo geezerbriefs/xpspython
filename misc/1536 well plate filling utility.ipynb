{
 "cells": [
  {
   "cell_type": "code",
   "execution_count": 15,
   "metadata": {},
   "outputs": [],
   "source": [
    "import pandas as pd\n",
    "import numpy as np\n",
    "\n",
    "import glob"
   ]
  },
  {
   "cell_type": "code",
   "execution_count": 16,
   "metadata": {},
   "outputs": [],
   "source": [
    "#set directory to look in\n",
    "di = 'C:/Users/geeze/Desktop/'"
   ]
  },
  {
   "cell_type": "code",
   "execution_count": 17,
   "metadata": {},
   "outputs": [],
   "source": [
    "#get a list of files there\n",
    "files = glob.glob(di + '*.csv')\n",
    "show = list(enumerate(files))"
   ]
  },
  {
   "cell_type": "code",
   "execution_count": 18,
   "metadata": {},
   "outputs": [
    {
     "name": "stdout",
     "output_type": "stream",
     "text": [
      "Which file is your post-echo transfer report?\n",
      "[(0, 'C:/Users/geeze/Desktop\\\\20200213 1536 plate 1 report.csv')]\n",
      "0\n"
     ]
    }
   ],
   "source": [
    "#get user input\n",
    "print('Which file is your post-echo transfer report?')\n",
    "print(list(enumerate(files)))\n",
    "num = int(input())"
   ]
  },
  {
   "cell_type": "code",
   "execution_count": 19,
   "metadata": {},
   "outputs": [],
   "source": [
    "#open requested file\n",
    "df = pd.read_csv(files[num])"
   ]
  },
  {
   "cell_type": "code",
   "execution_count": 21,
   "metadata": {
    "scrolled": false
   },
   "outputs": [],
   "source": [
    "#munge nicely\n",
    "col_labels = []\n",
    "for i in df.index:\n",
    "    \n",
    "    #every other row except the one I want to use as the column names has at least one NaN in it. Just get the one with\n",
    "    #no NaNs\n",
    "    if df.loc[i].isnull().any():\n",
    "        pass\n",
    "    else:\n",
    "        col_labels.append(i)"
   ]
  },
  {
   "cell_type": "code",
   "execution_count": 22,
   "metadata": {},
   "outputs": [],
   "source": [
    "#print error if things aren't as expected with the column renaming\n",
    "if len(col_labels) == 1:\n",
    "    col_labels = col_labels[0]\n",
    "else:\n",
    "    print('more than one potential column label set')"
   ]
  },
  {
   "cell_type": "code",
   "execution_count": 23,
   "metadata": {},
   "outputs": [],
   "source": [
    "#make labels nice and slice just what you want to see\n",
    "df = (df.loc[col_labels:].set_axis(df.loc[col_labels], axis=1, inplace=False)\n",
    "      .drop(col_labels, axis=0)\n",
    "     .reset_index(drop=True))\n",
    "\n",
    "df = df.loc[~df['Source Well'].isnull()]"
   ]
  },
  {
   "cell_type": "code",
   "execution_count": 24,
   "metadata": {},
   "outputs": [],
   "source": [
    "#get list of wells used in protocol\n",
    "wells = df['Source Well'].unique()\n",
    "#it doesn't necessarily use every well on each protocol, so you'll need to know approximately how much is in the unused\n",
    "#ones to find out how much remains in the plate"
   ]
  },
  {
   "cell_type": "code",
   "execution_count": 25,
   "metadata": {
    "scrolled": false
   },
   "outputs": [],
   "source": [
    "#find out how much is left in the wells used and estimate what's left in the wells NOT used, then calc total remaining\n",
    "end_volumes = []\n",
    "for w in wells:\n",
    "    d = df.loc[df['Source Well'] == w]\n",
    "    \n",
    "    end_vol = min(d['Current Fluid Volume'])\n",
    "    \n",
    "    end_volumes.append(float(end_vol))\n",
    "    \n",
    "#this assumes you put ~55uL in each echo well, we're conservative and guess we're off by -2 in each\n",
    "#also assume dead volume of 15uL\n",
    "remains = np.sum(end_volumes) + 53*(384 - len(wells)) - (384*15)"
   ]
  },
  {
   "cell_type": "code",
   "execution_count": 26,
   "metadata": {},
   "outputs": [
    {
     "name": "stdout",
     "output_type": "stream",
     "text": [
      "do another, you have 1.35446044921875 1536 plates remaining in source plate\n"
     ]
    }
   ],
   "source": [
    "#output\n",
    "if remains/(1536*4) > 1.05:\n",
    "    print('do another, you have {} 1536 plates remaining in source plate'.format(remains/(1536*4)))\n",
    "else:\n",
    "    print('refill needed')"
   ]
  },
  {
   "cell_type": "code",
   "execution_count": null,
   "metadata": {},
   "outputs": [],
   "source": []
  }
 ],
 "metadata": {
  "kernelspec": {
   "display_name": "Python 3",
   "language": "python",
   "name": "python3"
  },
  "language_info": {
   "codemirror_mode": {
    "name": "ipython",
    "version": 3
   },
   "file_extension": ".py",
   "mimetype": "text/x-python",
   "name": "python",
   "nbconvert_exporter": "python",
   "pygments_lexer": "ipython3",
   "version": "3.6.7"
  }
 },
 "nbformat": 4,
 "nbformat_minor": 2
}
