{
 "cells": [
  {
   "cell_type": "code",
   "execution_count": 511,
   "metadata": {},
   "outputs": [],
   "source": [
    "import pandas as pd\n",
    "import numpy as np\n",
    "\n",
    "import itertools"
   ]
  },
  {
   "cell_type": "markdown",
   "metadata": {},
   "source": [
    "## open data"
   ]
  },
  {
   "cell_type": "code",
   "execution_count": 512,
   "metadata": {},
   "outputs": [],
   "source": [
    "directory = \"Z:/Reed/Projects/lab misc/echo_cfu_count/\"\n",
    "\n",
    "filename = \"20200123 1536 echu cfu test.xlsx\"\n",
    "\n",
    "d = pd.read_excel(directory + filename, sheet_name=None)"
   ]
  },
  {
   "cell_type": "code",
   "execution_count": 513,
   "metadata": {},
   "outputs": [
    {
     "data": {
      "text/plain": [
       "odict_keys(['Plate 1', 'Plate 2', 'Plate 3', 'Plate 4', 't0 seal', 't0', 'te', 'tef', 'IDs'])"
      ]
     },
     "execution_count": 513,
     "metadata": {},
     "output_type": "execute_result"
    }
   ],
   "source": [
    "d.keys()"
   ]
  },
  {
   "cell_type": "markdown",
   "metadata": {},
   "source": [
    "## get columns and rows named correctly"
   ]
  },
  {
   "cell_type": "code",
   "execution_count": 514,
   "metadata": {},
   "outputs": [],
   "source": [
    "#for more than a few plates\n",
    "\n",
    "plates = [x for x in d.keys() if '-' in x]\n",
    "plates = [x for x in plates if 'tidy' not in x]"
   ]
  },
  {
   "cell_type": "code",
   "execution_count": 515,
   "metadata": {},
   "outputs": [],
   "source": [
    "plates = ['t0', 'te', 'tef']"
   ]
  },
  {
   "cell_type": "code",
   "execution_count": 516,
   "metadata": {},
   "outputs": [],
   "source": [
    "#get plate\n",
    "plate = plates[2]\n",
    "\n",
    "df = d[plate]\n",
    "\n",
    "#move the letter index in as column so you get numerical index for reference\n",
    "df = df.reset_index()\n",
    "\n",
    "#rename for clarity\n",
    "\n",
    "#make generic for different plate types\n",
    "rename = []\n",
    "for col in df.columns.tolist():\n",
    "    if isinstance(col, str):\n",
    "        if \"Unnamed\" in col:\n",
    "            rename.append(col)\n",
    "\n",
    "df = df.rename(columns={rename[0]: 'channel', 'index': 'row'})\n",
    "\n",
    "#reorder columns\n",
    "cols = df.columns.tolist()\n",
    "cols = cols[-1:] + cols[:-1]\n",
    "\n",
    "df = df[cols]"
   ]
  },
  {
   "cell_type": "code",
   "execution_count": 517,
   "metadata": {},
   "outputs": [],
   "source": [
    "# rows aren't all named with the row letter, fill the NaNs with the letter\n",
    "df['row'] = df['row'].fillna(method='ffill')\n",
    "\n",
    "#make the channel names easier\n",
    "split_channel_names = df['channel'].str.split(':', expand=True)\n",
    "\n",
    "df['ch'] = split_channel_names[0]\n",
    "\n",
    "#put the channel names where they're easy to see\n",
    "cols = df.columns.tolist()\n",
    "cols = cols[-1:] + cols[:-1]\n",
    "\n",
    "df = df[cols]\n",
    "\n",
    "#if there are overflow values, replace them\n",
    "\n",
    "df = df.replace({'OVFLW': 99999})"
   ]
  },
  {
   "cell_type": "markdown",
   "metadata": {},
   "source": [
    "## break it into long form"
   ]
  },
  {
   "cell_type": "code",
   "execution_count": 518,
   "metadata": {},
   "outputs": [
    {
     "data": {
      "text/html": [
       "<div>\n",
       "<style scoped>\n",
       "    .dataframe tbody tr th:only-of-type {\n",
       "        vertical-align: middle;\n",
       "    }\n",
       "\n",
       "    .dataframe tbody tr th {\n",
       "        vertical-align: top;\n",
       "    }\n",
       "\n",
       "    .dataframe thead th {\n",
       "        text-align: right;\n",
       "    }\n",
       "</style>\n",
       "<table border=\"1\" class=\"dataframe\">\n",
       "  <thead>\n",
       "    <tr style=\"text-align: right;\">\n",
       "      <th></th>\n",
       "      <th>ch</th>\n",
       "      <th>channel</th>\n",
       "      <th>row</th>\n",
       "      <th>1</th>\n",
       "      <th>2</th>\n",
       "      <th>3</th>\n",
       "      <th>4</th>\n",
       "      <th>5</th>\n",
       "      <th>6</th>\n",
       "      <th>7</th>\n",
       "      <th>...</th>\n",
       "      <th>39</th>\n",
       "      <th>40</th>\n",
       "      <th>41</th>\n",
       "      <th>42</th>\n",
       "      <th>43</th>\n",
       "      <th>44</th>\n",
       "      <th>45</th>\n",
       "      <th>46</th>\n",
       "      <th>47</th>\n",
       "      <th>48</th>\n",
       "    </tr>\n",
       "  </thead>\n",
       "  <tbody>\n",
       "    <tr>\n",
       "      <th>0</th>\n",
       "      <td>OD700</td>\n",
       "      <td>OD700:700</td>\n",
       "      <td>A</td>\n",
       "      <td>0.341</td>\n",
       "      <td>0.314</td>\n",
       "      <td>0.310</td>\n",
       "      <td>0.352</td>\n",
       "      <td>0.359</td>\n",
       "      <td>0.333</td>\n",
       "      <td>0.349</td>\n",
       "      <td>...</td>\n",
       "      <td>0.337</td>\n",
       "      <td>0.320</td>\n",
       "      <td>0.340</td>\n",
       "      <td>0.332</td>\n",
       "      <td>0.444</td>\n",
       "      <td>0.325</td>\n",
       "      <td>0.329</td>\n",
       "      <td>0.330</td>\n",
       "      <td>0.334</td>\n",
       "      <td>0.514</td>\n",
       "    </tr>\n",
       "    <tr>\n",
       "      <th>1</th>\n",
       "      <td>RFP</td>\n",
       "      <td>RFP:579,616</td>\n",
       "      <td>A</td>\n",
       "      <td>104.000</td>\n",
       "      <td>150.000</td>\n",
       "      <td>148.000</td>\n",
       "      <td>96.000</td>\n",
       "      <td>80</td>\n",
       "      <td>111.000</td>\n",
       "      <td>131.000</td>\n",
       "      <td>...</td>\n",
       "      <td>99.000</td>\n",
       "      <td>119.000</td>\n",
       "      <td>96.000</td>\n",
       "      <td>96.000</td>\n",
       "      <td>93.000</td>\n",
       "      <td>109.000</td>\n",
       "      <td>112.000</td>\n",
       "      <td>108.000</td>\n",
       "      <td>123.000</td>\n",
       "      <td>96.000</td>\n",
       "    </tr>\n",
       "    <tr>\n",
       "      <th>2</th>\n",
       "      <td>CFP</td>\n",
       "      <td>CFP:430,491</td>\n",
       "      <td>A</td>\n",
       "      <td>455.000</td>\n",
       "      <td>533.000</td>\n",
       "      <td>564.000</td>\n",
       "      <td>427.000</td>\n",
       "      <td>276</td>\n",
       "      <td>460.000</td>\n",
       "      <td>457.000</td>\n",
       "      <td>...</td>\n",
       "      <td>458.000</td>\n",
       "      <td>459.000</td>\n",
       "      <td>474.000</td>\n",
       "      <td>460.000</td>\n",
       "      <td>1982.000</td>\n",
       "      <td>489.000</td>\n",
       "      <td>500.000</td>\n",
       "      <td>466.000</td>\n",
       "      <td>495.000</td>\n",
       "      <td>2498.000</td>\n",
       "    </tr>\n",
       "    <tr>\n",
       "      <th>3</th>\n",
       "      <td>YFP</td>\n",
       "      <td>YFP:500,541</td>\n",
       "      <td>A</td>\n",
       "      <td>65.000</td>\n",
       "      <td>75.000</td>\n",
       "      <td>79.000</td>\n",
       "      <td>57.000</td>\n",
       "      <td>38</td>\n",
       "      <td>63.000</td>\n",
       "      <td>64.000</td>\n",
       "      <td>...</td>\n",
       "      <td>64.000</td>\n",
       "      <td>64.000</td>\n",
       "      <td>67.000</td>\n",
       "      <td>64.000</td>\n",
       "      <td>73.000</td>\n",
       "      <td>68.000</td>\n",
       "      <td>69.000</td>\n",
       "      <td>66.000</td>\n",
       "      <td>70.000</td>\n",
       "      <td>71.000</td>\n",
       "    </tr>\n",
       "    <tr>\n",
       "      <th>4</th>\n",
       "      <td>OD700</td>\n",
       "      <td>OD700:700</td>\n",
       "      <td>B</td>\n",
       "      <td>0.367</td>\n",
       "      <td>0.343</td>\n",
       "      <td>0.361</td>\n",
       "      <td>0.480</td>\n",
       "      <td>0.367</td>\n",
       "      <td>0.488</td>\n",
       "      <td>0.366</td>\n",
       "      <td>...</td>\n",
       "      <td>0.495</td>\n",
       "      <td>0.315</td>\n",
       "      <td>0.611</td>\n",
       "      <td>0.328</td>\n",
       "      <td>0.353</td>\n",
       "      <td>0.473</td>\n",
       "      <td>0.350</td>\n",
       "      <td>0.326</td>\n",
       "      <td>0.358</td>\n",
       "      <td>0.324</td>\n",
       "    </tr>\n",
       "  </tbody>\n",
       "</table>\n",
       "<p>5 rows × 51 columns</p>\n",
       "</div>"
      ],
      "text/plain": [
       "      ch      channel row        1        2        3        4      5        6  \\\n",
       "0  OD700    OD700:700   A    0.341    0.314    0.310    0.352  0.359    0.333   \n",
       "1    RFP  RFP:579,616   A  104.000  150.000  148.000   96.000     80  111.000   \n",
       "2    CFP  CFP:430,491   A  455.000  533.000  564.000  427.000    276  460.000   \n",
       "3    YFP  YFP:500,541   A   65.000   75.000   79.000   57.000     38   63.000   \n",
       "4  OD700    OD700:700   B    0.367    0.343    0.361    0.480  0.367    0.488   \n",
       "\n",
       "         7    ...          39       40       41       42        43       44  \\\n",
       "0    0.349    ...       0.337    0.320    0.340    0.332     0.444    0.325   \n",
       "1  131.000    ...      99.000  119.000   96.000   96.000    93.000  109.000   \n",
       "2  457.000    ...     458.000  459.000  474.000  460.000  1982.000  489.000   \n",
       "3   64.000    ...      64.000   64.000   67.000   64.000    73.000   68.000   \n",
       "4    0.366    ...       0.495    0.315    0.611    0.328     0.353    0.473   \n",
       "\n",
       "        45       46       47        48  \n",
       "0    0.329    0.330    0.334     0.514  \n",
       "1  112.000  108.000  123.000    96.000  \n",
       "2  500.000  466.000  495.000  2498.000  \n",
       "3   69.000   66.000   70.000    71.000  \n",
       "4    0.350    0.326    0.358     0.324  \n",
       "\n",
       "[5 rows x 51 columns]"
      ]
     },
     "execution_count": 518,
     "metadata": {},
     "output_type": "execute_result"
    }
   ],
   "source": [
    "df.head()"
   ]
  },
  {
   "cell_type": "code",
   "execution_count": 519,
   "metadata": {},
   "outputs": [],
   "source": [
    "df = pd.melt(df.drop(columns = 'channel'), id_vars=['ch', 'row'], var_name='col').sort_values(by=['row', 'col'])"
   ]
  },
  {
   "cell_type": "code",
   "execution_count": 520,
   "metadata": {},
   "outputs": [],
   "source": [
    "#couldn't figure out how to get each column to be a measurement with just row and col to be the indices using melt\n",
    "#and pivot so I just hack it here\n",
    "\n",
    "l = []\n",
    "#unfortunate iteration through the entire df\n",
    "for i in df.index:\n",
    "    #just pull one row\n",
    "    row = df.loc[i]\n",
    "    \n",
    "    #split out the channel name and the value\n",
    "    name = row['ch']\n",
    "    value = row['value']\n",
    "    \n",
    "    #make a tiny dataframe with these things in the right places\n",
    "    add = pd.DataFrame({name:value}, index=[i])\n",
    "    \n",
    "    #big list\n",
    "    l.append(add)\n",
    "    \n",
    "#make the ugliest dataframe ever with tons of nans\n",
    "stick_on = pd.concat(l, sort=False)"
   ]
  },
  {
   "cell_type": "code",
   "execution_count": 521,
   "metadata": {},
   "outputs": [],
   "source": [
    "#add the ugly dataframe to the existing one and backfill values. This will result in the FIRST row of each row/col\n",
    "#pair having the correct set of data since measurement entries after this row will fill across it and measurement\n",
    "#entries in this row will stay there. This only puts the right data in the FIRST row of each row/col pair.\n",
    "#We will use the lowest index later to get this row\n",
    "\n",
    "new = pd.concat([df, stick_on], axis='columns').fillna(method='bfill')"
   ]
  },
  {
   "cell_type": "code",
   "execution_count": 522,
   "metadata": {},
   "outputs": [],
   "source": [
    "#go through the row/col pairs and select the first row of each\n",
    "\n",
    "letters = new['row'].unique()\n",
    "nums = new['col'].unique()\n",
    "\n",
    "combs = list(itertools.product(letters, nums))\n",
    "\n",
    "good_rows = []\n",
    "\n",
    "for c in combs:\n",
    "    let = c[0]\n",
    "    num = c[1]\n",
    "    \n",
    "    i1 = new['row'] == let\n",
    "    i2 = new['col'] == num\n",
    "    i = i1&i2\n",
    "    \n",
    "    good_row = new.loc[min(new.loc[i].index)]\n",
    "    \n",
    "    good_rows.append(good_row)\n",
    "    \n",
    "df = pd.concat(good_rows, axis='columns').T.drop(columns=['ch', 'value'])"
   ]
  },
  {
   "cell_type": "code",
   "execution_count": 523,
   "metadata": {},
   "outputs": [],
   "source": [
    "# df.to_csv(directory + '{}_tidy.csv'.format(plate), index=False)"
   ]
  },
  {
   "cell_type": "markdown",
   "metadata": {},
   "source": [
    "# STOP, move the generated csv files into the master data file, then delete them. Also add any easy to generate information you need to the files"
   ]
  },
  {
   "cell_type": "markdown",
   "metadata": {},
   "source": [
    "## make a single table from all tidy ones"
   ]
  },
  {
   "cell_type": "code",
   "execution_count": 538,
   "metadata": {},
   "outputs": [],
   "source": [
    "#reopen file after the sheets have been added\n",
    "d = pd.read_excel(directory + filename, sheet_name=None)"
   ]
  },
  {
   "cell_type": "code",
   "execution_count": 539,
   "metadata": {},
   "outputs": [],
   "source": [
    "tidy = [x for x in d.keys() if 'tidy' in x]"
   ]
  },
  {
   "cell_type": "code",
   "execution_count": 540,
   "metadata": {},
   "outputs": [],
   "source": [
    "data_list = []\n",
    "\n",
    "for name in tidy:\n",
    "    data = d[name]\n",
    "    \n",
    "    data_list.append(data)"
   ]
  },
  {
   "cell_type": "code",
   "execution_count": 542,
   "metadata": {},
   "outputs": [],
   "source": [
    "# pd.concat(data_list).to_csv(directory + 'tall_tidy.csv', index=False)"
   ]
  },
  {
   "cell_type": "markdown",
   "metadata": {},
   "source": [
    "# STOP, move the generated csv file into the master data file, then delete it"
   ]
  },
  {
   "cell_type": "markdown",
   "metadata": {},
   "source": [
    "## associate the ID's"
   ]
  },
  {
   "cell_type": "code",
   "execution_count": 543,
   "metadata": {},
   "outputs": [],
   "source": [
    "#reopen file after the sheets have been added\n",
    "d = pd.read_excel(directory + filename, sheet_name=None)"
   ]
  },
  {
   "cell_type": "code",
   "execution_count": 544,
   "metadata": {},
   "outputs": [],
   "source": [
    "df = d['tall_tidy']\n",
    "\n",
    "ids = d['IDs']"
   ]
  },
  {
   "cell_type": "code",
   "execution_count": 545,
   "metadata": {},
   "outputs": [
    {
     "data": {
      "text/html": [
       "<div>\n",
       "<style scoped>\n",
       "    .dataframe tbody tr th:only-of-type {\n",
       "        vertical-align: middle;\n",
       "    }\n",
       "\n",
       "    .dataframe tbody tr th {\n",
       "        vertical-align: top;\n",
       "    }\n",
       "\n",
       "    .dataframe thead th {\n",
       "        text-align: right;\n",
       "    }\n",
       "</style>\n",
       "<table border=\"1\" class=\"dataframe\">\n",
       "  <thead>\n",
       "    <tr style=\"text-align: right;\">\n",
       "      <th></th>\n",
       "      <th>row</th>\n",
       "      <th>col</th>\n",
       "      <th>OD700</th>\n",
       "      <th>RFP</th>\n",
       "      <th>CFP</th>\n",
       "      <th>YFP</th>\n",
       "      <th>time</th>\n",
       "    </tr>\n",
       "  </thead>\n",
       "  <tbody>\n",
       "    <tr>\n",
       "      <th>0</th>\n",
       "      <td>A</td>\n",
       "      <td>1</td>\n",
       "      <td>0.455</td>\n",
       "      <td>82</td>\n",
       "      <td>1299</td>\n",
       "      <td>71</td>\n",
       "      <td>0</td>\n",
       "    </tr>\n",
       "    <tr>\n",
       "      <th>1</th>\n",
       "      <td>A</td>\n",
       "      <td>2</td>\n",
       "      <td>0.061</td>\n",
       "      <td>28</td>\n",
       "      <td>70</td>\n",
       "      <td>6</td>\n",
       "      <td>0</td>\n",
       "    </tr>\n",
       "    <tr>\n",
       "      <th>2</th>\n",
       "      <td>A</td>\n",
       "      <td>3</td>\n",
       "      <td>0.447</td>\n",
       "      <td>64</td>\n",
       "      <td>1053</td>\n",
       "      <td>41</td>\n",
       "      <td>0</td>\n",
       "    </tr>\n",
       "    <tr>\n",
       "      <th>3</th>\n",
       "      <td>A</td>\n",
       "      <td>4</td>\n",
       "      <td>0.523</td>\n",
       "      <td>122</td>\n",
       "      <td>2299</td>\n",
       "      <td>94</td>\n",
       "      <td>0</td>\n",
       "    </tr>\n",
       "    <tr>\n",
       "      <th>4</th>\n",
       "      <td>A</td>\n",
       "      <td>5</td>\n",
       "      <td>0.543</td>\n",
       "      <td>7984</td>\n",
       "      <td>2500</td>\n",
       "      <td>111</td>\n",
       "      <td>0</td>\n",
       "    </tr>\n",
       "  </tbody>\n",
       "</table>\n",
       "</div>"
      ],
      "text/plain": [
       "  row  col  OD700   RFP   CFP  YFP time\n",
       "0   A    1  0.455    82  1299   71    0\n",
       "1   A    2  0.061    28    70    6    0\n",
       "2   A    3  0.447    64  1053   41    0\n",
       "3   A    4  0.523   122  2299   94    0\n",
       "4   A    5  0.543  7984  2500  111    0"
      ]
     },
     "execution_count": 545,
     "metadata": {},
     "output_type": "execute_result"
    }
   ],
   "source": [
    "df.head()"
   ]
  },
  {
   "cell_type": "code",
   "execution_count": 546,
   "metadata": {},
   "outputs": [
    {
     "data": {
      "text/html": [
       "<div>\n",
       "<style scoped>\n",
       "    .dataframe tbody tr th:only-of-type {\n",
       "        vertical-align: middle;\n",
       "    }\n",
       "\n",
       "    .dataframe tbody tr th {\n",
       "        vertical-align: top;\n",
       "    }\n",
       "\n",
       "    .dataframe thead th {\n",
       "        text-align: right;\n",
       "    }\n",
       "</style>\n",
       "<table border=\"1\" class=\"dataframe\">\n",
       "  <thead>\n",
       "    <tr style=\"text-align: right;\">\n",
       "      <th></th>\n",
       "      <th>row</th>\n",
       "      <th>cell</th>\n",
       "      <th>dil0</th>\n",
       "      <th>dile</th>\n",
       "    </tr>\n",
       "  </thead>\n",
       "  <tbody>\n",
       "    <tr>\n",
       "      <th>0</th>\n",
       "      <td>A</td>\n",
       "      <td>2c1r</td>\n",
       "      <td>10</td>\n",
       "      <td>10000</td>\n",
       "    </tr>\n",
       "    <tr>\n",
       "      <th>1</th>\n",
       "      <td>B</td>\n",
       "      <td>2c1r</td>\n",
       "      <td>10</td>\n",
       "      <td>10000</td>\n",
       "    </tr>\n",
       "    <tr>\n",
       "      <th>2</th>\n",
       "      <td>C</td>\n",
       "      <td>2c1r</td>\n",
       "      <td>100</td>\n",
       "      <td>100000</td>\n",
       "    </tr>\n",
       "    <tr>\n",
       "      <th>3</th>\n",
       "      <td>D</td>\n",
       "      <td>2c1r</td>\n",
       "      <td>100</td>\n",
       "      <td>100000</td>\n",
       "    </tr>\n",
       "    <tr>\n",
       "      <th>4</th>\n",
       "      <td>E</td>\n",
       "      <td>2c1r</td>\n",
       "      <td>1000</td>\n",
       "      <td>1000000</td>\n",
       "    </tr>\n",
       "  </tbody>\n",
       "</table>\n",
       "</div>"
      ],
      "text/plain": [
       "  row  cell  dil0     dile\n",
       "0   A  2c1r    10    10000\n",
       "1   B  2c1r    10    10000\n",
       "2   C  2c1r   100   100000\n",
       "3   D  2c1r   100   100000\n",
       "4   E  2c1r  1000  1000000"
      ]
     },
     "execution_count": 546,
     "metadata": {},
     "output_type": "execute_result"
    }
   ],
   "source": [
    "ids.head()"
   ]
  },
  {
   "cell_type": "code",
   "execution_count": 547,
   "metadata": {},
   "outputs": [],
   "source": [
    "stuff_to_add = ['cell', 'dil0', 'dile']\n",
    "stuff_to_check = ['row']\n",
    "\n",
    "for i in ids.index:\n",
    "    check = ids.loc[i, stuff_to_check]\n",
    "    \n",
    "    add = ids.loc[i, stuff_to_add]\n",
    "    \n",
    "    i1 = df[stuff_to_check[0]] == check[stuff_to_check[0]]\n",
    "    i = i1\n",
    "    if len(stuff_to_check) == 2:\n",
    "        i2 = df[stuff_to_check[1]] == check[stuff_to_check[1]]\n",
    "        i = i1&i2\n",
    "    \n",
    "    for a in add.index.tolist():\n",
    "        df.loc[i, a] = add[a]"
   ]
  },
  {
   "cell_type": "code",
   "execution_count": 548,
   "metadata": {},
   "outputs": [
    {
     "data": {
      "text/html": [
       "<div>\n",
       "<style scoped>\n",
       "    .dataframe tbody tr th:only-of-type {\n",
       "        vertical-align: middle;\n",
       "    }\n",
       "\n",
       "    .dataframe tbody tr th {\n",
       "        vertical-align: top;\n",
       "    }\n",
       "\n",
       "    .dataframe thead th {\n",
       "        text-align: right;\n",
       "    }\n",
       "</style>\n",
       "<table border=\"1\" class=\"dataframe\">\n",
       "  <thead>\n",
       "    <tr style=\"text-align: right;\">\n",
       "      <th></th>\n",
       "      <th>row</th>\n",
       "      <th>col</th>\n",
       "      <th>OD700</th>\n",
       "      <th>RFP</th>\n",
       "      <th>CFP</th>\n",
       "      <th>YFP</th>\n",
       "      <th>time</th>\n",
       "      <th>cell</th>\n",
       "      <th>dil0</th>\n",
       "      <th>dile</th>\n",
       "    </tr>\n",
       "  </thead>\n",
       "  <tbody>\n",
       "    <tr>\n",
       "      <th>0</th>\n",
       "      <td>A</td>\n",
       "      <td>1</td>\n",
       "      <td>0.455</td>\n",
       "      <td>82</td>\n",
       "      <td>1299</td>\n",
       "      <td>71</td>\n",
       "      <td>0</td>\n",
       "      <td>2c1r</td>\n",
       "      <td>10.0</td>\n",
       "      <td>10000.0</td>\n",
       "    </tr>\n",
       "    <tr>\n",
       "      <th>1</th>\n",
       "      <td>A</td>\n",
       "      <td>2</td>\n",
       "      <td>0.061</td>\n",
       "      <td>28</td>\n",
       "      <td>70</td>\n",
       "      <td>6</td>\n",
       "      <td>0</td>\n",
       "      <td>2c1r</td>\n",
       "      <td>10.0</td>\n",
       "      <td>10000.0</td>\n",
       "    </tr>\n",
       "    <tr>\n",
       "      <th>2</th>\n",
       "      <td>A</td>\n",
       "      <td>3</td>\n",
       "      <td>0.447</td>\n",
       "      <td>64</td>\n",
       "      <td>1053</td>\n",
       "      <td>41</td>\n",
       "      <td>0</td>\n",
       "      <td>2c1r</td>\n",
       "      <td>10.0</td>\n",
       "      <td>10000.0</td>\n",
       "    </tr>\n",
       "    <tr>\n",
       "      <th>3</th>\n",
       "      <td>A</td>\n",
       "      <td>4</td>\n",
       "      <td>0.523</td>\n",
       "      <td>122</td>\n",
       "      <td>2299</td>\n",
       "      <td>94</td>\n",
       "      <td>0</td>\n",
       "      <td>2c1r</td>\n",
       "      <td>10.0</td>\n",
       "      <td>10000.0</td>\n",
       "    </tr>\n",
       "    <tr>\n",
       "      <th>4</th>\n",
       "      <td>A</td>\n",
       "      <td>5</td>\n",
       "      <td>0.543</td>\n",
       "      <td>7984</td>\n",
       "      <td>2500</td>\n",
       "      <td>111</td>\n",
       "      <td>0</td>\n",
       "      <td>2c1r</td>\n",
       "      <td>10.0</td>\n",
       "      <td>10000.0</td>\n",
       "    </tr>\n",
       "  </tbody>\n",
       "</table>\n",
       "</div>"
      ],
      "text/plain": [
       "  row  col  OD700   RFP   CFP  YFP time  cell  dil0     dile\n",
       "0   A    1  0.455    82  1299   71    0  2c1r  10.0  10000.0\n",
       "1   A    2  0.061    28    70    6    0  2c1r  10.0  10000.0\n",
       "2   A    3  0.447    64  1053   41    0  2c1r  10.0  10000.0\n",
       "3   A    4  0.523   122  2299   94    0  2c1r  10.0  10000.0\n",
       "4   A    5  0.543  7984  2500  111    0  2c1r  10.0  10000.0"
      ]
     },
     "execution_count": 548,
     "metadata": {},
     "output_type": "execute_result"
    }
   ],
   "source": [
    "df.head()"
   ]
  },
  {
   "cell_type": "code",
   "execution_count": 549,
   "metadata": {},
   "outputs": [],
   "source": [
    "df['dil'] = np.nan\n",
    "\n",
    "#again a dumb loop over the whole thing instead of slicing, whatever it works\n",
    "for i in df.index:\n",
    "    \n",
    "    if df.loc[i, 'time'] == 0:\n",
    "        df.loc[i, 'dil'] = df.loc[i, 'dil0']\n",
    "    else:\n",
    "        df.loc[i, 'dil'] = df.loc[i, 'dile']"
   ]
  },
  {
   "cell_type": "code",
   "execution_count": 550,
   "metadata": {},
   "outputs": [],
   "source": [
    "df = df.drop(columns=['dil0', 'dile'])"
   ]
  },
  {
   "cell_type": "code",
   "execution_count": 551,
   "metadata": {},
   "outputs": [],
   "source": [
    "# df.to_csv(directory + 'tall_tidy_master.csv'.format(plate), index=False)"
   ]
  },
  {
   "cell_type": "markdown",
   "metadata": {},
   "source": [
    "# you're done, you can delete the existing tall_tidy sheet and replace it with this master sheet, then edit the name back to tall_tidy if you like"
   ]
  },
  {
   "cell_type": "code",
   "execution_count": null,
   "metadata": {},
   "outputs": [],
   "source": []
  }
 ],
 "metadata": {
  "kernelspec": {
   "display_name": "Python 3",
   "language": "python",
   "name": "python3"
  },
  "language_info": {
   "codemirror_mode": {
    "name": "ipython",
    "version": 3
   },
   "file_extension": ".py",
   "mimetype": "text/x-python",
   "name": "python",
   "nbconvert_exporter": "python",
   "pygments_lexer": "ipython3",
   "version": "3.6.7"
  }
 },
 "nbformat": 4,
 "nbformat_minor": 2
}
