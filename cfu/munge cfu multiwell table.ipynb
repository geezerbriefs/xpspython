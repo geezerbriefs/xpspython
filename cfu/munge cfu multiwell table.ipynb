{
 "cells": [
  {
   "cell_type": "code",
   "execution_count": 1,
   "metadata": {},
   "outputs": [],
   "source": [
    "import pandas as pd\n",
    "import numpy as np\n",
    "\n",
    "import itertools"
   ]
  },
  {
   "cell_type": "markdown",
   "metadata": {},
   "source": [
    "## open data"
   ]
  },
  {
   "cell_type": "code",
   "execution_count": 4,
   "metadata": {},
   "outputs": [],
   "source": [
    "directory = \"Z:/Reed/Projects/micro_consortia/DARPA_biocon/Task 1.1/A+pTet-ccdA/20200107 capnresc 4 count/echo cfu/\"\n",
    "\n",
    "filename = \"20200121 RM t0 capnresc 4.xlsx\"\n",
    "\n",
    "d = pd.read_excel(directory + filename, sheet_name=None)"
   ]
  },
  {
   "cell_type": "code",
   "execution_count": 5,
   "metadata": {
    "scrolled": true
   },
   "outputs": [
    {
     "data": {
      "text/plain": [
       "odict_keys(['plate1 no seal', 'plate2 with seal', 'plate2 no seal', 'plate3 with seal', 'plate3 no seal', 'Exp'])"
      ]
     },
     "execution_count": 5,
     "metadata": {},
     "output_type": "execute_result"
    }
   ],
   "source": [
    "d.keys()"
   ]
  },
  {
   "cell_type": "markdown",
   "metadata": {},
   "source": [
    "## get columns and rows named correctly"
   ]
  },
  {
   "cell_type": "code",
   "execution_count": 4,
   "metadata": {},
   "outputs": [],
   "source": [
    "#for more than a few plates\n",
    "\n",
    "plates = [x for x in d.keys() if '-' in x]\n",
    "plates = [x for x in plates if 'tidy' not in x]"
   ]
  },
  {
   "cell_type": "code",
   "execution_count": 6,
   "metadata": {},
   "outputs": [],
   "source": [
    "plates = [x for x in d.keys() if 'Exp' not in x]"
   ]
  },
  {
   "cell_type": "code",
   "execution_count": 8,
   "metadata": {},
   "outputs": [],
   "source": [
    "#get plate\n",
    "plate = plates[0]\n",
    "\n",
    "df = d[plate]\n",
    "\n",
    "#move the letter index in as column so you get numerical index for reference\n",
    "df = df.reset_index()\n",
    "\n",
    "#rename for clarity\n",
    "\n",
    "#make generic for different plate types\n",
    "rename = []\n",
    "for col in df.columns.tolist():\n",
    "    if isinstance(col, str):\n",
    "        if \"Unnamed\" in col:\n",
    "            rename.append(col)\n",
    "\n",
    "df = df.rename(columns={rename[0]: 'channel', 'index': 'row'})\n",
    "\n",
    "#reorder columns\n",
    "cols = df.columns.tolist()\n",
    "cols = cols[-1:] + cols[:-1]\n",
    "\n",
    "df = df[cols]"
   ]
  },
  {
   "cell_type": "code",
   "execution_count": 9,
   "metadata": {},
   "outputs": [],
   "source": [
    "# rows aren't all named with the row letter, fill the NaNs with the letter\n",
    "df['row'] = df['row'].fillna(method='ffill')\n",
    "\n",
    "#make the channel names easier\n",
    "split_channel_names = df['channel'].str.split(':', expand=True)\n",
    "\n",
    "df['ch'] = split_channel_names[0]\n",
    "\n",
    "#put the channel names where they're easy to see\n",
    "cols = df.columns.tolist()\n",
    "cols = cols[-1:] + cols[:-1]\n",
    "\n",
    "df = df[cols]\n",
    "\n",
    "#if there are overflow values, replace them\n",
    "\n",
    "df = df.replace({'OVRFLW': 99999})"
   ]
  },
  {
   "cell_type": "markdown",
   "metadata": {},
   "source": [
    "## break it into long form"
   ]
  },
  {
   "cell_type": "code",
   "execution_count": 11,
   "metadata": {},
   "outputs": [
    {
     "data": {
      "text/html": [
       "<div>\n",
       "<style scoped>\n",
       "    .dataframe tbody tr th:only-of-type {\n",
       "        vertical-align: middle;\n",
       "    }\n",
       "\n",
       "    .dataframe tbody tr th {\n",
       "        vertical-align: top;\n",
       "    }\n",
       "\n",
       "    .dataframe thead th {\n",
       "        text-align: right;\n",
       "    }\n",
       "</style>\n",
       "<table border=\"1\" class=\"dataframe\">\n",
       "  <thead>\n",
       "    <tr style=\"text-align: right;\">\n",
       "      <th></th>\n",
       "      <th>ch</th>\n",
       "      <th>channel</th>\n",
       "      <th>row</th>\n",
       "      <th>1</th>\n",
       "      <th>2</th>\n",
       "      <th>3</th>\n",
       "      <th>4</th>\n",
       "      <th>5</th>\n",
       "      <th>6</th>\n",
       "      <th>7</th>\n",
       "      <th>...</th>\n",
       "      <th>39</th>\n",
       "      <th>40</th>\n",
       "      <th>41</th>\n",
       "      <th>42</th>\n",
       "      <th>43</th>\n",
       "      <th>44</th>\n",
       "      <th>45</th>\n",
       "      <th>46</th>\n",
       "      <th>47</th>\n",
       "      <th>48</th>\n",
       "    </tr>\n",
       "  </thead>\n",
       "  <tbody>\n",
       "    <tr>\n",
       "      <th>0</th>\n",
       "      <td>OD700</td>\n",
       "      <td>OD700:700</td>\n",
       "      <td>A</td>\n",
       "      <td>0.401</td>\n",
       "      <td>0.385</td>\n",
       "      <td>0.402</td>\n",
       "      <td>0.383</td>\n",
       "      <td>0.398</td>\n",
       "      <td>0.388</td>\n",
       "      <td>0.533</td>\n",
       "      <td>...</td>\n",
       "      <td>0.367</td>\n",
       "      <td>0.358</td>\n",
       "      <td>0.374</td>\n",
       "      <td>0.364</td>\n",
       "      <td>0.373</td>\n",
       "      <td>0.352</td>\n",
       "      <td>0.368</td>\n",
       "      <td>0.377</td>\n",
       "      <td>0.373</td>\n",
       "      <td>0.369</td>\n",
       "    </tr>\n",
       "    <tr>\n",
       "      <th>1</th>\n",
       "      <td>OD700</td>\n",
       "      <td>OD700:700</td>\n",
       "      <td>B</td>\n",
       "      <td>0.430</td>\n",
       "      <td>0.381</td>\n",
       "      <td>0.401</td>\n",
       "      <td>0.379</td>\n",
       "      <td>0.415</td>\n",
       "      <td>0.384</td>\n",
       "      <td>0.417</td>\n",
       "      <td>...</td>\n",
       "      <td>0.391</td>\n",
       "      <td>0.353</td>\n",
       "      <td>0.391</td>\n",
       "      <td>0.358</td>\n",
       "      <td>0.383</td>\n",
       "      <td>0.353</td>\n",
       "      <td>0.401</td>\n",
       "      <td>0.373</td>\n",
       "      <td>0.399</td>\n",
       "      <td>0.365</td>\n",
       "    </tr>\n",
       "    <tr>\n",
       "      <th>2</th>\n",
       "      <td>OD700</td>\n",
       "      <td>OD700:700</td>\n",
       "      <td>C</td>\n",
       "      <td>0.431</td>\n",
       "      <td>0.379</td>\n",
       "      <td>0.428</td>\n",
       "      <td>0.384</td>\n",
       "      <td>0.419</td>\n",
       "      <td>0.372</td>\n",
       "      <td>0.421</td>\n",
       "      <td>...</td>\n",
       "      <td>0.405</td>\n",
       "      <td>0.346</td>\n",
       "      <td>0.389</td>\n",
       "      <td>0.352</td>\n",
       "      <td>0.388</td>\n",
       "      <td>0.355</td>\n",
       "      <td>0.384</td>\n",
       "      <td>0.365</td>\n",
       "      <td>0.400</td>\n",
       "      <td>0.357</td>\n",
       "    </tr>\n",
       "    <tr>\n",
       "      <th>3</th>\n",
       "      <td>OD700</td>\n",
       "      <td>OD700:700</td>\n",
       "      <td>D</td>\n",
       "      <td>0.440</td>\n",
       "      <td>0.373</td>\n",
       "      <td>0.437</td>\n",
       "      <td>0.374</td>\n",
       "      <td>0.416</td>\n",
       "      <td>0.365</td>\n",
       "      <td>0.415</td>\n",
       "      <td>...</td>\n",
       "      <td>0.403</td>\n",
       "      <td>0.345</td>\n",
       "      <td>0.399</td>\n",
       "      <td>0.341</td>\n",
       "      <td>0.389</td>\n",
       "      <td>0.340</td>\n",
       "      <td>0.387</td>\n",
       "      <td>0.348</td>\n",
       "      <td>0.396</td>\n",
       "      <td>0.345</td>\n",
       "    </tr>\n",
       "    <tr>\n",
       "      <th>4</th>\n",
       "      <td>OD700</td>\n",
       "      <td>OD700:700</td>\n",
       "      <td>E</td>\n",
       "      <td>0.418</td>\n",
       "      <td>0.358</td>\n",
       "      <td>0.438</td>\n",
       "      <td>0.362</td>\n",
       "      <td>0.653</td>\n",
       "      <td>0.341</td>\n",
       "      <td>0.646</td>\n",
       "      <td>...</td>\n",
       "      <td>0.383</td>\n",
       "      <td>0.312</td>\n",
       "      <td>0.373</td>\n",
       "      <td>0.329</td>\n",
       "      <td>0.368</td>\n",
       "      <td>0.311</td>\n",
       "      <td>0.363</td>\n",
       "      <td>0.317</td>\n",
       "      <td>0.378</td>\n",
       "      <td>0.322</td>\n",
       "    </tr>\n",
       "  </tbody>\n",
       "</table>\n",
       "<p>5 rows × 51 columns</p>\n",
       "</div>"
      ],
      "text/plain": [
       "      ch    channel row      1      2      3      4      5      6      7  \\\n",
       "0  OD700  OD700:700   A  0.401  0.385  0.402  0.383  0.398  0.388  0.533   \n",
       "1  OD700  OD700:700   B  0.430  0.381  0.401  0.379  0.415  0.384  0.417   \n",
       "2  OD700  OD700:700   C  0.431  0.379  0.428  0.384  0.419  0.372  0.421   \n",
       "3  OD700  OD700:700   D  0.440  0.373  0.437  0.374  0.416  0.365  0.415   \n",
       "4  OD700  OD700:700   E  0.418  0.358  0.438  0.362  0.653  0.341  0.646   \n",
       "\n",
       "   ...       39     40     41     42     43     44     45     46     47     48  \n",
       "0  ...    0.367  0.358  0.374  0.364  0.373  0.352  0.368  0.377  0.373  0.369  \n",
       "1  ...    0.391  0.353  0.391  0.358  0.383  0.353  0.401  0.373  0.399  0.365  \n",
       "2  ...    0.405  0.346  0.389  0.352  0.388  0.355  0.384  0.365  0.400  0.357  \n",
       "3  ...    0.403  0.345  0.399  0.341  0.389  0.340  0.387  0.348  0.396  0.345  \n",
       "4  ...    0.383  0.312  0.373  0.329  0.368  0.311  0.363  0.317  0.378  0.322  \n",
       "\n",
       "[5 rows x 51 columns]"
      ]
     },
     "execution_count": 11,
     "metadata": {},
     "output_type": "execute_result"
    }
   ],
   "source": [
    "df.head()"
   ]
  },
  {
   "cell_type": "code",
   "execution_count": 12,
   "metadata": {},
   "outputs": [],
   "source": [
    "df = pd.melt(df.drop(columns = 'channel'), id_vars=['ch', 'row'], var_name='col').sort_values(by=['row', 'col'])"
   ]
  },
  {
   "cell_type": "code",
   "execution_count": 14,
   "metadata": {},
   "outputs": [],
   "source": [
    "rs = df['row'].unique()\n",
    "cs = df['col'].unique()\n",
    "\n",
    "combos = list(itertools.product(rs, cs))"
   ]
  },
  {
   "cell_type": "code",
   "execution_count": 15,
   "metadata": {},
   "outputs": [],
   "source": [
    "put_together = []\n",
    "for comb in combos:\n",
    "    row, col = comb\n",
    "    \n",
    "    i = (df['row'] == row) & (df['col'] == col)\n",
    "    \n",
    "    part = df.loc[i]\n",
    "    channels = part['ch'].unique()\n",
    "    \n",
    "    one_row = {'row' : row, 'col' : col}\n",
    "    for chan in channels:\n",
    "       \n",
    "        i2 = (part['ch'] == chan)\n",
    "        \n",
    "        entry = {chan : part.loc[i2, 'value'].values[0]}\n",
    "        \n",
    "        \n",
    "        one_row.update(entry)\n",
    "\n",
    "        \n",
    "    x = pd.DataFrame(one_row, index=[0])\n",
    "        \n",
    "    put_together.append(x)"
   ]
  },
  {
   "cell_type": "code",
   "execution_count": 16,
   "metadata": {},
   "outputs": [],
   "source": [
    "df = pd.concat(put_together).reset_index(drop=True)"
   ]
  },
  {
   "cell_type": "code",
   "execution_count": 78,
   "metadata": {},
   "outputs": [],
   "source": [
    "# df.to_csv(directory + '{}_tidy.csv'.format(plate), index=False)"
   ]
  },
  {
   "cell_type": "markdown",
   "metadata": {},
   "source": [
    "# STOP, move the generated csv files into the master data file, then delete them. Also add any easy to generate information you need to the files"
   ]
  },
  {
   "cell_type": "markdown",
   "metadata": {},
   "source": [
    "## make a single table from all tidy ones"
   ]
  },
  {
   "cell_type": "code",
   "execution_count": 79,
   "metadata": {},
   "outputs": [],
   "source": [
    "#reopen file after the sheets have been added\n",
    "d = pd.read_excel(directory + filename, sheet_name=None)"
   ]
  },
  {
   "cell_type": "code",
   "execution_count": 80,
   "metadata": {},
   "outputs": [],
   "source": [
    "tidy = [x for x in d.keys() if 'tidy' in x]"
   ]
  },
  {
   "cell_type": "code",
   "execution_count": 82,
   "metadata": {},
   "outputs": [],
   "source": [
    "data_list = []\n",
    "\n",
    "for name in tidy:\n",
    "    data = d[name]\n",
    "    \n",
    "    data_list.append(data)"
   ]
  },
  {
   "cell_type": "code",
   "execution_count": 83,
   "metadata": {},
   "outputs": [],
   "source": [
    "# pd.concat(data_list).to_csv(directory + 'tall_tidy.csv', index=False)"
   ]
  },
  {
   "cell_type": "markdown",
   "metadata": {},
   "source": [
    "# STOP, move the generated csv file into the master data file, then delete it"
   ]
  },
  {
   "cell_type": "markdown",
   "metadata": {},
   "source": [
    "## associate the ID's"
   ]
  },
  {
   "cell_type": "code",
   "execution_count": 84,
   "metadata": {},
   "outputs": [],
   "source": [
    "#reopen file after the sheets have been added\n",
    "d = pd.read_excel(directory + filename, sheet_name=None)"
   ]
  },
  {
   "cell_type": "code",
   "execution_count": 85,
   "metadata": {},
   "outputs": [],
   "source": [
    "df = d['tall_tidy']\n",
    "\n",
    "ids = d['IDs']"
   ]
  },
  {
   "cell_type": "code",
   "execution_count": 86,
   "metadata": {},
   "outputs": [
    {
     "data": {
      "text/html": [
       "<div>\n",
       "<style scoped>\n",
       "    .dataframe tbody tr th:only-of-type {\n",
       "        vertical-align: middle;\n",
       "    }\n",
       "\n",
       "    .dataframe tbody tr th {\n",
       "        vertical-align: top;\n",
       "    }\n",
       "\n",
       "    .dataframe thead th {\n",
       "        text-align: right;\n",
       "    }\n",
       "</style>\n",
       "<table border=\"1\" class=\"dataframe\">\n",
       "  <thead>\n",
       "    <tr style=\"text-align: right;\">\n",
       "      <th></th>\n",
       "      <th>row</th>\n",
       "      <th>col</th>\n",
       "      <th>time</th>\n",
       "      <th>OD700</th>\n",
       "      <th>CFP</th>\n",
       "      <th>YFP</th>\n",
       "      <th>RFP</th>\n",
       "    </tr>\n",
       "  </thead>\n",
       "  <tbody>\n",
       "    <tr>\n",
       "      <th>0</th>\n",
       "      <td>A</td>\n",
       "      <td>1</td>\n",
       "      <td>0</td>\n",
       "      <td>0.401</td>\n",
       "      <td>2536</td>\n",
       "      <td>89</td>\n",
       "      <td>1406</td>\n",
       "    </tr>\n",
       "    <tr>\n",
       "      <th>1</th>\n",
       "      <td>A</td>\n",
       "      <td>2</td>\n",
       "      <td>0</td>\n",
       "      <td>0.378</td>\n",
       "      <td>1838</td>\n",
       "      <td>91</td>\n",
       "      <td>1390</td>\n",
       "    </tr>\n",
       "    <tr>\n",
       "      <th>2</th>\n",
       "      <td>A</td>\n",
       "      <td>3</td>\n",
       "      <td>0</td>\n",
       "      <td>0.634</td>\n",
       "      <td>32354</td>\n",
       "      <td>139</td>\n",
       "      <td>1662</td>\n",
       "    </tr>\n",
       "    <tr>\n",
       "      <th>3</th>\n",
       "      <td>A</td>\n",
       "      <td>4</td>\n",
       "      <td>0</td>\n",
       "      <td>0.609</td>\n",
       "      <td>31674</td>\n",
       "      <td>135</td>\n",
       "      <td>1582</td>\n",
       "    </tr>\n",
       "    <tr>\n",
       "      <th>4</th>\n",
       "      <td>A</td>\n",
       "      <td>5</td>\n",
       "      <td>0</td>\n",
       "      <td>0.593</td>\n",
       "      <td>28726</td>\n",
       "      <td>141</td>\n",
       "      <td>1729</td>\n",
       "    </tr>\n",
       "  </tbody>\n",
       "</table>\n",
       "</div>"
      ],
      "text/plain": [
       "  row  col time  OD700    CFP  YFP   RFP\n",
       "0   A    1    0  0.401   2536   89  1406\n",
       "1   A    2    0  0.378   1838   91  1390\n",
       "2   A    3    0  0.634  32354  139  1662\n",
       "3   A    4    0  0.609  31674  135  1582\n",
       "4   A    5    0  0.593  28726  141  1729"
      ]
     },
     "execution_count": 86,
     "metadata": {},
     "output_type": "execute_result"
    }
   ],
   "source": [
    "df.head()"
   ]
  },
  {
   "cell_type": "code",
   "execution_count": 87,
   "metadata": {},
   "outputs": [
    {
     "data": {
      "text/html": [
       "<div>\n",
       "<style scoped>\n",
       "    .dataframe tbody tr th:only-of-type {\n",
       "        vertical-align: middle;\n",
       "    }\n",
       "\n",
       "    .dataframe tbody tr th {\n",
       "        vertical-align: top;\n",
       "    }\n",
       "\n",
       "    .dataframe thead th {\n",
       "        text-align: right;\n",
       "    }\n",
       "</style>\n",
       "<table border=\"1\" class=\"dataframe\">\n",
       "  <thead>\n",
       "    <tr style=\"text-align: right;\">\n",
       "      <th></th>\n",
       "      <th>row</th>\n",
       "      <th>cell</th>\n",
       "      <th>dil0</th>\n",
       "      <th>dile</th>\n",
       "    </tr>\n",
       "  </thead>\n",
       "  <tbody>\n",
       "    <tr>\n",
       "      <th>0</th>\n",
       "      <td>A</td>\n",
       "      <td>2c1r</td>\n",
       "      <td>10</td>\n",
       "      <td>10000</td>\n",
       "    </tr>\n",
       "    <tr>\n",
       "      <th>1</th>\n",
       "      <td>B</td>\n",
       "      <td>2c1r</td>\n",
       "      <td>10</td>\n",
       "      <td>10000</td>\n",
       "    </tr>\n",
       "    <tr>\n",
       "      <th>2</th>\n",
       "      <td>C</td>\n",
       "      <td>2c1r</td>\n",
       "      <td>100</td>\n",
       "      <td>100000</td>\n",
       "    </tr>\n",
       "    <tr>\n",
       "      <th>3</th>\n",
       "      <td>D</td>\n",
       "      <td>2c1r</td>\n",
       "      <td>100</td>\n",
       "      <td>100000</td>\n",
       "    </tr>\n",
       "    <tr>\n",
       "      <th>4</th>\n",
       "      <td>E</td>\n",
       "      <td>2c1r</td>\n",
       "      <td>1000</td>\n",
       "      <td>1000000</td>\n",
       "    </tr>\n",
       "  </tbody>\n",
       "</table>\n",
       "</div>"
      ],
      "text/plain": [
       "  row  cell  dil0     dile\n",
       "0   A  2c1r    10    10000\n",
       "1   B  2c1r    10    10000\n",
       "2   C  2c1r   100   100000\n",
       "3   D  2c1r   100   100000\n",
       "4   E  2c1r  1000  1000000"
      ]
     },
     "execution_count": 87,
     "metadata": {},
     "output_type": "execute_result"
    }
   ],
   "source": [
    "ids.head()"
   ]
  },
  {
   "cell_type": "code",
   "execution_count": 88,
   "metadata": {},
   "outputs": [],
   "source": [
    "stuff_to_add = ['cell', 'dil0', 'dile']\n",
    "stuff_to_check = ['row']\n",
    "\n",
    "for i in ids.index:\n",
    "    check = ids.loc[i, stuff_to_check]\n",
    "    \n",
    "    add = ids.loc[i, stuff_to_add]\n",
    "    \n",
    "    i1 = df[stuff_to_check[0]] == check[stuff_to_check[0]]\n",
    "    i = i1\n",
    "    if len(stuff_to_check) == 2:\n",
    "        i2 = df[stuff_to_check[1]] == check[stuff_to_check[1]]\n",
    "        i = i1&i2\n",
    "    \n",
    "    for a in add.index.tolist():\n",
    "        df.loc[i, a] = add[a]"
   ]
  },
  {
   "cell_type": "code",
   "execution_count": 89,
   "metadata": {},
   "outputs": [
    {
     "data": {
      "text/html": [
       "<div>\n",
       "<style scoped>\n",
       "    .dataframe tbody tr th:only-of-type {\n",
       "        vertical-align: middle;\n",
       "    }\n",
       "\n",
       "    .dataframe tbody tr th {\n",
       "        vertical-align: top;\n",
       "    }\n",
       "\n",
       "    .dataframe thead th {\n",
       "        text-align: right;\n",
       "    }\n",
       "</style>\n",
       "<table border=\"1\" class=\"dataframe\">\n",
       "  <thead>\n",
       "    <tr style=\"text-align: right;\">\n",
       "      <th></th>\n",
       "      <th>row</th>\n",
       "      <th>col</th>\n",
       "      <th>time</th>\n",
       "      <th>OD700</th>\n",
       "      <th>CFP</th>\n",
       "      <th>YFP</th>\n",
       "      <th>RFP</th>\n",
       "      <th>cell</th>\n",
       "      <th>dil0</th>\n",
       "      <th>dile</th>\n",
       "    </tr>\n",
       "  </thead>\n",
       "  <tbody>\n",
       "    <tr>\n",
       "      <th>0</th>\n",
       "      <td>A</td>\n",
       "      <td>1</td>\n",
       "      <td>0</td>\n",
       "      <td>0.401</td>\n",
       "      <td>2536</td>\n",
       "      <td>89</td>\n",
       "      <td>1406</td>\n",
       "      <td>2c1r</td>\n",
       "      <td>10.0</td>\n",
       "      <td>10000.0</td>\n",
       "    </tr>\n",
       "    <tr>\n",
       "      <th>1</th>\n",
       "      <td>A</td>\n",
       "      <td>2</td>\n",
       "      <td>0</td>\n",
       "      <td>0.378</td>\n",
       "      <td>1838</td>\n",
       "      <td>91</td>\n",
       "      <td>1390</td>\n",
       "      <td>2c1r</td>\n",
       "      <td>10.0</td>\n",
       "      <td>10000.0</td>\n",
       "    </tr>\n",
       "    <tr>\n",
       "      <th>2</th>\n",
       "      <td>A</td>\n",
       "      <td>3</td>\n",
       "      <td>0</td>\n",
       "      <td>0.634</td>\n",
       "      <td>32354</td>\n",
       "      <td>139</td>\n",
       "      <td>1662</td>\n",
       "      <td>2c1r</td>\n",
       "      <td>10.0</td>\n",
       "      <td>10000.0</td>\n",
       "    </tr>\n",
       "    <tr>\n",
       "      <th>3</th>\n",
       "      <td>A</td>\n",
       "      <td>4</td>\n",
       "      <td>0</td>\n",
       "      <td>0.609</td>\n",
       "      <td>31674</td>\n",
       "      <td>135</td>\n",
       "      <td>1582</td>\n",
       "      <td>2c1r</td>\n",
       "      <td>10.0</td>\n",
       "      <td>10000.0</td>\n",
       "    </tr>\n",
       "    <tr>\n",
       "      <th>4</th>\n",
       "      <td>A</td>\n",
       "      <td>5</td>\n",
       "      <td>0</td>\n",
       "      <td>0.593</td>\n",
       "      <td>28726</td>\n",
       "      <td>141</td>\n",
       "      <td>1729</td>\n",
       "      <td>2c1r</td>\n",
       "      <td>10.0</td>\n",
       "      <td>10000.0</td>\n",
       "    </tr>\n",
       "  </tbody>\n",
       "</table>\n",
       "</div>"
      ],
      "text/plain": [
       "  row  col time  OD700    CFP  YFP   RFP  cell  dil0     dile\n",
       "0   A    1    0  0.401   2536   89  1406  2c1r  10.0  10000.0\n",
       "1   A    2    0  0.378   1838   91  1390  2c1r  10.0  10000.0\n",
       "2   A    3    0  0.634  32354  139  1662  2c1r  10.0  10000.0\n",
       "3   A    4    0  0.609  31674  135  1582  2c1r  10.0  10000.0\n",
       "4   A    5    0  0.593  28726  141  1729  2c1r  10.0  10000.0"
      ]
     },
     "execution_count": 89,
     "metadata": {},
     "output_type": "execute_result"
    }
   ],
   "source": [
    "df.head()"
   ]
  },
  {
   "cell_type": "code",
   "execution_count": 90,
   "metadata": {},
   "outputs": [],
   "source": [
    "df['dil'] = np.nan\n",
    "\n",
    "#again a dumb loop over the whole thing instead of slicing, whatever it works\n",
    "for t in df['time'].unique():\n",
    "    \n",
    "    where = df['time'] == t\n",
    "    \n",
    "    if t == 0:\n",
    "        df.loc[where, 'dil'] = df.loc[where, 'dil0']\n",
    "    else:\n",
    "        df.loc[where, 'dil'] = df.loc[where, 'dile']"
   ]
  },
  {
   "cell_type": "code",
   "execution_count": 92,
   "metadata": {},
   "outputs": [],
   "source": [
    "df = df.drop(columns=['dil0', 'dile'])"
   ]
  },
  {
   "cell_type": "code",
   "execution_count": 93,
   "metadata": {},
   "outputs": [],
   "source": [
    "# df.to_csv(directory + 'tall_tidy_master.csv'.format(plate), index=False)"
   ]
  },
  {
   "cell_type": "markdown",
   "metadata": {},
   "source": [
    "# you're done, you can delete the existing tall_tidy sheet and replace it with this master sheet, then edit the name back to tall_tidy if you like"
   ]
  }
 ],
 "metadata": {
  "kernelspec": {
   "display_name": "Python 3",
   "language": "python",
   "name": "python3"
  },
  "language_info": {
   "codemirror_mode": {
    "name": "ipython",
    "version": 3
   },
   "file_extension": ".py",
   "mimetype": "text/x-python",
   "name": "python",
   "nbconvert_exporter": "python",
   "pygments_lexer": "ipython3",
   "version": "3.6.7"
  }
 },
 "nbformat": 4,
 "nbformat_minor": 2
}
