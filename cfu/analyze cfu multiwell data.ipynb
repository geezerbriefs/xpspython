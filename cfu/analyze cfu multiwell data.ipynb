{
 "cells": [
  {
   "cell_type": "code",
   "execution_count": 142,
   "metadata": {},
   "outputs": [],
   "source": [
    "import pandas as pd\n",
    "import numpy as np\n",
    "\n",
    "import seaborn as sns\n",
    "import matplotlib.pyplot as plt\n",
    "\n",
    "import scipy.stats as stats\n",
    "import scipy.signal as signal\n",
    "\n",
    "from sklearn.neighbors import KernelDensity\n",
    "from sklearn.mixture import GaussianMixture"
   ]
  },
  {
   "cell_type": "markdown",
   "metadata": {},
   "source": [
    "## get data"
   ]
  },
  {
   "cell_type": "code",
   "execution_count": 143,
   "metadata": {},
   "outputs": [],
   "source": [
    "directory = 'Z:/Reed/Projects/lab misc/echo_cfu_count/'\n",
    "\n",
    "file = '20200123 1536 echu cfu test.xlsx'"
   ]
  },
  {
   "cell_type": "code",
   "execution_count": 144,
   "metadata": {},
   "outputs": [],
   "source": [
    "d = pd.read_excel(directory + file, sheet_name=None)"
   ]
  },
  {
   "cell_type": "code",
   "execution_count": 145,
   "metadata": {},
   "outputs": [
    {
     "data": {
      "text/plain": [
       "odict_keys(['Plate 1', 'Plate 2', 'Plate 3', 'Plate 4', 't0 seal', 't0', 'te', 'tef', 't0_tidy', 'te_tidy', 'tef_tidy', 'tall_tidy', 'IDs'])"
      ]
     },
     "execution_count": 145,
     "metadata": {},
     "output_type": "execute_result"
    }
   ],
   "source": [
    "d.keys()"
   ]
  },
  {
   "cell_type": "code",
   "execution_count": 146,
   "metadata": {},
   "outputs": [],
   "source": [
    "df = d['tall_tidy']"
   ]
  },
  {
   "cell_type": "code",
   "execution_count": 147,
   "metadata": {},
   "outputs": [
    {
     "data": {
      "text/html": [
       "<div>\n",
       "<style scoped>\n",
       "    .dataframe tbody tr th:only-of-type {\n",
       "        vertical-align: middle;\n",
       "    }\n",
       "\n",
       "    .dataframe tbody tr th {\n",
       "        vertical-align: top;\n",
       "    }\n",
       "\n",
       "    .dataframe thead th {\n",
       "        text-align: right;\n",
       "    }\n",
       "</style>\n",
       "<table border=\"1\" class=\"dataframe\">\n",
       "  <thead>\n",
       "    <tr style=\"text-align: right;\">\n",
       "      <th></th>\n",
       "      <th>row</th>\n",
       "      <th>col</th>\n",
       "      <th>OD700</th>\n",
       "      <th>RFP</th>\n",
       "      <th>CFP</th>\n",
       "      <th>YFP</th>\n",
       "      <th>time</th>\n",
       "      <th>cell</th>\n",
       "      <th>dil</th>\n",
       "    </tr>\n",
       "  </thead>\n",
       "  <tbody>\n",
       "    <tr>\n",
       "      <th>0</th>\n",
       "      <td>A</td>\n",
       "      <td>1</td>\n",
       "      <td>0.455</td>\n",
       "      <td>82</td>\n",
       "      <td>1299</td>\n",
       "      <td>71</td>\n",
       "      <td>0</td>\n",
       "      <td>2c1r</td>\n",
       "      <td>10</td>\n",
       "    </tr>\n",
       "    <tr>\n",
       "      <th>1</th>\n",
       "      <td>A</td>\n",
       "      <td>2</td>\n",
       "      <td>0.061</td>\n",
       "      <td>28</td>\n",
       "      <td>70</td>\n",
       "      <td>6</td>\n",
       "      <td>0</td>\n",
       "      <td>2c1r</td>\n",
       "      <td>10</td>\n",
       "    </tr>\n",
       "    <tr>\n",
       "      <th>2</th>\n",
       "      <td>A</td>\n",
       "      <td>3</td>\n",
       "      <td>0.447</td>\n",
       "      <td>64</td>\n",
       "      <td>1053</td>\n",
       "      <td>41</td>\n",
       "      <td>0</td>\n",
       "      <td>2c1r</td>\n",
       "      <td>10</td>\n",
       "    </tr>\n",
       "    <tr>\n",
       "      <th>3</th>\n",
       "      <td>A</td>\n",
       "      <td>4</td>\n",
       "      <td>0.523</td>\n",
       "      <td>122</td>\n",
       "      <td>2299</td>\n",
       "      <td>94</td>\n",
       "      <td>0</td>\n",
       "      <td>2c1r</td>\n",
       "      <td>10</td>\n",
       "    </tr>\n",
       "    <tr>\n",
       "      <th>4</th>\n",
       "      <td>A</td>\n",
       "      <td>5</td>\n",
       "      <td>0.543</td>\n",
       "      <td>7984</td>\n",
       "      <td>2500</td>\n",
       "      <td>111</td>\n",
       "      <td>0</td>\n",
       "      <td>2c1r</td>\n",
       "      <td>10</td>\n",
       "    </tr>\n",
       "  </tbody>\n",
       "</table>\n",
       "</div>"
      ],
      "text/plain": [
       "  row  col  OD700   RFP   CFP  YFP time  cell  dil\n",
       "0   A    1  0.455    82  1299   71    0  2c1r   10\n",
       "1   A    2  0.061    28    70    6    0  2c1r   10\n",
       "2   A    3  0.447    64  1053   41    0  2c1r   10\n",
       "3   A    4  0.523   122  2299   94    0  2c1r   10\n",
       "4   A    5  0.543  7984  2500  111    0  2c1r   10"
      ]
     },
     "execution_count": 147,
     "metadata": {},
     "output_type": "execute_result"
    }
   ],
   "source": [
    "df.head()"
   ]
  },
  {
   "cell_type": "markdown",
   "metadata": {},
   "source": [
    "## take out a condition to test"
   ]
  },
  {
   "cell_type": "code",
   "execution_count": 148,
   "metadata": {},
   "outputs": [],
   "source": [
    "#if you just want to take one plate, give the appropriate thing here\n",
    "plate = 0\n",
    "\n",
    "#if you want to do subconditions\n",
    "subcond = False\n",
    "\n",
    "cell = '2c1y'\n",
    "time = 0\n",
    "dil = 10000\n",
    "meas = 'OD700'"
   ]
  },
  {
   "cell_type": "code",
   "execution_count": 149,
   "metadata": {},
   "outputs": [],
   "source": [
    "if subcond == True:\n",
    "\n",
    "    i1 = df['cell'] == cell\n",
    "    i2 = df['time'] == time\n",
    "    i3 = df['dil'] == dil\n",
    "\n",
    "    i = i1 & i2 & i3\n",
    "    \n",
    "else:\n",
    "    #depending on the experiment, you will have to edit this line to get one plate\n",
    "    i = df['time'] == plate\n",
    "\n",
    "sub = df.loc[i, meas]"
   ]
  },
  {
   "cell_type": "code",
   "execution_count": 150,
   "metadata": {},
   "outputs": [
    {
     "data": {
      "text/plain": [
       "0       0.455\n",
       "1       0.061\n",
       "2       0.447\n",
       "3       0.523\n",
       "4       0.543\n",
       "5       0.481\n",
       "6       0.587\n",
       "7       0.506\n",
       "8       0.523\n",
       "9       0.535\n",
       "10      0.554\n",
       "11      0.607\n",
       "12      0.529\n",
       "13      0.502\n",
       "14      0.576\n",
       "15      0.563\n",
       "16      0.570\n",
       "17      0.633\n",
       "18      0.570\n",
       "19      0.500\n",
       "20      0.513\n",
       "21      0.489\n",
       "22      0.435\n",
       "23      0.484\n",
       "24      0.553\n",
       "25      0.558\n",
       "26      0.530\n",
       "27      0.492\n",
       "28      0.601\n",
       "29      0.516\n",
       "        ...  \n",
       "1506    0.474\n",
       "1507    0.427\n",
       "1508    0.475\n",
       "1509    0.440\n",
       "1510    0.494\n",
       "1511    0.444\n",
       "1512    0.443\n",
       "1513    0.417\n",
       "1514    0.478\n",
       "1515    0.408\n",
       "1516    0.462\n",
       "1517    0.467\n",
       "1518    0.497\n",
       "1519    0.462\n",
       "1520    0.480\n",
       "1521    0.435\n",
       "1522    0.480\n",
       "1523    0.453\n",
       "1524    0.437\n",
       "1525    0.433\n",
       "1526    0.426\n",
       "1527    0.450\n",
       "1528    0.454\n",
       "1529    0.407\n",
       "1530    0.460\n",
       "1531    0.390\n",
       "1532    0.451\n",
       "1533    0.398\n",
       "1534    0.478\n",
       "1535    0.384\n",
       "Name: OD700, Length: 1536, dtype: float64"
      ]
     },
     "execution_count": 150,
     "metadata": {},
     "output_type": "execute_result"
    }
   ],
   "source": [
    "sub"
   ]
  },
  {
   "cell_type": "code",
   "execution_count": 151,
   "metadata": {},
   "outputs": [
    {
     "data": {
      "image/png": "[encoded data removed]",
      "text/plain": [
       "<Figure size 432x288 with 1 Axes>"
      ]
     },
     "metadata": {
      "needs_background": "light"
     },
     "output_type": "display_data"
    }
   ],
   "source": [
    "ax = sns.stripplot(x=sub)"
   ]
  },
  {
   "cell_type": "markdown",
   "metadata": {},
   "source": [
    "## start making GMM models"
   ]
  },
  {
   "cell_type": "code",
   "execution_count": 152,
   "metadata": {},
   "outputs": [],
   "source": [
    "def get_peak_locations_from_KDE_fit(data, plot=True):\n",
    "    ''' Performs a KDE fit and then uses scipy.signal.find_peaks_cwt to get peaks.\n",
    "        The KDE bandwith parameter is critical, and 0.025 seems appropriate for OD700 data that isn't very widely\n",
    "        distributed (is only between 0 and 1). \n",
    "        If it feels like you are missing many peak calls, decrease the bandwith. If it feels\n",
    "        like you are having too many peak calls, increase the bandwith. \n",
    "        \n",
    "        Don't change the bandwith without good reason, but one bandwidth will not be appropriate for all data\n",
    "        \n",
    "        more discussion of bandwidth and kde found here:\n",
    "            #explanation of what it is and what parameters exist\n",
    "        https://mglerner.github.io/posts/histograms-and-kernel-density-estimation-kde-2.html?p=28\n",
    "        https://mathisonian.github.io/kde/\n",
    "            #implementations\n",
    "        https://jakevdp.github.io/blog/2013/12/01/kernel-density-estimation/\n",
    "        \n",
    "        \n",
    "        Additionally, the widths given for the wavelets (i think) used in the wavelet convolution peak finder\n",
    "        are critical as well, they should cover the approximate possible widths of your peaks. This is as critical\n",
    "        as the bandwidth parameter in the kde and will affect the accuracy of peak finding. If your kde bandwidth\n",
    "        produces a smooth enough kde function, you can probably just use a simpler function like scipy.signal.find_peaks\n",
    "        that just finds all local maxima by comparing values. Haven't tested the simpler algorithm yet.\n",
    "        \n",
    "        '''\n",
    "                        #critical param, fiddle with it to avoid oversmoothing (too large)\n",
    "                        #or undersmoothing (too small) and just getting the distribution back\n",
    "                        #think of this like adjusting histogram bin size\n",
    "    kde = KernelDensity(bandwidth=0.025, kernel='gaussian')\n",
    "\n",
    "    kde.fit(sub[:, None]);\n",
    "\n",
    "    #no points in our OD700 data exceed value 1, so it is unnecessary to score values far outside of that\n",
    "    #doing so will probably ruin your peak estimation\n",
    "    x_est = np.linspace(0,1.0,1000)\n",
    "\n",
    "    log_dens = kde.score_samples(x_est[:,None])\n",
    "\n",
    "    #Use the SciPy function to get the KDE peaks\n",
    "                                                #critical param. if too small, will pick up \"peaks\" that are tiny or not\n",
    "                                                #really there. If too large, will be very innacurate.\n",
    "    peaks = signal.find_peaks_cwt(log_dens, np.arange(0.1, 0.5), min_snr=1)\n",
    "\n",
    "    means_init = []\n",
    "    \n",
    "    for peak in peaks:\n",
    "        means_init.append(x_est[peak])\n",
    "    \n",
    "        #plot the KDE and peaks so you can check\n",
    "    if plot==True:\n",
    "        fig, ax = plt.subplots()\n",
    "\n",
    "        ax.plot(x_est, np.exp(log_dens))\n",
    "        ax.hist(data, density=True);\n",
    "        for m in means_init:\n",
    "            ax.axvline(m)\n",
    "    \n",
    "    \n",
    "    return means_init, fig"
   ]
  },
  {
   "cell_type": "code",
   "execution_count": 153,
   "metadata": {},
   "outputs": [],
   "source": [
    "def fit_GMM_KDE(data, peaks): \n",
    "    \"\"\"Generate a Gaussian mixture model from the output\n",
    "    of a Gaussian Kernel Density Estimation. \n",
    "    \n",
    "    Outputs the mean of the on peak, fraction on, mean of the off peak, \n",
    "    and fraction off. This version of the code assumes all cells not in the on peak are off!\n",
    "    This is obviously only a good assumption for uni/bimodal data. If you have multimodal data,\n",
    "    do not use this code.\"\"\"\n",
    "    \n",
    "    #since you're passing a series instead of an array, convert to an array in format that Gaussian Mixture likes\n",
    "    data = data.values.reshape(len(sub), 1)\n",
    "\n",
    "    #peaks are passed as a list, so make them an array in proper format\n",
    "    peaks = np.array(peaks).reshape(len(peaks), 1)\n",
    "    \n",
    "    #create the GMM with components equal to number of peaks found in your KDE fit, with initial means equal\n",
    "    #to the peaks you founs\n",
    "    opt_gmm = GaussianMixture(n_components = len(peaks) , means_init = peaks).fit(data)  \n",
    "\n",
    "    #built in method to predict the gaussian to which each data point belongs\n",
    "    labels = opt_gmm.predict(data)\n",
    "    labels = np.ravel(labels.reshape(len(labels), 1))\n",
    "\n",
    "    means = opt_gmm.means_\n",
    "    \n",
    "    #this df contains each measurement value and the gaussian it is associated with.\n",
    "    #you can use this to pull out the measurements that fall into the desired gaussian for gating.\n",
    "    df = pd.DataFrame({'value': np.ravel(data), 'which_gaussian': labels})\n",
    "        \n",
    "        \n",
    "    return df, means"
   ]
  },
  {
   "cell_type": "code",
   "execution_count": 154,
   "metadata": {},
   "outputs": [],
   "source": [
    "def assign_gmmpeak_kdefit (data, show_plots=True):\n",
    "    \n",
    "    peaks, fig = get_peak_locations_from_KDE_fit(data, show_plots)\n",
    "    \n",
    "    assignment, new_means = fit_GMM_KDE(sub, peaks)\n",
    "    \n",
    "    if show_plots == True:\n",
    "        ax = fig.get_axes()[0]\n",
    "        \n",
    "        #just a list that should be too long so you can subsample it later. The number of peaks can't exceed this len\n",
    "        colors = ['r', 'g', 'b', 'k']\n",
    "\n",
    "        for i in range(len(new_means)):\n",
    "            d = assignment.loc[assignment['which_gaussian'] == i, 'value']\n",
    "            ax.eventplot(positions=d, color=colors[i], linelengths=0.5, lineoffsets=0, linewidths=0.25)\n",
    "            ax.axvline(new_means[i], linestyle = '--')\n",
    "            \n",
    "    return assignment, new_means, peaks, fig"
   ]
  },
  {
   "cell_type": "code",
   "execution_count": 155,
   "metadata": {},
   "outputs": [
    {
     "name": "stderr",
     "output_type": "stream",
     "text": [
      "C:\\Users\\geeze\\Anaconda3\\lib\\site-packages\\scipy\\stats\\stats.py:1713: FutureWarning: Using a non-tuple sequence for multidimensional indexing is deprecated; use `arr[tuple(seq)]` instead of `arr[seq]`. In the future this will be interpreted as an array index, `arr[np.array(seq)]`, which will result either in an error or a different result.\n",
      "  return np.add.reduce(sorted[indexer] * weights, axis=axis) / sumval\n"
     ]
    },
    {
     "data": {
      "image/png": "[encoded data removed]",
      "text/plain": [
       "<Figure size 432x288 with 1 Axes>"
      ]
     },
     "metadata": {
      "needs_background": "light"
     },
     "output_type": "display_data"
    }
   ],
   "source": [
    "assignment, new_means, peaks, fig = assign_gmmpeak_kdefit(sub)"
   ]
  },
  {
   "cell_type": "code",
   "execution_count": 156,
   "metadata": {},
   "outputs": [
    {
     "data": {
      "text/plain": [
       "[0.27927927927927926, 0.46446446446446443]"
      ]
     },
     "execution_count": 156,
     "metadata": {},
     "output_type": "execute_result"
    }
   ],
   "source": [
    "peaks"
   ]
  },
  {
   "cell_type": "code",
   "execution_count": 157,
   "metadata": {},
   "outputs": [
    {
     "data": {
      "text/plain": [
       "649"
      ]
     },
     "execution_count": 157,
     "metadata": {},
     "output_type": "execute_result"
    }
   ],
   "source": [
    "assignment['which_gaussian'].sum()"
   ]
  },
  {
   "cell_type": "code",
   "execution_count": 158,
   "metadata": {},
   "outputs": [
    {
     "data": {
      "text/plain": [
       "1536"
      ]
     },
     "execution_count": 158,
     "metadata": {},
     "output_type": "execute_result"
    }
   ],
   "source": [
    "len(assignment['which_gaussian'])"
   ]
  },
  {
   "cell_type": "code",
   "execution_count": null,
   "metadata": {},
   "outputs": [],
   "source": []
  }
 ],
 "metadata": {
  "kernelspec": {
   "display_name": "Python 3",
   "language": "python",
   "name": "python3"
  },
  "language_info": {
   "codemirror_mode": {
    "name": "ipython",
    "version": 3
   },
   "file_extension": ".py",
   "mimetype": "text/x-python",
   "name": "python",
   "nbconvert_exporter": "python",
   "pygments_lexer": "ipython3",
   "version": "3.6.7"
  }
 },
 "nbformat": 4,
 "nbformat_minor": 2
}
