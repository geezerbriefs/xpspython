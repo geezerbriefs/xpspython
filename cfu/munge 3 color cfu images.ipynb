{
 "cells": [
  {
   "cell_type": "code",
   "execution_count": 1,
   "metadata": {},
   "outputs": [],
   "source": [
    "import numpy as np\n",
    "import os\n",
    "import glob\n",
    "import pandas as pd\n",
    "\n",
    "# Image processing tools\n",
    "import skimage\n",
    "import skimage.io\n",
    "import skimage.filters\n",
    "import skimage.morphology\n",
    "\n",
    "# import bokeh\n",
    "# import bokeh.io #for some reason have to separately import bokeh.io\n",
    "# bokeh.io.output_notebook()"
   ]
  },
  {
   "cell_type": "markdown",
   "metadata": {},
   "source": [
    "# rename folders to change _# into a well name"
   ]
  },
  {
   "cell_type": "code",
   "execution_count": 2,
   "metadata": {},
   "outputs": [],
   "source": [
    "def get_tuples_of_interest (dirpath):\n",
    "    \n",
    "    #get only terminal directories that will have images in them, walk also reports the parent directory its told to walk in\n",
    "    #and we want to get rid of that\n",
    "    tuples_of_interest = []\n",
    "    for entry in list(os.walk(dirpath)):\n",
    "        #if there are no subdirectories in this folder (meaning its a terminal directory that has image files in it)\n",
    "        if not entry[1]:\n",
    "            #tuples contain [0] the path for the directory, [1] any subdirectories in this one, [2] files in this directory\n",
    "            tuples_of_interest.append(entry)\n",
    "            \n",
    "    return tuples_of_interest"
   ]
  },
  {
   "cell_type": "code",
   "execution_count": 3,
   "metadata": {},
   "outputs": [],
   "source": [
    "directory = 'C:/Users/geeze/Desktop/images/'\n",
    "\n",
    "tuples_of_interest = get_tuples_of_interest(directory)"
   ]
  },
  {
   "cell_type": "code",
   "execution_count": 4,
   "metadata": {},
   "outputs": [
    {
     "data": {
      "text/plain": [
       "48"
      ]
     },
     "execution_count": 4,
     "metadata": {},
     "output_type": "execute_result"
    }
   ],
   "source": [
    "len(tuples_of_interest)"
   ]
  },
  {
   "cell_type": "code",
   "execution_count": 5,
   "metadata": {},
   "outputs": [
    {
     "data": {
      "text/plain": [
       "['C:', 'Users', 'geeze', 'Desktop', 'images', 't0 1c2r 10000x_1']"
      ]
     },
     "execution_count": 5,
     "metadata": {},
     "output_type": "execute_result"
    }
   ],
   "source": [
    "tuples_of_interest[0][0].split('/')"
   ]
  },
  {
   "cell_type": "code",
   "execution_count": 6,
   "metadata": {},
   "outputs": [],
   "source": [
    "#create non general dictionary to map '_#' suffixes on microscope picture folders to well names\n",
    "#this will need to be updated when you have a new experiment with new well maps etc.\n",
    "\n",
    "num = ['1', '2', '3', '4', '5', '6', '7', '8', '9', '10', '11', '12']\n",
    "let = ['A', 'B', 'C', 'D', 'E', 'F', 'G', 'H']\n",
    "wells = [l+n for l in let for n in num]\n",
    "suff = [str(x) for x in list(range(1,len(wells)+1))]\n",
    "\n",
    "rename = {s:w for s,w in zip(suff, wells)}"
   ]
  },
  {
   "cell_type": "code",
   "execution_count": 9,
   "metadata": {},
   "outputs": [
    {
     "name": "stdout",
     "output_type": "stream",
     "text": [
      "a1 1\n"
     ]
    },
    {
     "ename": "NameError",
     "evalue": "name 'time' is not defined",
     "output_type": "error",
     "traceback": [
      "\u001b[1;31m---------------------------------------------------------------------------\u001b[0m",
      "\u001b[1;31mNameError\u001b[0m                                 Traceback (most recent call last)",
      "\u001b[1;32m<ipython-input-9-5dd4ab457aed>\u001b[0m in \u001b[0;36m<module>\u001b[1;34m\u001b[0m\n\u001b[0;32m      5\u001b[0m \u001b[1;32mfor\u001b[0m \u001b[0mt\u001b[0m \u001b[1;32min\u001b[0m \u001b[0mtuples_of_interest\u001b[0m\u001b[1;33m:\u001b[0m\u001b[1;33m\u001b[0m\u001b[1;33m\u001b[0m\u001b[0m\n\u001b[0;32m      6\u001b[0m     \u001b[0mprint\u001b[0m\u001b[1;33m(\u001b[0m\u001b[0mt\u001b[0m\u001b[1;33m[\u001b[0m\u001b[1;36m0\u001b[0m\u001b[1;33m]\u001b[0m\u001b[1;33m.\u001b[0m\u001b[0msplit\u001b[0m\u001b[1;33m(\u001b[0m\u001b[1;34m'/'\u001b[0m\u001b[1;33m)\u001b[0m\u001b[1;33m[\u001b[0m\u001b[1;33m-\u001b[0m\u001b[1;36m1\u001b[0m\u001b[1;33m]\u001b[0m\u001b[1;33m[\u001b[0m\u001b[1;33m:\u001b[0m\u001b[1;36m4\u001b[0m\u001b[1;33m]\u001b[0m\u001b[1;33m)\u001b[0m\u001b[1;33m\u001b[0m\u001b[1;33m\u001b[0m\u001b[0m\n\u001b[1;32m----> 7\u001b[1;33m     \u001b[1;32mif\u001b[0m \u001b[0mt\u001b[0m\u001b[1;33m[\u001b[0m\u001b[1;36m0\u001b[0m\u001b[1;33m]\u001b[0m\u001b[1;33m.\u001b[0m\u001b[0msplit\u001b[0m\u001b[1;33m(\u001b[0m\u001b[1;34m'/'\u001b[0m\u001b[1;33m)\u001b[0m\u001b[1;33m[\u001b[0m\u001b[1;33m-\u001b[0m\u001b[1;36m1\u001b[0m\u001b[1;33m]\u001b[0m\u001b[1;33m[\u001b[0m\u001b[1;33m:\u001b[0m\u001b[1;36m4\u001b[0m\u001b[1;33m]\u001b[0m \u001b[1;33m==\u001b[0m \u001b[0mtime\u001b[0m\u001b[1;33m:\u001b[0m\u001b[1;33m\u001b[0m\u001b[1;33m\u001b[0m\u001b[0m\n\u001b[0m\u001b[0;32m      8\u001b[0m         \u001b[0mdirectories\u001b[0m\u001b[1;33m.\u001b[0m\u001b[0mappend\u001b[0m\u001b[1;33m(\u001b[0m\u001b[0mt\u001b[0m\u001b[1;33m[\u001b[0m\u001b[1;36m0\u001b[0m\u001b[1;33m]\u001b[0m\u001b[1;33m)\u001b[0m\u001b[1;33m\u001b[0m\u001b[1;33m\u001b[0m\u001b[0m\n",
      "\u001b[1;31mNameError\u001b[0m: name 'time' is not defined"
     ]
    }
   ],
   "source": [
    "directories = []\n",
    "\n",
    "#this step needs to be updated when the length of the time string changes\n",
    "\n",
    "for t in tuples_of_interest:\n",
    "    print(t[0].split('/')[-1][:4])\n",
    "    if t[0].split('/')[-1][:4] == time:\n",
    "        directories.append(t[0])"
   ]
  },
  {
   "cell_type": "code",
   "execution_count": 8,
   "metadata": {},
   "outputs": [
    {
     "ename": "NameError",
     "evalue": "name 'directories' is not defined",
     "output_type": "error",
     "traceback": [
      "\u001b[1;31m---------------------------------------------------------------------------\u001b[0m",
      "\u001b[1;31mNameError\u001b[0m                                 Traceback (most recent call last)",
      "\u001b[1;32m<ipython-input-8-e164b3f572a3>\u001b[0m in \u001b[0;36m<module>\u001b[1;34m\u001b[0m\n\u001b[1;32m----> 1\u001b[1;33m \u001b[1;32mfor\u001b[0m \u001b[0md\u001b[0m \u001b[1;32min\u001b[0m \u001b[0mdirectories\u001b[0m\u001b[1;33m:\u001b[0m\u001b[1;33m\u001b[0m\u001b[1;33m\u001b[0m\u001b[0m\n\u001b[0m\u001b[0;32m      2\u001b[0m \u001b[1;33m\u001b[0m\u001b[0m\n\u001b[0;32m      3\u001b[0m     \u001b[1;31m#get the number key to be replaced with a well name\u001b[0m\u001b[1;33m\u001b[0m\u001b[1;33m\u001b[0m\u001b[1;33m\u001b[0m\u001b[0m\n\u001b[0;32m      4\u001b[0m     \u001b[0morig_name\u001b[0m\u001b[1;33m,\u001b[0m \u001b[0mreplace_key\u001b[0m \u001b[1;33m=\u001b[0m \u001b[0md\u001b[0m\u001b[1;33m.\u001b[0m\u001b[0msplit\u001b[0m\u001b[1;33m(\u001b[0m\u001b[1;34m'/'\u001b[0m\u001b[1;33m)\u001b[0m\u001b[1;33m[\u001b[0m\u001b[1;33m-\u001b[0m\u001b[1;36m1\u001b[0m\u001b[1;33m]\u001b[0m\u001b[1;33m.\u001b[0m\u001b[0msplit\u001b[0m\u001b[1;33m(\u001b[0m\u001b[1;34m'_'\u001b[0m\u001b[1;33m)\u001b[0m\u001b[1;33m\u001b[0m\u001b[1;33m\u001b[0m\u001b[0m\n\u001b[0;32m      5\u001b[0m     \u001b[0mprint\u001b[0m\u001b[1;33m(\u001b[0m\u001b[0morig_name\u001b[0m\u001b[1;33m,\u001b[0m \u001b[0mreplace_key\u001b[0m\u001b[1;33m)\u001b[0m\u001b[1;33m\u001b[0m\u001b[1;33m\u001b[0m\u001b[0m\n",
      "\u001b[1;31mNameError\u001b[0m: name 'directories' is not defined"
     ]
    }
   ],
   "source": [
    "for d in directories:\n",
    "\n",
    "    #get the number key to be replaced with a well name\n",
    "    orig_name, replace_key = d.split('/')[-1].split('_')\n",
    "    print(orig_name, replace_key)\n",
    "    \n",
    "    #get the dilution factor part\n",
    "    dil_num = orig_name.split(' ')[-1]\n",
    "    print(dil_num)\n",
    "    \n",
    "    #break off the end of the directory, so we can rename that part\n",
    "    parent = d.split('/')[:-1]\n",
    "    #rebuild the parent\n",
    "    parent_tree = ''\n",
    "    for p in parent:\n",
    "        parent_tree = parent_tree + p + '/'\n",
    "    \n",
    "    #make the new name\n",
    "    new_file = parent_tree + rename[replace_key] + ' ' + time + ' ' + dil_num\n",
    "    \n",
    "    print(new_file)\n",
    "    \n",
    "#     os.rename(d, new_file)"
   ]
  },
  {
   "cell_type": "markdown",
   "metadata": {},
   "source": [
    "# rename all the 'composite.tif' files with descriptive names so they can be put together for later, and so their information shows up in title bar when open in imageJ"
   ]
  },
  {
   "cell_type": "code",
   "execution_count": 6,
   "metadata": {},
   "outputs": [],
   "source": [
    "#refresh tuples of interest after changes above\n",
    "\n",
    "tuples_of_interest = get_tuples_of_interest(directory)"
   ]
  },
  {
   "cell_type": "code",
   "execution_count": 7,
   "metadata": {},
   "outputs": [
    {
     "data": {
      "text/plain": [
       "48"
      ]
     },
     "execution_count": 7,
     "metadata": {},
     "output_type": "execute_result"
    }
   ],
   "source": [
    "len(tuples_of_interest)"
   ]
  },
  {
   "cell_type": "code",
   "execution_count": 11,
   "metadata": {},
   "outputs": [
    {
     "name": "stdout",
     "output_type": "stream",
     "text": [
      "t0 1c2r 10000x_1\n",
      "['t0', '1c2r', '10000x_1']\n",
      "C:/Users/geeze/Desktop/images/t0 1c2r 10000x_1/t0_1c2r_10000x_merge.tif\n",
      "t0 1c2r 1000x_1\n",
      "['t0', '1c2r', '1000x_1']\n",
      "C:/Users/geeze/Desktop/images/t0 1c2r 1000x_1/t0_1c2r_1000x_merge.tif\n",
      "t0 1c2r 100x_1\n",
      "['t0', '1c2r', '100x_1']\n",
      "C:/Users/geeze/Desktop/images/t0 1c2r 100x_1/t0_1c2r_100x_merge.tif\n",
      "t0 1c2r 10x_1\n",
      "['t0', '1c2r', '10x_1']\n",
      "C:/Users/geeze/Desktop/images/t0 1c2r 10x_1/t0_1c2r_10x_merge.tif\n",
      "t0 1c2y 10000x_1\n",
      "['t0', '1c2y', '10000x_1']\n",
      "C:/Users/geeze/Desktop/images/t0 1c2y 10000x_1/t0_1c2y_10000x_merge.tif\n",
      "t0 1c2y 1000x_1\n",
      "['t0', '1c2y', '1000x_1']\n",
      "C:/Users/geeze/Desktop/images/t0 1c2y 1000x_1/t0_1c2y_1000x_merge.tif\n",
      "t0 1c2y 100x_1\n",
      "['t0', '1c2y', '100x_1']\n",
      "C:/Users/geeze/Desktop/images/t0 1c2y 100x_1/t0_1c2y_100x_merge.tif\n",
      "t0 1c2y 10x_1\n",
      "['t0', '1c2y', '10x_1']\n",
      "C:/Users/geeze/Desktop/images/t0 1c2y 10x_1/t0_1c2y_10x_merge.tif\n",
      "t0 2c1r 10000x_1\n",
      "['t0', '2c1r', '10000x_1']\n",
      "C:/Users/geeze/Desktop/images/t0 2c1r 10000x_1/t0_2c1r_10000x_merge.tif\n",
      "t0 2c1r 1000x_1\n",
      "['t0', '2c1r', '1000x_1']\n",
      "C:/Users/geeze/Desktop/images/t0 2c1r 1000x_1/t0_2c1r_1000x_merge.tif\n",
      "t0 2c1r 100x_1\n",
      "['t0', '2c1r', '100x_1']\n",
      "C:/Users/geeze/Desktop/images/t0 2c1r 100x_1/t0_2c1r_100x_merge.tif\n",
      "t0 2c1r 10x\n",
      "['t0', '2c1r', '10x']\n",
      "C:/Users/geeze/Desktop/images/t0 2c1r 10x/t0_2c1r_10x_merge.tif\n",
      "t0 2c1y 10000x_1\n",
      "['t0', '2c1y', '10000x_1']\n",
      "C:/Users/geeze/Desktop/images/t0 2c1y 10000x_1/t0_2c1y_10000x_merge.tif\n",
      "t0 2c1y 1000x_1\n",
      "['t0', '2c1y', '1000x_1']\n",
      "C:/Users/geeze/Desktop/images/t0 2c1y 1000x_1/t0_2c1y_1000x_merge.tif\n",
      "t0 2c1y 100x_1\n",
      "['t0', '2c1y', '100x_1']\n",
      "C:/Users/geeze/Desktop/images/t0 2c1y 100x_1/t0_2c1y_100x_merge.tif\n",
      "t0 2c1y 10x_1\n",
      "['t0', '2c1y', '10x_1']\n",
      "C:/Users/geeze/Desktop/images/t0 2c1y 10x_1/t0_2c1y_10x_merge.tif\n",
      "te 1c2r 10^4x_1\n",
      "['te', '1c2r', '10^4x_1']\n",
      "C:/Users/geeze/Desktop/images/te 1c2r 10^4x_1/te_1c2r_10^4x_merge.tif\n",
      "te 1c2r 10^5x_1\n",
      "['te', '1c2r', '10^5x_1']\n",
      "C:/Users/geeze/Desktop/images/te 1c2r 10^5x_1/te_1c2r_10^5x_merge.tif\n",
      "te 1c2r 10^6x_1\n",
      "['te', '1c2r', '10^6x_1']\n",
      "C:/Users/geeze/Desktop/images/te 1c2r 10^6x_1/te_1c2r_10^6x_merge.tif\n",
      "te 1c2r 10^7x_1\n",
      "['te', '1c2r', '10^7x_1']\n",
      "C:/Users/geeze/Desktop/images/te 1c2r 10^7x_1/te_1c2r_10^7x_merge.tif\n",
      "te 1c2y 10^4x_1\n",
      "['te', '1c2y', '10^4x_1']\n",
      "C:/Users/geeze/Desktop/images/te 1c2y 10^4x_1/te_1c2y_10^4x_merge.tif\n",
      "te 1c2y 10^5x_1\n",
      "['te', '1c2y', '10^5x_1']\n",
      "C:/Users/geeze/Desktop/images/te 1c2y 10^5x_1/te_1c2y_10^5x_merge.tif\n",
      "te 1c2y 10^6x_1\n",
      "['te', '1c2y', '10^6x_1']\n",
      "C:/Users/geeze/Desktop/images/te 1c2y 10^6x_1/te_1c2y_10^6x_merge.tif\n",
      "te 1c2y 10^7x_1\n",
      "['te', '1c2y', '10^7x_1']\n",
      "C:/Users/geeze/Desktop/images/te 1c2y 10^7x_1/te_1c2y_10^7x_merge.tif\n",
      "te 2c1r 10^4x_1\n",
      "['te', '2c1r', '10^4x_1']\n",
      "C:/Users/geeze/Desktop/images/te 2c1r 10^4x_1/te_2c1r_10^4x_merge.tif\n",
      "te 2c1r 10^5x_1\n",
      "['te', '2c1r', '10^5x_1']\n",
      "C:/Users/geeze/Desktop/images/te 2c1r 10^5x_1/te_2c1r_10^5x_merge.tif\n",
      "te 2c1r 10^6x_1\n",
      "['te', '2c1r', '10^6x_1']\n",
      "C:/Users/geeze/Desktop/images/te 2c1r 10^6x_1/te_2c1r_10^6x_merge.tif\n",
      "te 2c1r 10^7x_1\n",
      "['te', '2c1r', '10^7x_1']\n",
      "C:/Users/geeze/Desktop/images/te 2c1r 10^7x_1/te_2c1r_10^7x_merge.tif\n",
      "te 2c1y 10^4x_1\n",
      "['te', '2c1y', '10^4x_1']\n",
      "C:/Users/geeze/Desktop/images/te 2c1y 10^4x_1/te_2c1y_10^4x_merge.tif\n",
      "te 2c1y 10^5x_1\n",
      "['te', '2c1y', '10^5x_1']\n",
      "C:/Users/geeze/Desktop/images/te 2c1y 10^5x_1/te_2c1y_10^5x_merge.tif\n",
      "te 2c1y 10^6x_1\n",
      "['te', '2c1y', '10^6x_1']\n",
      "C:/Users/geeze/Desktop/images/te 2c1y 10^6x_1/te_2c1y_10^6x_merge.tif\n",
      "te 2c1y 10^7x_1\n",
      "['te', '2c1y', '10^7x_1']\n",
      "C:/Users/geeze/Desktop/images/te 2c1y 10^7x_1/te_2c1y_10^7x_merge.tif\n",
      "tef 1c2r 10^4x_1\n",
      "['tef', '1c2r', '10^4x_1']\n",
      "C:/Users/geeze/Desktop/images/tef 1c2r 10^4x_1/tef_1c2r_10^4x_merge.tif\n",
      "tef 1c2r 10^5x_1\n",
      "['tef', '1c2r', '10^5x_1']\n",
      "C:/Users/geeze/Desktop/images/tef 1c2r 10^5x_1/tef_1c2r_10^5x_merge.tif\n",
      "tef 1c2r 10^6x_1\n",
      "['tef', '1c2r', '10^6x_1']\n",
      "C:/Users/geeze/Desktop/images/tef 1c2r 10^6x_1/tef_1c2r_10^6x_merge.tif\n",
      "tef 1c2r 10^7x_1\n",
      "['tef', '1c2r', '10^7x_1']\n",
      "C:/Users/geeze/Desktop/images/tef 1c2r 10^7x_1/tef_1c2r_10^7x_merge.tif\n",
      "tef 1c2y 10^4x_1\n",
      "['tef', '1c2y', '10^4x_1']\n",
      "C:/Users/geeze/Desktop/images/tef 1c2y 10^4x_1/tef_1c2y_10^4x_merge.tif\n",
      "tef 1c2y 10^5x_1\n",
      "['tef', '1c2y', '10^5x_1']\n",
      "C:/Users/geeze/Desktop/images/tef 1c2y 10^5x_1/tef_1c2y_10^5x_merge.tif\n",
      "tef 1c2y 10^6x_1\n",
      "['tef', '1c2y', '10^6x_1']\n",
      "C:/Users/geeze/Desktop/images/tef 1c2y 10^6x_1/tef_1c2y_10^6x_merge.tif\n",
      "tef 1c2y 10^7x_1\n",
      "['tef', '1c2y', '10^7x_1']\n",
      "C:/Users/geeze/Desktop/images/tef 1c2y 10^7x_1/tef_1c2y_10^7x_merge.tif\n",
      "tef 2c1r 10^4x_1\n",
      "['tef', '2c1r', '10^4x_1']\n",
      "C:/Users/geeze/Desktop/images/tef 2c1r 10^4x_1/tef_2c1r_10^4x_merge.tif\n",
      "tef 2c1r 10^5x_1\n",
      "['tef', '2c1r', '10^5x_1']\n",
      "C:/Users/geeze/Desktop/images/tef 2c1r 10^5x_1/tef_2c1r_10^5x_merge.tif\n",
      "tef 2c1r 10^6x_1\n",
      "['tef', '2c1r', '10^6x_1']\n",
      "C:/Users/geeze/Desktop/images/tef 2c1r 10^6x_1/tef_2c1r_10^6x_merge.tif\n",
      "tef 2c1r 10^7x_1\n",
      "['tef', '2c1r', '10^7x_1']\n",
      "C:/Users/geeze/Desktop/images/tef 2c1r 10^7x_1/tef_2c1r_10^7x_merge.tif\n",
      "tef 2c1y 10^4x_1\n",
      "['tef', '2c1y', '10^4x_1']\n",
      "C:/Users/geeze/Desktop/images/tef 2c1y 10^4x_1/tef_2c1y_10^4x_merge.tif\n",
      "tef 2c1y 10^5x_1\n",
      "['tef', '2c1y', '10^5x_1']\n",
      "C:/Users/geeze/Desktop/images/tef 2c1y 10^5x_1/tef_2c1y_10^5x_merge.tif\n",
      "tef 2c1y 10^6x_1\n",
      "['tef', '2c1y', '10^6x_1']\n",
      "C:/Users/geeze/Desktop/images/tef 2c1y 10^6x_1/tef_2c1y_10^6x_merge.tif\n",
      "tef 2c1y 10^7x_1\n",
      "['tef', '2c1y', '10^7x_1']\n",
      "C:/Users/geeze/Desktop/images/tef 2c1y 10^7x_1/tef_2c1y_10^7x_merge.tif\n"
     ]
    }
   ],
   "source": [
    "for folder in tuples_of_interest:\n",
    "\n",
    "    #get the directory path\n",
    "    dir_path = folder[0]\n",
    "\n",
    "    #get the new name you want for the composite file\n",
    "    dirname = dir_path.split('/')[-1]\n",
    "    \n",
    "    print(dirname)\n",
    "\n",
    "    if ' ' in dirname:\n",
    "        name_elements = dirname.split(' ')\n",
    "        \n",
    "    print(name_elements)\n",
    "    \n",
    "    well = name_elements[0]\n",
    "    \n",
    "    #cond = name_elements[1]\n",
    "    \n",
    "    dil = name_elements[1].rstrip('_1')#.split('to')\n",
    "    dil = dil[0] + '^' + dil[1]\n",
    "    \n",
    "\n",
    "    filename = '/composite.tif'\n",
    "\n",
    "    #the existing file to rename\n",
    "    orig_path = dir_path + filename\n",
    "\n",
    "    #its new name\n",
    "    new_path = dir_path + '/{}_{}_{}_merge.tif'.format(well, cond, dil)\n",
    "    \n",
    "    print(new_path)\n",
    "\n",
    "    #some folders dont have standardized data and shouldn't be used, exclude them\n",
    "    try:\n",
    "        os.rename(orig_path, new_path)\n",
    "    except FileNotFoundError:\n",
    "        print('no composite.tif found in folder {}'.format(well_time))"
   ]
  },
  {
   "cell_type": "markdown",
   "metadata": {},
   "source": [
    "# remove the merged renamed images from their subdirectories into their parent timepoint directories"
   ]
  },
  {
   "cell_type": "code",
   "execution_count": 12,
   "metadata": {},
   "outputs": [],
   "source": [
    "#refresh tuples of interest after changes above\n",
    "\n",
    "tuples_of_interest = get_tuples_of_interest(directory)"
   ]
  },
  {
   "cell_type": "code",
   "execution_count": 14,
   "metadata": {
    "scrolled": true
   },
   "outputs": [],
   "source": [
    "for t in tuples_of_interest:\n",
    "    tree = t[0]\n",
    "    \n",
    "    files = t[2]\n",
    "    \n",
    "    m = [f for f in files if '_merge' in f]\n",
    "    \n",
    "    \n",
    "    try:\n",
    "        orig_name = tree + '/' + m[0]\n",
    "\n",
    "        ##make the new name, one directory up from orig\n",
    "        #break off the end of the directory, so we can rename that part\n",
    "        break_off = tree.split('/')[:-1]\n",
    "        #rebuild the parent\n",
    "        one_up = ''\n",
    "        for p in break_off:\n",
    "            one_up = one_up + p + '/'\n",
    "\n",
    "        new_name = one_up + m[0]\n",
    "\n",
    "        os.rename(orig_name, new_name)\n",
    "    \n",
    "    except IndexError:\n",
    "        print('could not do it for {}'.format(tree))"
   ]
  },
  {
   "cell_type": "code",
   "execution_count": 175,
   "metadata": {},
   "outputs": [],
   "source": []
  }
 ],
 "metadata": {
  "kernelspec": {
   "display_name": "Python 3",
   "language": "python",
   "name": "python3"
  },
  "language_info": {
   "codemirror_mode": {
    "name": "ipython",
    "version": 3
   },
   "file_extension": ".py",
   "mimetype": "text/x-python",
   "name": "python",
   "nbconvert_exporter": "python",
   "pygments_lexer": "ipython3",
   "version": "3.6.7"
  }
 },
 "nbformat": 4,
 "nbformat_minor": 2
}
