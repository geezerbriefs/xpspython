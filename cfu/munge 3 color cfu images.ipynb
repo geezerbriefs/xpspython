{
 "cells": [
  {
   "cell_type": "code",
   "execution_count": 11,
   "metadata": {},
   "outputs": [],
   "source": [
    "import numpy as np\n",
    "import os\n",
    "import glob\n",
    "import pandas as pd\n",
    "\n",
    "# Image processing tools\n",
    "import skimage\n",
    "import skimage.io\n",
    "import skimage.filters\n",
    "import skimage.morphology\n",
    "\n",
    "# import bokeh\n",
    "# import bokeh.io #for some reason have to separately import bokeh.io\n",
    "# bokeh.io.output_notebook()"
   ]
  },
  {
   "cell_type": "markdown",
   "metadata": {},
   "source": [
    "# rename folders to change _# into a well name"
   ]
  },
  {
   "cell_type": "code",
   "execution_count": 2,
   "metadata": {},
   "outputs": [],
   "source": [
    "def get_tuples_of_interest (dirpath):\n",
    "    \n",
    "    #get only terminal directories that will have images in them, walk also reports the parent directory its told to walk in\n",
    "    #and we want to get rid of that\n",
    "    tuples_of_interest = []\n",
    "    for entry in list(os.walk(dirpath)):\n",
    "        #if there are no subdirectories in this folder (meaning its a terminal directory that has image files in it)\n",
    "        if not entry[1]:\n",
    "            #tuples contain [0] the path for the directory, [1] any subdirectories in this one, [2] files in this directory\n",
    "            tuples_of_interest.append(entry)\n",
    "            \n",
    "    return tuples_of_interest"
   ]
  },
  {
   "cell_type": "code",
   "execution_count": 3,
   "metadata": {},
   "outputs": [],
   "source": [
    "directory = 'Z:/Reed/Projects/micro_consortia/DARPA_biocon/Task 1.1/A=B/20190725 a=b big flask/raw images/'\n",
    "\n",
    "tuples_of_interest = get_tuples_of_interest(directory)"
   ]
  },
  {
   "cell_type": "code",
   "execution_count": 4,
   "metadata": {},
   "outputs": [
    {
     "data": {
      "text/plain": [
       "96"
      ]
     },
     "execution_count": 4,
     "metadata": {},
     "output_type": "execute_result"
    }
   ],
   "source": [
    "len(tuples_of_interest)"
   ]
  },
  {
   "cell_type": "code",
   "execution_count": 11,
   "metadata": {},
   "outputs": [
    {
     "data": {
      "text/plain": [
       "['Z:',\n",
       " 'Reed',\n",
       " 'Projects',\n",
       " 'micro_consortia',\n",
       " 'DARPA_biocon',\n",
       " 'Task 1.1',\n",
       " 'A=B',\n",
       " '20190725 a=b big flask',\n",
       " '0_0-0_10000x_1']"
      ]
     },
     "execution_count": 11,
     "metadata": {},
     "output_type": "execute_result"
    }
   ],
   "source": [
    "tuples_of_interest[0][0].split('/')"
   ]
  },
  {
   "cell_type": "code",
   "execution_count": 76,
   "metadata": {},
   "outputs": [],
   "source": [
    "#create non general dictionary to map '_#' suffixes on microscope picture folders to well names\n",
    "#this will need to be updated when you have a new experiment with new well maps etc.\n",
    "\n",
    "num = ['1', '2', '3', '4']\n",
    "let = ['A', 'B', 'C', 'D', 'E', 'F', 'G', 'H']\n",
    "wells = [l+n for l in let for n in num]\n",
    "suff = [str(x) for x in list(range(1,len(wells)+1))]\n",
    "\n",
    "rename = {s:w for s,w in zip(suff, wells)}"
   ]
  },
  {
   "cell_type": "code",
   "execution_count": 77,
   "metadata": {},
   "outputs": [],
   "source": [
    "directories = []\n",
    "\n",
    "#this step needs to be updated when the length of the time string changes\n",
    "\n",
    "for t in tuples_of_interest:\n",
    "#     print(t[0].split('/')[-1][:4])\n",
    "    if t[0].split('/')[-1][:4] == time:\n",
    "        directories.append(t[0])"
   ]
  },
  {
   "cell_type": "code",
   "execution_count": 78,
   "metadata": {},
   "outputs": [
    {
     "name": "stdout",
     "output_type": "stream",
     "text": [
      "43.5 1\n",
      "43.5\n",
      "C:/Users/geeze/Desktop/43.5/A1 23 43.5\n",
      "43.5 10\n",
      "43.5\n",
      "C:/Users/geeze/Desktop/43.5/C2 23 43.5\n",
      "43.5 11\n",
      "43.5\n",
      "C:/Users/geeze/Desktop/43.5/C3 23 43.5\n",
      "43.5 12\n",
      "43.5\n",
      "C:/Users/geeze/Desktop/43.5/C4 23 43.5\n",
      "43.5 13\n",
      "43.5\n",
      "C:/Users/geeze/Desktop/43.5/D1 23 43.5\n",
      "43.5 14\n",
      "43.5\n",
      "C:/Users/geeze/Desktop/43.5/D2 23 43.5\n",
      "43.5 15\n",
      "43.5\n",
      "C:/Users/geeze/Desktop/43.5/D3 23 43.5\n",
      "43.5 16\n",
      "43.5\n",
      "C:/Users/geeze/Desktop/43.5/D4 23 43.5\n",
      "43.5 17\n",
      "43.5\n",
      "C:/Users/geeze/Desktop/43.5/E1 23 43.5\n",
      "43.5 18\n",
      "43.5\n",
      "C:/Users/geeze/Desktop/43.5/E2 23 43.5\n",
      "43.5 19\n",
      "43.5\n",
      "C:/Users/geeze/Desktop/43.5/E3 23 43.5\n",
      "43.5 2\n",
      "43.5\n",
      "C:/Users/geeze/Desktop/43.5/A2 23 43.5\n",
      "43.5 20\n",
      "43.5\n",
      "C:/Users/geeze/Desktop/43.5/E4 23 43.5\n",
      "43.5 21\n",
      "43.5\n",
      "C:/Users/geeze/Desktop/43.5/F1 23 43.5\n",
      "43.5 22\n",
      "43.5\n",
      "C:/Users/geeze/Desktop/43.5/F2 23 43.5\n",
      "43.5 23\n",
      "43.5\n",
      "C:/Users/geeze/Desktop/43.5/F3 23 43.5\n",
      "43.5 24\n",
      "43.5\n",
      "C:/Users/geeze/Desktop/43.5/F4 23 43.5\n",
      "43.5 25\n",
      "43.5\n",
      "C:/Users/geeze/Desktop/43.5/G1 23 43.5\n",
      "43.5 26\n",
      "43.5\n",
      "C:/Users/geeze/Desktop/43.5/G2 23 43.5\n",
      "43.5 27\n",
      "43.5\n",
      "C:/Users/geeze/Desktop/43.5/G3 23 43.5\n",
      "43.5 28\n",
      "43.5\n",
      "C:/Users/geeze/Desktop/43.5/G4 23 43.5\n",
      "43.5 29\n",
      "43.5\n",
      "C:/Users/geeze/Desktop/43.5/H1 23 43.5\n",
      "43.5 3\n",
      "43.5\n",
      "C:/Users/geeze/Desktop/43.5/A3 23 43.5\n",
      "43.5 30\n",
      "43.5\n",
      "C:/Users/geeze/Desktop/43.5/H2 23 43.5\n",
      "43.5 31\n",
      "43.5\n",
      "C:/Users/geeze/Desktop/43.5/H3 23 43.5\n",
      "43.5 32\n",
      "43.5\n",
      "C:/Users/geeze/Desktop/43.5/H4 23 43.5\n",
      "43.5 4\n",
      "43.5\n",
      "C:/Users/geeze/Desktop/43.5/A4 23 43.5\n",
      "43.5 5\n",
      "43.5\n",
      "C:/Users/geeze/Desktop/43.5/B1 23 43.5\n",
      "43.5 6\n",
      "43.5\n",
      "C:/Users/geeze/Desktop/43.5/B2 23 43.5\n",
      "43.5 7\n",
      "43.5\n",
      "C:/Users/geeze/Desktop/43.5/B3 23 43.5\n",
      "43.5 8\n",
      "43.5\n",
      "C:/Users/geeze/Desktop/43.5/B4 23 43.5\n",
      "43.5 9\n",
      "43.5\n",
      "C:/Users/geeze/Desktop/43.5/C1 23 43.5\n"
     ]
    }
   ],
   "source": [
    "for d in directories:\n",
    "\n",
    "    #get the number key to be replaced with a well name\n",
    "    orig_name, replace_key = d.split('/')[-1].split('_')\n",
    "    print(orig_name, replace_key)\n",
    "    \n",
    "    #get the dilution factor part\n",
    "    dil_num = orig_name.split(' ')[-1]\n",
    "    print(dil_num)\n",
    "    \n",
    "    #break off the end of the directory, so we can rename that part\n",
    "    parent = d.split('/')[:-1]\n",
    "    #rebuild the parent\n",
    "    parent_tree = ''\n",
    "    for p in parent:\n",
    "        parent_tree = parent_tree + p + '/'\n",
    "    \n",
    "    #make the new name\n",
    "    new_file = parent_tree + rename[replace_key] + ' ' + time + ' ' + dil_num\n",
    "    \n",
    "    print(new_file)\n",
    "    \n",
    "    os.rename(d, new_file)"
   ]
  },
  {
   "cell_type": "markdown",
   "metadata": {},
   "source": [
    "# rename all the 'composite.tif' files with descriptive names so they can be put together for later, and so their information shows up in title bar when open in imageJ"
   ]
  },
  {
   "cell_type": "code",
   "execution_count": 5,
   "metadata": {},
   "outputs": [],
   "source": [
    "#refresh tuples of interest after changes above\n",
    "\n",
    "tuples_of_interest = get_tuples_of_interest(directory)"
   ]
  },
  {
   "cell_type": "code",
   "execution_count": 6,
   "metadata": {},
   "outputs": [
    {
     "data": {
      "text/plain": [
       "96"
      ]
     },
     "execution_count": 6,
     "metadata": {},
     "output_type": "execute_result"
    }
   ],
   "source": [
    "len(tuples_of_interest)"
   ]
  },
  {
   "cell_type": "code",
   "execution_count": 8,
   "metadata": {},
   "outputs": [],
   "source": [
    "for folder in tuples_of_interest:\n",
    "\n",
    "    #get the directory path\n",
    "    dir_path = folder[0]\n",
    "\n",
    "    #get the new name you want for the composite file\n",
    "    dirname = dir_path.split('/')[-1]\n",
    "\n",
    "    if '_' in dirname:\n",
    "        name_elements = dirname.split('_')\n",
    "        \n",
    "    time = name_elements[0]\n",
    "    iptg = name_elements[1].split('-')[0]\n",
    "    sal = name_elements[1].split('-')[1]\n",
    "    dil = name_elements[2].strip('x')\n",
    "\n",
    "    filename = '/composite.tif'\n",
    "\n",
    "    #the existing file to rename\n",
    "    orig_path = dir_path + filename\n",
    "\n",
    "    #its new name\n",
    "    new_path = dir_path + '/t{}i{}s{}d{}_merge.tif'.format(time, iptg, sal, dil)\n",
    "\n",
    "    #some folders dont have standardized data and shouldn't be used, exclude them\n",
    "    try:\n",
    "        os.rename(orig_path, new_path)\n",
    "    except FileNotFoundError:\n",
    "        print('no composite.tif found in folder {}'.format(well_time))"
   ]
  },
  {
   "cell_type": "markdown",
   "metadata": {},
   "source": [
    "# remove the merged renamed images from their subdirectories into their parent timepoint directories"
   ]
  },
  {
   "cell_type": "code",
   "execution_count": 40,
   "metadata": {},
   "outputs": [],
   "source": [
    "#refresh tuples of interest after changes above\n",
    "\n",
    "tuples_of_interest = get_tuples_of_interest(directory)"
   ]
  },
  {
   "cell_type": "code",
   "execution_count": 41,
   "metadata": {
    "scrolled": true
   },
   "outputs": [],
   "source": [
    "for t in tuples_of_interest:\n",
    "    tree = t[0]\n",
    "    \n",
    "    files = t[2]\n",
    "    \n",
    "    m = [f for f in files if '_merge' in f]\n",
    "    \n",
    "    \n",
    "    try:\n",
    "        orig_name = tree + '/' + m[0]\n",
    "\n",
    "        ##make the new name, one directory up from orig\n",
    "        #break off the end of the directory, so we can rename that part\n",
    "        break_off = tree.split('/')[:-1]\n",
    "        #rebuild the parent\n",
    "        one_up = ''\n",
    "        for p in break_off:\n",
    "            one_up = one_up + p + '/'\n",
    "\n",
    "        new_name = one_up + m[0]\n",
    "\n",
    "        os.rename(orig_name, new_name)\n",
    "    \n",
    "    except IndexError:\n",
    "        print('could not do it for {}'.format(tree))"
   ]
  },
  {
   "cell_type": "code",
   "execution_count": 175,
   "metadata": {},
   "outputs": [],
   "source": []
  }
 ],
 "metadata": {
  "kernelspec": {
   "display_name": "Python 3",
   "language": "python",
   "name": "python3"
  },
  "language_info": {
   "codemirror_mode": {
    "name": "ipython",
    "version": 3
   },
   "file_extension": ".py",
   "mimetype": "text/x-python",
   "name": "python",
   "nbconvert_exporter": "python",
   "pygments_lexer": "ipython3",
   "version": "3.6.7"
  }
 },
 "nbformat": 4,
 "nbformat_minor": 2
}
