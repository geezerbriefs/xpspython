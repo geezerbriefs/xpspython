{
 "cells": [
  {
   "cell_type": "code",
   "execution_count": 294,
   "metadata": {},
   "outputs": [],
   "source": [
    "import numpy as np\n",
    "import pandas as pd\n",
    "\n",
    "import matplotlib.pyplot as plt\n",
    "import seaborn as sns\n",
    "\n",
    "#get all the files from your experiment\n",
    "import glob\n",
    "\n",
    "#deal with the .fcs file format\n",
    "import fcsparser"
   ]
  },
  {
   "cell_type": "markdown",
   "metadata": {},
   "source": [
    "## Use glob to get all the fcs files you want to deal with"
   ]
  },
  {
   "cell_type": "code",
   "execution_count": 295,
   "metadata": {},
   "outputs": [],
   "source": [
    "path = '../Local Data/20181009 top 4 A B cell vars A=B flow samples/10min'\n",
    "\n",
    "#get all the .fcs files in the directory (doesn't walk down directories to aggregate all further along dir tree)\n",
    "allfcs = glob.glob(path + '/*.fcs')"
   ]
  },
  {
   "cell_type": "code",
   "execution_count": 296,
   "metadata": {},
   "outputs": [
    {
     "data": {
      "text/plain": [
       "['../Local Data/20181009 top 4 A B cell vars A=B flow samples/10min\\\\bfp-RDM2018-10-23.0001.fcs',\n",
       " '../Local Data/20181009 top 4 A B cell vars A=B flow samples/10min\\\\bfpfinal-RDM2018-10-23.0001.fcs',\n",
       " '../Local Data/20181009 top 4 A B cell vars A=B flow samples/10min\\\\blank-RDM2018-10-23.0001.fcs',\n",
       " '../Local Data/20181009 top 4 A B cell vars A=B flow samples/10min\\\\blank10k-RDM2018-10-23.0001.fcs',\n",
       " '../Local Data/20181009 top 4 A B cell vars A=B flow samples/10min\\\\blankfinal-RDM2018-10-23.0001.fcs',\n",
       " '../Local Data/20181009 top 4 A B cell vars A=B flow samples/10min\\\\DI-RDM2018-10-23.0001.fcs',\n",
       " '../Local Data/20181009 top 4 A B cell vars A=B flow samples/10min\\\\preplateDI-RDM2018-10-23.0001.fcs',\n",
       " '../Local Data/20181009 top 4 A B cell vars A=B flow samples/10min\\\\RDM2018-10-23.0001.fcs',\n",
       " '../Local Data/20181009 top 4 A B cell vars A=B flow samples/10min\\\\RDM2018-10-23.0002.fcs']"
      ]
     },
     "execution_count": 296,
     "metadata": {},
     "output_type": "execute_result"
    }
   ],
   "source": [
    "allfcs[0:9]"
   ]
  },
  {
   "cell_type": "code",
   "execution_count": 297,
   "metadata": {},
   "outputs": [],
   "source": [
    "#ugly nested list comprehension to get all the non control files\n",
    "\n",
    "#using list comprehensionn to exclude files that have ctrl information in them\n",
    "expfcs = [c for c in \n",
    " [b for b in \n",
    "  [a for a in \n",
    "   [s for s in allfcs if 'bfp' not in s]\n",
    "  if 'yfp' not in a]\n",
    " if 'DI' not in b]\n",
    "if 'blank' not in c]\n",
    "\n",
    "#nicer way to use previous list to get ctrls out of allfcs\n",
    "\n",
    "ctrlfcs = [d for d in allfcs if d not in expfcs]\n",
    "\n",
    "finalctrlfcs = [f for f in ctrlfcs if 'final' in f]"
   ]
  },
  {
   "cell_type": "code",
   "execution_count": 298,
   "metadata": {},
   "outputs": [],
   "source": [
    "#I created an excel file that correlates fcs file number to well and volume flowed\n",
    "ids = pd.read_excel('../Local Data/20181009 top 4 A B cell vars A=B flow samples/10min/fcs num to well ID.xlsx', dtype=str)"
   ]
  },
  {
   "cell_type": "code",
   "execution_count": 299,
   "metadata": {},
   "outputs": [
    {
     "data": {
      "text/html": [
       "<div>\n",
       "<style scoped>\n",
       "    .dataframe tbody tr th:only-of-type {\n",
       "        vertical-align: middle;\n",
       "    }\n",
       "\n",
       "    .dataframe tbody tr th {\n",
       "        vertical-align: top;\n",
       "    }\n",
       "\n",
       "    .dataframe thead th {\n",
       "        text-align: right;\n",
       "    }\n",
       "</style>\n",
       "<table border=\"1\" class=\"dataframe\">\n",
       "  <thead>\n",
       "    <tr style=\"text-align: right;\">\n",
       "      <th></th>\n",
       "      <th>fcs num</th>\n",
       "      <th>well</th>\n",
       "      <th>vol</th>\n",
       "    </tr>\n",
       "  </thead>\n",
       "  <tbody>\n",
       "    <tr>\n",
       "      <th>0</th>\n",
       "      <td>0001</td>\n",
       "      <td>BAD</td>\n",
       "      <td>x</td>\n",
       "    </tr>\n",
       "    <tr>\n",
       "      <th>1</th>\n",
       "      <td>0002</td>\n",
       "      <td>A1</td>\n",
       "      <td>x</td>\n",
       "    </tr>\n",
       "    <tr>\n",
       "      <th>2</th>\n",
       "      <td>0003</td>\n",
       "      <td>B1</td>\n",
       "      <td>x</td>\n",
       "    </tr>\n",
       "    <tr>\n",
       "      <th>3</th>\n",
       "      <td>0004</td>\n",
       "      <td>C1</td>\n",
       "      <td>x</td>\n",
       "    </tr>\n",
       "    <tr>\n",
       "      <th>4</th>\n",
       "      <td>0005</td>\n",
       "      <td>D1</td>\n",
       "      <td>x</td>\n",
       "    </tr>\n",
       "    <tr>\n",
       "      <th>5</th>\n",
       "      <td>0006</td>\n",
       "      <td>E1</td>\n",
       "      <td>x</td>\n",
       "    </tr>\n",
       "    <tr>\n",
       "      <th>6</th>\n",
       "      <td>0007</td>\n",
       "      <td>BAD</td>\n",
       "      <td>x</td>\n",
       "    </tr>\n",
       "    <tr>\n",
       "      <th>7</th>\n",
       "      <td>0008</td>\n",
       "      <td>F1</td>\n",
       "      <td>35</td>\n",
       "    </tr>\n",
       "    <tr>\n",
       "      <th>8</th>\n",
       "      <td>0009</td>\n",
       "      <td>G1</td>\n",
       "      <td>35</td>\n",
       "    </tr>\n",
       "    <tr>\n",
       "      <th>9</th>\n",
       "      <td>0010</td>\n",
       "      <td>H1</td>\n",
       "      <td>35</td>\n",
       "    </tr>\n",
       "    <tr>\n",
       "      <th>10</th>\n",
       "      <td>0011</td>\n",
       "      <td>A2</td>\n",
       "      <td>35</td>\n",
       "    </tr>\n",
       "  </tbody>\n",
       "</table>\n",
       "</div>"
      ],
      "text/plain": [
       "   fcs num well vol\n",
       "0     0001  BAD   x\n",
       "1     0002   A1   x\n",
       "2     0003   B1   x\n",
       "3     0004   C1   x\n",
       "4     0005   D1   x\n",
       "5     0006   E1   x\n",
       "6     0007  BAD   x\n",
       "7     0008   F1  35\n",
       "8     0009   G1  35\n",
       "9     0010   H1  35\n",
       "10    0011   A2  35"
      ]
     },
     "execution_count": 299,
     "metadata": {},
     "output_type": "execute_result"
    }
   ],
   "source": [
    "ids.head(11)"
   ]
  },
  {
   "cell_type": "code",
   "execution_count": 300,
   "metadata": {},
   "outputs": [],
   "source": [
    "#add the filename to the IDs dataframe so you can look for well and get filename for analysis\n",
    "\n",
    "#get the index and the fcs file num as a tuple.\n",
    "#I'm pretty sure if the index was noncontinuous, this would still associate correct index to fcs num entry\n",
    "for idx, num in zip(ids['fcs num'].index, ids['fcs num']):\n",
    "    \n",
    "\n",
    "    #get the list of filenames that contain the fcs num you're looking for\n",
    "    #this list should ideally be len = 1\n",
    "    fname = [f for f in expfcs if num in f]\n",
    "    \n",
    "    #this list that will be added to the 'file' column is sometimes just a string, sometimes a list with one element\n",
    "    #I want just the value inside the list\n",
    "    if len(fname) == 1:\n",
    "        add = fname[0]\n",
    "    elif len(fname) == 0:\n",
    "        add = 'NO MATCH'\n",
    "    elif len(fname) > 1:\n",
    "        add = '> 1 MATCH'\n",
    "    \n",
    "    \n",
    "    ids.loc[idx, 'file'] = add\n",
    "\n"
   ]
  },
  {
   "cell_type": "code",
   "execution_count": 301,
   "metadata": {},
   "outputs": [],
   "source": [
    "#if the value of this statement is TRUE, then there's a non-assignment or a multiple assignment of filenames\n",
    "if any((ids['file'] == 'NO MATCH') | (ids['file'] == '> 1 MATCH')):\n",
    "                            #gotta use bitwise OR, dunno why\n",
    "    print(\"there's a non-assignment or a multiple assignment of filenames!!!\")"
   ]
  },
  {
   "cell_type": "markdown",
   "metadata": {},
   "source": [
    "## use fcsparser to unpack fcs file to dataframe"
   ]
  },
  {
   "cell_type": "code",
   "execution_count": 316,
   "metadata": {},
   "outputs": [],
   "source": [
    "wellsIwant = ['C8', 'D8']"
   ]
  },
  {
   "cell_type": "markdown",
   "metadata": {},
   "source": [
    "### *need to write a gating function here to gate on the mKate (syto) channel before throwing it to kdeplot*"
   ]
  },
  {
   "cell_type": "code",
   "execution_count": 317,
   "metadata": {},
   "outputs": [
    {
     "data": {
      "image/png": "[encoded data removed]",
      "text/plain": [
       "<Figure size 504x504 with 1 Axes>"
      ]
     },
     "metadata": {
      "needs_background": "light"
     },
     "output_type": "display_data"
    }
   ],
   "source": [
    "fig, ax = plt.subplots(figsize=(7, 7))\n",
    "\n",
    "for well in wellsIwant:\n",
    "    \n",
    "    idx = ids['well'] == well\n",
    "    \n",
    "    #gotta get values, which is an array, hence the [0], to get the actual string inside the array\n",
    "    #because fcsparser only takes string input, can't deal with dataframe slices or arrays\n",
    "    path = ids.loc[idx, 'file'].values[0]\n",
    "    \n",
    "    meta, data = fcsparser.parse(path, meta_data_only=False, reformat_meta=True)\n",
    "    \n",
    "    \n",
    "    #THIS ISN'T FINAL, I WANT TO COLLECT THE VARIOUS DATAS TOGETHER IN SOME LIST OR SOMETHING\n",
    "    #FOR NOW I'M JUST DOING THIS PLOTTING ALTOGETHER IN A LOOP TO GET PLOTS\n",
    "    \n",
    "    #some of the values are negative, get rid of that \n",
    "    for col in data.columns:\n",
    "        data.loc[data[col] < 0, col] = np.nan\n",
    "        \n",
    "    sns.kdeplot(np.log10(data['GFP/FITC-A']), shade=True, ax=ax)\n",
    "    ax.legend(wellsIwant)"
   ]
  },
  {
   "cell_type": "code",
   "execution_count": 270,
   "metadata": {},
   "outputs": [
    {
     "data": {
      "text/html": [
       "<div>\n",
       "<style scoped>\n",
       "    .dataframe tbody tr th:only-of-type {\n",
       "        vertical-align: middle;\n",
       "    }\n",
       "\n",
       "    .dataframe tbody tr th {\n",
       "        vertical-align: top;\n",
       "    }\n",
       "\n",
       "    .dataframe thead th {\n",
       "        text-align: right;\n",
       "    }\n",
       "</style>\n",
       "<table border=\"1\" class=\"dataframe\">\n",
       "  <thead>\n",
       "    <tr style=\"text-align: right;\">\n",
       "      <th></th>\n",
       "      <th>HDR-T</th>\n",
       "      <th>FSC-A</th>\n",
       "      <th>SSC-A</th>\n",
       "      <th>CFP/VioBlue-A</th>\n",
       "      <th>PE-A</th>\n",
       "      <th>mKate/APC-A</th>\n",
       "      <th>GFP/FITC-A</th>\n",
       "    </tr>\n",
       "  </thead>\n",
       "  <tbody>\n",
       "    <tr>\n",
       "      <th>0</th>\n",
       "      <td>29.066689</td>\n",
       "      <td>15446.903320</td>\n",
       "      <td>2339.543701</td>\n",
       "      <td>NaN</td>\n",
       "      <td>1.258434</td>\n",
       "      <td>1304.283325</td>\n",
       "      <td>76.542618</td>\n",
       "    </tr>\n",
       "    <tr>\n",
       "      <th>1</th>\n",
       "      <td>31.174990</td>\n",
       "      <td>NaN</td>\n",
       "      <td>3261.166016</td>\n",
       "      <td>NaN</td>\n",
       "      <td>NaN</td>\n",
       "      <td>706.489685</td>\n",
       "      <td>1694.591064</td>\n",
       "    </tr>\n",
       "    <tr>\n",
       "      <th>2</th>\n",
       "      <td>35.616379</td>\n",
       "      <td>25883.492188</td>\n",
       "      <td>2960.838135</td>\n",
       "      <td>168.417252</td>\n",
       "      <td>NaN</td>\n",
       "      <td>NaN</td>\n",
       "      <td>NaN</td>\n",
       "    </tr>\n",
       "    <tr>\n",
       "      <th>3</th>\n",
       "      <td>41.390961</td>\n",
       "      <td>NaN</td>\n",
       "      <td>2640.856934</td>\n",
       "      <td>NaN</td>\n",
       "      <td>73.938362</td>\n",
       "      <td>4331.254395</td>\n",
       "      <td>30.025940</td>\n",
       "    </tr>\n",
       "    <tr>\n",
       "      <th>4</th>\n",
       "      <td>82.285851</td>\n",
       "      <td>11814.180664</td>\n",
       "      <td>1910.152710</td>\n",
       "      <td>481.378021</td>\n",
       "      <td>88.105385</td>\n",
       "      <td>NaN</td>\n",
       "      <td>NaN</td>\n",
       "    </tr>\n",
       "  </tbody>\n",
       "</table>\n",
       "</div>"
      ],
      "text/plain": [
       "       HDR-T         FSC-A        SSC-A  CFP/VioBlue-A       PE-A  \\\n",
       "0  29.066689  15446.903320  2339.543701            NaN   1.258434   \n",
       "1  31.174990           NaN  3261.166016            NaN        NaN   \n",
       "2  35.616379  25883.492188  2960.838135     168.417252        NaN   \n",
       "3  41.390961           NaN  2640.856934            NaN  73.938362   \n",
       "4  82.285851  11814.180664  1910.152710     481.378021  88.105385   \n",
       "\n",
       "   mKate/APC-A   GFP/FITC-A  \n",
       "0  1304.283325    76.542618  \n",
       "1   706.489685  1694.591064  \n",
       "2          NaN          NaN  \n",
       "3  4331.254395    30.025940  \n",
       "4          NaN          NaN  "
      ]
     },
     "execution_count": 270,
     "metadata": {},
     "output_type": "execute_result"
    }
   ],
   "source": [
    "data.head()"
   ]
  },
  {
   "cell_type": "markdown",
   "metadata": {},
   "source": [
    "## Plots"
   ]
  },
  {
   "cell_type": "markdown",
   "metadata": {},
   "source": [
    "### get something like what the MACSquant would show you"
   ]
  },
  {
   "cell_type": "code",
   "execution_count": null,
   "metadata": {},
   "outputs": [],
   "source": [
    "fig, ax = plt.subplots(figsize=(7, 7))\n",
    "\n",
    "ax.set(xscale=\"log\", yscale=\"log\")\n",
    "\n",
    "ax.set_xlim([10**-2, 10**6])\n",
    "ax.set_ylim([1, 10**6])\n",
    "\n",
    "ax.scatter(data['CFP/VioBlue-A'], data['SSC-A'], alpha=0.1, marker='o', s=1)"
   ]
  },
  {
   "cell_type": "code",
   "execution_count": null,
   "metadata": {},
   "outputs": [],
   "source": [
    "#havent figured out how to get a color coded density plot yet without using seaborn kde plot which seems to hang\n",
    "#and not generate anything"
   ]
  },
  {
   "cell_type": "markdown",
   "metadata": {},
   "source": [
    "### Get histograms"
   ]
  },
  {
   "cell_type": "code",
   "execution_count": null,
   "metadata": {},
   "outputs": [],
   "source": []
  },
  {
   "cell_type": "code",
   "execution_count": null,
   "metadata": {},
   "outputs": [],
   "source": [
    "sns.kdeplot(np.log10(data['CFP/VioBlue-A']), shade=True)\n",
    "\n",
    "#plt.xscale('log')"
   ]
  },
  {
   "cell_type": "code",
   "execution_count": 48,
   "metadata": {},
   "outputs": [
    {
     "name": "stderr",
     "output_type": "stream",
     "text": [
      "C:\\Users\\geeze\\Anaconda3\\lib\\site-packages\\ipykernel_launcher.py:1: RuntimeWarning: invalid value encountered in log10\n",
      "  \"\"\"Entry point for launching an IPython kernel.\n"
     ]
    },
    {
     "data": {
      "text/plain": [
       "<matplotlib.axes._subplots.AxesSubplot at 0x20ec853e9b0>"
      ]
     },
     "execution_count": 48,
     "metadata": {},
     "output_type": "execute_result"
    },
    {
     "data": {
      "image/png": "[encoded data removed]",
      "text/plain": [
       "<Figure size 432x288 with 1 Axes>"
      ]
     },
     "metadata": {
      "needs_background": "light"
     },
     "output_type": "display_data"
    }
   ],
   "source": [
    "sns.kdeplot(np.log10(data['GFP/FITC-A']), shade=True)\n",
    "\n",
    "#plt.xscale('log')"
   ]
  },
  {
   "cell_type": "code",
   "execution_count": null,
   "metadata": {},
   "outputs": [],
   "source": []
  }
 ],
 "metadata": {
  "kernelspec": {
   "display_name": "Python 3",
   "language": "python",
   "name": "python3"
  },
  "language_info": {
   "codemirror_mode": {
    "name": "ipython",
    "version": 3
   },
   "file_extension": ".py",
   "mimetype": "text/x-python",
   "name": "python",
   "nbconvert_exporter": "python",
   "pygments_lexer": "ipython3",
   "version": "3.6.7"
  }
 },
 "nbformat": 4,
 "nbformat_minor": 2
}
