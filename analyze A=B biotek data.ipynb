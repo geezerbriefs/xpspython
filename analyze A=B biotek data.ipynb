{
 "cells": [
  {
   "cell_type": "code",
   "execution_count": 1,
   "metadata": {},
   "outputs": [],
   "source": [
    "#workhorses\n",
    "import numpy as np\n",
    "import pandas as pd\n",
    "\n",
    "\n",
    "#plotting things\n",
    "\n",
    "#%matplotlib qt5 -- I don't know what this is\n",
    "import matplotlib.pyplot as plt\n",
    "import matplotlib as mpl\n",
    "import seaborn as sns\n",
    "\n",
    "from cycler import cycler"
   ]
  },
  {
   "cell_type": "code",
   "execution_count": 2,
   "metadata": {},
   "outputs": [],
   "source": [
    "#All of Anandh's customized seaborn/matplotlib settings\n",
    "\n",
    "sns.set_context(\"talk\", font_scale=1.5, rc={\"lines.linewidth\": 1.5})\n",
    "sns.set_style(\"ticks\")\n",
    "sns.set_style({\"xtick.direction\": \"in\",\"ytick.direction\": \"in\"})\n",
    "\n",
    "#%config InlineBackend.figure_f.ormats=['svg']\n",
    "\n",
    "mpl.rc('axes', prop_cycle=(cycler('color', ['r', 'k', 'b','g','y','m','c']) ))\n",
    "\n",
    "mpl.rcParams['pdf.fonttype'] = 42\n",
    "mpl.rcParams['ps.fonttype'] = 42\n",
    "\n",
    "#mpl.rc('text', usetex=False)\n",
    "#mpl.rc('text.latex', preamble=r'\\usepackage{helvet}\n",
    "#\\renewcommand\\familydefault{\\sfdefault}\\usepackage{sansmath}\\sansmath')\n",
    "\n",
    "    #If you want to use a different font\n",
    "# mpl.rc('font',**{'family':'sans-serif','sans-serif':['Helvetica'], \n",
    "#                  'serif': ['Helvetica']})\n",
    "\n",
    "tw = 1.5\n",
    "sns.set_style({\"xtick.major.size\": 3, \"ytick.major.size\": 3,\n",
    "               \"xtick.minor.size\": 2, \"ytick.minor.size\": 2,\n",
    "               'axes.labelsize': 16, 'axes.titlesize': 16,\n",
    "               'xtick.major.width': tw, 'xtick.minor.width': tw,\n",
    "               'ytick.major.width': tw, 'ytick.minor.width': tw})\n",
    "\n",
    "mpl.rc('xtick', labelsize=14) \n",
    "mpl.rc('ytick', labelsize=14)\n",
    "mpl.rc('axes', linewidth=1.5)\n",
    "mpl.rc('legend', fontsize=14)\n",
    "mpl.rc('figure', figsize=(9,8))"
   ]
  },
  {
   "cell_type": "code",
   "execution_count": null,
   "metadata": {},
   "outputs": [],
   "source": []
  }
 ],
 "metadata": {
  "kernelspec": {
   "display_name": "Python 3",
   "language": "python",
   "name": "python3"
  },
  "language_info": {
   "codemirror_mode": {
    "name": "ipython",
    "version": 3
   },
   "file_extension": ".py",
   "mimetype": "text/x-python",
   "name": "python",
   "nbconvert_exporter": "python",
   "pygments_lexer": "ipython3",
   "version": "3.6.5"
  }
 },
 "nbformat": 4,
 "nbformat_minor": 2
}
